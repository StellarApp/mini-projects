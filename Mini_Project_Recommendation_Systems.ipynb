{
 "cells": [
  {
   "cell_type": "markdown",
   "metadata": {
    "colab_type": "text",
    "id": "KkqlbEEvsHuw"
   },
   "source": [
    "# Recommendation Systems"
   ]
  },
  {
   "cell_type": "markdown",
   "metadata": {
    "colab_type": "text",
    "id": "JXCjew2ItepU"
   },
   "source": [
    "Companies like Amazon(books, items), Netflix(movies), Google(News,Search), and Pandora/Spotify(music) leverage recommendation systems to help users discover new and relevant items (products, videos, jobs, music), creating a delightful user experience while driving incremental revenue. \n",
    "\n",
    "The need to build robust recommendation systems is extremely important given the huge demand for personalized content of modern consumers.\n"
   ]
  },
  {
   "cell_type": "markdown",
   "metadata": {
    "colab_type": "text",
    "id": "_lc420j2uhwZ"
   },
   "source": [
    "In this assignment, you will be applying your learning of recommendation systems in this Unit towards building the following four different types of recommendation systems:\n",
    "\n",
    "1.   Global Recommendation Systems (Statistical)   \n",
    "2.   Content-based Recommendation Systems\n",
    "3.   Collaborative Filtering (User-Item) Recommendation Systems\n",
    "4.   Hybrid Recommendation Systems\n",
    "\n",
    "The focus of the mini-project here would be to build a movie recommendation system.\n"
   ]
  },
  {
   "cell_type": "markdown",
   "metadata": {
    "colab_type": "text",
    "id": "CL3nuM_Kv17_"
   },
   "source": [
    "## 1. Dataset Acquisition\n",
    "\n",
    "Following are the key descriptions of the datasets you will be using. The data used here has been compiled from various movie datasets like Netflix and IMDb.\n",
    "\n",
    "1. __Filename: `movie_titles.csv`:__\n",
    "\n",
    "  - __`MovieID`__: MovieID does not correspond to actual Netflix movie ids or IMDB movie ids\n",
    "  - __`YearOfRelease`__: YearOfRelease can range from 1890 to 2005 and may correspond to the release of corresponding DVD, not necessarily its theaterical release\n",
    "  - __`Title`__: Title is the Netflix movie title and may not correspond to titles used on other sites. Titles are in English\n",
    "\n",
    "\n",
    "2. __Combined User-Ratings Dataset Description - `combined_data.csv`:__\n",
    "\n",
    "  - The first line of the contains the movie id followed by a colon.    \n",
    "  - Each subsequent line in the file corresponds to a rating from a customer and its date in the following format:\n",
    "\n",
    "    - MovieIDs range from 1 to 17770 sequentially.\n",
    "    - CustomerIDs range from 1 to 2649429, with gaps. There are 480189 users. \n",
    "    - Ratings are on a five star (integral) scale from 1 to 5.\n",
    "    - Dates have the format YYYY-MM-DD.\n",
    "\n",
    "\n",
    "3. __Filename: `movies_metadata.csv`__\n",
    "\n",
    "The main Movies Metadata file. Contains information on 45,000 movies featured in the Full MovieLens dataset. Features include posters, backdrops, budget, revenue, release dates, languages, production countries and companies.\n"
   ]
  },
  {
   "cell_type": "markdown",
   "metadata": {
    "colab_type": "text",
    "id": "aaic3a2Cw0T5"
   },
   "source": [
    "## 2: Import Necessary Dependencies\n",
    "\n",
    "We will be leveraging __`keras`__ on top of __`tensorflow`__ for building some of the collaborative filtering and hybrid models. There are compatibility issues with handling sparse layers with dense layers till now in TensorFlow 2 hence we are leveraging native Keras but in the long run once this issue is resolved we can leverage __`tf.keras`__ with minimal code updates."
   ]
  },
  {
   "cell_type": "code",
   "execution_count": 2,
   "metadata": {
    "colab": {},
    "colab_type": "code",
    "id": "iX9t8rYaxVGh"
   },
   "outputs": [],
   "source": [
    "# filter out unncessary warnings\n",
    "import warnings\n",
    "warnings.filterwarnings('ignore')"
   ]
  },
  {
   "cell_type": "code",
   "execution_count": 3,
   "metadata": {
    "colab": {
     "base_uri": "https://localhost:8080/",
     "height": 79
    },
    "colab_type": "code",
    "id": "JGWCPwAiP7vv",
    "outputId": "a0320c9e-dfa3-49e3-bf35-2095bce263d8"
   },
   "outputs": [
    {
     "name": "stderr",
     "output_type": "stream",
     "text": [
      "Using TensorFlow backend.\n"
     ]
    }
   ],
   "source": [
    "# To store\\load the data\n",
    "import pandas as pd\n",
    "\n",
    "# To do linear algebra\n",
    "import numpy as np\n",
    "\n",
    "# To create plots\n",
    "import matplotlib.pyplot as plt\n",
    "import seaborn as sns\n",
    "\n",
    "\n",
    "# To compute similarities between vectors\n",
    "from sklearn.metrics import mean_squared_error\n",
    "from sklearn.metrics.pairwise import cosine_similarity\n",
    "from sklearn.feature_extraction.text import TfidfVectorizer\n",
    "\n",
    "# data load progress bars\n",
    "from tqdm import tqdm\n",
    "\n",
    "from collections import deque\n",
    "\n",
    "# To create deep learning models\n",
    "import tensorflow as tf\n",
    "import keras\n",
    "from keras.layers import Input, Embedding, Reshape, Dot, Concatenate, Dense, Dropout\n",
    "from keras.models import Model\n",
    "\n",
    "# To stack sparse matrices\n",
    "from scipy.sparse import vstack"
   ]
  },
  {
   "cell_type": "code",
   "execution_count": 4,
   "metadata": {
    "colab": {},
    "colab_type": "code",
    "id": "whZc1FgzyPyY"
   },
   "outputs": [],
   "source": [
    "# remove unnecessary TF logs\n",
    "import logging\n",
    "tf.get_logger().setLevel(logging.ERROR)"
   ]
  },
  {
   "cell_type": "code",
   "execution_count": 5,
   "metadata": {
    "colab": {
     "base_uri": "https://localhost:8080/",
     "height": 50
    },
    "colab_type": "code",
    "id": "Ce2tjPHPzWFd",
    "outputId": "f69dceec-26bc-44a3-b47c-5615a02ded51"
   },
   "outputs": [
    {
     "name": "stdout",
     "output_type": "stream",
     "text": [
      "TF Version: 1.15.0\n",
      "Keras Version: 2.2.5\n"
     ]
    }
   ],
   "source": [
    "# check keras and TF version used\n",
    "print('TF Version:', tf.__version__)\n",
    "print('Keras Version:', keras.__version__)\n",
    "# TF Version: 1.15.0\n",
    "# Keras Version: 2.2.5"
   ]
  },
  {
   "cell_type": "markdown",
   "metadata": {
    "colab_type": "text",
    "id": "lXXYudDD0Coy"
   },
   "source": [
    "Let's start loading data that will be used for building the recommendation systems"
   ]
  },
  {
   "cell_type": "markdown",
   "metadata": {
    "colab_type": "text",
    "id": "6FJZmUvExOYt"
   },
   "source": [
    "# 3. Load Datasets"
   ]
  },
  {
   "cell_type": "markdown",
   "metadata": {
    "colab_type": "text",
    "id": "AnAU78S7xz-H"
   },
   "source": [
    "## 3.1: Load Movie Metadata Datasets\n",
    "\n",
    "First, we will load the movie_titles.csv data from the Netflix prize data source"
   ]
  },
  {
   "cell_type": "code",
   "execution_count": 6,
   "metadata": {
    "colab": {
     "base_uri": "https://localhost:8080/",
     "height": 242
    },
    "colab_type": "code",
    "id": "tgD9whbBfcWW",
    "outputId": "4b9b02d5-13bf-4d4b-a684-2bf9420fa4da"
   },
   "outputs": [
    {
     "name": "stdout",
     "output_type": "stream",
     "text": [
      "Shape Movie-Titles:\t(17770, 2)\n"
     ]
    },
    {
     "data": {
      "text/html": [
       "<div>\n",
       "<style scoped>\n",
       "    .dataframe tbody tr th:only-of-type {\n",
       "        vertical-align: middle;\n",
       "    }\n",
       "\n",
       "    .dataframe tbody tr th {\n",
       "        vertical-align: top;\n",
       "    }\n",
       "\n",
       "    .dataframe thead th {\n",
       "        text-align: right;\n",
       "    }\n",
       "</style>\n",
       "<table border=\"1\" class=\"dataframe\">\n",
       "  <thead>\n",
       "    <tr style=\"text-align: right;\">\n",
       "      <th></th>\n",
       "      <th>Year</th>\n",
       "      <th>Name</th>\n",
       "    </tr>\n",
       "    <tr>\n",
       "      <th>Id</th>\n",
       "      <th></th>\n",
       "      <th></th>\n",
       "    </tr>\n",
       "  </thead>\n",
       "  <tbody>\n",
       "    <tr>\n",
       "      <th>5305</th>\n",
       "      <td>1993.0</td>\n",
       "      <td>Judgment Night</td>\n",
       "    </tr>\n",
       "    <tr>\n",
       "      <th>6402</th>\n",
       "      <td>1982.0</td>\n",
       "      <td>Penitentiary 2</td>\n",
       "    </tr>\n",
       "    <tr>\n",
       "      <th>2046</th>\n",
       "      <td>2001.0</td>\n",
       "      <td>Invincible</td>\n",
       "    </tr>\n",
       "    <tr>\n",
       "      <th>17494</th>\n",
       "      <td>1986.0</td>\n",
       "      <td>F/X</td>\n",
       "    </tr>\n",
       "    <tr>\n",
       "      <th>17545</th>\n",
       "      <td>2003.0</td>\n",
       "      <td>Heart</td>\n",
       "    </tr>\n",
       "  </tbody>\n",
       "</table>\n",
       "</div>"
      ],
      "text/plain": [
       "         Year            Name\n",
       "Id                           \n",
       "5305   1993.0  Judgment Night\n",
       "6402   1982.0  Penitentiary 2\n",
       "2046   2001.0      Invincible\n",
       "17494  1986.0             F/X\n",
       "17545  2003.0           Heart"
      ]
     },
     "execution_count": 6,
     "metadata": {},
     "output_type": "execute_result"
    }
   ],
   "source": [
    "# Load data for all movies\n",
    "movie_titles = pd.read_csv('./data/movie_titles.csv', \n",
    "                           encoding = 'ISO-8859-1', \n",
    "                           header = None, \n",
    "                           names = ['Id', 'Year', 'Name']).set_index('Id')\n",
    "\n",
    "print('Shape Movie-Titles:\\t{}'.format(movie_titles.shape))\n",
    "movie_titles.sample(5)"
   ]
  },
  {
   "cell_type": "code",
   "execution_count": 6,
   "metadata": {},
   "outputs": [
    {
     "data": {
      "text/plain": [
       "(17770, 2)"
      ]
     },
     "execution_count": 6,
     "metadata": {},
     "output_type": "execute_result"
    }
   ],
   "source": [
    "movie_titles.shape"
   ]
  },
  {
   "cell_type": "code",
   "execution_count": 7,
   "metadata": {},
   "outputs": [
    {
     "data": {
      "text/html": [
       "<div>\n",
       "<style scoped>\n",
       "    .dataframe tbody tr th:only-of-type {\n",
       "        vertical-align: middle;\n",
       "    }\n",
       "\n",
       "    .dataframe tbody tr th {\n",
       "        vertical-align: top;\n",
       "    }\n",
       "\n",
       "    .dataframe thead th {\n",
       "        text-align: right;\n",
       "    }\n",
       "</style>\n",
       "<table border=\"1\" class=\"dataframe\">\n",
       "  <thead>\n",
       "    <tr style=\"text-align: right;\">\n",
       "      <th></th>\n",
       "      <th>Year</th>\n",
       "      <th>Name</th>\n",
       "    </tr>\n",
       "    <tr>\n",
       "      <th>Id</th>\n",
       "      <th></th>\n",
       "      <th></th>\n",
       "    </tr>\n",
       "  </thead>\n",
       "  <tbody>\n",
       "    <tr>\n",
       "      <th>13673</th>\n",
       "      <td>1995.0</td>\n",
       "      <td>Toy Story</td>\n",
       "    </tr>\n",
       "  </tbody>\n",
       "</table>\n",
       "</div>"
      ],
      "text/plain": [
       "         Year       Name\n",
       "Id                      \n",
       "13673  1995.0  Toy Story"
      ]
     },
     "execution_count": 7,
     "metadata": {},
     "output_type": "execute_result"
    }
   ],
   "source": [
    "movie_titles[movie_titles.Name =='Toy Story']"
   ]
  },
  {
   "cell_type": "code",
   "execution_count": 8,
   "metadata": {},
   "outputs": [
    {
     "data": {
      "text/plain": [
       "Year               1973\n",
       "Name    Charlotte's Web\n",
       "Name: 257, dtype: object"
      ]
     },
     "execution_count": 8,
     "metadata": {},
     "output_type": "execute_result"
    }
   ],
   "source": [
    "movie_titles.loc[257]"
   ]
  },
  {
   "cell_type": "markdown",
   "metadata": {
    "colab_type": "text",
    "id": "SYafEzcYxa09"
   },
   "source": [
    "There are approximately 18000 movies in the ratings dataset and the metadata information includes the year of release and movie title"
   ]
  },
  {
   "cell_type": "markdown",
   "metadata": {
    "colab_type": "text",
    "id": "aE4QaObcyAup"
   },
   "source": [
    "Next, we will load the movie_metadata.csv from The movies dataset source. This is to get the metadata information like description etc. related to each movie."
   ]
  },
  {
   "cell_type": "code",
   "execution_count": 7,
   "metadata": {
    "colab": {
     "base_uri": "https://localhost:8080/",
     "height": 242
    },
    "colab_type": "code",
    "id": "WWig4ePBqGSD",
    "outputId": "3dff280d-bb3e-4701-b0fb-ced2eecbee1b"
   },
   "outputs": [
    {
     "data": {
      "text/plain": [
       "(44506, 2)"
      ]
     },
     "execution_count": 7,
     "metadata": {},
     "output_type": "execute_result"
    }
   ],
   "source": [
    "# Load a movie metadata dataset\n",
    "movie_metadata = (pd.read_csv('./data/movies_metadata.csv', \n",
    "                              low_memory=False)[['original_title', 'overview', 'vote_count']]\n",
    "                    .set_index('original_title')\n",
    "                    .dropna())\n",
    "movie_metadata.shape"
   ]
  },
  {
   "cell_type": "code",
   "execution_count": 10,
   "metadata": {},
   "outputs": [
    {
     "data": {
      "text/html": [
       "<div>\n",
       "<style scoped>\n",
       "    .dataframe tbody tr th:only-of-type {\n",
       "        vertical-align: middle;\n",
       "    }\n",
       "\n",
       "    .dataframe tbody tr th {\n",
       "        vertical-align: top;\n",
       "    }\n",
       "\n",
       "    .dataframe thead th {\n",
       "        text-align: right;\n",
       "    }\n",
       "</style>\n",
       "<table border=\"1\" class=\"dataframe\">\n",
       "  <thead>\n",
       "    <tr style=\"text-align: right;\">\n",
       "      <th></th>\n",
       "      <th>overview</th>\n",
       "      <th>vote_count</th>\n",
       "    </tr>\n",
       "    <tr>\n",
       "      <th>original_title</th>\n",
       "      <th></th>\n",
       "      <th></th>\n",
       "    </tr>\n",
       "  </thead>\n",
       "  <tbody>\n",
       "    <tr>\n",
       "      <th>Toy Story</th>\n",
       "      <td>Led by Woody, Andy's toys live happily in his ...</td>\n",
       "      <td>5415.0</td>\n",
       "    </tr>\n",
       "    <tr>\n",
       "      <th>Jumanji</th>\n",
       "      <td>When siblings Judy and Peter discover an encha...</td>\n",
       "      <td>2413.0</td>\n",
       "    </tr>\n",
       "    <tr>\n",
       "      <th>Grumpier Old Men</th>\n",
       "      <td>A family wedding reignites the ancient feud be...</td>\n",
       "      <td>92.0</td>\n",
       "    </tr>\n",
       "    <tr>\n",
       "      <th>Waiting to Exhale</th>\n",
       "      <td>Cheated on, mistreated and stepped on, the wom...</td>\n",
       "      <td>34.0</td>\n",
       "    </tr>\n",
       "    <tr>\n",
       "      <th>Father of the Bride Part II</th>\n",
       "      <td>Just when George Banks has recovered from his ...</td>\n",
       "      <td>173.0</td>\n",
       "    </tr>\n",
       "  </tbody>\n",
       "</table>\n",
       "</div>"
      ],
      "text/plain": [
       "                                                                      overview  \\\n",
       "original_title                                                                   \n",
       "Toy Story                    Led by Woody, Andy's toys live happily in his ...   \n",
       "Jumanji                      When siblings Judy and Peter discover an encha...   \n",
       "Grumpier Old Men             A family wedding reignites the ancient feud be...   \n",
       "Waiting to Exhale            Cheated on, mistreated and stepped on, the wom...   \n",
       "Father of the Bride Part II  Just when George Banks has recovered from his ...   \n",
       "\n",
       "                             vote_count  \n",
       "original_title                           \n",
       "Toy Story                        5415.0  \n",
       "Jumanji                          2413.0  \n",
       "Grumpier Old Men                   92.0  \n",
       "Waiting to Exhale                  34.0  \n",
       "Father of the Bride Part II       173.0  "
      ]
     },
     "execution_count": 10,
     "metadata": {},
     "output_type": "execute_result"
    }
   ],
   "source": [
    "movie_metadata.head()"
   ]
  },
  {
   "cell_type": "code",
   "execution_count": 7,
   "metadata": {},
   "outputs": [
    {
     "name": "stdout",
     "output_type": "stream",
     "text": [
      "Shape Movie-Metadata:\t(21604, 1)\n"
     ]
    },
    {
     "data": {
      "text/html": [
       "<div>\n",
       "<style scoped>\n",
       "    .dataframe tbody tr th:only-of-type {\n",
       "        vertical-align: middle;\n",
       "    }\n",
       "\n",
       "    .dataframe tbody tr th {\n",
       "        vertical-align: top;\n",
       "    }\n",
       "\n",
       "    .dataframe thead th {\n",
       "        text-align: right;\n",
       "    }\n",
       "</style>\n",
       "<table border=\"1\" class=\"dataframe\">\n",
       "  <thead>\n",
       "    <tr style=\"text-align: right;\">\n",
       "      <th></th>\n",
       "      <th>overview</th>\n",
       "    </tr>\n",
       "    <tr>\n",
       "      <th>original_title</th>\n",
       "      <th></th>\n",
       "    </tr>\n",
       "  </thead>\n",
       "  <tbody>\n",
       "    <tr>\n",
       "      <th>Con Air</th>\n",
       "      <td>When the government puts all its rotten crimin...</td>\n",
       "    </tr>\n",
       "    <tr>\n",
       "      <th>Письма мёртвого человека</th>\n",
       "      <td>In a world after the nuclear apocalypse a scho...</td>\n",
       "    </tr>\n",
       "    <tr>\n",
       "      <th>The Ex</th>\n",
       "      <td>When his lawyer wife, Sofia, becomes pregnant,...</td>\n",
       "    </tr>\n",
       "    <tr>\n",
       "      <th>That Thing You Do!</th>\n",
       "      <td>A Pennsylvania band scores a hit in 1964 and r...</td>\n",
       "    </tr>\n",
       "    <tr>\n",
       "      <th>Kumaré</th>\n",
       "      <td>A documentary about a man who impersonates a w...</td>\n",
       "    </tr>\n",
       "  </tbody>\n",
       "</table>\n",
       "</div>"
      ],
      "text/plain": [
       "                                                                   overview\n",
       "original_title                                                             \n",
       "Con Air                   When the government puts all its rotten crimin...\n",
       "Письма мёртвого человека  In a world after the nuclear apocalypse a scho...\n",
       "The Ex                    When his lawyer wife, Sofia, becomes pregnant,...\n",
       "That Thing You Do!        A Pennsylvania band scores a hit in 1964 and r...\n",
       "Kumaré                    A documentary about a man who impersonates a w..."
      ]
     },
     "execution_count": 7,
     "metadata": {},
     "output_type": "execute_result"
    }
   ],
   "source": [
    "# Remove the long tail of rarly rated moves\n",
    "movie_metadata = movie_metadata[movie_metadata['vote_count']>10].drop('vote_count', axis=1)\n",
    "\n",
    "print('Shape Movie-Metadata:\\t{}'.format(movie_metadata.shape))\n",
    "movie_metadata.sample(5)"
   ]
  },
  {
   "cell_type": "markdown",
   "metadata": {
    "colab_type": "text",
    "id": "dElmRUSWyYoh"
   },
   "source": [
    "Around 21,000 entries in the movies metadata dataset"
   ]
  },
  {
   "cell_type": "markdown",
   "metadata": {
    "colab_type": "text",
    "id": "XJ3cHW1eyhwR"
   },
   "source": [
    "## 3.2: Load User-Movie-Rating Dataset"
   ]
  },
  {
   "cell_type": "code",
   "execution_count": 8,
   "metadata": {
    "colab": {
     "base_uri": "https://localhost:8080/",
     "height": 360
    },
    "colab_type": "code",
    "id": "4s_qbrIhqW31",
    "outputId": "b9505c13-e21e-4cf2-837d-5410394b7655"
   },
   "outputs": [
    {
     "name": "stdout",
     "output_type": "stream",
     "text": [
      "Shape User-Ratings:\t(24053764, 4)\n"
     ]
    },
    {
     "data": {
      "text/html": [
       "<div>\n",
       "<style scoped>\n",
       "    .dataframe tbody tr th:only-of-type {\n",
       "        vertical-align: middle;\n",
       "    }\n",
       "\n",
       "    .dataframe tbody tr th {\n",
       "        vertical-align: top;\n",
       "    }\n",
       "\n",
       "    .dataframe thead th {\n",
       "        text-align: right;\n",
       "    }\n",
       "</style>\n",
       "<table border=\"1\" class=\"dataframe\">\n",
       "  <thead>\n",
       "    <tr style=\"text-align: right;\">\n",
       "      <th></th>\n",
       "      <th>User</th>\n",
       "      <th>Rating</th>\n",
       "      <th>Date</th>\n",
       "      <th>Movie</th>\n",
       "    </tr>\n",
       "  </thead>\n",
       "  <tbody>\n",
       "    <tr>\n",
       "      <th>10535699</th>\n",
       "      <td>239892</td>\n",
       "      <td>4.0</td>\n",
       "      <td>2005-07-18</td>\n",
       "      <td>2057</td>\n",
       "    </tr>\n",
       "    <tr>\n",
       "      <th>9152298</th>\n",
       "      <td>476098</td>\n",
       "      <td>2.0</td>\n",
       "      <td>2005-09-10</td>\n",
       "      <td>1803</td>\n",
       "    </tr>\n",
       "    <tr>\n",
       "      <th>21414336</th>\n",
       "      <td>1461435</td>\n",
       "      <td>1.0</td>\n",
       "      <td>2002-02-13</td>\n",
       "      <td>4003</td>\n",
       "    </tr>\n",
       "    <tr>\n",
       "      <th>5014172</th>\n",
       "      <td>1781937</td>\n",
       "      <td>3.0</td>\n",
       "      <td>2003-04-09</td>\n",
       "      <td>1001</td>\n",
       "    </tr>\n",
       "    <tr>\n",
       "      <th>20998729</th>\n",
       "      <td>2487025</td>\n",
       "      <td>4.0</td>\n",
       "      <td>2005-01-30</td>\n",
       "      <td>3938</td>\n",
       "    </tr>\n",
       "    <tr>\n",
       "      <th>21581821</th>\n",
       "      <td>1343309</td>\n",
       "      <td>2.0</td>\n",
       "      <td>2003-06-28</td>\n",
       "      <td>4056</td>\n",
       "    </tr>\n",
       "    <tr>\n",
       "      <th>14925088</th>\n",
       "      <td>1286203</td>\n",
       "      <td>4.0</td>\n",
       "      <td>2005-01-08</td>\n",
       "      <td>2874</td>\n",
       "    </tr>\n",
       "    <tr>\n",
       "      <th>22676150</th>\n",
       "      <td>680554</td>\n",
       "      <td>3.0</td>\n",
       "      <td>2005-05-23</td>\n",
       "      <td>4302</td>\n",
       "    </tr>\n",
       "    <tr>\n",
       "      <th>2435807</th>\n",
       "      <td>513727</td>\n",
       "      <td>4.0</td>\n",
       "      <td>2004-08-18</td>\n",
       "      <td>457</td>\n",
       "    </tr>\n",
       "    <tr>\n",
       "      <th>15698903</th>\n",
       "      <td>2247050</td>\n",
       "      <td>4.0</td>\n",
       "      <td>2005-02-27</td>\n",
       "      <td>3058</td>\n",
       "    </tr>\n",
       "  </tbody>\n",
       "</table>\n",
       "</div>"
      ],
      "text/plain": [
       "             User  Rating        Date  Movie\n",
       "10535699   239892     4.0  2005-07-18   2057\n",
       "9152298    476098     2.0  2005-09-10   1803\n",
       "21414336  1461435     1.0  2002-02-13   4003\n",
       "5014172   1781937     3.0  2003-04-09   1001\n",
       "20998729  2487025     4.0  2005-01-30   3938\n",
       "21581821  1343309     2.0  2003-06-28   4056\n",
       "14925088  1286203     4.0  2005-01-08   2874\n",
       "22676150   680554     3.0  2005-05-23   4302\n",
       "2435807    513727     4.0  2004-08-18    457\n",
       "15698903  2247050     4.0  2005-02-27   3058"
      ]
     },
     "execution_count": 8,
     "metadata": {},
     "output_type": "execute_result"
    }
   ],
   "source": [
    "# Load single data-file\n",
    "df_raw = pd.read_csv('./data/combined_data.csv', \n",
    "                     header=None, \n",
    "                     names=['User', 'Rating', 'Date'], \n",
    "                     usecols=[0, 1, 2])\n",
    "\n",
    "# Find empty rows to slice dataframe for each movie\n",
    "tmp_movies = df_raw[df_raw['Rating'].isna()]['User'].reset_index()\n",
    "movie_indices = [[index, int(movie[:-1])] for index, movie in tmp_movies.values]\n",
    "\n",
    "# Shift the movie_indices by one to get start and endpoints of all movies\n",
    "shifted_movie_indices = deque(movie_indices)\n",
    "shifted_movie_indices.rotate(-1)\n",
    "\n",
    "# Gather all dataframes\n",
    "user_data = []\n",
    "\n",
    "# Iterate over all movies\n",
    "for [df_id_1, movie_id], [df_id_2, next_movie_id] in zip(movie_indices, shifted_movie_indices):\n",
    "    \n",
    "    # Check if it is the last movie in the file\n",
    "    if df_id_1<df_id_2:\n",
    "        tmp_df = df_raw.loc[df_id_1+1:df_id_2-1].copy()\n",
    "    else:\n",
    "        tmp_df = df_raw.loc[df_id_1+1:].copy()\n",
    "        \n",
    "    # Create movie_id column\n",
    "    tmp_df['Movie'] = movie_id\n",
    "    \n",
    "    # Append dataframe to list\n",
    "    user_data.append(tmp_df)\n",
    "\n",
    "# Combine all dataframes\n",
    "df = pd.concat(user_data)\n",
    "del user_data, df_raw, tmp_movies, tmp_df, shifted_movie_indices, movie_indices, df_id_1, movie_id, df_id_2, next_movie_id\n",
    "print('Shape User-Ratings:\\t{}'.format(df.shape))\n",
    "df.sample(10)"
   ]
  },
  {
   "cell_type": "markdown",
   "metadata": {
    "colab_type": "text",
    "id": "sg90OAW_zUwL"
   },
   "source": [
    "There are about 24 Million+ different rating records!"
   ]
  },
  {
   "cell_type": "markdown",
   "metadata": {
    "colab_type": "text",
    "id": "xKIrEduYz6gh"
   },
   "source": [
    "We have taken the data required for building the system and now let's do some EDA on the dataset to better understand our data"
   ]
  },
  {
   "cell_type": "markdown",
   "metadata": {
    "colab_type": "text",
    "id": "4wQzTRdm0tYg"
   },
   "source": [
    "# 4. Exploratory Data Analysis"
   ]
  },
  {
   "cell_type": "markdown",
   "metadata": {
    "colab_type": "text",
    "id": "KVaYGLc94aGm"
   },
   "source": [
    "## 4.1: When were the movies released?\n"
   ]
  },
  {
   "cell_type": "code",
   "execution_count": 13,
   "metadata": {
    "colab": {
     "base_uri": "https://localhost:8080/",
     "height": 374
    },
    "colab_type": "code",
    "id": "-iwB_2Cm24FL",
    "outputId": "b94a5226-9278-4579-e190-c8b20f2903c5"
   },
   "outputs": [
    {
     "data": {
      "image/png": "[encoded data removed]",
      "text/plain": [
       "<Figure size 1008x432 with 1 Axes>"
      ]
     },
     "metadata": {
      "needs_background": "light"
     },
     "output_type": "display_data"
    }
   ],
   "source": [
    "fig, ax = plt.subplots(1, 1, figsize=(14, 6))\n",
    "\n",
    "data = movie_titles['Year'].value_counts().sort_index()\n",
    "x = data.index.map(int)\n",
    "y = data.values\n",
    "\n",
    "sns.barplot(x, y)\n",
    "xmin, xmax = plt.xlim()\n",
    "xtick_labels = [x[0]] + list(x[10:-10:10]) + [x[-1]]\n",
    "plt.xticks(ticks=np.linspace(xmin, xmax, 10), labels=xtick_labels);"
   ]
  },
  {
   "cell_type": "markdown",
   "metadata": {
    "colab_type": "text",
    "id": "lJ2mWAym5rBL"
   },
   "source": [
    "Many movies on Netflix have been released in this millennial. Whether Netflix prefers young movies or there are no old movies left can not be deduced from this plot.\n",
    "The decline for the rightmost point is probably caused by an incomplete last year."
   ]
  },
  {
   "cell_type": "markdown",
   "metadata": {
    "colab_type": "text",
    "id": "QACzcP3w4z6j"
   },
   "source": [
    "## Q 4.2: How are The Ratings Distributed?\n",
    "\n",
    "__Your Turn:__ Build the visualization for rating distributions similar to the previous plot.\n"
   ]
  },
  {
   "cell_type": "code",
   "execution_count": 14,
   "metadata": {
    "colab": {
     "base_uri": "https://localhost:8080/",
     "height": 385
    },
    "colab_type": "code",
    "id": "16Mvv0w124FP",
    "outputId": "b9643de6-3b43-4826-ef57-744fde784404"
   },
   "outputs": [
    {
     "data": {
      "image/png": "[encoded data removed]",
      "text/plain": [
       "<Figure size 1008x432 with 1 Axes>"
      ]
     },
     "metadata": {
      "needs_background": "light"
     },
     "output_type": "display_data"
    }
   ],
   "source": [
    "fig, ax = plt.subplots(1, 1, figsize=(14, 6))\n",
    "\n",
    "data = df['Rating'].value_counts().sort_index()\n",
    "x = data.index.map(int)\n",
    "y = data.values\n",
    "\n",
    "sns.barplot(x, y)\n",
    "xmin, xmax = plt.xlim()"
   ]
  },
  {
   "cell_type": "markdown",
   "metadata": {
    "colab_type": "text",
    "id": "Pn5uhmcu5xCE"
   },
   "source": [
    "Netflix movies rarely have a rating lower than three. Most ratings have between three and four stars.\n",
    "The distribution is probably biased, since only people liking the movies proceed to be customers and others presumably will leave the platform."
   ]
  },
  {
   "cell_type": "markdown",
   "metadata": {
    "colab_type": "text",
    "id": "PQwkKk935eRl"
   },
   "source": [
    "## 4.3: Visualize the Distribution of Number of Movie Ratings \n",
    "\n",
    "This is to understand how many movies (y-axis) are receiving specific number of movie ratings (x-axis)"
   ]
  },
  {
   "cell_type": "code",
   "execution_count": 15,
   "metadata": {
    "colab": {
     "base_uri": "https://localhost:8080/",
     "height": 388
    },
    "colab_type": "code",
    "id": "yatEt4eE24FS",
    "outputId": "ca1767f5-2bf8-407a-e232-26e44bac8d2d"
   },
   "outputs": [
    {
     "data": {
      "image/png": "[encoded data removed]",
      "text/plain": [
       "<Figure size 1008x432 with 2 Axes>"
      ]
     },
     "metadata": {
      "needs_background": "light"
     },
     "output_type": "display_data"
    }
   ],
   "source": [
    "fig, ax = plt.subplots(1, 2, figsize=(14, 6))\n",
    "\n",
    "data = df.groupby('Movie')['Rating'].count()\n",
    "sns.distplot(data[data  < 10000], kde=False, ax=ax[0]);\n",
    "sns.distplot(data[data  > 10000], kde=False, ax=ax[1]);"
   ]
  },
  {
   "cell_type": "code",
   "execution_count": 16,
   "metadata": {},
   "outputs": [
    {
     "data": {
      "text/plain": [
       "Movie\n",
       "1        547\n",
       "2        145\n",
       "3       2012\n",
       "4        142\n",
       "5       1140\n",
       "        ... \n",
       "4495     614\n",
       "4496    9519\n",
       "4497     714\n",
       "4498     269\n",
       "4499     428\n",
       "Name: Rating, Length: 4499, dtype: int64"
      ]
     },
     "execution_count": 16,
     "metadata": {},
     "output_type": "execute_result"
    }
   ],
   "source": [
    "data"
   ]
  },
  {
   "cell_type": "markdown",
   "metadata": {
    "colab_type": "text",
    "id": "lS5we5r4-nyV"
   },
   "source": [
    "## Q 4.4: Visualize the Distribution of Number of User Ratings \n",
    "\n",
    "This is to understand how many users (y-axis) are giving specific number of movie ratings (x-axis)\n",
    "\n",
    "__Your Turn:__ Try to find out an optimal threshold as in the previous example to split the data to form two understandable subplots!"
   ]
  },
  {
   "cell_type": "code",
   "execution_count": 19,
   "metadata": {
    "colab": {
     "base_uri": "https://localhost:8080/",
     "height": 388
    },
    "colab_type": "code",
    "id": "hf-Q6jP-24FV",
    "outputId": "8ff4752b-527c-476c-c417-3d5c63a89b99"
   },
   "outputs": [],
   "source": [
    "data2 = df.groupby('User')['Rating'].count()"
   ]
  },
  {
   "cell_type": "code",
   "execution_count": 20,
   "metadata": {},
   "outputs": [
    {
     "data": {
      "text/plain": [
       "(470758,)"
      ]
     },
     "execution_count": 20,
     "metadata": {},
     "output_type": "execute_result"
    }
   ],
   "source": [
    "data2.shape"
   ]
  },
  {
   "cell_type": "code",
   "execution_count": 21,
   "metadata": {},
   "outputs": [
    {
     "data": {
      "text/plain": [
       "User\n",
       "700931     23\n",
       "1828011     3\n",
       "600052     63\n",
       "2146861     2\n",
       "1037812    27\n",
       "Name: Rating, dtype: int64"
      ]
     },
     "execution_count": 21,
     "metadata": {},
     "output_type": "execute_result"
    }
   ],
   "source": [
    "data2.sample(5)"
   ]
  },
  {
   "cell_type": "code",
   "execution_count": 22,
   "metadata": {},
   "outputs": [
    {
     "data": {
      "text/plain": [
       "Index(['10', '1000004', '1000027', '1000033', '1000035', '1000038', '1000051',\n",
       "       '1000057', '100006', '1000062',\n",
       "       ...\n",
       "       '999935', '99994', '999944', '999945', '999949', '999964', '999972',\n",
       "       '999977', '999984', '999988'],\n",
       "      dtype='object', name='User', length=470758)"
      ]
     },
     "execution_count": 22,
     "metadata": {},
     "output_type": "execute_result"
    }
   ],
   "source": [
    "data2.index"
   ]
  },
  {
   "cell_type": "code",
   "execution_count": 32,
   "metadata": {},
   "outputs": [
    {
     "data": {
      "text/plain": [
       "array([49,  1, 30, ..., 14, 38, 28])"
      ]
     },
     "execution_count": 32,
     "metadata": {},
     "output_type": "execute_result"
    }
   ],
   "source": [
    "data2.values"
   ]
  },
  {
   "cell_type": "code",
   "execution_count": 33,
   "metadata": {},
   "outputs": [
    {
     "data": {
      "image/png": "[encoded data removed]",
      "text/plain": [
       "<Figure size 1008x432 with 1 Axes>"
      ]
     },
     "metadata": {
      "needs_background": "light"
     },
     "output_type": "display_data"
    }
   ],
   "source": [
    "fig, ax = plt.subplots(1, 1, figsize=(14, 6))\n",
    "\n",
    "x = data2.values\n",
    "y = data2.index.map(int)\n",
    "\n",
    "\n",
    "sns.barplot(x, y)\n",
    "xmin, xmax = plt.xlim()"
   ]
  },
  {
   "cell_type": "code",
   "execution_count": 20,
   "metadata": {},
   "outputs": [
    {
     "data": {
      "image/png": "[encoded data removed]",
      "text/plain": [
       "<Figure size 1008x432 with 2 Axes>"
      ]
     },
     "metadata": {
      "needs_background": "light"
     },
     "output_type": "display_data"
    }
   ],
   "source": [
    "fig, ax = plt.subplots(1, 2, figsize=(14, 6))\n",
    "\n",
    "sns.distplot(data2[data2  < 500], kde=False, ax=ax[0]);\n",
    "sns.distplot(data2[data2  > 500], kde=False, ax=ax[1]);"
   ]
  },
  {
   "cell_type": "code",
   "execution_count": 21,
   "metadata": {},
   "outputs": [
    {
     "data": {
      "image/png": "[encoded data removed]",
      "text/plain": [
       "<Figure size 1008x432 with 2 Axes>"
      ]
     },
     "metadata": {
      "needs_background": "light"
     },
     "output_type": "display_data"
    }
   ],
   "source": [
    "fig, ax = plt.subplots(1, 2, figsize=(14, 6))\n",
    "\n",
    "sns.distplot(data2[data2  < 200], kde=False, ax=ax[0]);\n",
    "sns.distplot(data2[data2  > 200], kde=False, ax=ax[1]);"
   ]
  },
  {
   "cell_type": "markdown",
   "metadata": {
    "colab_type": "text",
    "id": "EMOY1tG75i24"
   },
   "source": [
    "The ratings per movie as well as the ratings per user both have nearly a perfect exponential decay. Only very few movies/users have many ratings."
   ]
  },
  {
   "cell_type": "markdown",
   "metadata": {
    "colab_type": "text",
    "id": "p5S7Q14L_CL1"
   },
   "source": [
    "# 5. Dimensionality Reduction & Filtering"
   ]
  },
  {
   "cell_type": "markdown",
   "metadata": {
    "colab_type": "text",
    "id": "h5YZwbcH7LzU"
   },
   "source": [
    "## Filter Sparse Movies And Users\n",
    "\n",
    "To reduce the dimensionality of the dataset I am filtering rarely rated movies and rarely rating users out.\n"
   ]
  },
  {
   "cell_type": "code",
   "execution_count": 22,
   "metadata": {
    "colab": {
     "base_uri": "https://localhost:8080/",
     "height": 50
    },
    "colab_type": "code",
    "id": "4nwtEkvSFFK5",
    "outputId": "44e339a2-a068-40d9-848f-619d56288676"
   },
   "outputs": [
    {
     "name": "stdout",
     "output_type": "stream",
     "text": [
      "Shape User-Ratings unfiltered:\t(24053764, 4)\n",
      "Shape User-Ratings filtered:\t(5930581, 4)\n"
     ]
    }
   ],
   "source": [
    "# Filter sparse movies\n",
    "min_movie_ratings = 1000\n",
    "filter_movies = (df['Movie'].value_counts()>min_movie_ratings)\n",
    "filter_movies = filter_movies[filter_movies].index.tolist()\n",
    "\n",
    "# Filter sparse users\n",
    "min_user_ratings = 200\n",
    "filter_users = (df['User'].value_counts()>min_user_ratings)\n",
    "filter_users = filter_users[filter_users].index.tolist()\n",
    "\n",
    "# Actual filtering\n",
    "df_filtered = df[(df['Movie'].isin(filter_movies)) & (df['User'].isin(filter_users))]\n",
    "del filter_movies, filter_users, min_movie_ratings, min_user_ratings\n",
    "print('Shape User-Ratings unfiltered:\\t{}'.format(df.shape))\n",
    "print('Shape User-Ratings filtered:\\t{}'.format(df_filtered.shape))"
   ]
  },
  {
   "cell_type": "markdown",
   "metadata": {
    "colab_type": "text",
    "id": "9GQ4JmM67TYQ"
   },
   "source": [
    "After filtering sparse movies and users about 5.9M rating records are present."
   ]
  },
  {
   "cell_type": "markdown",
   "metadata": {
    "colab_type": "text",
    "id": "EI1CoJP9_kbF"
   },
   "source": [
    "# 6. Create Train and Test Datasets\n",
    "\n",
    "Do note this will be used for the statistical method based models and collaborative filtering.\n",
    "\n",
    "For content based filtering it is more of a model which recommends movies rather than predicting ratings and for the hybrid model we will need to recreate the train and test datasets later since we need to create a subset of movies-users-ratings which have movie text descriptions."
   ]
  },
  {
   "cell_type": "markdown",
   "metadata": {
    "colab_type": "text",
    "id": "G7LX0sob7a2Z"
   },
   "source": [
    "## Create Train and Test datasets"
   ]
  },
  {
   "cell_type": "code",
   "execution_count": 23,
   "metadata": {
    "colab": {
     "base_uri": "https://localhost:8080/",
     "height": 34
    },
    "colab_type": "code",
    "id": "cyCrLAoFFHm4",
    "outputId": "e39e4020-3e5f-4ed7-803a-a8761ddce792"
   },
   "outputs": [
    {
     "data": {
      "text/plain": [
       "((5830581, 3), (100000, 3))"
      ]
     },
     "execution_count": 23,
     "metadata": {},
     "output_type": "execute_result"
    }
   ],
   "source": [
    "# Shuffle DataFrame\n",
    "df_filtered = df_filtered.drop('Date', axis=1).sample(frac=1).reset_index(drop=True)\n",
    "\n",
    "# Testingsize\n",
    "n = 100000\n",
    "\n",
    "# Split train- & testset\n",
    "df_train = df_filtered[:-n]\n",
    "df_test = df_filtered[-n:]\n",
    "df_train.shape, df_test.shape"
   ]
  },
  {
   "cell_type": "code",
   "execution_count": 24,
   "metadata": {},
   "outputs": [
    {
     "data": {
      "text/html": [
       "<div>\n",
       "<style scoped>\n",
       "    .dataframe tbody tr th:only-of-type {\n",
       "        vertical-align: middle;\n",
       "    }\n",
       "\n",
       "    .dataframe tbody tr th {\n",
       "        vertical-align: top;\n",
       "    }\n",
       "\n",
       "    .dataframe thead th {\n",
       "        text-align: right;\n",
       "    }\n",
       "</style>\n",
       "<table border=\"1\" class=\"dataframe\">\n",
       "  <thead>\n",
       "    <tr style=\"text-align: right;\">\n",
       "      <th></th>\n",
       "      <th>User</th>\n",
       "      <th>Rating</th>\n",
       "      <th>Movie</th>\n",
       "    </tr>\n",
       "  </thead>\n",
       "  <tbody>\n",
       "    <tr>\n",
       "      <th>0</th>\n",
       "      <td>1706987</td>\n",
       "      <td>1.0</td>\n",
       "      <td>3926</td>\n",
       "    </tr>\n",
       "    <tr>\n",
       "      <th>1</th>\n",
       "      <td>468079</td>\n",
       "      <td>5.0</td>\n",
       "      <td>1066</td>\n",
       "    </tr>\n",
       "    <tr>\n",
       "      <th>2</th>\n",
       "      <td>1924957</td>\n",
       "      <td>4.0</td>\n",
       "      <td>4227</td>\n",
       "    </tr>\n",
       "    <tr>\n",
       "      <th>3</th>\n",
       "      <td>1707271</td>\n",
       "      <td>3.0</td>\n",
       "      <td>108</td>\n",
       "    </tr>\n",
       "    <tr>\n",
       "      <th>4</th>\n",
       "      <td>477988</td>\n",
       "      <td>3.0</td>\n",
       "      <td>4269</td>\n",
       "    </tr>\n",
       "  </tbody>\n",
       "</table>\n",
       "</div>"
      ],
      "text/plain": [
       "      User  Rating  Movie\n",
       "0  1706987     1.0   3926\n",
       "1   468079     5.0   1066\n",
       "2  1924957     4.0   4227\n",
       "3  1707271     3.0    108\n",
       "4   477988     3.0   4269"
      ]
     },
     "execution_count": 24,
     "metadata": {},
     "output_type": "execute_result"
    }
   ],
   "source": [
    "df_train.head()"
   ]
  },
  {
   "cell_type": "markdown",
   "metadata": {
    "colab_type": "text",
    "id": "JjQjPE9-76iP"
   },
   "source": [
    "The train set will be used to train all models and the test set ensures we can compare model performance on unseen data using the RMSE metric."
   ]
  },
  {
   "cell_type": "markdown",
   "metadata": {
    "colab_type": "text",
    "id": "ufn47cGh_wNC"
   },
   "source": [
    "# 7. Transformation"
   ]
  },
  {
   "cell_type": "markdown",
   "metadata": {
    "colab_type": "text",
    "id": "mWkzhX-a792R"
   },
   "source": [
    "### Q 7.1: Transform The User-Movie-Ratings Data Frame to User-Movie Matrix"
   ]
  },
  {
   "cell_type": "markdown",
   "metadata": {
    "colab_type": "text",
    "id": "qDeuv70i8NMQ"
   },
   "source": [
    "A large, sparse matrix will be created in this step. Each row will represent a user and its ratings and the columns are the movies.\n",
    "\n",
    "The movies already rated by users are the non-empty values in the matrix.\n",
    "\n",
    "Empty values are unrated movies and the main objective is to estimate the empty values to help our users.\n",
    "\n",
    "\n",
    "__Your turn:__ Create the User-Movie matrix leveraging the __`pivot_table()`__ function from pandas.\n",
    "\n",
    "Fill in the blanks in the code below by referencing the __`pivot_table()`__ function and invoking it on __`df_train`__. Feel free to check out the documentation.\n",
    "\n",
    "Remember, rows should be users, columns should be movies and the values in the matrix should be the movie ratings. All these should be available in the __`df_train`__ dataframe."
   ]
  },
  {
   "cell_type": "code",
   "execution_count": 25,
   "metadata": {},
   "outputs": [
    {
     "name": "stdout",
     "output_type": "stream",
     "text": [
      "Shape User-Movie-Matrix:\t(20828, 1741)\n"
     ]
    },
    {
     "data": {
      "text/html": [
       "<div>\n",
       "<style scoped>\n",
       "    .dataframe tbody tr th:only-of-type {\n",
       "        vertical-align: middle;\n",
       "    }\n",
       "\n",
       "    .dataframe tbody tr th {\n",
       "        vertical-align: top;\n",
       "    }\n",
       "\n",
       "    .dataframe thead th {\n",
       "        text-align: right;\n",
       "    }\n",
       "</style>\n",
       "<table border=\"1\" class=\"dataframe\">\n",
       "  <thead>\n",
       "    <tr style=\"text-align: right;\">\n",
       "      <th>Movie</th>\n",
       "      <th>3</th>\n",
       "      <th>5</th>\n",
       "      <th>6</th>\n",
       "      <th>8</th>\n",
       "      <th>16</th>\n",
       "      <th>17</th>\n",
       "      <th>18</th>\n",
       "      <th>24</th>\n",
       "      <th>25</th>\n",
       "      <th>26</th>\n",
       "      <th>...</th>\n",
       "      <th>4482</th>\n",
       "      <th>4483</th>\n",
       "      <th>4484</th>\n",
       "      <th>4485</th>\n",
       "      <th>4488</th>\n",
       "      <th>4489</th>\n",
       "      <th>4490</th>\n",
       "      <th>4492</th>\n",
       "      <th>4493</th>\n",
       "      <th>4496</th>\n",
       "    </tr>\n",
       "    <tr>\n",
       "      <th>User</th>\n",
       "      <th></th>\n",
       "      <th></th>\n",
       "      <th></th>\n",
       "      <th></th>\n",
       "      <th></th>\n",
       "      <th></th>\n",
       "      <th></th>\n",
       "      <th></th>\n",
       "      <th></th>\n",
       "      <th></th>\n",
       "      <th></th>\n",
       "      <th></th>\n",
       "      <th></th>\n",
       "      <th></th>\n",
       "      <th></th>\n",
       "      <th></th>\n",
       "      <th></th>\n",
       "      <th></th>\n",
       "      <th></th>\n",
       "      <th></th>\n",
       "      <th></th>\n",
       "    </tr>\n",
       "  </thead>\n",
       "  <tbody>\n",
       "    <tr>\n",
       "      <th>1000079</th>\n",
       "      <td>NaN</td>\n",
       "      <td>NaN</td>\n",
       "      <td>NaN</td>\n",
       "      <td>NaN</td>\n",
       "      <td>NaN</td>\n",
       "      <td>NaN</td>\n",
       "      <td>NaN</td>\n",
       "      <td>NaN</td>\n",
       "      <td>NaN</td>\n",
       "      <td>NaN</td>\n",
       "      <td>...</td>\n",
       "      <td>NaN</td>\n",
       "      <td>NaN</td>\n",
       "      <td>NaN</td>\n",
       "      <td>NaN</td>\n",
       "      <td>2.0</td>\n",
       "      <td>NaN</td>\n",
       "      <td>NaN</td>\n",
       "      <td>NaN</td>\n",
       "      <td>NaN</td>\n",
       "      <td>NaN</td>\n",
       "    </tr>\n",
       "    <tr>\n",
       "      <th>1000192</th>\n",
       "      <td>NaN</td>\n",
       "      <td>NaN</td>\n",
       "      <td>NaN</td>\n",
       "      <td>NaN</td>\n",
       "      <td>NaN</td>\n",
       "      <td>NaN</td>\n",
       "      <td>NaN</td>\n",
       "      <td>NaN</td>\n",
       "      <td>NaN</td>\n",
       "      <td>NaN</td>\n",
       "      <td>...</td>\n",
       "      <td>NaN</td>\n",
       "      <td>NaN</td>\n",
       "      <td>NaN</td>\n",
       "      <td>NaN</td>\n",
       "      <td>NaN</td>\n",
       "      <td>NaN</td>\n",
       "      <td>NaN</td>\n",
       "      <td>NaN</td>\n",
       "      <td>NaN</td>\n",
       "      <td>NaN</td>\n",
       "    </tr>\n",
       "    <tr>\n",
       "      <th>1000301</th>\n",
       "      <td>NaN</td>\n",
       "      <td>NaN</td>\n",
       "      <td>NaN</td>\n",
       "      <td>NaN</td>\n",
       "      <td>NaN</td>\n",
       "      <td>NaN</td>\n",
       "      <td>4.0</td>\n",
       "      <td>NaN</td>\n",
       "      <td>NaN</td>\n",
       "      <td>NaN</td>\n",
       "      <td>...</td>\n",
       "      <td>NaN</td>\n",
       "      <td>NaN</td>\n",
       "      <td>NaN</td>\n",
       "      <td>NaN</td>\n",
       "      <td>4.0</td>\n",
       "      <td>NaN</td>\n",
       "      <td>NaN</td>\n",
       "      <td>NaN</td>\n",
       "      <td>NaN</td>\n",
       "      <td>NaN</td>\n",
       "    </tr>\n",
       "    <tr>\n",
       "      <th>1000387</th>\n",
       "      <td>NaN</td>\n",
       "      <td>NaN</td>\n",
       "      <td>NaN</td>\n",
       "      <td>NaN</td>\n",
       "      <td>NaN</td>\n",
       "      <td>NaN</td>\n",
       "      <td>NaN</td>\n",
       "      <td>NaN</td>\n",
       "      <td>NaN</td>\n",
       "      <td>NaN</td>\n",
       "      <td>...</td>\n",
       "      <td>NaN</td>\n",
       "      <td>NaN</td>\n",
       "      <td>NaN</td>\n",
       "      <td>1.0</td>\n",
       "      <td>2.0</td>\n",
       "      <td>NaN</td>\n",
       "      <td>NaN</td>\n",
       "      <td>1.0</td>\n",
       "      <td>NaN</td>\n",
       "      <td>NaN</td>\n",
       "    </tr>\n",
       "    <tr>\n",
       "      <th>1000410</th>\n",
       "      <td>NaN</td>\n",
       "      <td>NaN</td>\n",
       "      <td>NaN</td>\n",
       "      <td>NaN</td>\n",
       "      <td>NaN</td>\n",
       "      <td>NaN</td>\n",
       "      <td>4.0</td>\n",
       "      <td>NaN</td>\n",
       "      <td>NaN</td>\n",
       "      <td>NaN</td>\n",
       "      <td>...</td>\n",
       "      <td>NaN</td>\n",
       "      <td>NaN</td>\n",
       "      <td>NaN</td>\n",
       "      <td>NaN</td>\n",
       "      <td>3.0</td>\n",
       "      <td>NaN</td>\n",
       "      <td>3.0</td>\n",
       "      <td>NaN</td>\n",
       "      <td>NaN</td>\n",
       "      <td>3.0</td>\n",
       "    </tr>\n",
       "    <tr>\n",
       "      <th>1000527</th>\n",
       "      <td>NaN</td>\n",
       "      <td>NaN</td>\n",
       "      <td>NaN</td>\n",
       "      <td>NaN</td>\n",
       "      <td>NaN</td>\n",
       "      <td>NaN</td>\n",
       "      <td>NaN</td>\n",
       "      <td>NaN</td>\n",
       "      <td>NaN</td>\n",
       "      <td>NaN</td>\n",
       "      <td>...</td>\n",
       "      <td>NaN</td>\n",
       "      <td>NaN</td>\n",
       "      <td>NaN</td>\n",
       "      <td>NaN</td>\n",
       "      <td>NaN</td>\n",
       "      <td>NaN</td>\n",
       "      <td>NaN</td>\n",
       "      <td>NaN</td>\n",
       "      <td>3.0</td>\n",
       "      <td>NaN</td>\n",
       "    </tr>\n",
       "    <tr>\n",
       "      <th>1000596</th>\n",
       "      <td>NaN</td>\n",
       "      <td>NaN</td>\n",
       "      <td>NaN</td>\n",
       "      <td>NaN</td>\n",
       "      <td>NaN</td>\n",
       "      <td>NaN</td>\n",
       "      <td>NaN</td>\n",
       "      <td>2.0</td>\n",
       "      <td>NaN</td>\n",
       "      <td>NaN</td>\n",
       "      <td>...</td>\n",
       "      <td>NaN</td>\n",
       "      <td>NaN</td>\n",
       "      <td>NaN</td>\n",
       "      <td>NaN</td>\n",
       "      <td>NaN</td>\n",
       "      <td>NaN</td>\n",
       "      <td>NaN</td>\n",
       "      <td>NaN</td>\n",
       "      <td>NaN</td>\n",
       "      <td>NaN</td>\n",
       "    </tr>\n",
       "    <tr>\n",
       "      <th>1000634</th>\n",
       "      <td>NaN</td>\n",
       "      <td>NaN</td>\n",
       "      <td>NaN</td>\n",
       "      <td>NaN</td>\n",
       "      <td>3.0</td>\n",
       "      <td>NaN</td>\n",
       "      <td>NaN</td>\n",
       "      <td>NaN</td>\n",
       "      <td>NaN</td>\n",
       "      <td>NaN</td>\n",
       "      <td>...</td>\n",
       "      <td>NaN</td>\n",
       "      <td>NaN</td>\n",
       "      <td>NaN</td>\n",
       "      <td>NaN</td>\n",
       "      <td>4.0</td>\n",
       "      <td>NaN</td>\n",
       "      <td>NaN</td>\n",
       "      <td>4.0</td>\n",
       "      <td>NaN</td>\n",
       "      <td>NaN</td>\n",
       "    </tr>\n",
       "    <tr>\n",
       "      <th>1000710</th>\n",
       "      <td>NaN</td>\n",
       "      <td>NaN</td>\n",
       "      <td>NaN</td>\n",
       "      <td>NaN</td>\n",
       "      <td>NaN</td>\n",
       "      <td>NaN</td>\n",
       "      <td>NaN</td>\n",
       "      <td>NaN</td>\n",
       "      <td>NaN</td>\n",
       "      <td>NaN</td>\n",
       "      <td>...</td>\n",
       "      <td>NaN</td>\n",
       "      <td>NaN</td>\n",
       "      <td>NaN</td>\n",
       "      <td>NaN</td>\n",
       "      <td>NaN</td>\n",
       "      <td>NaN</td>\n",
       "      <td>NaN</td>\n",
       "      <td>NaN</td>\n",
       "      <td>NaN</td>\n",
       "      <td>NaN</td>\n",
       "    </tr>\n",
       "    <tr>\n",
       "      <th>1000779</th>\n",
       "      <td>NaN</td>\n",
       "      <td>NaN</td>\n",
       "      <td>NaN</td>\n",
       "      <td>NaN</td>\n",
       "      <td>NaN</td>\n",
       "      <td>NaN</td>\n",
       "      <td>NaN</td>\n",
       "      <td>NaN</td>\n",
       "      <td>NaN</td>\n",
       "      <td>NaN</td>\n",
       "      <td>...</td>\n",
       "      <td>NaN</td>\n",
       "      <td>NaN</td>\n",
       "      <td>NaN</td>\n",
       "      <td>NaN</td>\n",
       "      <td>NaN</td>\n",
       "      <td>NaN</td>\n",
       "      <td>NaN</td>\n",
       "      <td>NaN</td>\n",
       "      <td>NaN</td>\n",
       "      <td>4.0</td>\n",
       "    </tr>\n",
       "  </tbody>\n",
       "</table>\n",
       "<p>10 rows × 1741 columns</p>\n",
       "</div>"
      ],
      "text/plain": [
       "Movie    3     5     6     8     16    17    18    24    25    26    ...  \\\n",
       "User                                                                 ...   \n",
       "1000079   NaN   NaN   NaN   NaN   NaN   NaN   NaN   NaN   NaN   NaN  ...   \n",
       "1000192   NaN   NaN   NaN   NaN   NaN   NaN   NaN   NaN   NaN   NaN  ...   \n",
       "1000301   NaN   NaN   NaN   NaN   NaN   NaN   4.0   NaN   NaN   NaN  ...   \n",
       "1000387   NaN   NaN   NaN   NaN   NaN   NaN   NaN   NaN   NaN   NaN  ...   \n",
       "1000410   NaN   NaN   NaN   NaN   NaN   NaN   4.0   NaN   NaN   NaN  ...   \n",
       "1000527   NaN   NaN   NaN   NaN   NaN   NaN   NaN   NaN   NaN   NaN  ...   \n",
       "1000596   NaN   NaN   NaN   NaN   NaN   NaN   NaN   2.0   NaN   NaN  ...   \n",
       "1000634   NaN   NaN   NaN   NaN   3.0   NaN   NaN   NaN   NaN   NaN  ...   \n",
       "1000710   NaN   NaN   NaN   NaN   NaN   NaN   NaN   NaN   NaN   NaN  ...   \n",
       "1000779   NaN   NaN   NaN   NaN   NaN   NaN   NaN   NaN   NaN   NaN  ...   \n",
       "\n",
       "Movie    4482  4483  4484  4485  4488  4489  4490  4492  4493  4496  \n",
       "User                                                                 \n",
       "1000079   NaN   NaN   NaN   NaN   2.0   NaN   NaN   NaN   NaN   NaN  \n",
       "1000192   NaN   NaN   NaN   NaN   NaN   NaN   NaN   NaN   NaN   NaN  \n",
       "1000301   NaN   NaN   NaN   NaN   4.0   NaN   NaN   NaN   NaN   NaN  \n",
       "1000387   NaN   NaN   NaN   1.0   2.0   NaN   NaN   1.0   NaN   NaN  \n",
       "1000410   NaN   NaN   NaN   NaN   3.0   NaN   3.0   NaN   NaN   3.0  \n",
       "1000527   NaN   NaN   NaN   NaN   NaN   NaN   NaN   NaN   3.0   NaN  \n",
       "1000596   NaN   NaN   NaN   NaN   NaN   NaN   NaN   NaN   NaN   NaN  \n",
       "1000634   NaN   NaN   NaN   NaN   4.0   NaN   NaN   4.0   NaN   NaN  \n",
       "1000710   NaN   NaN   NaN   NaN   NaN   NaN   NaN   NaN   NaN   NaN  \n",
       "1000779   NaN   NaN   NaN   NaN   NaN   NaN   NaN   NaN   NaN   4.0  \n",
       "\n",
       "[10 rows x 1741 columns]"
      ]
     },
     "execution_count": 25,
     "metadata": {},
     "output_type": "execute_result"
    }
   ],
   "source": [
    "# Create a user-movie matrix with empty values\n",
    "df_p = pd.pivot_table(df_train, index= 'User',values='Rating', columns='Movie')\n",
    "print('Shape User-Movie-Matrix:\\t{}'.format(df_p.shape))\n",
    "df_p.head(10)"
   ]
  },
  {
   "cell_type": "code",
   "execution_count": 26,
   "metadata": {
    "colab": {
     "base_uri": "https://localhost:8080/",
     "height": 438
    },
    "colab_type": "code",
    "id": "_ieAea92FJye",
    "outputId": "7a2dd65d-1af9-4300-c811-1f1d3f8e8f05"
   },
   "outputs": [],
   "source": [
    "# # Create a user-movie matrix with empty values\n",
    "# df_p = pd.pivot_table(df_train, index= 'User',values='Rating', columns='Movie', fill_value=0 )\n",
    "# print('Shape User-Movie-Matrix:\\t{}'.format(df_p.shape))\n",
    "# df_p.head(10)"
   ]
  },
  {
   "cell_type": "code",
   "execution_count": 27,
   "metadata": {},
   "outputs": [
    {
     "data": {
      "text/plain": [
       "(20828, 1741)"
      ]
     },
     "execution_count": 27,
     "metadata": {},
     "output_type": "execute_result"
    }
   ],
   "source": [
    "df_p.shape"
   ]
  },
  {
   "cell_type": "markdown",
   "metadata": {
    "colab_type": "text",
    "id": "ojO2T5Ti_4TG"
   },
   "source": [
    "## 8. Building Recommendation Systems"
   ]
  },
  {
   "cell_type": "markdown",
   "metadata": {
    "colab_type": "text",
    "id": "cOrqqL3KDn9L"
   },
   "source": [
    "## 8.1(a): Global Recommendation Systems (Mean Rating)\n",
    "\n",
    "Computing the mean rating for all movies creates a ranking. The recommendation will be the same for all users and can be used if there is no information on the user.\n",
    "Variations of this approach can be separate rankings for each country/year/gender/... and to use them individually to recommend movies/items to the user.\n",
    "\n",
    "It has to be noted that this approach is biased and favours movies with fewer ratings, since large numbers of ratings tend to be less extreme in its mean ratings."
   ]
  },
  {
   "cell_type": "markdown",
   "metadata": {
    "colab_type": "text",
    "id": "zlIuNnXxONlb"
   },
   "source": [
    "### Additional Hint\n",
    "\n",
    "Predict model performance: [mean_squared_error](https://scikit-learn.org/stable/modules/generated/sklearn.metrics.mean_squared_error.html)"
   ]
  },
  {
   "cell_type": "code",
   "execution_count": 28,
   "metadata": {
    "colab": {
     "base_uri": "https://localhost:8080/",
     "height": 225
    },
    "colab_type": "code",
    "id": "spUQbaIz24Fo",
    "outputId": "0bb9b792-e2af-45a3-994c-ed167f0e75fd"
   },
   "outputs": [],
   "source": [
    "# Compute mean rating for all movies\n",
    "ratings_mean = df_p.mean(axis=0).sort_values(ascending=False).rename('Rating-Mean').to_frame()\n",
    "\n",
    "# Compute rating frequencies for all movies\n",
    "ratings_count = df_p.count(axis=0).rename('Rating-Freq').to_frame()"
   ]
  },
  {
   "cell_type": "code",
   "execution_count": 29,
   "metadata": {},
   "outputs": [
    {
     "data": {
      "text/html": [
       "<div>\n",
       "<style scoped>\n",
       "    .dataframe tbody tr th:only-of-type {\n",
       "        vertical-align: middle;\n",
       "    }\n",
       "\n",
       "    .dataframe tbody tr th {\n",
       "        vertical-align: top;\n",
       "    }\n",
       "\n",
       "    .dataframe thead th {\n",
       "        text-align: right;\n",
       "    }\n",
       "</style>\n",
       "<table border=\"1\" class=\"dataframe\">\n",
       "  <thead>\n",
       "    <tr style=\"text-align: right;\">\n",
       "      <th></th>\n",
       "      <th>Rating-Mean</th>\n",
       "    </tr>\n",
       "    <tr>\n",
       "      <th>Movie</th>\n",
       "      <th></th>\n",
       "    </tr>\n",
       "  </thead>\n",
       "  <tbody>\n",
       "    <tr>\n",
       "      <th>3456</th>\n",
       "      <td>4.659299</td>\n",
       "    </tr>\n",
       "    <tr>\n",
       "      <th>2102</th>\n",
       "      <td>4.507189</td>\n",
       "    </tr>\n",
       "    <tr>\n",
       "      <th>3444</th>\n",
       "      <td>4.431972</td>\n",
       "    </tr>\n",
       "    <tr>\n",
       "      <th>2452</th>\n",
       "      <td>4.425780</td>\n",
       "    </tr>\n",
       "    <tr>\n",
       "      <th>2172</th>\n",
       "      <td>4.389266</td>\n",
       "    </tr>\n",
       "  </tbody>\n",
       "</table>\n",
       "</div>"
      ],
      "text/plain": [
       "       Rating-Mean\n",
       "Movie             \n",
       "3456      4.659299\n",
       "2102      4.507189\n",
       "3444      4.431972\n",
       "2452      4.425780\n",
       "2172      4.389266"
      ]
     },
     "execution_count": 29,
     "metadata": {},
     "output_type": "execute_result"
    }
   ],
   "source": [
    "ratings_mean.head()"
   ]
  },
  {
   "cell_type": "code",
   "execution_count": 30,
   "metadata": {},
   "outputs": [
    {
     "data": {
      "text/html": [
       "<div>\n",
       "<style scoped>\n",
       "    .dataframe tbody tr th:only-of-type {\n",
       "        vertical-align: middle;\n",
       "    }\n",
       "\n",
       "    .dataframe tbody tr th {\n",
       "        vertical-align: top;\n",
       "    }\n",
       "\n",
       "    .dataframe thead th {\n",
       "        text-align: right;\n",
       "    }\n",
       "</style>\n",
       "<table border=\"1\" class=\"dataframe\">\n",
       "  <thead>\n",
       "    <tr style=\"text-align: right;\">\n",
       "      <th></th>\n",
       "      <th>Rating-Freq</th>\n",
       "    </tr>\n",
       "    <tr>\n",
       "      <th>Movie</th>\n",
       "      <th></th>\n",
       "    </tr>\n",
       "  </thead>\n",
       "  <tbody>\n",
       "    <tr>\n",
       "      <th>3</th>\n",
       "      <td>538</td>\n",
       "    </tr>\n",
       "    <tr>\n",
       "      <th>5</th>\n",
       "      <td>269</td>\n",
       "    </tr>\n",
       "    <tr>\n",
       "      <th>6</th>\n",
       "      <td>281</td>\n",
       "    </tr>\n",
       "    <tr>\n",
       "      <th>8</th>\n",
       "      <td>2239</td>\n",
       "    </tr>\n",
       "    <tr>\n",
       "      <th>16</th>\n",
       "      <td>1620</td>\n",
       "    </tr>\n",
       "  </tbody>\n",
       "</table>\n",
       "</div>"
      ],
      "text/plain": [
       "       Rating-Freq\n",
       "Movie             \n",
       "3              538\n",
       "5              269\n",
       "6              281\n",
       "8             2239\n",
       "16            1620"
      ]
     },
     "execution_count": 30,
     "metadata": {},
     "output_type": "execute_result"
    }
   ],
   "source": [
    "ratings_count.head()"
   ]
  },
  {
   "cell_type": "code",
   "execution_count": 31,
   "metadata": {},
   "outputs": [
    {
     "data": {
      "text/html": [
       "<div>\n",
       "<style scoped>\n",
       "    .dataframe tbody tr th:only-of-type {\n",
       "        vertical-align: middle;\n",
       "    }\n",
       "\n",
       "    .dataframe tbody tr th {\n",
       "        vertical-align: top;\n",
       "    }\n",
       "\n",
       "    .dataframe thead th {\n",
       "        text-align: right;\n",
       "    }\n",
       "</style>\n",
       "<table border=\"1\" class=\"dataframe\">\n",
       "  <thead>\n",
       "    <tr style=\"text-align: right;\">\n",
       "      <th></th>\n",
       "      <th>Year</th>\n",
       "      <th>Name</th>\n",
       "    </tr>\n",
       "    <tr>\n",
       "      <th>Id</th>\n",
       "      <th></th>\n",
       "      <th></th>\n",
       "    </tr>\n",
       "  </thead>\n",
       "  <tbody>\n",
       "    <tr>\n",
       "      <th>1</th>\n",
       "      <td>2003.0</td>\n",
       "      <td>Dinosaur Planet</td>\n",
       "    </tr>\n",
       "    <tr>\n",
       "      <th>2</th>\n",
       "      <td>2004.0</td>\n",
       "      <td>Isle of Man TT 2004 Review</td>\n",
       "    </tr>\n",
       "    <tr>\n",
       "      <th>3</th>\n",
       "      <td>1997.0</td>\n",
       "      <td>Character</td>\n",
       "    </tr>\n",
       "    <tr>\n",
       "      <th>4</th>\n",
       "      <td>1994.0</td>\n",
       "      <td>Paula Abdul's Get Up &amp; Dance</td>\n",
       "    </tr>\n",
       "    <tr>\n",
       "      <th>5</th>\n",
       "      <td>2004.0</td>\n",
       "      <td>The Rise and Fall of ECW</td>\n",
       "    </tr>\n",
       "  </tbody>\n",
       "</table>\n",
       "</div>"
      ],
      "text/plain": [
       "      Year                          Name\n",
       "Id                                      \n",
       "1   2003.0               Dinosaur Planet\n",
       "2   2004.0    Isle of Man TT 2004 Review\n",
       "3   1997.0                     Character\n",
       "4   1994.0  Paula Abdul's Get Up & Dance\n",
       "5   2004.0      The Rise and Fall of ECW"
      ]
     },
     "execution_count": 31,
     "metadata": {},
     "output_type": "execute_result"
    }
   ],
   "source": [
    "movie_titles.head()"
   ]
  },
  {
   "cell_type": "code",
   "execution_count": 32,
   "metadata": {},
   "outputs": [
    {
     "data": {
      "text/html": [
       "<div>\n",
       "<style scoped>\n",
       "    .dataframe tbody tr th:only-of-type {\n",
       "        vertical-align: middle;\n",
       "    }\n",
       "\n",
       "    .dataframe tbody tr th {\n",
       "        vertical-align: top;\n",
       "    }\n",
       "\n",
       "    .dataframe thead th {\n",
       "        text-align: right;\n",
       "    }\n",
       "</style>\n",
       "<table border=\"1\" class=\"dataframe\">\n",
       "  <thead>\n",
       "    <tr style=\"text-align: right;\">\n",
       "      <th></th>\n",
       "      <th>Rating-Mean</th>\n",
       "      <th>Rating-Freq</th>\n",
       "      <th>Year</th>\n",
       "      <th>Name</th>\n",
       "    </tr>\n",
       "    <tr>\n",
       "      <th>Movie</th>\n",
       "      <th></th>\n",
       "      <th></th>\n",
       "      <th></th>\n",
       "      <th></th>\n",
       "    </tr>\n",
       "  </thead>\n",
       "  <tbody>\n",
       "    <tr>\n",
       "      <th>3456</th>\n",
       "      <td>4.659299</td>\n",
       "      <td>1312</td>\n",
       "      <td>2004.0</td>\n",
       "      <td>Lost: Season 1</td>\n",
       "    </tr>\n",
       "    <tr>\n",
       "      <th>2102</th>\n",
       "      <td>4.507189</td>\n",
       "      <td>2782</td>\n",
       "      <td>1994.0</td>\n",
       "      <td>The Simpsons: Season 6</td>\n",
       "    </tr>\n",
       "    <tr>\n",
       "      <th>3444</th>\n",
       "      <td>4.431972</td>\n",
       "      <td>2815</td>\n",
       "      <td>2004.0</td>\n",
       "      <td>Family Guy: Freakin' Sweet Collection</td>\n",
       "    </tr>\n",
       "    <tr>\n",
       "      <th>2452</th>\n",
       "      <td>4.425780</td>\n",
       "      <td>18580</td>\n",
       "      <td>2001.0</td>\n",
       "      <td>Lord of the Rings: The Fellowship of the Ring</td>\n",
       "    </tr>\n",
       "    <tr>\n",
       "      <th>2172</th>\n",
       "      <td>4.389266</td>\n",
       "      <td>6186</td>\n",
       "      <td>1991.0</td>\n",
       "      <td>The Simpsons: Season 3</td>\n",
       "    </tr>\n",
       "    <tr>\n",
       "      <th>1256</th>\n",
       "      <td>4.373510</td>\n",
       "      <td>2937</td>\n",
       "      <td>1994.0</td>\n",
       "      <td>The Best of Friends: Vol. 4</td>\n",
       "    </tr>\n",
       "    <tr>\n",
       "      <th>3962</th>\n",
       "      <td>4.369416</td>\n",
       "      <td>17506</td>\n",
       "      <td>2003.0</td>\n",
       "      <td>Finding Nemo (Widescreen)</td>\n",
       "    </tr>\n",
       "    <tr>\n",
       "      <th>4238</th>\n",
       "      <td>4.351598</td>\n",
       "      <td>219</td>\n",
       "      <td>2000.0</td>\n",
       "      <td>Inu-Yasha</td>\n",
       "    </tr>\n",
       "    <tr>\n",
       "      <th>1476</th>\n",
       "      <td>4.347034</td>\n",
       "      <td>2579</td>\n",
       "      <td>2004.0</td>\n",
       "      <td>Six Feet Under: Season 4</td>\n",
       "    </tr>\n",
       "    <tr>\n",
       "      <th>3046</th>\n",
       "      <td>4.346200</td>\n",
       "      <td>5026</td>\n",
       "      <td>1990.0</td>\n",
       "      <td>The Simpsons: Treehouse of Horror</td>\n",
       "    </tr>\n",
       "  </tbody>\n",
       "</table>\n",
       "</div>"
      ],
      "text/plain": [
       "       Rating-Mean  Rating-Freq    Year  \\\n",
       "Movie                                     \n",
       "3456      4.659299         1312  2004.0   \n",
       "2102      4.507189         2782  1994.0   \n",
       "3444      4.431972         2815  2004.0   \n",
       "2452      4.425780        18580  2001.0   \n",
       "2172      4.389266         6186  1991.0   \n",
       "1256      4.373510         2937  1994.0   \n",
       "3962      4.369416        17506  2003.0   \n",
       "4238      4.351598          219  2000.0   \n",
       "1476      4.347034         2579  2004.0   \n",
       "3046      4.346200         5026  1990.0   \n",
       "\n",
       "                                                Name  \n",
       "Movie                                                 \n",
       "3456                                  Lost: Season 1  \n",
       "2102                          The Simpsons: Season 6  \n",
       "3444           Family Guy: Freakin' Sweet Collection  \n",
       "2452   Lord of the Rings: The Fellowship of the Ring  \n",
       "2172                          The Simpsons: Season 3  \n",
       "1256                     The Best of Friends: Vol. 4  \n",
       "3962                       Finding Nemo (Widescreen)  \n",
       "4238                                       Inu-Yasha  \n",
       "1476                        Six Feet Under: Season 4  \n",
       "3046               The Simpsons: Treehouse of Horror  "
      ]
     },
     "execution_count": 32,
     "metadata": {},
     "output_type": "execute_result"
    }
   ],
   "source": [
    "# Combine the aggregated dataframes\n",
    "combined_df = ratings_mean.join(ratings_count).join(movie_titles)\n",
    "combined_df.head(10)"
   ]
  },
  {
   "cell_type": "code",
   "execution_count": 33,
   "metadata": {},
   "outputs": [
    {
     "data": {
      "text/plain": [
       "Int64Index([   3,    5,    6,    8,   16,   17,   18,   24,   25,   26,\n",
       "            ...\n",
       "            4482, 4483, 4484, 4485, 4488, 4489, 4490, 4492, 4493, 4496],\n",
       "           dtype='int64', name='Movie', length=1741)"
      ]
     },
     "execution_count": 33,
     "metadata": {},
     "output_type": "execute_result"
    }
   ],
   "source": [
    "combined_df.index.sort_values(ascending=True)"
   ]
  },
  {
   "cell_type": "code",
   "execution_count": 34,
   "metadata": {
    "colab": {
     "base_uri": "https://localhost:8080/",
     "height": 225
    },
    "colab_type": "code",
    "id": "vf66eVE_24Fq",
    "outputId": "21cc00bc-6df3-4e96-cf2b-142b317f565a"
   },
   "outputs": [
    {
     "data": {
      "text/html": [
       "<div>\n",
       "<style scoped>\n",
       "    .dataframe tbody tr th:only-of-type {\n",
       "        vertical-align: middle;\n",
       "    }\n",
       "\n",
       "    .dataframe tbody tr th {\n",
       "        vertical-align: top;\n",
       "    }\n",
       "\n",
       "    .dataframe thead th {\n",
       "        text-align: right;\n",
       "    }\n",
       "</style>\n",
       "<table border=\"1\" class=\"dataframe\">\n",
       "  <thead>\n",
       "    <tr style=\"text-align: right;\">\n",
       "      <th></th>\n",
       "      <th>User</th>\n",
       "      <th>Rating</th>\n",
       "      <th>Rating-Mean</th>\n",
       "    </tr>\n",
       "    <tr>\n",
       "      <th>Movie</th>\n",
       "      <th></th>\n",
       "      <th></th>\n",
       "      <th></th>\n",
       "    </tr>\n",
       "  </thead>\n",
       "  <tbody>\n",
       "    <tr>\n",
       "      <th>3</th>\n",
       "      <td>916101</td>\n",
       "      <td>2.0</td>\n",
       "      <td>3.453532</td>\n",
       "    </tr>\n",
       "    <tr>\n",
       "      <th>3</th>\n",
       "      <td>1984315</td>\n",
       "      <td>3.0</td>\n",
       "      <td>3.453532</td>\n",
       "    </tr>\n",
       "    <tr>\n",
       "      <th>3</th>\n",
       "      <td>1685083</td>\n",
       "      <td>5.0</td>\n",
       "      <td>3.453532</td>\n",
       "    </tr>\n",
       "    <tr>\n",
       "      <th>3</th>\n",
       "      <td>1948594</td>\n",
       "      <td>4.0</td>\n",
       "      <td>3.453532</td>\n",
       "    </tr>\n",
       "    <tr>\n",
       "      <th>3</th>\n",
       "      <td>2621962</td>\n",
       "      <td>4.0</td>\n",
       "      <td>3.453532</td>\n",
       "    </tr>\n",
       "    <tr>\n",
       "      <th>5</th>\n",
       "      <td>977551</td>\n",
       "      <td>1.0</td>\n",
       "      <td>3.449814</td>\n",
       "    </tr>\n",
       "    <tr>\n",
       "      <th>5</th>\n",
       "      <td>600362</td>\n",
       "      <td>1.0</td>\n",
       "      <td>3.449814</td>\n",
       "    </tr>\n",
       "    <tr>\n",
       "      <th>5</th>\n",
       "      <td>799442</td>\n",
       "      <td>4.0</td>\n",
       "      <td>3.449814</td>\n",
       "    </tr>\n",
       "    <tr>\n",
       "      <th>5</th>\n",
       "      <td>1354427</td>\n",
       "      <td>2.0</td>\n",
       "      <td>3.449814</td>\n",
       "    </tr>\n",
       "    <tr>\n",
       "      <th>5</th>\n",
       "      <td>1767421</td>\n",
       "      <td>4.0</td>\n",
       "      <td>3.449814</td>\n",
       "    </tr>\n",
       "  </tbody>\n",
       "</table>\n",
       "</div>"
      ],
      "text/plain": [
       "          User  Rating  Rating-Mean\n",
       "Movie                              \n",
       "3       916101     2.0     3.453532\n",
       "3      1984315     3.0     3.453532\n",
       "3      1685083     5.0     3.453532\n",
       "3      1948594     4.0     3.453532\n",
       "3      2621962     4.0     3.453532\n",
       "5       977551     1.0     3.449814\n",
       "5       600362     1.0     3.449814\n",
       "5       799442     4.0     3.449814\n",
       "5      1354427     2.0     3.449814\n",
       "5      1767421     4.0     3.449814"
      ]
     },
     "execution_count": 34,
     "metadata": {},
     "output_type": "execute_result"
    }
   ],
   "source": [
    "# Join labels and predictions based on mean movie rating\n",
    "predictions_df = df_test.set_index('Movie').join(ratings_mean)\n",
    "predictions_df.head(10)"
   ]
  },
  {
   "cell_type": "code",
   "execution_count": 35,
   "metadata": {
    "colab": {
     "base_uri": "https://localhost:8080/",
     "height": 34
    },
    "colab_type": "code",
    "id": "9W2txAub24Fs",
    "outputId": "ef0d3bfd-859d-4596-a465-9b17504a1b65"
   },
   "outputs": [
    {
     "name": "stdout",
     "output_type": "stream",
     "text": [
      "The RMSE Value for the Mean Rating Recommender: 1.0045674953185457\n"
     ]
    }
   ],
   "source": [
    "# Compute RMSE, Root mean square error\n",
    "y_true = predictions_df['Rating']\n",
    "y_pred = predictions_df['Rating-Mean']\n",
    "\n",
    "rmse = np.sqrt(mean_squared_error(y_true=y_true, y_pred=y_pred))\n",
    "print(\"The RMSE Value for the Mean Rating Recommender:\", rmse)"
   ]
  },
  {
   "cell_type": "code",
   "execution_count": 36,
   "metadata": {
    "colab": {
     "base_uri": "https://localhost:8080/",
     "height": 373
    },
    "colab_type": "code",
    "id": "xda52K1m24Fu",
    "outputId": "a537ffcc-dc45-458b-9d2c-b0ed262d3103"
   },
   "outputs": [
    {
     "data": {
      "text/html": [
       "<div>\n",
       "<style scoped>\n",
       "    .dataframe tbody tr th:only-of-type {\n",
       "        vertical-align: middle;\n",
       "    }\n",
       "\n",
       "    .dataframe tbody tr th {\n",
       "        vertical-align: top;\n",
       "    }\n",
       "\n",
       "    .dataframe thead th {\n",
       "        text-align: right;\n",
       "    }\n",
       "</style>\n",
       "<table border=\"1\" class=\"dataframe\">\n",
       "  <thead>\n",
       "    <tr style=\"text-align: right;\">\n",
       "      <th></th>\n",
       "      <th>Name</th>\n",
       "      <th>Rating-Mean</th>\n",
       "    </tr>\n",
       "    <tr>\n",
       "      <th>Movie</th>\n",
       "      <th></th>\n",
       "      <th></th>\n",
       "    </tr>\n",
       "  </thead>\n",
       "  <tbody>\n",
       "    <tr>\n",
       "      <th>3456</th>\n",
       "      <td>Lost: Season 1</td>\n",
       "      <td>4.659299</td>\n",
       "    </tr>\n",
       "    <tr>\n",
       "      <th>2102</th>\n",
       "      <td>The Simpsons: Season 6</td>\n",
       "      <td>4.507189</td>\n",
       "    </tr>\n",
       "    <tr>\n",
       "      <th>3444</th>\n",
       "      <td>Family Guy: Freakin' Sweet Collection</td>\n",
       "      <td>4.431972</td>\n",
       "    </tr>\n",
       "    <tr>\n",
       "      <th>2452</th>\n",
       "      <td>Lord of the Rings: The Fellowship of the Ring</td>\n",
       "      <td>4.425780</td>\n",
       "    </tr>\n",
       "    <tr>\n",
       "      <th>2172</th>\n",
       "      <td>The Simpsons: Season 3</td>\n",
       "      <td>4.389266</td>\n",
       "    </tr>\n",
       "    <tr>\n",
       "      <th>1256</th>\n",
       "      <td>The Best of Friends: Vol. 4</td>\n",
       "      <td>4.373510</td>\n",
       "    </tr>\n",
       "    <tr>\n",
       "      <th>3962</th>\n",
       "      <td>Finding Nemo (Widescreen)</td>\n",
       "      <td>4.369416</td>\n",
       "    </tr>\n",
       "    <tr>\n",
       "      <th>4238</th>\n",
       "      <td>Inu-Yasha</td>\n",
       "      <td>4.351598</td>\n",
       "    </tr>\n",
       "    <tr>\n",
       "      <th>1476</th>\n",
       "      <td>Six Feet Under: Season 4</td>\n",
       "      <td>4.347034</td>\n",
       "    </tr>\n",
       "    <tr>\n",
       "      <th>3046</th>\n",
       "      <td>The Simpsons: Treehouse of Horror</td>\n",
       "      <td>4.346200</td>\n",
       "    </tr>\n",
       "  </tbody>\n",
       "</table>\n",
       "</div>"
      ],
      "text/plain": [
       "                                                Name  Rating-Mean\n",
       "Movie                                                            \n",
       "3456                                  Lost: Season 1     4.659299\n",
       "2102                          The Simpsons: Season 6     4.507189\n",
       "3444           Family Guy: Freakin' Sweet Collection     4.431972\n",
       "2452   Lord of the Rings: The Fellowship of the Ring     4.425780\n",
       "2172                          The Simpsons: Season 3     4.389266\n",
       "1256                     The Best of Friends: Vol. 4     4.373510\n",
       "3962                       Finding Nemo (Widescreen)     4.369416\n",
       "4238                                       Inu-Yasha     4.351598\n",
       "1476                        Six Feet Under: Season 4     4.347034\n",
       "3046               The Simpsons: Treehouse of Horror     4.346200"
      ]
     },
     "execution_count": 36,
     "metadata": {},
     "output_type": "execute_result"
    }
   ],
   "source": [
    "# View top ten rated movies\n",
    "combined_df[['Name', 'Rating-Mean']].head(10)"
   ]
  },
  {
   "cell_type": "markdown",
   "metadata": {
    "colab_type": "text",
    "id": "iFalvivYD1Is"
   },
   "source": [
    "## Q 8.1(b): Global Recommendation Systems (Weighted Rating)\n",
    "\n",
    "To tackle the problem of the unstable mean with few ratings e.g. IDMb uses a weighted rating. Many good ratings outweigh few in this algorithm.\n",
    "\n",
    "### Hint:\n",
    "\n",
    "Weighted Rating Formula\n",
    "\n",
    "weighted rating (𝑊𝑅)=(𝑣/(𝑣+𝑚))𝑅+(𝑚/(𝑣+𝑚))𝐶\n",
    "\n",
    "where:\n",
    "\n",
    "*𝑅* = average for the movie (mean) = (Rating)\n",
    "\n",
    "*𝑣* = number of votes for the movie = (votes)\n",
    "\n",
    "*𝑚* = minimum votes required \n",
    "\n",
    "*𝐶* = the mean vote across the whole report \n",
    "\n",
    "__Your Turn:__ Fill in the necessary code snippets below to build and test the model\n"
   ]
  },
  {
   "cell_type": "code",
   "execution_count": 37,
   "metadata": {
    "colab": {},
    "colab_type": "code",
    "id": "GVfj7TPz24Fz"
   },
   "outputs": [],
   "source": [
    "# Number of minimum votes to be considered\n",
    "m = 1000\n",
    "\n",
    "# Mean rating for all movies\n",
    "C = df_p.stack().mean()\n",
    "\n",
    "# Mean rating for all movies separately\n",
    "R = df_p.mean(axis=0).values\n",
    "\n",
    "# Rating freqency for all movies separately\n",
    "v = df_p.count().values"
   ]
  },
  {
   "cell_type": "code",
   "execution_count": 38,
   "metadata": {},
   "outputs": [
    {
     "data": {
      "text/plain": [
       "3.4678761859238385"
      ]
     },
     "execution_count": 38,
     "metadata": {},
     "output_type": "execute_result"
    }
   ],
   "source": [
    "C"
   ]
  },
  {
   "cell_type": "code",
   "execution_count": 39,
   "metadata": {},
   "outputs": [
    {
     "data": {
      "text/plain": [
       "Movie\n",
       "3       3.453532\n",
       "5       3.449814\n",
       "6       3.049822\n",
       "8       3.035284\n",
       "16      3.025926\n",
       "          ...   \n",
       "4489    3.345455\n",
       "4490    3.127931\n",
       "4492    2.713473\n",
       "4493    3.144388\n",
       "4496    3.685664\n",
       "Length: 1741, dtype: float64"
      ]
     },
     "execution_count": 39,
     "metadata": {},
     "output_type": "execute_result"
    }
   ],
   "source": [
    "df_p.mean(axis=0)"
   ]
  },
  {
   "cell_type": "code",
   "execution_count": 40,
   "metadata": {},
   "outputs": [
    {
     "data": {
      "text/plain": [
       "4.659298780487805"
      ]
     },
     "execution_count": 40,
     "metadata": {},
     "output_type": "execute_result"
    }
   ],
   "source": [
    "df_p.mean(axis=0).loc[3456]"
   ]
  },
  {
   "cell_type": "code",
   "execution_count": 41,
   "metadata": {},
   "outputs": [
    {
     "data": {
      "text/plain": [
       "array([3.4535316 , 3.44981413, 3.04982206, ..., 2.71347316, 3.14438804,\n",
       "       3.68566434])"
      ]
     },
     "execution_count": 41,
     "metadata": {},
     "output_type": "execute_result"
    }
   ],
   "source": [
    "R"
   ]
  },
  {
   "cell_type": "code",
   "execution_count": 42,
   "metadata": {},
   "outputs": [
    {
     "data": {
      "text/plain": [
       "array([ 538,  269,  281, ..., 2813, 1773, 2860])"
      ]
     },
     "execution_count": 42,
     "metadata": {},
     "output_type": "execute_result"
    }
   ],
   "source": [
    "v"
   ]
  },
  {
   "cell_type": "code",
   "execution_count": 43,
   "metadata": {},
   "outputs": [
    {
     "data": {
      "text/plain": [
       "1741"
      ]
     },
     "execution_count": 43,
     "metadata": {},
     "output_type": "execute_result"
    }
   ],
   "source": [
    "len(v)"
   ]
  },
  {
   "cell_type": "code",
   "execution_count": 44,
   "metadata": {
    "colab": {},
    "colab_type": "code",
    "id": "Ntm_D7Yl24F1"
   },
   "outputs": [],
   "source": [
    "# Weighted formula to compute the weighted rating\n",
    "weighted_score = (𝑣/(𝑣+𝑚))*𝑅+(𝑚/(𝑣+𝑚))*𝐶"
   ]
  },
  {
   "cell_type": "code",
   "execution_count": 45,
   "metadata": {},
   "outputs": [
    {
     "data": {
      "text/plain": [
       "array([3.46285838, 3.46404743, 3.37617189, ..., 2.91132342, 3.26104442,\n",
       "       3.62924254])"
      ]
     },
     "execution_count": 45,
     "metadata": {},
     "output_type": "execute_result"
    }
   ],
   "source": [
    "weighted_score"
   ]
  },
  {
   "cell_type": "code",
   "execution_count": 46,
   "metadata": {},
   "outputs": [
    {
     "data": {
      "text/plain": [
       "(1741,)"
      ]
     },
     "execution_count": 46,
     "metadata": {},
     "output_type": "execute_result"
    }
   ],
   "source": [
    "index_values = df_p.mean(axis=0).index\n",
    "index_values.shape"
   ]
  },
  {
   "cell_type": "code",
   "execution_count": 47,
   "metadata": {},
   "outputs": [
    {
     "data": {
      "text/html": [
       "<div>\n",
       "<style scoped>\n",
       "    .dataframe tbody tr th:only-of-type {\n",
       "        vertical-align: middle;\n",
       "    }\n",
       "\n",
       "    .dataframe tbody tr th {\n",
       "        vertical-align: top;\n",
       "    }\n",
       "\n",
       "    .dataframe thead th {\n",
       "        text-align: right;\n",
       "    }\n",
       "</style>\n",
       "<table border=\"1\" class=\"dataframe\">\n",
       "  <thead>\n",
       "    <tr style=\"text-align: right;\">\n",
       "      <th></th>\n",
       "      <th>weighted_score</th>\n",
       "    </tr>\n",
       "    <tr>\n",
       "      <th>Movie</th>\n",
       "      <th></th>\n",
       "    </tr>\n",
       "  </thead>\n",
       "  <tbody>\n",
       "    <tr>\n",
       "      <th>3</th>\n",
       "      <td>3.462858</td>\n",
       "    </tr>\n",
       "    <tr>\n",
       "      <th>5</th>\n",
       "      <td>3.464047</td>\n",
       "    </tr>\n",
       "    <tr>\n",
       "      <th>6</th>\n",
       "      <td>3.376172</td>\n",
       "    </tr>\n",
       "    <tr>\n",
       "      <th>8</th>\n",
       "      <td>3.168841</td>\n",
       "    </tr>\n",
       "    <tr>\n",
       "      <th>16</th>\n",
       "      <td>3.194609</td>\n",
       "    </tr>\n",
       "  </tbody>\n",
       "</table>\n",
       "</div>"
      ],
      "text/plain": [
       "       weighted_score\n",
       "Movie                \n",
       "3            3.462858\n",
       "5            3.464047\n",
       "6            3.376172\n",
       "8            3.168841\n",
       "16           3.194609"
      ]
     },
     "execution_count": 47,
     "metadata": {},
     "output_type": "execute_result"
    }
   ],
   "source": [
    "# convert weighted_score into a dataframe\n",
    "weighted_mean = pd.DataFrame(weighted_score, index=index_values ,columns= ['weighted_score'])\n",
    "weighted_mean.head()"
   ]
  },
  {
   "cell_type": "code",
   "execution_count": 48,
   "metadata": {},
   "outputs": [
    {
     "data": {
      "text/html": [
       "<div>\n",
       "<style scoped>\n",
       "    .dataframe tbody tr th:only-of-type {\n",
       "        vertical-align: middle;\n",
       "    }\n",
       "\n",
       "    .dataframe tbody tr th {\n",
       "        vertical-align: top;\n",
       "    }\n",
       "\n",
       "    .dataframe thead th {\n",
       "        text-align: right;\n",
       "    }\n",
       "</style>\n",
       "<table border=\"1\" class=\"dataframe\">\n",
       "  <thead>\n",
       "    <tr style=\"text-align: right;\">\n",
       "      <th></th>\n",
       "      <th>Year</th>\n",
       "      <th>Name</th>\n",
       "    </tr>\n",
       "    <tr>\n",
       "      <th>Id</th>\n",
       "      <th></th>\n",
       "      <th></th>\n",
       "    </tr>\n",
       "  </thead>\n",
       "  <tbody>\n",
       "    <tr>\n",
       "      <th>1</th>\n",
       "      <td>2003.0</td>\n",
       "      <td>Dinosaur Planet</td>\n",
       "    </tr>\n",
       "    <tr>\n",
       "      <th>2</th>\n",
       "      <td>2004.0</td>\n",
       "      <td>Isle of Man TT 2004 Review</td>\n",
       "    </tr>\n",
       "    <tr>\n",
       "      <th>3</th>\n",
       "      <td>1997.0</td>\n",
       "      <td>Character</td>\n",
       "    </tr>\n",
       "    <tr>\n",
       "      <th>4</th>\n",
       "      <td>1994.0</td>\n",
       "      <td>Paula Abdul's Get Up &amp; Dance</td>\n",
       "    </tr>\n",
       "    <tr>\n",
       "      <th>5</th>\n",
       "      <td>2004.0</td>\n",
       "      <td>The Rise and Fall of ECW</td>\n",
       "    </tr>\n",
       "  </tbody>\n",
       "</table>\n",
       "</div>"
      ],
      "text/plain": [
       "      Year                          Name\n",
       "Id                                      \n",
       "1   2003.0               Dinosaur Planet\n",
       "2   2004.0    Isle of Man TT 2004 Review\n",
       "3   1997.0                     Character\n",
       "4   1994.0  Paula Abdul's Get Up & Dance\n",
       "5   2004.0      The Rise and Fall of ECW"
      ]
     },
     "execution_count": 48,
     "metadata": {},
     "output_type": "execute_result"
    }
   ],
   "source": [
    "movie_titles.head()"
   ]
  },
  {
   "cell_type": "code",
   "execution_count": 49,
   "metadata": {},
   "outputs": [
    {
     "data": {
      "text/html": [
       "<div>\n",
       "<style scoped>\n",
       "    .dataframe tbody tr th:only-of-type {\n",
       "        vertical-align: middle;\n",
       "    }\n",
       "\n",
       "    .dataframe tbody tr th {\n",
       "        vertical-align: top;\n",
       "    }\n",
       "\n",
       "    .dataframe thead th {\n",
       "        text-align: right;\n",
       "    }\n",
       "</style>\n",
       "<table border=\"1\" class=\"dataframe\">\n",
       "  <thead>\n",
       "    <tr style=\"text-align: right;\">\n",
       "      <th></th>\n",
       "      <th>weighted_score</th>\n",
       "      <th>Year</th>\n",
       "      <th>Name</th>\n",
       "    </tr>\n",
       "    <tr>\n",
       "      <th>Movie</th>\n",
       "      <th></th>\n",
       "      <th></th>\n",
       "      <th></th>\n",
       "    </tr>\n",
       "  </thead>\n",
       "  <tbody>\n",
       "    <tr>\n",
       "      <th>3</th>\n",
       "      <td>3.462858</td>\n",
       "      <td>1997.0</td>\n",
       "      <td>Character</td>\n",
       "    </tr>\n",
       "    <tr>\n",
       "      <th>5</th>\n",
       "      <td>3.464047</td>\n",
       "      <td>2004.0</td>\n",
       "      <td>The Rise and Fall of ECW</td>\n",
       "    </tr>\n",
       "    <tr>\n",
       "      <th>6</th>\n",
       "      <td>3.376172</td>\n",
       "      <td>1997.0</td>\n",
       "      <td>Sick</td>\n",
       "    </tr>\n",
       "    <tr>\n",
       "      <th>8</th>\n",
       "      <td>3.168841</td>\n",
       "      <td>2004.0</td>\n",
       "      <td>What the #$*! Do We Know!?</td>\n",
       "    </tr>\n",
       "    <tr>\n",
       "      <th>16</th>\n",
       "      <td>3.194609</td>\n",
       "      <td>1996.0</td>\n",
       "      <td>Screamers</td>\n",
       "    </tr>\n",
       "    <tr>\n",
       "      <th>17</th>\n",
       "      <td>3.167693</td>\n",
       "      <td>2005.0</td>\n",
       "      <td>7 Seconds</td>\n",
       "    </tr>\n",
       "    <tr>\n",
       "      <th>18</th>\n",
       "      <td>3.641123</td>\n",
       "      <td>1994.0</td>\n",
       "      <td>Immortal Beloved</td>\n",
       "    </tr>\n",
       "    <tr>\n",
       "      <th>24</th>\n",
       "      <td>3.230282</td>\n",
       "      <td>1981.0</td>\n",
       "      <td>My Bloody Valentine</td>\n",
       "    </tr>\n",
       "    <tr>\n",
       "      <th>25</th>\n",
       "      <td>3.541301</td>\n",
       "      <td>1997.0</td>\n",
       "      <td>Inspector Morse 31: Death Is Now My Neighbour</td>\n",
       "    </tr>\n",
       "    <tr>\n",
       "      <th>26</th>\n",
       "      <td>3.049082</td>\n",
       "      <td>2004.0</td>\n",
       "      <td>Never Die Alone</td>\n",
       "    </tr>\n",
       "  </tbody>\n",
       "</table>\n",
       "</div>"
      ],
      "text/plain": [
       "       weighted_score    Year                                           Name\n",
       "Movie                                                                       \n",
       "3            3.462858  1997.0                                      Character\n",
       "5            3.464047  2004.0                       The Rise and Fall of ECW\n",
       "6            3.376172  1997.0                                           Sick\n",
       "8            3.168841  2004.0                     What the #$*! Do We Know!?\n",
       "16           3.194609  1996.0                                      Screamers\n",
       "17           3.167693  2005.0                                      7 Seconds\n",
       "18           3.641123  1994.0                               Immortal Beloved\n",
       "24           3.230282  1981.0                            My Bloody Valentine\n",
       "25           3.541301  1997.0  Inspector Morse 31: Death Is Now My Neighbour\n",
       "26           3.049082  2004.0                                Never Die Alone"
      ]
     },
     "execution_count": 49,
     "metadata": {},
     "output_type": "execute_result"
    }
   ],
   "source": [
    "# Combine the aggregated dataframes (wighted_mean & movie_titles)\n",
    "combined_df = weighted_mean.join(movie_titles)\n",
    "# combined_df = ratings_mean.join(weighted_mean).join(movie_titles)\n",
    "combined_df.head(10)"
   ]
  },
  {
   "cell_type": "code",
   "execution_count": 50,
   "metadata": {},
   "outputs": [
    {
     "data": {
      "text/plain": [
       "(1741, 3)"
      ]
     },
     "execution_count": 50,
     "metadata": {},
     "output_type": "execute_result"
    }
   ],
   "source": [
    "combined_df.shape"
   ]
  },
  {
   "cell_type": "code",
   "execution_count": 51,
   "metadata": {
    "colab": {
     "base_uri": "https://localhost:8080/",
     "height": 225
    },
    "colab_type": "code",
    "id": "jMd68xuj24F5",
    "outputId": "948409a5-b235-4892-912a-3ec8b70f841d"
   },
   "outputs": [
    {
     "data": {
      "text/html": [
       "<div>\n",
       "<style scoped>\n",
       "    .dataframe tbody tr th:only-of-type {\n",
       "        vertical-align: middle;\n",
       "    }\n",
       "\n",
       "    .dataframe tbody tr th {\n",
       "        vertical-align: top;\n",
       "    }\n",
       "\n",
       "    .dataframe thead th {\n",
       "        text-align: right;\n",
       "    }\n",
       "</style>\n",
       "<table border=\"1\" class=\"dataframe\">\n",
       "  <thead>\n",
       "    <tr style=\"text-align: right;\">\n",
       "      <th></th>\n",
       "      <th>User</th>\n",
       "      <th>Rating</th>\n",
       "      <th>weighted_score</th>\n",
       "      <th>Year</th>\n",
       "      <th>Name</th>\n",
       "    </tr>\n",
       "    <tr>\n",
       "      <th>Movie</th>\n",
       "      <th></th>\n",
       "      <th></th>\n",
       "      <th></th>\n",
       "      <th></th>\n",
       "      <th></th>\n",
       "    </tr>\n",
       "  </thead>\n",
       "  <tbody>\n",
       "    <tr>\n",
       "      <th>3</th>\n",
       "      <td>916101</td>\n",
       "      <td>2.0</td>\n",
       "      <td>3.462858</td>\n",
       "      <td>1997.0</td>\n",
       "      <td>Character</td>\n",
       "    </tr>\n",
       "    <tr>\n",
       "      <th>3</th>\n",
       "      <td>1984315</td>\n",
       "      <td>3.0</td>\n",
       "      <td>3.462858</td>\n",
       "      <td>1997.0</td>\n",
       "      <td>Character</td>\n",
       "    </tr>\n",
       "    <tr>\n",
       "      <th>3</th>\n",
       "      <td>1685083</td>\n",
       "      <td>5.0</td>\n",
       "      <td>3.462858</td>\n",
       "      <td>1997.0</td>\n",
       "      <td>Character</td>\n",
       "    </tr>\n",
       "    <tr>\n",
       "      <th>3</th>\n",
       "      <td>1948594</td>\n",
       "      <td>4.0</td>\n",
       "      <td>3.462858</td>\n",
       "      <td>1997.0</td>\n",
       "      <td>Character</td>\n",
       "    </tr>\n",
       "    <tr>\n",
       "      <th>3</th>\n",
       "      <td>2621962</td>\n",
       "      <td>4.0</td>\n",
       "      <td>3.462858</td>\n",
       "      <td>1997.0</td>\n",
       "      <td>Character</td>\n",
       "    </tr>\n",
       "  </tbody>\n",
       "</table>\n",
       "</div>"
      ],
      "text/plain": [
       "          User  Rating  weighted_score    Year       Name\n",
       "Movie                                                    \n",
       "3       916101     2.0        3.462858  1997.0  Character\n",
       "3      1984315     3.0        3.462858  1997.0  Character\n",
       "3      1685083     5.0        3.462858  1997.0  Character\n",
       "3      1948594     4.0        3.462858  1997.0  Character\n",
       "3      2621962     4.0        3.462858  1997.0  Character"
      ]
     },
     "execution_count": 51,
     "metadata": {},
     "output_type": "execute_result"
    }
   ],
   "source": [
    "# Join labels and predictions based on mean movie rating\n",
    "predictions_df = df_test.set_index('Movie').join(combined_df)\n",
    "predictions_df.head()"
   ]
  },
  {
   "cell_type": "code",
   "execution_count": 52,
   "metadata": {
    "colab": {
     "base_uri": "https://localhost:8080/",
     "height": 34
    },
    "colab_type": "code",
    "id": "HdCxHIO424F8",
    "outputId": "e8369ec9-e022-4b66-cd55-256ee1f5ff62"
   },
   "outputs": [
    {
     "name": "stdout",
     "output_type": "stream",
     "text": [
      "The RMSE Value for the Weighted-Mean Rating Recommender: 1.009861093261567\n"
     ]
    }
   ],
   "source": [
    "# Compute RMSE\n",
    "y_true = predictions_df['Rating']\n",
    "y_pred = predictions_df['weighted_score']\n",
    "\n",
    "rmse = np.sqrt(mean_squared_error(y_true=y_true, y_pred=y_pred))\n",
    "print(\"The RMSE Value for the Weighted-Mean Rating Recommender:\", rmse)"
   ]
  },
  {
   "cell_type": "code",
   "execution_count": 53,
   "metadata": {
    "colab": {
     "base_uri": "https://localhost:8080/",
     "height": 373
    },
    "colab_type": "code",
    "id": "gt1Q5Mh124F-",
    "outputId": "1e61eb00-d5a9-4265-9b80-579b21be655c"
   },
   "outputs": [
    {
     "data": {
      "text/html": [
       "<div>\n",
       "<style scoped>\n",
       "    .dataframe tbody tr th:only-of-type {\n",
       "        vertical-align: middle;\n",
       "    }\n",
       "\n",
       "    .dataframe tbody tr th {\n",
       "        vertical-align: top;\n",
       "    }\n",
       "\n",
       "    .dataframe thead th {\n",
       "        text-align: right;\n",
       "    }\n",
       "</style>\n",
       "<table border=\"1\" class=\"dataframe\">\n",
       "  <thead>\n",
       "    <tr style=\"text-align: right;\">\n",
       "      <th></th>\n",
       "      <th>Name</th>\n",
       "      <th>weighted_score</th>\n",
       "    </tr>\n",
       "    <tr>\n",
       "      <th>Movie</th>\n",
       "      <th></th>\n",
       "      <th></th>\n",
       "    </tr>\n",
       "  </thead>\n",
       "  <tbody>\n",
       "    <tr>\n",
       "      <th>2452</th>\n",
       "      <td>Lord of the Rings: The Fellowship of the Ring</td>\n",
       "      <td>4.376858</td>\n",
       "    </tr>\n",
       "    <tr>\n",
       "      <th>3962</th>\n",
       "      <td>Finding Nemo (Widescreen)</td>\n",
       "      <td>4.320700</td>\n",
       "    </tr>\n",
       "    <tr>\n",
       "      <th>4306</th>\n",
       "      <td>The Sixth Sense</td>\n",
       "      <td>4.289076</td>\n",
       "    </tr>\n",
       "    <tr>\n",
       "      <th>2862</th>\n",
       "      <td>The Silence of the Lambs</td>\n",
       "      <td>4.282742</td>\n",
       "    </tr>\n",
       "    <tr>\n",
       "      <th>3290</th>\n",
       "      <td>The Godfather</td>\n",
       "      <td>4.263840</td>\n",
       "    </tr>\n",
       "    <tr>\n",
       "      <th>2172</th>\n",
       "      <td>The Simpsons: Season 3</td>\n",
       "      <td>4.261046</td>\n",
       "    </tr>\n",
       "    <tr>\n",
       "      <th>2102</th>\n",
       "      <td>The Simpsons: Season 6</td>\n",
       "      <td>4.232384</td>\n",
       "    </tr>\n",
       "    <tr>\n",
       "      <th>2782</th>\n",
       "      <td>Braveheart</td>\n",
       "      <td>4.217458</td>\n",
       "    </tr>\n",
       "    <tr>\n",
       "      <th>3046</th>\n",
       "      <td>The Simpsons: Treehouse of Horror</td>\n",
       "      <td>4.200444</td>\n",
       "    </tr>\n",
       "    <tr>\n",
       "      <th>3864</th>\n",
       "      <td>Batman Begins</td>\n",
       "      <td>4.180833</td>\n",
       "    </tr>\n",
       "  </tbody>\n",
       "</table>\n",
       "</div>"
      ],
      "text/plain": [
       "                                                Name  weighted_score\n",
       "Movie                                                               \n",
       "2452   Lord of the Rings: The Fellowship of the Ring        4.376858\n",
       "3962                       Finding Nemo (Widescreen)        4.320700\n",
       "4306                                 The Sixth Sense        4.289076\n",
       "2862                        The Silence of the Lambs        4.282742\n",
       "3290                                   The Godfather        4.263840\n",
       "2172                          The Simpsons: Season 3        4.261046\n",
       "2102                          The Simpsons: Season 6        4.232384\n",
       "2782                                      Braveheart        4.217458\n",
       "3046               The Simpsons: Treehouse of Horror        4.200444\n",
       "3864                                   Batman Begins        4.180833"
      ]
     },
     "execution_count": 53,
     "metadata": {},
     "output_type": "execute_result"
    }
   ],
   "source": [
    "# View top ten rated movies\n",
    "combined_df[['Name', 'weighted_score']].sort_values(by='weighted_score', ascending=False).head(10)"
   ]
  },
  {
   "cell_type": "markdown",
   "metadata": {
    "colab_type": "text",
    "id": "SXa7l21yE-eY"
   },
   "source": [
    "The variable \"m\" can be seen as regularizing parameter. Changing it determines how much weight is put onto the movies with many ratings.\n",
    "Even if there is a better ranking the RMSE decreased slightly. There is a trade-off between interpretability and predictive power."
   ]
  },
  {
   "cell_type": "markdown",
   "metadata": {
    "colab_type": "text",
    "id": "0KRZO1u_24GB"
   },
   "source": [
    "## 8.2: Content Based Recommendation Systems\n",
    "\n",
    "\n",
    "The Content-Based Recommender relies on the similarity of the items being recommended. The basic idea is that if you like an item, then you will also like a “similar” item. It generally works well when it’s easy to determine the context/properties of each item. If there is no historical data for a user or there is reliable metadata for each movie, it can be useful to compare the metadata of the movies to find similar ones.\n",
    "\n",
    "![](./images/Content-based.png)"
   ]
  },
  {
   "cell_type": "markdown",
   "metadata": {
    "colab_type": "text",
    "id": "5WovG-3YFSqo"
   },
   "source": [
    "### Cosine TFIDF Movie Description Similarity"
   ]
  },
  {
   "cell_type": "markdown",
   "metadata": {
    "colab_type": "text",
    "id": "eldw_9lpNfUJ"
   },
   "source": [
    "#### TF-IDF \n",
    "\n",
    "This is a text vectorization technique which is used to determine the relative importance of a document / article / news item / movie etc.\n",
    "\n",
    "TF is simply the frequency of a word in a document. \n",
    "\n",
    "IDF is the inverse of the document frequency among the whole corpus of documents. \n",
    "\n",
    "TF-IDF is used mainly because of two reasons: Suppose we search for “the results of latest European Socccer games” on Google. It is certain that “the” will occur more frequently than “soccer games” but the relative importance of soccer games is higher than the search query point of view. \n",
    "\n",
    "In such cases, TF-IDF weighting negates the effect of high frequency words in determining the importance of an item (document).\n",
    "\n",
    "![](./images/TF-IDF-FORMULA.png)\n"
   ]
  },
  {
   "cell_type": "markdown",
   "metadata": {
    "colab_type": "text",
    "id": "Trb9DlZxOYGO"
   },
   "source": [
    "#### Cosine Similarity \n",
    "After calculating TF-IDF scores, how do we determine which items are closer to each other, rather closer to the user profile? This is accomplished using the Vector Space Model which computes the proximity based on the angle between the vectors.\n",
    "\n",
    "Consider the following example\n",
    "\n",
    "![](./images/vector-space-model.png)\n",
    "\n",
    "Sentence 2 is more likely to be using Term 2 than using Term 1. Vice-versa for Sentence 1. \n",
    "\n",
    "The method of calculating this relative measure is calculated by taking the cosine of the angle between the sentences and the terms. \n",
    "\n",
    "The ultimate reason behind using cosine is that the value of cosine will increase with decreasing value of the angle between which signifies more similarity. \n",
    "\n",
    "The vectors are length normalized after which they become vectors of length 1 and then the cosine calculation is simply the sum-product of vectors."
   ]
  },
  {
   "cell_type": "markdown",
   "metadata": {
    "colab_type": "text",
    "id": "4Cm9mjG-PSr3"
   },
   "source": [
    "In this approch we will use the movie description to create a TFIDF-matrix, which counts and weights words in all descriptions, and compute a cosine similarity between all of those sparse text-vectors. This can easily be extended to more or different features if you like.\n",
    "It is impossible for this model to compute a RMSE score, since the model does not recommend the movies directly.\n",
    "In this way it is possible to find movies closly related to each other.\n",
    "\n",
    "This approach of content based filtering can be extendend to increase the model performance by adding some more features like genres, cast, crew etc."
   ]
  },
  {
   "cell_type": "code",
   "execution_count": 53,
   "metadata": {
    "colab": {
     "base_uri": "https://localhost:8080/",
     "height": 134
    },
    "colab_type": "code",
    "id": "AdEeBvSf24GE",
    "outputId": "6dfc4ef6-f4b3-45d3-e6b1-35e2132a2375"
   },
   "outputs": [
    {
     "data": {
      "text/plain": [
       "original_title\n",
       "Toy Story                      Led by Woody, Andy's toys live happily in his ...\n",
       "Jumanji                        When siblings Judy and Peter discover an encha...\n",
       "Grumpier Old Men               A family wedding reignites the ancient feud be...\n",
       "Waiting to Exhale              Cheated on, mistreated and stepped on, the wom...\n",
       "Father of the Bride Part II    Just when George Banks has recovered from his ...\n",
       "Name: overview, dtype: object"
      ]
     },
     "execution_count": 53,
     "metadata": {},
     "output_type": "execute_result"
    }
   ],
   "source": [
    "# view sample movie descriptions\n",
    "movie_metadata['overview'].head(5)"
   ]
  },
  {
   "cell_type": "code",
   "execution_count": 64,
   "metadata": {},
   "outputs": [
    {
     "data": {
      "text/plain": [
       "(21604, 1)"
      ]
     },
     "execution_count": 64,
     "metadata": {},
     "output_type": "execute_result"
    }
   ],
   "source": [
    "movie_metadata.shape"
   ]
  },
  {
   "cell_type": "code",
   "execution_count": 54,
   "metadata": {
    "colab": {},
    "colab_type": "code",
    "id": "DiiwYdQj24GG"
   },
   "outputs": [],
   "source": [
    "# Create tf-idf matrix for text comparison\n",
    "tfidf = TfidfVectorizer(stop_words='english')\n",
    "tfidf_matrix = tfidf.fit_transform(movie_metadata['overview'])"
   ]
  },
  {
   "cell_type": "code",
   "execution_count": 63,
   "metadata": {},
   "outputs": [
    {
     "data": {
      "text/plain": [
       "(21604, 48083)"
      ]
     },
     "execution_count": 63,
     "metadata": {},
     "output_type": "execute_result"
    }
   ],
   "source": [
    "tfidf_matrix.shape"
   ]
  },
  {
   "cell_type": "code",
   "execution_count": 75,
   "metadata": {},
   "outputs": [
    {
     "data": {
      "text/plain": [
       "['crib',\n",
       " 'cribbins',\n",
       " 'cribsheet',\n",
       " 'crich',\n",
       " 'crick',\n",
       " 'cricket',\n",
       " 'cricketer',\n",
       " 'crickets',\n",
       " 'crier',\n",
       " 'cries']"
      ]
     },
     "execution_count": 75,
     "metadata": {},
     "output_type": "execute_result"
    }
   ],
   "source": [
    "tfidf.get_feature_names()[10000:10010]"
   ]
  },
  {
   "cell_type": "code",
   "execution_count": 78,
   "metadata": {
    "colab": {
     "base_uri": "https://localhost:8080/",
     "height": 560
    },
    "colab_type": "code",
    "id": "VU3Kr_OJ24GK",
    "outputId": "b6224e65-ad8d-4634-a896-c5f9676f7a00"
   },
   "outputs": [
    {
     "data": {
      "text/html": [
       "<div>\n",
       "<style scoped>\n",
       "    .dataframe tbody tr th:only-of-type {\n",
       "        vertical-align: middle;\n",
       "    }\n",
       "\n",
       "    .dataframe tbody tr th {\n",
       "        vertical-align: top;\n",
       "    }\n",
       "\n",
       "    .dataframe thead th {\n",
       "        text-align: right;\n",
       "    }\n",
       "</style>\n",
       "<table border=\"1\" class=\"dataframe\">\n",
       "  <thead>\n",
       "    <tr style=\"text-align: right;\">\n",
       "      <th></th>\n",
       "      <th>Toy Story</th>\n",
       "      <th>Jumanji</th>\n",
       "      <th>Grumpier Old Men</th>\n",
       "      <th>Waiting to Exhale</th>\n",
       "      <th>Father of the Bride Part II</th>\n",
       "      <th>Heat</th>\n",
       "      <th>Sabrina</th>\n",
       "      <th>Tom and Huck</th>\n",
       "      <th>Sudden Death</th>\n",
       "      <th>GoldenEye</th>\n",
       "      <th>...</th>\n",
       "      <th>The Final Storm</th>\n",
       "      <th>In a Heartbeat</th>\n",
       "      <th>Bloed, Zweet en Tranen</th>\n",
       "      <th>To Be Fat Like Me</th>\n",
       "      <th>Cadet Kelly</th>\n",
       "      <th>L'Homme à la tête de caoutchouc</th>\n",
       "      <th>Le locataire diabolique</th>\n",
       "      <th>L'Homme orchestre</th>\n",
       "      <th>Maa</th>\n",
       "      <th>Robin Hood</th>\n",
       "    </tr>\n",
       "  </thead>\n",
       "  <tbody>\n",
       "    <tr>\n",
       "      <th>Toy Story</th>\n",
       "      <td>1.000000</td>\n",
       "      <td>0.015385</td>\n",
       "      <td>0.000000</td>\n",
       "      <td>0.000000</td>\n",
       "      <td>0.000000</td>\n",
       "      <td>0.000000</td>\n",
       "      <td>0.000000</td>\n",
       "      <td>0.000000</td>\n",
       "      <td>0.000000</td>\n",
       "      <td>0.0</td>\n",
       "      <td>...</td>\n",
       "      <td>0.000000</td>\n",
       "      <td>0.023356</td>\n",
       "      <td>0.0</td>\n",
       "      <td>0.000000</td>\n",
       "      <td>0.0</td>\n",
       "      <td>0.000000</td>\n",
       "      <td>0.000000</td>\n",
       "      <td>0.000000</td>\n",
       "      <td>0.000000</td>\n",
       "      <td>0.0</td>\n",
       "    </tr>\n",
       "    <tr>\n",
       "      <th>Jumanji</th>\n",
       "      <td>0.015385</td>\n",
       "      <td>1.000000</td>\n",
       "      <td>0.046854</td>\n",
       "      <td>0.000000</td>\n",
       "      <td>0.000000</td>\n",
       "      <td>0.047646</td>\n",
       "      <td>0.000000</td>\n",
       "      <td>0.000000</td>\n",
       "      <td>0.098488</td>\n",
       "      <td>0.0</td>\n",
       "      <td>...</td>\n",
       "      <td>0.000000</td>\n",
       "      <td>0.000000</td>\n",
       "      <td>0.0</td>\n",
       "      <td>0.004192</td>\n",
       "      <td>0.0</td>\n",
       "      <td>0.014642</td>\n",
       "      <td>0.000000</td>\n",
       "      <td>0.000000</td>\n",
       "      <td>0.000000</td>\n",
       "      <td>0.0</td>\n",
       "    </tr>\n",
       "    <tr>\n",
       "      <th>Grumpier Old Men</th>\n",
       "      <td>0.000000</td>\n",
       "      <td>0.046854</td>\n",
       "      <td>1.000000</td>\n",
       "      <td>0.000000</td>\n",
       "      <td>0.023903</td>\n",
       "      <td>0.000000</td>\n",
       "      <td>0.000000</td>\n",
       "      <td>0.006463</td>\n",
       "      <td>0.000000</td>\n",
       "      <td>0.0</td>\n",
       "      <td>...</td>\n",
       "      <td>0.000000</td>\n",
       "      <td>0.000000</td>\n",
       "      <td>0.0</td>\n",
       "      <td>0.000000</td>\n",
       "      <td>0.0</td>\n",
       "      <td>0.015409</td>\n",
       "      <td>0.000000</td>\n",
       "      <td>0.000000</td>\n",
       "      <td>0.007101</td>\n",
       "      <td>0.0</td>\n",
       "    </tr>\n",
       "    <tr>\n",
       "      <th>Waiting to Exhale</th>\n",
       "      <td>0.000000</td>\n",
       "      <td>0.000000</td>\n",
       "      <td>0.000000</td>\n",
       "      <td>1.000000</td>\n",
       "      <td>0.000000</td>\n",
       "      <td>0.007417</td>\n",
       "      <td>0.000000</td>\n",
       "      <td>0.008592</td>\n",
       "      <td>0.000000</td>\n",
       "      <td>0.0</td>\n",
       "      <td>...</td>\n",
       "      <td>0.028460</td>\n",
       "      <td>0.000000</td>\n",
       "      <td>0.0</td>\n",
       "      <td>0.000000</td>\n",
       "      <td>0.0</td>\n",
       "      <td>0.000000</td>\n",
       "      <td>0.016324</td>\n",
       "      <td>0.006840</td>\n",
       "      <td>0.000000</td>\n",
       "      <td>0.0</td>\n",
       "    </tr>\n",
       "    <tr>\n",
       "      <th>Father of the Bride Part II</th>\n",
       "      <td>0.000000</td>\n",
       "      <td>0.000000</td>\n",
       "      <td>0.023903</td>\n",
       "      <td>0.000000</td>\n",
       "      <td>1.000000</td>\n",
       "      <td>0.000000</td>\n",
       "      <td>0.030866</td>\n",
       "      <td>0.000000</td>\n",
       "      <td>0.033213</td>\n",
       "      <td>0.0</td>\n",
       "      <td>...</td>\n",
       "      <td>0.000000</td>\n",
       "      <td>0.000000</td>\n",
       "      <td>0.0</td>\n",
       "      <td>0.022816</td>\n",
       "      <td>0.0</td>\n",
       "      <td>0.000000</td>\n",
       "      <td>0.000000</td>\n",
       "      <td>0.000000</td>\n",
       "      <td>0.012584</td>\n",
       "      <td>0.0</td>\n",
       "    </tr>\n",
       "    <tr>\n",
       "      <th>Heat</th>\n",
       "      <td>0.000000</td>\n",
       "      <td>0.047646</td>\n",
       "      <td>0.000000</td>\n",
       "      <td>0.007417</td>\n",
       "      <td>0.000000</td>\n",
       "      <td>1.000000</td>\n",
       "      <td>0.000000</td>\n",
       "      <td>0.000000</td>\n",
       "      <td>0.046349</td>\n",
       "      <td>0.0</td>\n",
       "      <td>...</td>\n",
       "      <td>0.000000</td>\n",
       "      <td>0.000000</td>\n",
       "      <td>0.0</td>\n",
       "      <td>0.000000</td>\n",
       "      <td>0.0</td>\n",
       "      <td>0.000000</td>\n",
       "      <td>0.015837</td>\n",
       "      <td>0.000000</td>\n",
       "      <td>0.000000</td>\n",
       "      <td>0.0</td>\n",
       "    </tr>\n",
       "    <tr>\n",
       "      <th>Sabrina</th>\n",
       "      <td>0.000000</td>\n",
       "      <td>0.000000</td>\n",
       "      <td>0.000000</td>\n",
       "      <td>0.000000</td>\n",
       "      <td>0.030866</td>\n",
       "      <td>0.000000</td>\n",
       "      <td>1.000000</td>\n",
       "      <td>0.000000</td>\n",
       "      <td>0.000000</td>\n",
       "      <td>0.0</td>\n",
       "      <td>...</td>\n",
       "      <td>0.000000</td>\n",
       "      <td>0.000000</td>\n",
       "      <td>0.0</td>\n",
       "      <td>0.028344</td>\n",
       "      <td>0.0</td>\n",
       "      <td>0.000000</td>\n",
       "      <td>0.105139</td>\n",
       "      <td>0.000000</td>\n",
       "      <td>0.000000</td>\n",
       "      <td>0.0</td>\n",
       "    </tr>\n",
       "    <tr>\n",
       "      <th>Tom and Huck</th>\n",
       "      <td>0.000000</td>\n",
       "      <td>0.000000</td>\n",
       "      <td>0.006463</td>\n",
       "      <td>0.008592</td>\n",
       "      <td>0.000000</td>\n",
       "      <td>0.000000</td>\n",
       "      <td>0.000000</td>\n",
       "      <td>1.000000</td>\n",
       "      <td>0.000000</td>\n",
       "      <td>0.0</td>\n",
       "      <td>...</td>\n",
       "      <td>0.164136</td>\n",
       "      <td>0.071019</td>\n",
       "      <td>0.0</td>\n",
       "      <td>0.000000</td>\n",
       "      <td>0.0</td>\n",
       "      <td>0.000000</td>\n",
       "      <td>0.000000</td>\n",
       "      <td>0.000000</td>\n",
       "      <td>0.006162</td>\n",
       "      <td>0.0</td>\n",
       "    </tr>\n",
       "    <tr>\n",
       "      <th>Sudden Death</th>\n",
       "      <td>0.000000</td>\n",
       "      <td>0.098488</td>\n",
       "      <td>0.000000</td>\n",
       "      <td>0.000000</td>\n",
       "      <td>0.033213</td>\n",
       "      <td>0.046349</td>\n",
       "      <td>0.000000</td>\n",
       "      <td>0.000000</td>\n",
       "      <td>1.000000</td>\n",
       "      <td>0.0</td>\n",
       "      <td>...</td>\n",
       "      <td>0.000000</td>\n",
       "      <td>0.000000</td>\n",
       "      <td>0.0</td>\n",
       "      <td>0.000000</td>\n",
       "      <td>0.0</td>\n",
       "      <td>0.000000</td>\n",
       "      <td>0.000000</td>\n",
       "      <td>0.000000</td>\n",
       "      <td>0.014963</td>\n",
       "      <td>0.0</td>\n",
       "    </tr>\n",
       "    <tr>\n",
       "      <th>GoldenEye</th>\n",
       "      <td>0.000000</td>\n",
       "      <td>0.000000</td>\n",
       "      <td>0.000000</td>\n",
       "      <td>0.000000</td>\n",
       "      <td>0.000000</td>\n",
       "      <td>0.000000</td>\n",
       "      <td>0.000000</td>\n",
       "      <td>0.000000</td>\n",
       "      <td>0.000000</td>\n",
       "      <td>1.0</td>\n",
       "      <td>...</td>\n",
       "      <td>0.043867</td>\n",
       "      <td>0.000000</td>\n",
       "      <td>0.0</td>\n",
       "      <td>0.000000</td>\n",
       "      <td>0.0</td>\n",
       "      <td>0.076444</td>\n",
       "      <td>0.000000</td>\n",
       "      <td>0.016266</td>\n",
       "      <td>0.000000</td>\n",
       "      <td>0.0</td>\n",
       "    </tr>\n",
       "  </tbody>\n",
       "</table>\n",
       "<p>10 rows × 21604 columns</p>\n",
       "</div>"
      ],
      "text/plain": [
       "                             Toy Story   Jumanji  Grumpier Old Men  \\\n",
       "Toy Story                     1.000000  0.015385          0.000000   \n",
       "Jumanji                       0.015385  1.000000          0.046854   \n",
       "Grumpier Old Men              0.000000  0.046854          1.000000   \n",
       "Waiting to Exhale             0.000000  0.000000          0.000000   \n",
       "Father of the Bride Part II   0.000000  0.000000          0.023903   \n",
       "Heat                          0.000000  0.047646          0.000000   \n",
       "Sabrina                       0.000000  0.000000          0.000000   \n",
       "Tom and Huck                  0.000000  0.000000          0.006463   \n",
       "Sudden Death                  0.000000  0.098488          0.000000   \n",
       "GoldenEye                     0.000000  0.000000          0.000000   \n",
       "\n",
       "                             Waiting to Exhale  Father of the Bride Part II  \\\n",
       "Toy Story                             0.000000                     0.000000   \n",
       "Jumanji                               0.000000                     0.000000   \n",
       "Grumpier Old Men                      0.000000                     0.023903   \n",
       "Waiting to Exhale                     1.000000                     0.000000   \n",
       "Father of the Bride Part II           0.000000                     1.000000   \n",
       "Heat                                  0.007417                     0.000000   \n",
       "Sabrina                               0.000000                     0.030866   \n",
       "Tom and Huck                          0.008592                     0.000000   \n",
       "Sudden Death                          0.000000                     0.033213   \n",
       "GoldenEye                             0.000000                     0.000000   \n",
       "\n",
       "                                 Heat   Sabrina  Tom and Huck  Sudden Death  \\\n",
       "Toy Story                    0.000000  0.000000      0.000000      0.000000   \n",
       "Jumanji                      0.047646  0.000000      0.000000      0.098488   \n",
       "Grumpier Old Men             0.000000  0.000000      0.006463      0.000000   \n",
       "Waiting to Exhale            0.007417  0.000000      0.008592      0.000000   \n",
       "Father of the Bride Part II  0.000000  0.030866      0.000000      0.033213   \n",
       "Heat                         1.000000  0.000000      0.000000      0.046349   \n",
       "Sabrina                      0.000000  1.000000      0.000000      0.000000   \n",
       "Tom and Huck                 0.000000  0.000000      1.000000      0.000000   \n",
       "Sudden Death                 0.046349  0.000000      0.000000      1.000000   \n",
       "GoldenEye                    0.000000  0.000000      0.000000      0.000000   \n",
       "\n",
       "                             GoldenEye  ...  The Final Storm  In a Heartbeat  \\\n",
       "Toy Story                          0.0  ...         0.000000        0.023356   \n",
       "Jumanji                            0.0  ...         0.000000        0.000000   \n",
       "Grumpier Old Men                   0.0  ...         0.000000        0.000000   \n",
       "Waiting to Exhale                  0.0  ...         0.028460        0.000000   \n",
       "Father of the Bride Part II        0.0  ...         0.000000        0.000000   \n",
       "Heat                               0.0  ...         0.000000        0.000000   \n",
       "Sabrina                            0.0  ...         0.000000        0.000000   \n",
       "Tom and Huck                       0.0  ...         0.164136        0.071019   \n",
       "Sudden Death                       0.0  ...         0.000000        0.000000   \n",
       "GoldenEye                          1.0  ...         0.043867        0.000000   \n",
       "\n",
       "                             Bloed, Zweet en Tranen  To Be Fat Like Me  \\\n",
       "Toy Story                                       0.0           0.000000   \n",
       "Jumanji                                         0.0           0.004192   \n",
       "Grumpier Old Men                                0.0           0.000000   \n",
       "Waiting to Exhale                               0.0           0.000000   \n",
       "Father of the Bride Part II                     0.0           0.022816   \n",
       "Heat                                            0.0           0.000000   \n",
       "Sabrina                                         0.0           0.028344   \n",
       "Tom and Huck                                    0.0           0.000000   \n",
       "Sudden Death                                    0.0           0.000000   \n",
       "GoldenEye                                       0.0           0.000000   \n",
       "\n",
       "                             Cadet Kelly  L'Homme à la tête de caoutchouc  \\\n",
       "Toy Story                            0.0                         0.000000   \n",
       "Jumanji                              0.0                         0.014642   \n",
       "Grumpier Old Men                     0.0                         0.015409   \n",
       "Waiting to Exhale                    0.0                         0.000000   \n",
       "Father of the Bride Part II          0.0                         0.000000   \n",
       "Heat                                 0.0                         0.000000   \n",
       "Sabrina                              0.0                         0.000000   \n",
       "Tom and Huck                         0.0                         0.000000   \n",
       "Sudden Death                         0.0                         0.000000   \n",
       "GoldenEye                            0.0                         0.076444   \n",
       "\n",
       "                             Le locataire diabolique  L'Homme orchestre  \\\n",
       "Toy Story                                   0.000000           0.000000   \n",
       "Jumanji                                     0.000000           0.000000   \n",
       "Grumpier Old Men                            0.000000           0.000000   \n",
       "Waiting to Exhale                           0.016324           0.006840   \n",
       "Father of the Bride Part II                 0.000000           0.000000   \n",
       "Heat                                        0.015837           0.000000   \n",
       "Sabrina                                     0.105139           0.000000   \n",
       "Tom and Huck                                0.000000           0.000000   \n",
       "Sudden Death                                0.000000           0.000000   \n",
       "GoldenEye                                   0.000000           0.016266   \n",
       "\n",
       "                                  Maa  Robin Hood  \n",
       "Toy Story                    0.000000         0.0  \n",
       "Jumanji                      0.000000         0.0  \n",
       "Grumpier Old Men             0.007101         0.0  \n",
       "Waiting to Exhale            0.000000         0.0  \n",
       "Father of the Bride Part II  0.012584         0.0  \n",
       "Heat                         0.000000         0.0  \n",
       "Sabrina                      0.000000         0.0  \n",
       "Tom and Huck                 0.006162         0.0  \n",
       "Sudden Death                 0.014963         0.0  \n",
       "GoldenEye                    0.000000         0.0  \n",
       "\n",
       "[10 rows x 21604 columns]"
      ]
     },
     "execution_count": 78,
     "metadata": {},
     "output_type": "execute_result"
    }
   ],
   "source": [
    "# Compute cosine similarity between all movie-descriptions\n",
    "similarity = cosine_similarity(tfidf_matrix)\n",
    "similarity_df = pd.DataFrame(similarity, \n",
    "                             index=movie_metadata.index.values, \n",
    "                             columns=movie_metadata.index.values)\n",
    "similarity_df.head(10)"
   ]
  },
  {
   "cell_type": "code",
   "execution_count": 79,
   "metadata": {},
   "outputs": [
    {
     "data": {
      "text/plain": [
       "(21604, 21604)"
      ]
     },
     "execution_count": 79,
     "metadata": {},
     "output_type": "execute_result"
    }
   ],
   "source": [
    "similarity_df.shape"
   ]
  },
  {
   "cell_type": "code",
   "execution_count": 57,
   "metadata": {
    "colab": {
     "base_uri": "https://localhost:8080/",
     "height": 151
    },
    "colab_type": "code",
    "id": "Tm2sEuOs24GN",
    "outputId": "8d53fd80-f9cd-40bf-8446-e4d5651eac9e"
   },
   "outputs": [
    {
     "name": "stdout",
     "output_type": "stream",
     "text": [
      "\n",
      "\n",
      "Top Recommended Movies for: Batman Begins are:-\n",
      " ['Batman Unmasked: The Psychology of the Dark Knight'\n",
      " 'Batman: The Dark Knight Returns, Part 1' 'Batman: Bad Blood'\n",
      " 'Batman: Year One' 'Batman: Under the Red Hood'\n",
      " 'Batman Beyond: The Movie' 'Batman Forever'\n",
      " 'Batman: Mask of the Phantasm' 'Batman & Bill' 'Batman']\n"
     ]
    }
   ],
   "source": [
    "# movie list \n",
    "movie_list = similarity_df.columns.values\n",
    "\n",
    "# sample movie\n",
    "movie = 'Batman Begins'\n",
    "\n",
    "# top recommendation movie count\n",
    "top_n = 10\n",
    "\n",
    "# get movie similarity records\n",
    "movie_sim = similarity_df[similarity_df.index == movie].values[0]\n",
    "\n",
    "# get movies sorted by similarity\n",
    "sorted_movie_ids = np.argsort(movie_sim)[::-1]\n",
    "\n",
    "# get recommended movie names\n",
    "recommended_movies = movie_list[sorted_movie_ids[1:top_n+1]]\n",
    "\n",
    "print('\\n\\nTop Recommended Movies for:', movie, 'are:-\\n', recommended_movies)"
   ]
  },
  {
   "cell_type": "markdown",
   "metadata": {
    "colab_type": "text",
    "id": "50vzONVBqkTu"
   },
   "source": [
    "__Your turn:__ Create a function as defined below, __`content_movie_recommender()`__ which can take in sample movie names and print a list of top N recommended movies"
   ]
  },
  {
   "cell_type": "code",
   "execution_count": 58,
   "metadata": {
    "colab": {},
    "colab_type": "code",
    "id": "t5cyFCvp24GT"
   },
   "outputs": [],
   "source": [
    "def content_movie_recommender(input_movie, similarity_database=similarity_df, movie_database_list=movie_list, top_n=10):\n",
    "    movie_sim = similarity_database[similarity_database.index == input_movie].values[0]\n",
    "    sorted_movie_ids = np.argsort(movie_sim)[::-1]\n",
    "    recommended_movies = movie_database_list[sorted_movie_ids[1:top_n+1]]\n",
    "    print('\\n\\nTop Recommended Movies for:', movie, 'are:-\\n', recommended_movies)"
   ]
  },
  {
   "cell_type": "markdown",
   "metadata": {
    "colab_type": "text",
    "id": "gR0sKcxIqxql"
   },
   "source": [
    "__Your turn:__ Test your function below on the given sample movies"
   ]
  },
  {
   "cell_type": "code",
   "execution_count": 59,
   "metadata": {
    "colab": {
     "base_uri": "https://localhost:8080/",
     "height": 571
    },
    "colab_type": "code",
    "id": "L0tUINS_24GV",
    "outputId": "f08f8eba-2b5e-41af-f0df-ad80821019a1"
   },
   "outputs": [
    {
     "name": "stdout",
     "output_type": "stream",
     "text": [
      "\n",
      "\n",
      "Top Recommended Movies for: Captain America are:-\n",
      " ['Iron Man & Captain America: Heroes United'\n",
      " 'Captain America: The First Avenger' 'Team Thor' 'Education for Death'\n",
      " 'Captain America: The Winter Soldier' '49th Parallel' 'Ultimate Avengers'\n",
      " 'Philadelphia Experiment II' 'Vice Versa' 'The Lair of the White Worm']\n",
      "\n",
      "\n",
      "Top Recommended Movies for: The Terminator are:-\n",
      " ['Terminator 2: Judgment Day' 'Terminator Salvation'\n",
      " 'Terminator 3: Rise of the Machines' 'Silent House' 'They Wait'\n",
      " 'Another World' 'Teenage Caveman' 'Appleseed Alpha' 'Respire'\n",
      " 'Just Married']\n",
      "\n",
      "\n",
      "Top Recommended Movies for: The Exorcist are:-\n",
      " ['Exorcist II: The Heretic' 'Domestic Disturbance' 'Damien: Omen II'\n",
      " 'The Exorcist III' 'Like Sunday, Like Rain' 'People Like Us'\n",
      " 'Quand on a 17 Ans' \"Don't Knock Twice\" 'Zero Day' 'Brick Mansions']\n",
      "\n",
      "\n",
      "Top Recommended Movies for: The Hunger Games: Mockingjay - Part 1 are:-\n",
      " ['The Hunger Games: Catching Fire' 'The Hunger Games: Mockingjay - Part 2'\n",
      " 'Last Train from Gun Hill' 'The Hunger Games'\n",
      " 'Will Success Spoil Rock Hunter?' 'Circumstance' 'Man of Steel'\n",
      " 'The Amityville Horror' 'Pregnancy Pact' 'Bananas']\n",
      "\n",
      "\n",
      "Top Recommended Movies for: The Blair Witch Project are:-\n",
      " ['Book of Shadows: Blair Witch 2' 'Freakonomics' 'Le Bal des actrices'\n",
      " 'Greystone Park' 'Willow Creek' 'Addio zio Tom' 'The Conspiracy'\n",
      " 'A Haunted House' 'Tonight She Comes' 'Curse of the Blair Witch']\n"
     ]
    }
   ],
   "source": [
    "sample_movies = ['Captain America', 'The Terminator', 'The Exorcist', \n",
    "                 'The Hunger Games: Mockingjay - Part 1', 'The Blair Witch Project']\n",
    "                 \n",
    "for movie in sample_movies:\n",
    "    content_movie_recommender(input_movie = movie)"
   ]
  },
  {
   "cell_type": "markdown",
   "metadata": {
    "colab_type": "text",
    "id": "r3fofy8frA2k"
   },
   "source": [
    "## 8.3: Collaborative filtering Recommendation Systems"
   ]
  },
  {
   "cell_type": "markdown",
   "metadata": {
    "colab_type": "text",
    "id": "j9Su_sBArKWX"
   },
   "source": [
    "### Collaborative Filtering\n",
    "Primarily recommends content to you based on inputs or actions from other people(say your friends).\n",
    "![collaborative filtering](./images/collaborative-filtering.png)\n",
    "\n"
   ]
  },
  {
   "cell_type": "markdown",
   "metadata": {
    "colab_type": "text",
    "id": "YxRJfswzrN5A"
   },
   "source": [
    "### What is the intuition behind this?\n",
    "\n",
    "*   **Personal tastes are correlated**\n",
    "\n",
    "\n",
    "        1.   If Alice and Bob both like X and Alice likes Y then Bob is more likely to like Y\n",
    "        2.   especially (perhaps) if Bob knows Alice"
   ]
  },
  {
   "cell_type": "markdown",
   "metadata": {
    "colab_type": "text",
    "id": "TUoI6lh6rSlG"
   },
   "source": [
    "Types of Collaborative Filtering:\n",
    "\n",
    "\n",
    "1.   Neighborhood methods\n",
    "2.   Matrix Factorization (Latent Factor) methods\n",
    "\n"
   ]
  },
  {
   "cell_type": "markdown",
   "metadata": {
    "colab_type": "text",
    "id": "23PnmU-FraW8"
   },
   "source": [
    "Assume you dont have users. Rather you have users' characterisics and properties(as shown in image).![Latent Factor method](https://miro.medium.com/max/876/1*AQEx38Wdo5H0WTSjRfAWtA.png)\n",
    "\n",
    "For example, a person who is brave-hearted is more likely to be interested in dark, horrific movies rather than someone who is soft and compassionate.\n",
    "* ^This is just an example(not in any literal sense)"
   ]
  },
  {
   "cell_type": "markdown",
   "metadata": {
    "colab_type": "text",
    "id": "fidNZWZXrdmt"
   },
   "source": [
    "So, once you have the properties and characteristics of each user, we call them as lower-dimensional features of the users. Similarly, we can have lower-dimensional features for movies(say its 10% action, 20% romance ...)\n",
    "\n",
    "With these features, we represent users and movies in a low dimensional space describing their properties. **This is called as the latent space.**\n",
    "\n",
    "We then recommend a movie based on its proximity to the user in the latent space."
   ]
  },
  {
   "cell_type": "markdown",
   "metadata": {
    "colab_type": "text",
    "id": "InGsgab1rhVT"
   },
   "source": [
    "### The problem:\n",
    "\n",
    "The problem we try to address here is the rating prediction problem. \n",
    "Say, we try to guess how much Alice would rate a movie and suggest those movies that we think Alice will rate higher."
   ]
  },
  {
   "cell_type": "markdown",
   "metadata": {
    "colab_type": "text",
    "id": "NUDZRCzhrijy"
   },
   "source": [
    "### Interesting...But, how do we predict how much Alice would rate a movie?\n",
    "\n",
    " The data we have is a rating history: ratings of users for items in the interval [1,5]. We can put all this data into a sparse matrix called R:\n",
    " \n",
    " $R = \n",
    " \\begin{pmatrix}\n",
    "  3 & ? &? \\\\ \n",
    "  ? & 4 & 5 \\\\\n",
    "  ? & ? & 2 \\\\\n",
    "  2 & 3 & ?\n",
    " \\end{pmatrix}\n",
    " \\begin{matrix}\n",
    "  Alice \\\\ \n",
    "  Bob \\\\\n",
    "  Chand \\\\\n",
    "  Deb\n",
    " \\end{matrix}\n",
    " $\n",
    "\n",
    " Each row of the matrix corresponds to a given user, and each column corresponds to a given item. For instance here, Alice has rated the first movie with a rating of 3, and Chand has rated the third item with a rating of 2.\n",
    "\n",
    " The matrix R is sparse (more than 99% of the entries are missing), and our goal is to predict the missing entries, i.e. predict the ?.\n"
   ]
  },
  {
   "cell_type": "markdown",
   "metadata": {
    "colab_type": "text",
    "id": "i_MeURMvrniQ"
   },
   "source": [
    "### Anatomy of the Rating matrix: LATENT SPACE\n",
    "Before predicting ratings, lets step back and understand the latent space more! \\\\\n",
    " In this Rating matrix, Rows represent Users and Columns represent Movies.\n",
    " $R = \n",
    "  \\begin{pmatrix}\n",
    "  --Alice-- \\\\ \n",
    "  --Bob-- \\\\\n",
    "  --Chand-- \\\\\n",
    "  --Deb--\n",
    " \\end{pmatrix}\n",
    " $\n",
    "\n",
    " In latent space(low dimensional features - fanatics), for instance, Alice could be defined as a little bit of an action fan, a little bit of a comedy fan, a lot of a romance fan, etc. As for Bob, he could be more keen on action movies:\n",
    "\n",
    "```\n",
    "Alice = 10% Action fan + 10% Comedy fan + 50% Romance fan + ⋯ \\\\\n",
    "Bob = 50% Action fan + 30% Comedy fan + 10% Romance fan + ⋯ \\\\\n",
    ": \\\\\n",
    "Zoe = ⋯\n",
    "```\n",
    "\n",
    "What would happen if we transposed our rating matrix? Instead of having users in the rows, we would now have movies, defined as their ratings.\n",
    "\n",
    "$\n",
    "R ^ T = \n",
    "  \\begin{pmatrix}\n",
    "  --Avengers-- \\\\ \n",
    "  --Matrix-- \\\\\n",
    "  --Inception-- \\\\\n",
    "  --Sherlock--\n",
    " \\end{pmatrix}\n",
    "$\n",
    "\n",
    "In the latent space, we will associate a semantic meaning behind each of the  movies, and these semantic meanings(say movie characteristics) can build back all of our original movies."
   ]
  },
  {
   "cell_type": "markdown",
   "metadata": {
    "colab_type": "text",
    "id": "vZ_r91x1rr65"
   },
   "source": [
    "### EXAMPLE\n",
    "In the below example, we convert users and movies to vectors(embeddings) and do dot-product to predict R\n",
    "\n",
    "user vector - U \\\\\n",
    "movies vector - V \\\\\n",
    "$\n",
    "R = U.V\n",
    "$"
   ]
  },
  {
   "cell_type": "markdown",
   "metadata": {
    "colab_type": "text",
    "id": "_Ynl-aVuf3Dy"
   },
   "source": [
    "### Additional hints:\n",
    "\n",
    "use dataframe map - [map](https://pandas.pydata.org/pandas-docs/stable/reference/api/pandas.Series.map.html)\n",
    "\n",
    "Create tensor - [Input](https://www.tensorflow.org/api_docs/python/tf/keras/Input#view-aliases)\n",
    "\n",
    "Create Embedding - [Embedding](https://www.tensorflow.org/api_docs/python/tf/keras/layers/Embedding)\n",
    "\n",
    "Dot product - [Dot](https://www.tensorflow.org/api_docs/python/tf/keras/layers/Dot)\n",
    "\n",
    "Fit model : \n",
    "[fit](https://www.tensorflow.org/api_docs/python/tf/keras/Model#fit)\n",
    "\n",
    "Measure Performance: [mean_squared_error](https://scikit-learn.org/stable/modules/generated/sklearn.metrics.mean_squared_error.html)"
   ]
  },
  {
   "cell_type": "markdown",
   "metadata": {
    "colab_type": "text",
    "id": "wpPZfOrDs-Qs"
   },
   "source": [
    "### Q8.3: Building a Deep Learning Matrix Factorization based Collaborative Filtering Recommendation System\n",
    "\n",
    "__Your Turn:__ Fill in the necessary blank code snippets in the following sections to train your own DL collaborative  filtering system\n",
    "\n",
    "#### Create Configuration Parameters"
   ]
  },
  {
   "cell_type": "code",
   "execution_count": 60,
   "metadata": {},
   "outputs": [
    {
     "data": {
      "text/html": [
       "<div>\n",
       "<style scoped>\n",
       "    .dataframe tbody tr th:only-of-type {\n",
       "        vertical-align: middle;\n",
       "    }\n",
       "\n",
       "    .dataframe tbody tr th {\n",
       "        vertical-align: top;\n",
       "    }\n",
       "\n",
       "    .dataframe thead th {\n",
       "        text-align: right;\n",
       "    }\n",
       "</style>\n",
       "<table border=\"1\" class=\"dataframe\">\n",
       "  <thead>\n",
       "    <tr style=\"text-align: right;\">\n",
       "      <th></th>\n",
       "      <th>User</th>\n",
       "      <th>Rating</th>\n",
       "      <th>Movie</th>\n",
       "    </tr>\n",
       "  </thead>\n",
       "  <tbody>\n",
       "    <tr>\n",
       "      <th>0</th>\n",
       "      <td>1706987</td>\n",
       "      <td>1.0</td>\n",
       "      <td>3926</td>\n",
       "    </tr>\n",
       "    <tr>\n",
       "      <th>1</th>\n",
       "      <td>468079</td>\n",
       "      <td>5.0</td>\n",
       "      <td>1066</td>\n",
       "    </tr>\n",
       "    <tr>\n",
       "      <th>2</th>\n",
       "      <td>1924957</td>\n",
       "      <td>4.0</td>\n",
       "      <td>4227</td>\n",
       "    </tr>\n",
       "    <tr>\n",
       "      <th>3</th>\n",
       "      <td>1707271</td>\n",
       "      <td>3.0</td>\n",
       "      <td>108</td>\n",
       "    </tr>\n",
       "    <tr>\n",
       "      <th>4</th>\n",
       "      <td>477988</td>\n",
       "      <td>3.0</td>\n",
       "      <td>4269</td>\n",
       "    </tr>\n",
       "  </tbody>\n",
       "</table>\n",
       "</div>"
      ],
      "text/plain": [
       "      User  Rating  Movie\n",
       "0  1706987     1.0   3926\n",
       "1   468079     5.0   1066\n",
       "2  1924957     4.0   4227\n",
       "3  1707271     3.0    108\n",
       "4   477988     3.0   4269"
      ]
     },
     "execution_count": 60,
     "metadata": {},
     "output_type": "execute_result"
    }
   ],
   "source": [
    "df_filtered.head()"
   ]
  },
  {
   "cell_type": "code",
   "execution_count": 61,
   "metadata": {},
   "outputs": [
    {
     "data": {
      "text/plain": [
       "(5930581, 3)"
      ]
     },
     "execution_count": 61,
     "metadata": {},
     "output_type": "execute_result"
    }
   ],
   "source": [
    "df_filtered.shape"
   ]
  },
  {
   "cell_type": "code",
   "execution_count": 62,
   "metadata": {},
   "outputs": [
    {
     "data": {
      "text/html": [
       "<div>\n",
       "<style scoped>\n",
       "    .dataframe tbody tr th:only-of-type {\n",
       "        vertical-align: middle;\n",
       "    }\n",
       "\n",
       "    .dataframe tbody tr th {\n",
       "        vertical-align: top;\n",
       "    }\n",
       "\n",
       "    .dataframe thead th {\n",
       "        text-align: right;\n",
       "    }\n",
       "</style>\n",
       "<table border=\"1\" class=\"dataframe\">\n",
       "  <thead>\n",
       "    <tr style=\"text-align: right;\">\n",
       "      <th></th>\n",
       "      <th>User</th>\n",
       "      <th>Rating</th>\n",
       "      <th>Movie</th>\n",
       "    </tr>\n",
       "  </thead>\n",
       "  <tbody>\n",
       "    <tr>\n",
       "      <th>0</th>\n",
       "      <td>1706987</td>\n",
       "      <td>1.0</td>\n",
       "      <td>3926</td>\n",
       "    </tr>\n",
       "    <tr>\n",
       "      <th>1</th>\n",
       "      <td>468079</td>\n",
       "      <td>5.0</td>\n",
       "      <td>1066</td>\n",
       "    </tr>\n",
       "    <tr>\n",
       "      <th>2</th>\n",
       "      <td>1924957</td>\n",
       "      <td>4.0</td>\n",
       "      <td>4227</td>\n",
       "    </tr>\n",
       "    <tr>\n",
       "      <th>3</th>\n",
       "      <td>1707271</td>\n",
       "      <td>3.0</td>\n",
       "      <td>108</td>\n",
       "    </tr>\n",
       "    <tr>\n",
       "      <th>4</th>\n",
       "      <td>477988</td>\n",
       "      <td>3.0</td>\n",
       "      <td>4269</td>\n",
       "    </tr>\n",
       "  </tbody>\n",
       "</table>\n",
       "</div>"
      ],
      "text/plain": [
       "      User  Rating  Movie\n",
       "0  1706987     1.0   3926\n",
       "1   468079     5.0   1066\n",
       "2  1924957     4.0   4227\n",
       "3  1707271     3.0    108\n",
       "4   477988     3.0   4269"
      ]
     },
     "execution_count": 62,
     "metadata": {},
     "output_type": "execute_result"
    }
   ],
   "source": [
    "df_train.head()"
   ]
  },
  {
   "cell_type": "code",
   "execution_count": 63,
   "metadata": {},
   "outputs": [
    {
     "data": {
      "text/plain": [
       "(5830581, 3)"
      ]
     },
     "execution_count": 63,
     "metadata": {},
     "output_type": "execute_result"
    }
   ],
   "source": [
    "df_train.shape"
   ]
  },
  {
   "cell_type": "code",
   "execution_count": 64,
   "metadata": {
    "colab": {},
    "colab_type": "code",
    "id": "AUz12Y_Z24Gh"
   },
   "outputs": [],
   "source": [
    "# Create user and movie-id mapping to convert to numbers\n",
    "user_id_mapping = {id:i for i, id in enumerate(df_filtered['User'].unique())}\n",
    "movie_id_mapping = {id:i for i, id in enumerate(df_filtered['Movie'].unique())}"
   ]
  },
  {
   "cell_type": "code",
   "execution_count": 65,
   "metadata": {
    "colab": {},
    "colab_type": "code",
    "id": "4vjVBUM724Gj"
   },
   "outputs": [],
   "source": [
    "# use dataframe map function to map users & movies to mapped ids based on above mapping\n",
    "train_user_data = df_train['User'].map(user_id_mapping)\n",
    "train_movie_data = df_train['Movie'].map(movie_id_mapping)"
   ]
  },
  {
   "cell_type": "code",
   "execution_count": 66,
   "metadata": {},
   "outputs": [
    {
     "name": "stdout",
     "output_type": "stream",
     "text": [
      "size of train user data (5830581,)\n",
      "size of train movie data (5830581,)\n"
     ]
    }
   ],
   "source": [
    "print('size of train user data', train_user_data.shape)\n",
    "print('size of train movie data', train_movie_data.shape)"
   ]
  },
  {
   "cell_type": "code",
   "execution_count": 67,
   "metadata": {
    "colab": {},
    "colab_type": "code",
    "id": "_lpKylKD24Gl"
   },
   "outputs": [],
   "source": [
    "# do the same for test data\n",
    "test_user_data = df_test['User'].map(user_id_mapping)\n",
    "test_movie_data = df_test['Movie'].map(movie_id_mapping)"
   ]
  },
  {
   "cell_type": "code",
   "execution_count": 68,
   "metadata": {},
   "outputs": [
    {
     "name": "stdout",
     "output_type": "stream",
     "text": [
      "size of test user data (100000,)\n",
      "size of test movie data (100000,)\n"
     ]
    }
   ],
   "source": [
    "print('size of test user data', test_user_data.shape)\n",
    "print('size of test movie data', test_movie_data.shape)"
   ]
  },
  {
   "cell_type": "code",
   "execution_count": 69,
   "metadata": {
    "colab": {},
    "colab_type": "code",
    "id": "GME8vJLp24Gn"
   },
   "outputs": [],
   "source": [
    "# Get input variable-sizes\n",
    "users = len(user_id_mapping)\n",
    "movies = len(movie_id_mapping)\n",
    "embedding_size = 100"
   ]
  },
  {
   "cell_type": "markdown",
   "metadata": {
    "colab_type": "text",
    "id": "enO8VNVP24Gp"
   },
   "source": [
    "#### Construct Deep Learning Model Architecture"
   ]
  },
  {
   "cell_type": "code",
   "execution_count": 70,
   "metadata": {
    "colab": {},
    "colab_type": "code",
    "id": "GSXpYgst24Gq"
   },
   "outputs": [
    {
     "data": {
      "text/plain": [
       "<tf.Tensor 'user:0' shape=(?, 1) dtype=float32>"
      ]
     },
     "execution_count": 70,
     "metadata": {},
     "output_type": "execute_result"
    }
   ],
   "source": [
    "# use Input() to create tensors for - 'user' and 'movie'\n",
    "user_id_input = Input(shape=(1,), name='user')\n",
    "user_id_input"
   ]
  },
  {
   "cell_type": "code",
   "execution_count": 71,
   "metadata": {},
   "outputs": [
    {
     "data": {
      "text/plain": [
       "<tf.Tensor 'movie:0' shape=(?, 1) dtype=float32>"
      ]
     },
     "execution_count": 71,
     "metadata": {},
     "output_type": "execute_result"
    }
   ],
   "source": [
    "movie_id_input = Input(shape=(1,), name='movie')\n",
    "movie_id_input"
   ]
  },
  {
   "cell_type": "code",
   "execution_count": 72,
   "metadata": {
    "colab": {},
    "colab_type": "code",
    "id": "gdV4lJri24Gs"
   },
   "outputs": [],
   "source": [
    "# Create embedding layer for users \n",
    "user_embedding = Embedding(output_dim=embedding_size, \n",
    "                           input_dim=users,\n",
    "                           input_length=1, \n",
    "                           name='user_embedding')(user_id_input)\n",
    "\n",
    "# create embedding layer for movies just like users\n",
    "movie_embedding = Embedding(output_dim=embedding_size, \n",
    "                           input_dim=movies,\n",
    "                           input_length=1, \n",
    "                           name='movie_embedding')(movie_id_input)"
   ]
  },
  {
   "cell_type": "code",
   "execution_count": 73,
   "metadata": {
    "colab": {},
    "colab_type": "code",
    "id": "cLpdb0pu24Gu"
   },
   "outputs": [],
   "source": [
    "# Reshape the embedding layers\n",
    "user_vector = Reshape([embedding_size])(user_embedding)\n",
    "movie_vector = Reshape([embedding_size])(movie_embedding)"
   ]
  },
  {
   "cell_type": "code",
   "execution_count": 74,
   "metadata": {
    "colab": {},
    "colab_type": "code",
    "id": "S-RxXy5B24Gw"
   },
   "outputs": [],
   "source": [
    "# Compute dot-product of reshaped embedding layers as prediction\n",
    "y = Dot(1, normalize=False)([user_vector, movie_vector])"
   ]
  },
  {
   "cell_type": "code",
   "execution_count": 75,
   "metadata": {
    "colab": {
     "base_uri": "https://localhost:8080/",
     "height": 403
    },
    "colab_type": "code",
    "id": "5wWeeSfR24Gy",
    "outputId": "cc2f5e4d-e795-4514-9bf1-804cab954ff3"
   },
   "outputs": [
    {
     "name": "stdout",
     "output_type": "stream",
     "text": [
      "Model: \"model_1\"\n",
      "__________________________________________________________________________________________________\n",
      "Layer (type)                    Output Shape         Param #     Connected to                     \n",
      "==================================================================================================\n",
      "user (InputLayer)               (None, 1)            0                                            \n",
      "__________________________________________________________________________________________________\n",
      "movie (InputLayer)              (None, 1)            0                                            \n",
      "__________________________________________________________________________________________________\n",
      "user_embedding (Embedding)      (None, 1, 100)       2082800     user[0][0]                       \n",
      "__________________________________________________________________________________________________\n",
      "movie_embedding (Embedding)     (None, 1, 100)       174100      movie[0][0]                      \n",
      "__________________________________________________________________________________________________\n",
      "reshape_1 (Reshape)             (None, 100)          0           user_embedding[0][0]             \n",
      "__________________________________________________________________________________________________\n",
      "reshape_2 (Reshape)             (None, 100)          0           movie_embedding[0][0]            \n",
      "__________________________________________________________________________________________________\n",
      "dot_1 (Dot)                     (None, 1)            0           reshape_1[0][0]                  \n",
      "                                                                 reshape_2[0][0]                  \n",
      "==================================================================================================\n",
      "Total params: 2,256,900\n",
      "Trainable params: 2,256,900\n",
      "Non-trainable params: 0\n",
      "__________________________________________________________________________________________________\n"
     ]
    }
   ],
   "source": [
    "# Setup model\n",
    "model = Model(inputs=[user_id_input, movie_id_input], outputs=y)\n",
    "model.compile(loss='mse', optimizer='adam')\n",
    "model.summary()"
   ]
  },
  {
   "cell_type": "markdown",
   "metadata": {
    "colab_type": "text",
    "id": "g0COamq25owq"
   },
   "source": [
    "#### Train and Test the Model"
   ]
  },
  {
   "cell_type": "code",
   "execution_count": 76,
   "metadata": {
    "colab": {
     "base_uri": "https://localhost:8080/",
     "height": 218
    },
    "colab_type": "code",
    "id": "nK6aBtQN24Gz",
    "outputId": "7c729304-f1aa-4e8d-a3e6-aa4a82ebfd0e"
   },
   "outputs": [
    {
     "name": "stdout",
     "output_type": "stream",
     "text": [
      "Train on 5247522 samples, validate on 583059 samples\n",
      "Epoch 1/5\n",
      "5247522/5247522 [==============================] - 67s 13us/step - loss: 2.0884 - val_loss: 0.7777\n",
      "Epoch 2/5\n",
      "5247522/5247522 [==============================] - 66s 13us/step - loss: 0.7395 - val_loss: 0.7271\n",
      "Epoch 3/5\n",
      "5247522/5247522 [==============================] - 66s 12us/step - loss: 0.6747 - val_loss: 0.6990\n",
      "Epoch 4/5\n",
      "5247522/5247522 [==============================] - 66s 13us/step - loss: 0.6127 - val_loss: 0.6896\n",
      "Epoch 5/5\n",
      "5247522/5247522 [==============================] - 65s 12us/step - loss: 0.5496 - val_loss: 0.7002\n"
     ]
    },
    {
     "data": {
      "text/plain": [
       "<keras.callbacks.History at 0x7f773c09dad0>"
      ]
     },
     "execution_count": 76,
     "metadata": {},
     "output_type": "execute_result"
    }
   ],
   "source": [
    "# Fit model\n",
    "X = [train_user_data, train_movie_data]\n",
    "y = df_train['Rating']\n",
    "\n",
    "batch_size = 1024\n",
    "epochs = 5\n",
    "validation_split = 0.1\n",
    "\n",
    "model.fit(X, y,\n",
    "          batch_size=batch_size, \n",
    "          epochs=epochs,\n",
    "          validation_split=validation_split,\n",
    "          shuffle=True,\n",
    "          verbose=1)"
   ]
  },
  {
   "cell_type": "code",
   "execution_count": 77,
   "metadata": {
    "colab": {
     "base_uri": "https://localhost:8080/",
     "height": 67
    },
    "colab_type": "code",
    "id": "RZLw4PX3AUkz",
    "outputId": "36987db3-b604-400f-e419-79a61f602ef1"
   },
   "outputs": [
    {
     "name": "stdout",
     "output_type": "stream",
     "text": [
      "\n",
      "\n",
      "Testing Result With DL Matrix-Factorization: 0.8342 RMSE\n"
     ]
    }
   ],
   "source": [
    "# Test model by making predictions on test data\n",
    "y_pred = model.predict([test_user_data, test_movie_data]).ravel()\n",
    "# clip upper and lower ratings\n",
    "y_pred = list(map(lambda x: 1.0 if x < 1 else 5.0 if x > 5.0 else x, y_pred))\n",
    "# get true labels\n",
    "y_true = df_test['Rating'].values\n",
    "\n",
    "#  Compute RMSE\n",
    "rmse = np.sqrt(mean_squared_error(y_pred=y_pred, y_true=y_true))\n",
    "print('\\n\\nTesting Result With DL Matrix-Factorization: {:.4f} RMSE'.format(rmse))"
   ]
  },
  {
   "cell_type": "code",
   "execution_count": 78,
   "metadata": {
    "colab": {
     "base_uri": "https://localhost:8080/",
     "height": 639
    },
    "colab_type": "code",
    "id": "oAX4MABlCm-9",
    "outputId": "e041f405-8fe7-46ce-bcb1-d83de061de7f"
   },
   "outputs": [
    {
     "data": {
      "text/html": [
       "<div>\n",
       "<style scoped>\n",
       "    .dataframe tbody tr th:only-of-type {\n",
       "        vertical-align: middle;\n",
       "    }\n",
       "\n",
       "    .dataframe tbody tr th {\n",
       "        vertical-align: top;\n",
       "    }\n",
       "\n",
       "    .dataframe thead th {\n",
       "        text-align: right;\n",
       "    }\n",
       "</style>\n",
       "<table border=\"1\" class=\"dataframe\">\n",
       "  <thead>\n",
       "    <tr style=\"text-align: right;\">\n",
       "      <th></th>\n",
       "      <th>User ID</th>\n",
       "      <th>Movie ID</th>\n",
       "      <th>Movie Name</th>\n",
       "      <th>Predicted Rating</th>\n",
       "      <th>Actual Rating</th>\n",
       "    </tr>\n",
       "  </thead>\n",
       "  <tbody>\n",
       "    <tr>\n",
       "      <th>0</th>\n",
       "      <td>44</td>\n",
       "      <td>1046</td>\n",
       "      <td>Aimee and Jaguar</td>\n",
       "      <td>3.1</td>\n",
       "      <td>3.0</td>\n",
       "    </tr>\n",
       "    <tr>\n",
       "      <th>1</th>\n",
       "      <td>2855</td>\n",
       "      <td>159</td>\n",
       "      <td>Gormenghast</td>\n",
       "      <td>4.8</td>\n",
       "      <td>5.0</td>\n",
       "    </tr>\n",
       "    <tr>\n",
       "      <th>2</th>\n",
       "      <td>2315</td>\n",
       "      <td>1083</td>\n",
       "      <td>Walking with Prehistoric Beasts</td>\n",
       "      <td>2.5</td>\n",
       "      <td>2.0</td>\n",
       "    </tr>\n",
       "    <tr>\n",
       "      <th>3</th>\n",
       "      <td>13101</td>\n",
       "      <td>152</td>\n",
       "      <td>MTV Yoga</td>\n",
       "      <td>4.1</td>\n",
       "      <td>4.0</td>\n",
       "    </tr>\n",
       "    <tr>\n",
       "      <th>4</th>\n",
       "      <td>15861</td>\n",
       "      <td>11</td>\n",
       "      <td>My Favorite Brunette</td>\n",
       "      <td>4.3</td>\n",
       "      <td>4.0</td>\n",
       "    </tr>\n",
       "    <tr>\n",
       "      <th>5</th>\n",
       "      <td>16165</td>\n",
       "      <td>141</td>\n",
       "      <td>The Tricky Master</td>\n",
       "      <td>3.1</td>\n",
       "      <td>2.0</td>\n",
       "    </tr>\n",
       "    <tr>\n",
       "      <th>6</th>\n",
       "      <td>1342</td>\n",
       "      <td>148</td>\n",
       "      <td>The Edward R. Murrow Collection</td>\n",
       "      <td>3.9</td>\n",
       "      <td>4.0</td>\n",
       "    </tr>\n",
       "    <tr>\n",
       "      <th>7</th>\n",
       "      <td>17388</td>\n",
       "      <td>829</td>\n",
       "      <td>Return to a Better Tomorrow</td>\n",
       "      <td>3.7</td>\n",
       "      <td>5.0</td>\n",
       "    </tr>\n",
       "    <tr>\n",
       "      <th>8</th>\n",
       "      <td>3371</td>\n",
       "      <td>149</td>\n",
       "      <td>Firetrap</td>\n",
       "      <td>4.6</td>\n",
       "      <td>5.0</td>\n",
       "    </tr>\n",
       "    <tr>\n",
       "      <th>9</th>\n",
       "      <td>20307</td>\n",
       "      <td>718</td>\n",
       "      <td>City of Industry</td>\n",
       "      <td>3.1</td>\n",
       "      <td>3.0</td>\n",
       "    </tr>\n",
       "    <tr>\n",
       "      <th>10</th>\n",
       "      <td>16351</td>\n",
       "      <td>142</td>\n",
       "      <td>The Game</td>\n",
       "      <td>2.5</td>\n",
       "      <td>2.0</td>\n",
       "    </tr>\n",
       "    <tr>\n",
       "      <th>11</th>\n",
       "      <td>5264</td>\n",
       "      <td>538</td>\n",
       "      <td>Rumpole of the Bailey: Series 4</td>\n",
       "      <td>3.8</td>\n",
       "      <td>2.0</td>\n",
       "    </tr>\n",
       "    <tr>\n",
       "      <th>12</th>\n",
       "      <td>6640</td>\n",
       "      <td>748</td>\n",
       "      <td>Ernest Goes to Jail</td>\n",
       "      <td>4.2</td>\n",
       "      <td>3.0</td>\n",
       "    </tr>\n",
       "    <tr>\n",
       "      <th>13</th>\n",
       "      <td>1846</td>\n",
       "      <td>170</td>\n",
       "      <td>Funny Face</td>\n",
       "      <td>2.6</td>\n",
       "      <td>1.0</td>\n",
       "    </tr>\n",
       "    <tr>\n",
       "      <th>14</th>\n",
       "      <td>4606</td>\n",
       "      <td>574</td>\n",
       "      <td>Highlander: Season 4</td>\n",
       "      <td>3.1</td>\n",
       "      <td>3.0</td>\n",
       "    </tr>\n",
       "    <tr>\n",
       "      <th>15</th>\n",
       "      <td>13957</td>\n",
       "      <td>829</td>\n",
       "      <td>Return to a Better Tomorrow</td>\n",
       "      <td>3.5</td>\n",
       "      <td>5.0</td>\n",
       "    </tr>\n",
       "    <tr>\n",
       "      <th>16</th>\n",
       "      <td>10155</td>\n",
       "      <td>193</td>\n",
       "      <td>Arliss: The Best of Arliss</td>\n",
       "      <td>4.4</td>\n",
       "      <td>5.0</td>\n",
       "    </tr>\n",
       "    <tr>\n",
       "      <th>17</th>\n",
       "      <td>13391</td>\n",
       "      <td>1037</td>\n",
       "      <td>Boogiepop Phantom</td>\n",
       "      <td>3.0</td>\n",
       "      <td>3.0</td>\n",
       "    </tr>\n",
       "    <tr>\n",
       "      <th>18</th>\n",
       "      <td>5991</td>\n",
       "      <td>249</td>\n",
       "      <td>Cast a Giant Shadow</td>\n",
       "      <td>3.1</td>\n",
       "      <td>3.0</td>\n",
       "    </tr>\n",
       "    <tr>\n",
       "      <th>19</th>\n",
       "      <td>6994</td>\n",
       "      <td>693</td>\n",
       "      <td>When Dinosaurs Roamed America</td>\n",
       "      <td>4.0</td>\n",
       "      <td>4.0</td>\n",
       "    </tr>\n",
       "  </tbody>\n",
       "</table>\n",
       "</div>"
      ],
      "text/plain": [
       "    User ID  Movie ID                       Movie Name  Predicted Rating  \\\n",
       "0        44      1046                 Aimee and Jaguar               3.1   \n",
       "1      2855       159                      Gormenghast               4.8   \n",
       "2      2315      1083  Walking with Prehistoric Beasts               2.5   \n",
       "3     13101       152                         MTV Yoga               4.1   \n",
       "4     15861        11             My Favorite Brunette               4.3   \n",
       "5     16165       141                The Tricky Master               3.1   \n",
       "6      1342       148  The Edward R. Murrow Collection               3.9   \n",
       "7     17388       829      Return to a Better Tomorrow               3.7   \n",
       "8      3371       149                         Firetrap               4.6   \n",
       "9     20307       718                 City of Industry               3.1   \n",
       "10    16351       142                         The Game               2.5   \n",
       "11     5264       538  Rumpole of the Bailey: Series 4               3.8   \n",
       "12     6640       748              Ernest Goes to Jail               4.2   \n",
       "13     1846       170                       Funny Face               2.6   \n",
       "14     4606       574             Highlander: Season 4               3.1   \n",
       "15    13957       829      Return to a Better Tomorrow               3.5   \n",
       "16    10155       193       Arliss: The Best of Arliss               4.4   \n",
       "17    13391      1037                Boogiepop Phantom               3.0   \n",
       "18     5991       249              Cast a Giant Shadow               3.1   \n",
       "19     6994       693    When Dinosaurs Roamed America               4.0   \n",
       "\n",
       "    Actual Rating  \n",
       "0             3.0  \n",
       "1             5.0  \n",
       "2             2.0  \n",
       "3             4.0  \n",
       "4             4.0  \n",
       "5             2.0  \n",
       "6             4.0  \n",
       "7             5.0  \n",
       "8             5.0  \n",
       "9             3.0  \n",
       "10            2.0  \n",
       "11            2.0  \n",
       "12            3.0  \n",
       "13            1.0  \n",
       "14            3.0  \n",
       "15            5.0  \n",
       "16            5.0  \n",
       "17            3.0  \n",
       "18            3.0  \n",
       "19            4.0  "
      ]
     },
     "execution_count": 78,
     "metadata": {},
     "output_type": "execute_result"
    }
   ],
   "source": [
    "## Let's see how our collaborative model performs by seeing the predicted and actual rating for the given user and movie pair\n",
    "results_df = pd.DataFrame({\n",
    "    'User ID': test_user_data.values,\n",
    "    'Movie ID': test_movie_data.values,\n",
    "    'Movie Name': [movie_titles['Name'].iloc[item] for item in test_movie_data],\n",
    "    'Predicted Rating': np.round(y_pred, 1),\n",
    "    'Actual Rating': y_true\n",
    "})\n",
    "\n",
    "results_df.head(20)"
   ]
  },
  {
   "cell_type": "markdown",
   "metadata": {
    "colab_type": "text",
    "id": "Gaq-sJqpc_B_"
   },
   "source": [
    "## 8.4: Hybrid Recommendation System (Content & Collaborative)\n",
    "\n",
    "One advantage of deep learning models is, that movie-metadata can easily be added to the model.\n",
    "We will tf-idf transform the short description of all movies to a sparse vector. The model will learn to reduce the dimensionality of this vector and how to combine metadata with the embedding of the user-id and the movie-id. In this way we can add any additional metadata to our own recommender.\n",
    "These kind of hybrid systems can learn how to reduce the impact of the cold start problem.\n",
    "\n",
    "Deep learning models require lots of data to train and predict. To provide our model with more data, we will include the movie metadata as well. We will do the following:\n",
    "\n",
    "\n",
    "*   Use movie metadata to combine with user and movie matrices in order to get more data\n",
    "*   Use tf-idf transform to vectorize movie metadata (Sparse Layer)\n",
    "*   Create an embedding of the metadata 512 -> 256 \n",
    "*   Combine all embeddings for movie tf-idf vectors, user and ratings to arrive at a common embedding space (256 sized embeddings per entity)\n",
    "*   Use the embeddings to train the model and get predictions on the test data\n",
    "\n",
    "\n",
    "\n",
    "\n",
    "\n"
   ]
  },
  {
   "cell_type": "markdown",
   "metadata": {
    "colab_type": "text",
    "id": "gw7fwxvQc4DV"
   },
   "source": [
    "### Additional Hints:\n",
    "\n",
    "Dense layer setup :\n",
    "[Dense](https://www.tensorflow.org/api_docs/python/tf/keras/layers/Dense#example_2)\n",
    "\n",
    "Create model using tf.keras API : \n",
    "[Model](https://www.tensorflow.org/api_docs/python/tf/keras/Model#used-in-the-notebooks)\n",
    "\n",
    "Compile model using : [Compile](https://www.tensorflow.org/api_docs/python/tf/keras/Model#compile)\n",
    "\n",
    "Fit model : \n",
    "[fit](https://www.tensorflow.org/api_docs/python/tf/keras/Model#fit)\n",
    "\n",
    "Predict accuracy: [mean_squared_error](https://scikit-learn.org/stable/modules/generated/sklearn.metrics.mean_squared_error.html)\n",
    "\n"
   ]
  },
  {
   "cell_type": "markdown",
   "metadata": {
    "colab_type": "text",
    "id": "hINM6pCk3yKz"
   },
   "source": [
    "### Q8.3: Building a Deep Learning Hybrid Recommendation System\n",
    "\n",
    "We will be building the following hybrid deep learning recommendation model as scene in the following schematic.\n",
    "\n",
    "![](./images/hybrid-dl-model.png)\n",
    "\n",
    "__Your Turn:__ Fill in the necessary blank code snippets in the following sections to train your own DL hybrid recommendation system\n",
    "\n",
    "#### Create Configuration Parameters"
   ]
  },
  {
   "cell_type": "code",
   "execution_count": 79,
   "metadata": {},
   "outputs": [
    {
     "data": {
      "text/html": [
       "<div>\n",
       "<style scoped>\n",
       "    .dataframe tbody tr th:only-of-type {\n",
       "        vertical-align: middle;\n",
       "    }\n",
       "\n",
       "    .dataframe tbody tr th {\n",
       "        vertical-align: top;\n",
       "    }\n",
       "\n",
       "    .dataframe thead th {\n",
       "        text-align: right;\n",
       "    }\n",
       "</style>\n",
       "<table border=\"1\" class=\"dataframe\">\n",
       "  <thead>\n",
       "    <tr style=\"text-align: right;\">\n",
       "      <th></th>\n",
       "      <th>User</th>\n",
       "      <th>Rating</th>\n",
       "      <th>Movie</th>\n",
       "    </tr>\n",
       "  </thead>\n",
       "  <tbody>\n",
       "    <tr>\n",
       "      <th>0</th>\n",
       "      <td>1706987</td>\n",
       "      <td>1.0</td>\n",
       "      <td>3926</td>\n",
       "    </tr>\n",
       "    <tr>\n",
       "      <th>1</th>\n",
       "      <td>468079</td>\n",
       "      <td>5.0</td>\n",
       "      <td>1066</td>\n",
       "    </tr>\n",
       "    <tr>\n",
       "      <th>2</th>\n",
       "      <td>1924957</td>\n",
       "      <td>4.0</td>\n",
       "      <td>4227</td>\n",
       "    </tr>\n",
       "    <tr>\n",
       "      <th>3</th>\n",
       "      <td>1707271</td>\n",
       "      <td>3.0</td>\n",
       "      <td>108</td>\n",
       "    </tr>\n",
       "    <tr>\n",
       "      <th>4</th>\n",
       "      <td>477988</td>\n",
       "      <td>3.0</td>\n",
       "      <td>4269</td>\n",
       "    </tr>\n",
       "    <tr>\n",
       "      <th>...</th>\n",
       "      <td>...</td>\n",
       "      <td>...</td>\n",
       "      <td>...</td>\n",
       "    </tr>\n",
       "    <tr>\n",
       "      <th>5930576</th>\n",
       "      <td>2558262</td>\n",
       "      <td>5.0</td>\n",
       "      <td>1810</td>\n",
       "    </tr>\n",
       "    <tr>\n",
       "      <th>5930577</th>\n",
       "      <td>608149</td>\n",
       "      <td>2.0</td>\n",
       "      <td>2612</td>\n",
       "    </tr>\n",
       "    <tr>\n",
       "      <th>5930578</th>\n",
       "      <td>412604</td>\n",
       "      <td>2.0</td>\n",
       "      <td>3113</td>\n",
       "    </tr>\n",
       "    <tr>\n",
       "      <th>5930579</th>\n",
       "      <td>1988325</td>\n",
       "      <td>3.0</td>\n",
       "      <td>2186</td>\n",
       "    </tr>\n",
       "    <tr>\n",
       "      <th>5930580</th>\n",
       "      <td>2407866</td>\n",
       "      <td>2.0</td>\n",
       "      <td>4460</td>\n",
       "    </tr>\n",
       "  </tbody>\n",
       "</table>\n",
       "<p>5930581 rows × 3 columns</p>\n",
       "</div>"
      ],
      "text/plain": [
       "            User  Rating  Movie\n",
       "0        1706987     1.0   3926\n",
       "1         468079     5.0   1066\n",
       "2        1924957     4.0   4227\n",
       "3        1707271     3.0    108\n",
       "4         477988     3.0   4269\n",
       "...          ...     ...    ...\n",
       "5930576  2558262     5.0   1810\n",
       "5930577   608149     2.0   2612\n",
       "5930578   412604     2.0   3113\n",
       "5930579  1988325     3.0   2186\n",
       "5930580  2407866     2.0   4460\n",
       "\n",
       "[5930581 rows x 3 columns]"
      ]
     },
     "execution_count": 79,
     "metadata": {},
     "output_type": "execute_result"
    }
   ],
   "source": [
    "# df_filtered --> min # of user ratings > 200 & min. # of movie ratings >1000\n",
    "df_filtered"
   ]
  },
  {
   "cell_type": "code",
   "execution_count": 80,
   "metadata": {
    "colab": {},
    "colab_type": "code",
    "id": "QmOFI6gNZOYy"
   },
   "outputs": [],
   "source": [
    "# ceate a copy of the filtered data frame\n",
    "df_filtered_cp = df_filtered.copy(deep=True)"
   ]
  },
  {
   "cell_type": "code",
   "execution_count": 81,
   "metadata": {
    "colab": {},
    "colab_type": "code",
    "id": "eknbQW6mHsKN"
   },
   "outputs": [],
   "source": [
    "# Create user- & movie-id mapping\n",
    "user_id_mapping = {id:i for i, id in enumerate(df_filtered_cp['User'].unique())}\n",
    "movie_id_mapping = {id:i for i, id in enumerate(df_filtered_cp['Movie'].unique())}"
   ]
  },
  {
   "cell_type": "code",
   "execution_count": 82,
   "metadata": {
    "colab": {},
    "colab_type": "code",
    "id": "yLHTi2NsIEAM"
   },
   "outputs": [],
   "source": [
    "# use dataframe map function to map users & movies to mapped ids based on above mapping\n",
    "df_filtered_cp['User'] = df_filtered_cp['User'].map(user_id_mapping)\n",
    "df_filtered_cp['Movie'] = df_filtered_cp['Movie'].map(movie_id_mapping)"
   ]
  },
  {
   "cell_type": "code",
   "execution_count": 83,
   "metadata": {},
   "outputs": [
    {
     "data": {
      "text/html": [
       "<div>\n",
       "<style scoped>\n",
       "    .dataframe tbody tr th:only-of-type {\n",
       "        vertical-align: middle;\n",
       "    }\n",
       "\n",
       "    .dataframe tbody tr th {\n",
       "        vertical-align: top;\n",
       "    }\n",
       "\n",
       "    .dataframe thead th {\n",
       "        text-align: right;\n",
       "    }\n",
       "</style>\n",
       "<table border=\"1\" class=\"dataframe\">\n",
       "  <thead>\n",
       "    <tr style=\"text-align: right;\">\n",
       "      <th></th>\n",
       "      <th>User</th>\n",
       "      <th>Rating</th>\n",
       "      <th>Movie</th>\n",
       "    </tr>\n",
       "  </thead>\n",
       "  <tbody>\n",
       "    <tr>\n",
       "      <th>0</th>\n",
       "      <td>0</td>\n",
       "      <td>1.0</td>\n",
       "      <td>0</td>\n",
       "    </tr>\n",
       "    <tr>\n",
       "      <th>1</th>\n",
       "      <td>1</td>\n",
       "      <td>5.0</td>\n",
       "      <td>1</td>\n",
       "    </tr>\n",
       "    <tr>\n",
       "      <th>2</th>\n",
       "      <td>2</td>\n",
       "      <td>4.0</td>\n",
       "      <td>2</td>\n",
       "    </tr>\n",
       "    <tr>\n",
       "      <th>3</th>\n",
       "      <td>3</td>\n",
       "      <td>3.0</td>\n",
       "      <td>3</td>\n",
       "    </tr>\n",
       "    <tr>\n",
       "      <th>4</th>\n",
       "      <td>4</td>\n",
       "      <td>3.0</td>\n",
       "      <td>4</td>\n",
       "    </tr>\n",
       "    <tr>\n",
       "      <th>...</th>\n",
       "      <td>...</td>\n",
       "      <td>...</td>\n",
       "      <td>...</td>\n",
       "    </tr>\n",
       "    <tr>\n",
       "      <th>5930576</th>\n",
       "      <td>1623</td>\n",
       "      <td>5.0</td>\n",
       "      <td>259</td>\n",
       "    </tr>\n",
       "    <tr>\n",
       "      <th>5930577</th>\n",
       "      <td>9409</td>\n",
       "      <td>2.0</td>\n",
       "      <td>430</td>\n",
       "    </tr>\n",
       "    <tr>\n",
       "      <th>5930578</th>\n",
       "      <td>6758</td>\n",
       "      <td>2.0</td>\n",
       "      <td>269</td>\n",
       "    </tr>\n",
       "    <tr>\n",
       "      <th>5930579</th>\n",
       "      <td>8651</td>\n",
       "      <td>3.0</td>\n",
       "      <td>292</td>\n",
       "    </tr>\n",
       "    <tr>\n",
       "      <th>5930580</th>\n",
       "      <td>13451</td>\n",
       "      <td>2.0</td>\n",
       "      <td>1587</td>\n",
       "    </tr>\n",
       "  </tbody>\n",
       "</table>\n",
       "<p>5930581 rows × 3 columns</p>\n",
       "</div>"
      ],
      "text/plain": [
       "          User  Rating  Movie\n",
       "0            0     1.0      0\n",
       "1            1     5.0      1\n",
       "2            2     4.0      2\n",
       "3            3     3.0      3\n",
       "4            4     3.0      4\n",
       "...        ...     ...    ...\n",
       "5930576   1623     5.0    259\n",
       "5930577   9409     2.0    430\n",
       "5930578   6758     2.0    269\n",
       "5930579   8651     3.0    292\n",
       "5930580  13451     2.0   1587\n",
       "\n",
       "[5930581 rows x 3 columns]"
      ]
     },
     "execution_count": 83,
     "metadata": {},
     "output_type": "execute_result"
    }
   ],
   "source": [
    "df_filtered_cp"
   ]
  },
  {
   "cell_type": "markdown",
   "metadata": {
    "colab_type": "text",
    "id": "fh1Bg5Q_38mF"
   },
   "source": [
    "#### Create Movie Description Dataset (Content)"
   ]
  },
  {
   "cell_type": "code",
   "execution_count": 97,
   "metadata": {
    "colab": {
     "base_uri": "https://localhost:8080/",
     "height": 242
    },
    "colab_type": "code",
    "id": "CoAHPk1SIECT",
    "outputId": "341478ef-8e00-410d-dee3-ba3c79f4b409"
   },
   "outputs": [
    {
     "data": {
      "text/plain": [
       "Index(['Toy Story', 'Jumanji', 'Grumpier Old Men', 'Waiting to Exhale',\n",
       "       'Father of the Bride Part II', 'Heat', 'Sabrina', 'Tom and Huck',\n",
       "       'Sudden Death', 'GoldenEye',\n",
       "       ...\n",
       "       'The Final Storm', 'In a Heartbeat', 'Bloed, Zweet en Tranen',\n",
       "       'To Be Fat Like Me', 'Cadet Kelly', 'L'Homme à la tête de caoutchouc',\n",
       "       'Le locataire diabolique', 'L'Homme orchestre', 'Maa', 'Robin Hood'],\n",
       "      dtype='object', name='original_title', length=21604)"
      ]
     },
     "execution_count": 97,
     "metadata": {},
     "output_type": "execute_result"
    }
   ],
   "source": [
    "# Preprocess metadata\n",
    "tmp_metadata = movie_metadata.copy()\n",
    "tmp_metadata.index"
   ]
  },
  {
   "cell_type": "code",
   "execution_count": 98,
   "metadata": {},
   "outputs": [
    {
     "data": {
      "text/html": [
       "<div>\n",
       "<style scoped>\n",
       "    .dataframe tbody tr th:only-of-type {\n",
       "        vertical-align: middle;\n",
       "    }\n",
       "\n",
       "    .dataframe tbody tr th {\n",
       "        vertical-align: top;\n",
       "    }\n",
       "\n",
       "    .dataframe thead th {\n",
       "        text-align: right;\n",
       "    }\n",
       "</style>\n",
       "<table border=\"1\" class=\"dataframe\">\n",
       "  <thead>\n",
       "    <tr style=\"text-align: right;\">\n",
       "      <th></th>\n",
       "      <th>overview</th>\n",
       "    </tr>\n",
       "    <tr>\n",
       "      <th>original_title</th>\n",
       "      <th></th>\n",
       "    </tr>\n",
       "  </thead>\n",
       "  <tbody>\n",
       "    <tr>\n",
       "      <th>toy story</th>\n",
       "      <td>Led by Woody, Andy's toys live happily in his ...</td>\n",
       "    </tr>\n",
       "    <tr>\n",
       "      <th>jumanji</th>\n",
       "      <td>When siblings Judy and Peter discover an encha...</td>\n",
       "    </tr>\n",
       "    <tr>\n",
       "      <th>grumpier old men</th>\n",
       "      <td>A family wedding reignites the ancient feud be...</td>\n",
       "    </tr>\n",
       "    <tr>\n",
       "      <th>waiting to exhale</th>\n",
       "      <td>Cheated on, mistreated and stepped on, the wom...</td>\n",
       "    </tr>\n",
       "    <tr>\n",
       "      <th>father of the bride part ii</th>\n",
       "      <td>Just when George Banks has recovered from his ...</td>\n",
       "    </tr>\n",
       "  </tbody>\n",
       "</table>\n",
       "</div>"
      ],
      "text/plain": [
       "                                                                      overview\n",
       "original_title                                                                \n",
       "toy story                    Led by Woody, Andy's toys live happily in his ...\n",
       "jumanji                      When siblings Judy and Peter discover an encha...\n",
       "grumpier old men             A family wedding reignites the ancient feud be...\n",
       "waiting to exhale            Cheated on, mistreated and stepped on, the wom...\n",
       "father of the bride part ii  Just when George Banks has recovered from his ..."
      ]
     },
     "execution_count": 98,
     "metadata": {},
     "output_type": "execute_result"
    }
   ],
   "source": [
    "tmp_metadata.index = tmp_metadata.index.str.lower()\n",
    "tmp_metadata.head()"
   ]
  },
  {
   "cell_type": "code",
   "execution_count": 108,
   "metadata": {},
   "outputs": [
    {
     "data": {
      "text/html": [
       "<div>\n",
       "<style scoped>\n",
       "    .dataframe tbody tr th:only-of-type {\n",
       "        vertical-align: middle;\n",
       "    }\n",
       "\n",
       "    .dataframe tbody tr th {\n",
       "        vertical-align: top;\n",
       "    }\n",
       "\n",
       "    .dataframe thead th {\n",
       "        text-align: right;\n",
       "    }\n",
       "</style>\n",
       "<table border=\"1\" class=\"dataframe\">\n",
       "  <thead>\n",
       "    <tr style=\"text-align: right;\">\n",
       "      <th></th>\n",
       "      <th>Name</th>\n",
       "    </tr>\n",
       "    <tr>\n",
       "      <th>Id</th>\n",
       "      <th></th>\n",
       "    </tr>\n",
       "  </thead>\n",
       "  <tbody>\n",
       "    <tr>\n",
       "      <th>1</th>\n",
       "      <td>Dinosaur Planet</td>\n",
       "    </tr>\n",
       "    <tr>\n",
       "      <th>2</th>\n",
       "      <td>Isle of Man TT 2004 Review</td>\n",
       "    </tr>\n",
       "    <tr>\n",
       "      <th>3</th>\n",
       "      <td>Character</td>\n",
       "    </tr>\n",
       "    <tr>\n",
       "      <th>4</th>\n",
       "      <td>Paula Abdul's Get Up &amp; Dance</td>\n",
       "    </tr>\n",
       "    <tr>\n",
       "      <th>5</th>\n",
       "      <td>The Rise and Fall of ECW</td>\n",
       "    </tr>\n",
       "  </tbody>\n",
       "</table>\n",
       "</div>"
      ],
      "text/plain": [
       "                            Name\n",
       "Id                              \n",
       "1                Dinosaur Planet\n",
       "2     Isle of Man TT 2004 Review\n",
       "3                      Character\n",
       "4   Paula Abdul's Get Up & Dance\n",
       "5       The Rise and Fall of ECW"
      ]
     },
     "execution_count": 108,
     "metadata": {},
     "output_type": "execute_result"
    }
   ],
   "source": [
    "# Preprocess titles\n",
    "tmp_titles = movie_titles.drop('Year', axis=1).copy()\n",
    "tmp_titles.head()"
   ]
  },
  {
   "cell_type": "code",
   "execution_count": 109,
   "metadata": {},
   "outputs": [
    {
     "data": {
      "text/plain": [
       "Int64Index([1, 2, 3, 4, 5], dtype='int64', name='Id')"
      ]
     },
     "execution_count": 109,
     "metadata": {},
     "output_type": "execute_result"
    }
   ],
   "source": [
    "tmp_titles.index[:5]"
   ]
  },
  {
   "cell_type": "code",
   "execution_count": 110,
   "metadata": {},
   "outputs": [
    {
     "data": {
      "text/plain": [
       "Index(['Dinosaur Planet', 'Isle of Man TT 2004 Review', 'Character',\n",
       "       'Paula Abdul's Get Up & Dance', 'The Rise and Fall of ECW'],\n",
       "      dtype='object', name='Name')"
      ]
     },
     "execution_count": 110,
     "metadata": {},
     "output_type": "execute_result"
    }
   ],
   "source": [
    "tmp_titles = tmp_titles.reset_index().set_index('Name')\n",
    "tmp_titles.index[:5]"
   ]
  },
  {
   "cell_type": "code",
   "execution_count": 112,
   "metadata": {},
   "outputs": [
    {
     "data": {
      "text/plain": [
       "Index(['dinosaur planet', 'isle of man tt 2004 review', 'character',\n",
       "       'paula abdul's get up & dance', 'the rise and fall of ecw'],\n",
       "      dtype='object', name='Name')"
      ]
     },
     "execution_count": 112,
     "metadata": {},
     "output_type": "execute_result"
    }
   ],
   "source": [
    "tmp_titles = tmp_titles.reset_index().set_index('Name')\n",
    "tmp_titles.index = tmp_titles.index.str.lower()\n",
    "tmp_titles.index[:5]"
   ]
  },
  {
   "cell_type": "code",
   "execution_count": 115,
   "metadata": {},
   "outputs": [
    {
     "data": {
      "text/html": [
       "<div>\n",
       "<style scoped>\n",
       "    .dataframe tbody tr th:only-of-type {\n",
       "        vertical-align: middle;\n",
       "    }\n",
       "\n",
       "    .dataframe tbody tr th {\n",
       "        vertical-align: top;\n",
       "    }\n",
       "\n",
       "    .dataframe thead th {\n",
       "        text-align: right;\n",
       "    }\n",
       "</style>\n",
       "<table border=\"1\" class=\"dataframe\">\n",
       "  <thead>\n",
       "    <tr style=\"text-align: right;\">\n",
       "      <th></th>\n",
       "      <th>Id</th>\n",
       "      <th>overview</th>\n",
       "    </tr>\n",
       "  </thead>\n",
       "  <tbody>\n",
       "    <tr>\n",
       "      <th>...and justice for all</th>\n",
       "      <td>7756</td>\n",
       "      <td>An ethical Baltimore defense lawyer disgusted ...</td>\n",
       "    </tr>\n",
       "    <tr>\n",
       "      <th>10</th>\n",
       "      <td>2945</td>\n",
       "      <td>A Hollywood songwriter goes through a mid-life...</td>\n",
       "    </tr>\n",
       "    <tr>\n",
       "      <th>10</th>\n",
       "      <td>14249</td>\n",
       "      <td>A Hollywood songwriter goes through a mid-life...</td>\n",
       "    </tr>\n",
       "    <tr>\n",
       "      <th>10 things i hate about you</th>\n",
       "      <td>3463</td>\n",
       "      <td>Bianca, a tenth grader, has never gone on a da...</td>\n",
       "    </tr>\n",
       "    <tr>\n",
       "      <th>10 to midnight</th>\n",
       "      <td>11972</td>\n",
       "      <td>Based on the real-life Richard Speck murders, ...</td>\n",
       "    </tr>\n",
       "    <tr>\n",
       "      <th>...</th>\n",
       "      <td>...</td>\n",
       "      <td>...</td>\n",
       "    </tr>\n",
       "    <tr>\n",
       "      <th>zero effect</th>\n",
       "      <td>16182</td>\n",
       "      <td>Daryl Zero is a private investigator. Along wi...</td>\n",
       "    </tr>\n",
       "    <tr>\n",
       "      <th>zoolander</th>\n",
       "      <td>15233</td>\n",
       "      <td>Clear the runway for Derek Zoolander, VH1's th...</td>\n",
       "    </tr>\n",
       "    <tr>\n",
       "      <th>zorro</th>\n",
       "      <td>1210</td>\n",
       "      <td>A newly arrived governor finds his province un...</td>\n",
       "    </tr>\n",
       "    <tr>\n",
       "      <th>zulu</th>\n",
       "      <td>17631</td>\n",
       "      <td>In 1879, during the Zulu wars, man of the peop...</td>\n",
       "    </tr>\n",
       "    <tr>\n",
       "      <th>zulu</th>\n",
       "      <td>17631</td>\n",
       "      <td>As a child, Ali Neuman narrowly escaped being ...</td>\n",
       "    </tr>\n",
       "  </tbody>\n",
       "</table>\n",
       "<p>6939 rows × 2 columns</p>\n",
       "</div>"
      ],
      "text/plain": [
       "                               Id  \\\n",
       "...and justice for all       7756   \n",
       "10                           2945   \n",
       "10                          14249   \n",
       "10 things i hate about you   3463   \n",
       "10 to midnight              11972   \n",
       "...                           ...   \n",
       "zero effect                 16182   \n",
       "zoolander                   15233   \n",
       "zorro                        1210   \n",
       "zulu                        17631   \n",
       "zulu                        17631   \n",
       "\n",
       "                                                                     overview  \n",
       "...and justice for all      An ethical Baltimore defense lawyer disgusted ...  \n",
       "10                          A Hollywood songwriter goes through a mid-life...  \n",
       "10                          A Hollywood songwriter goes through a mid-life...  \n",
       "10 things i hate about you  Bianca, a tenth grader, has never gone on a da...  \n",
       "10 to midnight              Based on the real-life Richard Speck murders, ...  \n",
       "...                                                                       ...  \n",
       "zero effect                 Daryl Zero is a private investigator. Along wi...  \n",
       "zoolander                   Clear the runway for Derek Zoolander, VH1's th...  \n",
       "zorro                       A newly arrived governor finds his province un...  \n",
       "zulu                        In 1879, during the Zulu wars, man of the peop...  \n",
       "zulu                        As a child, Ali Neuman narrowly escaped being ...  \n",
       "\n",
       "[6939 rows x 2 columns]"
      ]
     },
     "execution_count": 115,
     "metadata": {},
     "output_type": "execute_result"
    }
   ],
   "source": [
    "tmp_titles.join(tmp_metadata).dropna()"
   ]
  },
  {
   "cell_type": "code",
   "execution_count": 118,
   "metadata": {},
   "outputs": [
    {
     "data": {
      "text/html": [
       "<div>\n",
       "<style scoped>\n",
       "    .dataframe tbody tr th:only-of-type {\n",
       "        vertical-align: middle;\n",
       "    }\n",
       "\n",
       "    .dataframe tbody tr th {\n",
       "        vertical-align: top;\n",
       "    }\n",
       "\n",
       "    .dataframe thead th {\n",
       "        text-align: right;\n",
       "    }\n",
       "</style>\n",
       "<table border=\"1\" class=\"dataframe\">\n",
       "  <thead>\n",
       "    <tr style=\"text-align: right;\">\n",
       "      <th></th>\n",
       "      <th>overview</th>\n",
       "    </tr>\n",
       "    <tr>\n",
       "      <th>Id</th>\n",
       "      <th></th>\n",
       "    </tr>\n",
       "  </thead>\n",
       "  <tbody>\n",
       "    <tr>\n",
       "      <th>7756</th>\n",
       "      <td>an ethical baltimore defense lawyer disgusted ...</td>\n",
       "    </tr>\n",
       "    <tr>\n",
       "      <th>2945</th>\n",
       "      <td>a hollywood songwriter goes through a mid-life...</td>\n",
       "    </tr>\n",
       "    <tr>\n",
       "      <th>14249</th>\n",
       "      <td>a hollywood songwriter goes through a mid-life...</td>\n",
       "    </tr>\n",
       "    <tr>\n",
       "      <th>3463</th>\n",
       "      <td>bianca, a tenth grader, has never gone on a da...</td>\n",
       "    </tr>\n",
       "    <tr>\n",
       "      <th>11972</th>\n",
       "      <td>based on the real-life richard speck murders, ...</td>\n",
       "    </tr>\n",
       "  </tbody>\n",
       "</table>\n",
       "</div>"
      ],
      "text/plain": [
       "                                                overview\n",
       "Id                                                      \n",
       "7756   an ethical baltimore defense lawyer disgusted ...\n",
       "2945   a hollywood songwriter goes through a mid-life...\n",
       "14249  a hollywood songwriter goes through a mid-life...\n",
       "3463   bianca, a tenth grader, has never gone on a da...\n",
       "11972  based on the real-life richard speck murders, ..."
      ]
     },
     "execution_count": 118,
     "metadata": {},
     "output_type": "execute_result"
    }
   ],
   "source": [
    "# Combine titles and metadata\n",
    "df_id_descriptions = tmp_titles.join(tmp_metadata).dropna().set_index('Id')\n",
    "df_id_descriptions['overview'] = df_id_descriptions['overview'].str.lower()\n",
    "df_id_descriptions.head()"
   ]
  },
  {
   "cell_type": "code",
   "execution_count": 120,
   "metadata": {},
   "outputs": [
    {
     "data": {
      "text/html": [
       "<div>\n",
       "<style scoped>\n",
       "    .dataframe tbody tr th:only-of-type {\n",
       "        vertical-align: middle;\n",
       "    }\n",
       "\n",
       "    .dataframe tbody tr th {\n",
       "        vertical-align: top;\n",
       "    }\n",
       "\n",
       "    .dataframe thead th {\n",
       "        text-align: right;\n",
       "    }\n",
       "</style>\n",
       "<table border=\"1\" class=\"dataframe\">\n",
       "  <thead>\n",
       "    <tr style=\"text-align: right;\">\n",
       "      <th></th>\n",
       "      <th>overview</th>\n",
       "    </tr>\n",
       "  </thead>\n",
       "  <tbody>\n",
       "    <tr>\n",
       "      <th>count</th>\n",
       "      <td>6939</td>\n",
       "    </tr>\n",
       "    <tr>\n",
       "      <th>unique</th>\n",
       "      <td>6254</td>\n",
       "    </tr>\n",
       "    <tr>\n",
       "      <th>top</th>\n",
       "      <td>hunchback's story revolves around a beautiful ...</td>\n",
       "    </tr>\n",
       "    <tr>\n",
       "      <th>freq</th>\n",
       "      <td>6</td>\n",
       "    </tr>\n",
       "  </tbody>\n",
       "</table>\n",
       "</div>"
      ],
      "text/plain": [
       "                                                 overview\n",
       "count                                                6939\n",
       "unique                                               6254\n",
       "top     hunchback's story revolves around a beautiful ...\n",
       "freq                                                    6"
      ]
     },
     "execution_count": 120,
     "metadata": {},
     "output_type": "execute_result"
    }
   ],
   "source": [
    "df_id_descriptions.describe()"
   ]
  },
  {
   "cell_type": "code",
   "execution_count": 121,
   "metadata": {},
   "outputs": [
    {
     "name": "stdout",
     "output_type": "stream",
     "text": [
      "Movie Description DF Shape: (6939, 1)\n"
     ]
    },
    {
     "data": {
      "text/html": [
       "<div>\n",
       "<style scoped>\n",
       "    .dataframe tbody tr th:only-of-type {\n",
       "        vertical-align: middle;\n",
       "    }\n",
       "\n",
       "    .dataframe tbody tr th {\n",
       "        vertical-align: top;\n",
       "    }\n",
       "\n",
       "    .dataframe thead th {\n",
       "        text-align: right;\n",
       "    }\n",
       "</style>\n",
       "<table border=\"1\" class=\"dataframe\">\n",
       "  <thead>\n",
       "    <tr style=\"text-align: right;\">\n",
       "      <th></th>\n",
       "      <th>overview</th>\n",
       "    </tr>\n",
       "    <tr>\n",
       "      <th>Id</th>\n",
       "      <th></th>\n",
       "    </tr>\n",
       "  </thead>\n",
       "  <tbody>\n",
       "    <tr>\n",
       "      <th>16182</th>\n",
       "      <td>daryl zero is a private investigator. along wi...</td>\n",
       "    </tr>\n",
       "    <tr>\n",
       "      <th>15233</th>\n",
       "      <td>clear the runway for derek zoolander, vh1's th...</td>\n",
       "    </tr>\n",
       "    <tr>\n",
       "      <th>1210</th>\n",
       "      <td>a newly arrived governor finds his province un...</td>\n",
       "    </tr>\n",
       "    <tr>\n",
       "      <th>17631</th>\n",
       "      <td>in 1879, during the zulu wars, man of the peop...</td>\n",
       "    </tr>\n",
       "    <tr>\n",
       "      <th>17631</th>\n",
       "      <td>as a child, ali neuman narrowly escaped being ...</td>\n",
       "    </tr>\n",
       "  </tbody>\n",
       "</table>\n",
       "</div>"
      ],
      "text/plain": [
       "                                                overview\n",
       "Id                                                      \n",
       "16182  daryl zero is a private investigator. along wi...\n",
       "15233  clear the runway for derek zoolander, vh1's th...\n",
       "1210   a newly arrived governor finds his province un...\n",
       "17631  in 1879, during the zulu wars, man of the peop...\n",
       "17631  as a child, ali neuman narrowly escaped being ..."
      ]
     },
     "execution_count": 121,
     "metadata": {},
     "output_type": "execute_result"
    }
   ],
   "source": [
    "#del tmp_metadata,tmp_titles\n",
    "print('Movie Description DF Shape:', df_id_descriptions.shape)\n",
    "df_id_descriptions.tail()"
   ]
  },
  {
   "cell_type": "markdown",
   "metadata": {
    "colab_type": "text",
    "id": "R7__gU8E44m-"
   },
   "source": [
    "#### Create User-Rating Filtered Dataset (Collaborative)\n",
    "\n",
    "Here we filter out movie-user-ratings where movies don't have descriptions (content)"
   ]
  },
  {
   "cell_type": "code",
   "execution_count": 85,
   "metadata": {},
   "outputs": [
    {
     "data": {
      "text/html": [
       "<div>\n",
       "<style scoped>\n",
       "    .dataframe tbody tr th:only-of-type {\n",
       "        vertical-align: middle;\n",
       "    }\n",
       "\n",
       "    .dataframe tbody tr th {\n",
       "        vertical-align: top;\n",
       "    }\n",
       "\n",
       "    .dataframe thead th {\n",
       "        text-align: right;\n",
       "    }\n",
       "</style>\n",
       "<table border=\"1\" class=\"dataframe\">\n",
       "  <thead>\n",
       "    <tr style=\"text-align: right;\">\n",
       "      <th></th>\n",
       "      <th>User</th>\n",
       "      <th>Rating</th>\n",
       "      <th>Movie</th>\n",
       "    </tr>\n",
       "  </thead>\n",
       "  <tbody>\n",
       "    <tr>\n",
       "      <th>0</th>\n",
       "      <td>0</td>\n",
       "      <td>1.0</td>\n",
       "      <td>0</td>\n",
       "    </tr>\n",
       "    <tr>\n",
       "      <th>1</th>\n",
       "      <td>1</td>\n",
       "      <td>5.0</td>\n",
       "      <td>1</td>\n",
       "    </tr>\n",
       "    <tr>\n",
       "      <th>2</th>\n",
       "      <td>2</td>\n",
       "      <td>4.0</td>\n",
       "      <td>2</td>\n",
       "    </tr>\n",
       "    <tr>\n",
       "      <th>3</th>\n",
       "      <td>3</td>\n",
       "      <td>3.0</td>\n",
       "      <td>3</td>\n",
       "    </tr>\n",
       "    <tr>\n",
       "      <th>4</th>\n",
       "      <td>4</td>\n",
       "      <td>3.0</td>\n",
       "      <td>4</td>\n",
       "    </tr>\n",
       "  </tbody>\n",
       "</table>\n",
       "</div>"
      ],
      "text/plain": [
       "   User  Rating  Movie\n",
       "0     0     1.0      0\n",
       "1     1     5.0      1\n",
       "2     2     4.0      2\n",
       "3     3     3.0      3\n",
       "4     4     3.0      4"
      ]
     },
     "execution_count": 85,
     "metadata": {},
     "output_type": "execute_result"
    }
   ],
   "source": [
    "df_filtered_cp.head()"
   ]
  },
  {
   "cell_type": "code",
   "execution_count": 124,
   "metadata": {},
   "outputs": [
    {
     "data": {
      "text/plain": [
       "(5930581, 3)"
      ]
     },
     "execution_count": 124,
     "metadata": {},
     "output_type": "execute_result"
    }
   ],
   "source": [
    "df_filtered_cp.shape"
   ]
  },
  {
   "cell_type": "code",
   "execution_count": 126,
   "metadata": {},
   "outputs": [
    {
     "data": {
      "text/html": [
       "<div>\n",
       "<style scoped>\n",
       "    .dataframe tbody tr th:only-of-type {\n",
       "        vertical-align: middle;\n",
       "    }\n",
       "\n",
       "    .dataframe tbody tr th {\n",
       "        vertical-align: top;\n",
       "    }\n",
       "\n",
       "    .dataframe thead th {\n",
       "        text-align: right;\n",
       "    }\n",
       "</style>\n",
       "<table border=\"1\" class=\"dataframe\">\n",
       "  <thead>\n",
       "    <tr style=\"text-align: right;\">\n",
       "      <th></th>\n",
       "      <th>overview</th>\n",
       "    </tr>\n",
       "    <tr>\n",
       "      <th>Id</th>\n",
       "      <th></th>\n",
       "    </tr>\n",
       "  </thead>\n",
       "  <tbody>\n",
       "    <tr>\n",
       "      <th>7756</th>\n",
       "      <td>an ethical baltimore defense lawyer disgusted ...</td>\n",
       "    </tr>\n",
       "    <tr>\n",
       "      <th>2945</th>\n",
       "      <td>a hollywood songwriter goes through a mid-life...</td>\n",
       "    </tr>\n",
       "    <tr>\n",
       "      <th>14249</th>\n",
       "      <td>a hollywood songwriter goes through a mid-life...</td>\n",
       "    </tr>\n",
       "    <tr>\n",
       "      <th>3463</th>\n",
       "      <td>bianca, a tenth grader, has never gone on a da...</td>\n",
       "    </tr>\n",
       "    <tr>\n",
       "      <th>11972</th>\n",
       "      <td>based on the real-life richard speck murders, ...</td>\n",
       "    </tr>\n",
       "  </tbody>\n",
       "</table>\n",
       "</div>"
      ],
      "text/plain": [
       "                                                overview\n",
       "Id                                                      \n",
       "7756   an ethical baltimore defense lawyer disgusted ...\n",
       "2945   a hollywood songwriter goes through a mid-life...\n",
       "14249  a hollywood songwriter goes through a mid-life...\n",
       "3463   bianca, a tenth grader, has never gone on a da...\n",
       "11972  based on the real-life richard speck murders, ..."
      ]
     },
     "execution_count": 126,
     "metadata": {},
     "output_type": "execute_result"
    }
   ],
   "source": [
    "df_id_descriptions.head()"
   ]
  },
  {
   "cell_type": "code",
   "execution_count": 134,
   "metadata": {},
   "outputs": [
    {
     "data": {
      "text/html": [
       "<div>\n",
       "<style scoped>\n",
       "    .dataframe tbody tr th:only-of-type {\n",
       "        vertical-align: middle;\n",
       "    }\n",
       "\n",
       "    .dataframe tbody tr th {\n",
       "        vertical-align: top;\n",
       "    }\n",
       "\n",
       "    .dataframe thead th {\n",
       "        text-align: right;\n",
       "    }\n",
       "</style>\n",
       "<table border=\"1\" class=\"dataframe\">\n",
       "  <thead>\n",
       "    <tr style=\"text-align: right;\">\n",
       "      <th></th>\n",
       "      <th>User</th>\n",
       "      <th>Rating</th>\n",
       "      <th>overview</th>\n",
       "    </tr>\n",
       "  </thead>\n",
       "  <tbody>\n",
       "    <tr>\n",
       "      <th>0</th>\n",
       "      <td>0</td>\n",
       "      <td>1.0</td>\n",
       "      <td>NaN</td>\n",
       "    </tr>\n",
       "    <tr>\n",
       "      <th>0</th>\n",
       "      <td>2957</td>\n",
       "      <td>3.0</td>\n",
       "      <td>NaN</td>\n",
       "    </tr>\n",
       "    <tr>\n",
       "      <th>0</th>\n",
       "      <td>3319</td>\n",
       "      <td>3.0</td>\n",
       "      <td>NaN</td>\n",
       "    </tr>\n",
       "    <tr>\n",
       "      <th>0</th>\n",
       "      <td>5130</td>\n",
       "      <td>3.0</td>\n",
       "      <td>NaN</td>\n",
       "    </tr>\n",
       "    <tr>\n",
       "      <th>0</th>\n",
       "      <td>5674</td>\n",
       "      <td>1.0</td>\n",
       "      <td>NaN</td>\n",
       "    </tr>\n",
       "    <tr>\n",
       "      <th>...</th>\n",
       "      <td>...</td>\n",
       "      <td>...</td>\n",
       "      <td>...</td>\n",
       "    </tr>\n",
       "    <tr>\n",
       "      <th>1740</th>\n",
       "      <td>5531</td>\n",
       "      <td>5.0</td>\n",
       "      <td>NaN</td>\n",
       "    </tr>\n",
       "    <tr>\n",
       "      <th>1740</th>\n",
       "      <td>18184</td>\n",
       "      <td>2.0</td>\n",
       "      <td>NaN</td>\n",
       "    </tr>\n",
       "    <tr>\n",
       "      <th>1740</th>\n",
       "      <td>9203</td>\n",
       "      <td>5.0</td>\n",
       "      <td>NaN</td>\n",
       "    </tr>\n",
       "    <tr>\n",
       "      <th>1740</th>\n",
       "      <td>12005</td>\n",
       "      <td>5.0</td>\n",
       "      <td>NaN</td>\n",
       "    </tr>\n",
       "    <tr>\n",
       "      <th>1740</th>\n",
       "      <td>12078</td>\n",
       "      <td>4.0</td>\n",
       "      <td>NaN</td>\n",
       "    </tr>\n",
       "  </tbody>\n",
       "</table>\n",
       "<p>6131034 rows × 3 columns</p>\n",
       "</div>"
      ],
      "text/plain": [
       "       User  Rating overview\n",
       "0         0     1.0      NaN\n",
       "0      2957     3.0      NaN\n",
       "0      3319     3.0      NaN\n",
       "0      5130     3.0      NaN\n",
       "0      5674     1.0      NaN\n",
       "...     ...     ...      ...\n",
       "1740   5531     5.0      NaN\n",
       "1740  18184     2.0      NaN\n",
       "1740   9203     5.0      NaN\n",
       "1740  12005     5.0      NaN\n",
       "1740  12078     4.0      NaN\n",
       "\n",
       "[6131034 rows x 3 columns]"
      ]
     },
     "execution_count": 134,
     "metadata": {},
     "output_type": "execute_result"
    }
   ],
   "source": [
    "df_filtered_cp.set_index('Movie').join(df_id_descriptions)"
   ]
  },
  {
   "cell_type": "code",
   "execution_count": 131,
   "metadata": {},
   "outputs": [
    {
     "data": {
      "text/plain": [
       "Int64Index([   0,    1,    2,    3,    4,    5,    6,    7,    8,    9,\n",
       "            ...\n",
       "             729,  852,  291,  260,  228,  259,  430,  269,  292, 1587],\n",
       "           dtype='int64', name='Movie', length=5930581)"
      ]
     },
     "execution_count": 131,
     "metadata": {},
     "output_type": "execute_result"
    }
   ],
   "source": [
    "df_filtered_cp.set_index('Movie').index"
   ]
  },
  {
   "cell_type": "code",
   "execution_count": 133,
   "metadata": {},
   "outputs": [
    {
     "data": {
      "text/plain": [
       "Int64Index([ 7756,  2945, 14249,  3463, 11972,  6656, 12540,  3921, 10198,\n",
       "              732,\n",
       "            ...\n",
       "             4071, 10304, 15912, 17341,  8597, 16182, 15233,  1210, 17631,\n",
       "            17631],\n",
       "           dtype='int64', name='Id', length=6939)"
      ]
     },
     "execution_count": 133,
     "metadata": {},
     "output_type": "execute_result"
    }
   ],
   "source": [
    "df_id_descriptions.index"
   ]
  },
  {
   "cell_type": "code",
   "execution_count": 135,
   "metadata": {
    "colab": {
     "base_uri": "https://localhost:8080/",
     "height": 212
    },
    "colab_type": "code",
    "id": "w-NM3bV_JOG_",
    "outputId": "7a028ed8-0293-452b-ed54-e92acee43258"
   },
   "outputs": [
    {
     "name": "stdout",
     "output_type": "stream",
     "text": [
      "Movie-User-Rating DF Shape: (2176808, 3)\n"
     ]
    },
    {
     "data": {
      "text/html": [
       "<div>\n",
       "<style scoped>\n",
       "    .dataframe tbody tr th:only-of-type {\n",
       "        vertical-align: middle;\n",
       "    }\n",
       "\n",
       "    .dataframe tbody tr th {\n",
       "        vertical-align: top;\n",
       "    }\n",
       "\n",
       "    .dataframe thead th {\n",
       "        text-align: right;\n",
       "    }\n",
       "</style>\n",
       "<table border=\"1\" class=\"dataframe\">\n",
       "  <thead>\n",
       "    <tr style=\"text-align: right;\">\n",
       "      <th></th>\n",
       "      <th>Movie</th>\n",
       "      <th>User</th>\n",
       "      <th>Rating</th>\n",
       "    </tr>\n",
       "  </thead>\n",
       "  <tbody>\n",
       "    <tr>\n",
       "      <th>0</th>\n",
       "      <td>12</td>\n",
       "      <td>12</td>\n",
       "      <td>2.0</td>\n",
       "    </tr>\n",
       "    <tr>\n",
       "      <th>1</th>\n",
       "      <td>12</td>\n",
       "      <td>931</td>\n",
       "      <td>4.0</td>\n",
       "    </tr>\n",
       "    <tr>\n",
       "      <th>2</th>\n",
       "      <td>12</td>\n",
       "      <td>1481</td>\n",
       "      <td>2.0</td>\n",
       "    </tr>\n",
       "    <tr>\n",
       "      <th>3</th>\n",
       "      <td>12</td>\n",
       "      <td>4219</td>\n",
       "      <td>2.0</td>\n",
       "    </tr>\n",
       "    <tr>\n",
       "      <th>4</th>\n",
       "      <td>12</td>\n",
       "      <td>6943</td>\n",
       "      <td>4.0</td>\n",
       "    </tr>\n",
       "  </tbody>\n",
       "</table>\n",
       "</div>"
      ],
      "text/plain": [
       "   Movie  User  Rating\n",
       "0     12    12     2.0\n",
       "1     12   931     4.0\n",
       "2     12  1481     2.0\n",
       "3     12  4219     2.0\n",
       "4     12  6943     4.0"
      ]
     },
     "execution_count": 135,
     "metadata": {},
     "output_type": "execute_result"
    }
   ],
   "source": [
    "df_hybrid = (df_filtered_cp.set_index('Movie')\n",
    "               .join(df_id_descriptions)\n",
    "               .dropna()\n",
    "               .drop('overview', axis=1)\n",
    "               .reset_index().rename({'index':'Movie'}, \n",
    "                                      axis=1))\n",
    "print('Movie-User-Rating DF Shape:', df_hybrid.shape)\n",
    "df_hybrid.head()"
   ]
  },
  {
   "cell_type": "code",
   "execution_count": 89,
   "metadata": {
    "colab": {
     "base_uri": "https://localhost:8080/",
     "height": 34
    },
    "colab_type": "code",
    "id": "j7CHcKM_JOOw",
    "outputId": "e1378ad4-6a97-4fc3-9678-f131f7664686"
   },
   "outputs": [
    {
     "data": {
      "text/plain": [
       "((1876808, 3), (300000, 3))"
      ]
     },
     "execution_count": 89,
     "metadata": {},
     "output_type": "execute_result"
    }
   ],
   "source": [
    "# Split train- & testset\n",
    "n = 300000\n",
    "df_hybrid = df_hybrid.sample(frac=1).reset_index(drop=True)\n",
    "df_hybrid_train = df_hybrid[:-n]\n",
    "df_hybrid_test = df_hybrid[-n:]\n",
    "df_hybrid_train.shape, df_hybrid_test.shape"
   ]
  },
  {
   "cell_type": "markdown",
   "metadata": {
    "colab_type": "text",
    "id": "k33OwrFO5RpF"
   },
   "source": [
    "#### Generate TFIDF Vectors for Train and Test Datasets (Movie Descriptions)"
   ]
  },
  {
   "cell_type": "code",
   "execution_count": 136,
   "metadata": {},
   "outputs": [
    {
     "data": {
      "text/plain": [
       "Id\n",
       "7756     an ethical baltimore defense lawyer disgusted ...\n",
       "2945     a hollywood songwriter goes through a mid-life...\n",
       "14249    a hollywood songwriter goes through a mid-life...\n",
       "3463     bianca, a tenth grader, has never gone on a da...\n",
       "11972    based on the real-life richard speck murders, ...\n",
       "                               ...                        \n",
       "16182    daryl zero is a private investigator. along wi...\n",
       "15233    clear the runway for derek zoolander, vh1's th...\n",
       "1210     a newly arrived governor finds his province un...\n",
       "17631    in 1879, during the zulu wars, man of the peop...\n",
       "17631    as a child, ali neuman narrowly escaped being ...\n",
       "Name: overview, Length: 6939, dtype: object"
      ]
     },
     "execution_count": 136,
     "metadata": {},
     "output_type": "execute_result"
    }
   ],
   "source": [
    "df_id_descriptions['overview']"
   ]
  },
  {
   "cell_type": "code",
   "execution_count": 148,
   "metadata": {
    "colab": {},
    "colab_type": "code",
    "id": "ZqiyhdelU775"
   },
   "outputs": [
    {
     "data": {
      "text/plain": [
       "<1x24144 sparse matrix of type '<class 'numpy.float64'>'\n",
       "\twith 16 stored elements in Compressed Sparse Row format>"
      ]
     },
     "execution_count": 148,
     "metadata": {},
     "output_type": "execute_result"
    }
   ],
   "source": [
    "# Create tf-idf matrix for movie description vectors - HINT: check the overview column of df_id_description\n",
    "tfidf = TfidfVectorizer(stop_words='english')\n",
    "tfidf_matrix = tfidf.fit_transform(df_id_descriptions['overview'])\n",
    "tfidf_matrix[0]"
   ]
  },
  {
   "cell_type": "code",
   "execution_count": null,
   "metadata": {},
   "outputs": [],
   "source": [
    "len(tfidf_matrix)"
   ]
  },
  {
   "cell_type": "code",
   "execution_count": 138,
   "metadata": {
    "colab": {},
    "colab_type": "code",
    "id": "RgxZz-0wU7-C"
   },
   "outputs": [],
   "source": [
    "# Get mapping from movie-ids to indices in tfidf-matrix\n",
    "movie_idx_mapping = {id:i for i, id in enumerate(df_id_descriptions.index)}"
   ]
  },
  {
   "cell_type": "code",
   "execution_count": 153,
   "metadata": {
    "colab": {
     "base_uri": "https://localhost:8080/",
     "height": 50
    },
    "colab_type": "code",
    "id": "HemfBsDqU8AL",
    "outputId": "065a5eb2-3920-4028-af05-e17bd0ee3137"
   },
   "outputs": [
    {
     "name": "stderr",
     "output_type": "stream",
     "text": [
      "100%|██████████| 1876808/1876808 [03:07<00:00, 10026.91it/s]\n"
     ]
    },
    {
     "data": {
      "text/plain": [
       "1876808"
      ]
     },
     "execution_count": 153,
     "metadata": {},
     "output_type": "execute_result"
    }
   ],
   "source": [
    "# get train data tfidf vectors\n",
    "train_tfidf = []\n",
    "\n",
    "# Iterate over all movie-ids and save the tfidf-vectors (sparse format for memory efficiency)\n",
    "for idx in tqdm(df_hybrid_train['Movie'].values):\n",
    "    index = movie_idx_mapping[idx]\n",
    "    train_tfidf.append(tfidf_matrix[index])\n",
    "\n",
    "len(train_tfidf)"
   ]
  },
  {
   "cell_type": "code",
   "execution_count": null,
   "metadata": {},
   "outputs": [],
   "source": [
    "df_hybrid_train['Movie'].values"
   ]
  },
  {
   "cell_type": "code",
   "execution_count": 154,
   "metadata": {
    "colab": {
     "base_uri": "https://localhost:8080/",
     "height": 50
    },
    "colab_type": "code",
    "id": "7AqgNsqrU8CZ",
    "outputId": "da454ca5-ae30-47cc-b865-4642069edb15"
   },
   "outputs": [
    {
     "name": "stderr",
     "output_type": "stream",
     "text": [
      "100%|██████████| 300000/300000 [00:29<00:00, 10284.16it/s]\n"
     ]
    },
    {
     "data": {
      "text/plain": [
       "300000"
      ]
     },
     "execution_count": 154,
     "metadata": {},
     "output_type": "execute_result"
    }
   ],
   "source": [
    "# get test data tfidf vectors\n",
    "test_tfidf = []\n",
    "\n",
    "# Iterate over all movie-ids and save the tfidf-vectors (sparse format for memory efficiency)\n",
    "for idx in tqdm(df_hybrid_test['Movie'].values):\n",
    "    index = movie_idx_mapping[idx]\n",
    "    test_tfidf.append(tfidf_matrix[index])\n",
    "\n",
    "len(test_tfidf)"
   ]
  },
  {
   "cell_type": "code",
   "execution_count": 155,
   "metadata": {
    "colab": {
     "base_uri": "https://localhost:8080/",
     "height": 34
    },
    "colab_type": "code",
    "id": "3dyKQnCNdQTc",
    "outputId": "bcf2ef13-850c-4de3-e04a-f9884a085431"
   },
   "outputs": [
    {
     "data": {
      "text/plain": [
       "((1876808, 24144), (300000, 24144))"
      ]
     },
     "execution_count": 155,
     "metadata": {},
     "output_type": "execute_result"
    }
   ],
   "source": [
    "# Stack the sparse matrices\n",
    "train_tfidf = vstack(train_tfidf)\n",
    "test_tfidf = vstack(test_tfidf)\n",
    "\n",
    "train_tfidf.shape, test_tfidf.shape"
   ]
  },
  {
   "cell_type": "code",
   "execution_count": 156,
   "metadata": {
    "colab": {
     "base_uri": "https://localhost:8080/",
     "height": 34
    },
    "colab_type": "code",
    "id": "dMI3SxfNdwNQ",
    "outputId": "454e8563-c55e-4874-87b9-793441bdc431"
   },
   "outputs": [
    {
     "data": {
      "text/plain": [
       "scipy.sparse.csr.csr_matrix"
      ]
     },
     "execution_count": 156,
     "metadata": {},
     "output_type": "execute_result"
    }
   ],
   "source": [
    "type(train_tfidf)"
   ]
  },
  {
   "cell_type": "markdown",
   "metadata": {
    "colab_type": "text",
    "id": "M4m5y7Zv5ZuK"
   },
   "source": [
    "This shows we are using sparse matrices to represent the vectors as dense vectors would typically give a out of memory error!"
   ]
  },
  {
   "cell_type": "markdown",
   "metadata": {
    "colab_type": "text",
    "id": "rCZjFT6JeIDs"
   },
   "source": [
    "#### Construct Deep Learning Model Architecture"
   ]
  },
  {
   "cell_type": "code",
   "execution_count": 158,
   "metadata": {
    "colab": {},
    "colab_type": "code",
    "id": "y_WYqzMpeJby"
   },
   "outputs": [],
   "source": [
    "# setup NN parameters\n",
    "user_embed_dim = 256\n",
    "movie_embed_dim = 256\n",
    "userid_input_shape = 1\n",
    "movieid_input_shape = 1\n",
    "# tfidf_input_shape = tfidf_hybrid.shape[1]\n",
    "tfidf_input_shape = tfidf_matrix.shape[1]"
   ]
  },
  {
   "cell_type": "code",
   "execution_count": 159,
   "metadata": {
    "colab": {},
    "colab_type": "code",
    "id": "Ea74tynzeqGB"
   },
   "outputs": [],
   "source": [
    "# Create the input layers\n",
    "\n",
    "# user and movie input layers\n",
    "user_id_input = Input(shape=(userid_input_shape,), name='user')\n",
    "movie_id_input = Input(shape=(movieid_input_shape,), name='movie')\n",
    "\n",
    "# tfidf input layer\n",
    "tfidf_input = Input(shape=(tfidf_input_shape,), name='tfidf', sparse=True)"
   ]
  },
  {
   "cell_type": "code",
   "execution_count": 160,
   "metadata": {
    "colab": {},
    "colab_type": "code",
    "id": "zc_bGQ6ne3Cj"
   },
   "outputs": [],
   "source": [
    "# Create embeddings layers for users and movies\n",
    "\n",
    "# user embedding\n",
    "user_embedding = Embedding(output_dim=user_embed_dim,\n",
    "                           input_dim=len(user_id_mapping),\n",
    "                           input_length=userid_input_shape,\n",
    "                           name='user_embedding')(user_id_input)\n",
    "\n",
    "# movie embedding\n",
    "movie_embedding = Embedding(output_dim=movie_embed_dim,\n",
    "                           input_dim=len(movie_id_mapping),\n",
    "                           input_length=movieid_input_shape,\n",
    "                           name='movie_embedding')(movie_id_input)"
   ]
  },
  {
   "cell_type": "code",
   "execution_count": 161,
   "metadata": {
    "colab": {},
    "colab_type": "code",
    "id": "pm_H8CaXe3Gn"
   },
   "outputs": [],
   "source": [
    "# Dimensionality reduction with Dense layers\n",
    "tfidf_vectors = Dense(512, activation='relu')(tfidf_input)\n",
    "tfidf_vectors = Dense(256, activation='relu')(tfidf_vectors)"
   ]
  },
  {
   "cell_type": "code",
   "execution_count": 162,
   "metadata": {
    "colab": {},
    "colab_type": "code",
    "id": "rlNBswdYe3I8"
   },
   "outputs": [],
   "source": [
    "# Reshape both user and movie embedding layers\n",
    "user_vectors = Reshape([user_embed_dim])(user_embedding)\n",
    "movie_vectors = Reshape([movie_embed_dim])(movie_embedding)"
   ]
  },
  {
   "cell_type": "code",
   "execution_count": 163,
   "metadata": {
    "colab": {},
    "colab_type": "code",
    "id": "LfcefQQEe3E2"
   },
   "outputs": [],
   "source": [
    "# Concatenate all layers into one \n",
    "hybrid_layer = Concatenate()([user_vectors, movie_vectors, tfidf_vectors])"
   ]
  },
  {
   "cell_type": "code",
   "execution_count": 164,
   "metadata": {
    "colab": {},
    "colab_type": "code",
    "id": "WfZK5Dg9oxVA"
   },
   "outputs": [],
   "source": [
    "# add in dense and output layers\n",
    "dense = Dense(512, activation='relu')(hybrid_layer)\n",
    "dense = Dropout(0.2)(dense)\n",
    "output = Dense(1)(dense)"
   ]
  },
  {
   "cell_type": "code",
   "execution_count": 165,
   "metadata": {
    "colab": {
     "base_uri": "https://localhost:8080/",
     "height": 622
    },
    "colab_type": "code",
    "id": "odLeDjgzoxYA",
    "outputId": "56430bf2-ce38-43d6-f2c7-82974b41af94"
   },
   "outputs": [
    {
     "name": "stdout",
     "output_type": "stream",
     "text": [
      "Model: \"model_2\"\n",
      "__________________________________________________________________________________________________\n",
      "Layer (type)                    Output Shape         Param #     Connected to                     \n",
      "==================================================================================================\n",
      "user (InputLayer)               (None, 1)            0                                            \n",
      "__________________________________________________________________________________________________\n",
      "movie (InputLayer)              (None, 1)            0                                            \n",
      "__________________________________________________________________________________________________\n",
      "tfidf (InputLayer)              (None, 24144)        0                                            \n",
      "__________________________________________________________________________________________________\n",
      "user_embedding (Embedding)      (None, 1, 256)       5331968     user[0][0]                       \n",
      "__________________________________________________________________________________________________\n",
      "movie_embedding (Embedding)     (None, 1, 256)       445696      movie[0][0]                      \n",
      "__________________________________________________________________________________________________\n",
      "dense_1 (Dense)                 (None, 512)          12362240    tfidf[0][0]                      \n",
      "__________________________________________________________________________________________________\n",
      "reshape_3 (Reshape)             (None, 256)          0           user_embedding[0][0]             \n",
      "__________________________________________________________________________________________________\n",
      "reshape_4 (Reshape)             (None, 256)          0           movie_embedding[0][0]            \n",
      "__________________________________________________________________________________________________\n",
      "dense_2 (Dense)                 (None, 256)          131328      dense_1[0][0]                    \n",
      "__________________________________________________________________________________________________\n",
      "concatenate_1 (Concatenate)     (None, 768)          0           reshape_3[0][0]                  \n",
      "                                                                 reshape_4[0][0]                  \n",
      "                                                                 dense_2[0][0]                    \n",
      "__________________________________________________________________________________________________\n",
      "dense_3 (Dense)                 (None, 512)          393728      concatenate_1[0][0]              \n",
      "__________________________________________________________________________________________________\n",
      "dropout_1 (Dropout)             (None, 512)          0           dense_3[0][0]                    \n",
      "__________________________________________________________________________________________________\n",
      "dense_4 (Dense)                 (None, 1)            513         dropout_1[0][0]                  \n",
      "==================================================================================================\n",
      "Total params: 18,665,473\n",
      "Trainable params: 18,665,473\n",
      "Non-trainable params: 0\n",
      "__________________________________________________________________________________________________\n"
     ]
    }
   ],
   "source": [
    "# create and view model summary\n",
    "model = Model(inputs=[user_id_input, movie_id_input, tfidf_input], outputs=output)\n",
    "model.compile(loss='mse', optimizer='adam')\n",
    "model.summary()"
   ]
  },
  {
   "cell_type": "markdown",
   "metadata": {
    "colab_type": "text",
    "id": "upDnm3r76Ivj"
   },
   "source": [
    "#### Train and Test the Model"
   ]
  },
  {
   "cell_type": "code",
   "execution_count": 166,
   "metadata": {
    "colab": {
     "base_uri": "https://localhost:8080/",
     "height": 386
    },
    "colab_type": "code",
    "id": "SmzWu6Xhoxnt",
    "outputId": "18233373-81f3-4bc1-a177-91b46e68b87f"
   },
   "outputs": [
    {
     "name": "stdout",
     "output_type": "stream",
     "text": [
      "Train on 1689127 samples, validate on 187681 samples\n",
      "Epoch 1/10\n",
      "1689127/1689127 [==============================] - 257s 152us/step - loss: 0.9400 - val_loss: 0.8186\n",
      "Epoch 2/10\n",
      "1689127/1689127 [==============================] - 257s 152us/step - loss: 0.8076 - val_loss: 0.7706\n",
      "Epoch 3/10\n",
      "1689127/1689127 [==============================] - 256s 152us/step - loss: 0.7742 - val_loss: 0.7565\n",
      "Epoch 4/10\n",
      "1689127/1689127 [==============================] - 257s 152us/step - loss: 0.7514 - val_loss: 0.7447\n",
      "Epoch 5/10\n",
      "1689127/1689127 [==============================] - 257s 152us/step - loss: 0.7279 - val_loss: 0.7324\n",
      "Epoch 6/10\n",
      "1689127/1689127 [==============================] - 257s 152us/step - loss: 0.7012 - val_loss: 0.7204\n",
      "Epoch 7/10\n",
      "1689127/1689127 [==============================] - 256s 152us/step - loss: 0.6704 - val_loss: 0.7069\n",
      "Epoch 8/10\n",
      "1689127/1689127 [==============================] - 257s 152us/step - loss: 0.6413 - val_loss: 0.6975\n",
      "Epoch 9/10\n",
      "1689127/1689127 [==============================] - 257s 152us/step - loss: 0.6139 - val_loss: 0.6911\n",
      "Epoch 10/10\n",
      "1689127/1689127 [==============================] - 256s 152us/step - loss: 0.5873 - val_loss: 0.6875\n"
     ]
    },
    {
     "data": {
      "text/plain": [
       "<keras.callbacks.History at 0x7f74a7b92650>"
      ]
     },
     "execution_count": 166,
     "metadata": {},
     "output_type": "execute_result"
    }
   ],
   "source": [
    "# fit the model\n",
    "batch_size=1024\n",
    "epochs=10\n",
    "X = [df_hybrid_train['User'], df_hybrid_train['Movie'], train_tfidf]\n",
    "y = df_hybrid_train['Rating']\n",
    "model.fit(X, y,\n",
    "          batch_size=batch_size, \n",
    "          epochs=epochs, ## Change the epochs to find better improved model.\n",
    "          validation_split=0.1,\n",
    "          shuffle=True)"
   ]
  },
  {
   "cell_type": "code",
   "execution_count": 167,
   "metadata": {
    "colab": {
     "base_uri": "https://localhost:8080/",
     "height": 67
    },
    "colab_type": "code",
    "id": "ZLkTXmxhpK7r",
    "outputId": "4d99eaa3-5f84-4814-e083-a82058bacc68"
   },
   "outputs": [
    {
     "name": "stdout",
     "output_type": "stream",
     "text": [
      "\n",
      "\n",
      "Testing Result With DL Hybrid Recommender: 0.8307 RMSE\n"
     ]
    }
   ],
   "source": [
    "# create test input data and true outputs\n",
    "X_test = [df_hybrid_test['User'], df_hybrid_test['Movie'], test_tfidf]\n",
    "y_true = df_hybrid_test['Rating'].values \n",
    "\n",
    "# Test model by making predictions on test data\n",
    "y_pred = model.predict(X_test).ravel()\n",
    "# clip upper and lower ratings\n",
    "y_pred = list(map(lambda x: 1.0 if x < 1 else 5.0 if x > 5.0 else x, y_pred))\n",
    "\n",
    "#  Compute RMSE\n",
    "rmse = np.sqrt(mean_squared_error(y_pred=y_pred, y_true=y_true))\n",
    "print('\\n\\nTesting Result With DL Hybrid Recommender: {:.4f} RMSE'.format(rmse))"
   ]
  },
  {
   "cell_type": "code",
   "execution_count": 168,
   "metadata": {
    "colab": {
     "base_uri": "https://localhost:8080/",
     "height": 639
    },
    "colab_type": "code",
    "id": "ecgDG4C9pLAG",
    "outputId": "e13970a0-c7a0-4b0d-d2f3-7d765e901881"
   },
   "outputs": [
    {
     "data": {
      "text/html": [
       "<div>\n",
       "<style scoped>\n",
       "    .dataframe tbody tr th:only-of-type {\n",
       "        vertical-align: middle;\n",
       "    }\n",
       "\n",
       "    .dataframe tbody tr th {\n",
       "        vertical-align: top;\n",
       "    }\n",
       "\n",
       "    .dataframe thead th {\n",
       "        text-align: right;\n",
       "    }\n",
       "</style>\n",
       "<table border=\"1\" class=\"dataframe\">\n",
       "  <thead>\n",
       "    <tr style=\"text-align: right;\">\n",
       "      <th></th>\n",
       "      <th>User ID</th>\n",
       "      <th>Movie ID</th>\n",
       "      <th>Movie Name</th>\n",
       "      <th>Predicted Rating</th>\n",
       "      <th>Actual Rating</th>\n",
       "    </tr>\n",
       "  </thead>\n",
       "  <tbody>\n",
       "    <tr>\n",
       "      <th>0</th>\n",
       "      <td>698</td>\n",
       "      <td>257</td>\n",
       "      <td>Mann</td>\n",
       "      <td>3.5</td>\n",
       "      <td>4.0</td>\n",
       "    </tr>\n",
       "    <tr>\n",
       "      <th>1</th>\n",
       "      <td>16769</td>\n",
       "      <td>720</td>\n",
       "      <td>Royal Deceit</td>\n",
       "      <td>3.3</td>\n",
       "      <td>4.0</td>\n",
       "    </tr>\n",
       "    <tr>\n",
       "      <th>2</th>\n",
       "      <td>4164</td>\n",
       "      <td>489</td>\n",
       "      <td>The Passion of Ayn Rand</td>\n",
       "      <td>3.1</td>\n",
       "      <td>5.0</td>\n",
       "    </tr>\n",
       "    <tr>\n",
       "      <th>3</th>\n",
       "      <td>18254</td>\n",
       "      <td>199</td>\n",
       "      <td>The Fall of the Roman Empire</td>\n",
       "      <td>4.0</td>\n",
       "      <td>4.0</td>\n",
       "    </tr>\n",
       "    <tr>\n",
       "      <th>4</th>\n",
       "      <td>1870</td>\n",
       "      <td>693</td>\n",
       "      <td>When Dinosaurs Roamed America</td>\n",
       "      <td>3.0</td>\n",
       "      <td>3.0</td>\n",
       "    </tr>\n",
       "    <tr>\n",
       "      <th>5</th>\n",
       "      <td>10538</td>\n",
       "      <td>701</td>\n",
       "      <td>For the Moment</td>\n",
       "      <td>4.4</td>\n",
       "      <td>3.0</td>\n",
       "    </tr>\n",
       "    <tr>\n",
       "      <th>6</th>\n",
       "      <td>3110</td>\n",
       "      <td>720</td>\n",
       "      <td>Royal Deceit</td>\n",
       "      <td>4.2</td>\n",
       "      <td>5.0</td>\n",
       "    </tr>\n",
       "    <tr>\n",
       "      <th>7</th>\n",
       "      <td>8277</td>\n",
       "      <td>331</td>\n",
       "      <td>They Crawl</td>\n",
       "      <td>3.0</td>\n",
       "      <td>1.0</td>\n",
       "    </tr>\n",
       "    <tr>\n",
       "      <th>8</th>\n",
       "      <td>5051</td>\n",
       "      <td>986</td>\n",
       "      <td>Rescue from Gilligan's Island</td>\n",
       "      <td>5.0</td>\n",
       "      <td>5.0</td>\n",
       "    </tr>\n",
       "    <tr>\n",
       "      <th>9</th>\n",
       "      <td>4261</td>\n",
       "      <td>200</td>\n",
       "      <td>Home Movie</td>\n",
       "      <td>3.4</td>\n",
       "      <td>5.0</td>\n",
       "    </tr>\n",
       "    <tr>\n",
       "      <th>10</th>\n",
       "      <td>6377</td>\n",
       "      <td>416</td>\n",
       "      <td>Transformers: Season 3: Part 1</td>\n",
       "      <td>2.6</td>\n",
       "      <td>2.0</td>\n",
       "    </tr>\n",
       "    <tr>\n",
       "      <th>11</th>\n",
       "      <td>8176</td>\n",
       "      <td>334</td>\n",
       "      <td>Fear No Evil</td>\n",
       "      <td>2.7</td>\n",
       "      <td>4.0</td>\n",
       "    </tr>\n",
       "    <tr>\n",
       "      <th>12</th>\n",
       "      <td>3567</td>\n",
       "      <td>240</td>\n",
       "      <td>North by Northwest</td>\n",
       "      <td>3.4</td>\n",
       "      <td>1.0</td>\n",
       "    </tr>\n",
       "    <tr>\n",
       "      <th>13</th>\n",
       "      <td>20643</td>\n",
       "      <td>452</td>\n",
       "      <td>Simple Men</td>\n",
       "      <td>2.3</td>\n",
       "      <td>2.0</td>\n",
       "    </tr>\n",
       "    <tr>\n",
       "      <th>14</th>\n",
       "      <td>15326</td>\n",
       "      <td>36</td>\n",
       "      <td>Zatoichi's Conspiracy</td>\n",
       "      <td>4.2</td>\n",
       "      <td>4.0</td>\n",
       "    </tr>\n",
       "    <tr>\n",
       "      <th>15</th>\n",
       "      <td>17528</td>\n",
       "      <td>89</td>\n",
       "      <td>The Lemon Drop Kid</td>\n",
       "      <td>2.3</td>\n",
       "      <td>2.0</td>\n",
       "    </tr>\n",
       "    <tr>\n",
       "      <th>16</th>\n",
       "      <td>13397</td>\n",
       "      <td>843</td>\n",
       "      <td>La Cienaga</td>\n",
       "      <td>3.8</td>\n",
       "      <td>4.0</td>\n",
       "    </tr>\n",
       "    <tr>\n",
       "      <th>17</th>\n",
       "      <td>17462</td>\n",
       "      <td>172</td>\n",
       "      <td>The Devil's Brigade</td>\n",
       "      <td>3.2</td>\n",
       "      <td>4.0</td>\n",
       "    </tr>\n",
       "    <tr>\n",
       "      <th>18</th>\n",
       "      <td>8837</td>\n",
       "      <td>24</td>\n",
       "      <td>Inspector Morse 31: Death Is Now My Neighbour</td>\n",
       "      <td>2.4</td>\n",
       "      <td>2.0</td>\n",
       "    </tr>\n",
       "    <tr>\n",
       "      <th>19</th>\n",
       "      <td>16559</td>\n",
       "      <td>486</td>\n",
       "      <td>Doctor Who: Lost in Time: The Patrick Troughto...</td>\n",
       "      <td>2.9</td>\n",
       "      <td>3.0</td>\n",
       "    </tr>\n",
       "  </tbody>\n",
       "</table>\n",
       "</div>"
      ],
      "text/plain": [
       "    User ID  Movie ID                                         Movie Name  \\\n",
       "0       698       257                                               Mann   \n",
       "1     16769       720                                       Royal Deceit   \n",
       "2      4164       489                            The Passion of Ayn Rand   \n",
       "3     18254       199                       The Fall of the Roman Empire   \n",
       "4      1870       693                      When Dinosaurs Roamed America   \n",
       "5     10538       701                                     For the Moment   \n",
       "6      3110       720                                       Royal Deceit   \n",
       "7      8277       331                                         They Crawl   \n",
       "8      5051       986                      Rescue from Gilligan's Island   \n",
       "9      4261       200                                         Home Movie   \n",
       "10     6377       416                     Transformers: Season 3: Part 1   \n",
       "11     8176       334                                       Fear No Evil   \n",
       "12     3567       240                                 North by Northwest   \n",
       "13    20643       452                                         Simple Men   \n",
       "14    15326        36                              Zatoichi's Conspiracy   \n",
       "15    17528        89                                 The Lemon Drop Kid   \n",
       "16    13397       843                                         La Cienaga   \n",
       "17    17462       172                                The Devil's Brigade   \n",
       "18     8837        24      Inspector Morse 31: Death Is Now My Neighbour   \n",
       "19    16559       486  Doctor Who: Lost in Time: The Patrick Troughto...   \n",
       "\n",
       "    Predicted Rating  Actual Rating  \n",
       "0                3.5            4.0  \n",
       "1                3.3            4.0  \n",
       "2                3.1            5.0  \n",
       "3                4.0            4.0  \n",
       "4                3.0            3.0  \n",
       "5                4.4            3.0  \n",
       "6                4.2            5.0  \n",
       "7                3.0            1.0  \n",
       "8                5.0            5.0  \n",
       "9                3.4            5.0  \n",
       "10               2.6            2.0  \n",
       "11               2.7            4.0  \n",
       "12               3.4            1.0  \n",
       "13               2.3            2.0  \n",
       "14               4.2            4.0  \n",
       "15               2.3            2.0  \n",
       "16               3.8            4.0  \n",
       "17               3.2            4.0  \n",
       "18               2.4            2.0  \n",
       "19               2.9            3.0  "
      ]
     },
     "execution_count": 168,
     "metadata": {},
     "output_type": "execute_result"
    }
   ],
   "source": [
    "## Let's see how our collaborative model performs by seeing the predicted and actual rating for the given user and movie pair\n",
    "results_df = pd.DataFrame({\n",
    "    'User ID': df_hybrid_test['User'].values,\n",
    "    'Movie ID': df_hybrid_test['Movie'].values,\n",
    "    'Movie Name': [movie_titles['Name'].iloc[item] for item in df_hybrid_test['Movie']],\n",
    "    'Predicted Rating': np.round(y_pred, 1),\n",
    "    'Actual Rating': y_true\n",
    "})\n",
    "\n",
    "results_df.head(20)"
   ]
  },
  {
   "cell_type": "code",
   "execution_count": null,
   "metadata": {},
   "outputs": [],
   "source": []
  },
  {
   "cell_type": "markdown",
   "metadata": {},
   "source": [
    "# Word2Vec"
   ]
  },
  {
   "cell_type": "code",
   "execution_count": 15,
   "metadata": {},
   "outputs": [],
   "source": [
    "import gensim "
   ]
  },
  {
   "cell_type": "code",
   "execution_count": 16,
   "metadata": {},
   "outputs": [
    {
     "data": {
      "text/html": [
       "<div>\n",
       "<style scoped>\n",
       "    .dataframe tbody tr th:only-of-type {\n",
       "        vertical-align: middle;\n",
       "    }\n",
       "\n",
       "    .dataframe tbody tr th {\n",
       "        vertical-align: top;\n",
       "    }\n",
       "\n",
       "    .dataframe thead th {\n",
       "        text-align: right;\n",
       "    }\n",
       "</style>\n",
       "<table border=\"1\" class=\"dataframe\">\n",
       "  <thead>\n",
       "    <tr style=\"text-align: right;\">\n",
       "      <th></th>\n",
       "      <th>overview</th>\n",
       "      <th>vote_count</th>\n",
       "    </tr>\n",
       "    <tr>\n",
       "      <th>original_title</th>\n",
       "      <th></th>\n",
       "      <th></th>\n",
       "    </tr>\n",
       "  </thead>\n",
       "  <tbody>\n",
       "    <tr>\n",
       "      <th>Toy Story</th>\n",
       "      <td>Led by Woody, Andy's toys live happily in his ...</td>\n",
       "      <td>5415.0</td>\n",
       "    </tr>\n",
       "    <tr>\n",
       "      <th>Jumanji</th>\n",
       "      <td>When siblings Judy and Peter discover an encha...</td>\n",
       "      <td>2413.0</td>\n",
       "    </tr>\n",
       "    <tr>\n",
       "      <th>Grumpier Old Men</th>\n",
       "      <td>A family wedding reignites the ancient feud be...</td>\n",
       "      <td>92.0</td>\n",
       "    </tr>\n",
       "    <tr>\n",
       "      <th>Waiting to Exhale</th>\n",
       "      <td>Cheated on, mistreated and stepped on, the wom...</td>\n",
       "      <td>34.0</td>\n",
       "    </tr>\n",
       "    <tr>\n",
       "      <th>Father of the Bride Part II</th>\n",
       "      <td>Just when George Banks has recovered from his ...</td>\n",
       "      <td>173.0</td>\n",
       "    </tr>\n",
       "  </tbody>\n",
       "</table>\n",
       "</div>"
      ],
      "text/plain": [
       "                                                                      overview  \\\n",
       "original_title                                                                   \n",
       "Toy Story                    Led by Woody, Andy's toys live happily in his ...   \n",
       "Jumanji                      When siblings Judy and Peter discover an encha...   \n",
       "Grumpier Old Men             A family wedding reignites the ancient feud be...   \n",
       "Waiting to Exhale            Cheated on, mistreated and stepped on, the wom...   \n",
       "Father of the Bride Part II  Just when George Banks has recovered from his ...   \n",
       "\n",
       "                             vote_count  \n",
       "original_title                           \n",
       "Toy Story                        5415.0  \n",
       "Jumanji                          2413.0  \n",
       "Grumpier Old Men                   92.0  \n",
       "Waiting to Exhale                  34.0  \n",
       "Father of the Bride Part II       173.0  "
      ]
     },
     "execution_count": 16,
     "metadata": {},
     "output_type": "execute_result"
    }
   ],
   "source": [
    "movie_metadata.head()"
   ]
  },
  {
   "cell_type": "code",
   "execution_count": 17,
   "metadata": {},
   "outputs": [
    {
     "data": {
      "text/plain": [
       "original_title\n",
       "Toy Story                      Led by Woody, Andy's toys live happily in his ...\n",
       "Jumanji                        When siblings Judy and Peter discover an encha...\n",
       "Grumpier Old Men               A family wedding reignites the ancient feud be...\n",
       "Waiting to Exhale              Cheated on, mistreated and stepped on, the wom...\n",
       "Father of the Bride Part II    Just when George Banks has recovered from his ...\n",
       "Name: overview, dtype: object"
      ]
     },
     "execution_count": 17,
     "metadata": {},
     "output_type": "execute_result"
    }
   ],
   "source": [
    "# view sample movie descriptions\n",
    "movie_metadata['overview'].head(5)"
   ]
  },
  {
   "cell_type": "code",
   "execution_count": 18,
   "metadata": {},
   "outputs": [
    {
     "data": {
      "text/plain": [
       "[\"Led by Woody, Andy's toys live happily in his room until Andy's birthday brings Buzz Lightyear onto the scene. Afraid of losing his place in Andy's heart, Woody plots against Buzz. But when circumstances separate Buzz and Woody from their owner, the duo eventually learns to put aside their differences.\",\n",
       " \"When siblings Judy and Peter discover an enchanted board game that opens the door to a magical world, they unwittingly invite Alan -- an adult who's been trapped inside the game for 26 years -- into their living room. Alan's only hope for freedom is to finish the game, which proves risky as all three find themselves running from giant rhinoceroses, evil monkeys and other terrifying creatures.\",\n",
       " \"A family wedding reignites the ancient feud between next-door neighbors and fishing buddies John and Max. Meanwhile, a sultry Italian divorcée opens a restaurant at the local bait shop, alarming the locals who worry she'll scare the fish away. But she's less interested in seafood than she is in cooking up a hot time with Max.\",\n",
       " 'Cheated on, mistreated and stepped on, the women are holding their breath, waiting for the elusive \"good man\" to break a string of less-than-stellar lovers. Friends and confidants Vannah, Bernie, Glo and Robin talk it all out, determined to find a better way to breathe.',\n",
       " \"Just when George Banks has recovered from his daughter's wedding, he receives the news that she's pregnant ... and that George's wife, Nina, is expecting too. He was planning on selling their home, but that's a plan that -- like George -- will have to change with the arrival of both a grandchild and a kid of his own.\"]"
      ]
     },
     "execution_count": 18,
     "metadata": {},
     "output_type": "execute_result"
    }
   ],
   "source": [
    "documents = list(movie_metadata['overview'])\n",
    "documents[:5]"
   ]
  },
  {
   "cell_type": "code",
   "execution_count": 19,
   "metadata": {},
   "outputs": [
    {
     "data": {
      "text/plain": [
       "['Led', 'by', 'Woody,', \"Andy's\", 'toys']"
      ]
     },
     "execution_count": 19,
     "metadata": {},
     "output_type": "execute_result"
    }
   ],
   "source": [
    "unigrams = [doc.split(\" \") for doc in documents]\n",
    "unigrams[0][:5]"
   ]
  },
  {
   "cell_type": "markdown",
   "metadata": {},
   "source": [
    "## Question --> how to deal with special character such as comma"
   ]
  },
  {
   "cell_type": "code",
   "execution_count": 21,
   "metadata": {},
   "outputs": [],
   "source": [
    "# build vocabulary and train model\n",
    "model = gensim.models.Word2Vec(\n",
    "    unigrams,\n",
    "    size=100,\n",
    "    window=5,\n",
    "    min_count=2,\n",
    "    workers=5)\n",
    "\n",
    "# The parameters\n",
    "# min_count = int - Ignores all words with total absolute frequency lower than this - (2, 100)\n",
    "# window = int - The maximum distance between the current and predicted word within a sentence. E.g. window words on the left and window words on the left of our target - (2, 10)\n",
    "# size = int - Dimensionality of the feature vectors. - (50, 300)\n",
    "# sample = float - The threshold for configuring which higher-frequency words are randomly downsampled. Highly influencial. - (0, 1e-5)\n",
    "# alpha = float - The initial learning rate - (0.01, 0.05)\n",
    "# min_alpha = float - Learning rate will linearly drop to min_alpha as training progresses. To set it: alpha - (min_alpha * epochs) ~ 0.00\n",
    "# negative = int - If > 0, negative sampling will be used, the int for negative specifies how many \"noise words\" should be drown. If set to 0, no negative sampling is used. - (5, 20)\n",
    "# workers = int - Use these many worker threads to train the model (=faster training with multicore machines)"
   ]
  },
  {
   "cell_type": "code",
   "execution_count": 22,
   "metadata": {},
   "outputs": [
    {
     "data": {
      "text/plain": [
       "<gensim.models.word2vec.Word2Vec at 0x7f7df9993bd0>"
      ]
     },
     "execution_count": 22,
     "metadata": {},
     "output_type": "execute_result"
    }
   ],
   "source": [
    "model"
   ]
  },
  {
   "cell_type": "code",
   "execution_count": null,
   "metadata": {},
   "outputs": [],
   "source": [
    "# shallow deep learing - skip gram vs continuous bag of words"
   ]
  },
  {
   "cell_type": "code",
   "execution_count": null,
   "metadata": {},
   "outputs": [],
   "source": [
    "model_doc.train(documents, total_examples=len(documents), epochs=10)"
   ]
  },
  {
   "cell_type": "code",
   "execution_count": 139,
   "metadata": {},
   "outputs": [
    {
     "data": {
      "text/plain": [
       "42452"
      ]
     },
     "execution_count": 139,
     "metadata": {},
     "output_type": "execute_result"
    }
   ],
   "source": [
    "len(model.wv.vocab)"
   ]
  },
  {
   "cell_type": "code",
   "execution_count": 152,
   "metadata": {},
   "outputs": [
    {
     "data": {
      "text/plain": [
       "dict_keys(['Led', 'by', 'Woody,', \"Andy's\", 'toys', 'live', 'happily', 'in', 'his', 'room', 'until', 'birthday', 'brings', 'Buzz', 'Lightyear', 'onto', 'the', 'scene.', 'Afraid', 'of', 'losing', 'place', 'heart,', 'Woody', 'plots', 'against', 'Buzz.', 'But', 'when', 'circumstances', 'separate', 'and', 'from', 'their', 'owner,', 'duo', 'eventually', 'learns', 'to', 'put', 'aside', 'differences.', 'When', 'siblings', 'Judy', 'Peter', 'discover', 'an', 'enchanted', 'board', 'game', 'that', 'opens', 'door', 'a', 'magical', 'world,', 'they', 'unwittingly', 'invite', 'Alan', '--', 'adult', \"who's\", 'been', 'trapped', 'inside', 'for', '26', 'years', 'into', 'living', 'room.', 'only', 'hope', 'freedom', 'is', 'finish', 'game,', 'which', 'proves', 'risky', 'as', 'all', 'three', 'find', 'themselves', 'running', 'giant', 'evil', 'monkeys', 'other', 'terrifying', 'creatures.', 'A', 'family', 'wedding', 'reignites', 'ancient', 'feud', 'between', 'next-door', 'neighbors', 'fishing', 'buddies', 'John', 'Max.', 'Meanwhile,', 'sultry', 'Italian', 'divorcée', 'restaurant', 'at', 'local', 'bait', 'shop,', 'alarming', 'locals', 'who', 'worry', \"she'll\", 'scare', 'fish', 'away.', \"she's\", 'less', 'interested', 'seafood', 'than', 'she', 'cooking', 'up', 'hot', 'time', 'with', 'on,', 'mistreated', 'stepped', 'women', 'are', 'holding', 'breath,', 'waiting', 'elusive', '\"good', 'man\"', 'break', 'string', 'lovers.', 'Friends', 'Bernie,', 'Robin', 'talk', 'it', 'out,', 'determined', 'better', 'way', 'Just', 'George', 'Banks', 'has', 'recovered', \"daughter's\", 'wedding,', 'he', 'receives', 'news', 'pregnant', '...', \"George's\", 'wife,', 'Nina,', 'expecting', 'too.', 'He', 'was', 'planning', 'on', 'selling', 'home,', 'but', \"that's\", 'plan', 'like', 'will', 'have', 'change', 'arrival', 'both', 'kid', 'own.', 'master', 'thief,', 'Neil', 'leads', 'top-notch', 'crew', 'various', 'insane', 'heists', 'throughout', 'Los', 'Angeles', 'while', 'mentally', 'unstable', 'detective,', 'Vincent', 'Hanna', 'pursues', 'him', 'without', 'rest.', 'Each', 'man', 'recognizes', 'respects', 'ability', 'dedication', 'even', 'though', 'aware', 'cat-and-mouse', 'may', 'end', 'violence.', 'An', 'ugly', 'duckling', 'having', 'undergone', 'remarkable', 'change,', 'still', 'harbors', 'feelings', 'her', 'carefree', 'playboy,', 'not', 'before', 'brother', 'something', 'say', 'about', 'it.', 'mischievous', 'young', 'boy,', 'Tom', 'Sawyer,', 'witnesses', 'murder', 'deadly', 'Injun', 'Joe.', 'becomes', 'friends', 'Huckleberry', 'Finn,', 'boy', 'no', 'future', 'family.', 'choose', 'honoring', 'friendship', 'or', 'oath', 'because', 'town', 'alcoholic', 'accused', 'murder.', 'Huck', 'go', 'through', 'several', 'adventures', 'trying', 'retrieve', 'evidence.', 'International', 'action', 'superstar', 'Jean', 'Claude', 'Van', 'Damme', 'teams', 'Powers', 'suspense', 'thriller,', 'set', 'Stanley', 'Cup', 'portrays', 'father', 'whose', 'daughter', 'suddenly', 'taken', 'during', 'championship', 'hockey', 'game.', 'With', 'captors', 'demanding', 'billion', 'dollars', \"game's\", 'end,', 'frantically', 'sets', 'motion', 'rescue', 'abort', 'impending', 'explosion', 'final', 'James', 'Bond', 'must', 'unmask', 'mysterious', 'head', 'Syndicate', 'prevent', 'leader', 'utilizing', 'weapons', 'system', 'inflict', 'devastating', 'revenge', 'Britain.', 'Widowed', 'U.S.', 'president', 'Andrew', 'Shepherd,', 'one', \"world's\", 'most', 'powerful', 'men,', 'can', 'anything', 'wants', 'what', 'covets', 'Sydney', 'Ellen', 'Wade,', 'Washington', 'attempts', 'courting', 'spark', 'wild', 'rumors', 'decimate', 'approval', 'ratings.', 'lawyer', 'shows', \"vampire's\", 'doorstep,', 'falls', 'prey', 'charms', 'joins', 'search', 'fresh', 'blood.', 'Enter', 'Dr.', 'van', 'Helsing,', 'be', 'able', 'vanquish', 'count.', 'outcast', 'risks', 'life', 'epidemic', 'ravaging', 'Nome,', 'Alaska.', 'all-star', 'cast', 'powers', 'this', 'epic', 'look', 'American', 'President', 'Richard', 'M.', 'carrying', 'fate', 'world', 'shoulders', 'battling', 'self-destructive', 'demands', 'within.', 'Spanning', 'troubled', 'boyhood', 'California', 'shocking', 'Watergate', 'scandal', 'would', 'presidency.', 'Morgan', 'Adams', 'slave,', 'William', 'Shaw,', 'quest', 'recover', 'portions', 'treasure', 'map.', 'Unfortunately,', 'portion', 'held', 'murderous', 'uncle,', 'Her', 'skeptical', 'leadership', 'abilities,', 'so', 'complete', 'mutiny', 'her.', 'This', 'made', 'yet', 'more', 'difficult', 'efforts', 'British', 'crown', 'pirate', 'raids.', 'The', 'gambling', 'paradise', '–', 'Las', 'Vegas', 'its', 'dark', 'mafia', 'Rich', 'Mr.', 'dies,', 'leaving', 'second', 'wife', 'daughters', 'poor', 'rules', 'inheritance.', 'Two', 'titular', 'opposites.', \"It's\", 'Ted', 'first', 'night', \"hotel's\", 'very', 'unusual', 'guests', 'some', 'outrageous', 'predicaments.', 'It', 'seems', \"evening's\", 'service', 'serving', 'unbelievable', 'happening', 'after', 'another.', 'Summoned', 'Tibet,', 'Ace', 'finds', 'himself', 'perilous', 'journey', 'jungles', 'Africa', 'missing', 'sacred', 'animal', 'friendly', 'tribe.', 'accomplish', 'Princess', 'prince', 'warrior', 'If', 'fails,', 'result', 'vicious', 'tribal', 'war.', 'vengeful', 'New', 'York', 'transit', 'cop', 'decides', 'steal', 'subway', 'foster', 'brother,', 'fellow', 'cop,', 'tries', 'protect', 'him.', 'Chili', 'Palmer', 'Miami', 'mobster', 'gets', 'sent', 'boss,', 'psychopathic', 'collect', 'bad', 'debt', 'Harry', 'Hollywood', 'producer', 'specializes', 'cheesy', 'horror', 'films.', 'meets', \"Harry's\", 'leading', 'lady,', 'romantic', 'sparks', 'fly.', 'After', 'pitching', 'own', 'story', 'movie', 'idea,', 'being', 'really', \"aren't\", 'different.', 'agoraphobic', 'psychologist', 'female', 'detective', 'work', 'together', 'take', 'down', 'serial', 'killer', 'copies', 'killers', 'past.', 'Assassin', 'Robert', 'Rath', 'arrives', 'funeral', 'kill', 'prominent', 'mobster,', 'witness', 'rival', 'hired', 'gun', 'job', 'grisly', 'results.', 'innocent', 'bystanders,', 'last', 'then', 'return', 'civilian', 'life.', 'finding', 'out', 'contract', 'killing', 'grows', 'ever', 'dangerous', 'target', 'marked', 'himself.', 'Harassed', 'classmates', \"won't\", 'accept', 'appearance,', 'shy', 'known', 'struggles', 'fit', 'in.', 'cruel', 'taunts', 'stop', 'displays', 'power', 'allows', 'do', 'incredible', 'things.', 'phenomenon', 'changes', 'lives', 'those', 'around', 'ways', 'never', 'could', 'imagined.', 'Ben', 'Sanderson,', 'screenwriter', 'lost', 'everything', 'drinking,', 'drink', 'death.', 'There,', 'forms', 'uneasy', 'pact', 'prostitute', 'Iago', 'pretends', 'friend', 'Othello', 'order', 'manipulate', 'serve', 'film', 'version', 'Shakespeare', 'classic.', 'nostalgic', 'bittersweet', 'passage', 'childhood', 'puberty', 'tender', 'coming-of-age', 'tale,', 'four', 'girlfriends', 'Chrissy,', 'Samantha', 'Roberta', 'recall', 'summer', '1970.', 'During', 'walk', 'memory', 'reconcile', 'experiences', 'boys,', 'secrets,', 'bullies', 'more.', 'adaptation', 'Jane', \"Austen's\", 'novel', 'follows', 'Anne', 'Elliot,', 'financially', 'aristocratic', 'family,', 'persuaded', 'engagement', 'Frederick', 'sea', 'captain', 'meager', 'means.', 'Years', 'later,', 'money', 'troubles', 'force', \"Anne's\", 'rent', 'estate', 'Admiral', 'again', 'thrown', 'company', 'now', 'rich,', 'successful', 'perhaps', 'love', 'Anne.', 'scientist', 'surrealist', 'society', 'kidnaps', 'children', 'dreams,', 'hoping', 'slow', 'aging', 'process.', 'provincial', 'related', 'Shanghai', 'crime', 'recruited', 'uncle', 'cosmopolitan', '1930s', 'servant', 'mistress.', 'Former', 'Marine', 'Johnson', 'lands', 'gig', 'teaching', 'pilot', 'program', 'bright', 'underachieving', 'teens', 'notorious', 'inner-city', 'high', 'school.', 'terrible', 'day,', 'throw', 'decorum', 'returns', 'classroom,', 'does', 'armed', 'no-nonsense', 'attitude', 'informed', 'military', 'training', 'fearless', 'determination', 'students', 'matter', 'cost.', 'In', 'year', '2035,', 'convict', 'Cole', 'reluctantly', 'volunteers', 'back', 'origin', 'virus', 'wiped', 'nearly', \"earth's\", 'population', 'forced', 'survivors', 'underground', 'mistakenly', '1990', 'instead', '1996,', \"he's\", 'arrested', 'locked', 'mental', 'hospital.', 'There', 'psychiatrist', 'Kathryn', 'patient', 'Jeffrey', 'son', 'famous', 'expert,', 'hold', 'key', 'rogue', 'group,', 'Army', '12', 'thought', 'responsible', 'unleashing', 'disease.', 'Babe', 'little', 'pig', \"doesn't\", 'quite', 'know', 'world.', 'bunch', 'odd', 'friends,', 'Ferdinand', 'duck', 'thinks', 'rooster', 'Fly', 'dog', 'calls', 'mom,', 'realizes', 'become', 'greatest', 'sheep', 'time,', 'Farmer', 'knows', 'help', 'dogs', 'be.', 'relationship', 'painter', 'Dora', 'Carrington', 'author', 'Strachey', 'World', 'War', 'One', 'England', 'countryside.', 'Although', 'platonic', 'due', \"Strachey's\", 'homosexuality,', 'nevertheless', 'deep', 'complicated', 'one.', 'did', 'develop', 'physical', 'soldier', 'Ralph', 'welcome', 'friend,', 'although', 'Partridge', 'remained', 'somewhat', 'much', 'lifestyle', 'sexual', 'orientation', 'fact', 'conscientious', 'objector.', 'justice', 'drama', 'based', 'true', 'death', 'row', 'days', 'strong', 'nun', 'teaches', 'forgiveness', 'gives', 'spirituality', 'accompanies', 'execution.', 'Susan', 'won', 'Oscar', 'best', 'actress', 'convincing', 'portrayal', 'Sister', 'Helen', 'different', 'orphaned', 'Amanda', 'wealthy', 'Alyssa', 'meet', 'camp', 'decide', 'switch', 'places', 'play', 'matchmaker', 'dad,', 'Roger,', 'kind', 'social', 'worker', 'cares', 'Amanda.', 'rich', 'socially', 'Cher', 'top', 'Beverly', 'Hills', \"school's\", 'scale.', 'Seeing', 'herself', 'matchmaker,', 'coaxes', 'two', 'teachers', 'dating', 'each', 'other.', 'success,', 'give', 'hopelessly', 'klutzy', 'new', 'student', 'Tai', 'makeover.', 'popular', 'is,', 'disapproving', 'right', 'how', 'misguided', 'preacher', 'goes', 'wayward', 'committed', 'big', 'city.', \"Shakespeare's\", 'Play', 'transplanted', 'setting.', 'Depicts', 'heist', 'old', 'bills,', 'retired', 'destined', 'government', 'However,', 'addresses', 'issues', 'Black', 'involvement', 'Vietnam', 'subsequent', 'disillusionment', 'progress', 'civil', 'rights', 'home', 'United', 'States,', '1960s.', 'aspiring', 'physician,', 'Merivel', 'found', 'King', 'Charles', 'II', 'saves', 'someone', 'close', 'King.', \"King's\", 'court', 'provided', 'position.', 'ordered', 'marry', 'mistress', 'divert', 'queens', 'suspicions.', 'given', 'king', 'fall', 'love.', 'situation', 'worsens', 'wife.', 'Eventually,', 'relieves', 'position', 'wealth.', 'His', 'grace', 'leaves', 'where', 'started.', 'And', 'travels', 'rediscovers', 'medicine', 'means', 'physician.', 'For', 'nine', 'generations', 'sorcerer', 'victorious', 'hand-to-hand', 'battle', 'mortal', 'enemies.', 'wins', 'tenth', 'Mortal', 'Kombat', 'tournament,', 'reign', 'over', 'forever.', 'To', 'save', 'Earth,', 'warriors', 'overcome', 'seemingly', 'insurmountable', 'odds,', 'inner', 'demons,', 'superhuman', 'foes', 'action/adventure', 'video', 'games', 'time.', 'television', 'therefore', 'if', 'husband.', 'comedy', 'independent', 'director', 'Gus', 'Sant', 'brilliant', 'Nicole', 'Kidman', 'role.', 'graduate', 'Finn', 'Dodd', 'develops', 'cold', 'feet', 'suspects', 'fiancé', 'cheating', 'clear', 'head,', 'visits', 'grandmother,', 'great', 'aunt,', 'Glady', 'Joe', 'Calif.', 'members', 'group', 'passionate', 'course', 'visit', 'tales', 'collected', 'wisdom.', 'homicide', 'detectives', 'desperate', 'hunt', 'crimes', 'haunting', 'takes', 'viewers', 'tortured', 'remains', 'victim', 'next.', 'seasoned', 'Det.', 'researches', 'sin', 'effort', 'get', \"killer's\", 'mind,', 'novice', 'partner,', 'Mills,', 'scoffs', 'unravel', 'case.', 'History', 'comes', 'gloriously', \"Disney's\", 'animated', 'tale', 'adventure', 'World.', 'Pocahontas', 'Native', 'woman', 'arranged', \"village's\", 'warrior.', 'vision', 'tells', 'coming,', 'soon', 'face', 'form', 'Capt.', 'Smith.', 'Held', 'L.A.', 'interrogation', 'room,', 'Verbal', 'convince', 'feds', 'mythic', 'lord,', 'exists,', 'also', 'drawing', 'partners', 'multi-million', 'dollar', 'ended', 'San', 'Pedro', 'harbor', 'few', 'survivors.', 'lures', \"lord's\", 'almost', 'supernatural', 'prowess.', 'Lenny', 'Amanda,', 'adopt', 'baby,', 'genius', 'obsessed', \"boy's\", 'biological', 'mother', 'hopes', \"Max's\", 'Linda', 'Ash,', 'kindhearted', 'porn', 'star,', 'reform', 'immoral', 'lifestyle.', 'Greek', 'chorus', 'relate', 'plot', 'mythology', 'quirky', 'comedy.', 'Fiore,', 'conman,', 'post', 'Communist', 'Gino,', 'apprentice,', 'shoe', 'factory', 'open.', 'con', 'requires', 'native', 'impoverished', 'confused', 'former', 'political', 'prisoner', 'chairman', 'board.', 'Fiore', 'Italy', 'funds', 'project,', 'unexpectedly', 'disappears', 'Gino', 'tragic', 'personal', 'history', 'Albanian', 'poverty', 'firsthand.', 'depressed', 'Texas', 'town,', 'foreign', 'exchange', 'teacher', 'Anna', 'inject', 'hopeless', 'kids', 'introducing', 'them', 'soccer.', \"They're\", 'first,', 'assistant', 'whip', 'shape.', 'As', 'pair', 'build', 'self-esteem', 'involved', 'solving', 'Sadie', 'looks', 'older', 'sister', 'Georgia,', 'folk', 'singer', 'married', 'children,', \"can't\", 'circuit', 'hit', 'desperately', 'covets.', 'part', 'attraction', 'drugs', 'booze,', 'choice', 'men.', 'Finally,', 'though,', \"Sadie's\", 'Achilles', 'heel', 'rough,', 'voice', \"sister's\", 'singing.', 'job,', 'making', 'ex-boss,', 'plans', 'spend', 'Thanksgiving', 'boyfriend,', 'Claudia', 'Larson', 'spending', 'holiday', 'She', 'wonders', 'survive', 'crazy', 'antics.', 'Simple', 'postman', 'poetry', 'delivering', 'mail', 'poet;', 'uses', 'woo', 'beauty', 'Beatrice.', 'nine-year-old', 'plastic', 'Indian', 'befriends', 'fire', 'grieving', 'Karen', 'McCann', 'hands', 'fails', 'monster', 'raped', 'murdered', '17-year-old', 'daughter.', '1965,', 'musician', 'Glenn', 'Holland', 'day', 'school', 'music', 'teacher,', 'convinced', \"it's\", 'just', 'small', 'obstacle', 'road', 'writing', 'historic', 'decades', 'roll', 'composition', 'unwritten', 'inspired', 'teaching,', 'redefine', \"life's\", 'purpose.', 'Ashtray', '(Shawn', 'Wayans)', 'moves', 'South', 'Central', '(who', 'appears', 'same', 'age', 'grandmother', 'likes', 'tough', 'smoke', 'cousin', 'Loc', 'Dog', '(Marlon', 'along', 'requisite', 'pistols', 'carries', 'warhead', 'self-defense.', 'Will', 'keep', 'straight', 'life?', 'Frank', \"O'Brien,\", 'petty', 'girlfriend', 'Roz', 'want', 'involves', 'stealing', 'valuable', 'painting.', 'island', 'coast', 'England,', 'sell', 'painting', 'positive', 'push', 'up.', 'Not', 'planned.', 'Bud', 'Doyle', 'losers', 'doing', 'nothing', 'lives.', 'Both', 'actively', 'saving', 'environment,', \"couldn't\", 'care', 'Earth.', 'scientists', 'begin', 'mission', 'outside', 'contact,', 'project', 'themselves.', 'Jobe', 'resuscitated', 'Jonathan', 'Walker.', 'create', 'special', 'computer', 'chip', 'connect', 'computers', 'network,', 'Walker', 'control', 'use.', 'realize', 'teenage', 'hackers', 'plan.', '1933', '12-year', 'Gennaro', 'widowed', 'mom', 'ailing', 'sits', 'tight', 'quarter,', 'promised', 'buy', 'ticket', 'theater.', 'ready', 'pass', 'quarter', 'unfinished', 'business', 'past,', 'enlists', 'act', 'learning', \"husband's\", 'infidelities,', 'housewife', 'invites', 'itinerant', 'lesbian', 'move', 'them.', 'None', 'again.', 'Craig', 'guys', 'hanging', 'porch', 'Friday', 'afternoon,', 'smoking', 'looking', 'do.', 'Seth', 'younger', 'run', 'bloody', 'bank', 'robbery', 'Texas.', 'They', 'escape', 'across', 'border', 'Mexico', 'next', 'morning,', 'pay', 'off', 'kingpin.', 'dusk', 'till', 'rendezvous', 'point,', 'turns', 'Hell', 'strip', 'joint.', 'Max', 'protects', 'Kate', 'law', 'attorney,', 'renegade', 'KGB', 'team', 'terminate', 'college', 'graduation,', \"Grover's\", 'moving', 'Prague', 'study', 'writing.', 'Grover', 'declines', 'accompany', 'her,', 'deciding', 'whom', \"university's\", 'Nobody', 'make', 'any', 'decisions', 'radically', 'alter', 'life,', 'none', 'professional', 'tends', 'bar', 'university', 'studies.', 'seeds', 'planted', 'Lisa,', 'high-powered', 'investment', 'banker,', 'flowers', 'secret', 'fairy-tale', 'fantasies', 'clash', 'workaholic', 'ways,', 'sometimes,', 'harder', 'conquer', 'all.', 'writer', 'hometown', 'faces', 'nemesis', 'ultimately', 'ruined,', 'bully', 'relive', 'painful', 'past', 'torturing', 'once', 'Year', 'On', 'distant', 'mining', 'planet', 'ravaged', 'decade', 'war,', 'created', 'perfect', 'weapon:', 'self-replicating', 'race', 'devices', 'designed', 'purpose', 'destroy', 'enemy', 'forms.', 'died', 'run,', 'Freddy', 'Gale', 'waited', 'six', 'Booth,', 'responsible,', 'released', 'prison.', 'release,', 'Booth', 'announces', 'week.', 'try', 'peace', 'entourage,', 'romance.', 'Gale,', 'spiraling', 'obsession', 'towards', 'bring', 'edge', 'sanity.', 'At', 'week,', 'men', 'collision', 'gangster', 'boss', 'trial', 'murder,', 'mob', 'thug', '\"the', 'Annie', 'jurors', 'verdict,', \"he'll\", 'Oliver', 'fails.', 'manages', 'this,', 'but,', 'mobsters', 'might', 'silence', 'good,', 'sends', 'abroad', 'gather', 'evidence', 'setting', 'showdown.', 'Several', 'people', 'advantage', \"girl's\", 'innocence', 'hustle', 'gave', 'goldfish', 'with.', 'Tarantino', 'style', 'star-studded', 'cast.', 'Jimmy’s', '“The', 'career', 'finally', 'ended.', 'Yet', 'self', 'favors', 'wise', 'godfather', 'Man', 'II,', 'Antonia', 'daughter,', 'Danielle,', 'Dutch', 'hometown,', \"Antonia's\", 'late', 'bestowed', 'farm', 'upon', 'settles', 'community.', 'Those', 'include', 'Crooked', 'Finger,', 'would-be', 'suitor', 'and,', 'Antonia,', 'granddaughter', 'empowered', 'women.', 'Victorian', 'patriarch', 'Sir', 'Alabaster', 'biologist,', 'Adamson,', 'home.', 'continue', 'work,', 'distracted', 'seductive', 'Eugenia', 'torrid', 'romance,', 'couple', 'closer,', 'begins', 'dark,', 'disturbing', 'things', 'behind', 'closed', 'doors', 'manor.', 'Teenage', 'boys', 'discipline', 'camaraderie', 'ill-fated', 'sailing', 'voyage.', 'Hotel', 'manager', 'Grant', 'postpone', 'vacation', 'hotel', 'critic', 'checks', 'Trouble', 'villainous', 'jewel', 'thief', 'orangutan', 'named', 'loose', 'aided', \"Robert's\", 'sons', 'havoc,', 'hijinks', 'lots', 'laughs', 'dignified', 'Albert', 'runs', 'Governor,', 'slow-witted', 'Mike,', 'eye', 'media.', 'baby-sit', 'campaign', 'assigns', 'sarcastic', 'Steve,', 'experience', 'lifetime', 'Mike', 'election.', 'Gene', 'Watson', 'public', 'accountant', 'train', 'Union', 'Station', 'Angeles,', 'accompanied', '6-year-old', 'Because', 'ordinary', 'looks,', 'approached', 'sinister', 'Smith', 'Jones.', 'housemaid', 'Jekyll', 'darkly', 'counterpart,', 'Hyde.', 'lone', 'survivor', 'vampires,', 'Brooklyn', 'full', 'moon.', 'survival', 'Rita,', 'NYPD', 'half', 'vampire', 'Maximillian', \"whatever's\", 'necessary', 'under', 'spell.', 'snowy', 'winter', 'fictional', 'Ridge,', 'Massachusetts,', 'lifelong', 'hang', 'struggle', 'affect', 'decisions,', 'dreams', 'desires.', 'Vic', 'Deakins', 'deliberately', 'drops', 'radar', 'Air', 'Force', 'ends', 'stolen', 'nuclear', 'warheads', 'Riley', 'Hale,', \"military's\", 'getting', 'back.', 'deserted', 'canyons', 'Utah,', 'Hale', 'park', 'ranger', 'Terry', 'Carmichael', 'box.', 'away', 'concrete', 'environs', 'dead-end', 'Hubert,', 'Said', 'Jew,', 'Arab', 'human', \"France's\", 'immigrant', 'resentment', 'slowly', 'simmering', 'reaches', 'climactic', 'boiling', 'point.', 'La', 'hip,', 'urban', 'barren', 'anonymous', 'city', 'sport', 'exciting', 'cars', 'driven', 'shop', 'windows', 'aid', 'large-scale', 'looting', 'police', 'arrive.', 'Tommy,', 'business,', 'Billy', 'Jo,', 'labour', 'competition', 'Tommy', 'fierce,', 'stakes', 'higher', 'trips', 'increasingly', 'risky.', 'accidental', 'shooting', 'investigation', 'Deputy', 'far-reaching', 'consequences.', 'Upon', 'release', 'hospital', 'following', 'nervous', 'breakdown,', 'directionless', 'Anthony', 'far', 'sane', 'hatched', 'scheme', 'spree', 'somehow', 'legendary', 'Henry.', 'single', 'lonely', 'date,', 'regrets', 'deranged', 'possessive', 'personality', 'emerges', 'worst', 'still,', 'cannot', 'anyone', 'else', 'nature.', 'Ray', 'Liotta', 'stars', 'medical', 'acquitted', \"wife's\", 'many', 'question', 'innocence.', 'Obsessed', 'killer,', 'possible', 'solution', 'presents', 'itself', 'experimental', 'serum', 'transfer', 'memories', 'person', 'another,', 'solve', 'case', 'injects', 'serum,', 'bringing', 'closer', 'Failed', 'whiz', 'Happy', 'Gilmore', 'unconventional', 'approach', 'antics', 'grass', 'courts', 'ire', 'McGavin', 'win', 'tournament', 'house', 'prize', 'money.', 'attractive', 'tour', 'publicist', 'soften', 'image.', 'wanders', 'Francesca', 'telling', \"Flint's\", 'Jim', 'Hawkins,', 'Bones', 'heart', 'attack', 'dies', 'attacked', 'pirates.', 'gang', 'escapes', 'hire', 'boat', 'hidden', 'treasure,', 'revealed', 'died.', 'voyage', 'seas,', 'everyone', 'trusted.', 'slaughter', 'bride', 'love,', 'Scottish', 'Wallace', 'slays', 'platoon', 'English', 'soldiers.', 'village', 'revolt', 'eventually,', 'entire', 'country', 'rise', 'rule.', 'veteran', 'works', 'night-time', 'taxi', 'driver', 'City', 'perceived', 'decadence', 'feeds', 'urge', 'violent', 'action,', 'attempting', 'preadolescent', 'Keong', 'Hong', 'Kong', \"uncle's\", 'wedding.', 'market', 'Bronx', 'offers', 'Uncle', 'honeymoon.', 'stay', 'Bronx,', 'neighbor', 'beats', 'neighborhood', 'thugs', 'cause', 'problems', 'market.', 'stumbles', 'criminal', 'head.', 'parents', 'deal', 'effects', 'murdering', 'girlfriend.', 'Francis,', 'plumbing', 'supply', 'company,', 'harassed', 'tax', 'collectors,', 'striking', 'employees,', 'impossible', 'joy', 'sharing', 'lunch', 'Gerard.', 'Then', 'TV', 'show', 'called', '\"where', 'searching', 'husband', 'disappeared', '28', 'ago.', 'identical', 'twin', 'gone', 'wrong,', 'Young', 'chronicles', \"man's\", 'descent', 'madness', 'absurd', 'backdrop', 'suburban', 'Hugh', 'plays', 'Graham', 'Young,', 'schoolboy', 'London', 'suburbs', 'toxic', 'substances', 'causes', 'dabble', 'Lucy', 'roommates', 'friends.', 'Lucy,', 'dull,', 'convinces', 'Joe,', 'infatuated', 'met,', \"don't\", 'stable', 'romances', 'within', 'month,', 'jump', 'Bridge.', 'misfits', 'Hawaii,', 'introduced', 'attend', 'science', 'fair', 'draw', 'inspiration', 'solar', 'car', 'trip', 'compete', 'Solar', 'Challenge', 'Australia.', 'Marcus', 'advertising', 'executive', 'woos', 'beds', 'will.', 'merger', 'ravishing', 'Jacqueline,', 'treating', 'exactly', 'way.', 'Completely', 'traumatised', 'badly', 'downhill.', 'Every', 'Cop', 'buys', 'expiration', 'date', 'May', '1,', \"He's\", 'got', 'blond', 'oblivious', 'drug', 'dealer.', 'distraught', 'heartbreak', 'breakup.', 'ex', 'spare', 'keys', 'cafe,', 'waitress', 'lets', 'apartment', 'deceptions', 'photographer', 'villages', 'Sicily', 'pretending', 'working', 'studios', 'Rome.', 'Adopted', 'child,', 'Mel', '(Ben', 'Stiller)', 'name', 'birth', 'parents,', 'determines', 'cross-country', 'Accompanied', 'Nancy', '(Patricia', 'Arquette),', 'inept', 'gorgeous', 'adoption', 'agent,', 'Tina', 'departs', 'quickly', 'devolves', 'farce', 'mistaken', 'identities,', 'wrong', 'turns,', 'overzealous', 'love-struck', 'agents', '(Josh', 'restore', 'book', 'acts', 'portal', 'Earth', 'imaginary', 'Fantasia.', 'Someone', 'nasty', 'noise', 'Assistant', 'D.A.', 'charge', 'investigation.', 'Through', 'web', 'blackmail', 'prostitution', 'involving', 'lover', 'prime', 'suspect', 'well', 'Bumbling', 'Navy', 'lieutenant', 'Dodge', 'chance', 'clean', 'record.', 'Graham,', 'nemesis,', 'submarine', 'barely', 'afloat.', 'add', 'insult', 'injury,', 'flagship', 'upcoming', 'war', '…', 'matters', 'worse,', 'band', 'incompetent', 'is!', 'Tally', 'dream:', 'network', 'dream', 'ambition,', 'raw', 'talent', 'homemade', 'demo', 'tape.', 'Warren', 'Justice', 'brilliant,', 'hard', 'newsman.', 'sees', 'mentor.', 'meteoric', 'romance', 'results', 'intense', 'revealing', 'itself.', 'Yet,', 'breaking', 'story,', 'every', 'crisis', 'together,', 'threatens', 'drive', 'gay', 'cabaret', 'owner', 'drag', 'queen', 'companion', 'agree', 'false', 'front', 'introduce', \"fiancé's\", 'right-wing', 'parents.', 'Deals', 'Irish', 'Catholic', 'brothers', 'Long', 'Island,', 'York,', 'months,', 'grapple', 'basic', 'ideas', 'values', '—', 'sex,', 'marriage,', 'religion', '1990s.', 'written,', 'produced', 'starring', 'Edward', 'Burns.', 'Burnett', 'hen-pecked', 'man.', 'Lowry', 'fancy', 'free', \"ladies'\", 'policemen,', '72', 'hours', 'reclaim', 'consignment', \"station's\", 'nose.', 'complicate', 'matters,', 'assistance', 'sole', 'pretend', 'Far', 'lush', 'bamboo', 'forests', 'China,', 'ten-year-old', 'Ryan', 'Tyler,', 'girl,', 'wonderful', 'baby', 'panda', 'poachers.', 'Film', 'street', \"Carroll's\", 'kaleidoscopic', 'harrowing', 'addiction.', 'Big', 'Adventure', '1995', 'theatre', 'Liverpool,', '1947', '1989', 'wakes', 'alley,', 'bleeding', 'is.', 'coffee', 'befriended', 'charitable', 'failing', 'write', 'technical', 'Apollo', '13', 'lunar', '1971,', 'risking', 'astronaut', 'Lovell', 'crew,', 'failed', 'turning', 'thrilling', 'saga', 'heroism.', 'Drifting', '200,000', 'miles', 'astronauts', 'furiously', 'ground', 'avert', 'tragedy.', 'highlands', 'Scotland', 'Rob', 'Roy', 'lead', 'future,', 'borrowing', 'nobility', 'cattle', 'herd', 'stolen,', 'Hood', 'defend', 'honour.', 'vampiric', 'doctoral', 'follow', 'philosophy', 'nocturnal', 'comrade', 'thirst', 'Dark', 'Knight', 'Gotham', 'confronts', 'dastardly', 'Two-Face', 'Riddler.', 'Formerly', 'District', 'Attorney', 'Harvey', 'Dent,', 'believes', 'Batman', 'caused', 'courtroom', 'accident', 'left', 'disfigured', 'side.', 'employee', 'millionaire', 'Bruce', 'Wayne,', 'circus', 'acrobat', 'Dick', 'killed', \"Wayne's\", 'ward', \"Batman's\", 'partner', 'Robin.', 'Beautiful', 'Séverine', 'masochistic', 'everyday', 'alongside', 'dutiful', 'Pierre.', 'lovestruck', 'Henri', 'mentions', 'secretive', 'high-class', 'brothel', 'Madame', 'Anais,', 'there', 'Belle', 'de', 'clients', 'possessive,', 'normal', 'Patricia', 'Arquette', 'widow', 'Laura', 'Bowman,', 'doctor', 'drawn', 'turmoil', 'vacationing', 'Burma', '1980s,', 'fictionalized', 'actual', 'events.', 'Bowman', 'initially', 'Francisco', 'attempt', \"son's\", 'deaths.', 'fight', 'Thailand', 'prove', 'Auggie', 'tobacco', 'Brooklyn,', 'York.', 'whole', 'cigarettes', 'talk.', 'Lou', 'Reed', 'explain', 'why', 'cut', 'health', 'insurance', 'bill', 'keeps', 'Madonna', 'Canadian', 'Bacon', 'fictitious', 'Director', 'Michael', 'public’s', 'opinion', 'election', 'actor', 'film.', 'Furious', 'willed', 'mansion', 'rather', 'millions,', 'burn', 'discovers', 'map', 'house.', 'enters', 'seek', 'claim,', 'frightened', 'wicked', 'wave', 'ghosts.', 'Determined', 'fortune,', 'hires', 'afterlife', 'therapist', 'exorcise', 'ghosts', 'mansion.', 'Kat', 'in,', 'ghost', 'friendliest', 'you', \"Casper's\", 'Strike', 'pusher', 'tutelage', 'Rodney', 'fast-food', 'bullets', 'body,', 'killer.', 'Rocco', 'Klein', 'however,', 'truth,', 'fingers', 'point', 'toward', '&amp;', 'Eight', 'embark', 'expedition', 'Congo,', 'expanse', 'unexplored', 'greed', 'laws', 'nature', 'berserk.', 'thrill-seekers', 'ulterior', 'motives', 'stumble', 'apes.', 'US', 'missile', 'sub,', 'officer', 'stages', 'trigger', 'happy', 'launching', 'missiles', 'orders', 'so.', 'times', 'R.', 'Crumb', 'drew', 'Keep', 'Fritz', 'Cat,', 'played', 'major', 'pioneering', 'role', 'genesis', 'interviews', 'mother,', 'brothers,', 'ex-girlfriends,', 'vast', 'quantity', 'graphic', 'art,', 'we', 'treated', 'comic', 'ride', 'subconscious', 'mind.', 'gunslinger', 'embroiled', 'runner.', '1940s', 'Easy', 'unemployed', 'black', 'prospects.', 'bar,', 'DeWitt', 'white', 'investigate', 'disappearance', 'Daphne', 'Monet,', 'hiding', \"city's\", 'jazz', 'clubs.', 'facing', 'payments,', 'McClane', 'kicking', 'butt', 'third', 'installment', 'action-packed', 'series,', 'teaming', 'Zeus', 'Carver', 'loss', \"he'd\", 'seen', 'all,', 'Simon', 'engages', 'McClane,', 'beloved', 'concentration.', 'Jordan', 'White', 'Amy', 'Blue,', 'teens,', 'pick', 'adolescent', 'drifter,', 'Xavier', 'Red.', 'Together,', 'threesome', 'sex', 'violence-filled', 'America', 'psychos', 'timeless', 'Arthur', 'legend', 'Camelot', 'retold', 'period', 'drama.', 'reluctant', 'hand', 'Lancelot,', 'Guinevere', 'torn', 'loyalty', 'growing', 'rival.', 'Lancelot', 'balance', 'throne', 'rewards', 'Jesse', 'reunited', 'Willy', 'teenager', 'whale', 'orcas', 'oil', 'Along', 'Secret', 'Service', 'banned', 'using', 'nefarious', 'hacker,', 'use', 'skills', 'pursued', 'virus.', 'too', 'decided', 'immediately', 'whether', 'worth', 'danger', 'boyfriend', 'dying.', 'data', 'courier,', 'literally', 'package', 'deliver', 'burden', 'Yakuza.', '', 'dystopian', 'Johnny', '(Keanu', 'Reeves)', 'trafficker', 'implant', 'store', 'sensitive', 'regular', 'delivery', 'accepts', 'exceeds', 'safety', 'limits', '-', 'removed', 'contains', 'information', 'important', 'had', 'avoid', 'assassins', 'remove', 'it,', 'too,', 'Dredd,', 'judge', '(a', 'instant', 'field', 'judiciary', 'convicted', 'commit', 'counterpart', 'escapes.', 'jobless', 'Collins', 'sequestered', 'earn', 'assigned', 'jury', 'trial.', 'Once', 'there,', 'prolong', 'comfortable', 'controversial', 'exposes', 'deeply', 'substance', 'abuse.', 'focuses', 'sexually', 'goal', 'girls', 'can.', 'Jenny,', 'girl', 'once,', 'tests', 'HIV,', 'contracted', 'disease', 'Jenny', 'idea', 'virgins,', 'continuing', 'unsuspecting', 'girls,', 'makes', 'filmmaking.', 'movie.', 'Ultimate', 'tribute', 'filmmakers.', 'routine', 'L.A.,', 'NY', 'private', 'investigator', 'fanatic', 'cult', 'preparing', 'resurrection', 'magician', 'earlier.', 'Matt', 'Casey,', \"She's\", 'fun-loving', 'eccentric,', \"there's\", 'darkness', 'Casey', 'suicide,', 'institution.', 'springs', 'lovers', 'trip.', 'believe', '\"cure\"', \"Casey's\", 'problems.', 'starts', 'wonder,', 'misguided.', 'dumped', 'girlfriends,', 'refuge', 'mall.', 'Power', 'out-maneuver', 'defeat', 'everywhere', 'Mighty', 'Ranger,', 'Rangers', 'met', 'match,', 'galaxy', 'seen.', 'mute,', \"hasn't\", 'kept', 'becoming', 'makeup', 'artist.', 'While', 'Russia,', 'directed', 'Andy,', 'studio', 'horrified', 'see', 'snuff', 'made.', 'sister,', 'Kate,', 'alerts', 'authorities', 'so,', 'Russian', 'mafia,', 'funded', 'contemporary', 'City.', 'Members', 'dysfunctional', 'vampires', 'come', 'terms', 'other,', 'wake', \"father's\", 'hunted', 'Helsing', 'hapless', 'nephew.', 'good', 'movies,', 'forces', 'pitted', 'destruction.', 'Angela', 'Bennett', 'freelance', 'software', 'engineer', 'technology.', 'cyber', 'asks', 'inadvertently', 'conspiracy', 'turn', 'upside', 'down.', 'Mexico,', 'purse', 'stolen.', 'events', 'seem', 'assassination.', 'ruined.', 'passport', 'Embassy', 'name,', 'Ruth', 'sort', 'Marx', 'unsavory', 'lengthy', 'another', 'assumed', 'real', 'identity', 'longtime', 'pregnant,', 'much,', 'worse.', 'Mary', 'income,', 'nights', 'throwing', 'illegal', 'rave,', 'aunt', 'bail', 'library', 'repay', 'Initially,', 'clerk', 'boring', 'prefers', 'food', 'vendor', 'likes.', 'refocus', 'loses', 'apartment.', 'angel', 'Gabriel', 'soul', 'Heaven,', 'priest', 'Carol,', 'typical', 'upper', 'middle-class', 'housewife,', 'complain', 'vague', 'symptoms', 'illness.', '\"doesn\\'t', 'feel', 'unexplained', 'headaches,', 'dry', 'trouble', 'breathing.', 'treats', 'concerns', 'suggests', 'psychiatrist.', 'Environmental', 'Set', 'Boston', 'mid', '1600s,', 'seamstress', 'Hester', 'respected', 'refuses', 'divulge', 'father,', 'adultery', 'wear', 'scarlet', 'unites', 'Puritans', 'morals.', 'drifter', 'Nomi', 'dancer', 'pushing', 'Writer', 'Paul', 'Benjamin', 'bus', 'shop.', 'Stranger', 'Rashid', 'middle-aged', 'homeless', \"wouldn't\", 'mind', 'short-term', 'Still', 'moved', \"Rashid's\", 'reconnect', 'discovery', 'birth.', 'roles,', 'Julia', 'Roberts', 'Grace,', 'reaction', 'infidelities', 'Eddie', '(Dennis', 'Quaid)', 'loves', 'falling', 'Duvall,', 'Gena', 'Kyra', 'Sedgwick', 'others', \"year's\", 'ensemble', '(Jack', 'Matthews,', 'co-star', 'truthful', 'written', 'Callie', '1993,', 'Search', 'Intelligence', 'Project', 'transmission', 'detailing', 'alien', 'DNA', 'structure,', 'instructions', 'DNA.', 'sensual', 'creature', 'beautiful', 'machine', 'blink', 'eye.', '1999', 'millennium,', 'ex-cop', 'deals', 'containing', 'recorded', 'emotions.', 'disc', 'murderer', 'prostitute.', 'investigates', 'pulled', 'deeper', 'whirl', 'blackmail,', 'rape.', 'case?', 'simple', 'tragedy', '1957.', 'Guy', '20-year-old', 'French', 'auto', 'mechanic,', 'fallen', 'Geneviève', \"mother's\", 'chic', 'embattled', 'umbrella', 'evening', 'leave', 'two-year', 'combat', 'Algeria,', \"Guy's\", 'accepting', 'offer', 'marriage', 'diamond', 'merchant.', 'Holman', 'driving', 'sons,', 'accidentally', 'Jack', 'McCloud', 'breaks', 'leg.', 'Being', 'Jack,', 'dog,', 'leg', 'healed.', 'adapt', 'lifestyle,', 'loved', 'baseball', 'Tom,', 'misses', 'Korean', 'bond', 'friendship.', 'Betty', 'We', 'learn', 'McCloud,', 'Star', 'player', '1941,', 'dropped', 'league,', 'season,', 'heard', 'again\"', 'story.', 'magic', 'imagination,', \"Jack's\", 'sure', 'witnessing', 'imagination', 'dog.', 'friendship,', \"isn't\", 'always', 'often', 'believe.', 'poet', 'Rimbaud', 'mentor', 'engage', 'forbidden', 'feeling', 'hellish', 'artistic', 'Three', 'pageant', 'stranded', 'Midwestern', 'weekend', 'parts', 'Cadillac', 'flamboyant', 'trio', 'homophobic', 'rednecks', 'appearing', 'mean', 'humanity', 'common.', 'passenger', 'hijacked', 'electronics', 'expert', 'turned', 'untraceable', 'command', 'center', 'satellite.', 'planned', 'blow', 'DC', 'him,', 'SEAL', 'vet', 'unwed', 'persuades', 'encounter', 'pose', 'futuristic', 'polar', 'ice', 'caps', 'liquid', 'planet,', 'barmaid', 'rescues', 'mutant', 'floating', 'escape,', 'charge,', 'sail', 'aboard', 'ship.', 'menacing', 'tattooed', 'alternative', 'blacks', 'elite,', 'whites', 'inhabitants', 'ghettos.', 'Louis', 'Pinnock', 'chocolate', 'factory,', 'loving', 'children.', 'CEO', 'Thaddeus', 'Thomas,', 'result,', 'beaten', 'cops', 'evicted', 'Desperate', 'justice.', 'Biopic', 'Wild', 'Bill', 'early', 'lawman', 'culminates', 'relocation', 'reunion', 'Calamity', 'Jane.', 'embittered', 'disliked', 'Latin', 'prep', '20', 'service,', 'retire', 'pretext', 'health,', 'pension.', 'regard', 'Hitler,', 'unfaithful,', 'wound', 'regain', 'least', 'self-respect.', 'courier', 'realises', 'used', 'criminals', 'police,', 'poses', 'Scout', 'scout', 'hike', 'mountains.', 'revolutionary', 'hero', 'Colonel', 'Kotov', 'idyllic', 'six-year-old', 'Nadia', 'assorted', 'Things', 'dramatically', 'unheralded', 'Cousin', 'Dmitri', 'Moscow,', \"Stalin's\", 'repression,', 'telephone', 'middle', 'spelling', 'doom', 'paying', 'call...', 'violence', 'circles', 'Macedonia,', 'Bosnia,', 'Christians', 'ethnic', 'monk', 'vow', 'protection.', 'London,', 'photographic', 'editor', 'needs', 'estranged', 'chooses', 'restaurant.', 'dialogue', 'marathon', 'film,', 'fairytale', 'girl.', 'Vienna', 'hearts', 'collide.', 'Madison', '27', 'year-old', 'Bryan', 'Madison,', 'industry.', 'stands', 'inherit', 'empire', 'grades,', '2', 'weeks', 'per', 'grade,', 'business.', 'Jennifer', '(Alicia', 'Silverstone)', 'lovely', 'teen', 'Tucker', 'Dolly', '(Lee', 'party', 'proceed', 'fantasizing', 'sitter.', '(Jeremy', 'Mark', 'guy', 'spy', 'house,', 'fixated', 'girlfriend,', 'nightclub', 'singer,', 'Jane,', 'answers', 'ad', 'Robin,', 'agent', 'AIDS,', 'seeking', 'travel', 'partner.', 'Pittsburgh', \"Robin's\", 'Holly,', 'abusive', 'relationship.', 'distinct', 'personalities,', 'differences', 'Dexter,', '11,', 'Eric,', 'bigger,', 'Eric', \"Dexter's\", 'own,', 'neglectful', 'bigoted', 'violently', 'forbids', 'Dexter', 'Erik', 'start', '\"The', 'read', 'newspaper.', 'inherited', 'castle', 'blind', 'Rebecca.', 'What', 'somebody', 'castle.', 'abused', 'child', 'die', 'basement', 'freak', 'wreak', 'havoc.', 'Of', \"1950's\", 'Ireland.', 'Benny', 'Hogan', 'Eve', 'centers', 'enter', 'University', 'College,', 'Dublin.', 'Here', 'reunite', 'Nan', 'handsome', 'charming', 'Foley,', 'for.', 'clerks', 'Dante', 'Randal', 'bored', 'minds.', 'So', 'customers,', 'counter', 'jockeys', 'roof,', 'Arnold', 'DeMarco', 'Don', 'Juan,', 'cape', 'mask,', 'undergoes', 'psychiatric', 'treatment', 'cure', 'apparent', 'sessions', 'unexpected', 'effect', 'staff', 'Dr', 'rekindles', 'marriage.', 'specialist', 'sued', 'harassment', 'initiated', 'skydiving', 'crooks', 'led', 'Ty', 'landing', 'nerd', 'undercover', 'files', 'Federal', 'Marshal', 'Pete', '(Snipes)', 'instructor', 'Jessie', '(Butler)', 'track', 'activist', 'guest', 'government.', 'Dolores', 'twenty', 'ago,', 'findings', 'were', 'inconclusive', 'allowed', 'free.', 'Now', 'employer,', 'Vera', 'Donovan,', 'scene', 'crime.', 'Manhattan', 'magazine', 'writer,', 'cover', 'Lloyd', 'stupidity', 'Mary,', 'woman,', 'suitcase', 'where,', \"Mary's\", 'heart.', 'Chinese', 'chef', 'Chu', 'Hung', 'modern', 'Taipei,', 'Taiwan.', 'daughters,', 'progresses,', 'encounters', 'these', 'relationships', 'blossom,', 'stereotypes', 'broken', 'features', 'scenes', 'displaying', 'techniques', 'artistry', 'gourmet', 'cooking.', 'Since', 'difficulty', 'expressing', 'intricate', 'preparation', 'banquet', 'quality', 'dishes', 'Sunday', 'dinners', 'surrogate', 'familial', 'feelings.', 'upscale', 'Toronto', 'club', 'Christina', 'visited', 'nightly', 'obsessive', 'ex-boyfriend,', \"club's\", 'jealously', 'pines', 'introduces', 'Zoe.', 'Meanwhile', 'Gradually,', 'connections', 'traumatic', 'pasts', 'characters', 'revealed.', 'Elliot', 'going', 'Eden', 'submissive', 'fantasies,', 'photographs', 'smugglers', 'work.', 'detectives,', 'island,', 'Lisa', 'evaluate', 'motivations.', 'mostly', '\"worst', 'who,', 'strange', 'filmed', 'countless', 'B-movies', 'successful.', 'Kiss', 'since', 'woman’s', 'fly', 'Paris', 'unknowingly', 'smuggles', 'value', 'chasing', 'France', 'chases', 'Mickey', 'Gordon', 'basketball', 'referee', 'bury', 'father.', 'Andrews', 'airline', 'flies', 'on.', 'told', 'flashback', 'Teenager', 'Angus', 'adopts', 'stray', 'names', 'travelling', 'Columbia', \"Angus's\", 'John,', 'turbulent', 'waters', 'boat.', 'relentlessly', 'badger', 'schooled', 'wilderness', 'skills,', 'assisted', 'intelligent', 'Yellow', 'Dog,', 'attract', 'Though', 'Goofy', 'well,', 'amiable', 'regularly', 'embarrass', 'awkward', 'son,', 'lighthearted', 'prank', 'high-school', 'principal', 'crush,', 'Roxanne,', 'notice', 'date.', 'need', 'took', 'dad', 'age,', 'throws', 'impress', 'Roxanne.', 'Hatch', 'Harrison,', 'Lindsey,', 'Regina,', 'enjoying', 'pleasant', 'crash', 'unharmed', 'kills', 'ingenious', 'doctor,', 'Jonas', 'revive', 'lifeless', 'hours.', 'suffer', 'horrible', 'visions', 'sights', 'Workaholic', 'Thomas', 'was,', 'accident.', 'But,', 'by,', 'remembers', \"wasn't\", 'such', '1994', 'biopic', 'opera', 'considered', 'singers', 'documentary', 'Chicago', 'residents,', 'Gates,', 'Beginning', 'years,', 'ending', '5', 'college,', 'watch', 'mature', 'Based', 'Juliet', 'Pauline', 'Parker,', 'share', 'fantasy', 'literature,', 'conspire', \"Pauline's\", \"girls'\", 'water', 'unpaid', 'debt,', 'affluent', 'Pennsylvania', 'suburb.', 'Ludwig', 'Beethoven.', 'Beside', 'for,', 'composer', 'wrote', 'letter', 'nameless', 'was.', 'easy', 'Beethoven', 'Camp', 'Hope', 'retreat', 'overweight', 'kindly', 'campers', 'extra', 'tyrannical', 'fitness', 'guru', 'Tony', 'camp,', 'puts', 'regimen', 'far.', 'Sick', 'endless', '\"all', 'stage', 'coup', 'fun.', 'businessman', 'Tokyo', 'centuries', 'Ninja', 'Samurai', 'assassination', 'performed', 'leader.', 'Einstein', 'helps', \"Einstein's\", 'niece', 'catch', 'attention', 'temporarily', 'physicist.', 'relates', 'betrayal,', 'loneliness,', 'hunger', 'reporter.', 'fertility', 'research', 'male', 'agrees', 'carry', 'pregnancy', 'body.', 'Bobby', 'Earl', 'electric', 'chair', 'Armstrong,', 'professor', 'law,', 'Armstrong', 'uncovers', 'overlooked', 'present', 'Southern', 'Calvin', 'Fuller', 'magically', 'transported', 'medieval', 'kingdom', 'crack', 'earthquake.', 'summoned', 'wizard', 'Merlin,', 'Camelot.', 'Using', 'dazzling', 'inventions,', 'retain', 'thwart', 'Lord', 'Jimmy', 'ex-con', 'borough', 'Queens,', 'raising', 'Ronnie', 'transport', 'cars,', 'Hart', 'injured', 'asked', 'Little', 'Junior', 'Brown.', 'remarries', 'renew', 'child.', 'Detective', 'infiltrate', 'operations.', 'federal', 'watching,', 'unscrupulous', 'district', 'attorney', 'further', 'Leia', 'captured', 'hostage', 'Imperial', 'galactic', 'Empire.', 'Luke', 'Skywalker', 'dashing', 'Han', 'Solo', 'loveable', 'robot', 'R2-D2', 'C-3PO', 'princess', 'Civil', 'War,', 'Meg,', 'Beth', 'grow', 'reduced', 'circumstances.', 'inevitably', 'squabbles', 'tragedies.', 'holds', 'when,', 'household.', 'WWI,', 'Sara', 'Crewe', 'boarding', 'attended.', 'clashes', 'severe', 'headmistress,', 'Miss', \"Sara's\", 'creativity', 'sense', 'self-', 'worth.', 'Ken', 'Loach', 'docu-drama', \"woman's\", 'Social', 'Services', 'Maggie', 'bouncing', 'fathers,', 'came', 'fire.', 'Subsequently,', 'care.', 'Paraguayan', 'together.', 'unwilling', 'changed', 'Jorge', 'separately,', 'Services,', 'bureaucrats', 'Paul,', 'irritable', 'manager,', 'gradually', 'paranoid', 'delusions', 'Tita', 'passionately', 'Pedro,', 'controlling', 'marrying', 'marries', 'emotions', 'infecting', 'eat', 'heartbreak.', 'remote', '1900s', 'USA', 'affected', 'nature,', 'history,', 'Major', 'Benson', 'Payne', 'discharged', 'Marines.', 'machine,', 'wars', 'longer', 'fought', 'battlefield.', 'Marine,', 'civilian,', 'commander', 'commanding', 'program,', 'ragtag', 'hope.', 'hit-man', 'Brooklyn.', 'Ex-football', 'star', 'McKay', 'flight', 'Sydney,', 'land', 'atoll.', 'ship', 'larger', 'island.', 'months', 'later', 'real.', \"doesn't.\", 'meeting', 'Khaila', 'panic', 'missing.', 'reality,', 'adopted', 'warm-hearted', 'worker,', 'Margaret', 'husband,', 'Charles.', 'rehab', 'steady', 'job.', 'alive,', 'challenges', 'custody.', 'Nicholas', 'awarded', 'drama,', \"Bennett's\", 'West', 'End', 'play.', 'erratic', 'behaviour', 'Parliament', 'declared', 'throne.', \"Shelley's\", 'novel,', '\"Frankenstein\"', 'Victor', 'Frankenstein,', 'promising', 'devastated', 'childbirth,', 'dead', 'experiments', 'creation', 'monster,', 'Frankenstein', 'corpses.', 'long', 'actions.', 'Archer', 'happy.', 'Sandy,', 'man,', 'pretty', 'serious.', 'Driven', 'fear', 'abandonment,', 'ruin', '\"love', 'surrounds', 'mom.', 'closer.', 'focus', 'Christmas', 'holidays.', 'pool', 'prostitute,', 'Afterward,', 'drives', 'V', 'hide.', 'lot', 'unaware', 'profession.', 'doubts', \"childhood's\", 'enduring', 'miracle', 'Santa', 'Claus.', 'department', 'thing,', 'precious', 'gift', \"family's\", 'trials,', 'tribulations,', 'triumphs.', 'Maria', 'Jose,', 'generation,', 'meet,', 'marry,', 'deportation', \"1930's.\", 'establish', 'East', 'Paco,', 'Irene,', 'Toni,', 'youth', 'culture', 'generation', 'adults', 'shifts', 'Jimmy,', 'Isabel', \"Jimmy's\", 'Inspired', 'Alcatraz', 'caught', 'escape.', 'punishment', 'solitary', 'confinement.', 'maximum', 'supposed', '19', 'days,', 'spends', 'alone,', 'darkness,', 'emerge', 'madman', 'murderer.', 'rookie', 'blame.', 'Sully', 'rascally', \"ne'er-do-well\", 'approaching', 'retirement', 'age.', 'pressing', \"worker's\", 'compensation', 'suit', 'secretly', 'Carl,', 'flirts', \"Carl's\", 'Toby.', \"Sully's\", 'forgotten', 'unfamiliar', 'responsibilities.', \"landlady's\", 'banker', 'development', 'evict', 'woodland', 'cabin,', 'Nell', 'hermit', 'secrets.', 'victims', 'traumatized', 'childhoods', 'murderers', 'mass', 'incident', 'Faith', 'settle', 'foot', 'impulsively', 'Venice', 'dreams.', 'Instead,', 'intended', 'else?', 'Maori', 'Zealand.', 'Lee', 'unemployment', 'abuse', 'naive', 'art', 'assuming', 'coed', 'complications', 'professor,', 'lusting', 'airborne', 'rate.', 'Col', 'Sam', 'spreading', 'House.', 'Leon,', 'earned', 'rep', 'effective', 'loose-cannon', 'DEA', '12-year-old', 'Before', 'long,', 'thoughts', 'revenge,', 'considers', \"Leon's\", 'footsteps.', 'philosophical', 'drug-addled', \"gangster's\", 'moll', 'washed-up', 'boxer', 'converge', 'sprawling,', 'comedic', 'caper.', 'Their', 'stories', 'ingeniously', 'forth', 'Father', 'Greg', 'call', 'conservative', 'homosexual', 'lover,', 'Church.', 'hearing', 'confession', 'incestuous', 'intensely', 'emotional', 'spiritual', 'choosing', 'morals', 'Show', 'historical', 'Twenty', 'quiz', '1950s.', 'August', '24,', 'Massacre', 'St.', 'religious', 'raging.', 'impose', 'Margot', 'immature', 'Catherine', 'Medici', 'maintains', 'behind-the-scenes', 'ordering', 'assaults,', 'incest.', 'quick-draw', 'elimination', 'gunman.', 'Fashion', 'draws', 'usual', 'people;', 'reporters,', 'models,', 'Follows', 'storylines', 'characters,', 'centering', 'fashion', 'figure.', 'Features', 'Red', 'trilogy', 'meaning', 'coincidentally', 'linked', 'packed', 'Polish', 'Karol', 'Dominique,', 'divorces', 'Forced', 'jointly', 'expatriate', 'smuggle', 'homeland.', 'office', 'original', 'idea:', 'babies', 'nearby', 'orphanage', 'families.', 'rents', 'Ward', 'Odette', 'transformed', 'swan', \"sorcerer's\", 'captive', 'lake,', 'frog,', 'Speed', 'turtle', 'bird.', 'Despite', 'safe,', 'good-natured', 'creatures', 'spell,', 'everlasting', '10-year-old', 'Fiona', 'grandparents', 'ancestor', 'hers', 'seal', 'human.', 'earlier,', 'washed', 'again,', 'spies', 'naked', 'abandoned', 'Isle', 'Roan', 'compelled', 'Munro', 'explosives', \"parent's\", 'killers.', 'Ned', 'Trent,', 'ex-partner', \"Quick's\", 'potential', 'victims,', 'cat', 'mouse', 'ensues.', 'interstellar', 'teleportation', 'device,', 'Egypt,', 'humans', 'resembling', 'Egyptians', 'worship', 'god', 'Scott', 'Claus', 'roof', 'knocked', 'unconscious.', \"Santa's\", 'North', 'Pole,', 'indeed,', 'Christmas.', 'Framed', 'double', 'upstanding', 'Andy', 'Dufresne', 'Shawshank', 'prison,', 'accounting', 'amoral', 'warden.', 'stretch', 'admired', 'inmates', 'including', 'integrity', 'unquenchable', 'flatmate', 'loaded', 'cash.', 'Havana,', 'Cuba,', '1979.', 'Flamboyantly', 'artist', 'Diego', 'seduce', 'strait-laced', 'David,', 'idealistic', 'communist,', 'David', 'conspires', 'monitor', \"artist's\", 'subversive', 'state.', 'discuss', 'politics,', 'individuality', 'expression', \"Castro's\", 'genuine', 'two.', 'last?', 'Chocolate', 'became', 'released,', 'classic', 'Cuban', 'cinema', 'authentic', 'exploration', 'connection', 'young,', 'tables', 'incredibly', 'boss.', 'Aussie', 'bond.', 'Harry,', 'caring', 'open-minded', 'borders', 'annoyance.', 'Jeff', 'unsuccessfully', 'searches', 'unwanted', 'guidance', 'detention,', 'slackers', 'explaining', 'education', 'system.', 'problem,', 'it!', 'Man.', 'endure', 'tumultuous', 'China', 'fortunes', 'our', 'fights', 'controls', 'supply.', 'demon', 'Captain', 'Jean-Luc', 'Picard', 'odds', 'destroying', 'systems.', 'Only', 'years.', 'African', 'dealers', 'traps', 'unknown', 'pregnant.', 'Nine', 'born,', 'normal,', 'Party', 'Callahan', 'cans', 'short', 'Hayden', 'day.', 'uninterrupted', '\"Uncle', 'actors.', 'theater', 'crumbling', 'ceiling.', 'shown', 'props', 'lack', 'costumes,', 'scenery', 'forgotten.', 'Chambers', 'Austin,', 'starting', 'forget.', 'Rachel,', 'betrayed', 'passion', 'gambling.', 'could,', 'price', 'Rachel', 'this.', 'devises', \"Tommy's\", 'control,', 'entangled', 'intrigue,', 'desire', 'unscathed.', 'Gilbert', 'Arnie', 'obese', 'walks', 'Law', 'Enforcement', 'Centre', 'developed', 'Intelligent,', 'Dangerous', 'virtual', 'reality', 'entity', 'personalities', '150', 'killers,', 'built', 'pulls', 'commuter', 'tracks', 'coma,', \"Peter's\", 'fiancée,', 'correct', 'claims', 'Veteran', \"dad's\", 'post-traumatic', 'stress', 'disorder', 'south', \"1970's.\", 'Wedding', 'P.J.', 'debut.', 'humorous', 'evolves', 'dreamer', 'sustaining', 'woman.', 'amusing', 'that’s', 'funny,', 'silly,', 'angry', 'seven', 'before.', 'Carrey', 'mascot', 'quarterback', 'Dan', 'eyeball', 'man-eating', 'shark,', 'ladies.', 'Whether', 'undercover,', 'underwater,', '.', 'transsexual', 'perform', 'resort', 'Alice', 'Springs,', 'Australian', 'desert.', 'west', 'bus,', 'En', 'route,', 'discovered', \"they've\", 'queens.', 'down,', 'repaired', 'Bob,', 'Chronicles', 'Beatles', 'Hamburg,', 'Germany.', 'primarily', 'Stuart', '(played', 'Stephen', 'Dorff)', 'Lennon', 'Ian', 'Hart),', 'German', 'Astrid', 'paralyzed', 'wheelchair,', 'stranger', 'tell', 'thing', 'fascinated', 'mesmerized', 'perfected', 'trick', 'boldly', 'until,', 'away,', 'supremacy.', \"1920's\", 'City,', 'playwright', 'Producer', 'Julian', 'funding', 'Nick', \"Nick's\", 'Olive', 'Neal', 'psychiatrist,', 'bimbo', 'dreadful', 'actress.', 'Agreeing', 'compromise', 'step', \"Broadway's\", 'seduction', 'neglects', 'Ellen.', 'Warner', 'Purcell,', 'compulsive', 'Sinclair,', 'grand', 'dame', 'up,', \"Olive's\", 'interfering', 'hitman', '/', 'bodyguard.', 'important.', 'CIA', 'Analyst', 'Colombian', 'cartel.', 'street-wise', 'kid,', 'suicide', 'Jerome', 'Clifford,', 'Louisiana', 'lawyer,', 'current', 'client', 'Barry', \"'The\", 'Mafia', 'shoots', 'himself,', 'body', 'Senator', 'buried.', 'Clifford', 'scene,', 'FBI', 'probably', 'Manny', 'Molly', 'mute', 'withdrawn.', 'cope', 'Molly,', 'sassy', 'housekeeper', 'Washington,', 'shell', 'delights', 'townspeople.', 'From', 'Spike', 'vibrant', 'semi-autobiographical', 'portrait', 'stubborn', 'five', \"'70s\", 'Exactly', 'rock', 'guitarist', 'Draven', 'fiancée', 'brutally', 'ruthless', 'criminals,', 'watched', 'hypnotic', 'crow', 'grave', 'exact', 'revenge.', 'Al', 'sports-writer', 'chosen', 'Cobb', 'official,', 'authorized', 'Cobb,', 'widely', 'feared', 'feels', 'misunderstood', 'record', \"'the\", 'words.', 'Modern', 'Stone', 'Age', 'Flintstones', 'screen', 'live-action', 'Fred', 'Barney', 'opportunity', 'Mining', 'employees', 'executive.', 'deed', 'unpunished.', 'low', 'IQ', 'accomplished', 'significant', 'case,', 'imagined', 'despite', 'attained,', 'eludes', 'rose', 'above', 'challenges,', 'proved', 'determination,', 'courage,', 'ability.', 'Four', 'Funeral', 'Woman', 'Carrie', 'numerous', 'weddings', 'determine', 'Malik', '(Omar', 'Epps)', 'African-American', 'attending', 'academics', 'suit,', 'thinking', 'athletic', 'abilities', 'college.', '(Ice', 'Columbus', 'far,', 'views', 'politics', 'America.', 'Rival', 'reporters', 'Sabrina', 'Peterson', 'join', 'uncover', 'wreck', 'bite', 'chew', 'pursuing', 'bickering', 'gifted', 'reporter', 'willing', 'whatever', 'truth', 'accident,', 'conflict,', 'partnership,', 'fading', 'newsman', 'paper.', 'women,', 'cigars,', 'published', 'novel.', 'pursuit', 'virtually', 'subjects', 'exposure', 'scouts', 'catches', 'skinny', 'Charlie', 'Lang', 'simple,', 'cop.', 'tip', 'Yvonne', 'Biasi,', 'winnings', 'lottery', 'ticket.', 'happens', 'winner,', 'sum', '$4', 'million.', 'True', 'word,', 'proceeds', 'infuriates', 'greedy', 'Muriel.', 'content', 'arrangement,', 'Muriel', 'scheming', 'Raised', 'animals', 'childhood,', 'Mowgli', 'jungle', 'Kitty.', 'corrupt', \"Kitty's\", 'treasures', 'Monkey', 'find.', 'lion', 'cub', 'Simba', 'wait', 'king.', 'craves', 'title', 'Keanu', 'Reeves', 'Bridget', 'Fonda', 'Bernardo', \"Freddy's\", 'badder', 'ever!', 'Nancy,', 'satanic', 'fingers,', 'monstrous', 'persona.', 'Can', 'threat', 'son?', 'timid', 'Ipkiss', 'mask', 'spirit', 'Norse', 'Loki,', 'changes.', 'wearing', 'playboy', 'exuding', 'charm', 'confidence', 'influence,', 'robs', 'bank,', 'angers', 'junior', 'lord', 'Dorian', 'goons', 'blamed', 'heist.', 'Maverick', 'gambler', 'additional', 'thousand', 'Winner', 'Take', 'All', 'poker', 'days.', 'some,', 'debts,', 'loot', 'reward.', 'marvelous', 'southern', 'accent', 'Dorothy', 'Parker', 'heyday', 'Algonquin', 'Round', 'Table,', 'circle', 'barbed', 'wit,', 'hers,', 'fueled', 'alcohol', 'flirted', 'despair.', 'Drebin', 'state', 'terrorist,', 'Rocco,', \"Frank's\", 'adds', 'host', 'celebrities', 'Academy', 'awards', 'ceremony', 'humiliated', 'blunders', 'foil', 'Rocco.', 'Henry', 'Hackett', 'Also,', 'publisher', 'Bernie', 'financial', 'straits,', 'Alicia', 'Clark,', \"Henry's\", 'unpopular', 'suffering', 'blues', 'confront', 'employment.', 'guides', 'quartet', 'cracked', 'Texan', 'materialise', 'Wyoming,', 'Wayne', 'unfaithful', 'Suzanne.', 'situation,', 'collects', 'runs.', 'getaway,', 'worse', 'hitman,', 'Lyle.', 'Billionaire', 'heir', 'Richie', 'Reggie', 'Jackson', 'batting', 'coach', 'Schiffer', 'trainer', \"What's\", 'more,', 'scoundrel', 'Laurence', 'empire.', 'faithful', 'butler', 'vacation,', 'rafting', 'Gail', 'navigating', 'spectacularly', 'river.', 'SWAT', 'bomb', 'Howard', 'ransom', 'First', 'rigged', 'elevator', 'tall', 'building.', 'enough', 'nightmare', 'LA', 'traffic.', 'end.', 'Keaton', 'Geena', 'Davis', 'competing', 'campaigns.', 'junkies', 'amongst', 'us.', 'security', 'agency', 'travel,', 'fend', 'shady', 'politician', 'tie', 'States', 'Government.', 'reveal', 'terrorists', 'kidnapped', 'consequences', 'alcoholism', 'addictions', 'threaten', 'safety.', 'detox,', 'enabling', 'behavior.', 'Randall', 'werewolf', 'Covering', \"West's\", 'iconic', 'heroes', 'Wyatt', 'Earp', 'weaves', 'studded', 'cast,', 'sweeping', 'cinematography', 'costumes', 'Western', 'revival', 'Nelson', 'Crowe', 'operative', 'thumb', 'Company', 'disputed', '$50,000', 'gold.', 'Grimes', 'Organization,', 'hire,', 'individuals.', 'Wells', '(another', 'Operations', 'blackmails', 'bribes', 'State', 'Supreme', 'Court', 'judge,', \"Crowe's\", 'co-workers,', 'Tod', 'overthrow', 'Grimes,', 'deal.', 'More', 'occurs', 'manipulates', 'Crowe.', 'Who', 'alienated', 'misanthropic', 'gains', 'sudden', 'celebrity', 'status', 'indifference', 'threats', 'headlines.', 'fortune', 'investigation,', 'connections,', 'confronting', 'expulsion', 'force.', 'Angela,', 'flame,', 'energetic', 'annoying', 'sidekick.', 'strippers', 'thrills', 'dispatching', 'crippled', 'desert,', 'reputedly', 'locate', 'money,', 'realizing', 'intentions', 'Col.', 'Guile', 'martial', 'arts', 'tyranny', 'Dictator', 'Bison', 'cohorts.', 'bookie', 'promoted', 'hitman.', 'trade', 'yoga', 'figure', 'Starts', '15th', 'century,', 'Connor', 'McLeod', '(Christopher', 'Lambert)', 'immortal', 'swordsman,', 'Japanese', 'Kane', '(Mario', 'Peebles)', 'wizard,', 'resulting', 'buried', 'cave.', 'resurfaces', '20th', 'century', 'hack', 'Cane,', 'Author', 'seems,', 'knack', 'description', 'Insurance', 'Trent', 'vanishing', 'sleepy', 'Coast', 'End.', 'Lane', 'Frost,', '1987', 'Bull', 'Riding', 'Champion,', 'friendships', 'Cody', 'Story', 'dealer', 'employed', 'guard.', 'Siblings', 'Wednesday', 'Addams', 'rid', 'adored', 'Gomez', '\"black', 'nanny,', 'Debbie', 'launches', 'Fester', 'collection', 'husbands.', 'Tale', '19th', 'separated', 'engaged', 'cousin.', 'Lone', 'heavy-metal', 'tape', 'solution:', 'AM', 'station', 'broadcast', \"band's\", 'promotion.', 'dramatic', 'Africa,', 'recruit', 'huge', 'prodigy', \"chief's\", 'responsibilities', \"tribe's\", 'threatened', 'hotshot', 'team.', 'Chris', 'excellent', 'surveillance', 'stakeout', 'lakeside', 'believed', 'heading', 'already', 'hiding.', 'Unlike', 'earlier', 'Gina', 'Garret', 'pet', 'cover,', 'Bill.', 'north', 'Unfortunately', 'let', 'happen', 'easily.', 'uptight', 'Boynton', 'salesman', 'Barcelona', 'Chicago-based', 'company.', 'Fred,', 'naval', 'Spain', 'relations', 'fleet.', 'strike', 'Spanish', 'conflicts', 'courage', 'lifetimes', 'apart.', 'Jed', 'kin', 'Arkansas', 'billionaire,', 'strike.', 'city,', 'plenty', 'takers', 'artists', 'fast', 'buck', 'Back', 'sunny', 'trail', 'murderers,', 'Axel', 'Foley', 'Soon,', 'amusement', 'massive', 'counterfeiting', 'ring', 'shot', \"Billy's\", 'fates', 'horses,', 'them,', 'Beauty', 'narrates', 'Emma', '20s', 'type', 'operation', 'partially', 'restores', 'sight,', 'problems:', 'sometimes', 'later.', 'awakened', 'upstairs.', 'door,', 'shadowy', 'descending', 'stairs.', 'Convinced', 'neighbour', 'approaches', 'unsure', 'eyes', 'playing', 'tricks', 'Away', 'Dove', 'squad.', 'Shortly', 'knows.', 'Bell,', 'pressure.', 'winning', 'players.', 'paid', 'practice', 'pressures', 'around.', 'Hank', 'Marshall', 'tough,', 'straitlaced', 'conduct', 'thorn', 'side', 'Army,', 'reasons.', 'outspoken', 'opponent', 'atmospheric', 'testing,', 'superiors', 'contrary', 'squelch', 'problem', 'voluptuous', 'volatile,', 'wreaking', 'havoc', 'stirring', 'intrigue', 'base.', 'Protection', 'Agency', 'inspector', 'Steve', 'Malone', 'base', 'check', 'materials,', 'ride.', 'arriving', 'base,', 'Marti', 'commander,', 'General', 'acting', 'replaced', 'aliens.', 'surgeon', 'besotted', 'ditched', 'Unable', 'ideas,', 'horrific', 'mercy.', 'bizarre', 'sick', 'times,', 'abruptly', 'twist.', '1960s,', 'honest,', 'working-class', 'charismatic', 'Complicating', \"youngster's\", 'foul-mouthed', 'finishing', 'winds', 'boat,', 'wrath', 'luck.', 'ex-con,', 'pledges', 'pressure', 'Mitch', 'Robbins', '40th', 'Nevertheless', 'Curly', 'chance.', 'Together', 'Phil', 'unfortunately', 'Glen', 'gold', 'desert', 'Arizona.', 'problem:', 'morning', 'total', 'amnesia,', 'waking', 'developing', 'fall,', 'Gabe', 'Hal,', 'peak', 'climbers', 'actually', 'thieving', 'hijackers', 'boxes', 'enormous', 'heads,', 'appetite', 'toilet', 'paper,', 'aliens', 'blend', 'N.J.', 'reason,', \"they're\", '\"Saturday', 'Night', 'feature-length', 'comedy,', 'admires', \"colleague's\", 'therapy', 'thick', 'mystery', 'bumps', 'Rose', 'affair.', 'Jake', 'door.', 'Hitman', 'rodeo', 'Nacho', 'Salazar', 'went', 'there.', 'Mitchell', 'philandering', 'States.', 'Dave', 'sweet-natured', 'staggering', 'President.', 'such,', 'official', 'stand', 'suffers', 'stroke', 'whilst', 'stuck', 'manipulative', 'Chief', 'Staff,', 'Bob', 'Alexander,', 'elevate', 'House', 'unfortunately,', 'count', 'office,', 'luck', 'place,', '1976,', 'Floyd,', 'easily', 'among', 'stoners,', 'jocks', 'geeks.', 'Floyd', 'athlete,', 'football', 'sign', '\"no', 'Phoenix,', 'cryogenically', 'frozen', 'escaped', 'parole', 'utopia', 'Angeles.', 'Police', 'incapable', 'dealing', 'captor,', 'wrongfully', '30', 'apprehending', 'Phoenix.', 'Brown,', 'surfing', 'thirty', 'trace', 'steps', 'surfers', 'spots', 'locales', 'filming', 'Endless', 'Summer', 'Sissy', 'born', 'model', '(John', 'Hurt)', 'ranch', 'CA', 'shoot', 'background', 'mating', 'cranes.', 'ranch.', 'spoof', '80s', '90s', 'thrillers', 'Sleeping', 'Cape', 'Fear', 'others.', 'seduced', 'affair', 'mechanic.', 'Lots', 'visual', 'gags', 'Naked', 'Gun.', 'Abandoned', 'raised', 'troupe.', 'Shitou', '\"Farewell', 'My', 'fame', 'fortune.', 'jealous,', 'beginnings', \"duo's\", 'explosive', 'breakup', 'air', 'disaster,', 'person.', 'Laura,', 'invulnerable.', 'Perlman', 'unable', 'Max,', 'survivor,', 'Carla', 'Rodrigo,', 'grief', 'guilt', 'survived.', 'Chronicling', 'N.W.H.', 'uproarious', 'hardcore', 'hot-button', 'issues.', 'laugh', 'riot', 'recounts', 'rise,', 'clueless', 'Ice', 'Taste', 'performing', 'honors', 'thesis', 'stuffy', 'Harvard', 'paper', 'Some', 'Arlis', 'Kay,', 'spared.', 'Kay', 'returns,', 'wounds', 'concierge', 'Doug', 'Ireland', 'refurbish', 'Roosevelt', 'N.Y.,', 'option', 'site', 'Christian', 'Hanover', 'conceal', 'salesgirl', 'focused', 'invest', '$3', 'million', 'project.', 'Law.', 'About', 'sit', 'Bar', 'exam,', 'refuse.', 'Seduced', 'gifts', 'showered', 'totally', 'Then,', 'murdered.', 'contact', 'asking', 'FBI,', 'Either', 'lose', 'figures', 'plan...', 'maladjusted', 'orphan', 'theme', 'park,', 'placed', 'amends.', 'Sensing', 'Rae', 'tricks.', 'Dial', 'wind', 'profit', 'crowded', 'cousins', 'aunt.', 'Fresh', 'occasion', 'chess.', 'quiet', 'junkie', 'sleeps', 'sells', 'progresses', 'anymore', 'Wrongfully', 'Kimble', 'name.', 'Pursuing', 'Samuel', 'Gerard,', 'rest', 'captured.', 'series', 'chases,', 'secrets', 'expose', 'late.', 'Apache', 'Indians', 'agreed', 'Government', 'approved', 'reservation.', 'Apaches', 'corn', 'farmers.', 'particular,', 'Geronimo,', 'Pushed', 'promises', 'actions', 'government,', 'Geronimo', 'humiliates', 'evading', 'capture,', 'Doc', 'McCoy', 'prison', 'flew', 'exchanging', 'big,', '(Carol', 'sale', 'Benyon', 'strings', 'cooperate', 'Ray,', 'widower,', 'coin', 'accomplices', 'bakery.', 'expect', 'Timmy,', \"Ray's\", 'planning.', 'Timmy', 'ignored', 'pull', 'coins', 'back,', 'number', 'treat', 'enjoys', 'presence.', 'fond', 'unless', 'coins.', 'Leafy', 'secretary', 'High', 'Commissioner', 'nation.', 'useful', 'snobbish', 'clue', \"what's\", 'dirty', 'especially', 'Hazel,', 'beauty,', 'country,', 'favor', 'accepted', 'invitation', 'London.', 'proposition', 'swaying', \"doctor's\", 'opposition', 'filthy', 'rich.', 'happened,', 'guilty.', 'missing,', 'enlist', 'search.', 'hunts', 'Le', 'Ly', 'Vietnamese', 'serenity', 'shattered', 'out.', 'Caught', 'Viet', 'Cong', 'army,', 'destroyed.', 'brutalized', 'raped,', 'resolves', 'flee.', 'surviving', 'situations,', 'Eventually', 'Butler', 'maybe', 'Topper', 'Harley', 'monastery.', 'Iraq,', 'team,', 'who...', 'hostages', 'Desert', 'Storm.', 'issues,', 'fears', 'fantasies.', 'cartographer', 'Wales', 'residents', 'Welsh', 'offended', 'community', 'remedy', 'situation.', 'Christopher', 'grandfather', 'Well,', 'county', 'neighbouring', 'Garth', 'Hill.', 'urbanisation', 'area,', 'rural', 'areas', 'rancher,', 'clairvoyant', 'Hip', 'Hop', 'Kid', 'follow-up', 'debut', 'Party.', 'Reid)', 'taking', 'plunge', '(Angela', 'Martin)', 'toes', 'managing', 'rap', 'Sex', 'books', 'ladies', 'concert', 'installed', 'manufacturing', 'stock', 'scam.', 'Hobbs', 'talented', 'unsuccessful', 'actor.', '(and', 'ex-wife', 'dumps', 'Jeannie', 'Matt,', 'adjusting', 'budding', 'production', 'Cathy', 'complicated,', 'precocious', 'overly', 'accustomed', 'vs', 'particularly', 'Conway', 'Kaufman', \"didn't\", 'enlisted', 'wanted', 'recruits', 'hapless,', 'risk', 'kicked', 'careers', 'begin.', 'Middle', 'manage', 'wacky', 'ways.', 'Horrigan', 'haunted', 'failure', 'Kennedy', 'protection', 'detail', 'Dallas.', 'Thirty', 'calling', 'President,', 'forcing', 'Belfast,', 'Gerry', 'falsely', 'implicated', 'IRA', 'bombing', 'pub', 'coerced', 'confessing', 'guilt.', 'relatives', 'fifteen', 'Turner', 'stardom', 'Ike', 'gained', 'Alto', 'wannabe', 'lifetime.', 'vigilante', 'sidekick', 'William,', 'suffered', 'memory.', 'ego', 'media', 'long-suffering', 'Lorraine', 'fed', 'racing', 'boxing', 'Frank,', 'Rey', 'bargained', 'directly', 'path', 'vicious,', 'wise-cracking', 'lord.', 'Fallon', 'disloyal', 'henchman,', 'savage', 'mercilessly', 'stalked', 'taut', 'entrepreneur', 'creates', 'featuring', 'dinosaurs', 'prehistoric', 'opening', 'experts', 'eager', 'grandchildren', 'calm', 'anxious', 'investors.', 'systems', 'journalist', 'sites', 'companions,', 'Zed', '(Eric', 'raid', 'open', 'Bastille', 'offering', 'services,', 'beyond', 'heroin', 'abuse,', 'Zoe', 'siege.', 'Depression-era', 'memoir', 'A.', 'E.', 'struggling', 'sanatorium', 'traveling', 'Hamilton', 'Watch', 'Company,', 'certain', 'return.', 'update', 'Lassie', 'retreats', 'collie', 'better.', 'Conflict', 'rancher', 'everyone.', 'Danny', 'character', 'Slater.', 'transports', 'latest', 'adventure,', 'friend.', 'Chapman', 'star.', 'grew', 'Ed', 'acts.', 'bribery', 'Angie', 'Problem', 'shoulder.', 'Lightning', 'outlaw', 'west.', 'bungled', 'picks', 'hostage.', 'rob', 'banks,', '1960s', 'diplomat', 'Rene', 'Gallimard', 'Song', 'thinks.', 'sperm', 'donor,', \"weren't\", 'enough,', 'white.', 'Tracy', 'professor.', 'operated', 'Jed,', '\"know', 'doctor.', 'pupil.', 'Justin', 'recluse', 'town.', 'automobile', 'ten', 'involuntary', 'suspected', 'Chuck,', 'causing', \"town's\", 'suspicion', 'hostility', 'protege', 'prejudice', 'sustains', 'foul', \"neighbor's\", 'dead.', 'Menace', 'Society', 'coming', 'protagonist', 'Caine', 'graduates', \"Caine's\", 'details', \"today's\", 'Terrorists', 'hijack', '747', 'D.C.,', 'imprisoned', '(Kurt', 'Russell)', 'reason', 'member', 'assault', 'intercept', 'plane', 'pre-war', 'Japan,', 'servants', 'Shakespearean', 'Hero', 'Claudio,', 'officer,', 'week', 'hatch', 'matchmaking', 'scheme.', 'targets', 'sharp-witted', 'Beatrice', 'task', 'considering', 'corresponding', 'distaste', 'meddling', 'manic', 'depressive', 'Mr', 'Jones,', 'interest', 'treatment.', 'fulfill', 'buying', 'Loving', 'irresponsible', 'Daniel', 'exasperated', 'spouse,', 'crushed', 'allowing', 'weekly', 'kids.', 'housekeeper,', 'disguised', 'nanny.', 'Soon', \"children's\", 'pal', 'parent', 'should', 'start.', 'flees', 'Manchester', 'beating', 'raped.', 'homeless,', 'strangers,', 'plights', 'soldiers', 'fighting', 'Miyagi', 'officer.', 'Julie,', 'pain', 'pupils.', 'teach', 'karate', 'path.', 'warden', 'ultimate', 'troublesome', 'prisoners', 'die.', 'Robbins,', 'Eleven-year-old', 'busy', 'needs,', 'lawsuit', 'either', 'months.', 'Thus', 'hilarious', 'nobleman', 'Orlando', 'inherits', \"parents'\", 'thanks', 'Queen', 'Elizabeth', 'I,', 'commands', 'change.', 'disastrous', 'Sasha,', 'solace', 'appointed', 'ambassador', 'shocked', 'property', 'by.', 'strikes', 'headed', 'honorable', 'No', 'lawyers', 'sue', 'prestigious', 'firm', 'AIDS', 'discrimination.', 'unlikely', 'overcomes', 'corruption', 'adversaries.', 'Scotland,', 'pianist', 'Ada', 'McGrath', 'Flora,', 'belongings,', 'piano,', 'Zealand', 'beach.', 'Ada,', 'sold', 'Stewart.', 'Making', 'warm', 'intrigued', 'acquaintance,', 'tense,', 'life-altering', 'conflicts.', 'main', 'Justice,', 'poet.', 'carrier', 'overnight', 'run.', 'players', 'backgrounds', 'university.', 'differently,', 'drugs,', 'studying.', 'invaded', 'parasites', 'aka', \"people's\", 'backs', '1939,', 'fourth', 'radio', \"America's\", 'confusion', 'premiere', 'Penny', \"owner's\", 'secretary,', 'unhappy', 'overbearing', 'soon-to-be', 'ex-husband', 'begins,', 'whodunit', 'chase', 'halls', 'burglar', 'bickering,', 'Eve.', 'rule', 'bound', 'manners', 'household', 'tested', 'possibility', \"master's\", 'cultivation', 'ties', 'Nazi', 'challenge', 'carefully', 'maintained', 'veneer', 'servitude.', 'sliding', 'fired', 'Detroit,', 'signs', 'recruits.', 'structure', 'class.', 'skyscraper', 'occupied', 'large', 'corporation,', 'Conner', 'Web', 'investigate.', 'previous', 'cultural', 'showing', 'Close', 'scrutiny', 'cover-up', 'well.', 'infamous', 'Kellogg', 'spa', 'Battle', 'Creek,', 'Michigan', 'hustler', 'mega', 'corporation', 'Omni', 'Consumer', 'Products', 'bent', 'creating', 'Delta', 'replace', 'rotting', 'Detroit.', 'area', 'intention', 'abandoning', 'homes', 'simply', 'desires', 'OCP', 'employing', 'mercenary', 'army', 'harass', 'resistance', 'fight,', 'Robocop', 'loyalties', 'lie.', 'Crusades', 'noble', 'exile', 'despotic', 'Sheriff', 'assembles', 'patriots', 'Sheriff.', 'assassinate', 'skinheads', 'Melbourne', 'anger', 'threatening', 'racial', 'purity.', 'Finally', 'all-out', 'confrontation,', 'sending', 'running.', 'prone', 'epileptic', 'merry', 'band,', 'justice,', 'affliction', 'Rudy', 'steel', 'mill', 'working,', 'Notre', 'Dame', 'instead.', 'grades', 'poor,', 'size', 'joining', 'gay,', 'Oskar', 'saved', 'Jewish', 'Nazis', 'worked', 'slaves', 'II.', 'botches', 'League', 'Baseball', 'debut,', '(Albert', 'banished', 'mine', 'arm', 'Nebraska', 'table', 'stability.', 'Yankees', 'chess', 'harden', 'champion', 'unlikable', 'Fischer.', 'reared', 'India', 'returned', 'Neglected', 'exploring', 'garden', 'neglected.', 'Aided', \"servants'\", 'restoring', 'garden,', 'picture', 'class', 'receiving', 'obscene', 'phone', 'calls.', 'slights', 'indeed', 'harassing', 'neighbor.', 'befall', \"1930's\", 'strip,', 'arch', 'enemy,', 'Khan,', 'atom', 'bomb.', 'invisibility', 'cloud', \"men's\", 'Shadow', 'blazing', 'C.S.', 'Lewis,', 'world-renowned', 'passionless', 'spirited', 'Joy', '22', \"other's\", 'Running', 'gamut', 'humorous,', \"Altman's\", 'condition', 'fascinating.', 'poem', 'Raymond', 'Carver.', 'loves,', 'misanthrope', 'collectible', 'Living', 'sons:', \"McCann's\", 'steals', 'disappears,', 'confirms', 'distrust', 'mankind.', 'then,', 'snow', 'raises', 'companionship', 'tear', 'Australia,', 'Anglican', 'clergyman', 'Campion', 'prim', 'Estella,', 'noted', 'Norman', 'Lindsay,', 'contribution', 'international', 'exhibit', 'Lindsay', 'debate,', 'models', 'sitting', 'freethinking', 'Pru', 'virginal', 'posing', 'Sidney', 'cunningly', 'maneuvers', 'white,', 'upper-class', 'mother.', 'loneliness', 'Journalist', 'Seattle', 'dad.', \"tenant's\", 'mysteriously', 'tenant', 'fell', '2019,', 'blade', 'runner', 'Rick', 'Deckard', 'creator', 'extend', 'Country', 'Rebecca', 'spent', 'Dakota,', 'daunting', 'savvy', 'ambivalent', 'rolls', 'around,', 'Rebecca,', 'fiancé.', 'breakup,', 'butcher', 'Harriet', 'Michaels', 'voracious', 'consumers', 'sensational', '\"Mrs.', 'honeymoon', 'killings.', 'Thinking', 'proposes', 'right.', 'Coming', 'Hardy', 'allegations.', 'duty', 'Jo', 'navigate', 'rivers', 'clues', 'discovering', 'bodies.', 'knows,', 'Mario', 'plumbers', 'alternate', 'universe', 'evolved', 'hi-tech', 'invasion', 'dino', 'dictator,', 'Mason', 'hunters', 'Pacific', 'Northwest.', 'twisted', 'maverick', 'Eddy', 'dormitory', 'suite.', 'Due', 'bureaucratic', 'error,', 'Alex', 'added', 'tense.', 'Eddy,', 'lusts', 'Alex.', 'Tired', 'scaring', 'October', '31', 'bag', 'tricks,', 'Halloween', 'Town,', 'shrunken', 'heads', 'morning.', 'approaches,', 'Sally,', 'plans.', \"D'Artagnan\", \"king's\", 'elite', 'corps', 'conniving', 'Cardinal', 'Richelieu,', 'usurp', 'Fortunately,', 'Athos,', 'Porthos', 'refused', 'lay', 'rogues', 'crown.', 'Legendary', 'marshal', 'weary', 'gunfighter,', 'Virgil', 'pursue', 'collective', 'thriving', 'don', 'badge', 'Holliday', 'rustlers', 'terrorizing', 'Clarence', 'hooker', 'Alabama,', 'cocaine', 'pimp,', 'Hollywood,', 'owners', 'coke', 'Clinton', 'campaign,', 'focusing', 'spin', 'doctors', 'Tyler', 'accidents.', 'scared', 'endanger', 'riding', 'bike,', 'climbing', 'library,', 'books,', 'interesting', 'Written', 'Colin', 'unattractive', '7th', 'France.', 'coal', \"miner's\", 'exploited', 'owner.', 'strike,', 'Military', 'Rock', 'Reilly', 'tasked', 'prisoner,', 'blonde', 'bombshell', 'Toni', 'Johnson,', 'unforgettable', 'deserting', 'unit,', 'inmates.', 'Faced', 'mortality,', 'alchemist', 'tried', 'invention', 'provide', 'eternal', 'device.', '400', 'device', 'Now,', 'elderly', 'antiques', 'statue', 'powers.', 'price.', 'Life', 'beginning', 'thriller', 'unfolds', 'fountain', 'Nicolas,', 'make-up', 'corpse', 'Ramon,', 'dead,', 'revived', \"Kika's\", 'attentions', 'suspicious', \"Ramon's\", 'intrusive', 'gaze', 'Andrea', 'Chairman', 'Minnesota', 'Twins', 'passes', 'will,', 'grandson,', 'ownership', 'appoints', 'manager.', 'proud,', 'arrogant', 'tactics', 'Marco', 'Tullio', 'northern', 'Italian,', 'grade', 'Naples', 'Bright', 'internship', 'Susan,', 'recovering', 'mundane', 'aspects', \"Susan's\", 'distraction', 'Peck.', 'relying', 'Spanky,', 'Alfalfa,', 'Buckwheat,', 'Our', 'Gang', 'shorts', '1920s', 'brought', 'Alfalfa', 'devotion', 'principles', 'nine-year', 'Darla,', 'marine', 'Andre', 'circa', '1962.', 'highlights', 'gays,', 'evolution', 'entertainment', \"industry's\", 'shaping', 'perceptions', 'figures.', 'addressed', 'secrecy', 'defined', 'homosexuality', 'advent', 'shift', 'acceptance', 'era.', 'Nanni', 'Moretti', 'three-part', 'diary', 'sharply', 'satiric', \"70's\", \"1990's,\", 'square', 'ever.', 'Kevin', 'McCallister', 'vacation.', 'bungling', 'burglars', \"Kevin's\", 'plucky', 'territory.', 'By', 'planting', 'booby', 'frantic', 'Wheat', 'Jensen', 'artist,', 'madly', 'Carl', 'Bruner', 'deal,', 'roam', 'earth', 'powerless', 'spirit.', 'psychic', 'Mae', 'Brown', 'goons.', 'Jasmine', 'tired', 'remain', 'palace', 'sneaks', 'disguise', 'Aladdin', 'prince.', 'jail,', 'lamp', 'Jafar', 'land.', 'Nearly', '10', 'passed', 'Sarah', 'targeted', 'cyborg', 'future.', 'resistance,', 'newer,', 'managed', 'send', 'protector', 'Sarah.', 'Wounded', 'soldier,', 'Dunbar', 'reward,', 'post,', 'frontier,', 'Sioux', 'homicidal', 'Joker,', 'seized', \"Gotham's\", 'underworld.', 'Clarice', 'Starling', 'ventures', 'maximum-security', 'asylum', 'diseased', 'brain', 'Hannibal', 'Lecter,', 'cannibal.', 'capture', 'Faustian', 'Lecter', 'loose.', 'Snow', 'White,', 'forest', 'dwarfs', 'hide', 'stepmother,', 'Queen.', 'jealous', \"White's\", 'surpasses', 'Follow', 'Belle,', 'beast.', \"castle's\", 'staff,', 'lesson', 'Lonely', 'wishes', 'answered', 'Blue', 'Fairy', 'wooden', 'puppet', 'Pinocchio', 'worthy', 'whistling', 'conscience,', 'Jiminy', 'wrong.', 'mishaps', 'way,', \"Geppetto's\", '\"little', 'right,', 'proving', 'wish', 'true!', 'wheeler-dealer', 'Lewis', 'Vivian', 'Ward,', 'bargain', 'Cinderella', 'hardnosed', \"tycoon's\", 'outlook.', 'capitalist', 'after?', 'Aging', 'Pike', 'Bishop', '(William', 'Holden)', 'prepares', 'robbery.', 'Joined', 'gang,', 'includes', '(Ernest', 'Lyle', '(Warren', 'Oates)', 'Johnson),', 'setup', 'orchestrated', 'Deke', 'Thornton', '(Robert', 'remaining', 'Mexican', 'territory,', 'trails', 'fierce', 'casualties', 'Small-time', 'Watty', 'Watts', 'convenience', 'drug-addict', 'buddy,', 'Mack', 'Black.', 'robbery,', 'Heading', 'fugitive', 'coverage,', 'trail.', 'divorced', 'Donny', 'torch', 'ex,', 'relating', 'Emma.', 'commitment.', 'hell.', 'dispensing', 'advice', 'subject', 'divorce.', 'Melanie', 'architect', 'Sammy,', 'Taylor,', 'newspaper', 'columnist', 'Maggie,', 'divorced.', 'overwhelmed', 'forgets', 'miss', 'negative', 'needing', 'rely', \"Sammy's\", 'propensity', 'lodging', 'objects', 'nose', \"Maggie's\", 'tendency', 'Candyman', 'Orleans', 'murders', 'teacher.', 'Candyman,', 'wrongly', 'murders.', 'Jerry,', 'small-town', 'bursting', 'seams', 'kidnap', 'hefty', 'father-in-law.', 'snap', \"nobody's\", 'Marge,', 'extremely', \"who'll\", 'think', 'small-time', 'investigative', 'Your', 'favorite', 'talking', 'back!', '(voiced', 'Sassy', 'Sally', 'Chance', 'J.', 'old,', 'presumably', 'three.', 'smart-aleck', 'helpful', 'usually', 'relies', 'o', 'glowing', 'orb', 'terrorizes', 'fantasy,', 'eroticism', 'horror.', '22nd', 'puzzle', 'box', 'gates', 'unleashes', 'Pinhead', 'legions', 'Aspiring', 'Thompson', 'Except', 'neither', 'incredulous', 'foolishly', \"Bill's\", 'funeral,', 'oversexed', 'Julie', 'crush', 'teens.', 'Eyre', 'Mrs.', 'Reed,', 'harsh', 'charity', 'girls.', 'seeks', 'employment', 'advertisement', 'Thornfield', 'Hall,', 'Adelaide', 'Duchess', 'domesticated', 'cats', 'heirs,', 'road.', 'wily', \"O'Malley\", 'Cat', 'alley', 'rescue.', 'Marisa', 'novels', 'alias', 'Spain.', 'novels,', 'Leo', 'stationed', 'physically', 'gallerist', 'sisters', 'invent', 'Cooper', '(Matt', 'world-class', 'pitcher', 'spirits', 'traded', 'minor', 'league', 'Ed,', 'teammates,', 'chimp.', 'mascot,', 'realized', 'baseball.', 'surroundings,', 'field.', 'Nightclub', 'Darnell', 'Wright', 'perpetual', 'devoted', 'Brandi', 'Web,', 'Ultimately,', 'charm,', 'lust', 'play,', 'pay.', 'vying', 'affection.', 'quits,', 'femme', 'fatale', 'stalking', 'idealistic,', 'frustrated,', 'succumb', 'temptation', 'rightwing', 'beliefs.', 'arrogant,', 'altar', 'bishop', 'complex', 'reveals', '3rd', 'intensity', 'builds', 'surprise', 'twist', 'alters', \"everyone's\", 'perception', 'Itchy', \"Gabriel's\", 'Horn,', 'ran', 'Carr,', 'Great', '1936', 'Republican', 'anti-fascist', 'coalition', 'communists', 'Similar', \"Orwell's\", 'documented', 'Catalonia,', 'militia', 'betrayal', 'revolution', 'loyal', 'Moscow.', 'society,', 'paired', 'dinosaur', 'mad', 'Armageddon.', 'Jr.,', 'equipment', 'rental', 'outfit', 'Arkansas,', 'rarely', 'natural', 'plus,', 'Chicago,', 'visit.', 'trip,', 'Aunt', 'aged', 'matriarch,', 'tow', 'insists', 'churning', 'lean', 'machines', 'intent', 'protecting', 'Martin', 'inexplicable', 'incorrigible', 'Ernie', 'forces.', 'Girl', '6', '1996', 'operator.', 'Theresa', 'Randle', 'character,', 'screenplay.', 'soundtrack', 'composed', 'entirely', 'songs', 'Prince.', 'screened', 'Un', 'Certain', 'Regard', 'section', 'Cannes', 'Festival.', 'Directors', 'Quentin', 'Ron', 'Silver', 'cameo', 'appearances', 'directors', 'collaborate', 'executed', 'dumped,', 'disappears.', 'strain', 'whim', 'helped', 'seen,', 'apparently', 'alive', 'Stephen,', 'Amazonian', 'consent', 'divorce', 'Charlotte.', 'didn’t', 'yearns', 'How', 'Mimi-Siku', 'react', 'Nelly', 'lazy,', 'Arnaud,', 'forty', 'senior,', 'bills', 'types', 'memoirs', 'Arnaud', 'good-looking', 'publisher.', '\"friendly', 'fire\"', 'mistake', 'covered', 'reassigned', 'desk', 'Later', 'worthiness', 'Medal', 'Honor', 'seemed', 'testimonies', 'Ethan', 'Hunt,', 'espionage', 'awry', 'explanation,', 'mole', 'CIA,', 'surprised', 'No.', '1', 'suspect.', 'Hunt', 'ferret', 'process,', 'score.', 'Moll', 'nunnery', 'execution', 'rebel', 'teenager,', 'escaping', 'streets', 'Further', 'misfortunes', 'well-being.', 'help,', 'retains', 'happiness.', 'majestic', 'skies,', 'knight', 'Bowen', 'dragon', 'Taking', 'arms', 'suppress', 'tyrant', 'king,', 'imagined:', 'Draco', 'limo', 'fanatical', 'follower', 'mediocre', '\"Wild', 'Bill\"', 'contest,', 'wins.', 'fans', 'fires', 'prima', 'Ripley', 'forger', 'all-around', 'spills', 'crocodile', 'possession', 'lands.', '16', 'colors', 'walking', 'ballistic', 'pharmaceutical', 'pill', 'remember', 'happiest', 'memory,', 'successful,', 'unfortunate', 'effects.', 'Marko', '(Miki', 'Blacky', 'WWII', 'Belgrade,', 'surreal', 'propels', 'ranks', 'Party,', 'abandons', 'shelter,', 'reemerges', 'Yugoslavian', '1990s', 'ripe', 'exploitation.', '1943', 'Europe', 'WWII.', '15', 'Stig', 'Viola.', 'revolves', 'Viola', 'katana', 'Asia,', 'crowd', 'guards,', 'Demon,', 'upset', 'appearance', 'tortures', 'opportunity.', 'Master', 'Sun,', 'superior', 'Iron', 'Demon', 'Sun', 'century.', 'Apu', 'Brahmin', 'Sarbajaya', 'going.', 'limited', 'resources,', 'resents', 'helpless', 'cripple', 'Indir.', 'Durga', \"neighbour's\", 'affectionately', 'tease', 'enjoy', 'joys', 'dreaming', 'vaguely', 'writer.', 'talks', 'scientist,', 'Clayton', 'global', 'domination', 'first.', 'torment', 'robots', 'called,', '\"This', 'Island', 'insane.', 'cheese', \"boys'\", 'match', 'freedom,', 'Looney', 'Tunes', 'champion,', 'Jordan.', 'highly', 'stopping', 'people.', 'ruled', 'Von', 'Braun,', 'outlawed', 'self-expression.', '1938', 'french', 'Lucien', 'weak', 'corrupted', 'policeman', 'despised', 'boys.', 'openly', 'self-respect', 'anymore.', 'occasion,', 'Five', 'Green', 'Berets', '1968', 'grudgingly', 'undertake', 'elephant', '200', 'rough', 'terrain.', 'jinks', 'prevail', 'Cahill', 'villagers', 'prized', 'ritual.', 'Connie', 'eighteen', 'wrecks', 'Patricia.', \"Hugh's\", 'ex-boyfriend', 'android', 'charged', 'brigade', 'rebels', 'maintain', 'village.', 'Contrary', 'programming,', 'Peebles', 'assist', 'plight.', 'Having', 'information,', 'jobs', 'ex-marine', 'visiting', 'School', 'Miami.', 'knee', 'cap', 'that,', 'substitute', 'Very', 'Kings', 'Destruction', '(Vincent', 'ex-stripper', 'Freddie', '(Cameron', 'Diaz)', 'proprietor', 'favor.', \"Sam's\", 'tension', 'large,', 'pathetic', '14', 'filled', 'image', 'Melissa', '(along', 'school)', 'dance', 'Winter', 'Ball.', 'fail,', '1890s,', 'Adolf', 'textile', 'labor', 'rife,', 'conditions', 'horrible,', 'church', 'petite', 'workers.', 'writes', 'columns', 'workers', 'listening', 'expelled', 'party,', 'Democrats', 'elected', 'Parliament.', 'Rome', 'disciplines', 'courageous', 'socialist', 'survives', 'die;', 'after,', 'Fed', 'frustrated', 'Baker', 'Jr.', 'shake', 'staid', 'routine.', 'moment', 'Patty', 'unconscious', 'Deciding', 'dorm', 'disapproval', \"John's\", 'decision', 'fateful', 'keeping', 'winner-take-all', 'deadliest', 'fighters', 'employ', 'spectacular', 'feats', 'displayed', 'Golden', 'Dragon.', 'prowess', 'alone', 'triumph', 'foes.', '1950s', 'squad', 'LAPD', 'veterinarian', 'impersonate', 'Twist', 're-imagines', 'adorable', 'canine', 'First,', 'Dodger,', 'mutt', \"gang's\", 'missions,', 'National', 'Basketball', 'Association', 'Celtics', 'Utah', 'Jazz', 'crucial', 'series.', 'Garden,', 'season.', 'die-hard', 'sports', 'win,', 'Sandy', 'Coral', 'Key,', 'rustic', 'Florida', 'keys,', 'Porter', 'dislikes', 'environment', 'dolphin', 'nephew', 'Irene', 'shadow', 'Pinochet', 'dictatorship', 'Chile.', 'movement,', 'atrocities', 'Blake', 'disease,', 'turf', 'city!', 'Bad', 'core,', 'impossibly', 'hoodlums', 'mayhem', 'wherever', 'go!', 'time-travel', 'misadventures', '(Jean', 'Reno)', 'senile', '12th-century', 'visitors', 'adapting', 'wildly', 'confusing', 'here', 'cosmic', 'luxury', 'Construction', 'combined', 'duties', 'geneticist', 'Owen', 'Leeds,', 'newcomer', 'clique', 'witches', 'wield', 'dare', 'cross', 'teachers,', 'rivals', 'meddlesome', 'promoter,', 'Rev.', 'needed', 'boost', 'matches,', 'beat', 'champ.', 'Sultan', 'heavy', 'confident', 'champ', 'satirical', 'Flora', '19,', 'relatives,', 'Cold', 'Comfort', 'Farm.', 'take-charge', 'encouragement', 'forever', 'estate,', 'backward', 'clan', 'Jakob', 'Institute', 'Johannes', 'servant.', 'studies', 'lessons', 'circles,', 'arrive', 'unhappy,', 'imperious,', 'detached', 'operation.', 'beautiful,', 'tightly', 'controlled,', 'verge', 'breakdown.', \"There's\", 'catatonic.', 'notes', 'happened', 'came.', 'Is', 'hardened', 'Robicheaux,', 'tosses', 'bayou', 'fray', 'viciously', 'threatened.', 'commandos', 'seizes', 'stockpile', 'chemical', 'tourists', 'hostages.', '$100', 'paid,', 'restitution', 'families', 'Marines', 'covert', 'ops', 'launch', 'rockets', 'gas', 'Bay', 'area.', 'cemetery', 'rising', 'grave.', \"creatures'\", 'Everything', '\"She\"', 'stirs', 'bit.', 'weatherman', 'Harding', 'papers', 'Melissa.', 'Mother', 'Nature,', 'storms', 'Oklahoma,', 'joined', 'insert', 'sexy', 'Barb', 'Wire', 'moonlights', 'Steel', 'Harbor,', 'zones', 'fascist', 'Cora', 'establishment,', 'roped', 'top-secret', 'weapons.', 'flame', 'Hood,', \"Cora's\", 'guerrilla', 'fighter,', 'tense', 'action.', '2029,', 'barriers', 'net', 'vulnerability', 'highly-wanted', 'hacker', 'Section', '9,', 'cybernetically', 'enhanced', 'cops,', 'fat', 'Lawyer', 'gypsy', 'organized', 'persuade', 'lift', 'curse.', 'Time', 'death,', 'Gen.', 'Rancor', 'domination,', 'him:', 'Steele,', 'Agent', 'obtain', 'fire,', 'Steele', 'Veronique', 'chip.', 'headquarters,', 'held.', 'suspecting', '(or', 'rather,', 'fiendish', 'plot.', 'Gromit', 'new-found', 'helping', 'truth.', 'Morse', 'consolidate', 'numbers', 'racket', 'operators', 'elder', 'preferring', 'gangsters', 'dominate', 'dull-witted', 'garbage.', 'Zane', 'Ziminski', 'astrophysicist', 'message', 'extraterrestrial', 'origins.', 'discovery,', 'fired.', 'embarks', 'origins', 'Hitchcockian', 'labyrinth', 'paranoia', 'intrigue.', 'Insane', 'D.', 'Ripper', 'initiates', 'Soviet', 'Union.', 'discovered,', 'politicians,', 'generals', 'Near', 'uniquely', 'performance', 'Slim', 'career.', 'Sellers', 'multiple', 'roles', 'Bear', 'Mountain', 'parts,', 'seasons', 'almanac.', 'arts.', 'Feng', 'lived', 'western', 'Camel', 'chose', 'Instead', 'glory,', 'agent.', 'eliminate', 'wronged', 'touch', 'swordsman', 'Platoon', 'brutal', 'sadistic', 'Captain,', 'Lieutenant', 'surrounded', 'Army.', '21st', 'successor', 'resident', 'superhero', 'obtaining', 'power.', 'Bounced', 'Erin', 'custody', 'truth:', 'system,', 'off.', 'strips', 'unintended', 'hound', 'Congressman', 'sharpens', 'tools', '1977,', 'Dublin', 'rocks', 'Thin', 'Lizzy', 'stunned', 'Elvis', 'Presley.', 'Frankie,', 'adulthood,', 'completed', 'exams', 'organising', 'beach', 'lustful', 'fending', 'advances', 'coping', 'oddball', 'cook', 'greasy', 'owned', 'Dolly.', 'drinking', 'regular,', 'Leo.', 'Callie,', \"Victor's\", 'self-consciously', 'Powell', 'faster', '40-year-old', 'tutored', 'overprotective', 'over.', 'Valerie', '60s', 'radical', 'preaching', 'hatred', 'screenplay', 'Warhol', 'continued', 'ignore', \"Valerie's\", 'Poe', 'disheveled', 'drugged', 'drunk', 'press', 'producers', 'fawn', 'countess', 'love-hate', 'stallion', 'lover.', 'Austrian', 'kills.', 'immersed', 'Edinburgh', 'allure', 'influence', 'July', '2,', 'mothership', 'orbit', 'deploys', 'dozen', 'spacecraft', 'waste', 'cities', 'planet.', '3,', 'conducts', 'counterattack', '4,', 'devised', 'gain', 'access', 'interior', 'space,', 'plant', 'missile.', 'Tuscan', 'countryside', 'villa.', 'exchanged', 'kiss', 'Giants', 'Rayburn', '$40', 'Series,', 'happier', 'supportive', '#1', 'fan', 'Gil', 'mired', 'slump', 'career,', 'idol', 'Quasi', 'defies', 'Frollo', 'Festival', 'Esmeralda,', 'loves.', 'recently', 'Steven', 'apartment,', 'cable', 'Chip', 'hook', 'go.', \"Steven's\", 'pal,', 'Steven,', 'capable', 'Munson', 'swindles', 'hand,', 'obscurity.', 'That', 'thing:', 'Amish', 'Ishmael.', 'So,', 'naïve', 'settling', 'score', 'Kruger', 'erases', 'identities', 'enrolled', 'Witness', 'Program.', 'assignment', 'Cullen,', 'uncovered', 'manufacturer', 'terrorist', 'groups.', 'guard', 'Murphy', 'Sherman', 'kind,', 'genetic', 'frame', 'fast-talking,', ',', 'Juan.', 'robbers', 'fleeing', 'Jersey', 'trucks', 'transporting', 'waste.', 'tunnel', 'collapsing', 'handful', 'survived', 'peril.', 'Kit', 'skill', 'knowledge', 'collapses.', 'architect,', 'exorcist', 'spirits.', 'bolster', 'facade,', '\"special\"', 'dying', 'piece', 'killings,', 'skeleton', 'predecessor', 'found,', 'Deeds', 'unearths', 'long-buried', 'notebook', 'fancies', 'light', 'descend', 'sky,', 'telekinesis.', 'Mickey,', 'free-spirited', 'materialistic', 'Wall', 'Street', 'stockbroker,', 'competitive', 'influence.', 'disagree', 'everything,', 'common:', \"Mickey's\", 'Heather', 'wives,', 'triggers', 'sibling', 'rivalry', 'defends', 'sparking', 'rebirth', 'Barnes', 'kids,', 'Sean', 'Jessie,', 'Alaska', 'emergency', 'storm', 'somewhere', 'Annoyed', 'bear', 'ferocious', 'detail,', 'Piper', 'chained', 'gunfire', 'Apparently,', 'bury.', 'pair,', 'reach', 'Atlanta', 'alive.', 'Luckily,', \"O'Neal\", 'genie', 'boy.', 'ground,', 'biggest', 'gigs', 'ones', 'nobody', 'wants.', 'telegram', 'clown', 'inheritance', 'pride', 'pachyderm', 'loud', 'rude', 'zookeeper', 'Mo', 'Terry.', 'treks', 'bond,', 'claiming', 'Carol', 'long-lost', 'Martin,', 'Brady', 'residence', 'evening.', 'familiar', 'horse', 'statue,', 'Asian', 'womanizing', 'villa', 'Riviera', 'relaxing', 'getaway.', 'idyll', 'disturbed', 'presence', 'bohemian', 'creations', 'puppet,', 'lessons.', 'nice', 'run-down', 'singing,', 'dancing', 'climb', 'ladder', 'mid-life', 'model.', 'gain.', 'cleverly', 'devious', 'exes', 'hurts', 'kidnapped,', 'unique', 'criminals.', 'Clark', 'well-known', 'Wellington', 'Marion', 'School.', 'inspire', 'solid', 'control.', 'researchers', 'green', 'energy', 'framed', 'grouchy', 'sweet', 'bratty', 'Matilda', 'keen', 'books.', 'while,', \"principal's\", 'cruelty,', 'unleash', 'telekinetic', 'powers,', 'principal.', 'practice,', 'Woodhouse', 'lady', 'people’s', 'affairs.', 'perpetually', 'unite', 'utterly', 'feelings,', 'gentle', \"Judah's\", 'one,', 'angel.', 'comic.', 'Stacy', 'Janet', 'Ned,', '18', 'lock', \"they'll\", 'respective', 'Professor', 'intends', 'rebuild', 'via', 'grafting', 'skin', 'experiment', 'Private', 'Rafe', 'born-again', 'Katherine', 'bad-boy', 'brother.', 'whorehouse', 'thousand-year-old', 'backed', 'Hannah,', 'Percy', 'growth', 'cataclysmic', 'hits', 'expels', 'penal', 'colony', 'guilty', 'moral', 'crimes.', 'unit', 'doomsday', 'weapon,', 'Snake', 'tapped', 'modern-day', 'Ho', 'Chi', 'scratch', 'behalf', 'illustrates', 'Pop', 'Jean-Michel', 'Basquiat', 'Alongside', 'biography', '1980’s', 'golf', 'pro', 'range', 'qualify', 'Open', 'succesful', \"rival's\", 'Kabuki', 'style,', 'mountain', 'voluntary', 'policy', '70-year-old', 'Granny', 'Orin', '70,', 'embrace', 'fate.', 'Tatsuhei', 'arranges', 'grandson', 'Kesa,', 'Around', 'thieves', 'dealt', 'food.', \"Orin's\", 'family?', '1945', '1955,', 'chronicle', 'Italian-American', 'Corleone', 'patriarch,', 'Vito', 'youngest', 'Der', 'Mann', 'heterosexual', 'Axel,', 'attracted', 'decision.', 'czar.', 'Violet', 'concoct', 'millions', 'stashed', 'pin', 'blame', 'crooked', 'sick.', 'donuts', 'contemplating', 'truck', 'blocked', 'armored', 'car.', 'respect', 'robber.', 'riff', 'race,', 'class,', 'kidnappings', 'virtuoso', 'music.', 'Kansas', '1934.', 'fanatics', 'folks', 'apartment:', 'Mei,', 'lover;', 'retreat.', 'sweeps', 'Kong,', 'Jessica', 'Yang', 'ranks,', 'researcher', \"Chicago's\", 'Natural', 'Museum', 'crates', 'findings.', 'museum', 'inside.', 'gruesome', 'cargo', 'shipwrecked', 'sailor', 'lab', 'combine', 'Constantly', 'officers,', 'restricted', 'movements', 'monitored', 'normalcy', 'Davenport,', 'vents', 'frustration', 'isolation', 'brat', 'snaps', 'Lady,', 'Luke.', 'bit', 'sheer', 'strict', 'adherence', 'Sam.', 'angry,', 'understand.', 'tenuous', 'civilization', 'lights', 'suburbanites', 'Matthew', '\"by', 'predatory', 'creature.', \"Matthew's\", 'long-time', 'baby.', 'meant', 'inhumanity', 'Recently', 'godmother', 'friend:', 'flamboyant,', 'Keats', 'Archie', 'Moses', 'bid', 'Carter,', 'bust', 'Colton', 'sting', 'Littlefoot', 'constantly', 'bullied', 'Hyp,', 'Nod,', 'shower', 'meteorites', 'impacts', 'near', 'Valley', 'slide', 'Mysterious', 'Beyond,', 'blocks', 'Valley,', 'increasing', 'relative', 'harmony', 'event.', 'Six', 'Myers', 'terrorized', 'Haddonfield,', 'Illinois.', 'niece,', 'Jamie', 'Lloyd,', 'disappeared.', 'Myers.', 'now,', 'giving', \"Michael's\", 'Haddonfield', 'Loomis', 'gender', 'confusion,', 'disguises', 'lines', 'serves', 'Algerian', 'sixties,', 'Serge,', 'Serge', 'outsider,', 'fled', 'catalyst', 'Francois', 'identity.', 'appeals', 'idealists', 'era', 'Ernest', 'Hemingway', 'high-risk', 'awaits', 'bridge', 'Philadelphia', 'heiress', 'C.K.', 'Haven', 'shortly', 'respectable', 'Kittredge', 'magazine.', 'Liz', 'spoil', '1927', 'Lockwood', 'Lina', 'on-screen', 'silent', 'mistakes', 'musical,', 'songs,', 'dub', 'voice.', 'actress,', 'Kathy', 'movie,', 'Jerry', 'Mulligan', 'exuberant', 'reputation', 'painter.', 'Adam', 'associate', 'Milo', 'Roberts,', 'wing', 'supports', 'art.', 'Greenwich', 'Village', 'whisked', 'Fortune', 'hunter', 'Holly', 'Golightly', 'captivated', 'building', 'blooms', 'activities', \"friend's\", 'dangerously', 'Professional', 'Jeffries', 'race.', 'Confined', 'rear', 'window', 'observing', 'neighbors.', 'courtyard', 'nurse', 'Stella', 'Ellie', 'tied', 'knot', 'aviator', 'Westley', 'yacht', 'jumps', 'Reluctantly', 'Actually,', 'choice:', 'sticks', 'whistle', 'juicy', 'story!', 'Paula', 'studying', 'Italy,', 'classes', 'Gregory', 'Anton.', \"house's\", 'dim', 'noises', 'attic,', 'imagining', 'Yard', 'inspector,', 'Brian', 'Cameron,', 'sympathetic', 'Holden', 'Mimi', 'knowing', 'married.', 'divorce,', 'dizzy', 'correspondent', 'code', 'faux', 'confuses', 'act.', 'Advertising', 'Roger', 'spy,', 'triggering', 'chase.', 'Baxter', 'quick', 'corporate', 'ladder.', 'lends', 'executives', 'mistresses.', 'aftermath', 'visits,', 'solve.', 'musicians', 'gangsters.', 'all-girl', 'tour.', 'getaway', 'bandmate', 'suitor.', 'Regina', 'Joshua', 'skiing', 'Alps,', 'cronies,', 'Gideon,', 'stole', 'lines.', 'changing', 'Casablanca,', 'Morocco', 'December', 'cynical', 'unforeseen', 'complications.', 'eccentric', 'liar,', 'priceless', 'misogynistic', 'phonetics', 'wager', 'flower', 'society.', 'Linus', 'empire,', 'technically', 'entertaining,', 'times.', 'shy,', 'chauffeur,', 'hardly', 'notices', 'I', 'elegant,', 'sophisticated,', 'Suddenly,', \"David's\", 'attention,', 'Linus,', 'Overwhelmed', 'suffocating', 'schedule,', 'touring', 'European', 'Ann', 'kicks', 'asleep', 'bench', 'reporter,', 'Bradley,', \"Ann's\", 'regal', 'bets', 'exclusive', 'interview', 'Shirley', 'Temple', 'reported', 'I.', 'St', \"World's\", 'Fair,', 'prepare', 'lion,', 'scarecrow', 'tin', 'yellow', 'brick', 'Wizard', 'ask', 'Wicked', 'Witch', 'roguish', 'Reconstruction.', 'rated', 'show,', '50s', '(the', 'Flynn', 'faded', 'Newspaper', 'magnate,', 'Foster', 'industrialist.', 'well-meaning,', 'Humanity', 'object', 'beneath', 'surface', 'advanced', 'super', 'computer.', 'glimpses', 'Harrington', 'Margo', \"Margo's\", 'Broadway', 'role,', 'sensation', 'Eve,', 'admiring', 'audacity', 'pattern', 'deceit.', 'Wealthy', 'Haines', 'Crystal', 'Sylvia', 'Fowler', 'Edith', 'Potter', 'manicurist', 'arrange', 'hear', 'gossip.', 'Reno', 'Countess', 'Miriam', '(in', \"Lucy's\", 'dude', 'ranch,', 'fifth', 'Buck.', 'unhappily', 'self-conscious', 'tormented', 'erupt', 'national', 'borders.', 'Its', 'hero,', 'dispatched', 'dispatches', 'emanating', 'overseas,', 'promptly', 'fascism', \"Germany's\", 'designs', 'conquest', 'effort,', 'Jones', 'assassination,', 'ring,', 'Released', 'Hitchcock', 'Rio', 'Janeiro', 'wine', 'cellar', 'uranium', 'Edwardes', 'Vermont', 'outgoing', 'director,', 'Constance', 'Peterson,', 'psychoanalyst,', 'impostor.', 'confesses', 'anything.', 'however', 'impostor', 'amnesia', 'Nickie', 'publicized', 'boyfriend.', 'stand-offish', 'atop', 'Empire', 'living.', 'reasonably', 'patiently', 'Fate', 'intervenes', 'misunderstanding', 'delightful', 'who’s', 'copying', 'course.', 'masterpiece', 'Grace', 'Kelly', 'Cary', 'Grant.', 'Proud', 'Starting', 'itself,', 'surprises', 'disasters', 'musical', 'recognition.', 'stern', 'represents', 'conservatory', 'worldly', 'hold.', 'servants,', 'eligible', 'bachelor', '(Louis', 'Gigi', '(Leslie', 'Caron).', 'she,', 'girlish', 'cultured', 'glamour', 'eyes,', 'buy.', 'Sheila', 'Broadbent', '(Rex', 'Harrison', '(Sandra', 'step-mother', 'met.', 'resists.', \"Jane's\", 'apathy', 'block,', 'cousin,', 'Mabel', 'Claremont,', '(Peter', 'debutante', 'Clarissa', '(Diane', 'drummer', 'orchestra', 'balls.', '(Errol', 'Flynn)', 'striving', 'Maid', 'Marian', '(Olivia', 'dictatorship.', 'useless', 'masked', 'avenger', 'Zorro.', 'investigating.', '1900,', 'strong-willed', 'Muir', 'Cottage', 'seaside,', 'haunted.', 'Sure', 'crusty', 'Indeed,', 'allies,', 'bedroom.', 'civilians', 'Himalayas,', 'rescued', 'mysterious,', 'valley', 'Protected', 'mountains', 'outside,', 'clouds', 'gathering,', 'provides', 'world-weary', 'Conway.', 'Travers', 'Horace', 'demonstrates', 'hotel,', 'annoyance', 'sleeping', 'Dale', 'below.', 'upstairs', 'Complications', 'arise', 'Horace.', 'occupation', 'Poland,', 'troupe', \"soldier's\", 'spy.', 'zany', 'tramp', 'butler.', 'covering', 'associates.', 'Cal', 'overwhelming', 'Aron', 'Adam.', 'turn,', 'ahead', 'absence,', 'Nora', 're-connects', 'least.', 'Wynant', 'inventor', 'Clyde', 'resuming', 'profession', 'Nora,', 'exciting,', 'solves', 'announcing', 'dinner', 'suspects.', 'Hildy,', 'Walter', 'Burns,', 'inform', 'remarried', 'frames', 'fiancé,', 'steer', 'returning', 'employee.', 'Jules', 'Verne', 'Phileas', 'Which', '80', 'Bailey', 'Bedford', 'Falls.', 'longed', 'prevents', 'modest', 'loan', 'founded', 'generous', 'intending', 'deposit', 'bank.', 'misplaced', 'hides', 'Billy,', 'Naive', 'Jefferson', 'Smith,', 'Boy', 'Rangers,', 'governor', \"state's\", 'senior', 'hopeful', 'Joseph', 'process', 'earnest', 'conflict', 'Taylor.', 'Taylor', 'scandal.', 'Huxley', 'bone', 'collection.', 'circumstances,', 'Vance,', 'leopard', 'light-hearted', 'Dunne', 'quarrel', 'reunite.', 'recording', 'Dunne)', 'reflecting', 'recalls', 'impulsive', 'Grant),', 'deliriously', 'note', 'fraught', 'Other', 'remind', 'courtship,', 'sorrows', 'shared.', 'flood', 'ponders', 'Philip', 'Carey', 'Mildred', 'Rogers.', 'rejects', 'salesman,', 'unmarried.', '\"happily', 'after\"', 'unsentimental', 'aristocrat,', 'grandfather.', 'illiterate', 'picked', 'charge.', 'officials', 'general', 'disguise.', 'Fearing', 'pocketing', 'Notorious', 'womanizer', 'Quirt', 'collapses', 'Quaker', 'wounded,', 'Evans', 'attracts', 'affections', 'affection', 'Hannay', 'elude', 'hunting', 'country.', 'Pamela,', 'accomplice', 'lands,', 'digs', 'inland', 'farmhouse,', 'mount.', 'realistic', 'stretches', 'talk,', 'punctuated', 'sharp,', 'random', 'bursts', 'relevance', 'Newly', 'sheriff', 'Pat', 'Garrett', 'pleased', 'Lincoln,', 'stage.', 'trailing', 'horse,', 'Kid.', 'surprising', 'cool.', 'shot.', 'bloodthirsty', 'zombies', 'farmhouse.', 'zombie', 'Dead', 'greatly', 'influenced', 'Africa’s', 'nowhere,', 'gin', 'soaked', 'missionary', 'river', 'face-off', 'warship.', 'script,', 'day-to-day', 'basis', 'shot,', 'motley', \"ne'er-do-wells\", 'claim', 'deposits', 'Kenya', 'port', 'en', 'route', 'ex-football', 'player,', 'drinks', 'resists', 'cancer,', 'jogs', 'revelations', 'son.', 'parting', 'prints', 'fake', '\"John', 'Doe,\"', 'protest', 'ills.', 'bosses', 'cynically', 'milk', 'worth,', 'made-up', 'movement.', 'Barkley', '(Helen', 'Hayes)', 'Frederic', '(Gary', 'Cooper)', 'Italy.', \"Frederic's\", 'transfer,', 'tremendous', 'each,', 'rages', 'Awards', 'winner', 'Best', 'Cinematography', 'Sound,', 'Recording.', 'Nominated', 'Picture', 'Art', 'Direction.', 'items', 'belonging', 'microfilm', 'passport,', 'Inspector', '(Michelle', 'Morris', '(Cynthia', 'Rothrock)', 'bumbling', 'Triad', '(James', 'tail,', 'incriminating', 'bodyguard', '(Dick', 'Wei)', 'side,', 'inspectors', 'legal', 'means,', 'badges', 'Tin', 'alone.', 'Labor', 'Day', 'picnic,', 'blows', 'fraternity', 'buddy', '(Alan', 'richest', 'Hal', 'egocentric', 'accomplishment.', 'Madge', 'Owens,', 'killed.', 'Canada', 'miserable', 'life...', 'nest', 'goose', 'eggs', 'comes,', 'Amy,', 'birds', 'Denise', 'sacrifices', 'singing', 'singers.', 'break,', 'rejection', 'industry', 'album.', \"brother's\", 'mafia.', 'muscles', 'questions,', 'heck', 'sauna.', 'establishment', 'Free', '1920s,', 'vilified', 'completely', 'republic.', 'prenuptial', 'agreement', 'Over', 'stranger,', 'fantasizes', 'void', 'surprise.', 'Primo', 'Prima', 'Prohibition-era', 'gangs.', 'switches', 'allegiances', 'services', 'highest', 'bidder.', 'toll', 'mounts,', 'banks.', \"women's\", 'loot,', 'tastes', 'interests', 'suspicions', 'increase', 'bedroom', \"LA's\", 'Fernando', 'athlete', 'chain', 'clever', 'mistress,', 'nurse,', 'vindictive', 'ex-wife,', 'lovelorn', 'assistant,', 'suicidal', 'bitter', 'Gabriella,', 'immigrant,', 'understanding', 'Blood', 'Killer\"', 'socialites', 'scrapbook', 'cleaning', 'clean-up', 'Thriller', 'Luthan', '(Hugh', 'eminent', 'Lawrence', 'Myrick', '(Gene', \"hospital's\", 'renowned', 'detective.', 'metro', 'tough-talking', 'Campbell.', 'clash,', 'terrorism', 'Ducks', 'offered', 'scholarships', 'Hall', \"coach's\", 'methods', 'bigotry', \"grandfather's\", 'legacy,', 'minute', 'appeal', 'sentence', 'executed,', 'Mississippi', 'predictably', 'headlines', 'proclaiming', 'grandfather,', 'Ku', 'bomber.', 'lies', 'balance,', \"Adam's\", 'motivation', 'unfolds.', 'heal', 'suicide...', 'roving', 'saddled', 'wealth', 'youngsters', 'outlaws', 'townspeople', 'surly', 'Legends', 'famed', 'frontiersman', 'Davey', 'Crockett', 'depicted', 'feature', 'edited', 'episodes.', 'Russell', 'Creek', 'War.', 'Congress', 'rough-hewn', 'Representatives.', 'Tia', 'extraordinary', 'Lucas', 'clutches', 'megalomaniacal', 'Aristotle', 'Bolt,', 'exploit', 'Jason,', 'witch', 'mountain,', 'Jason', 'Herbie', 'Volkswagen', 'Beetle', 'showroom', 'track,', 'movies', 'follow.', 'Travis', '1860s.', 'mongrel', 'uninvited', 'Hayley', 'Mills', 'twins', 'camp.', 'knew,', 'Remake', 'Disney', 'classic,', 'voices', 'trek', 'encountering', 'sorts', 'owners.', 'spell', 'Robinson', 'marooned', 'inhabited', 'impressive', 'array', 'wildlife.', 'pioneer', 'spirit,', 'greater', 'rousing', 'suitable', 'Johann', 'McGuire', 'wrist', 'watch.', 'Convincing', 'catching', 'tougher', 'submarine,', 'commanded', 'Jamaican', 'disqualified', 'Olympic', 'Games,', 'dishonored', \"Roger's\", 'favourite', 'Angels,', 'Angels', 'prays', 'prayers', 'faith', 'true.', 'mice', \"Cinderella's\", 'rags', 'glorious', 'gown', 'Royal', 'clock', 'midnight,', 'broken,', 'glass', 'Winnie', 'Pooh', 'Hundred', 'Acre', 'Wood.', \"Donald's\", 'gifts,', 'book,', 'Donald', 'aspires', 'amnesiac', 'mere', 'education,', 'believing', 'anywhere.', 'Needless', 'say,', 'vows', 'vengeance.', 'mission,', 'exiled', 'comely', \"sheriff's\", 'terror.', 'combines', 'color', 'sequences', 'Poppins', 'response', 'request', 'flying', 'Dumbo', 'oversized', 'ears', 'supreme', 'confidence.', 'diminutive', 'Timothy', 'Mouse', 'pint-sized', 'obstacles.', 'Pete,', 'orphan,', 'Maine', 'lovable,', 'invisible', 'lighthouse', 'keeper,', 'trouble.', 'salesmen', 'Elliott', 'gain,', 'daring', 'evacuated', 'spinster', 'initial', 'disappear', 'trainee', 'witch.', 'golden', 'Rabbit,', 'rabbit', 'hole.', 'Quickly', 'tumbles', 'topsy-turvy', 'Memorable', 'whimsical', 'escapades', 'highlight', \"Alice's\", 'journey,', 'madcap', 'Hearts', 'feisty', 'fox', 'fun', 'puppy', 'Copper', 'expected', 'Following', 'arrest', 'Vanessa', 'Lutz', 'grandmother.', 'counselor', 'Killer', 'retelling', 'Hood.', 'Rodgers', 'Hammerstein', 'governess', \"McClane's\", 'serious', 'loop', 'minutes', 'overtaken', 'terrorists.', 'LAPD,', 'wisecracking', 'single-handedly', 'application', 'science.', 'outlet', 'nurturing', 'neighbor,', 'overworked', 'Monica,', 'healthy', 'selflessly', 'remembering', 'herself.', 'mixed-race', 'denies', 'emotional,', 'exposed.', 'scores', '1964', 'rides', 'star-making', 'machinery', 'can,', 'Gillian', '\"ghost\"', 'night.', 'crop', 'Francoise', 'Pablo', 'Picasso', 'withstand', 'cruelty', 'neighbourhood', 'homosexuality.', 'acted', 'Caine,', 'ideal', '8', 'Rice', 'bump', 'lethal,', 'Beaumont', 'schedule', 'railroad', 'Africa.', 'Enlisting', 'Patterson', 'ship,', 'expects', 'mutilated', 'lion.', 'attacks,', 'lions.', \"Pacino's\", 'rumination', 'significance', 'in-depth', 'analysis', 'Lounge,', 'regulars', 'cream', 'seventeen-year-old', 'ex-girlfriend.', 'Get', 'Bus', 'Million', 'eclectic', 'laid', 'aircraft', 'actor,', 'mixed', 'background,', 'driver,', 'discussing', 'surrounding', 'march,', 'manhood,', 'religion,', '(Sheen)', 'Accidentally,', 'Pochenko', 'street.', 'assassin.', 'survive,', 'achieving', 'goal.', 'trust.', '19th-century', 'Jude', 'academic,', 'hobbled', 'blue-collar', 'background.', 'unloving', \"farmer's\", 'improve', 'Sue,', 'shaky', 'engaged.', 'Baz', 'tragedy,', 'Capulets', 'ongoing', 'sweltering', 'suburb', 'Verona', 'Beach,', 'Romeo', 'wed.', 'visually', 'modern,', 'remains.', 'good.', 'forget', 'jail', 'Levinson.', 'course,', 'entertaining', 'last-minute', 'Thieves', 'crew.', 'Ballet', 'Peters', 'Atlantic', 'ocean', 'liner', 'lie', 'rumor', 'gossip', 'murdered,', 'army.', 'one?', 'why?', 'Marlowe', 'hulking', 'Moose', 'Malloy', 'follows,', 'lies,', 'theft', 'fatale.', \"Chandler's\", \"film's\", 'Kingdom.', 'Eccentric', 'candy', 'Wonka', 'prompts', 'worldwide', 'frenzy', 'tickets', 'delicious', 'bars', 'admit', 'lucky', 'confectionary.', 'agenda', 'amid', 'grounds', 'Miles', 'Monroe,', 'oppressive', 'regime.', 'Yorker', 'tiny', 'nation', 'rebellion.', 'advocate', 'diamonds,', 'diamonds.', 'Cohen', 'average', 'ridiculous', 'events,', 'Messiah.', 'dodging', 'followers', 'contend', 'pompous', 'Pontius', 'Pilate', 'separatist', 'Monty', \"Python's\", 'signature', \"Brian's\", 'paralleling', 'Biblical', 'lore,', 'albeit', 'laughs.', 'soprano', 'complicates', 'candidate', 'Senate', 'California.', 'winning,', 'establishment.', 'daredevil', 'white-suited', 'Leslie,', 'turn-of-the-century', 'makers', 'America,', 'Bering', 'Straight', 'promote', 'sales.', \"Leslie's\", 'Leslie', 'line', 'invention.', 'Bonnie', 'Barrow', 'began', 'robbing', 'banks', 'landmark', 'aesthetic', 'movement', 'Hollywood.', 'works,', 'Santiago,', 'aging,', 'fisherman.', '3', 'hooks', 'Marlin', 'Gulf', 'affair,', 'assumes', 'anyway.', 'Expecting', 'tedium', 'Catskills', 'Frances', 'Houseman', 'stepping', 'shoes', 'botched', 'indicates', 'informant,', 'mounts', 'Crime', 'Orange,', 'parolee', 'Blonde,', 'Pink', 'Nice', 'unravel.', 'Vietnam,', 'confronted', 'horrors', 'duality', 'invited', 'notice,', 'except', 'stiff', 'involved.', 'influential', \"1960's\", 'composer,', 'Morrison.', 'Fergus', '(Stephen', 'Jody', 'custody,', 'warnings', 'Richardson)', 'Maguire', 'promise', 'Dil', 'Hounded', 'colleagues,', 'enigmatic,', 'surprising,', 'Ross,', 'unethical', 'prepared', 'lengths', 'unload', 'undesirable', 'prospective', 'Meryl', 'Streep', 'Sophie,', 'shares', 'tempestuous', 'Nathan', '(Kevin', 'Kline', 'Elliott.', 'Bringing', 'existence', 'secret.', 'E.T.', 'ill,', 'intervention', 'dire', 'alien.', 'Reginald', \"Dickens'\", 'Ebenezer', 'Scrooge,', 'miser', 'Talented', 'track.', 'racer', 'smash', 'cars.', 'fear.', 'fighter', 'pilots', \"Pete's\", 'pilot.', 'troublemaking', 'Stark', 'slate,', 'stability,', 'classmate,', 'Judy.', \"kid's\", 'brutish', 'brother-in-law', 'crumbles', 'Rhodes,', 'illness', 'afflicting', 'fever', 'weirder', 'day:', 'grown-ups.', 'insect', 'meadows', 'motion,', 'time-lapse', 'bees', 'collecting', 'eating', 'mating,', 'spiders', 'catch,', 'ball', 'caterpillars,', 'underwater', 'spider', 'bubble', 'mosquito', 'Laurel', 'Ayres', 'businesswoman', 'investors', 'grab', 'credit.', 'firm.', 'exist.', '1930s.', 'Details', 'flashbacks,', 'climaxing', 'ending.', 'Georges', 'Down', 'syndrome,', 'businessman,', 'lectures', 'disaster', 'always,', 'forgot', 'Neither', 'roads,', 'anguished', 'angry.', 'Georges,', 'institution', 'everybody', 'Larry', 'obnoxious,', 'Hustler', 'honest', 'publishing', 'girlie', 'speech', 'punk', 'Animal', 'campus', 'letting', 'to.', 'Also', 'questioning', 'roommates:', 'Rob,', 'intellectual', 'Dennis.', 'Pond', 'Ethel', 'cottage', 'Chelsea', \"haven't\", \"Norman's\", 'birthday.', 'fiance', \"fiance's\", 'stepson', 'wanted.', 'communicate', 'Panther', 'Clouseau', 'thief.', 'utilises', 'resources', 'manservant', 'recreates', 'trauma', 'chaos', 'creates,', 'rig', 'sinks.', 'diver', 'odyssey', 'below', \"ocean's\", 'Strange', 'coastal', 'commemorate', 'spring', 'eerily', 'life;', 'announcer', 'Stevie', 'mystical', 'fire;', 'hitchhiker', 'fog', 'descends', 'village,', '1997,', 'walled', \"country's\", 'anarchic', 'convict,', 'fatal', 'newswoman', 'rehabilitation', 'seem.', 'adjoining', 'vacant', 'property.', 'flowers,', 'dismayed', 'block', 'crops', 'wells', 'summer.', 'hearts,', 'water.', 'sequel', 'Manon', 'grown', 'shepherdess', 'vengeance', 'acquire', 'sheltered', 'expected.', 'Arthur,', 'Knights', 'Galahad', 'battles', 'limbs', 'chopped', 'off,', 'fight.', 'Camelot,', 'enter,', 'silly', 'Reminiscent', 'Sunset', 'silver', \"screen's\", 'homage', 'cinema.', '1974.', 'Muhammad', 'Ali', '32', 'prime.', 'Foreman', 'heavyweight', 'backer', 'dictator', 'set,', 'festival', 'performers,', 'B.B.', 'pushed', 'lodger', 'penguin', 'mechanical', 'controlled', 'trousers', 'raid.', 'France,', 'knew', \"Marlowe's\", 'treatments', 'devil.', 'Faust', 'nondescript', 'lured', 'theatre,', 'weird', 'blending', 'actors,', 'clay', 'animation', 'puppets.', 'semi-documentary', 'resourceful', 'noir', 'revenge-seeking', 'commit.', 'seducing', 'vengeance,', 'Treasury', 'currency', 'ring.', 'four-year', 'folly', 'relatives.', 'collaboration', 'Cesare', 'Vittorio', 'De', 'Sica', 'examines', 'masterpieces', 'Children', 'Are', 'Watching', 'Us', 'vivid,', 'humane', 'family’s', 'dealer,', 'Equipped', 'intellect', 'eve', 'drum', 'symbolizes', 'mentality', 'neighborhood,', 'passive', 'Germany', 'listens', 'catastrophe', 'on...', 'Lords', 'shockingly', 'Jesus', 'Christ.', 'Murder', 'socio-political', 'letters', 'God', 'results,', 'Post', 'Office', 'contain', 'curse', 'last-ditch', 'battle,', 'endangering', 'Thor,', 'survival...', 'Werewolf', 'overrun', 'Arian', 'brotherhood.', 'These', 'certainly', 'Taekwondo', 'whats', 'watching', 'crap', 'them?', 'dressed', 'clown,', 'red', 'thats', 'ONE', 'cinematic', 'jewels', 'contained', 'blessing', 'me?', 'yourself', '3.', 'upstart', 'Tim', 'folksinger', 'tunes', 'welfare', 'liberal', 'like.', 'filmmakers', 'insight', 'candidates', 'filmmaker', 'formed', \"theater's\", 'barbaric', 'bookseller', 'meals', 'Food,', 'colour', 'torture', 'cannibalism', 'exotic', 'fare', 'beautifully', 'uncompromising', 'fable', 'interpreted', 'allegory', 'surrealistic', 'post-apocalyptic', 'scarce', 'macabre', 'flesh', 'feed', 'customers.', 'chaos.', 'similar', 'Veronique,', 'ups', 'downs', 'individual', 'lives,', 'embarking', 'Alexandre', 'puppeteer', 'existential', 'holiday.', 'subordinate,', 'Mireau', '(George', 'trench', 'position,', 'promotion', 'foolhardy', '(Kirk', 'attack.', 'court-martial', 'face.', 'grifter', 'injury', 'displeasure', 'reuniting', 'unpredictable', 'lady.', '1930s,', 'Count', 'Almásy', 'Hungarian', 'maker', 'chart', 'Sahara', 'explorers.', 'unfolds,', 'flashbacks', 'bed', 'horribly', 'burned', 'crash.', 'Sea,', 'spot', 'ships', 'relax', 'little.', 'destroyed', 'Greeks', 'understand', 'Italians', 'peaceful', 'God-forgotten', 'Christy', 'crippling', 'cerebral', 'palsy', 'Able', 'speak', 'retarded', 'repressed', 'sister.', 'visitor', 'fetish', 'everything.', 'Brave', \"Scott's\", 'jeopardy.', 'succeed?', 'Errol', 're-enacts', \"officer's\", 'hospital,', 'Ricky', 'Marina,', 'rain', 'Canada,', 'Filmed', 'pieces', 'glittering', 'MTV', 'color,', 'intimate', 'performer,', 'prayer', 'dancers', 'afterwards.', \"City's\", 'ambitions', 'warmth', 'insanity', 'Patrick', 'inspires', 'patients', 'authoritarian', 'slacker', 'amateur', 'drummer,', 'Stoner', 'ditches', 'road,', 'kindred', 'marijuana,', 'technicality,', 'raucous', 'tune', 'continues', 'Skywalker,', 'defeating', 'Galactic', 'Empire,', 'Jedi', 'Darth', 'cocky', 'droids', 'fairy', 'happiness', 'swordsmen,', 'princes,', 'rodents', 'size.', 'lovebirds', 'Indiana', 'celebrated', 'archaeologist', 'Ark', 'bureaucrat', 'recurring', 'daydream', 'virtuous', 'Investigating', 'wrongful', 'eventual', 'Tuttle,', 'mindless', 'bureaucracy', 'lies.', \"Ripley's\", 'salvage', '50', 'species.', 'colonists', 'colonists.', 'colonial', 'marines', 'answers.', 'loner,', 'bandit', 'Southwest', '$200,000', 'actors', 'squalid', 'Camden', 'Flat', 'diet', 'booze', 'pills', 'uncle)', 'weather,', 'locals,', 'pairs', 'wits', '1969,', 'hippy', 'Englishmen', 'sour,', \"Robinson's\", 'Withnail', 'cult.', 'emaciated', 'defiantly', 'effete', 'E', 'Grant,', '\"I\"', 'flat,', 'continual', 'warm,', 'sane,', 'pubs', 'sojourn', 'defense', 'prosecution', 'filing', 'Spanish-American', 'shut', 'prejudices', 'preconceptions', 'trial,', 'accused,', \"Lawrence's\", 'tribes', 'Ottoman', 'unity', 'psychological', 'instability', 'undermine', 'achievements.', 'Demonic', 'rape,', 'mugging', 'pack', \"Beethoven's\", 'Ninth', 'mercy', 'brainwashing', 'streets.', 'Alabama', 'Finch', 'represent', 'Robinson,', \"Finch's\", 'occurrences', 'date:', \"Scout's\", 'Harris,', 'reactions', 'life-and-death', 'crises', 'rampaging', 'to,', 'with,', 'Boo', 'reclusive', 'salvation', 'venomous', 'height', 'Willard', 'exist,', 'nor', 'Beret', 'Kurtz,', 'missions', 'desperado', 'Rebel', 'leaders', 'strategy', \"Emperor's\", 'bigger', 'Death', 'cavernous', 'fortress', 'Jabba', 'loathsome', 'universe,', 'slave', 'Force,', 'wages', 'sworn', 'Force.', 'Desire', 'Wim', 'Wender’s', 'angels', 'post-war', 'Berlin.', 'It’s', 'poetic', 'perspective', 'thus', 'heavenly', 'celebrating', 'postwar', 'Vienna,', 'Austria,', 'Third', 'Man\"', 'Cotten', 'pulp', 'penniless', 'chum', 'Martins', 'theory', 'interference', 'Maj.', 'head-over-heels', 'grief-stricken', 'Anna.', 'Hill,', 'climbs', 'earth,', 'commercial', 'spaceship', 'intercepts', 'distress', 'signal', 'chamber', 'thousands', 'attacks', 'explorer.', 'parasite', 'A.D.,', 'Necronomicon', 'answer', 'Jacques', '(Jean-Marc', 'Barr)', 'Enzo', 'opted', 'footsteps', 'bewilderment', 'scientists,', 'adjust', 'rate', 'breathing', 'water,', 'vital', 'closely', 'resemble', 'dolphins', '(he', 'extended', 'diving', 'contest', 'determining', 'dive', 'scuba', 'gear', 'Johana', 'sea.', 'Japan', '16th', 'warlord', 'retires,', 'handing', 'sons.', 'vastly', 'underestimates', 'him...', 'Mob', 'assassin', 'chanteuse', 'Jennie', 'blinded', 'crossfire', 'recent', 'hit,', \"victim's\", 'double-crossed,', 'larcenous', 'Crane', 'lam', 'wad', 'cash', 'Bates', 'quirky,', 'shower.', 'Blues', 'Elwood', \"God'\", 'raise', '1950s,', 'expand', 'Vegas,', 'Cuba.', 'pragmatic', 'observes', 'dehumanizing', 'boot', 'excuse', 'moon,', 'ample', 'cheese.', 'moon', 'caretaker,', 'adaption', 'Wolfgang', 'Mozart,', 'peer', 'Antonio', 'confined', 'asylum.', 'homestead', \"Sean's\", 'ill-tempered', '\"Red\"', 'riotous', \"Will's\", 'apart,', 'plot,', 'Lower', 'Side', 'LaMotta', 'opponent,', 'ticking', 'bomb,', 'moment.', 'Perhaps', 'bouts', 'jealousy.', 'rage', 'champ,', 'comedian', 'Singer', 'ditsy', 'Hall.', 'Mercury', 'formation', 'space', 'earth;', 'Carpenter', 'Wally', 'gray', 'unnamed', 'Zone,', 'guarded', 'wire', 'soldiers,', 'physics', 'frequent', 'specifically', 'granted.', 'allied', 'Second', 'hunted.', 'surface,', 'stretching', 'limits.', 'caper', 'ambitious', 'crook', 'gang.', 'Harold', 'misery', 'environment.', '80-year-old', 'Maude', 'opposites', 'don’t', 'dropout', 'Matthew,', 'educated', 'moody', 'mutual', 'admiration', 'disillusioned', 'Swedish', 'Block', 'grips', 'Death,', 'Tormented', 'belief', 'Mia,', 'evade', 'reigning', 'teleport', '1984', 'Connor,', 'unborn', 'insurgents', 'safeguard', 'indestructible', 'bites', 'Lionel', 'races', 'Gould', 'Shaw', \"War's\", 'all-black', 'volunteer', 'scripted', 'advisor', 'old-fashioned', 'convention', 'seize', 'disdain', 'triangle', 'Stark,', 'perverse', 'kidnapping,', 'felon,', 'sentenced', 'policeman,', 'POWs', 'captors.', 'intelligence', 'officers', 'Nicholson', 'supervised', 'acquired', 'Fellini', 'mix.', 'works.', 'Gittes', 'murky', 'climate', 'Hired', 'socialite', 'extra-marital', 'swept', 'maelstrom', 'dealings', 'uncovering', 'scandals', 'crashing', 'mankind', 'fiction', 'Wise', 'exceptional', 'message.', 'C.', 'Dobbs', '1925,', 'grizzled', 'prospector', 'wilds', 'central', 'Mexico.', 'difficulties,', 'succeed', 'gold,', 'bandits,', 'elements,', 'success', 'disaster.', 'intergalactic', 'newest', 'taste', 'sensation.', 'wipe', 'Defense', 'problem.', 'residents.', 'aliens,', \"aliens'\", 'headquarters.', 'Rufus', 'T.', 'Firefly', 'bankrupt', 'declares', 'neighboring', 'ski', 'Roy.', 'attempts,', 'narrow', 'relentless', 'unbearable', 'Monique', 'slopes', 'honor.', 'Torrance', 'caretaker', 'Hotel,', 'he,', 'Wendy', 'Danny,', 'isolated', 'winter.', 'lurks', 'Hans', 'preys', 'Berlin', 'manhunt.', 'heinous', 'disruptive', 'seedy', 'underworld', 'network.', 'pursuit,', 'trail,', 'panicked', 'Ash', 'Williams', 'log', 'cabin', 'woods', 'archeologist', 'Book', 'unleashed', 'Nazis,', 'camps', 'relatively', 'Allied', 'prisoners,', 'relocates', 'high-security', 'remainder', 'Undaunted,', 'venture', 'left,', 'Jules,', 'Parisian', 'postman,', 'records', 'Cynthia', 'thugs.', 'killed,', 'slips', 'audio', 'cassette', 'narcissistic', 'weatherman,', 'cameraman,', 'report', 'Groundhog', 'repeating', 'retired,', 'widower', 'farmer.', 'support', 'sheriff.', 'Manchurian', 'brainwashed', 'communist', 'Russians', 'Arizona', 'Coast.', 'pals,', 'Hard', 'peers', 'inspiring', 'Mortimer', 'Brewster', 'hall', 'required', 'maiden', 'news,', \"aunts'\", 'burying', 'cellar.', 'Eighties', 'Marty', 'McFly', 'disrupting', 'attracting', 'interest.', 'repair', 'damage', 'rekindling', '1985.', 'Amidst', 'crisis,', 'Evelyn', 'experienced', 'hardships', 'Stop,', '1920s.', 'S.', 'tank', 'Reich.', 'faults', 'temper', 'habit', 'cell', 'Childhood', 'Tetsuo', 'Kaneda', 'survival.', 'bike', 'leader,', 'motorcycle', 'Akira.', 'ensues', 'Highlands', '1986.', 'immortal.', 'farm,', 'heavy,', \"guy's\", 'unbreakable', \"Luke's\", 'repeated', \"prison's\", 'dreaded', 'confinement', 'cell,', 'convicts', 'officers.', 'Embarrassed', 'nose,', 'neurosurgeon', 'von', 'Frankenstein.', 'funny', 'housekeeper.', 'delusional,', 'described', 'reanimation', 'experiment,', 'anthology', 'cab', 'drivers', 'eventful', 'wives', 'already,', 'castle,', 'privileges', 'hand...', 'barber', 'persecution', 'Walt', 'extravaganza', 'sight', 'See', 'pictures', 'burst', 'song', 'excitement', 'Fantasia', 'freed', 'bandits', 'jail.', 'Zinnemann.', 'over,', '\"in', 'crowd\"', 'begs', '\"Come', '1900s.', 'Becoming', 'matching', 'appreciated', 'immense', 'difference,', 'Ben-Hur', '1959', 'Lew', \"Wallace's\", 'premiered', 'Theatre', 'November', '18,', '1959.', \"movie's\", 'Roman', 'lavish', 'performances.', 'Hur', 'slavery', 'regains', 'redemption', 'Christ,', 'sense.', 'eleven', 'Awards,', 'Actor', '(Charlton', 'Heston', 'Oscars', 'sweep', 'Titanic', '1998', 'Return', '2004,', 'broken.', 'Spinal', 'shines', 'self-contained', 'metal', 'charts,', 'dates,', 'groupies,', 'hangers-on', 'moments', 'Takes', 'us', 'locations', 'technology', 'earth.', 'tone', 'images', 'Glass.', 'tomboy,', 'Watts,', 'Keith,', 'Sr.', 'Holy', 'Grail,', 'Brody,', 'Elsa', 'Schneider', 'simple-minded', 'gardener', 'D.C.', 'learned', 'television.', 'K.', 'Gandhi,', 'forsakes', 'possessions', 'independence.', 'Gandhi', 'resorting', 'bloodshed.', 'Successful', 'Tomas', 'operation,', 'Tereza,', 'occurs,', 'flee', 'Switzerland.', 'Sabina', 'Czechoslovakia.', 'Realizing', 'mistake,', 'Charlotte', 'Bartlett', 'Florence', 'rooms', 'Emerson', 'Meeting', 'Tuscany', '15-year-old', 'wiz', 'kid.', 'Supposedly', 'deadline,', 'midst', 'Killing', 'Fields', 'journalists,', 'Khmer', 'Rouge', 'takeover', 'Cambodia', '1975,', 'regime', 'toppled', 'intervening', 'ill', 'rest,', 'Starship', '4', '1957', 'Iowa', 'farmer', 'hears', 'cornfield', 'diamond.', 'does,', 'directions', 'deceased', 'robust', 'adventurers', 'primitive', 'rulers,', 'Rudyard', 'Kipling.', '1890s', 'Butch', 'Cassidy', 'affable,', 'talkative', 'Hole', 'closest', 'laconic', 'rapidly', 'Butch,', 'Sundance', 'doggedly', 'posse,', 'pursuers', 'walked', 'Until', \"Homer's\", 'Odyssey,', 'reconciliation', 'blindness,', 'user', 'brain,', 'see.', 'debate', 'ruins', 'Eleven', 'answer.', 'merging', 'rock,', 'metal,', 'innovation.', 'Building', 'roots,', 'break-out', 'bands', 'Nirvana', 'Northwest,', 'born.', 'muscle-bound', 'Thorne', 'marketing', 'fellow,', 'increases,', 'self-centered', 'shopping', 'mall,', 'donning', 'Nick.', 'opportunistic', 'Santa.', 'orphanage,', 'machinations', 'greedy,', 'temporary', 'Cornish', 'Staring', 'face,', 'carried', 'prolonged', 'adolescence', 'commitment', 'contemplate', 'Newt', 'Hicks', 'correctional', 'facility.', 'crash,', 'unwelcome', 'does.', 'allow', 'exists.', 'gift,', 'happen.', 'proudly', 'privileged', 'link', 'house...', 'Amityville', 'price,', 'fates.', 'coincidence,', 'gateway', 'replica', 'accidents', 'Keyes', '(Ross', 'strangely', 'antique', 'mirror.', 'demonic', \"mirror's\", 'frightening', 'intact,', 'Kathleen,', 'nightmare.', 'legacy', 'affects', 'ghosts,', 'insects', 'ghostly', 'apparitions.', 'Dracula', 'slimy', 'Anton,', 'welcomed', 'indebted', 'Di', 'suitors.', 'pure', 'lesbians', 'vile', 'blood', 'Marxist', 'Mario,', 'Dracula.', 'eight', 'celebrate', 'revealed,', 'reincarnation', 'Audrey', 'Rose,', 'fiery', '(Martin', 'Sheen)', 'grisly,', 'ritualistic', 'youths.', 'Daniels', 'passing', 'flirtation', 'impulse,', 'bearing', 'arrival,', 'bird', 'amok.', 'townsfolk', 'avian', 'onslaught,', 'feathered', 'fiends', 'inexplicably', 'attacking', 'Bay.', 'blob', 'refuse', 'listen', 'teenagers', 'witnessed', 'destructive', 'meantime,', 'bigger.', 'Something', 'sucked', 'sand,', 'disappearing', 'trace.', 'Where', 'live,', 'from?', 'Huffman', 'Mariana', 'Hill', 'beach,', 'buildings', 'young.', 'Edinburgh,', 'Among', 'Gray,', 'ostensibly', 'driver.', 'Gray', 'grudge', 'detection', 'punishment.', 'Harker', 'Transylvania', 'Mina', 'spitting', \"Dracula's\", 'long-dead', 'madness.', 'Bride', \"Whale's\", '1931', 'previously', 'portrayed', 'experiments.', 'creation,', 'immediately.', 'hurt', 'beat-up', 'skeptic', 'grad', 'researching', \"monster's\", 'myth.', 'Bowden', 'attorney.', 'Cady', 'tattooed,', 'psychotic', 'rapist.', 'Fourteen', 'defender', 'rape', 'hid', 'document', 'gotten', 'loss.', 'testifies', 'violate', 'law.', 'ostracized,', 'torments', 'joke', 'prom,', 'lashes', 'separation,', 'Irina', '(Nastassja', 'minister', '(Malcolm', 'McDowell),', 'erotic', 'supernatural.', 'zoologists', 'panther,', 'zoo', 'curator', 'secret:', 'cats.', 'Teenagers', 'dropping', 'grip', 'hysteria', 'suicides.', \"cop's\", '(Heather', 'traces', 'molester', 'Krueger', '(Johnny', 'devise', 'lure', 'realm', 'nightmares', 'world...', 'Vampire', 'Silent', 'Bram', 'Stoker', 'Immediately', 'Thorn', 'newborn', 'Damien', 'doesn’t', 'Peck', '1976.', 'commits', 'chased', 'employees.', 'lurking', '(Barbara', '(Lauren', 'Romantic', 'Literature', 'longs', 'Larkin', '(Jeff', 'mathematics', 'sexless', 'union', 'respect.', 'extramarital', 'student,', 'watchman', 'morgue,', 'implicate', 'cyborgs,', 'direct', 'USS', 'Enterprise', 'Borg', 'invaders', 'Federation', 'galaxy.', 'Pianist', 'critical', 'acclaim.', 'Karl', 'disabled', 'thoroughly', 'institutionalized,', 'deemed', 'Meet', 'mattress', 'Howard,', 'Turbo', 'Man,', 'Niccolò', 'variety', 'relationships.', 'triple', 'indictment', 'nonconformist', 'questionable', 'Good', 'natured', 'Reverend', 'Biggs', 'choir', 'constant', 'absence', 'deprived', 'developer', 'Hamilton.', 'desperation,', 'Dudley.', 'royal', 'backing', 'delicate', 'wit', 'Versailles.', 'centered', 'Salem', 'Massachusetts', 'trials', 'Miller.', 'adaptation.', 'Live', 'Classic.', 'litter', 'dalmatian', 'puppies', 'abducted', 'minions', 'Cruella', 'Vil,', 'diabolical', 'statement.', 'off-duty', 'gripped', 'déjà', 'vu', \"nation's\", 'capital,', 'airport,', 'travelers', 'Renegade', 'contingency', 'one:', 'heroics.', 'spotted', 'Kirk', 'resumes', 'hopefully', 'retirement,', 'assassinating', 'Chancellor', 'imprisoned.', 'aimed', 'sabotaging', 'peace.', \"Spock's\", 'diplomats', 'hijacks', 'God.', 'old;', 'prospect', 'accompanying', 'cadet', 'cruise', 'younger.', 'Khan', 'captures', 'decommissioned', 'Genesis', 'Spock', 'doomed', 'Planet,', 'signals', 'probe,', 'twentieth', 'However', 'encountered', 'galaxy!', 'defeated', 'Penguin', 'warped', 'deformed', 'Mayor', 'light.', 'Selina', 'Catwoman', 'Batman.', 'done', 'Kid,', 'deputies', 'avenge', 'benefactor.', 'authority', 'Jose', 'Chavez', 'y', 'Diamond', 'Phillips),', '(Kiefer', 'Sutherland)', 'Part', 'Old', 'trailed', 'school,', 'rekindle', 'friends?', '1961,', 'seniors', 'coolest', 'cliques', 'campus,', 'Ladies', 'branded', 'fix', 'motorcycle,', 'leather', 'rumble', 'Lady', 'Drug', 'Hatcher', '(Seagal)', 'infiltrated', 'neighborhood.', 'crosses', 'druglord', 'not-too-distant', 'lethal', 'Europe,', 'prompting', 'quarantine', 'refugee', '(Natasha', 'Henstridge)', 'Suspecting', 'infected', 'virus,', 'contagious', 'infects', 'population.', 'Missouri.', 'ex-CIA', 'battleship', \"They've\", \"ship's\", 'cook,', 'error', 'fatal.', 'Armed', 'whaler', \"Swede's\", 'party.', 'insatiable', 'shark', 'Amity', 'chief,', 'oceanographer', 'chief', 'Brody', 'citizens', 'waters.', 'biologists', 'wandered', \"Florida's\", 'Sea', 'Park.', \"shark's\", 'park.', 'lives!', 'Presidents', 'agents,', 'squabbling', \"'We\", 'Mars', 'invade', 'irresistible', 'humor.', 'films', \"'50s\", \"'60s.\", '\"Citizen', 'noticed', 'wild,', 'dissolves', 'circus.', 'agent:', 'contracts', 'clients,', 'plus', 'commission', 'doing.', 'doubts,', 'Rod', 'player.', 'Brothers', 'likable', 'unproductive', 'focal', 'kidnapping', 'memorable', 'extremes', 'versus', '1963', 'Baltimore.', 'reformed', \"'black\", 'genius,', 'conspiracy.', 'economy', 'retrieving', 'blackmailers.', 'Carolinian', 'choices', 'resolve', 'pride.', 'eldest', 'Anney', 'farther', 'apart:', 'Emmy', 'Award', '\"Outstanding', 'Miniseries', 'nominated', 'Directing', 'Special\",', 'Supporting', 'Actress', 'Made', 'Television', 'ambulance', '(Chris', \"O'Donnell)\", 'Agnes', 'blossoms,', 'Attenborough', 'directs', 'real-life', 'novelist.', 'leukemia', '20-year', 'Ghosts', 'assassin,', 'Medgar', 'hung', 'jury.', 'covers', 'Attorney,', 'transformation', 'alliance', 'Evers,', 'the,', 'participants', 'newly', 'involve', 'duo,', 'Beavis', 'maid', 'cloak', 'obedience.', 'Jeanne,', 'encourages', 'bourgeois', 'employers.', 'escalate', 'Sophie', 'Jeanne', 'wish.', 'teenagers,', 'rising,', 'colonies', '18th', 'settlers', 'Americans', 'sides.', 'Hawkeye,', 'settler', 'recieves', 'Continuing', 'Aurora', 'latter', 'struggled', 'rebellious', 'granddaughter,', 'line.', 'Hamlet,', 'Prince', 'Denmark,', 'murderer,', 'uncle.', 'brewing.', 'marriages', 'chances', 'relationship,', 'Argentinian', 'Juan', 'hated', 'Argentina.', 'Ms.', 'afraid', 'societal', 'norms.', 'Impressed', 'fatally', 'Suddenly', 'independent,', 'Isabelle', 'befriending', 'romancing', 'extent', 'Under', 'pretense', 'geologist', 'outback', 'city-bred', 'underscores', 'bathroom', 'Harlan', 'Regis', 'Service,', 'Nina', 'tensions', 'elaborate', 'cover-up.', 'culprit.', 'Rollo', 'Zoo,', 'tycoon.', 'open,', 'enforces', 'policy,', 'whereby', 'zoo.', 'keepers', 'enthusiastic', 'demands.', 'biologist', 'annoyed', 'stows', 'Terry,', 'bike.', 'convicts,', 'Weaver', 'plane.', 'Weaver,', 'attendant', 'Teri', 'Halloran', 'traffic', 'plane,', 'terrorize', 'Jackie', 'Chan', 'reprises', '(also', 'versions', 'Interpol', 'appear', 'pawn', 'organisation', 'intelligence.', 'Haru,', 'washes', 'ashore', 'legend.', 'finest', 'Ninjas,', 'Haru', 'big.', 'rolled', 'embarrassment', 'clan.', 'pleads', 'dangerous,', 'disastrously', 'negotiator', 'robber', 'blown', 'bars.', 'Sue', 'Aware', 'account', 'self-sufficient', 'authorities.', 'older,', 'children)', 'dressing', 'confiding', 'diary,', 'meanwhile', \"Julie's\", 'beau,', 'Derek,', 'unearth', 'Jack.', 'Dalton', \"Dante's\", 'Peak', 'dormant', 'volcano', 'eruption', 'hits,', 'immediately,', 'mayor', 'catastrophic', 'L.', 'urbanite', 'burglar.', 'Coleman)', 'publicity', 'Amos', '(Nicolas', 'Cage)', 'Buster', 'true-life', 'Dean', 'charismatic,', 'defied', 'rules,', 'smashed', 'Retired', 'Commander', 'Quinton', 'McHale', 'Caribbean', 'cream,', 'Moreno', 'silo', 'B.', 'sank', 'Czech', 'Republic', 'Jan', 'emigrant', 'responsibility', 'it’s', 'communication', 'barrier', 'members.', 'kick', 'habits', 'enroll', 'detox', 'program.', 'hampered', 'tape,', 'police.', 'Corky', 'Clair', '150th', 'anniversary,', 'mockumentary', 'Tolstoy,', 'Sacha', 'ambushed', 'Muslim', 'forbidding', 'prisoner.', 'fully', 'emerges,', 'ordeal', 'cultures.', 'beautician', 'Eastern', 'adults.', 'Latino', 'Vargas', 'owes', 'considerable', 'debt.', 'Gustav', 'racist', 'night,', 'Whitman', '(Matthew', 'designer', 'supervise', 'construction', 'build.', 'straight-laced', 'Fuentes', 'Mexican-American', 'photographer.', 'eyes.', 'Clint', 'Eastwood', 'rounds', 'victim.', 'Patti', 'enforcement', 'Griswold', 'typically', 'Vegas.', \"bride's\", 'reception', 'upsetting', 'enigmatic', 'surveillance,', 'gangsters,', 'cell.', 'lie,', 'vigilantes', 'slay', '1923.', 'identifying', 'expense', 'Rushon', 'pent-up', 'level', 'brash', 'transitions', 'bedroom,', 'surely', 'swears', 'lunatic', 'stole.', 'Uptight', 'executive,', 'Cromwell,', 'Brazil.', '13-year-old', 'place.', 'Tara', 'Maya', 'inseparable', 'India.', 'tastes,', 'habits,', 'same.', 'prince,', 'Raj', 'Singh,', 'succeeds', 'heir.', 'satisfy', 'needs.', 'instantly', 'included', 'intact.', 'Darius', 'Moseley,', 'thing\"', 'sex.', 'strength', 'motion.', 'Ivan', 'Moscow', 'Templar,', 'criminal,', 'formula', 'Russell.', 'Templar', 'outwit', 'guerrillas,', 'Smilla', 'expeditions', 'Greenland.', 'Scenes', 'Copenhagen', 'entered', 'Festival,', 'Bille', 'chips', \"Ireland's\", 'FIFA', 'strained', 'behaves', 'sub-culture', 'produce', 'rejuvenate', 'Eliza', 'great,', 'Concerned,', 'advice.', \"Jo's\", 'pile', 'wagon,', 'letter.', 'explore', 'Fletcher', 'fast-talking', 'habitual', 'liar.', 'candles', 'lying', '24', 'true,', 'mouth', 'biographical', 'Selena', 'Quintanilla', 'guitarist,', 'Perez,', 'Seeking', 'mainstream', 'stardom,', 'English-language', 'album', 'which,', 'complete.', 'Frankie', 'assassins,', 'terrorism.', 'weapons,', 'housed', \"Frankie's\", \"Tom's\", 'suspicions,', 'cat,', 'obstacles', 'Georgia', 'hair', 'happiness,', 'swank', 'hills', 'Anything', '\"Black', 'releasing', 'volcanic', 'imprisonment', 'victory', 'Tolstoy.', 'one-man', 'voltage', \"Don't\", \"You're\", 'counter-terrorist', 'Jacey', 'poorer', 'vie', 'wealthy,', 'Abbott', 'sisters.', 'alternates', 'Eleanor', 'Alice,', 'wanting', 'frown', 'upon.', 'hunter,', 'largest', 'snake.', 'Blank', 'attends', '10th', 'Grosse', 'Pointe,', 'Michigan.', \"child's\", 'ideals', 'blossom', 'profound', '(Joe', 'severed', 'permanently', 'picture.', 'switched', 'duffel', 'contains.', 'Paradise', 'Road', '1997', 'English,', 'American,', 'Beresford', 'Adrienne', '(based', 'Rosemary', 'Cate', 'McCarthy', 'Roberts.', 'vocal', \"survivors'\", 'extolling', 'hardship', 'atrocity', 'perseverance,', 'solidarity', 'subculture', 'youth,', 'music,', 'meaningless', 'reinvent', 'reunion.', 'borrowed', 'Jaguar,', 'clothes', 'inventors', 'Post-It', 'Romy', 'Michele', 'alma', 'façade', 'quickly.', 'earthquake', 'shatters', 'fissure', 'lava', 'forming', 'management', 'Barnes,', 'resource', 'consuming', \"swingin'\", 'groovy', 'Austin', 'shagadelic', 'megalomaniac', 'Evil', 'villain', 'Kensington,', 'might.', 'SUV', 'Southwestern', 'hitch', 'trucker', 'help.', 'return,', 'fixes', 'Amy.', 'Johnathan', \"Jeff's\", 'Lembecke', 'Vago', '(Rod', 'warehouse,', 'boyfriends,', 'refuses.', 'Dale,', 'Scott.', 'chase,', 'unintentionally', 'ensure', 'humanity.', 'writer-director', 'Gregg', 'Described', 'lead.', 'François,', 'carpenter,', 'happy,', 'uncomplicated', 'Thérèse', 'Emilie,', 'office.', 'ballroom', 'studio.', 'dancing.', 'meanwhile,', 'started', 'smelling', 'perfume.', 'Jeremy', '\"Lewis', 'unruly', 'Swansea', 'caravan', 'Fatty,', 'kingpin', 'vain', 'compensation.', 'terror,', 'policemen', 'ill-equipped', 'Cartwright.', 'Good-natured', 'astronomer', 'Linda,', 'suave', 'Frenchman', 'opposite', \"ex-girlfriend's\", 'Yorkshire', 'Band', 'competition.', 'Gloria', 'win.', 'Jurassic', \"Park's\", 'genetically', 'bred', 'amok,', 'multimillionaire', 'Hammond', 'shocks', 'Malcolm', 'breeding', 'beasties', 'location.', 'Malcolm,', 'paleontologist', 'wildlife', 'behavior', 'thriller.', 'four-year-old', 'award-winning', 'Ponette', 'accident;', 'survives,', 'not.', 'reacts', 'careless', 'driving,', 'Claire', '(Claire', 'comfort', 'resurrection.', 'reassure', 'clarify', 'practical', 'realities', 'dilemma', 'posed', 'Delphine', 'Deming,', 'Rovi', 'self-help', 'beagle', 'Preston', 'belongs', 'Judd', 'hunter.', 'Shiloh', 'Knowing', 'shed', 'hill', 'develop.', 'gorilla', 'rotten', 'creepy', 'Cyrus', 'Cameron', \"who'd\", 'paints', 'reads', 'papers,', 'Sandra', 'Patric', 'terror', '(Willem', 'Dafoe)', 'Batgirl,', 'dual', 'frosty', 'Freeze', 'horticulturalist', 'Poison', 'ice,', 'Ivy', 'wedge', 'dynamic', 'duo.', 'Judge', '(Harvey', 'Keitel)', 'Nathalie', 'Diaz),', 'Lance', '(Craig', 'Kent', '(Billy', 'unravel,', 'strength,', 'Hercules', 'Zeus.', 'Pegasus,', 'Phil,', 'trainer,', 'tricked', 'hilarious,', 'hotheaded', 'Hades,', 'plotting', 'Mount', 'Olympus!', 'word', 'Kimberly', 'Wallace,', 'Julianne', 'sabotage', 'II:', 'Body', 'Hammer', '1992', 'Shinya', 'reworking', \"director's\", 'Tetsuo:', 'themes', 'transforming', 'weapon', 'received', \"Critic's\", 'Fantastic', 'February', '1992.', 'Chloe', 'Parisian,', 'long-overdue', 'cat.', 'Everyone,', 'roommate,', 'arrangement', 'Renée', 'watches', \"peoples'\", 'dogs.', 'lost,', 'unlucky', 'dear', 'colorful', 'populate', 'Screenwriter', 'Camille', 'disintegrates', 'producer.', 'knife', 'likeness', 'surgery', \"agent's\", 'Men', 'exploits', 'Jay,', 'organization', 'established', 'activity', 'arrived', 'ambassadors', 'opposing', 'worlds', 'destruction', 'cons', 'Herb', 'Lemmon)', 'luscious', 'Marshall,', 'portraying', 'alligators,', 'Murray', '8-year-old', 'fulfil', 'Oliver,', 'musical.', \"Murray's\", 'fairies', 'Boots.', 'Sagan', 'starred', 'Jodie', 'beliefs,', 'reality.', 'enrolling', 'Team', 'fail.', 'sword', 'sorcery', 'Conan', 'horde', 'massacre', 'Wheel', 'Pain.', 'massacre,', 'taught', 'fighting.', 'Doom,', 'wilderness,', 'Valeria', 'Doom', 'hills.', 'Baby', 'jungle,', 'stayed', 'ape.', 'Ursula', 'safari', 'grown-up', 'George,', 'relationships,', \"Ursula's\", 'USA.', 'populated', 'he’s', 'town’s', 'facade.', 'massive,', 'idols', 'upholding', 'starship', '7', 'terrifying.', 'colleagues', 'agency,', 'Simmons', '(Michael', 'Jai', 'devil', 'resurrected', 'Wanda', '(Theresa', \"Hell's\", 'amazing', 'Josh', 'Washington.', 'court,', 'runaway', 'retriever', 'Buddy.', 'amazed', 'Buddy', 'Mascot.', \"Buddy's\", 'attention.', 'Norm', 'celebrity,', 'separated.', 'avowed', 'emotionally', 'wounded', 'innocent,', 'ruining', 'Jesse,', '16,', 'Randolph', 'Drew.', 'Wesley', 'gut', 'reunites', 'said', 'goodbye', 'theories', 'compatible', 'marrow', 'donor', 'gravely', 'McCabe', 'freedom.', \"McCabe's\", 'battleground', 'ironically,', 'Justice.', 'Safe', 'Irons', 'reject', 'Nelson)', 'hands.', 'Helped', 'imaginative', 'scrap', '(Richard', 'Steel.', 'Wearing', 'wielding', 'fearsome', 'wage', 'untimely', 'glitches', 'untested', 'gear.', '\"You', 'cool', 'good-guy', 'Maureen', 'bruised,', 'paramedic', 'Ten', '1934,', 'lucrative', 'When,', 'Madam', 'Queen,', 'scam', 'Harlem,', 'arrested.', 'resist', 'merciless', 'all-American', 'Ohio', 'June,', 'teen-age', 'Theodore.', 'please', 'classmate', 'Karen,', 'common', 'cockroaches', 'breed', 'fluid', 'engineered', 'species', 'mimic', 'form.', 'Money', 'Talks', 'Brett', 'fakes', 'trunk', 'barbarian', 'Kull', 'ruler', 'heirs', 'topple', 'throne,', 'Akivasha', 'lords', 'breath', 'sacrifice', 'uphold', 'stabbing', 'Trevor', 'Garfield', 'administration', 'mad.', 'sub', 'tracked', 'analyst,', 'Ryan,', 'brass', 'intend', 'Waters', 'afflicted', 'mayor.', 'Portland,', 'Oregon', 'Idaho', \"Mike's\", 'benefactor', 'midwestern', 'questions', 'sexuality', 'comment', 'Awards.', 'crashes', 'Alaskan', 'wilderness.', 'passengers,', 'civilization.', 'Robert,', 'seeing', 'atomic', 'Union,', 'Assigned', 'bombs', 'Special', 'Forces', 'Colonel.', 'differing', 'shotgun', 'slayings', 'patrons', 'all-night', 'diner.', 'Heinrich', 'Harrer', 'journeys', 'Himalayas', '1939.', \"forces'\", 'detainee', '14-year-old', 'Dalai', 'transforms', 'outlook', 'Forensic', 'Cross', 'Carolina', 'abducts', 'submit', 'psychopath', 'Mama', \"Joe's\", 'P.', 'Hall)', 'sour', '(Vanessa', 'Bird', 'Long)', 'Maxine', 'Fox)', 'strikes,', 'Ahmad', '(Brandon', 'gatherings.', 'P', 'Djinn', 'thereby', 'freeing', 'husbands,', 'subdue', 'stories.', 'honor', 'birthday,', 'Conrad', 'certificate', 'consumed', 'ever-changing', 'distinguish', 'charade', 'begins.', 'Martial', 'Seagal', 'Taggart,', 'EPA', 'representative', 'Appalachian', 'community,', 'Taggart', 'handyman', 'relief', 'happened.', \"Bobby's\", 'Later,', 'McGlory,', 'ancestry', 'vote.', 'festival,', 'first-hand.', 'Carlos', 'Sanchez', \"Carlos'\", 'dedicated', 'Ramirez', 'beekeeper', 'daughter-in-law', 'thanksgiving', '1973', 'reels', 'drink,', 'Elena,', 'reading', 'patience', 'holidays,', 'alluring', 'roams', 'innocently', 'liquor', 'lingerie', \"friends'\", 'artists.', 'Sheffield,', 'England.', 'mates', 'bare', 'show.', 'Victoria', 'public.', 'adores', 'caress', 'scandalous', 'likely', 'monarchy', 'crisis.', 'hit-and-run', 'pedestrian', 'dispose', 'secret,', 'warning', '\"I', 'Know', 'You', 'Did', 'Last', 'Lucifer', 'Z.', 'geeky', 'obnoxious', 'designer,', 'manned', 'Stripped', 'license', 'Eugene', 'Sands', 'crossing', 'paths', \"Raymond's\", 'associates', \"boss's\", 'anxiously', 'awaiting', 'Thanksgiving,', 'fiance.', \"Kennedy's\", 'compared', 'Science', 'indefinite', 'depending', 'Freeman', '1917', 'photograph,', 'scientific', 'fairies.', 'Colorado', 'Yanko', 'hungry', 'shipwreck,', 'follows.', 'angels,', \"O'Reilly\", 'Jackson,', 'Celine,', 'spoiled', 'misunderstanding,', 'janitor', 'Robert.', 'Celine', 'frees', 'herself,', 'stays', 'thrills.', 'pursue,', '1962', 'Louisiana.', 'Louis.', 'Roz,', 'weakness', 'patients.', 'flirting', 'observed', 'Lies', 'roll...', 'Dennis', 'Quaid', 'dealers,', 'smoothly', 'Winger,', 'sad', 'sack', '30s,', 'Bean', \"Britain's\", 'formidable', 'USA,', 'gallery', 'instead,', '(called', 'Hugo', 'Pool', 'cleaner', 'gunpoint', 'Carlyle', 'directing', 'commercials', 'Charlie,', 'diagnosed', 'repeat', 'run-ins', 'infidelity', 'journalists', 'zone', 'sniper', 'mortar', 'live.', 'reporting', 'Braxton', 'Wayland', 'questioning,', 'troubles,', 'manipulation,', 'investigators,', 'Baylor', 'chaser,', 'terminally', '(represented', 'Jon', 'Voight).', 'scrappy', '(Danny', 'DeVito)', 'pleasure', 'booming,', 'Horner', 'craft', 'Adams,', 'busboy', 'nightclub,', 'welcomes', \"Adams'\", 'entertainer', 'ego,', 'disco', 'stop,', 'collide', 'cold,', 'restroom', 'station,', 'taciturn', 'forges', 'Rico', 'Mobile', 'chinese', 'mothers', 'feudal', 'mother/daughter', 'surfer', 'Helen,', 'effortlessly', 'parallel', 'Love.', 'entanglements.', 'forth,', 'surprisingly', 'heroic', '\"Mortal', 'human,', 'god,', 'Sequel', 'Truman', '\"reality\"', 'broadcasts', 'aspect', 'knowledge.', 'unending', 'soap', 'consumption', 'betrothed', 'journalist,', 'approve', \"Kate's\", 'degenerate', 'opium', 'addict.', 'Millie', 'perfectionist', 'Jackal', 'down:', 'deputy', 'terrorist.', 'retells', \"Russia's\", 'Rasputin', 'Anastasia', 'Empress', 'Maria,', 'reward', 'granddaughter.', 'Paris,', 'empress', 'audience', 'participation', 'unravels', 'hundred', 'Lt.', 'died,', 'clone', 'weapon.', 'reaching', 'Cuba', 'Cinque', 'unprecedented', 'uprising.', 'Connecticut,', 'heated', 'Freed', 'Theodore', 'exonerated', 'Baldwin', 'Quincy', 'ally.', 'spins', 'radio.', 'tryst', 'concentration', 'gays', 'lowest', 'being.', 'Francie', 'playful,', 'violent,', 'depressive,', \"Francie's\", 'madness,', 'insanity,', 'Block,', 'Allen', 'result.', 'Phillip', 'absent', 'minded', 'source', 'Medfield', 'College', 'sweetheart', 'president.', 'missed', 'twice,', 'afternoon', 'Brainard', 'air.', 'Brad', 'Caroline,', 'Yorkers', 'marital', 'issue', 'embezzled', 'pinned', 'lam,', 'Caroline', 'IRS.', 'reconnect.', 'Hunting', 'genius-level', 'MIT.', 'math', 'talents', 'Gerald', 'potential.', 'Lambeau', 'leniency', '9-year-old', 'Pruitt', 'chicken', 'Turns', 'mix-up', 'spies,', 'toy', 'concealing', \"reporter's\", 'millionaire,', 'Lars', 'millions.', 'single,', 'tenacious', 'mouse.', 'quench', 'basement,', 'co-workers.', 'occurred', 'Windsor', 'Cincinnati,', \"Sidney's\", 'big-city', \"victims'\", 'reckon', 'damage.', '84', 'Brock', 'April', '1912,', 'boards', 'departing', 'passengers', 'Dawson', 'Fabrizio', 'Rossi', 'explains', 'departure', '1912', 'mogul', 'staging', 'incidents', 'pit', 'superpowers', '007', 'mastermind', 'adrenaline-charged', 'pandemonium.', '2013', 'tomorrow,', 'scattered', 'Into', 'apocalyptic', 'wasteland', 'Evans,', 'Redford', 'meditative', 'cowboy', 'healing.', 'smuggling', 'gunrunner', 'hatches', \"Leonard's\", 'refer', 'Lama', 'enforced', 'since.', 'eyesight,', 'Lebowski,', 'bowl', 'Russians,', 'wheelchair-bound', 'dragged', 'producers,', 'errant', 'toes,', 'sums', 'generally', 'Loosely', '\"Great', 'Expectations\"', 'individuals', 'undeniably', 'interactions', 'vivid', 'Rocky,', 'Colt', 'Tum', 'Mega', 'ninjas', 'Medusa,', 'ransom.', 'Kids', 'Dragon,', 'farewell', \"Medusa's\", 'Firefighter', 'Graves', 'ornithologist', 'Shaye,', 'firefighters', 'loot.', 'senses', 'drug.', 'option.', 'presidential', 'distract', 'election,', \"President's\", 'adviser', 'remember,', 'nightmarish', 'sun', 'beings', 'souls', 'humans.', 'Shy', 'Spencer', \"Griffith's\", 'meteor', 'junkyard', 'Cybersuit', '(Christian', '(led', 'ravages', 'Rain', '\"a', 'thrilling,', 'chilling', 'calls,', 'uncertain', 'heart-stopping', 'lovable', 'buds', 'plan,', 'Homicide', 'Hobbes', 'Edgar', 'killings', 'style.', '(Dan', 'Townsend)', 'unwitting', '(Kate', 'despises', 'cool,', 'improper', 'colleague,', 'affections.', 'Against', 'sordid', 'Fernando,', 'César', 'Brazilian', 'dictatorial', 'sixties.', 'Cesare,', 'Brazil', 'Spice', 'Girls', 'entourage', '(mostly', 'characters)', 'Deborah,', 'Piers', 'heavily', 'Ocean', 'Music', 'Another', 'labor.', 'Twenty-five', 'Swann', 'match.', 'Anna,', 'blind,', 'messed', 'poignant', 'nursed', 'narrative', 'thread', 'woven', 'cottage.', 'Chinatown', 'Terence', 'Wei', 'Stan', 'sights,', 'conscience', 'spares', 'Meg', 'replacement', 'wistful', 'introvert', 'Furnace', 'quick-witted', 'Beatrice,', \"London's\", 'chivalrous', 'reform.', 'crime,', 'Neville', 'haunt', 'step.', 'tabloid', 'crusade', 'hitting', 're-unite', 'subway.', 'Tajuki', 'boxer.', 'Tsuda', 'altercation,', 'rigorously', 'bloody,', 'confrontation.', 'Robbie,', 'Glenn.', 'Robbie', 'anybody', 'thought.', '300', 'bottom', 'ocean.', 'depths', 'best,', 'smart', 'spacecraft.', 'Melvin', 'obsessive-compulsive', 'hospitalized', 'entrusted', 'addition,', 'breakfast.', 'distribute', 'profits', 'operations', \"York's\", 'lower', 'stylish', 'ultra', \"actress'\", 'Gerard', 'load', 'Sheridan', 'Security', 'Royce', 'recapture', 'Sheridan,', 'Giles', 'dashed', 'plague', 'diverse', 'emigrate', 'barber,', 'Abel,', 'Alma,', 'affairs', 'ascends', 'Mt.', 'Everest', '1996.', 'depicts', 'preparations', 'summit,', 'Base', 'Camp.', 'faced,', 'avalanches,', 'oxygen,', 'treacherous', 'walls,', \"Jackson's\", 'Martha,', 'estate.', 'Martha', 'smile,', 'strangely.', 'divide', 'Walken', '(Sean', 'Jay', 'Thomas)', '$2', 'games,', 'wondering', 'Musketeers,', 'Aramis,', 'Porthos,', \"D'Artagnan.\", 'Philippe,', 'imprisoned,', 'Musketeers', 'abduct', 'Newton', 'oldest', 'Willis,', 'fields', 'robbers.', 'agrees.', 'robbers,', 'execute', 'history.', 'Suzie', 'Toller', 'accuse', '(Dillon)', 'suspended', 'rejected', 'conspiracy,', 'seems...', 'parrot', 'talks,', 'institute', 'correctly', 'Paulie', 'widow,', 'difficulties.', 'depression,', 'decisions.', 'best-selling', 'à', 'House,', 'Burton', 'oversee', 'Governor', 'Stanton.', \"politician's\", 'Stanton', 'wandering', 'downfall', 'contends', 'feel-good', 'laughter,', 'thoughtful', 'questions.', 'concerned', '5th', 'two-timing', \"she'd\", 'dismay', 'Yellowstone', 'rangers', 'laborers', 'Northern', 'marijuana', 'plantation', 'move.', 'Diana', 'education.', 'store,', \"gentlemen's\", 'Club,', 'Moore', 'corporations', 'product', 'unemployed,', 'jobs,', 'companies', 'prospects', 'Robinsons', 'launched', 'colonize', 'Alpha', 'stowaway', 'sabotages', 'hurtling', 'uncharted', 'space.', 'autistic', \"government's\", 'code.', 'tempted', 'betray', 'that.', 'guardian', 'invisibly', 'surgeon,', 'trading', 'pure,', 'otherworldly', 'beloved.', 'spanning', 'heaven', '1980s', 'Felix', \"Oscar's\", \"Felix's\", 'Romania,', 'movies.', \"player's\", 'shorter', 'sentence.', 'Savannah', 'Magruder', 'defending', 'catering', 'Mallory', 'Doss,', 'drinks,', 'stand.', 'Dixon,', 'begun', 'Mallory,', 'Dixon', 'belligerent', 'ex-husband,', 'testify', 'escapes,', 'putting', 'conspired', 'dubbed', 'aquarium', 'scorned', 'ex-convict', 'Daryl', 'Zero', 'investigator.', 'Arlo', 'puzzles.', 'investigator,', 'crazy.', 'blackmailing', 'why.', 'Raymond,', 'Val', 'district.', 'addict', 'person,', 'Clock', 'normal-sized', 'granting', 'demolish', 'apartments.', 'move,', 'Clocks', 'exposed', '(David', 'commitment-phobic', '(Jason', 'neurotic', 'novelist,', 'childhood.', 'interests,', 'weeks.', 'Still,', 'sleep', 'test.', 'interest,', 'Sam,', 'squandering', 'grant', 'despondent', 'anthropologist', 'heretofore', 'undiscovered', 'Guinea', 'makeup,', 'staged', 'rituals', 'transform', 'enthrall', 'spiteful', 'rocker', 'Kurt', \"Cobain's\", 'documentary.', 'Broomfield', 'Portraits', 'slight', 'Kurt,', 'embarrassed', 'fame,', 'hooked', 'Courtney,', 'dramatic,', 'controlling,', 'groupie', '(Catherine', 'Keener)', 'handle', 'fulfillment', '(Daryl', 'gangs', 'Badii', 'demise.', 'Driving', 'well-to-do', 'people,', 'committing', 'suicide.', 'Katadreuffe', 'neglected', 'ensures', 'Mostly', 'unseen,', 'sues', 'succeeds,', 'costs.', 'Mars,', 'Ross', 'procreate', 'women!', 'deaths', 'offspring,', 'Press', 'clone,', 'mate', 'Ross.', 'behest', 'Dorn', 'Cantrell', 'plate', 'skipper', 'motive', 'generate', 'Triple', 'Smiley', 'scammed', 'cutthroat', 'mogul,', 'naturally', \"That's\", 'goddaughter', 'bullets,', 'Valjean,', 'bread,', 'Javert.', 'consumes', 'Valjean', 'revolutions', 'Iris', 'temp', 'Global', 'obliterate', 'tough-as-nails', 'joint', 'comet', 'impact.', 'enterprising', 'smarts', 'scoop', 'affluent,', 'gated', 'indiscriminately', 'husbands', '21-year-old', 'outsider', 'mows', 'quietly', 'hypocrisies', 'Devon,', 'complicated.', 'Kayley', 'brave', 'freighter', 'Ocean,', 'Niko', 'Elsie', 'Craven', 'concludes', 'reptile', 'lizard', 'Manhattan,', 'reach.', 'Square', 'affecting', 'rhythms', 'hip-hop', 'culture.', 'hallucinogenic', 'sportswriter', 'Raoul', 'Duke', 'Samoan', 'Gonzo,', 'three-day', 'romp', 'Mojave', 'Sin', 'purple', 'haze', 'cornucopia', 'ranging', 'acid', '16-year-old', 'half-brother', 'explorers', 'Northwest', 'hopeless,', 'Birdee', 'Connie,', 'faced', 'acquaintances', 'thrilled', 'feet,', 'Detectives', 'midnight', 'Norway', 'homicide,', 'awry,', \"Erik's\", 'fugitive.', 'mounting', 'omnipresent', 'insomnia', 'minds', 'confessed', 'Millionaire', 'industrialist', 'most:', 'fidelity', 'hugely', 'treasured', 'Beyond', 'Silence', 'girl’s', 'deaf', 'translate', 'language', 'Quinn,', 'Pacific,', 'editor,', 'Tahiti,', 'crashes.', 'pirates', 'heads.', 'graduation', 'Huntington', 'High,', 'either.', 'nerds', 'studs,', 'humiliated,', 'freshman', 'crushes', 'intern', 'drug-addicted', 'photographer,', 'careers,', 'shoes,', 'awaits...', 'standards', 'click', 'dump', 'best.', 'bum', 'tomboyish', 'invading', 'Huns.', 'Mulan', 'Li', 'Mulder', \"FBI's\", 'X', 'cases,', 'elements', 'colonization', 'physician', 'Dolittle', '(Eddie', 'suppressed', 'possessed', 'reawakened', 'distance', 'advice,', 'smooth', 'bends', 'guys.', 'Variety', 'hails', 'Out', 'sly,', 'sexy,', '1900s,', 'Miranda', \"Valentine's\", 'Day,', 'headmistress', 'picnic', 'scenic', 'Hanging', 'Rock.', 'faculty', 'mysteriously.', 'reservation,', 'glasses', 'no-one', 'hear.', \"Arnold's\", 'moment,', 'Layla', 'marry.', 'asteroid', 'NASA', 'drill', 'detonate', 'helm', 'cocksure', 'A.J.', 'otherwise.', 'combustible', 'installment,', 'Riggs', 'Murtaugh', 'Wah', 'Sing', 'neck', 'counterfeit', 'currency.', 'gumshoe', 'aim', 'twelve', 'smallest', 'shine', 'Madeline,', 'heroine', 'schoolgirl', 'classmates.', 'enhance', 'figures,', 'programming', 'seriously.', 'Darren', 'mathematical', 'Maximilian', 'predict', 'prom', 'suitors', 'sleazy', 'California,', 'grieves', 'dies.', 'Eros', 'resurrect', 'Clay', 'Johnson)', 'couple.', 'universe.', 'lieutenant,', 'pilot,', 'Corps', 'aces', 'Devoted', '(Clara', 'struck', 'Queenie', 'vaudeville', 'act,', 'Broadway,', 'Francis', 'shows.', 'Harriet,', 'courted', 'Jock', 'recognizes,', 'toy,', 'conceived', 'signing', 'Oklahoma', 'territory', 'restless', 'Cravat', 'newspaperman,', 'else,', 'citizen', 'boom', 'Strip,', 'behind.', 'Sabra', 'posh', 'worry,', 'scandal,', 'cavalcade', \"Year's\", '1899', 'Londoners', 'Amongst', 'touching', 'Boer', 'Victoria,', 'sinking', 'successfully', 'Bligh', 'HMS', 'hell', 'avenging', 'Flo', 'Kirby,', 'strongly', 'disapprove', 'acquainted', 'in-laws,', 'hoped.', 'atmosphere,', 'sentimental', 'view', \"miners'\", '1939', 'Youthful', 'Chuck', 'colourful', 'sports,', 'song,', 'clergy.', 'parish', \"O'Malley's\", 'direction,', 'conventional', 'Parish', '(Barry', 'alcoholic,', 'sober', 'craving', 'Evading', 'four-day', 'veterans,', 'arrived.', 'loveless', 'marriage;', 'Sergeant', 'him;', 'Homer', 'Parrish', 'world?', 'Or', 'past?', 'Jew', 'Actor,', 'Hamlet', 'compelling', 'Shakespeare’s', 'Olivier', 'melancholy', 'Dane', 'breathes', 'words', 'world’s', 'Willie', 'seat', \"governor's\", 'profitable', 'Sebastian,', 'trapeze', 'spot.', 'Sebastian', 'duel', 'ground.', '1941', 'cruelly', 'punished', \"captain's\", 'tending', 'pigeons', 'union.', \"Johnny's\", 'thugs,', 'Barry,', 'dock', 'Marty,', 'unmarried', 'resigned', 'Clara,', 'realising', 'connection,', 'slums', 'Jets', 'Puerto', 'Tensions', 'Tom.', 'classes.', 'love?', 'Seasons', 'VIII', 'illegal.', 'award', '1966.', 'Musical', 'Artful', 'Dodger', 'trained', 'pickpockets', 'Fagin.', 'sickly', 'Tough', 'narcotics', 'Creed', 'stunt,', 'handlers', 'Rocky', 'Balboa,', 'uneducated', 'collector', 'shark.', 'break.', 'Kramer', 'Joanna', 'anymore,', 'tasks', 'housekeeping', 'Billy.', 'Beth,', 'Calvin,', 'attempt.', 'therapy.', 'preferred', 'Conrad.', 'athletes', '1924', 'Olympics.', 'march', \"Emma's\", 'reasons', 'joy.', \"Aurora's\", 'interludes', 'Danish', 'autobiographical', '1937.', 'Pu', 'lofty', 'brief', 'Forbidden', 'decline', 'dissolute', 'exploitation', 'Japanese,', 'obscure', 'peasant', \"People's\", 'Republic.', 'yuppie', \"Babbitt's\", 'savant', 'Daisy', 'colored', 'chauffeur', '25', 'shunned', 'Alfred', 'acclaimed', 'Bree', 'Daniel,', 'enmeshed', 'Klute', 'outlandish', 'revolving', 'sparkling', 'man’s', 'City’s', 'deft,', 'hilariously', 'highbrow', 'observations', 'nomination', 'Original', 'anxiety.', 'Frustrated', 'babysitting', 'active', 'summons', 'stepbrother', 'Toby', 'Goblin', 'students,', 'stereotypes,', 'pour', 'Elm', 'Street,', 'possess', 'victim,', 'face-to-face', 'sadistic,', 'up;', 'Too', 'herald', \"kids'\", 'Dream', 'demise,', 'wills', 'Alice.', 'domain.', 'Nightmare', 'taunting', '\"born', 'safe', 'sleep,', 'sixth', 'films,', 'nightmares,', 'counselors', 'assailant', 'reopen', 'bloodbath', 'Lake,', 'Voorhees', 'demented', 'site,', 'ignoring', 'Ginny.', 'unspeakable', 'Ignoring', \"Lake's\", 'maniacal', 'stalks', 'turn.', 'Lake', 'pronounced', 'revived,', 'slaughtering', 'began.', 'addition', 'terrified', 'masks', 'horrifying,', 'Has', 'maniac', 'mayhem.', 'gory', 'secluded', 'halfway', 'spiral', 'rises,', 'wonder', 'most.', 'Jason.', 'isn’t', 'dig', 'cremate', 'seriously', 'ruthlessly', 'about.', 'possesses', 'telekinesis,', 'watery', 'grave,', 'igniting', 'showdown', 'matter.', 'trouble,', 'Vorhees', 'damned.', 'maze', \"Manhattan's\", 'subways', 'sewers,', 'institutionalized', 'bookish', 'Laurie', 'bullet', 'Loomis,', 'followed', 'Memorial', 'Hospital,', 'admitted', 'suited', 'cuts,', 'stabs', 'slashes', \"Ellie's\", \"company's\", 'darker', 'roots', 'Myers,', 'franchise.', 'Jamie,', 'loose,', 'Presumed', 'shoot-out', 'Jamie.', 'stepmother', 'tree.', 'slasher', 'teased', 'guilt-ridden', 'notably', 'Kim', '(Jamie', \"High's\", 'Prom', '1957,', 'Maloney', 'jilted', 'principle', 'Vicki', 'Carpenter.', 'basement.', 'Lou,', 'fifties,', 'hallways', 'School,', 'escort', 'Alex,', 'form,', 'graduating', 'smaller', 'Carrying', 'tradition,', 'car,', 'interrupted', 'Jonas,', 'chapel', 'fathers', 'drugged.', 'hideout', 'doll', \"Chuckie's\", 'possessing', 'Pals', 'Toy', 're-release', 'Guys', 'line,', 'Freeling', 'Diane,', 'Anne,', 'houses', 'occurrences,', 'furniture', 'truly', 'haunts', 'parapsychologists', \"Diane's\", 'abduction', 'Beast.', 'Beast', 'apparition', 'Kane,', 'followers.', 'angelic', 'terrorises', 'achieve', 'him?', 'Regan', 'MacNeil', 'explicit', 'superstition', 'hope:', 'faith.', 'Bizarre', 'exorcism.', 'returned?', 'Vatican', 'III', 'F.', 'investigating', 'baffling', 'hallmarks', 'Gemini,', 'catatonic', 'speak,', 'murders,', 'bears', 'resemblance', 'partnered', 'unhinged', 'unnecessary', 'partners,', 'immunity', 'plants', 'toilet,', 'round', 'high-stakes', 'Lorna', 'internal', 'sergeant', 'Christmas,', 'sweethearts', 'Apple,', 'high-tech', 'devilish', 'laboratory', 'altered', 'Mikey', 'Walsh', 'attic.', 'Hoping', 'demolition,', 'Data', 'Wang,', 'Cohen,', 'Mouth', 'Devereaux', 'stash', 'Pirate', 'la', 'Vega', 'oppression', 'Alejandro', 'successor,', 'Rafael', 'robbed', '(she', 'children).', 'pressed', 'overpopulated', 'divided', 'planners,', 'prophet', 'predicts', 'savior', 'mediate', '1985', 'blockbuster', 'time-traveling', '2015', 'woes', 'bud.', 'Biff', 'pesky', 'straight,', '1955', 'Future', 'digging', 'trusty', 'schoolteacher', 'Clara', 'Clayton,', 'tangles', 'Buford', 'Poseidon', 'Disaster', 'genre.', 'Annabel', 'vice', 'versa.', 'Freaky', 'Friday.', 'comedies,', 'essential', 'laughter', 'MacMurray', 'gravity-defying', 'Theodore,', 'Apple', 'Gang,', 'way!', 'roads', 'magical,', 'Barnaby', '\"March', 'Wooden', 'season', 'samurai', 'gathers', 'themselves,', '40', 'Liaisons', 'Choderlos', 'Marquise', 'ex-lover', 'Valmont', 'Dune', 'found.', 'characters.', 'Jesus,', 'humble', 'carpenter', 'God,', 'Judas', 'violence,', 'salvation.', 'doubt.', 'cross,', '1979', 'sins', 'wing.', 'operator', 'empty,', 'continually', 'Humbert', 'Marsden)', 'Cradle', 'Bay,', '\"Blue', 'eerie', 'embodiment', 'academic', 'perfect.', \"Steve's\", 'Gavin', '(Nick', 'Stahl)', 'misfit', '(Katie', 'Holmes).', 'Godfather', 'troops', 'beaches', 'Normandy,', 'battlefield,', 'Ranger', 'Miller', 'penetrating', 'Gabriel,', 'waiter', 'possibly', 'couples,', 'Dooley', 'lays', 'eggs.', 'boyish', 'daydreaming', 'Hen', 'unstoppable', 'explorer', 'U.S.S.', 'Palomino', 'fruitless', 'extra-terrestrial', 'supposedly', 'magnificent', 'hovering', 'companion,', 'wonderment', 'awe', 'hole', 'Ustinov', 'eponymous', 'Lanchester', 'villains', 'casino.', '(Jones)', 'squabble', 'ghost.', 'Bullied', 'nagged', '11-year-old', 'money-laundering', 'blank', '$1', 'Maybe', 'Candleshoe', '1977', 'Productions', 'Innes', 'Foster,', 'Hayes', 'UFO', 'impounded', 'collar', 'humans,', 'eluded', 'donate', 'Riley,', 'shock', \"computer's\", 'Comic', 'performs', 'CIA.', 'fends', 'hostile', 'earns', 'Natalia,', 'requests', \"CIA's\", \"Bombay's\", 'comeback', 'Hockey', 'Games.', 'Bombay', 'players,', 'newfound', 'Iceland.', 'wee', 'folklore,', 'mix', '(including', 'Connery)', \"you've\", 'enchanting', 'time!', 'frisky', 'storyteller', 'Darby', 'proverbial', 'pot', 'standing', 'way:', 'Brian.', 'shrewd', 'task,', 'Fall', 'AND', 'THE', 'PEOPLE', 'fun-filled', 'magic,', 'nonstop', 'Thrown', 'strangers', 'desert!', 'expertise', 'bushman', 'destination.', '1986', 'Fort', 'Lauderdale,', 'awakens', 'passed.', 'overjoyed', 'aged.', 'nearby,', 'lost.', 'gnomes', 'committed,', 'toymaker,', 'Basil', 'trusted', 'trap', 'Monte', 'Carlo', 'cache', 'diamonds', 'tank,', 'slumber,', 'feline', \"witches'\", 'Szalinski', 'shrinking', 'things,', 'grow.', '&', 'toddler', 'invention,', 'working.', 'zapped', 'stuffed', 'shrinks', 'insects.', 'dangers', 'Twin', 'milquetoast', 'Maurice', 'Chevalier', 'captain.', 'Stevenson', 'Lowell', 'S,', \"Verne's\", '1868', \"Grant's\", 'pets,', 'dogs,', 'home?', \"partner's\", 'Internal', 'Affairs', 'offices', 'Hallie', 'places.', 'Milwaukee,', 'basketball,', 'rules.', 'they,', \"billionaire's\", 'cities.', 'institute.', 'Till', 'Dawn', 'closure', 'Flint,', 'Michigan,', 'resulted', '30,000', 'jobs.', 'Cecilia', 'Jersey,', 'dreary', 'Depression.', 'theatre.', 'Purple', 'spirits,', 'CA.', 'Doctor', 'Boris', 'today', 'Omar', 'Christie', 'protagonists', 'sprawling', 'Sweden.', 'twilight', \"1940's\", 'Houston,', 'fondest', 'revisit', 'refers', 'Mac', 'enables', 'resume', 'infighting', 'suburbanite', 'newcomers', 'commence', 'beer,', 'tube', '1971', 'futures,', 'unsettling', 'torturer', 'porter', 'Vienna.', 're-create', 'sadomasochistic', 'SS', 'comrades', 'stalk', 'disturbing,', 'deftly', 'lasting', 'blessings', 'popularity', 'pre-WWII', 'patrons.', 'ear', 'drift', 'apart', 'faraway', '(Meredith', 'odyssey,', 'companions:', 'protective', 'wolf,', 'perseverance.', 'Bagheera,', 'Louie,', 'snake', 'happy-go-lucky', 'Tramp.', 'obviously', 'happenings', 'while.', 'impetuous', 'mermaid', 'Ariel', 'reckless', 'service.', 'hockey,', 'coach,', 'appreciate', 'Conway,', 'Dickens', 'visitations', 'exploited,', 'publisher,', 'squeeze', 'organize', 'tactics.', 'Ginny', 'Abbie', 'Leaving', 'nursery', 'behind,', 'Wendy,', 'Pan', 'lasts', 'Neverland,', 'Hook', 'Popeye', 'rooming', 'household,', 'lawless', 'poacher', 'rare', 'Rescue', 'Aid', 'Bianca', 'Bernard,', 'Australia', 'Accompanying', 'Wilbur', 'Rat.', 'hands?', 'cooperation', 'Society,', 'Bernard', 'respond', \"Penny's\", 'Mountain,\"', 'Gannon', 'Letha', 'truant', 'all-powerful', 'genie,', 'winged', 'flames', 'exploding', 'outrageously', 'Dorothy,', 'pages', 'era,', 'Cliff', 'Daniels,', 'Somehow', 'eluding', 'finger', 'spinning', 'wheel', \"love's\", 'Maleficent', 'arrives,', 'townsfolk,', 'esteemed', 'out?', 'absent-minded', '(Fred', 'MacMurray)', 'bounces', 'startling', 'substance,', 'fly,', 'materialize', 'indoors', 'Alonzo', 'Hawk', 'Rabbit', 'separation', 'plantation.', 'complication', 'though;', 'hook,', 'mermaid.', 'Mouse,', 'piloting', 'passenger,', 'Minnie,', 'instruments', 'menagerie', 'baron', 'Stiles,', 'danger,', 'despise', 'Going', 'lake', 'do,', 'west,', 'legends', 'Bill,', '\"real\"', 'confrontation', 'Stiles', 'henchmen,', 'rallies', 'proof', 'invented', 'laser', 'programs', 'Control', 'close-knit', 'swing', 'US.', '31,', '1978,', 'sitter', 'Strode', 'persistent', 'whereabouts.', 'dread', 'weighs', 'reason.', 'freeway', 'billboard,', 'misadventure', 'riches', 'jerk', 'lane', 'Forrest', 'recipe.', 'Rigby', 'slip', 'list', 'Enemies', 'disembodied', 'brain.', 'Grand', 'Canyon', 'intertwine', 'jeopardy', 'Maine.', \"community's\", 'business:', 'mill.', 'dawn', 'others,', 'underground,', 'monstrosity', 'devouring', 'Johnny,', 'assaulted', 'attackers,', 'mount', 'gangs,', 'India,', 'stone.', 'catacombs', 'palace.', 'Fellowship', 'Ring', \"Sauron's\", 'totalitarian', 'daily', 'rewriting', \"fiancee's\", 'coma', 'wakes,', 'contact.', 'rampages.', 'desolate', 'quiet,', 'item', 'pranks.', 'know,', 'souls,', 'pranks', 'Isaac', 'Gatlin', 'casino', 'owning', 'Heaven', 'basically', 'default', 'heaven.', 'Hell.', 'retaliation.', 'animals,', 'info', 'finance', \"Family's\", 'adapts', 'fortune?', 'Danielle', 'Utopia.', 'intriguing', 'apple.', 'Santoro', 'killing.', 'discoveries', 'untalented', 'Providence,', 'Rhode', 'Island.', 'colleagues.', '(Burt', '(Susan', 'Carlo,', 'symbol', 'glamorous', 'seven-year', 'Sweden', 'Eva.', 'relationship:', 'sacrificed', 'motherhood', 'classical', 'pianist.', 'impaired', 'Helena,', 'portray', 'newlywed', 'through,', 'Anderson', 'Sara.', 'exploits,', \"Chris'\", 'Brenda.', \"Brad's\", 'involved,', 'thieves,', 'Gary', 'fail', 'peers.', 'desperation', 'liked', 'situations', 'require', 'wildest', '1967', 'talking,', 'Rex', 'imagine.', 'Discover', 'cures', 'wide-eyed', 'your', 'heart!', 'directed,', 'co-wrote', 'riotously', 'standard', 'timid,', 'nearsighted', 'chemistry', 'potion', 'Romeo.', 'Hyde', 'concoction', 'embarrassing', 'table.', 'Charlotte,', 'pen,', 'rabbits', 'threatened,', 'Hazel', 'homeland', 'haven.', 'rats,', 'transplant', 'shard', 'crystal', 'grotesque', 'evil.', 'Fievel', 'migrate', '\"land', 'somehow,', 'settled', 'oily', 'mythical', 'fairies,', 'goblins,', 'mortals,', 'fantastic', 'fate,', 'quest.', 'Lily', 'plunged', 'never-ending', 'forgetting', 'Andie', 'outcast,', 'owns', 'Blane,', 'sphere', 'easy.', 'Seven', 'Alec,', 'Kevin,', 'graduation.', 'allegiance', 'Democrat', 'freaks', 'streak.', 'Alec', 'pays', 'schooling', 'hangout', 'Bar,', 'currently', 'roommates.', 'clans', 'moving.', 'Cave', 'Bear\"', 'Ayla', 'tradition', 'cave,', 'professionals', '(Arye', 'Park', \"Jesse's\", 'generations.', 'goofy', '(Jonathan', 'diva', 'Lana', '(Amy', 'great-great', 'Mayan', 'temple', 'skull', 'Razor,', 'disagreement', 'Misery', 'Sho', 'Kalahari', 'Xixo', 'haphazard', 'despot.', 'stow', 'fast-moving', 'truck,', 'sequels', 'Ministry', 'direction', 'weather', 'machine.', 'suspect,', 'simultaneously', 'August.', 'bad,', 'Delilah', \"Stella's\", 'Jamaica,', 'exhilarating', 'junior.', 'lower-middle-class', 'nomads', 'outskirts', 'Hills.', 'Otis.', 'stay,', 'sides', 'Fantasia,', '1978', 'budget', 'tomatoes', 'sentient', 'neo-nazi', 'surf', 'punks', 'grandma', 'cross-section', 'groups,', 'games.', 'woman!', 'Malaysia.', 'actions,', 'possession.', 'sentence,', 'decision:', 'Malaysia', 'split', \"Lewis'\", 'bitten', 'pregnancy,', 'attributes', 'combination', 'skills.', 'Blade', 'Whistler', 'outdated', 'council,', 'Houston', 'studio,', 'Dance', 'dancer,', 'Ruby', 'championship.', '(Tom', 'Everett', 'studious', 'pre-med', 'entering', 'hard-partying', 'roommate', '(Mark-Paul', 'Gosselaar),', 'ogling', \"Cooper's\", 'Josh,', 'flunking', 'violin', 'cheat', 'Lauren', 'transferred', 'site.', 'one-legged', 'man...', 'together...', 'all-girls', 'learned,', 'leaks', 'merge', 'academy,', 'back...', '14th', 'guided', 'Thanks', 'demise', 'drowning,', 'poltergeists', 'insufferable', 'owners,', 'drastic', 'undead', 'newlyweds', 'strangle', 'phony', 'kidnappers', 'strangling', 'Crisis,', 'publicly', 'defects', 'dagger', 'figuring', 'West.', 'Marnie', 'kleptomaniac', 'Winston', 'criminal.', 'Technicolor', 'remake', '1934', 'title.', 'Stewart,', 'Doris', 'Day)', 'silence,', 'erupts', 'small,', 'woods.', 'forthcoming', 'tennis', 'entertainer.', 'Shane,', 'Studio', 'disco,', 'plucks', 'Shane', 'clamoring', 'club,', 'coveted', 'front-row', 'lump', 'upset.', 'Animated', 'formerly', 'singer-songwriter', 'Lyman,', 'ensuing', \"one's\", 'heroin.', 'Slowly,', 'Fearful', 'prophecy', 'stating', 'downfall,', 'imprisons', 'stronghold', 'dungeons', 'identified', 'prophesied', 'birthmark', 'arm.', 'sorceress', 'midwife', 'Willow,', 'sorcerer,', 'infant', 'Ness', 'Capone,', 'Capone', 'pocket.', 'Malone,', 'patrolman', 'warns', 'Unemployed', 'transplant.', 'hookers', 'bodies', 'trash', '(so', '(Jean-Claude', 'Damme),', 'sales', 'Hendricks', '(Rob', 'Schneider),', 'busted', 'jeans.', 'Karan', 'employer', 'term', \"Nicholson's\", 'only,', 'director.', 'Gambling', 'double-dealing', 'Irishman', 'governor.', 'landowner', 'Whilst', \"Flusky's\", 'Henrietta', 'Paradine', 'poisoning', 'Keane', 'lifeboat', 'Rosa,', 'news:', '(for', 'Oakley', 'Aircraft', '(Carole', 'her?', 'shock,', 'separately', 'legally', 'mention', 'remarry', 'dinner.', 'happen,', 'angrily', 'Joan', 'Fontaine', 'warned', 'plows', 'disreputable', 'conclusion', 'confirmed', 'likeable', 'Nigel', 'insisted', 'novelist', 'ending,', 'RKO', 'Century,', 'profit.', 'delayed', 'Holed', 'bout', 'ominously', 'deny', 'existed,', 'traveler', 'sleuth,', 'Derrick', 'Marney', '39', 'Steps', 'Nova', \"Hitchcock's\", 'Knew', 'obligatory', 'water\"', 'briefly', 'slowed', 'banal', 'event,', 'villain,', 'doubt', 'thrillers,', 'revelation', 'sequence', 'force,', 'granted', 'cameras', '1937', 'Was', 'Innocent', 'Josephine', 'saboteur', \"detective's\", 'receive', 'imminent', 'attempt,', 'quiet.', 'Strauss', 'couple,', '(Henry', 'Kendall)', 'Emily', '(Joan', 'advance', 'present.', 'traditional', 'revolution,', 'are.', 'penniless.', 'selected', 'apprehend', 'fisherman', 'blackmail.', 'Betty,', 'Jean,', 'crashed.', 'club.', 'Roddy', 'expelled,', 'married,', 'boxers', 'wed,', 'flat.', 'comfort.', 'landlady', 'Avenger', 'sharks.', 'cube', 'Birch', \"Simon's\", 'heart-warming', 'condition,', 'trust', 'test', '1970s', 'Olympics', 'Munich', 'Stranded', 'cruise,', 'deckhand', 'stood', 'easygoing', 'Dillon)', 'Refusing', 'overgrown', 'intimidates', 'alike.', 'loner', 'forge', 'Gordon,', 'Mull,', 'triumphant', 'bonds', 'Skip,', \"Skip's\", 'urging,', 'inexperienced', 'emboldened', 'cocktail', 'Ellen,', 'division', 'engulfs', 'trend', 'Aaron', 'Altman,', 'plain', 'unrequited', 'Sparks', 'changes,', 'substance.', 'Witty,', 'jungle.', 'Tess', 'McGill', 'success.', 'skiing,', 'top,', 'Russo,', 'depart', 'Tony.', 'underachiever', 'valedictorian', 'Diane', 'interferes', 'scholarship', 'Coopersmith', 'informant', 'profile,', 'Antonelli', 'hitmen', 'divorced,', 'hates', 'rescuing', 'crashed', 'jet.', 'luck,', 'credit', 'iron', 'fist', 'toys.', 'ingredients', 'photo', '23', 'Hollis', 'amorous', 'Jennifer,', 'slightly', 'one-sided', \"Jennifer's\", 'furious', 'bank-robbing', 'cartoonist', 'developers.', 'Abby', 'curious', 'boarder', 'garage.', 'speeding', 'Apocalypse', 'bloodying', 'rivers,', 'plagues', 'word.', 'priests', 'Canada.', 'vendetta', 'dream.', 'tend', 'Joyce,', 'rage.', 'outing,', 'bleeds', 'cuts', 'throat.', 'being,', 'Cmdr.', 'Galloway,', 'hazing', 'ritual', 'high-ranking', 'billionaire', 'Gage,', 'down-on-his-luck', '(Woody', 'Harrelson)', '(Demi', 'Moore).', 'Stiller', 'smack', 'script', 'explores', 'Kitty,', \"Stahl's\", 'flashback.', 'Carter', 'partnership', 'Lost', 'package.', 'tag', 'along.', 'briefcase', 'undisclosed', 'contents', 'sought', 'liaison', 'mercenaries,', 'thorny', 'legends,', 'pop', 'soda', 'stomach', 'explode', 'psycho', 'axe', 'backseat', 'looking,', 'Feeling', 'guilty,', 'presses', 'Lester', 'Long,', 'Baltimore', 'sandwich', 'Debra', 'Winger)', 'emptiness', 'Born', \"India's\", 'patriarchal', 'repeatedly', 'Devi', 'warrior,', 'Bandit', 'critique', 'caustic', 'hierarchy', 'reigns', 'ineffectual', 'callously', 'Upper', 'Sixth', 'Mick', 'privilege', 'Fu', 'celebration', 'flunky', 'elixir', 'batch', 'Leningrad', 'diamond,', 'nabbed', 'exhibition', 'Fu.', 'Nuclear', 'gigantic', 'ants', 'menace', 'south-west', 'investigators', 'spread', 'War-era', 'Scientists', 'Antarctic', 'shape-shifting', 'inspirations', 'castaway', 'unfaithful.', 'letter,', 'package,', 'ant', 'rises', 'soldier.', 'parade,', 'general.', 'slapstick', 'Brothers,', 'out-of-work', 'drunken,', 'belittling', 'talents.', 'exist', 'routinely', 'run-in', 'Mistaken', 'Vivica', 'dreamed', 'of.', 'eternity', 'trolls', 'Internet', 'luring', 'Howdy', 'caught.', 'insane,', 'Gage', 'retribution', 'comes.', 'producer,', 'Bialystock', 'accountant,', 'Bloom', 'cost,', 'sure-fire', 'flop,', 'flop', 'tasteless', 'Hitler.', 'Revolution', 'Inquisition.', 'pals', 'arrested,', 'mechanic', 'exam', 'try.', 'leather-clad', 'Deep', 'intersecting', 'connected', 'Barbara', 'Nashville', 'collapse.', 'Delbert', 'Reese', 'climax.', 'Biography', 'Dyer,', 'crook.', 'over-the-top', 'evangelist', 'experience,', 'storm.', 'syndrome', 'Adapted', 'Freak', 'Maxwell', 'outcasts', '2001', 'Space', 'Odyssey.', '2010', 'Jupiter', 'monolith', 'Lunar', 'Crater', 'Discovery', \"Jupiter's\", \"Discovery's\", 'decaying', 'awaken', 'H.A.L.9000', 'tensions.', 'Why', 'crew?', 'detected', 'deaf.', 'Sarah,', 'pupil', 'shuns', 'refusing', 'lips', 'time?', 'side-show', 'Behind', 'Merrick', 'film),', 'severely', 'Sethe', 'Denver,', 'Denver', 'Chucky', 'bridal', 'Tiffany,', 'Route', '66', 'hosts.', 'avoided', 'witchcraft', 'unexpectedly,', 'Owens', 'magic.', 'sources', 'Todd', 'Denker', 'nazi', 'deal:', 'Geeky', 'black-and-white', 'sitcom', 'disrupts', 'routine,', 'interacts', 'existence.', 'seller', 'tale.', 'creative', 'abrupt', 'halt', 'deported', 'devout', 'Mormon', 'Lisa.', 'Saints', 'burly', 'scuffle', 'pornographic', 'segment', 'mummy', '\"cat', 'it;', 'saw', 'supper.', 'relic', 'sunlight.', 'Derek', 'Vineyard', 'paroled', 'truck.', 'narration,', 'skinhead', 'supremacist', 'Danny.', 'Reformed', 'severs', 'did.', 'Judith', 'Hunter)', 'stews,', 'plans,', '(Queen', 'Latifah),', 'kissed', 'possibilities', 'hood.', 'Respected', 'closing', '\"Frankenstein,\"', 'Invisible', 'dour', 'yard', 'declaration', 'tackling', 'vault', 'playoffs.', 'ascension', 'council', 'Almost', 'elapsed', 'glam-rock', 'Slade', 'spotlight', 'fall.', 'Stuart,', 'forged', '1970s,', 'larger-than-life', 'decade.', 'Bahamas', 'Tyrell', 'Will,', 'Bronson', 'summers', 'Estranged', 'Porsche', 'gift.', 'bullying', 'identification', 'journey.', \"Jake's\", 'rival,', 'Eddie.', 'grim', 'reaper', 'proposition:', 'agrees,', 'pseudonym', 'Black,', \"Parrish's\", \"Black's\", 'out-of-control', 'railway', 'security.', 'aspirant', 'Eberhart', 'Connecticut', 'suburb,', 'housewives.', 'Bobbie', 'department.', 'breakout', 'Pistols', 'bassist', 'Sid', 'Vicious', \"couple's\", 'strains', 'Rotten', 'McLaren,', 'plunging', 'addiction', 'expensive', 'customer', 'Initially', 'customers', 'Simone', 'services.', 'on?', 'slain', 'Rome,', 'drown', 'Even', 'Cooper,', 'gathered', 'Hotshot', 'Dil,', 'from,', 'along?', 'bugs', 'inventive', 'bustling', 'freeloading', 'grasshoppers', 'standstill,', 'bashful', 'dives', 'journalist.', 'assignments', 'corners', 'empty', 'romances,', 'celebrity.', 'knew.', 'Foreign', 'Legion', 'Bosnia', 'grandiose', 'sixtieth', 'horrendous', 'Christian,', 'provocative,', 'masks,', 'father-son', 'intensifies', 'bewildered', 'Divine', 'humiliate', 'Person', 'stories:', 'transvestite', '(Glen', 'sunk', 'Kyohei', 'natives', 'rampage', 'Originally', '1984,', '\"Godzilla', 'Adding', 'footage', 'Godzilla', 'ignores', '1956', 'featured', 'Burr', 'original,', 'Japan.', 'captivity', 'Godzilla.', 'spectacle.', 'filmmaking', 'disturbs', 'tames', 'Trade', 'towers', 'alive!', 'messages', 'fascination', 'headline', 'identity,', 'Markham', 'searched', 'tirelessly', 'rainforest.', 'Amazon', 'tribe', 'tribesman', 'skillfully', 'terrain,', 'fearful', 'savagery', 'untamed', 'notions', 'veritable', 'Irwin', 'wall,', 'produces', 'Fletch', 'Unaware', 'Intrigued,', 'offer.', 'Louisiana,', 'checking', 'raids', 'keeper', 'talisman', 'Sonja,', 'tricky', 'assimilation', 'clashing', 'sycophant', 'angling', 'disgruntled', 'Struggling', 'rambling', 'kitchen', 'sink', 'electromagnetic', 'radiation', 'landed', 'KGB.', 'shuttle', \"Halley's\", 'Comet', 'malevolent', 'zombies.', 'responsible.', 'weight,', 'factor', 'sundry', 'Academy,', 'chagrin', 'choice,', 'though.', 'Mahoney', 'boorish', 'Harris.', 'Harris', 'out!', 'Officer', 'cohorts', 'graduated', 'assignment.', 'tell,', 'cheerful', 'blue.', 'cut,', 'fair,', \"Lassard's\", 'academy', 'expected...', 'Commandant', 'Citizens', 'Patrol', 'support,', 'disgusted', 'Miami,', 'pending', 'Babe,', 'farm.', 'stepfather', 'helicopter,', 'tracks,', \"stepfather's\", 'Sally.', 'Springer', 'raunchy,', 'frequently', 'vent', 'Kyle', 'Fisher', 'buddies.', 'stripper', 'bathroom.', 'Francesco', 'Marta', 'husband-and-wife', 'design', \"Francesco's\", 'Instanbul', 'steam', 'bath', 'Criminal', 'motel', 'morbid', 'linking', 'Voice', 'LV', 'recluse,', 'saying', 'Bassey,', 'Marilyn', 'Monroe', 'sings,', 'imitating', 'accuracy.', 'overheard', 'arise.', 'Captivated', 'wealth,', 'greed,', 'downed', 'airplane.', 'avoiding', \"Pandora's\", 'virulent', 'factions', 'Starfleet', 'properties,', \"planet's\", 'Ramses,', 'blood,', 'Growing', 'rivalry.', 'people!', 'schoolmates', '\"Romeo', 'Ethel,', 'noblewoman', 'auditions', 'Kris', 'Claus,', 'jolly', 'parade.', 'hundreds', 'immortality', 'Patch,', 'elf,', 'corner', 'Jessica,', 'apple', 'farmer,', 'reindeer', 'leg,', 'assume', 'display', 'barn', 'butcher,', 'display.', 'terrorised', 'pale', 'praying', 'miners.', 'miners', 'Rambo', 'Vietnam.', 'fame.', 'sheriff,', 'employs', 'guerilla', 'tail.', 'Combat', 'Rambo,', 'Trautman', 'Afghanistan,', 'reconsider', 'Wilder', 'thrust', 'duped', 'duplicitous', 'dignitary', 'East,', 'intrepid', 'parcel', 'cocoons', 'swimming', 'rented', 'they?', 'Creed,', 'Adrian', 'rematch', 'reputation.', 'unforgettable.', 'Balboa', 'opponents', 'shaken', 'bout.', 'pounding', 'gargantuan', \"Rocky's\", 'Creed.', 'Drago', 'shots', 'broke.', 'glory', 'up-and-coming', 'host,', 'chatty', 'culprit', 'rises.', 'Sherlock', 'Holmes', 'deductive', 'abilities.', 'Egyptian', 'cult,', 'enrolls', \"Jason's\", 'respect,', 'reservations', 'pregnancy.', 'ladder,', 'challenge:', 'attacker', 'incident,', 'nothing.', 'fact,', 'repellent,', 'captive.', 'bullies,', 'woes.', 'Miyagi,', 'confidence,', 'wisdom,', 'tormentors', 'underdog', 'Okinawa', 'originally', 'seasonal', 'celebration,', \"Clark's\", 'worsened', 'guests,', 'bonus', 'soon.', 'Fox', 'Kathleen', 'anonymity', 'twenty-year', 'secrecy,', 'brutality', 'meticulous', 'planning,', 'untouchable', 'Line', 'Rifle', 'suffer,', 'unopposed', 'landing,', 'exhausting', 'follow,', 'frontline', 'Penn,', 'Nolte,', 'Harrelson', 'Clooney', 'explodes', 'planet!', \"students'\", 'bodies,', 'leaders,', 'domination.', 'Jill', 'gorillas', 'poachers', 'Andrei', 'adult,', 'tall.', \"O'Hara\", 'animal,', 'safest', 'refuge.', 'U.S.,', 'capturing', 'Gorilla', 'nightclub.', 'wonderfully', 'slant', '\"King', \"Kong's\", 'sequel,', '\"Son', 'ages', 'superb', 'Willis', \"O'Brien\", 'Harryhausen.', 'Patch', 'look,', 'humor', 'medicine,', 'Luke,', 'realise', 'fullest,', '\"get', 'potentially', 'obsession,', 'goals,', 'odds.', 'peddling', 'Franco', 'upbringing', 'poet,', 'Wilde', 'fatherhood', 'disintegrating', 'vending', 'part-time', 'druggie', 'Woods)', 'patch', 'Rosie', 'Wagner),', 'inviting', '(Melanie', 'afterward', 'badly,', 'charges', 'losses,', 'ill-advised', 'jewellery', 'spirals', 'cellist', 'Jacqueline', 'du', 'Hilary', 'articulate', \"Hannah's\", 'AIDS.', 'Meredith', 'rebuffs', 'trendy,', 'orbit.', 'adulterous', 'hotels', 'tales,', 'tragic,', 'urging', 'Texas,', 'schoolboys', 'gridiron', 'Harbor', 'regroup', 'second-string', 'irreverent', 'tugboat', 'vessel,', 'regards', 'disgusting', 'mud', 'garbage', 'obey', 'stupid', 'regulations', 'Naturally', 'cigar', 'demons', 'backyard.', \"Terry's\", 'Gate', 'practicing', 'Milly', 'Louis,', 'recently-widowed', 'problems,', 'flight,', 'exerts', 'enthralling', 'Montreal,', 'industrial', 'François', 'Delambre', 'sister-in-law', 'Helene', 'Delambre,', 'hand.', 'transportation', 'experimenting', 'chamber,', 'technological', 'breakthrough', 'Unbeknownst', 'Key', 'Dooley,', 'sacked', 'corruption,', 'defence', 'guards.', 'location', 'enemies', 'everyone,', 'day?', 'cannibals.', 'victimized', 'cannibal', 'perverted', 'shotgun.', 'cannibalistic', 'meat.', \"Everyone's\", 'chainsaw-wielding', 'psychopath,', 'Leatherface,', 'prom-night', 'gore,', 'backwoods', 'habits.', 'youths,', 'Leatherface', 'crazed', 'clan,', 'bionic', 'cheated', 'retaliation,', 'delighted', \"80's\", 'teen.', 'idol,', 'Sammi', 'recipient', 'copy', 'unreleased', 'album,', 'backwards', \"'n\", \"Samantha's\", 'stairs', 'Franciscan', 'Baskerville', 'conference', 'monks', 'crimes,', \"Church's\", 'monastery', 'source.', 'decoding', 'message,', 'People', 'Throughout', 'Peggy', 'finished', 'Dundee', 'Outback', 'cultures', 'recipe', 'negotiates', 'instincts', 'handles', 'muggers', 'high-society', 'sweat.', \"who've\", 'old-time', 'incarcerated', 'picking', 'pumping', 'aerobics', 'instructor.', 'nursing', 'festering', 'resentments', 'humiliating', 'patronizing', 'attitudes', 'citizens.', 'Soul', 'Felson', 'partnership.', 'halls,', \"Vincent's\", 'antics,', 'argument', 'opponent.', 'council.', 'blackmailers', 'demand', '$100,000.', 'through.', 'hard-nosed,', 'hard-living', 'recon', 'attitude.', 'replay', 'thing.', 'Sharon', 'street-wise,', 'mobs,', 'urchin', 'gunned', 'toughest', 'Glasgow', 'seventies', 'overdose.', 'lightning', 'outdoor', 'festival.', 'gods', 'obscurity', 'lodged', 'Tony,', 'keyboard', 'Basque', 'occult', '(De', 'literal', 'Christmas-time', 'Madrid', 'Antichrist.', 'Zach', 'Siler', 'envy', 'cheerleader', 'Hudson.', 'reputation,', 'challenge.', 'nerdy', 'Laney', 'queen.', 'Loner', 'racy', 'fear,', 'his,', 'making.', \"Mark's\", 'these,', 'enemies?', 'think.', 'reservoir', 'bitterness', \"Porter's\", 'tail', 'payback', 'crab', \"Amanda's\", 'eats', 'eatery,', 'Comedian', 'famous,', 'Jewish.', 'Planet', 'human-like', 'creatures,', 'pets', 'blue', 'giants', 'narrator,', 'Om', 'infancy', 'adulthood.', 'enslavement', 'educate', 'organise', 'revolt.', 'shelter', '35', 'supplies', 'bottle', 'author,', 'shipbuilder', 'tragically', 'early.', 'News', 'unwillingly', 'compromising', 'transmission.', 'Martian', 'spacecraft,', 'one-time', 'Reagan', \"School's\", 'shoving', 'swallows', 'choking', 'rocketry', 'wishes,', 'scientist.', 'employers', 'hatching', 'embezzle', 'innocuous', 'reel', 'Welles', 'streetwise', 'stranger.', 'drifts', 'challenged', '\"perfect\"', 'idiosyncratic', 'Dwayne', 'Hoover', 'brink', 'Erica', 'lawn', 'summer,', 'clothes.', '70', 'disgrace', 'mountain.', 'cursed', 'burial', 'heartbroken', 'unthinkable.', 'Drew', 'Gilbert,', 'stepfather.', 'Arriving', 'Gatlin,', 'Nebraska,', 'worshipers', '\"He', 'Walks', 'Cunningham', 'Christine,', 'rusty', '1958', 'Fury,', 'glory.', 'arrogance', 'beauty.', 'Leigh', 'Fury', 'morgue', 'shackled', 'neophyte', '\"one', 'complains', 'pimp.', 'fill', 'Loren', '$10,000', 'hearse', 'dead!', 'bomber', 'airplane,', 'airport', 'snow,', 'us,', 'words,', \"Hollywood's\", 'jet', 'nerve', 'Flight', 'Bermuda', 'Triangle', 'Stevens', 'museum.', 'knock', 'flooding', 'underwater.', 'guile', 'placing', 'home-made', 'roller', 'Bottoms', 'coaster', 'event', 'year.', 'colossal', 'poorly', 'constructed', 'building,', 'tower', 'alligator', 'flushed', 'discarded', 'injected', 'rampage,', 'wide', 'extinguish', 'satellite', 'USSR', 'governments', 'resort,', 'recreations', 'periods', 'life-like', 'robots.', 'opts', 'sci-fi', '30th', 'stranding', 'dominated', 'apes,', '2000', 'experimentation', 'sport.', 'hunted,', 'benevolent', 'chimpanzee', 'Astronaut', 'Brent', 'Zone', 'middle.', 'Tension', 'ape', 'bowels', 'episode', 'Apes', 'collapse', 'civilization,', 'apes', 'Caesar', 'Aldo', 'mutants', 'finale.', 'embraced', 'slavery,', 'Caesar,', 'Cornelius', 'surfaces', 'authorities,', 'toast', 'Earthquake', '1974', 'achieved', 'box-office', 'genre', 'recognizable', 'casts', 'situations.', 'destroys', 'aviation', 'missiles,', 'splitting', 'tidal', 'wave,', 'rescued,', 'rivaling', 'parties', 'amount', 'plutonium.', 'Countless', 'neuroses', 'angst', 'racketeer', 'attacks.', 'Vitti', 'shrink', 'Sobel', 'gangster.', 'Nick,', 'ethically', 'tainted', 'veteran.', 'uncomfortable', 'done.', 'stepbrother,', 'deflower', 'ends.', 'loses,', 'card', 'sharp', 'sketchy', 'operating', 'flat', 'Michelle', 'Pfeiffer', 'chance,', '(an', 'Oprah', 'effectively', 'troubling', 'dynamics', 'felt', 'outside.', 'reached', 'outsiders', 'separates', 'twenty-two', 'trust,', 'creation.', 'Blair', 'Tiger', 'Claw', 'fleet', 'lurid', 'insanity.', 'twin,', 'two,', 'difference.', 'patients,', 'Claire,', 'deceives', 'Dingle', \"Missy's\", 'awake', 'hair,', 'intelligence,', 'Scientist', 'super-intelligent', 'captive,', 'twin.', 'Butcher', '(known', 'Holmes,', 'seagull', 'engine', 'flights', 'cancelled', 'hurricane,', 'Metro', 'Siam', 'reports', 'persons', 'outpost', 'Boyd', 'investigates.', 'regiment', 'horrifying', 'wagon', 'guide', 'colonel', 'rogue.', 'worst,', 'verify', 'skirt', 'Row', 'slated', 'innocent.', 'Veronica', 'aristocrat', \"Veronica's\", 'courtesan,', 'companions', 'favored', 'Venetian', 'courageously', 'destiny', 'Leonowens', 'Bangkok,', 'available,', 'Skeeter', 'Lucky', 'Duck', 'Lake.', 'Video', 'camera', 'tv', 'murder;', 'Suffering', 'ridicule', 'names,', 'Matrix', 'Bianca,', 'grader,', 'rubs', 'Joey,', 'Joey', 'Patrick,', '1970', 'vexed', 'misfortune', 'interview.', 'Isa', 'Marie,', 'warmer', 'Marie', 'detached.', 'youth.', 'bay,', 'warn', 'go?', 'struggling,', 'Told', 'perspectives,', 'Californians', 'cash,', 'rush', 'Josie', 'baby-faced', 'infiltrates', 'campus.', 'snag', 'dreamy', 'Twins,', 'birth,', 'concert,', 'arises', 'Springs', 'Otto', 'Ana', 'circular', 'sun.', 'Love', 'suddenly.', '1972,', 'disenchanted', 'conventions', '25-year-old', 'eight-year-old', 'landscape', 'shop-window', 'Loris', 'explanation', 'Undercover', 'policewoman', 'rebuilt', 'disfigured.', 'geeks', 'punks,', 'concerts', 'Dylan', 'Ramsey', 'resorts', 'phantom', 'hunt.', 'Succeeding', \"Dylan's\", 'thrive', 'outdo', 'levels.', \"teacher's\", 'elections.', 'damaged.', 'Word', 'Kong.', 'quicksand', 'dissuade', 'adventurer', 'Samantha,', 'Lu', 'over:', 'chains', 'Tien', 'assaults', 'elegant', 'outsmart', 'Anton', 'exceedingly', 'stoner', 'TV,', 'cliché', 'idle', \"devil's\", 'playground', 'kernel', 'tenderly', 'Wang', 'performer', 'Mask', 'mastery', 'Sichuan', 'Change', '10.', 'aching', 'descendent', 'Early', \"Catherine's\", 'engagement,', 'Winslow', 'Ronnie,', 'true;', 'lad', 'domestic', 'peace,', 'Pierce', 'eradicated', 'mutants.', '\"think', 'chop', 'flesh-eating', 'zombies,', 'mall', 'stores.', 'activates', 'malfunction', 'spree.', 'stores,', 'absorbs', 'electricity.', 'present,', 'united', 'mob,', 'Dashing', 'legionnaire', \"O'Connell\", 'Beni', '1923,', '3,000', 'Imhotep', 'airport.', '(by', 'couples', 'donkey', 'eternity.', 'Chui', 'Chik', 'librarian.', 'commando', '701', 'uncontrollable', 'rage,', 'subjects.', 'extermination', 'escaped,', 'capability', 'super-soldiers', 'military,', 'wants,', 'are,', '1980s.', 'Anakin', 'Sith', 'returned,', 'enacting', 'jails', 'Shandurai', 'composer.', 'palazzo.', 'declaring', '\"What', 'asks,', '\"Get', 'my', 'implications', 'choice.', 'Napoleonic', 'wars,', 'Sierra', 'inn,', 'Venta', 'Quemada,', 'Islamic', 'princesses.', 'beside', 'corpses', 'gallows.', 'story;', 'Inquisition,', 'stories,', 'await', 'astonishing', 'news.', 'archaeological', 'archaeologists', 'tomb', 'Egypt', 'desecration', 'tomb.', 'explorers,', 'resembles', 'princess,', 'speechless', 'defy', 'Kharis', 'swamp', 'draining', 'guardians', 'Crawford', 'orphans,', \"Joan's\", 'MGM', 'callous', 'Mild-mannered', 'Daily', 'Lois', 'Superman.', 'summon', 'Lex', 'Luthor', 'Krypton', 'mettle.', 'Superman', 'Superman,', 'Lois,', 'Aiming', 'Steel,', 'Webster', 'Gorman', 'synthetic', 'yields', 'Between', 'supercomputer.', 'sprung', 'strand', \"Superman's\", 'ally', 'ignites', 'molds', 'spinal', 'deformity', 'wolf-man', 'Talbot', 'vampirism', 'Dracula,', 'hunchback', 'Wolf', \"Frankenstein's\", 'Monster.', 'walk.', 'locals.', 'blacksmith', 'coma.', 'Ygor', 'tool', 'Ygor.', 'enraged', 'swings', 'knocking', \"Doctor's\", 'Ludwig,', 'potential,', 'full,', 'Monster', 'Baron', 'blood-curdling', 'creation:', 'horrid', 'kill.', 'Carpathian', 'heiress.', 'newcomer,', 'soil', 'Events', 'werewolf.', 'werewolves', 'beasts', 'Europe.', 'wreaks', 'inhabitants.', 'Sweethearts', 'tire', 'storm,', 'houseful', 'biker', 'dances', 'unveils', 'muscular', 'Gilda', 'Radner', 'Cheech', 'Chong', 'compilation', \"60's\", \"70's.\", 'pictures,', 'blood-thirsty', 'arctic', 'outpost.', 'Putnam', 'meteorite', 'Arizona,', 'scorn', 'examining', 'close,', 'excited', 'hills,', 'short-lived', 'friendly.', 'Giant', 'Octopus,', 'feeding', 'H-Bomb', 'tests,', 'emotionless', 'communications', 'botch', 'rocket', 'Marvin', 'targets,', 'suck', 'brains,', 'remnants', 'glacier', 'Holland,', 'swamp,', 'harshest', 'conditions.', 'Arcane,', 'formula,', 'Swamp', 'Thing.', 'retake', 'Korea', 'troops.', 'meat', 'destroyer', 'vessel', 'danger.', 'Michell', 'ramifications', '2000.', 'Computer', 'Douglas', 'generated', 'street,', 'Albania.', 'Alexander', 'Powell,', 'judgment', 'cases.', 'Hopkins', 'fascinating', 'Oscar-nominated', 'documentary,', '(some', 'CD', 'Havana.', \"group's\", 'Amsterdam', 'Carnegie', 'Wenders', 'Alaska,', 'guards', 'superspy', \"'60s\", 'unbelievably', 'instrument', 'present-day', 'Montreal', 'auction', 'block.', 'derives', 'finish.', 'wake.', 'Tarzan', 'Kala', 'Tarzan.', 'belong', 'to...', 'Campbell', 'Warrant', 'Officers', 'Brenner', \"Campbell's\", 'allegations', 'minister,', 'well-off', 'Mrs', 'damning', 'despair', 'piano', 'liner.', '1900', '(Tim', 'land,', 'destroyed,', 'aboard,', 'Lola', 'Manni.', '100,000', 'DM', 'guy.', 'Otherwise,', 'alternatives', \"Lola's\", \"universe's\", 'fervent', 'fans.', 'lazy', 'Pierre', 'dîner', 'Everyone', 'guest.', 'crate', 'spider.', 'offspring.', 'exterminator', 'annihilate', 'freaks.', 'R-rated', 'Canadians', 'Philip,', 'gunfighter', 'Gordon.', \"Lee's\", \"Paris'\", 'bridge,', 'Pont', 'addicted', 'Michele,', 'blind.', 'virginity', 'motivate', 'prom.', 'Faraday', 'lonely.', '(Alexia', '(Marie', \"Gonzo's\", 'breakfast', 'cereal', 'descendant', 'Muppets', 'Kermit', 'outer', 'Maryland,', 'admits', 'encounter.', 'meetings', 'eaten', 'creature,', 'Game', 'Warden', 'Add', 'philanthropist', 'penchant', 'groom', 'reminisce', 'twenty-something', \"trio's\", 'mood', 'nostalgia', \"'80s\", 'posts', 'university,', 'exterminate', 'ghouls,', 'pests', 'stripes.', 'knockout', 'purge', 'swanky', 'Ghostbusters', 'Dana', 'paranormal', 'threat.', 'annual', 'Gladys', 'lights,', 'trailer', 'relaxed', '(but', 'sweet)', 'Amber', 'Marrow', 'Theo', 'Sanderson', 'study.', 'well-intentioned', 'mastermind.', 'laboratory,', 'Brenda,', 'robotics', 'replaces', 'damaged', 'state-of-the-art', 'gadgets', 'Named', 'press,', 'Penny,', 'Brain', 'explosion.', 'Manhattan.', 'musicals,', 'Mark,', 'muscled', 'stripper,', 'alone...', 'selfish', 'irritating', 'Trick', 'gay-themed', 'appeared', 'festivals', '1999.', 'Filming', '1998.', 'refueling', 'facility', \"Alzheimer's\", 'engineers', 'sharks,', 'capacity', 'harvest', 'tissue', \"Alzheimer's.\", 'increased', 'sharks', 'faster,', 'dangerous.', 'Amazing', 'Casanova', 'superheroes', 'superheroes.', 'Raja', 'columnist,', 'text', 'minute.', 'drunken', 'Carpenter,', 'grooms', 'females', 'anyway,', 'offensive', 'column', 'Falls', 'Siamese', 'neat', 'rundown', 'hotel.', 'Blake,', 'costume.', 'proposed', 'separation.', 'Kubrick’s', 'recognition', 'monetary', 'worries.', 'Smith),', '29', 'welterweight', 'employer.', 'Spartacus', '1960', 'Kubrick', 'Fast', 'decadent', 'classics', 'Sword', 'appalled', 'Lolita,', 'teenaged', 'Ireland,', 'Brady.', 'Without', 'alternative,', 'Antoine', 'Surrounded', 'adults,', 'Rene,', 'schemes', 'unsympathetic', 'Catherine.', 'Jules.', 'Germany,', 'Allie', 'Fox,', 'exhausted', 'degradation', 'utopian', 'specializing', 'scrambles', 'booby-trapped', 'Tibet', 'cousins,', 'Stanley,', 'puberty,', 'Killon', 'president,', '(Lara', 'Lara', 'Lenny,', 'maid,', 'joy,', 'Celie', 'bigotry.', 'equally', 'Glover),', 'anywhere', 'Menage', 'sorts,', 'probe', 'Depardieu', 'crude', 'Michel', 'kinky', 'sucks', 'vortex', 'Bertrand', 'explored', 'awesome', 'outdoes', '(aka', 'Jesuit', 'converting', 'region.', 'converted', 'mission.', 'Portugal,', 'Portugese', 'Seymour', 'Skid', 'co-worker', 'berated', 'plant,', 'unidentified', 'sing', 'carnivorous', 'Allan', 'Quatermain', 'arriving,', 'Gold,', 'mined', 'slaves.', 'hungover', 'recognize,', 'ally,', 'Kendall,', 'predicament', 'TV.', '1944,', 'mixes', 'anecdotes', 'stars.', 'grabbing', 'charade.', 'reexamine', 'scruples', 'shenanigans', 'firm,', 'Korzenowski.', 'brash,', 'happenstance', 'agent)', 'Lambert', 'Sylvia,', 'Denise,', 'forward,', 'nab', 'motives.', 'McQueen', \"McQueen's\", 'Randall,', 'bounty.', 'operative,', 'Malak', 'Rahim,', 'blacklisted.', 'Comedy', 'wander', 'walkers', 'prejudices.', 'artwork,', 'Crown', 'HOUSE', 'triptych', 'adapted', 'Irvine', 'Combining', 'casting', 'unholy', 'Directed', 'dramatises', 'book:', 'Touch', 'rail', 'yards', 'graft', 'contracts.', 'bankruptcy', 'concocts', 'starry-eyed', 'has-been', 'Darlene', 'Thailand,', 'captivating', 'smitten', 'amounts', 'bags', 'Detroit', 'sold-out', \"They'll\", 'Lila,', 'timing', 'Kim,', 'orientation,', 'information.', 'Nineteen-year-old', 'Ari', 'activists,', 'entombed', 'insular', 'tradition.', 'activities.', 'psychologist,', 'Pendleton', 'die,', 'chosen.', 'development,', 'loosely', 'poem.', 'pathologist', 'host.', 'Spain,', 'extreme', 'Prospero', 'oncoming', 'plague,', 'Death.', 'amidst', 'atmosphere', 'debauchery', 'depravity,', 'entry', 'hooded', 'red.', 'Believing', 'master,', 'Satan,', '1)', 'reunited,', 'hangs', '2)', 'derelict', 'competition,', '3)', 'hypnotized', 'speaker', 'Mystery', 'Theater', 'cured', 'defect', 'exaggerated', 'quit', 'necessary.', 'Next,', \"lover's\", \"building's\", 'hazardous', 'Different', 'spin-off', 'Flying', 'Circus', 'sketches', 'seasons.', 'Antichrist,', 'swift', '(Sam', 'benign', 'Ambassador', 'fulfills', 'biblical', 'prophecy.', 'astronomical', 'Striker', 'wartime', 'trauma,', 'stewardess', 'Food', 'decimates', 'controller', 'captain,', 'faulty', 'sun,', 'continent.', 'flavor', 'tourists.', 'holidays', 'countries', 'language.', 'Walley', 'Chevy', 'Chase', 'Farmer,', 'Smith)', 'seclusion.', 'seclusion', 'Baskin', 'carnival', 'overnight.', 'Healy', 'old.', 'camping', 'nightmares.', 'Find', 'satire', 'Ben,', 'River', \"Ben's\", 'Junior,', 'dates.', 'transcend', 'of,', 'divine', 'Lucinda', 'materials', 'missionary,', 'blossoms.', 'destinies.', 'seaside', 'high-profile', 'Carlos.', 'restaurateur', \"Mac's\", 'trap.', 'assassinated.', 'stumbled', 'Everybody', 'Ralph,', 'Ryder', '1940s.', 'auctioneer', 'kingpin,', 'Harvard.', 'friendships,', 'Luc', 'Universal', 'Soldier,', 'creators,', 'pits', 'initiative', 'erase', 'memories,', 'yours.', 'ditch', 'dates', 'proposal.', 'hour', 'Roses', 'fans,', 'prefer', 'idol.', 'Plagued', 'self-doubt', 'stalked,', 'moments,', 'coworkers', 'crimelord.', 'risks.', 'ago', 'Fleming,', \"Doug's\", 'state,', 'piloted', 'Chappy', 'Sinclair', 'surgical', 'massively', 'defended', 'East.', 'Pentagon', 'drug-smuggling', 'Peru', 'stake,', 'airplanes', 'co-workers', 'cancer.', 'woman,\"', 'bulldozers', 'conducting', 'research,', 'AD', 'Ibn', 'Vikings', 'slaughters', 'devours', 'flesh.', 'cost', 'Jillian,', 'often.', 'Jillian', 'changed,', 'fade', 'person?', \"60's-era\", 'cartoon', 'Mountie', 'Dudley', 'well-meaning', '(though', 'plan?', 'edge,', 'pay,', 'goddess,', 'script.', 'limit', \"writer's\", 'bakery', 'Brooks,', 'overturned', 'independently', 'meeting,', 'connection.', 'Slowly', 'forwards', 'filling', 'gaps', 'entrusts', 'ice.', 'codenamed', 'nearest', 'existence,', 'Drugs', \"Tim's\", 'jettisoned', 'brush', 'suggestion', 'session', '(Jennifer', 'Paige', 'experiences,', 'crucified.', 'cardinal', 'Kiernan', 'plaguing', 'unfold', 'Rich,', 'Bryce', 'Lissa', 'seems.', 'tangled', 'double-crosses', 'seduction.', 'hustler,', '17', 'Hampton', 'describes', 'Bates,', \"Melville's\", 'Chauncey', 'adventures.', 'Milo,', 'Otis,', 'adventurous,', 'mountains,', 'plains,', 'snow-covered', 'Geoff', 'freight', '(Rita', 'Carter.', 'nominations.', 'elopes', \"Othello's\", 'envious', 'Alas,', 'weakness,', 'malice', 'Facing', 'uncooperative', 'troops,', 'Davenport', 'Waters.', 'withdrawn', 'spotlight.', 'church,', 'lonesome', 'varying', 'degrees', 'arcade', 'pick-up', 'rat', 'whisper', 'Saw', 'Marek', 'firing', 'apples,', 'stone', 'Liverpool', 'Beatles.', 'Burnham,', 'hectic', 'infatuation', 'Byrne', 'solo', 'songs.', 'busy,', 'back-up', 'band.', 'plays,', 'Talking', 'Heads', 'Logan', 'distinguished', 'perversion', 'imperial', \"Rome's\", 'cruel,', 'here:', 'disposing', 'oppose', 'Capturing', 'Lennon,', 'McCartney,', 'Ringo', 'Starr', 'electrifying', 'element,', \"'A\", \"Day's\", \"Night'\", '1964.', 'scheduled', 'performance,', 'spite', \"Paul's\", 'arrest.', 'slam', 'choose?', 'Does', 'cheap', 'both.', 'nurture', 'picture-perfect', 'Ernest,', 'feet.', 'now?', 'Charley', 'Dandrige', 'Sarandon),', 'vampire.', 'Charley,', '(Roddy', 'ghoul', \"Charley's\", '(Amanda', 'Brewster,', 'Dandridge', 'personal!', 'Village.', 'Victor.', 'myth', 'screen.', 'Uthur', 'Pendragon', 'Excalibur', 'buries', 'stone,', 'bastard', \"Arthur's\", 'half-sister', 'sires', 'downfall.', 'Employees', 'Factory', 'whopping', 'cent', 'superintendent', 'Sommersby', 'accounts,', 'imposter.', 'heart...', 'deaf,', 'dumb', 'pinball', 'grounds.', 'Kung-Fu', 'Hawk,', 'ex-girlfriend', 'Crusades.', 'alive;', '1944', 'ghetto', 'headquarters', 'curfew.', 'overhears', 'troop', 'movements.', 'ghetto,', 'shopkeeper', 'ghetto.', 'popular,', 'Elmo', 'blanket,', 'tug-of-war', 'blanket', 'pursuit.', 'cherished', 'musters', 'plunges', 'stinky', 'jealousy', 'prey.', 'mist', 'gala', 'Mystery,', 'Saturday', 'pond.', 'booked', 'Rangers.', 'slick', 'Iraq', 'Happy,', 'raider', 'henchman', 'Plunkett', 'spectrum', '18th-century', 'aristocrats', 'belongings.', \"Plunkett's\", 'know-how', 'Gentlemen', 'gentlemen', \"Gibson's\", 'cunning', 'Thief', 'Chance,', '1914,', 'ashes', 'isle', 'voyage,', 'Serbian', 'refugees', 'vessel.', 'Peace', 'abound', 'descended', 'resist,', 'Thad', 'alter-ego', 'mock', 'ceremony,', 'precipitates', 'Looking', 'Gulliver', 'Lilliput', 'equally-miniscule', 'Blefiscu,', 'alternately', 'Lilliputian', 'crier', 'fussbudget,', 'Gabby.', 'life-threatening', 'quadriplegic', 'monkey', 'activities,', 'Tall', 'arsenal', 'criminally', 'inquisitive', 'ominous', 'occurred.', 'motel,', 'convent', 'lived.', 'nosey', 'Toshiro', 'Mifune', \"Kurosawa's\", 'paced,', 'jaded', 'Sanjuro', 'weed', \"clan's\", 'influences,', 'proper', 'Kristin', 'details.', 'Den', 'Chandler', 'anomalies', 'close.', 'Gallagher,', 'Monica', 'superstar,', 'conversations', 'super-stardom.', 'Female', 'Teena', 'Brandon', 'rapport', 'inability', 'certainties.', 'granddaughters', 'bastard.', 'Wilson', '(Terence', 'Valentine', 'Fonda)', \"L.A.'s\", 'near-death', 'beating,', 'Englishman', 'bodily', 'harm', 'credits),', 'courtship', 'voice-over', '(with', 'inaccurate', 'metaphors', 'profoundly', 'Buck', 'McKay,', 'perennial', 'bachelor.', 'undergo', 'treatment,', 'Joel', 'trustworthy', 'disposal', 'planetary', 'searing', 'heat', 'Charismatic', 'Ferris', 'hooky', 'Indonesia', 'strife', '1965.', 'attempted', 'coup,', 'Indonesian', 'national.', 'occupation,', 'milestone', 'theatrical', 'courtesan', '\"Best', '1990.', 'settlement', 'gunning', 'gunmen', 'hanging,', 'vowing', 'lynch', 'lawman.', 'brand', 'Wong', 'mishaps,', 'kung', 'fu,', 'discipline.', 'martial-arts', \"Chan's\", 'weak-willed', 'Turnblad', 'hip', 'Corny', 'Show\"', 'lively', 'bubbly', 'popularity.', 'Baltimore,', 'Returning', 'acquaintance', 'Harvey.', 'casual', 'fulfilling', 'expected,', 'wrestle', 'shattered.', 'enlightenment', 'edge.', 'Russia', 'idealism', 'luminous', 'Yugoslavia,', 'engaging', 'supervisor', 'panhandle', 'harvesting', 'wheat', 'stoic', 'triangle,', 'swarm', 'locusts,', 'dreamlike', 'authenticity,', 'gritty', 'Alain', 'Leroy', 'snakes,', 'unsophisticated', 'con-artist', 'terms.', 'Sullivan', 'spoiled,', 'fluff', 'downtrodden', 'poor.', 'Much', 'clothing', 'pocket', 'first-hand,', 'hard.', 'quarrel.', 'Palm', 'Beach', 'ward.', \"patient's\", 'according', 'institutional', 'procedure.', 'Niagara', 'Falls,', 'N.Y.', 'befriend', 'Polly', 'Cutler,', 'honeymooning', 'amiss', 'Argentina,', 'Farrell', 'gunman', 'right-hand', 'Mundson', 'wife:', 'supremely', 'desirable', 'Gilda,', 'hate.', 'battlefield', 'warring', 'emotions,', 'disappears...', 'wash', 'Bloody', 'philosopher', 'Cable', 'sailors', 'nurses', 'Emile', 'ballet', 'song.', 'plantations', 'proud', 'adoptive', 'Camille.', 'Jean-Baptiste', 'auction.', 'meantime', 'outposts', 'château', 'sentences', 'commuting', 'sentences.', 'sacrifice,', 'tycoon', 'Knox', 'economy.', 'SPECTRE.', 'Rosa', 'snatch', 'Tatiana', 'willingly', 'Istanbul,', 'saga,', 'countdown', 'Honey', 'Ryder,', 'shipwreck', 'tropical', 'Days', '(Brooke', \"nature's\", 'again?', 'Miguel', 'Rojo', 'waylaid', 'inserts', 'benefit.', 'mentors', 'weds', 'vulgar', 'nemeses,', 'eve.', 'Ellie,', 'precinct', 'dividing', 'insomniac', 'slippery', 'channel', 'primal', 'aggression', 'concept', 'oblivion.', 'Katie', 'Fever', 'tandem', 'nail', 'biting', 'schizophrenia', 'focus.', 'fulfilled', 'Apocalypse.', 'Gillen', '(Casper', 'Dien)', 'theology', 'motivational', 'Story\"', '73-year-old', 'Alvin', 'Iowa,', 'Zion,', 'Wisconsin,', 'undertook', 'mend', 'estranged,', 'Rhoda', 'sweet,', 'evil!', 'cold-blooded', 'buff', 'scarcely', 'closet', 'charting', 'holes', 'fabric', 'eras.', 'variously', 'drop', 'Napoleon,', 'Agamemnon', \"childrens'\", 'widow.', 'Sweeney', 'Fitzgerald,', 'celebrates', 'stripped', 'glitz', 'illusions.', 'Gideon', '(Roy', 'choreographers', 'bottles', 'leper', 'sorghum', 'winery', 'bought', 'idealized', 'anew.', \"ophthalmologist's\", 'Genetically', 'mutated', 'bats', 'bat', 'Harper,', 'circle.', '48', 'burnt-out', 'fired,', 'sick,', 'center.', 'debauchery.', 'possibilities,', '20-somethings', 'clubs', 'accuses', 'select', 'winsome', 'Camilla', 'live-in', 'nanny', 's', \"Palmer's\", 'traitor', 'is?', 'RoboCop', 'masters.', 'deployment', 'develops,', 'narcotic', '\"Nuke\"', 'invades', 'Cane.', 'grows,', 'handle.', 'prototypes', 'straying', 'path,', 'worried', 'Acme', 'hard-luck', 'claimed', 'naming', 'encryption', 'Soviets', 'colleague', 'Orleans.', 'Big.', 'demon,', 'obtained', '100', 'pound', '$1,000,000', 'Harlem', 'fantasy.', 'Craig,', 'overtaking', 'tribe,', 'demonized', 'boar', 'cure.', 'forest,', 'conflict.', '40-ish', 'performers', 'compare', 'simpler', 'productive', 'Werner', 'Herzog', 'Klaus', 'Kinski.', 'Jimmie', 'bouquet', 'mustang', 'numbered.', 'propose', 'insulted', 'proposal,', 'gone,', 'recently-deceased', 'stipulates', 'Rookie', 'Amelia', 'Lincoln', 'Rhyme', \"department's\", \"murderer's\", 'tantalizing', 'Tells', '60', 'exposé', 'industry,', 'AMERICAN', 'MOVIE', 'excess,', 'Dream.', 'Various', 'occurring', 'Day.', 'Wheeler', 'braces', 'Sandra,', \"Patrick's\", 'Rosetta', 'despair,', 'stake', \"Alfred's\", 'comfortably', 'butler,', 'deception', 'mischief', 'fabricated', 'plausible', 'bride.', 'Herbert', 'revives', \"Dan's\", 'violates', 'probation', 'wrong?', 'comas.', 'shipped', 'comics', 'tales.', 'second,', 'raft', 'hungry.', 'third,', 're-animation', 'Nadine', 'addicts', 'jam', 'call,', 'tipping', 'flaws', 'lash', 'Rebellious', '(Elizabeth', 'trashy', 'campy', 'ride,', 'mask.', 'Locked', 'America’s', 'Johnnie', \"Gray's\", 'regarded', 'pictures.', 'piranhas', 'accidently', \"resort's\", 'meal.', 'slaughterhouse', 'foreclosure', 'instructs', 'merchant,', 'Bianca.', 'tutor', 'entrance', 'Verona,', \"Petruchio's\", 'Katharina.', 'Hortensio', 'tongue', 'temper,', 'costs', 'Sgt.', 'ronin,', 'businessmen', 'trade.', 'ronin', 'silk', 'merchant', 'sake', 'bodyguard,', 'artfully', 'full-scale', 'Mayii', 'exorcised', 'Devil', 'repossess', 'her!', \"TV's\", 'exorcism', 'waged', 'deformed,', 'Family\".', 'light,', 'homicidally', 'Helmet', 'air,', 'Crusades,', 'slithering', 'taxing', 'staunch', 'heartfelt', 'comedy-drama', 'co-directed', 'Ford', 'Mister', 'yearning', 'Morton', 'Lemmon', 'freewheeling', '1946', '1948', 'production.', 'Bros.', 'years),', 'material.', 'roamed', 'rugged', 'beasts,', 'Fire', 'element', 'Focusing', 'insights', 'pre-historic', 'vividly', 'recreated', 'Custer.', '\"A', 'Face', 'charts', 'Lonesome', 'Rhodes', 'Ozark', 'guitar', 'picker', 'investor', 'positions', 'bet', 'Tripper', 'Northstar.', 'marginally', 'Rudy,', 'camper', 'fitting', 'in-name-only', 'Sasquash', 'Giddy', 'militant', 'Patton', 'located', 'lake.', 'punk,', 'nicknamed', 'Flash,', 'Cheryl,', 'alien,', 'staying', '1949', 'Church', 'hypnosis', 'Cambridge', 'troupe,', 'writers', 'costume', 'Cast', 'chums', \"Sarah's\", 'Lowe,', 'Paul.', 'adventurous', 'economic', 'Mona', 'Simpson', 'Adele', 'Ann,', 'aspirations.', 'Midwest', 'Hills,', 'Calif.,', 'late,', 'Century.', '(of', 'duke', 'humankind.', 'liberate', 'turmoil.', 'victories', 'bio-engineered', 'Pokemon', 'rarest', 'Pokemon.', 'Mewtwo', 'Pikachu', 'vs.', \"another's\", 'wisdom', 'Atom', 'Seventeen', 'Felicia', 'Hilditch,', 'kindness', 'conscious', 'awareness', 'self.', 'Journey', 'taken.', 'predilection', 'kidnapper', 'Houdini', 'tick', 'slum', 'yard,', 'responding', 'ad,', 'trumpet', 'Lovely', 'crooner', 'heels,', 'Lila', 'brush.', \"Jim's\", 'supper', 'Holiday', 'Inn,', 'Reed.', 'June', '6,', 'perspectives', 'Germans,', 'US,', 'British,', 'Canadians,', 'French.', 'Erwin', 'Rommel,', 'defenses', \"Reich's\", 'Wall,', 'stopped', '\"For', 'Allies', 'longest', 'introverted', 'seductress', 'indicate', 'Americans,', 'Pearl', 'deliciously', 'chaotic', 'Galvin', 'reminds', 'obligations', 'served', 'court.', 'punish', 'decent', 'lawyer.', 'Middle-aged', '(Joanne', 'tea', 'adolescent,', 'projects,', 'radium', '8th', 'dimension.', 'Jaime', 'neighbourhood.', 'students.', 'devastatingly', 'Taylor),', \"California's\", 'Sur,', 'administrator', 'parochial', 'cleric', '(Eva', 'frontier.', \"Polanski's\", 'Carole', 'interaction', 'withdraws', 'frightful', 'hallucinations,', 'mutating', 'Nester', 'organizes', 'superior.', 'Fired', 'Irma', 'invents', 'relations,', '1954,', '1955.', 'passions', 'Fanny', 'Price,', '\"their\"', 'own!', 'Ichabod', 'Sleepy', 'Hollow', 'Headless', 'dominance', \"day's\", 'Bond,', 'showdown,', 'defuse', 'balance.', 'grief,', 'had.', 'spill', 'Ollie', 'Dee', 'Dum', 'borrow', 'mortgage', 'Bo', 'Enraged,', 'Toyland.', '(Bill', 'Murray)', 'ambition', 'curmudgeonly', 'Phillips', 'member,', 'Eliot', 're-evaluate', 'wrongs', 'Dowd', 'institution,', 'errors', 'catalysts', 'mending', 'blossoming', 'Antonio,', 'post-WWII', 'requirement', 'bicycle.', \"Antonio's\", 'bicycle', 'ruin.', 'Virginia,', 'organizing', 'context', 'represented', 'vested', \"workers'\", 'conditions,', 'vulnerable.', 'ambitions.', 'daimyo', 'seppuku', 'assaulting', 'Kira', 'avenged', 'enterprise', 'thrives', 'Edwardian', 'sexuality.', 'foreclosure.', 'Uncles', 'pen', 'pal.', 'batter', 'nowhere', 'tree,', 'hairstylist', 'uncontrolled', 'hairdressing', '\"star\"', 'salon.', 'stunning', 'Montana', 'Page', 'Forrester', 'Teddy', 'handled', 'read.', 'embezzles', 'bounty', 'hunters,', 'Mafia.', 'Leonard', 'awakening,', 'pleasures', 'Come', 'blooded', 'outset', 'cultures,', 'lovers,', 'Harbor.', 'relocated', 'internment', 'drafted', 'blast', 'firemen', 'arsonist', 'torching', 'Chicago.', 'destinies', 'Grail', 'storms,', 'cotton', 'disparate', '1999,', 'millennium.', 'inhabiting', 'bride,', 'Christine', 'atheist', 'Jericho', 'Cowboy', 'Camp,', 'devices.', \"Al's\", 'belong.', 'debilitating', 'Ride', 'Ang', 'bravery', 'Mom', 'weirdo', 'fortunes.', 'reduce', 'field,', 'dilapidated', 'paradise,', 'Congress,', 'flows', 'how,', 'fishermen', 'rainy', '1946,', 'Miles,', 'succumbs', 'followed.', 'Barron', 'PJ', 'Waters,', 'macho', 'hideaway.', 'Ruth.', 'Emmett', 'Ray.', 'irresponsible,', 'arguably', 'teen,', 'spotlight,', 'dairy', 'farming,', 'cow', 'fortress,', 'watchful', 'alpha', 'aggressively', 'neutral', 'Pugh', '(Gregory', 'Peck)', 'Stewart', '(Roger', 'encouraging', 'scheme,', 'Grice', 'expedition,', 'ships,', 'transmissions', 'submarines', 'ships.', 'diversion', 'shore,', 'minor-league', \"Keaton's\", 'parody', 'perils', 'Age,', 'oil,', 'scale,', 'Hum', 'U2', 'Tree', 'stadium', 'celebrations', 'indoor', 'shows,', 'navy', 'uninhabited', 'Ocean.', 'logic,', 'crafty', 'and/or', 'pushes', 'pointless', 'aerospace', '(Doris', 'leftist', 'Deuce', 'Bigalow', 'attractive,', 'gigolo', 'clients.', 'guard,', 'miraculous', 'stave', 'condemned', 'adopted,', 'Larch', 'Homer,', 'unlicensed,', 'orphanage.', 'house?', 'Sonny', 'Sinbad', 'monsters', '(now', 'romanced', 'robot.', 'Andrew,', 'purchased', 'programmed', 'menial', 'tasks.', 'thought,', 'debonair', 'stalwart', 'pre-unified', 'Qin', 'concubine', 'animation,', 'shorts.', 'mosaic', 'interrelated', 'forgiveness,', 'Valley.', 'opulent', 'Petersburg', 'period,', 'Onegin', 'lacking', 'restlessness,', 'finally,', 'regret.', 'aloof', 'professes', '\"Princess', 'reviews,', 'successes.', 'scam-artist', 'hoodlum', 'manipulated.', 'buyer', 'money;', 'transferred.', 'Giancarlo', 'concurrent', 'mores', 'temperament,', 'relation', 'hippie', 'bikers', 'contractor', 'Yorkshire,', 'Department.', 'succeed,', '(Donald', 'Houston),', '(Simone', 'epic,', 'reevaluate', 'winning.', 'avant-garde', 'comedian,', 'scraping', 'beamed', 'dramas', 'documents', 'adventures,', 'calculating', 'Opportunity', 'knocks', 'worms', 'Dickie', 'Cube', 'Debo', '(Tommy', 'Lister', 'rematch.', \"Craig's\", 'Elroy', 'Rancho', 'also.', 'Rubin', 'autobiography', 'expat', \"Angela's\", 'siblings,', 'Prejudice', 'IRA,', 'drink.', 'LA,', 'promoter', 'unavailable.', 'middleweight', 'goriest', 'earliest', 'Rise', 'technician', 'miracles,', 'Japanese-American', \"1960's,\", 'Susanna', 'prescribed', '\"short', 'strange,', 'Wonderland,', 'thin', '1942,', 'terrier', 'ninth', 'Willie,', 'manhood.', 'Morris.', 'battered', 'signal,', 'mutates', 'convictions', '17.', 'Barracks', 'leak.', 'Germans', 'Manfredi', 'loud-mouthed', 'Duke,', 'J.J.', 'hesitate', 'goods', 'have.', 'spying', 'Germans.', 'Caldwell', 'handling', 'Sinatra,', 'zenith', 'cocky,', 'popularity,', 'breezy', 'showgirl', 'Novak', '(Columbia', \"Pictures'\", 'Rita', 'benefits', 'Francisco,', 'glow', 'Sinatra', 'Could', 'Sidney)', 'genius.', \"Sinatra's\", 'ease', 'Bing', 'Crosby', 'DVD', 'slang', 'vehicle', 'fits', 'glove', 'offender', 'drop-out', 'succession', 'bars,', 'points', 'keepers.', 'rebellion', 'alarming.', 'problematic', 'liberating', 'forward.', 'depravity.', 'sea,', 'calm,', \"witch's\", 'look-alike', 'Fleeing', 'corruption.', 'obsession.', 'reflects', 'infection', 'dope', 'distributing', 'wares', 'cookie', 'drive.', 'chronicled', 'classmates,', 'Barrett', 'respectively.', 'stoned', 'resolute', 'tent.', 'investigations', 'sideshow.', 'strolls', 'systematically', 'eliminating', 'bosses.', \"person's\", 'Sommers', 'troubled,', 'sibling,', 'Rockies.', 'shared', 'enthusiasm', 'cycling', 'grueling', \"Marcus'\", 'vixen', 'appease', 'Esther', 'Maine,', 'test,', 'dwindles', 'intercut', 'outsiders,', '7,', 'shooting.', 'isolates', 'sexuality,', 'inmate', 'before,', 'Baton', 'juvenile', 'institute,', 'humiliations', 'witnessed.', 'flashbacks.', 'renovate', 'landlords', 'tenants', 'shore', '(after', 'critics.', '17th', 'Ambitious', '(Anthony', '(Janet', 'Besides', 'draughtsman', 'weave', \"else's\", 'structured', 'sophisticated', 'Alba', 'colliding', 'Oswald', 'carcasses', 'removes', 'looked', 'menage', 'trois', 'dubious', 'trafficking', 'condition.', 'Niki,', 'specimens', 'sand', 'suggest', 'stay.', 'coeds', 'Al,', 'chef,', 'bar.', 'Outside', 'forces,', 'bed,', 'flourish.', 'alleged', 'members,', 'Israeli', 'probes', 'p.m.', 'today.', 'gonzo', 'Hunter', 'blackmailer,', 'novels.', 'failures', 'cancer', 'primeval', 'yard.', 'Link,', \"teens'\", 'shave', 'clothes,', 'drudgery', 'interesting.', 'warning,', 'sublet', 'Dreyfuss', 'repartee', 'Girl.', 'unabashed', 'exercise', 'Am', 'rhetoric', 'Batista', 'illustrate', 'hitmen.', 'nuns.', 'Cartier', \"nun's\", 'presided', 'Superior.', 'uninterested', 'Peyton', 'Flanders', \"infant's\", 'nail-biting', 'amazing,', 'rugby', \"team's\", 'Andes', 'rations', 'freezing', 'cold.', 'wrapped', 'novice,', 'competent', 'Simms', 'preparatory', 'Gresham,', 'cantankerous', 'exec', 'late-night', 'big-time', 'opportunities.', 'Morrison', 'preparations,', 'Cassandra,', 'Small-town', 'all-female', 'standstill.', 'triumphs', 'faction', 'fan.', 'self-indulgent', 'clash.', 'fireworks', 'sort,', 'Madeline', \"Helen's\", 'Ernest.', 'introduction', '(Cruise)', '1893.', 'boxer,', 'beaten,', 'starvation', 'winter,', 'Merchant', 'Thompson,', 'Helena', 'Bonham', 'Redgrave', 'photography,', 'lavishly', 'detailed', 'interwoven', 'free-spirited,', 'sisters,', '(Emma', 'Thompson)', 'Carter),', 'revolve', 'ever-expanding', \"character's\", 'singles', 'dream,', 'Jam', 'Deer', 'Desmond', 'apprehended,', 'experiencing', 'encounters,', 'chillingly', 'cozy', 'hedonistic', 'funny.', 'Buffy', 'Slater', 'informs', 'vampires.', 'rebel,', 'King,', \"you'd\", 'excessive', 'exercises', 'craft.', 'El', 'Mariachi', 'guns', 'henchmen', 'frail', 'progressively', 'pistol', 'poking', 'guinea', 'experiment.', 'awoken', 'skater', 'giant,', 'Depression', 'addiction,', 'forgiveness.', 'Woodsboro', 'associated', 'Manhattanite', 'Allison', 'all:', 'designer.', 'spacious', 'digs.', 'evil,', 'nerves', 'steel.', 'trigger-happy', 'Fulvio', 'consisting', 'twenty-one', 'Depressed', 'Minnie', '(Gena', 'Rowlands)', 'parking', '(Seymour', 'Cassel)', 'myriad', 'surely,', 'blossoms', 'Might', 'Twenty-something', 'bliss', 'upstate', 'snowed', 'happens,', 'Pooh,', 'Piglet,', 'Eeyore,', 'Roo,', 'Owl', 'undone', 'Tigger', 'bounce', 'notion', 'because,', 'one\"', 'he?', 'Teacher', 'Gao', 'educating', 'futures.', 'replacement,', \"Gao's\", 'dismay.', 'students:', 'ever-increasing', 'yuan', 'ensuring', 'less.', 'concern', 'vies', 'connected,', 'obsessing', \"gangsters'\", 'redneck', 'backwater', 'swamps', 'religion.', 'brand-new', 'dress', 'measures,', 'flaw', 'values,', 'rambunctious', 'broker', 'legitimate', 'ambivalence', 'crash-lands', 'Riddick', 'Deadly', 'lurk', 'shadows,', 'utter', 'blackness', 'eclipse.', 'rule:', 'Stay', 'prison;', 'Cup.', 'Bosnian', 'arriving.', 'Football', 'rivals,', 'adversaries', 'Balkans', 'precipitate', 'refugees.', 'mistreatment', 'coupled', 'assembly', 'tramp,', \"Charlie's\", 'performer.', 'rejoin', 'Lights', 'Chaplin', 'sound', 'homestead,', 'embraces', 'Club.', 'spurns', 'smooth-talking', 'bikini', 'lessons,', 'Poor', 'lot.', 'gone.', '\"home\"', 'bitch', 'wagon.', 'Edna', 'clientele.', 'Considered', \"Chaplin's\", 'Coogan,', 'cared', 'Tramp', 'Edna.', 'aches', 'heart-wrenching', 'Lockhart', 'Stewart)', 'ranching', 'rifles', 'Apaches,', 'participant', 'Grady', 'Douglas)', 'imagine', 'reeling', 'author.', 'threshold', 'poverty-stricken', 'Hooks', '\"3', 'avid', 'things:', 'domineering', 'Hudson', 'River,', 'Rash', 'Abbie,', 'denizens', 'emotion', 'reproduce', 'fashioned', 'penis,', 'Anderson,', 'Phoenix', 'mate.', 'banking', 'cruises', 'child)', 'Mat', 'wrestling', 'W.', 'wrestlers', 'Wrestling', 'Vince', 'Extreme', 'Championship', 'organizations.', 'mob.', 'fragile', '29-year-old', 'exam.', 'virginity,', 'tutor.', 'daytime', 'BBC', 'Mercy', 'Croft', 'hurricane', 'swells', 'Temple,', 'ex-GI', 'Gregor,', 'gun.', 'holdup,', 'Gregor', 'Reinert', 'scored', 'testament', \"NASA's\", 'Composed', 'interviews,', 'viewpoint', 'material', 'moments.', '1943,', 'hastily', 'retreating', 'front.', 'brews', 'Stransky', 'Corporal', 'Reich', 'persona', 'quivering', 'hero.', 'cynical,', 'superiors.', 'two...', 'experiment:', 'supermen', 'energy.', 'snoopy', 'congressman', 'ex-showgirl', 'Billie', 'bird,', 'variation', 'Moran,', 'Ramses', 'goddess', 'hypnotizes', 'Fremont', 'Mason),', 'deaths,', 'dismemberment', 'sacrifice.', 'Gore', 'H.G.', 'paintings.', 'dramatizes', 'Farley', 'tundra', 'grievous', 'wolf', 'allegedly', 'caribou', 'wolves,', 'beliefs', 'wolves', 'Furthermore,', 'ecosystem', 'north.', 'Younger', 'Sharing', 'Until,', 'all-expenses-paid', 'Gates', 'Stalin', 'Odessa,', 'spared', '(her', 'ripped', 'captives', 'courage.', 'Dave,', 'nineteen,', 'comical', 'Cyril,', 'hearted', 'short-tempered', 'athletic,', 'good-hearted', 'Mike.', 'bikes', 'culture,', 'Indiana,', '1954', 'talent.', 'whips', 'shape', 'inciting', 'catcher', 'Crash', 'rocky', 'cruising', '\"Doc\"', 'Indians,', 'formally', '1st', 'commonly', 'Devil’s', 'Campaign,', '1943.', '1966', 'co-written', 'historian', 'H.', 'Walton,', 'brigade.', 'Terrill.', 'ranchers', 'foreman', 'immediate', 'dislike', 'watering', 'cattle,', 'hewn', 'Charles,', 'sixty-something', 'mate,', 'pulling', 'score,', 'Guthrie,', 'March', '1945,', 'difficulties', 'occur', 'realistic,', 'providing', 'Czechoslovakia,', 'patriot,', 'Reinhard', 'Heydrich,', 'Abel', 'Falsely', 'molester,', '2nd', '1964,', 'wipes', 'haven', 'denial', 'holocaust,', 'Towers', 'Moira', 'Davidson,', 'reconnaissance', 'month', 'other?', 'passengers.', 'away?', 'debtors', 'jumping', 'Corp', 'Southeast', 'Tuttle', 'kidnapping.', 'Henderson', 'examine', 'be,', 'giant.', 'China.', 'curing', 'hectic,', 'exotic,', 'drugs.', 'smuggler', 'Sanders', 'pool.', 'father-in-law', '(Bruce', '(Kim', \"Walter's\", 'alcohol,', 'dismisses', 'wild.', 'photos', 'intruder.', 'Vernon,', 'Vernon', 'guns.', 'Frog', 'Dom', 'Fozzie', 'Bear,', 'Piggy,', 'grasp', 'magnate.', 'necklace', 'Piggy.', 'culprits', 'song-filled', 'revue', 'frog', 'pig.', 'Piggy', 'answer,', 'Broadway.', 'Bird,', 'TVs', 'Sesame', 'Eyes', 'History,', 'sidetracked', 'brontosaurus', 'conducted', 'source,', 'Titanic.', 'Sturges', 'fades', 'iceberg.', 'presented', 'largely', 'sails', 'Forester,', 'heroic,', 'seafarer.', 'Lydia,', 'injustice,', 'describing', 'monumental', 'dodge', 'hunters.', \"China's\", 'revolution.', 'Burt', 'Lancaster', 'acrobatics', 'goings', 'breaks,', 'Scientist,', 'fights,', 'tons', 'swordplay.', 'Louise', 'fugitives.', 'rediscover', 'ethical', 'rampant', 'Wormer', 'expel', 'troublemakers', 'Nola', 'simultaneous', 'solely', 'them;', 'confrontations', 'groups', 'hottest', 'hate', 'Bleek', 'adulthood', 'Gilliam', 'contemplates', 'rightly', 'difference', 'taboo', 'Coogan', 'escorting', 'slammed', 'mat', 'TJ', 'flawed', 'Interviews', 'mouths,', 'Oscar-winning', 'randomly', 'dark.', 'Kersey', \"girlfriend's\", 'overdose,', '(Charles', 'Bronson)', 'Olivia,', 'distinctly', 'settings,', 'insurance.', 'Perfect', 'freewheeling,', 'motorcycle-riding', 'musician,', 'Kathy,', 'Program,', 'humanoid', 'turtles', 'uprising', 'Turtles', 'Shredder', 'seconds,', 'rifles,', 'bows', 'patrols', 'trains', 'Everglades', 'Dux', 'unknown.', 'Li,', 'favorite,', 'yet.', 'failure.', 'UK,', 'relief,', 'famous.', 'Lung', '(Paul', 'withering', 'exterior', 'backdrops', 'seamlessly', 'cinematographer', 'plague.', 'Radio', 'Cronauer', 'G.I.s', 'broadcasts,', 'decades,', 'insults', 'naughty', 'jokes', 'hijinks.', 'geriatric', 'Drayton', 'black.', '(one', 'African-American,', 'maneuver', 'Oakland,', 'Hang', 'deceit', 'Ashley', \"Ryan's\", 'brainy', 'quests,', 'Mohammed', 'Tehran', 'shamed', 'burdened', \"Mohammed's\", 'headmaster', 'refuses,', 'congressional', 'sanity', 'presumed', 'emerge.', 'Switzerland', 'stormy', 'conjure', 'darkest', 'fears.', 'Byron', 'stepsister', \"Byron's\", 'Polidori', 'leeches,', 'premature', 'burial,', 'birthing', 'stillborn', 'Shelley', 'survivors,', 'cooperate,', 'militaristic', 'disarray,', 'examination', 'conclusion.', 'particular', 'afterlife.', 'Hud', 'touches.', 'principled', \"Hud's\", 'Lon', 'taken,', 'winner.', 'lenient', 'bravado', 'gripping', 'schools.', 'unmapped', 'forests.', 'abiding', 'civilized', 'sense,', 'glacial', 'Siberian', '(Nan', 'recommends', 'coven', 'witches.', 'innkeeper', 'inn', 'absorbed', 'chain.', 'Biographical', 'Ritchie', 'Etienne', 'Navarre', 'Philippe', 'fourteen', 'figure,', 'revisits', 'breakups', 'swindle,', 'fabled', 'surprise,', 'startled', 'gods.', 'Skulls', 'walls', 'overshadowed', \"'not\", 'elite.', 'cry', 'Thornton,', 'J.P.', 'indian', 'gambler,', 'soulless', 'redemption,', 'family-oriented', 'Spielberg.', 'unearthly', 'Manchuria', 'desires,', 'dismember', 'lecherous', 'maniac.', 'Mattie', 'marshal,', '\"Rooster\"', 'Cogburn', 'Campbell),', 'Territory', 'disrupted', 'Turkey.', 'Turkish', 'example', 'opportunities', 'Novelist', 'Sheldon', 'unstable,', 'crippled,', 'comic,', 'miniscule', 'crowds', 'homes,', 'retire.', 'steers', 'circle,', 'liking', 'Murphy,', 'want,', 'namely', 'Gail.', \"Bob's\", 'upside-down', 'Ground', 'Solaris', 'station.', 'cosmonaut', 'Kelvin', 'investigate,', 'phenomena', 'afflict', 'recesses', 'consciousness.', 'ravings', 'superior,', 'Secretary', 'Brice,', 'romantically', 'Dallas', 'Cowboys', '1970s.', 'go,', 'urged', 'tidy,', 'whereas', 'slovenly', 'Bower', 'Raven', 'fascinates', 'rapper,', 'gangster,', 'altering', 'promoter.', 'waitress,', 'terribly', 'Pamela', 'yes', \"could've\", 'had,', 'fiancee,', \"gardener's\", '10,', 'Memphis', 'anarchists', 'unfairly', 'convictions.', 'complies', 'bachelorhood', 'Rick,', 'bash', 'partying', 'full-time', 'dresses', 'Buckman', 'sheep\"', 'skeletons', 'teenagers.', 'guerillas', 'invisible,', 'blends', 'Occasionally', 'sport,', 'accounts', 'roadside', 'cafe', 'Cain.', '\"No', 'Smoking\"', 'segments', 'plays.', 'segment,', '(all', '\"what', 'choices.', 'example,', 'mild-mannered', 'infinitely', 'aggressive', 'kabuki', 'impersonator', 'drove', 'them...', 'Gwen', 'Cummings', 'rehab,', 'resistant', 'offer,', 'escalates', 'Rabbi', 'Jacob', 'Side.', 'Reilly,', 'reenters', 'MacKay', 'hunky', 'messes', 'Manning,', 'appear.', 'transport.', 'Pakistani', 'Britain,', 'dress,', 'food,', 'Julien', \"Temple's\", 'profiling', 'pioneers', 'Featuring', 'archival', 'footage,', 'never-before-seen', 'performances,', 'rehearsals,', '1959,', 'Diner', 'titillating', 'pass,', 'shoulder', 'responsibilities,', 'Shakes', 'plods', 'drunk.', 'Inside', 'Club', 'Berlin,', 'fun,', 'actresses', 'recluses', 'Blanche,', 'eclipsed', 'envy,', 'Orton', 'Kenneth', 'Halliwell', '1951,', 'achieves', \"'What\", \"pair's\", 'Ten-year-old', 'ahead,', 'Nor', 'you,', 'dames.', 'triumph,', 'Rosalind', 'Globe', 'hilt.', 'Auntie', 'Mame', 'cronies', 'guiding', 'says,', 'starving', 'dish', 'meal', 'rapidly,', 'desiring', 'companion...', 'Division.', 'Noonan,', 'eagerly', 'caddy', 'lumber', 'favour', 'navigates', 'athletics', 'McCall', '(Sanaa', 'Lathan)', 'all-consuming', 'passion:', 'basketball.', 'hope,', 'big-league', 'ball.', 'codes.', 'wrecked', 'U-boat', 'SOS', 'coding', 'strict,', 'disappearance.', '(Luke', 'Wilson),', 'leaves,', 'Joline', 'Graham)', 'discouraged', 'Carmen', 'cops.', 'Nothing', 'Rockefeller', 'Novalee', 'Nation', 'Tennessee', 'transient', 'hurry', 'order,', '\"adopt\"', '\"big', 'flagging', 'Trier', 'platform.', 'styles', 'feature,', \"Alex's\", 'Emma,', \"Rose's\", 'extinction,', 'meltdown', 'cloned', 'dinosaurs.', 'fast,', 'extinction', 'species,', 'kicks,', \"(who's\", 'débutante', 'fling', 'carnival.', 'emperor', 'Maximus', \"army's\", 'Commodus', 'executed.', 'Spaniard', 'audiences.', 'gladiator', 'rule,', 'mettle', 'indomitable', 'monotonous', 'anew', 'exists', 'clubs,', 'parties.', \"I've\", \"I'm\", 'gonna', 'screaming', 'floor,', 'radicals', 'me', 'Tonight', 'Popper,', 'Never', 'Land', \"We're\", 'tonight,', 'life!', '73', 'wax', 'lot,', 'quickly,', 'escalate.', 'Boardwalk', 'fronts', 'dreamer,', 'get-rich-quick', 'schemes.', 'Davidson', 'Perry', 'Sylvester', 'Stallone', 'malt', 'Chico', 'impregnates', 'hornets', 'René', 'Laloux,', 'Les', 'Maîtres', 'temps,', 'penultimate', 'Laloux’s', 'temps', 'finely', 'metaphysical', 'entitled', 'Masters.', '3000,', 'stripping', 'captured,', 'dance.', 'Southwest,', 'hitching', 'store.', 'crate,', 'by-the-book', 'rescue,', 'Stockholm', 'Syndrome', 'asserts', 'effect.', 'ransom,', 'kidnapped.', 'fairly', 'depends', 'guys,', 'deck', 'sexes,', 'underestimate', \"Hamlet's\", 'plight', 'sailors,', 'Clarence.', 'aspirations,', 'audition', 'José', 'Chad', 'Hawaii', 'buddies,', 'Frankfurt,', 'G.I.', 'Tulsa', 'McLean', 'Cookie', 'night-club', 'Dynamite', 'Lili', '(Juliet', 'burlesque', 'Gypsy', 'Rose.', 'Fisher,', 'delinquent,', 'flunks', 'quits', 'perform.', 'Success', 'Ozzie', '24-hour', 'heels', 'Month\"', 'Coney', 'driver;', 'Wonderful', 'terrific', 'childish', 'Pee-wee', 'Herman', 'possession,', 'roaming', 'highways', 'Live-action', 'impressions', 'sketches.', 'tourist', 'Janeiro.', 'drastically', 'cheery', 'tasks,', 'low-level', 'repairman', 'confess', 'catapulted', 'levels', 'status.', 'scars', 'fiancée.', 'lemurs', 'arduous', 'mile', 'illicit', 'loser', 'Night,', 'unspecified', 'gradually,', 'behaviors', 'Czarist', 'Russia.', 'chair,', 'Luther', 'IMF', 'Chon', 'clumsy', 'Pei', 'Nevada,', \"O'Bannon,\", 'imprisonment.', 'Storey', 'harem', 'Geneva', '(they', 'Federico', 'pachinko', 'gimmick', 'nun,', 'houses.', 'Trying', 'frequently,', 'Georgia.', 'singular', 'charm.', 'shelter.', 'deception,', 'sociopathic', 'attaining', 'income.', 'widows', 'Ernst', 'Blofeld', 'mountaintop', 'Blofeld.', 'locates', 'Alps', 'vanish', 'riddle', 'flashes', 'whomever', 'sleep.', 'fiercely', 'comfort,', 'Shuttle', 'Boeing', 'engraved', 'smashes', \"McCarthy's\", 'hearings.', 'sites,', 'tried,', 'Seton', 'Lawrence,', 'banker.', 'however.', 'prior', 'schoolteacher,', 'public,', 'mark,', 'Territory.', 'raiders', 'Confederate', 'uniforms,', 'Agnès', 'Varda', 'eloquently', 'sixties', 'real-time', 'adrift', 'vérité', 'melodrama,', 'Legrand', 'cameos', 'Godard', 'street-smart', 'crass', 'granny', 'Momma', 'botanist', 'gruff', 'Michelle,', 'framed.', 'unhealthy', 'eyeballs', 'viewed', 'frighten', 'Mircalla', 'Karnstein.', 'seduces', 'mutilation.', 'portal,', 'spurred', 'priest.', 'Summer,', '(which', '1965', 'off-season', 'mission:', 'impregnable', '2,000', 'prostitutes', 'interpretation', 'Dutchman.', 'spanish', 'seaport', 'Hendrick', 'der', 'Pandora', 'seas', 'unearthed', 'Quatermass', 'Moon.', 'officially', 'artificial', 'puppets', 'Distraught,', 'psychics', 'Paranormal', 'Toulon', 'WWII,', 'effort.', 'Toulin', 'arouses', 'discovered.', 'research.', 'uses,', 'Life.', 'sculpting', 'Doctors', '\"perfect', 'race\"', 'assistant.', 'puppets,', 'succeeded', 'Swiss', \"Ambassador's\", 'Ilsa,', 'Master.', 'Montague', 'Capulet', 'feuding', 'passion,', 'Salesman', 'television,', 'exasperation', 'Helen.', 'channels.', \"Roy's\", 'Spike,', 'emissary', 'Satan.', 'hours,', 'parodies', 'Hedley', 'politically', 'boating', 'bear,', 'territorial', 'cougar', 'cub.', 'song-and-dance', 'screams', 'essence', '1980', 'Flag,', 'Circle', 'Fear,', 'X.', 'emphasis', 'glam', 'metal.', 'Kiss,', 'Ozzy', 'Osbourne', '\"El', 'fugitives', 'territories,', 'fashion,', 'Dirty', 'misunderstandings,', 'simulating', \"1990's\", 'Jean-Pierre', 'Gandahar', '(The', 'massacred.', 'saved,', 'can’t', 'outlying', 'frontiers', 'Sent', 'Sylvain', 'hideous', 'schoolers', 'Angel', '\"An', 'Bubba', 'flock', 'shutting', 'nears', 'Jim.', 'Jordan,', 'Christine.', 'escapades,', 'locker', \"Christine's\", 'interfere.', 'pupils', 'contaminated', 'worker.', 'Tromaville', 'Toxic', 'mop', 'evildoers', 'lose.', 'Tokyo,', 'Inc.', 'Tromaville.', 'superhero,', 'ridden', 'member.', 'freeze', 'pledging', 'corpse,', 'infect', 'hosts', 'mercenaries', 'battled', '2017,', 'collapsed', 'activity.', 'populace', 'broadcasting', 'hosted', 'Damon', 'pardoned', \"widow's\", 'Wisconsin', 'parallels', 'experience.', 'civilisation.', 'quarantine.', 'personal.', 'dusty', 'defendants', 'encampment', 'landscape.', 'Mad', 'oasis', 'recognised', 'down-and-out', 'soul.', 'gallery,', 'McGee', 'Keith)', 'Vicky', 'participated', 'experiments,', 'subjected', 'tests.', 'volatile', 'youngster', 'virgin', 'magnate', 'Celeste', 'long-running', \"show's\", 'ratings', 'co-star,', 'hiring', 'Lori', 'Montgomery', 'deteriorating', 'chambermaid', \"Clara's\", 'trade,', 'bookstore', 'burglary,', 'burglary.', 'plethora', 'disguises.', 'shipment', 'unusually', 'packs', \"Rita's\", 'companion.', 'Raines', 'feat.', 'high-octane', 'Kip', 'pimps,', 'work:', 'pimping', 'cities,', 'clear:', '30s', \"Labour's\", 'swear', 'renounce', 'honour', 'companions.', '(Jane', 'veterans', 'occupy', '(Jon', 'Dern),', 'mid-western', 'Pluto', 'alert', 'Underestimating', 'Cool', 'Shaft', 'Caul', 'Hackman)', \"client's\", 'brusque', 'aide', '(Harrison', 'Ford)', '(Cindy', 'Williams).', 'Tracking', \"Francisco's\", 'Square,', 'cryptic', 'conversation', 'dumping', 'harness', 'first-year', 'balancing', 'Ciello', 'Department', 'department,', 'informants', 'cave', 'revitalize', 'Married', 'Lou-Jean', 'Clovis', 'highway', 'policeman.', 'Producer,', 'fiancee', 'Lo', 'invincible', 'cronies.', 'Dramatization', 'slaughtered', 'Dakota', 'badlands.', 'dramatized', 'demonstration', 'massacre.', 'impact', 'masterful', 'montage', 'editing.', 'definitely', 'attract.', 'believed.', 'loathed', 'bind', 'develops.', 'arrests', 'Wade', 'racially', 'motivated', 'eyewitness', 'witness.', \"mankind's\", 'centres', 'Moncho', 'Galicia', '1936.', 'Gregorio', \"Moncho's\", 'looming', 'periodically', 'compassion', 'Marcel', 'Proust', 'deathbed.', 'Odette,', \"Marcel's\", 'Albertine,', 'volume', 'held,', 'Ginger', \"farm's\", 'chickens', 'farmers', 'doom.', 'Trooper', 'disorder.', 'aggressive,', 'medication.', 'nation,', 'Bullwinkle', 'finances', 'Natasha', 'crossover', 'Fearless', 'Leader,', 'sleeve.', '1991,', 'Magnificent', 'anticipation', 'juxtaposed', 'adventure.', 'intricately', 'plotted', 'thwarted', 'mates,', 'applies', 'asylum,', 'interviewing', 'replacing', 'hired.', \"novelist's\", 'skits', 'commercials,', 'porno', 'kung-fu', 'blaxploitation', 'Santiago', 'half-brothers', 'Paco', 'Cruz,', 'Miklo.', 'Quentin,', 'Cruz', 'agents.', 'Rollie', 'Silak', 'says', 'Obviously,', 'McCarthy,', 'servicemen', 'blistering,', 'fast-paced', 'POW', 'Braddock', '(Norris)', 'Prequel', 'Missing', 'Action,', 'tow!', 'sidekick,', 'Gardner', 'homunculus', 'practitioner', 'tablet', 'interlocking', 'map,', 'carves', \"Kid's\", 'less,', 'asleep.', 'Make', 'Mine', 'musically', 'favorites', 'narrated', \"you'll\", 'Whale', 'Wanted', 'Melody', 'theatres', 'Pictures.', 'sweeper', 'cleans', 'sexually,', 'Astronauts', 'fuel', 'Mars.', 'gamble', 'gamblers', 'Inevitably,', 'Powerful', 'Russ', 'self-absorbed', 'chubby,', 'become.', 'satire.', 'Marlon', 'Shawn', 'Shannon', 'pitch', 'Scream,', 'Matrix,', 'Pie', 'Megan', 'kissing', 'much.', 'touchy', 'straight.', 'younger,', 'bathhouse', 'Presented', 'mod', 'photographed', 'details,', 'blowing', 'persecution,', 'Ren', 'West,', 'shock.', 'half-breed', 'bad.', 'Rogue', 'man-child', 'kindergarten', 'funeral.', 'tell.', 'spooky', 'images,', 'investigates,', 'Ketchum', 'Greedy', 'impulse', 'kill,', 'Luc,', 'woods,', 'Hansel', 'Gretel.', 'appetite.', 'prosecutor.', 'flare', 'rapist', 'seductive,', 'race-car', '2009', 'billionaire.', \"Romero's\", 'Renaissance', 'McKenna', 'vein', \"who're\", 'gold;', 'cavalry', 'Farah', \"Prince's\", 'crowned', 'Sinbad,', 'Cesira', 'church.', 'intellectual,', 'reply', 'gentleman.', 'self-involved', 'Wiley.', 'neediness', 'phobias,', 'composure', 'loony', 'bin', 'southwestern', 'impersonates', 'lieutenants', 'prisoners.', 'orders,', 'irregular', 'practices', 'courtroom.', 'vignettes,', 'address', 'concerning', \"Eve's\", 'demands,', 'ebullient', 'cowardly', 'pretentious', \"Allen's\", 'cowardice', 'cannon', 'tent', 'must-see', 'decrepit', 'paragon', 'noodle', 'soup', 'hilarity', 'specialist,', 'reverses', 'Love,', 'nutty.', 'bridge.', 'leans', 'Seine', 'tears', 'thrower', 'Adele,', 'Mediterranean', 'Autumn', 'twice', '21', 'velvet', 'voice,', 'songwriter', 'aspirations', 'sidelined', 'accolades', 'notoriety', 'Coyote', 'alike', 'Ugly', 'Cocky', 'researcher,', 'vanish.', 'visible', 'mad,', \"O'Neill\", \"Force's\", 'Spoof', 'Malibu', 'occasionally', 'goers', 'Unexpectedly', 'widowed,', 'straits', 'debts', 'potent', 'Sabbath', 'Bava.', 'passages,', 'comprises', 'Drop', 'Water\"', 'Cortner', 'Compton', 'decapitated.', 'Keeping', 'lab,', 'groundbreaking', 'unorthodox', 'surgery.', 'afloat', 'waning', 'AWOL', 'imposing', 'now-adult', 'Cream', 'ended,', 'dimensions', 'spheres', 'transformation.', 'conjures', 'Laos', 'villagers.', \"pilot's\", 'license,', 'pilots,', 'Slightly', 'painfully', 'intentions.', 'wrenching', 'tragedies', 'Juliette', 'Antoine,', 'consider', \"mother-in-law's\", 'living,', 'Ilsa', 'therapist,', '1916,', 'elderly,', 'Warren.', 'rash', 'implores', 'Parry,', 'mansion,', 'obvious', 'Dex', '(\"The', 'Felice,', 'organization.', 'Lilly,', 'four,', 'occasional', 'Gestapo', 'flee,', 'recount', 'corresponded', 'Internet.', 'responded', 'hairy.', '(He', 'Unseen,', 'time...', 'Jenna', 'touches', 're-enters', 'Cody.', 'Cody,', 'Travis,', 'A-list', 'old-guard', 'McGinty', \"players'\", 'Sentinels', 'dossier', 'screwed', 'knits', 'psychotherapist', 'comatose', 'saucer', 'beast', 'rollicking', 'sly', 'routines', 'stand-up', 'vets', 'Harvey,', 'Cedric', 'Entertainer,', 'multitude', '(as', 'comedians)', 'immediacy', 'jokes.', 'Elizabeth.', 'Venable', 'gunman,', 'expects.', 'Duc', 'Richelieu', 'wrestles', 'protected', 'hooves', 'orb,', 'inflicts', 'burns', 'spate', 'establishments', 'life-form', 'plunders', 'curtail', 'Nations,', 'them:', 'Shaw.', 'allies', 'III.', 'Toro', 'cheerleading', 'trophy', 'row.', 'cheer', 'rejected,', 'article', 'subject.', 'founder', 'Hoffman', 'drug-related', 'contacts', 'spying,', 'Left.', 'Leigh)', 'Immortals', 'Duncan', \"Connor's\", 'immensely', 'swordsmen', 'assassins.', 'Kell', 'yet,', 'skilled', 'inevitable', 'one...', 'be?', 'Medical', 'dissection', 'table,', 'perpetrated', 'merely', 'mind?', \"you're\", 'Fair', 'Kansas,', 'fugue', 'Campbell,', 'shell-shocked', \"Joel's\", 'man:', 'Griffin.', 'Griffin', 'meticulously', 'grid', 'Wanting', 'Famous', 'Rolling', 'disappointment,', 'Landing', 'Bristol,', 'large.', 'changed.', 'Feds', 'bait.', 'Fyodor', \"Dostoyevsky's\", 'Roseanne', 'outwardly', 'hands,', 'morality', 'road-trip', 'karaoke', 'inhabit', 'blow-out', 'Superhero', \"members'\", 'rip', 'longer.', \"'Urban\", 'Legends:', 'Final', 'suspenseful', 'University,', 'edge-of-your-seat', 'guessing', 'intoxicating', 'Brazil,', 'spicy,', 'Isabella,', 'enchantress', 'melting', 'everywhere.', 'stifling', 'culinary', 'difficult,', 'Selma', 'rhythmic', 'surroundings.', 'palpable,', 'heady', 'scent', 'contestants', 'undoubtedly', 'Mayflower', 'Show.', 'pageant,', 'guarantee', 'bud', '(Miss', 'beauty-queen', 'competitor.', 'boxers,', 'seasons,', 'Yoast', 'demoted', 'Boone', 'opinionated', 'half-brother,', 'earthly', 'S&amp;M', 'floor.', 'Cenobites', 'Channard', 'patient,', 'sensations', 'pain.', 'doorway', 'Kirsty', 'sculpture', 'free,', 'Hell,', 'Cassiel', 'Victory', 'overlooking', 'observer', 'harmless', 'mangled', 'precisely', 'Marianne', 'sing,', 'rats', 'Zipper', 'Del', 'Fifteen', 'half-man,', 'émigré', 'Eddie,', 'sixteen-year-old', 'Eva', 'aimlessly', 'traversing', 'drab', 'Cleveland,', 'miniaturization', 'attack,', 'Egbert', 'brave,', 'charlatan', 'Waterbury', 'teller', 'Og', 'lend', 'appearance.', 'fossils', 'Gill-Man', 'hungry,', 'fifty-foot-long', 'monster.', 'motorists', 'Working', \"Cranley's\", 'departure,', \"Lion's\", 'Head', 'reverse', 'invisible.', 'Trapped', 'sized', 'eat,', 'violinist', 'Claudin', 'Dubois', 'baritone', 'Anatole', 'aids', 'etched', 'Opera', 'malfunctioning', 'target.', '18-year-old', 'slumber', 'condo', 'boyfriends.', 'Courtney', 'attrition', 'volleyball', 'girlfriends.', 'boyfriends', 'sorority', 'creeps', 'Orville', 'showers', 'consult', 'Ouija', 'Delacroix', 'idea.', 'pitches', 'minstrel', 'airs', 'hit.', 'Rapaport', 'co-stars', 'Kari', 'Kamiya', 'Digital', 'Digimon', 'Digi-Egg', 'egg', 'hatches,', 'Koromon', 'Agumon', '(not', 'other),', 'sky', 'Parrotmon', 'grabs', 'defeats', 'enforcer', 'visit,', 'accidental,', 'knowledge,', 'hood', 'Newcastle', 'brother’s', 'humour.', 'pops', 'question,', 'humorless', 'Byrnes,', \"Pam's\", 'Byrnes', 'disasters,', 'gaze.', 'Infantry', 'tens', 'Political', 'Vice', 'allegation', 'orgy', 'leaked', 'press.', 'sticking', '\"religion\"', 'worships', 'surround', 'confusion.', 'salacious', 'language,', 'Leon', 'gig.', 'Catholics', 'Satan', 'Jesus.', 'writings', 'Larkin,', 'incarnate.', 'self-discovery,', 'horses', 'runaway.', 'Edbrook', 'senses,', 'easier.', 'demons.', 'Ghoulies', 'bucks', 'fair.', 'waterfall', 'canoe', 'cradle', 'flood.', 'Sixteen', 'assures', 'saloon', 'Browns', 'here.', 'Wind', 'Toad,', 'Toad', 'newfangled', 'motor', 'Rat', 'Badger', 'Legend', \"Irving's\", 'Crane,', 'schoolmaster,', 'Katrina', 'Bully', 'ruthless,', 'seventeen', 'pianist,', 'Sue.', 'Vera,', '11', 'strives', 'Richardson,', 'techno', 'geek,', 'catch:', 'Like', 'McKinney', 'goodness', 'entrances', 'Knotts', 'impressively', 'ham', 'story:', 'manor', 'Fei-Hong', 'foreigners', 'export', 'artifacts', 'loyalists', 'Drunken', 'Boxing', 'antagonism', 'Rudolph,', 'inseparable,', \"Tony's\", 'Richards', 'shirt.', 'ruin,', 'lotto', 'Dylan,', 'Natalie', 'interface', 'flip', 'smile', 'butt.', 'humor,', 'premise:', 'software.', 'golfer', 'poker-playing', 'long-ago', 'sweetheart.', 'Help', 'closes', 'sinful', 'Nicky,', 'old-school', \"Navy's\", 'new,', 'prejudicial', 'policies', 'uplifting', 'rocks,', 'solutions', 'awry.', 'archenemy', 'Churchill', 'audacious', 'negotiations', 'Futuristic', 'clones', 'Whoville.', 'Whos,', 'Whos', 'Grinch.', 'Grinch', 'Cindy', 'Who,', '1972', \"God.'\", 'Palestinian', 'Jamal', 'anti-terrorist', 'Rugrats', 'Chuckie', 'Lil', 'Angelica.', 'Stu', 'inventions', 'dump.', 'howling', 'assortment', 'alliance,', 'laugh-packed', 'Vil', '1940', 'Sicilian', 'Renato', 'Malèna', 'Nico', 'literary', 'Marquis', 'laundry', 'defying', \"asylum's\", 'passages', 'frenzy,', 'Elijah', 'renders', 'bones', \"nobleman's\", 'crossroads', 'role-playing', 'land:', 'Elite', 'magicians', 'lowly', 'commoners', 'powerless.', 'equality', 'prosperity', 'depose', 'game!', 'anti-government', 'guerrillas', 'summit', 'K2,', 'Brother', \"Annie's\", 'unforgiving', 'elements.', 'icy', 'rescuers', 'retribution,', 'safely', 'Timor', 'slob', 'Kristy', 'Briggs', 'newlyweds.', 'unprepared', 'parents)', 'Do', 'Davis,', 'General.', 'suspicious.', 'Autobots', 'Decepticons.', 'impatient', 'stockbroker', 'Paralyzed', 'anti-war', 'rude,', 'contemptuous', 'Snatch', 'Stock', 'Smoking', 'overlapping', 'Lilah', 'Gold', 'cusp', 'objections', 'beginnings,', 'improves,', 'liberation', 'chocolate.', 'morally', 'Boat', 'Gypsies', 'float', 'Chester,', 'parked', 'Kuzco', 'Pacha', \"Kuzco's\", 'advisor,', 'poison', '1949,', 'Magazine', 'banner', 'begged', 'question:', '\"an', 'express', 'Pollock', 'downward', 'spiral.', 'come,', 'chauvinistic', 'promotion,', 'thoughts,', 'Darcy,', 'Bronx.', 'leads,', 'it?', 'glimpse', 'Fidel', 'Kelly,', \"Chuck's\", 'cargo.', 'lavish,', 'grocery', 'disarms', 'high-power', 'loved.', 'pageant.', 'Gracie', 'contestant', 'Jersey.', 'Woo', 'manhunt', 'personal,', 'wholesale', 'abandonment', 'virtue.', 'smart,', 'Shot', 'Asked', 'Questions', 'Later.', 'Gothic', 'Abraham', '1949.', 'Lured', 'start,', 'define', 'Dramatisation', 'Missile', 'standoff', 'sparked', 'bases', 'Shown', 'F', 'Kennedy,', 'perspectives.', 'well-educated', 'abusing', 'flawed,', 'cartel,', 'Diego,', \"kingpin's\", 'luxurious', 'miner', 'mine.', 'Kingdom', 'brewing', 'evidently', 'F.W.', 'Faye', 'Vince,', 'abscond', 'Reno,', 'skip', 'mistake.', 'Warbucks', 'image,', 'absence.', 'babysitter', 'Zack', 'signed', 'clearly', 'Paula,', 'smashing', 'Johnston', 'Sr.,', 'brothers;', \"Philadelphia's\", 'ranged', 'ultimately,', 'Truck', 'judge.', 'frontier', 'Mountains', 'classified', 'post.', 'sect', 'opposed', 'Should', '1863.', 'Pennsylvania.', 'divisions', 'armies', 'Top', 'flags', 'M', 'midlife', 'stressful', 'connects', 'Friedrich', 'doings', 'Dani', 'flirtatious', 'heartbreaking', 'pizza', 'parlor', 'Connecticut.', 'pessimistic', 'heroin,', 'Spade', 'Bug,', '70s.', 'Adam,', 'diner,', 'assailants,', 'Shelton)', 'A-Squad', 'before:', 'after-school', 'sugar', 'spice', 'planner', 'client,', 'Fran', 'attraction.', 'Phoebe', 'uproot', 'retracing', 'footsteps,', 'continues,', 'school;', \"Michel's\", 'Acclaimed', 'Landis', 'send-up', 'low-budget', 'sitcoms', 'off-the-wall', 'Centered', 'interspersed', 'specials,', 'skewers', 'entertainment.', 'relative.', 'Cowabunga!', 'Annette', 'Herman,', 'faces.', 'fact.', 'erected', 'shrine', 'toughs,', 'distressed', 'wedded', 'skids.', 'Hit', 'Cleve', 'politicians', 'statements', 'evidence,', 'sunshine', 'palm', 'trees', 'robberies', 'masterminded', 'heartless', 'soon,', 'Rosewood', 'fish-out-of-water', 'ropes.', 'Remy', 'mobster.', 'Hispanic', 'descent,', 'immigration', 'migrant', 'factory.', 'goes,', 'ID', 'speaking', 'dated', 'appliances', 'Incredible', 'Journey,', \"Children's\", 'frivolous', 'loneliness.', 'Nerdy', 'schooler', 'Ronald', 'parental', '$1,000', 'condition:', 'month.', 'popular.', 'Treadwell', 'Cherry', 'fuse,', 'tracker', 'region', 'obsessive,', 'disobeys', 'hook.', 'examination.', 'electricity', 'apartheid', 'Woods', 'anti-apartheid', 'activist.', 'fledgling', \"Huston's\", 'elegiac', 'Joyce', '(from', 'convivial', '(circa', 'prickly', 'downright', 'Fat', 'Boys', 'Playing', 'caretakers', 'Dennison', 'stir', 'delights,', 'entertains', 'remembrance', \"Mom's\", 'hamburgers', 'camps.', 'dignity', 'youthful', 'beacon', 'enmity', 'weekend,', 'forest.', 'huge,', 'Plan', 'Fourth', 'shaped', 'assemble', 'MI5', 'denied', 'buddy.', 'trading.', 'Hauser', 'auditioning', 'titled', 'Tinseltown', 'Studios', 'conflicted', 'satirizing', 'goals', 'writer/director', 'Boorman', 'Emerald', 'terrors', 'onset', 'Rohan', 'Edwards)', 'discovery.', 'bombings', 'doorstep', 'Luftwaffe', 'paratrooper', 'joyous', 'ordinary.', 'decimation', 'ruined', 'Caribbean.', 'smugglers,', 'captains', 'murderers.', 'Sylvie,', 'expectations.', 'Test', 'Tuck', 'Accidentally', 'hypochondriac,', 'ex-girlfriend,', 'Lydia', 'extract', 'oxygen', 'Albany,', 'Halloween,', '1938.', 'Phelan', 'radio,', 'graves', 'Next', 'grandson.', 'storage', 'fairness', 'loyalty.', 'lounge', 'Moroccan', 'pawns', 'Emir', \"England's\", 'Michael,', 'separating', 'father!', 'request,', 'habit.', 'clinic.', 'identities.', 'romantic,', 'consummate', '\"Heaven\".', 'soul,', 'burning', 'fated', 'Montgomery,', 'excesses', 'Stella.', \"maid's\", 'lesson.', 'dresser', 'mannequin', 'Emmy,', \"store's\", 'eye-catching', 'Eternia', \"Skeletor's\", 'Castle', 'seizing', 'Sorceress', 'drain', 'waits', 'Eye', 'Universe', 'bestow', 'god-like', 'Wolfman,', 'Mummy,', 'amulet', 'Squad', 'thrill', 'romanticly', 'coastline', 'waves.', 'unlike', 'Ordinary', '(Monica', 'fabulously', 'charmer', '(Freddie', 'night...', 'attendant,', 'Hattie', 'disappear,', 'vehicles', 'Williams,', 'pondering', 'disappearances', 'clears', 'peacefully', 'deserving', 'disgraced', 'Starling,', 'malicious', 'cold-hearted', 'snatches', 'Jaoui', 'Provence.', 'Jean-Jacques', 'Castella', 'part.', \"play's\", '(Anne', 'taste,', 'XIV', 'festivities', 'chateau', 'general,', 'extravagances', 'steward,', 'Vatel,', 'honor,', 'talent,', 'longing', 'sustain', 'dignity,', 'authentic,', 'politics.', 'reincarnated', 'businessman.', 'Pictures', 'nationwide', 'boredom', 'insidious', 'Benedict', 'him!', 'Francisco.', 'Miley', 'horny', 'alter-ego,', 'souls.', \"Stu's\", 'plug', 'forever!', 'plan:', 'convention.', 'Marshals', 'Murphy.', 'natives.', 'guillotine.', 'guillotine', 'Auguste', 'supervision', 'association', 'permanent', 'border.', 'sniffing', 'else.', 'mailman,', '11.', 'guess', 'Spot.', 'spine-tingling', 'Pulp', 'Fiction', 'delivers', 'Romulus', 'insane?', 'comically', 'arid', 'northeast.', 'selects', 'Ever', 'wished', 'Series', 'shamelessly', 'contenders', 'barred,', 'contest.', 'Dawn,', 'mother-to-be.', 'dethrone', 'shameless', 'become?', 'Oleg', 'Emil', 'Warsaw,', '\"Top', 'Berke', 'Landers,', 'life-long', 'Allison,', 'Midsummer', \"Night's\", 'Kelly.', 'barbershop', 'Shelly', 'Avalon', 'Liberty', 'Heights', 'raid,', 'hut.', 'Marple', 'poisoned', 'depression', 'Sao', 'Paulo', 'Pixote', 'endures', 'torture,', 'detention', 'runaways', 'hustler.', 'videos.', 'prospects,', 'Hutton', 'Hugo.', 'Bishop,', 'cathedral', 'meets,', 'necessarily', 'exception', 'Henry,', 'affections,', 'approaches.', 'Presley', 'midway', 'self-imposed', 'big-screen', \"rock's\", \"'68\", 'Special.', 'poised', 'reposition', 'profile', 'headliner', 'ephemeral', 'Way', 'rehearsal', 'stage,', 'climax', 'nights.', 'expanded', 'edition,', \"Presley's\", 'cameraman', 'stops', 'nuns,', 'desert...', 'inimitable', 'Andersen', \"Denmark's\", 'full-fledged', \"Christ's\", 'promiscuous', 'reversals', 'rethink', 'ends,', 'robe', 'benefit', 'Demetrius', 'tempts', 'arena,', 'wavers', 'forward', 'Bellinger', 'Scotland.', 'windy', 'weather.', 'organist', 'Phibes', 'exacting', 'rays', 'greenhouse', 'giants.', 'power,', 'pushy,', 'manner', 'ground-breaking', 'PBS', 'Burke', 'least,', 'Chad,', 'retainer', 'rejoins', 'Wendell', 'Lawson', 'delusional', 'Marlboro', '(Don', 'expanding', 'financiers', 'Spider', 'Tijuana,', 'virginity.', 'Fifteen-year-old', 'Flax', 'shopkeeper,', 'Quinn', 'wealthiest', 'doubts.', 'Artie', 'Mitchell,', '\"Inside', 'Sunny', 'appeal.', 'Hercule', 'Poirot', 'identify', 'journey?', 'disturb', 'high,', 'Beta', 'fraternity.', 'Greek,', 'royale', 'Betas', 'rivals.', 'Lambda', 'Lauderdale', 'Longtime', 'Times', '1981.', 'referred', 'devastates', 'protagonists.', 'vignettes', 'invasive', 'refusal', 'acknowledge', 'obituary', 'period.', 'September', '15,', '1963,', 'Birmingham,', 'defining', 'civil-rights', 're-examines', 'bombing,', 'Wallace.', 'brags', 'Janey', 'TV\"', 'particular.', 'announced', 'audition.', 'rough-and-tumble', 'gladly', 'semi-pro', 'grotesquely', 'nutty', 'bum,', 'Enemy', 'feathers', 'relay', '1969.', 'Shelby', 'lowlife', 'gritty,', \"hangman's\", 'noose.', 'places,', 'jog', 'tattoos', 'remember.', 'engaged,', 'fine', 'mark.', 'girl;', 'non-stop', 'girl...', 'lovesick', 'extensive', 'Juni', 'boring.', 'Ingrid', 'Cortez', 'countries.', 'retirement.', '\"family', 'kitty', '$500,000', 'Panama', \"ambassador's\", 'tailor', 'Panamanian', 'Canal.', 'fighting;', 'pooch', 'gunshot', 'potato', 'markets', 'insist', 'necessity', 'activism.', 'Jezzie', 'psychopath.', 'counts', 'web.', 'Jung', \"1950's.\", 'marijuana.', 'cocaine.', 'valet', 'plagued', 'witch,', 'wizard.', '12th', \"Hale's\", 'sadness', 'Unown', 'Entei,', 'Entei', \"Ash's\", 'Misty', 'mysteries', \"Molly's\", 'Entei!', 'Dirt', 'mullet', 'jeans', 'blasting', 'optimistic', 'folks.', 'Josie,', 'garage', 'sound.', 'Jerusalem', 'signs,', 'marks', 'faint', 'skull,', 'function', 'sexist', 'Iran.', 'honey', 'Croc', 'Freddy.', 'leave,', 'suite', 'lap', 'depressed,', 'withdrawing', 'Vladimir', 'grandmaster', '1952:', 'jailed', 'depicting', 'seminary', 'cartels', 'drug-fueled', 'Bly', 'Tanto', 'blood-sucking', 'recollection', 'wreaked', 'Stoddard', 'nexus', 'twists', 'missteps', \"O'Connell,\", 'Scorpion', 'might,', 'bracelet', 'bearer,', 'southwest', 'municipal', 'carnage', 'disintegrate', 'delusional.', 'Historical', 'epic.', 'queen,', 'Julius', 'Marc', 'Antony', 'Burton),', \"Caesar's\", 'fellowship', 'LA.', 'liquidate', 'assets,', 'emulate', 'Rider,', \"Doyle's\", 'propaganda', 'rally', 'burnt', 'dealers.', 'Baron,', \"Eddie's\", 'cases', 'prodding,', 'Irving', 'T', 'S', 'Jenny.', 'feminist', 'magnet', 'Candy', 'plotless,', 'impressionistic', 'short-order', 'Frankie.', 'initially,', 'relents', 'Tim,', 'Lacey,', 'theirs', 'Therefore', 'countryside,', 'kinds', 'holed', 'deadline', 'Gabrielle', 'Simpson,', 'Dixie', 'assistants', 'up?', 'Norma', 'intolerable', 'organizer.', 'unionize', 'controller,', 'steadily', 'Bart', \"Bart's\", 'autocratic', 'gripes', 'plumber', 'dozes', 'fantastical', 'switching', 'ignore.', 'backgrounds,', 'emigrants', 'Lasse', 'Pelle', 'Denmark', 'foreigner.', 'five-year', '(Carl', 'heist,', 'clean,', 'Thatcher,', 'peasant,', 'apprentice', 'Hector', 'Urged', 'apprentices,', 'Ulrich', 'non-union', 'contract,', 'whim,', 'organizer', 'Shapiro', 'resists,', 'consider.', 'Lives\"', 'twenty-three', 'delightfully', 'kitschy', 'twice.', '(albeit', 'ogre', 'fire-breathing', 'dragon,', 'Shrek', 'Moulin', 'ace', 'Naval', 'Johnson.', \"Japan's\", '1941.', 'Tibetan', 'salt', 'chieftain', 'Tinle', 'Karma', 'clout', 'preserve', 'customs', 'dashes', 'skater.', 'Unlucky', 'chemist', 'Matthews', 'nerd,', '8,', 'wears', 'coworker', 'Farrow', 'approach,', 'Suzanne', 'Vale', 'centre', 'Mann,', 'Such', 'set-up', 'shadow,', 'mothers,', 'surrender', 'crops.', 'Buffalo', 'Sitting', 'agenda,', 'Sox', '1919', 'saddest', 'penny', 'teammates.', '$', 'accounts.', 'commissioner', 'Cavalry', 'commander.', 'belle', 'assure', 'silence.', 'wade', 'long-term', 'imposed', 'breach', 'segregation', 'divides', 'Sheriff,', 'oppressed', 'gunfighters', 'homes.', 'Chris,', 'Vin', 'Seven.', 'muster', \"rancher's\", 'arrives.', 'stagecoach.', 'Sophia', 'half-mad', 'improving', 'compromised', 'Donner', 'tutors', \"Larry's\", 'Ex-wife', 'joke,', 'Taipei', 'decipher', 'studies,', 'deposited', 'scary', 'suspected.', 'Engineer', 'Pablo,', 'patrol', 'tributary', 'symbiosis', 'foreigner', 'missionaries', 'Light', 'daylight', 'Savage', 'luck\"', 'group.', 'disciplined', 'targets.', 'Express', 'train,', 'animal.', 'adverse', 'urges', 'Caffery', 'partners.', 'Montana,', 'envisioned', 'Hart,', 'Eden,', 'Seann', 'Scott,', 'Administration', 'account.', 'terrorism,', 'lacks', 'mainframe.', 'Nash', 'disclosed', 'deteriorate', 'childless', 'bombardier', 'chronicling', 'extraordinary,', 'Kiwi', 'Nixon', 'F.B.I.', '1963.', 'Carson', 'Myrtle', 'weekend.', 'break-in', 'call.', 'install', 'unofficial', 'patrol,', 'pressured', 'Lorelei', 'Esmond', 'millionaires', 'holiday,', 'Son', 'Dorsey', 'fund', 'Michaels,', 'essentially', 'lashing', 'throughout.', 'lines,', 'reluctant,', 'qualified', 'Ulysses', 'shapely', 'female,', 'mangy,', 'Toretto', 'masterminding', 'big-rig', \"O'Conner\", \"Toretto's\", 'LAPD.', 'robotic', 'David.', 'machines,', 'belongs,', 'Jody,', 'commitments', 'Streetwise', 'jobless,', 'fathered', 'Palisades', 'Pootie', 'Tang,', 'Corporate', 'belt', 'addictive', 'products', 'Don.', 'Sissi', 'ex-soldier', 'Bodo', 'aid,', 'spreads', 'vaccine', 'eliminates', 'upsets', 'fur', 'squares', 'Liu', 'allies.', 'flicks', 'Ivory', 'Scary', 'Movie', '\"Hell', 'House,\"', 'ensue.', 'Delirious', 'luxuriant,', 'swiftly', 'Manu', 'Nadine,', 'injustices', 'Angry', 'twisted,', 'need.', 'manhunt,', \"Hung's\", 'characteristic', 'sounds', 'birds,', 'lighting', 'enhances', 'subtle', 'color.', 'Tate,', 'consults', 'Yang,', 'oriental', \"Yang's\", 'herbs', 'wondrous', 'well-established', 'rut.', 'shield', 'undisturbed', 'acoustic', 'reflect', 'Sugar', 'Bullets,', 'pawnshop.', 'advised', 'Dante,', 'burglar,', 'easy...', 'Cannonball', 'Shining', 'Trophy', 'Dash,', 'Yates', 'mph', 'speed', 'G.', '\"Cannonball\"', 'Baker,', 'roaring', \"20's\", 'Many', 'ruses', 'racers', 'Run', 'trucks.', 'damsel', 'distress.', 'win?', 'stylish,', 'chateau.', 'Donovan', 'carousing', 'Seas', 'paradise.', 'Price)', 'assets.', 'Gamble', 'Usher', 'Roderick', 'evening,', 'Faust,', 'doorman,', 'neighbours', 'senator,', 'outlaw,', 'deed.', 'Salvador', 'Vermont,', 'Lane,', 'Peter,', 'Stephanie,', 'strangler', 'bookkeeper', 'Elder', \"Mother's\", 'goes.', 'towns', 'Elders', 'deteriorates', 'available', 'Xavier,', 'vision.', 'Women,', 'Woman,', 'crop.', 'Stalked', 'engulfed', 'Arabs', 'tree', 'lease', 'Edwards', 'Alberto', 'Kirk.', 'Vincenzo', 'debauched', 'drug-induced', 'blur,', 'turn-of-the', 'surface.', 'Rice,', 'defeat,', 'Ferrara,', 'Finzi-Continis', 'family:', 'aristocratic,', 'Alberto,', 'grounds,', 'bay.', 'anti-Semitism', 'Fascist', 'Holocaust.', 'Christina,', \"II's\", 'Roslyn', 'Gay', 'Guido', 'rider', 'foursome', 'horses.', 'Bedford.', 'Ahab,', 'Moby', 'Dick,', 'whale.', 'Ahab', 'learns,', 'Hunsecker', 'sway', 'column,', 'method.', 'tendencies', 'Austro-Hungarian', 'ensnared', 'deception.', 'Tans', 'Suzy', 'Bannion', 'age-old', 'Chen', 'Zhen', 'compound', 'compounded', '70s,', 'recordings', 'Christiane', 'equipment.', \"everybody's\", 'Step', 'villainy', 'Morris,', 'top.', 'syndicate', 'property,', 'permanently.', 'hesitant', 'made,', 'deserts', 'Tang', 'syndicate,', 'want.', 'finishes', 'Aki', 'Squadron', 'mentor,', 'Sid,', 'Elle', 'sorority,', 'Hawaiian', 'Tropic', 'blonde.', 'cutest', 'popping', 'ill-gotten', 'Bobby,', 'strategize', 'better,', 'perfecting', 'glasses,', '1988', 'Burns', 'unrelated', 'rages.', 'antiwar', 'efforts,', 'reevaluates', 'Macon', \"Macon's\", 'prosecutor', 'assists', 'perpetrators', 'encouraged', 'misfits.', 'dominating', 'Land.', 'Jerusalem,', \"Emily's\", 'disapproval.', 'Cope', 'dig,', 'Finnish', 'planned...', 'Moore),', 'irrepressible', 'drunk,', '1981', 'Unity', 'Field,', '\"free', 'love\"', \"'70s,\", 'Field', 'Hambleton', 'shortage', 'helicopters', 'Bartholomew', 'maps', 'route.', 'turbulent,', 'Afghanistan', 'Hollow,', 'unbeknown', 'mismatched', 'paths.', 'full-length', 'Mississippi.', 'whims', '1940.', 'playing.', 'spawn', 'germ', 'warfare', 'seriously,', 'confine', 'laws,', '\"boost\".', 'decline.', '?', 'membership', 'snooty', 'retaliates', 'Winter,', '1915.', 'sculpt', \"Claudel's\", 'Claudel.', 'embezzling', 'guaranteeing', 'anonymity.', 'mentorship', 'bartender', 'Jamaica', 'ropes', 'barrios', 'delinquent', 'Right', 'consternation', 'last,', 'recognize', 'furry', 'Easter', 'Bend', 'hoards', 'hairy', 'horrors.', \"Isabelle's\", 'sexes', 'impressed', 'love-life', 'Isabelle.', 'irritated', 'Mortis', 'arresting', 'robberies.', 'Quan,', 'systematic', 'musicians.', 'late...', 'betting', 'swindle', 'ironic', 'hostess', 'Elvira', 'cookbook', 'scream', 'assets', 'busts', 'Saint', 'perky', 'Worrell', 'highschool', 'Darcy', \"Stan's\", 'catholic', 'h', 'vanishes', 'Paris.', 'puzzling', 'locale,', 'tells.', 'Chet', 'Ripley,', 'Ben.', 'serene', \"Connie's\", 'brother-in-law,', 'daughters.', 'excursion', 'busload', 'Chaney', 'werewolves.', 'Bowie,', 'Yoko', 'Ono', 'Lennon.', 'Beatle', 'feature-film', 'unseen', \"Lennon's\", 'Cynthia,', 'Sean.', 'Narrated', \"star's\", 'rockumentary', 'IS', 'innovative,', 'unavailable', 'recruiting', 'dilemma:', '1962,', 'District,', 'unearthed.', 'erotically', 'pagan', 'vegetation', 'survive.', \"driver's\", 'Mercedes', 'enlisting', 'Dean,', 'extort', 'serious,', 'orders.', 'lad,', 'applicant', 'Academy.', 'check,', 'nemesis.', 'Karpov,', 'step-father.', 'Olivia', 'Ladd', 'development.', 'displacement', 'farmers,', 'arouse', 'Noah,', \"dictator's\", 'Roberto,', 'dictator.', 'fool', 'masses', 'discovers,', 'destruction,', 'intimacy', 'belongs.', 'options,', 'Hawaii.', 'war-time', 'Saigon.', 'prostitutes.', 'ranking', 'Jasmin', 'Georgian', 'warehouse', 're-animate', 'spoken', 'Popes', 'hinder', 'campaign.', 'rockers', 'Haiti', 'powder', 'drug,', 'netherworld', 'Haiti,', 'Poitier', 'teamed', 'braves', 'Robot', 'manipulated', 'purposes.', 'bolt', 'Number', '5,', 'lab.', 'Hot', 'Newton,', 'spunky', 'three-year', 'diabolically', 'clinical', 'precision,', 'culminating', 'genuinely', 'finale', 'unnerved', 'audiences', 'businesses', '1929', 'anchorwoman', 'Home', 'Video.', 'This,', 'low-budget,', 'Revolving', 'hybrids', 'Ishikawa', 'is:', 'bombarded', '\"Stay', 'scarier', 'poignant,', 'SONG', 'showman', 'envisions', 'mighty', \"Detroit's\", 'manufacturers.', 'proportions.', 'stature.', 'ever,', 'brains', \"public's\", 'Tasmanian', 'beer', 'bubbles', 'beer.', 'patent', 'spectral', 'successor.', 'smoothes', 'arts,', 'Philippines', 'enlistment', 'super-criminal', 'warriors.', 'Sean,', 'Cobra', 'Grady,', 'Lee,', 'beckons', 'capitalize', 'compromises', 'vision,', 'Logan,', \"Ted's\", 'report.', 'Yakuza,', 'Earl,', 'unapologetic', 'Blaze', 'Starr.', \"Earl's\", 'vet,', 'November,', 'Louie', 'Finch,', \"Louie's\", 'Miranda,', 'plague-infested', 'rushes', '(Ethan', 'Beck', 'Diamond,', 'Coleman', 'Dreams', '1976', 'uprising,', 'Ted,', 'salon,', 'underneath.', 'absorbing', 'broke', 'ghostwriter', 'Viking', 'Valhalla,', 'sunlight', 'Pythonesque', 'down-on-their-luck', 'relocating', 'flown', 'schemes,', 'narrow,', 'bright,', 'good-looking,', 'Borneo', 'reenacts', 'Project,', 'built.', '80’s', 'skateboarder', 'skateboarding', 'won’t', 'skateboard', 'condemnation', 'Med', 'Modine', 'med', 'Gross', 'freshman,', 'fault', 'and...', 'possible,', 'improves', 'casino,', 'BAD', \"writers'\", 'alibi', '(such', 'disowned', 'Bagley', 'slogan', 'cream.', 'worrying', 'boil', 'talking.', 'Hughes,', 'Kentucky', 'Emmett,', 'experiences.', 'Rainwood', 'minding', 'wrong)', 'dealing,', 'informant.', 'policemen.', 'bribery,', 'next,', 'Passion', 'extravagant', '\"friend\"', '(Officer', 'Lewis),', 'smell', 'Destroy', '(Van', 'kickboxing', 'Sloane', 'opponent:', 'Thai', 'Tong', 'Po.', 'paralyzes', 'Crazed', 'anger,', 'taboos', 'bosses,', 'walls.', 'educator', 'deep-sea', 'floor', 'mutation', 'bed.', '6th', 'swap', 'Leone', 'nearing', 'Drumgoole', 'Leone,', 'Mollie', 'Mikey,', 'James,', 'James.', 'Randy', 'Bodek', 'Senor', 'special,', 'anchovies,', 'Phelps', 'Cleveland', '\"Meet', 'extortion,', 'starlet', 'travellers', 'polluted', 'searching,', 'Scorsese,', 'bold', 'Allen,', 'witty', 'impossibility', 'Briar', 'Rip', 'Network,', 'Gallagher', 'home...', 'unease', 'grill', 'neo-Nazi', 'types.', 'Marvel', 'Comics', 'brilliantly', 'action-adventure', 'Dolph', 'Castle,', 'shadowy,', 'revolutionary.', 'rebels.', 'Kirby', 'aerial', 'Isla', 'snacks', 'stars,', 'escalating', 'print', 'Yakuza', 'Takeshi', '20s,', 'procedure', 'perfectly', 'Hedwig', 'tours', 'Speck', '(to', 'crash-landing', 'Ruthless', 'endearing', 'spontaneously', 'Tokyo.', 'carved', 'victims.', 'Clive', 'freely', 'flowers.', 'recognized', 'gardening', \"summer's\", 'Skylab', 'misfits,', 'vegetable', 'cans.', 'Storm', 'Indian,', 'spear', 'mutation,', 'Mazarin', 'Cromwell', 'overthrown', 'revolt,', 'title,', 'brawler', 'musketeers', 'Justine,', 'Milady', 'secure', 'reforms.', 'Double', 'Line,', '(Patrick', 'Swayze)', 'busting', '(Kelly', 'Lynch)', 'Minister', 'lifestyles', 'Keller', 'unsettled', 'retire,', 'colleague.', 'Joining', 'Lyons,', 'Outside,', 'perpetrator.', 'all?', \"manager's\", 'wall', 'egg.', 'Greece', 'Alone', 'one-night', 'stands,', 'Quebec', 'Gabriella', 'offbeat', 'naked.', 'Stepfather', 'impersonating', 'Explores', 'twenties,', 'consulting', 'plump,', 'self-centered,', 'ill.', 'illness,', 'cute', 'mainly', 'Tango', 'Cash', 'Yves', 'income', 'alibi.', 'robberies,', 'hence', 'Lucas,', 'Wilderness', \"Reed's\", 'programming.', 'bachelor,', 'Unaccustomed', 'heartwarming', 'exhibiting', 'affliction.', 'deepens,', 'hallucinations.', 'sees.', 'leave.', 'warlock', 'witch-hunter', 'Warlock', 'Boston,', 'Redferne', 'bewitching', 'Grimoire,', 'Satanic', '\"true\"', 'Warlock.', 'Corey', '(Jenny', 'absolutely', 'championships', 'friends:', 'stones', 'banish', 'Druids', \"Everybody's\", 'fools', 'dirty,', 'alienates', 'escorted', 'underneath', 'frequented', \"Harlem's\", 'smuggling.', 'stateside', 'dueling', 'duties.', 'flamboyantly', 'basket', 'long-absent', 'wishing', 'excitement.', 'ladies,', 'necks', 'Isabella.', 'strongest', 'Tropez', 'downstairs', 'Albin', 'bargains', 'forever?', 'hijacking', 'prostitutes,', 'gambling,', 'terminal', 'valiant', 'battle.', 'Truffaut', 'feral', 'civilize', 'walk,', 'read;', 'boundaries', 'sensory', 'deprivation', 'states', 'consciousness', 'Philo', 'fighting,', \"queen's\", 'tomb,', 'Linden', 'Milena', 'overtake', 'participate', 'formal', 'Especially', 'Stifler,', 'glue', 'Frank.', 'Nicholas,', 'sensitivity', 'haunted,', 'visions.', 'deeds', 'homesteads', 'rightfully', 'pairing', 'testing', 'do?', 'rational', 'child?', 'Edge', 'selves', 'asbestos', 'removing', 'stuff.', 'manipulation', 'pitting', 'dash', \"racer's\", 'immune', 'bedroom...', 'Chloe.', 'Fabio,', 'Fitzgerald', 'reorganizing', 'Voltan,', 'comic-book', 'Bluntman', 'Chronic,', 'Ballard', 'nosed', '2025.', 'Cod', 'League.', 'Local', 'Tenley', '(Jessica', 'Cape.', 'families,', 'clings', 'contract.', 'Budapest', 'specifically,', 'travel.', 'first-ever', 'Joely', 'Richardson', 'motorbikes', 'hormonal', 'Phipps', 'have,', 'Elisabeth', '1975', 'Göran', 'commune', 'college-age', 'tossing', 'sewer', 'Opening', 'Box', 'soundtrack,', 'provocative', 'O', 'Odin', 'NBA', 'Grove', 'Lonnie', 'surprises.', 'year,', 'Samuel,', 'Mori', 'Shintaro', 'techniques.', 'Ninjas', 'disk', 'landfill', 'cowboys', 'ninja', '5,000', 'Illinois,', 'NYC,', 'scalps', 'spree?', 'entertain', 'Howie', 'existed.', 'Seventeen-year-old', 'Alexia', 'lately.', 'Dumas', 'photocopier', 'Dragon', '\"Blood', 'culminate', 'recruitment', 'collage', 'co-ed', 'limbo', 'transition', 'overachiever', 'clearly.', 'Colombia', 'hotbed', 'Alexis,', 'medallion', 'Costello', 'priest,', 'Rhett,', 'Glass,', 'opulence', 'aimless', 'scalping', 'housing', 'bookmaker', 'York?', 'specially', 'owner;', 'balcony', 'Queens', 'Duncan,', 'sous-chef', 'frenetic', 'explosive,', 'psychedelic', 'Pulitzer', 'Prize-winning', \"Barry's\", '\"Big', 'Mariah', 'DJ', 'appears.', 'producing', 'Real', 'Including', 'Show,', 'following.', 'Underground', 'sixteen', 'Bucharest,', 'Romania.', 'steal,', 'paint', \"characters'\", 'commentary', 'Documentary', 'Shackleton', 'expedition.', 'Antarctica', 'frigid', '1914.', 'decided,', 'starvation,', 'Setting', 'appalling', 'inadequate', 'equipment,', 'endured', 'terrain', 'rescued.', 'off-camera', 'infidelity.', 'physicist,', 'isolation,', 'harboured', 'autumn', 'ages.', 'Phantom', 'Record', 'Swan', 'Leach', 'palace,', 'Paradise,', 'crossed', 'exacts', 'Reclusive', 'planes', 'Hillary', 'tycoon,', 'Durant', 'triangle.', 'Adams.', 'charming,', 'Hubbard', 'Giddons', 'née', 'thumb.', 'sneaky', 'dishonest', 'worm', 'con-man', 'nurses.', 'jockey', 'frightening,', 'fairytale,', 'Annie,', 'beggar', 'downtown', 'Dude', 'sucker', 'apples', '---', 'Louise,', \"count's\", 'Gruver', 'defiance', 'policy.', 'ceremony.', 'WW2.', 'sewing', 'Florida.', 'Bridges)', 'Jeff,', 'plutonium', 'processing', 'purposefully', 'psychologically', 'exposing', 'blatant', 'plant.', 'Jimmy.', 'shops', 'suits', 'scooter', 'Mod', 'Zach.', 'operate', 'astronomers', 'calculate', 'Clear', 'runway', 'three-time', '\"he\\'s', 'award.', 'accessories', 'safe.', 'backfires', 'after.', 'yearn', 'reunite,', 'Chekhov', 'Mecha', 'hot.', 'pool,', 'shotguns,', 'Isabel,', 'stealing.', 'bathrooms', 'intimacy.', 'Pvt.', 'Griff,', 'Vinci', 'Vichy', 'Sicily,', 'D-Day', 'Omaha', 'Belgium', 'Czechoslovakia', 'reflection', 'mirror', 'shattered,', 'Boum', 'inmate.', 'enthusiasts', \"Cheech's\", 'Donna,', 'unemployment,', 'streets,', 'Loretta', 'Lynn,', 'districts.', 'decoy', 'Survivors', 'shipping', 'Mercenary', 'Shannon,', 'deported.', 'Romano', 'youngest,', 'Pops', 'Romano,', 'incriminate', 'racketeering', 'charges.', 'Corrupt', '\"Iron', 'deity.', 'bandit.', 'Shaolin', 'monk,', 'Elena', '12,', 'Anais', 'conspiring', 'harboring', 'winding', 'Drive', 'twisting', 'abrasive', 'vulnerable', 'hard-edged', 'gothic', 'Brooks', 'opposite,', 'precise', 'well-ordered', 'expectations', 'reserve.', 'artifact', 'Brannigan', 'extradition', 'trades', 'hard-nosed', 'take-no-prisoners', 'collars', 'Scorpio', 'critically', 'life-affirming', 'milkman', 'Iran', 'stems', 'chair.', \"Ripper's\", 'Hughes', 'posits', '1200', 'deaf-mute', 'Argentina', 'notoriously', 'footnote', 'annals', 'trendy', 'pub.', 'Waking', 'lucid', 'dream-like', 'participates', 'discussions', 'Nanny', 'powered', 'Dennis,', 'narrowly', 'bunny', 'prostitution,', 'dissatisfied', 'monsters,', 'stronger', 'confines', 'lodge', 'unresolved', 'layers', 'provoked', 'cards', 'Bergman', 'betraying', 'lieutenant.', 'utility', 'Pinky', 'Pincus', 'broke,', 'betrayed,', 'blackmailed.', 'shallow', 'babysitter,', 'outfox', 'seductions', 'fast.', '(Snoop', '11th', 'Hogwarts', 'porn.', 'Babylon', 'understands', 'McGinnis', '22-year-old', 'dentist', 'Jamal,', 'Medieval', 'Casablanca', 'snowboarding', 'Papa', 'retiring', 'protégé', 'Beijing.', 'marred', 'resentment,', 'Bishop.', 'Lucia', 'shelters', 'orphans', 'steely', 'Carmen,', 'Summertime', '\"In', 'transition.', \"Maine's\", 'fleeting', 'unimaginable', '$300,000', 'mafiosi', 'Pope', 'independence', 'left-wing', 'ensue', 'mixture', 'chemicals,', 'warms', 'monster?', 'comedienne', 'Side,', 'Ziegfeld', 'Arnstein.', 'Dar,', 'savages', '1952,', '(Ed', 'insubordination,', 'recounted', 'Lions', 'documents.', 'subterranean', 'flirt', 'breakdown', 'cruise.', 'Women', 'tracing', 'sisters:', 'thier', 'Laurence,', 'Laurie.', 'battle-hardened', 'borrows', 'jeep', 'genre,', 'performances', 'Falk', 'reluctance', 'aborigines', 'violating', 'Burton,', 'prophecies.', 'frustrates', \"Eric's\", 'Palmer,', 'tall,', 'them…', '1980,', 'Pacific.', 'emerge,', 'vintage', 'tyrant,', 'Ming', 'burrowing', 'tunnels', 'speed,', 'cutting', 'Cushing)', '(Doug', 'plants.', 'buyers', 'resign', \"Department's\", 'Narcotics', 'Division', 'berserk', 'traffickers', 'Mally', 'regarding', 'high-placed', 'invasion.', 'archetypical', 'automatic', 'Julian.', 'tedious', 'ship’s', 'disconnect', 'Forgot.', 'McBride', 'organises', 'wastes', \"Ocean's\", 'casinos', 'Salvatore', 'Church,', 'Mafia,', 'gentry', 'stunt', 'endangered', \"O'Toole)\", 'avoids', 'viewer', 'scenes.', 'Callahan,', 'suspension', 'outrun', 'unrest', 'necklace.', 'policing', 'Less', 'parole,', 'rolling', \"Danny's\", 'specialists', '$150', 'Tehran,', 'Kurdish', 'irresistibly', 'Rahmat,', 'Afghan', 'Lateef', 'compensate', 'pranks,', \"Rahmat's\", 'Baran', 'Iranian', 'Majid', 'Majidi.', 'Tehran.', 'nationally', 'internationally', 'flirt,', 'authority,', 'wit.', 'UN', 'stick', 'Gymnasium', 'Weimar', 'punishes', 'circulating', 'cabaret,', 'Angel.', 'Consumed', 'smuggled', 'coat', 'classroom', 'nerve.', 'saxophone', 'perfume', 'musician.', 'incessant', 'typing', 'bothers', 'her;', 'bother', 'landlord', 'Felix.', 'practice.', 'Amélie', 'Amelie', 'angel,', 'bet,', 'bespectacled', 'Sofia', 'illusion', 'blurred.', 'Murdoch', 'Somers', 'distrustful', 'lads', 'doubles', 'afterlife,', 'challenging', 'Grim', 'Reaper', 'beset', 'Alien', 'confidant', 'Hitler', 'amends', \"Sheena's\", 'newsman,', 'lore', 'tech', 'mercenaries.', 'fu', 'ax', 'doctors,', 'Adventurer', 'Earthling', 'talents,', 'limit.', 'alienating', 'superstars', 'Redman', 'Method', 'Silas', 'stride', 'dry.', 'grade.', 'Neutron', 'redemption.', 'ascending', 'nobody,', 'reckoned', 'Leopold', 'hobbit', 'Frodo', 'Baggins,', 'inheriting', 'creator.', 'destination:', 'blacklisted', 'Princeton', 'worthwhile', 'Nobel', 'mathematician', 'pain,', 'root', 'backyard', 'chops', 'black,', 'retires', 'tapes', 'protests', 'Democratic', 'Convention', 'Gunn', 'Sudanese', 'Libyan', 'detachment', 'barter', 'reinforcements', 'hypocritical', 'swinging', \"1960's.\", 'joint,', 'distraction.', 'V.', 'accident-prone', 'Beauregard', 'residence.', 'scholar', 'penis', 'females.', 'Greece.', 'gentleman', 'Topkapi', 'Museum.', 'near-fatal', 'difficult.', 'medal', 'victory,', 'scene;', 'Cassius', 'outspoken,', \"Ali's\", 'underlings', 'Somali', 'warlord,', 'Nazi-occupied', 'Resistance', 'RAF', 'training.', 'Multiple', '1932,', 'limitations', 'shames', 'high-priced', 'Hank,', 'Ironically,', \"Leticia's\", 'ancestral', 'Newfoundland', 'upright', 'tipped', 'spurned', 'Debbie.', 'trap,', 'piggy', 'sponsored', 'Chimera', 'Gas', 'Company.', 'Waxman', 'agency.', \"agency's\", 'Twain', 'Included', 'rooms,', 'allowed.', 'gorgeous,', '18-years-old', 'lazily', 'Cédric', 'deliberate', 'Shaun', 'Orange', 'County', 'Stanford', 'dim-witted', 'Mani', 'province', 'Cates', 'Man\".', 'clocks', \"Kyle's\", 'flair', 'clues.', 'infested', 'behaving', 'Earnshaws', 'Earnshaw', 'ragged', 'Heathcliff.', \"Earnshaw's\", 'Hindley,', 'Heathcliff', 'soulmate', \"Hindley's\", 'Moors', 'Hindley', 'Linton,', 'Marg', 'Hotel.', 'realms', 'Galen', 'King’s', 'kingdom.', 'fast-paced,', 'Barbarian', '(Arnold', 'Schwarzenegger)', 'commissioned', '(Sarah', \"D'Abo)\", 'Horn', 'Unknown', '(Grace', 'Jones),', '(Tracey', 'surging', 'domain', 'Lord,', \"Nekron's\", 'Dimension', 'Frenchy', 'Fausto', 'Galaxina', 'lifelike,', 'cruiser', 'clandestine', 'Writer/director', 'Oedekerk', 'weaving', 'Chosen', 'One,', 'sled', 'Gradually', 'his/her', 'solution.', 'Darryl', 'childlike', 'inventing', 'method', 'Lee.', 'rigorous', 'training,', 'Kaspar', '(Bruno', 'devoid', 'hat', 'western.', 'Bavarian', 'slides', '1966,', 'Dieter', 'Dengler', 'Laos,', '85', 'pounds,', 'escaped.', 'machete-wielding', 'villagers,', '60,', 'poverty,', 'regularly.', 'peels', 'dedicated,', 'antidote', 'bureaucrats.', 'Kellerman', 'other-worldly', 'lusty', 'nurse.', 'surgically', 'Dad', 'since,', \"Rio's\", 'Edmond', 'Fernand,', 'Reporter', 'unthinkable', 'Virginia', 'fevered', 'Sullivan,', 'minister.', 'Beijing', 'Bibiane', 'dabbles', 'modeling', 'owing', 'abortion.', 'drowning', 'many,', 'someone.', 'Evian,', 'overseen', 'core', \"Duke's\", 'Kenichi,', 'traveled', 'Metropolis', 'organ', 'trafficking.', 'realization', 'destiny?', 'psychoanalyst', 'dysfunction', \"Twain's\", 'Adventures', 'Wood', 'swapping', 'lying,', 'exams,', 'Ethan,', 'lyrics', 'quintet', 'hopeful,', 'pro,', 'Solange', 'little,', 'fainting', 'fits.', 'Mozart', 'alphabetical', 'Stephane', 'housework.', 'vendor,', 'jaded,', 'hairdresser,', 'unattainable', 'pleasure.', 'Today', 'Cathedral', 'entertainers,', 'sensuous', 'spectators.', 'cathedral,', 'Frollo,', 'alchemist,', 'gazes', 'Quasimodo,', 'bell', 'ringer', 'servant,', 'Esmeralda.', 'touched', 'Merlin', '42', 'sociology', 'Fourteen-year-old', 'Shepherd', '(Bynes)', 'Wolf.', 'credited', 'Claudio', 'Die', 'roars', 'breakneck', 'pace', 'Starring', 'J', 'Rollerball', 'death-defying', 'superstar.', 'collides', \"league's\", '(Reno)', 'on-court', 'hard-working', 'toils', 'Pat,', 'doing,', 'Norm,', \"restaurant's\", 'adoring', '(if', 'photographers', 'smarter', 'Heidi', 'uncaring', 'maternal', 'Dete', 'reclusive,', 'grumpy', 'paternal', 'Adolph', 'Kramer.', 'baseball,', 'shortcomings.', 'heals', '\"Fish\"', 'catcher,', 'Scotty', 'Smalls', 'treehouse', 'lifeguard', 'region,', 'shapes', 'fuels', 'span', 'greeted', 'sightings', 'is...', 'perfect,', 'conversation.', 'sudden,', 'McNamara', 'inmates,', 'Wilhelm', 'silently', 'enemy.', 'distracted,', 'orchestrates', 'munitions', \"hero's\", 'weigh', 'Archibald', 'Therefore,', 'list.', 'besieged', 'bored,', 'ineffective', 'troopers', 'stumbling', 'bust,', 'enjoyed', 'lived,', 'ashes.', 'threads', 'disappointments', 'masquerades', 'acquaintances,', 'Brice', 'Nicky', 'honeymoon,', 'hardworking', 'rowdy', 'session.', 'nonetheless', 'Doreen', 'Brenda', 'abortion,', 'salon', 'chain,', 'Marguerite.', 'Rather', 'vengeful,', 'glad', 'jewelry.', 'Marguerite', \"Andrew's\", 'Bruno', 'drinking.', 'accordion,', 'Eva,', 'painting,', 'Hermie', 'unaffected', 'worries', 'laid,', 'honestly', 'front,', 'Vicki,', 'Marbella', 'hot-shot', 'Arctic', 'iceberg', 'releases', 'occupants,', 'units', 'contacted', 'Bored', 'Vampires', \"want's\", 'eternally', 'shall', 'McGowan,', 'impotent,', 'decade-long', 'failures.', 'bonding', 'mild', 'doppelgänger.', 'Disgraced', 'aside,', 'interact', 'Mira', 'high-strung', 'Needing', 'Jake,', 'injures', 'deer', 'inspect', 'damage,', 'Otis', 'tracking', 'leaguer', 'coaches', 'ultra-competitive', 'league.', 'Bears', 'Curtis', 'into.', 'champions', 'champs,', \"Bears'\", 'retiring,', 'attendees', 'hick', 'Prague.', 'D', 'Meier', 'Markus', 'Hunters,', 'Must', 'Isak', 'anniversary', \"Sullivan's\", \"heart's\", 'Erica,', 'phase', 'discredited', 'Haig', 'torture.', 'crusading', 'knights', 'stands.', 'sealed', 'crypt', 'reopened,', 'fury', 'Zak,', 'size,', 'logging', 'pristine', 'rainforest', 'Zak', 'lumberjacks', 'chopping', 'flash', 'maintaining', 'semblance', 'Olivia.', 'passionate,', 'daughter?', 'rehearsing', 'panic,', 'killer!', 'alive?', 'troll', 'whenever', 'possible.', 'punishment,', 'islanders', 'devour', 'there:', 'private-eye', 'Baroness', 'gloomy', 'Astaire', \"Elizabeth's\", 'Martinez', 'Bonds,', 'low-life', 'Jackson.', 'Hiding', \"thieves'\", 'booty', 'fake,', 'wallet,', 'ticket,', 'van,', 'humankind', 'races.', 'Full', 'Frontal', 'twenty-four', 'connections.', '\"Bull\"', 'farmed', 'generations,', 'sacrificing', 'highway.', 'sinister.', 'Jessner', 'assassinated', 'Kerrigan,', 'guardian.', 'rams', 'afterwards', 'incompetence', 'Price.', 'Slayer,', 'dwarf,', 'one-armed', 'elf', 'fastest', 'bow', 'land;', 'ones.', 'brides', 'boiled', 'not,', 'Averill', 'prosperous', 'County,', \"area's\", 'immigrants', 'Champion', 'madam', 'Ella', '(Isabelle', 'escalates,', 'agencies.', 'bluff', 'chapters', 'compromised,', 'fumbling', 'yachts', 'boats', 'misery,', 'veteran,', 'dapper', 'cynic,', 'destiny.', 'WW', 'Libya', 'little-known', 'chapter', 'conquering', '15-year', 'bankroll', 'venue', 'organization,', 'fashion.', 'origins,', 'Guinea,', 'evolutionary', 'psychology', 'club\"', 'implanted', 'Katherine,', '\"Death', 'garden.', 'motto', 'impresses', 'lowered', 'Maniac', 'Moon', 'Heavy', 'Eagle', 'situated', \"Kane's\", 'crypt,', 'blue,', 'KAOS', 'dissolve', 'clothing.', 'Smart', 'Justine', 'arch-nemesis,', 'McCarn', 'stealthy', 'scores.', \"Tracy's\", \"God's\", 'Patay', 'Almighty', 'messenger', 'Browning', 'PI', 'client.', 'stabbed', 'heaven,', 'destination', 'assignment:', 'irradiated', 'red,', 'critters', 'woolly', 'mammoth,', 'saber-toothed', 'tiger', 'sloth', 'nobler', 'facility,', 'ravenous', 'hounds', 'hell,', 'outbreak.', 'pathogen', 'Pulitzer-winning', 'zone,', 'assignment,', 'war-torn', 'collapse,', 'there;', \"Harrison's\", 'Cesar', \"newspaper's\", 'thirtysomething', 'Goldberg', 'Israel', '13,', 'assembling', '2002', 'nominee', 'Feature', 'headstrong', 'scholarship.', 'aims', 'Epic', 'crucifixion', 'spirituality,', 'ordeals', 'gladiatorial', 'crucified', 'co-starring', 'meek', 'dentist,', 'Potter,', 'gunslinging', 'Indians.', 'castaways', 'Arabian', 'Nights', 'Singapore', 'Chester', 'Skagway,', 'mine,', 'McGurk', 'Sal', 'Ace,', 'Sal,', 'Hauer', \"Rohmer's\", '(A', \"latter's\", 'absurdity', 'resent', 'matchmaking.', 'Nevertheless,', 'part,', 'Rohmer', 'uncertainty', 'minimalist', 'reflections', 'cadets', 'measures', 'Glenda.', 'prosecutor,', 'lawmen', 'samurai.', 'swore', 'And,', 'bride-to-be', 'Bandit,', 'Trigger', 'mode', 'hunt,', 'dirt-bike', 'racers.', 'motocross', 'racers,', 'Rutger', 'Yorkers,', 'elsewhere,', 'prison!', 'Stig-Helmer', 'Ole', 'Canary', 'Islands', 'Reaper.', 'bloodlust', 'preventing', 'Committee', 'frat', 'guarantees', 'deceptively', 'Warren,', 'Helga', 'wheelchair', 'stroke,', 'Emily,', 'results!', 'penalty', 'behaviour.', \"Gibbs'\", 'wristwatch', 'happens.', 'Francesca,', 'Rainbow', 'corrupt,', 'costumed', 'squeaky-clean', 'puffy', 'catapults', 'scoring', 'sanctuary', 'intruders', 'leagues', 'championship,', 'Jim,', 'laughed', 'mound,', 'confounds', 'himself)', 'successive', 'Tampa', 'contacting', 'Erika', '\"Sister', 'Bertha', 'Reitman,', 'Blue.', 'Clement', 'sadist', 'Posing', 'fraternity,', '1830s', 'Frédéric', 'Grimes.', 'graduate,', 'tuition', 'break:', 'wall.', 'barriers,', 'besides', 'inmate,', 'approaches:', 'performance?', 'perspective,', 'tempt', 'HG', 'delight', 'flag', 'true?', 'Akira', 'Kurosawa', 'morals,', 'communication.', 'Located', 'Rust', 'Belt,', 'chagrin.', 'Rumors', 'fold.', 'announcement', 'last.', 'Francine,', 'folds,', 'negotiating', 'FDR', 'different,', 'dismantle', 'Hadley', '(Rachel', \"Christina's\", 'hazards', 'meaningful', 'gathering', 'Human', 'Nature', 'discover,', \"Nathan's\", 'heritage', 'endurance', ':', '700', '9', 'bush', 'visitor.', '1945.', 'imagery', 'strengthened', 'Crazy', 'serial-killer', 'Pictures,', 'location,', 'bachelors', 'reappearance', 'kooky', 'sooner', 'peculiar', 'eclipse', 'Bette', 'Tenacious', 'Cassie', 'men:', 'Mathayus', \"Balthazar's\", 'Amid', 'betrayals,', 'abductions', '1910.', 'avenges', 'rebelling', 'badlands', 'codes', 'sheet', 'brown', 'poisonous', 'seas.', 'ancient,', 'civilizations.', 'harmful', '13th,', 'Kerrigan', 'oriented', 'Colette', 'turns.', 'childrens', 'wich', 'afford.', 'nagging', 'clown.', \"(he's\", 'ex-wife.', 'Coca-Cola', 'zero', 'penetration', 'soft', 'persistence', 'venture.', 'valley.', 'announce', 'drifting', 'acerbic', 'Bruce,', 'groundbreaking,', 'no-holds-barred', 'diaries,', 'deepest', 'Auschwitz', 'permitted', 'self-made', 'encounters.', 'lust,', 'comeback.', 'Work', 'forfeit', 'spider,', 'endowed', 'Mitchum', 'Bogart', '(Edward', 'Albert)', 'digs,', 'Tanner', \"Don's\", 'disarm', 'Jill,', \"Jill's\", 'relationship?', 'Distraught', 'reconsiders', 'insistence', 'honesty.', 'readily', 'Cassandra', 'Crossing', '1000', 'train.', 'Mackenzie', 'Chamberlain', 'Harris)', 'miraculously', 'dimensions.', 'meter', 'Vance', 'dogsled', \"Burton's\", 'Nile', \"Victoria's\", 'emerging', 'hardship,', 'prostitution.', 'robber,', 'Yukon', 'mistreats', 'Fang,', 'purposely', 'spark.', 'melodrama', 'Omar,', 'lifts', 'chunk', 'grungy', 'Alyosha', 'Shura', 'voodoo', 'disposes', 'fuss,', 'curvaceous', 'cracking', 'laughing,', 'sky.', 'Veronica.', 'Marcus,', 'opposite.', 'Naboo,', 'Padmé', 'Obi-Wan', 'Kenobi', 'Clone', 'Wars.', 'anti-Semitic.', 'siege', '25,', 'Brigade', 'artillery', 'battery', 'judgement', 'flighty', 'screwball', 'Tank', \"Scorsese's\", 'intertwines', 'probing', 'backstage', 'Clapton,', 'legends.', 'Working-class', 'Mitch,', \"Mitch's\", 'tranquility', 'Terrified', 'safety,', 'methodical', 'juggles', 'debacle,', 'intersect', 'ponder', 'Decker', 'Cherie', 'advances,', 'unscheduled', 'cowboy,', 'tenderfoot', 'for...', 'resting', 'illustrating', 'broader', 'citizen.', 'privately', 'Jean-Marc', 'satirized', 'Fulton', 'chimps,', 'Esther,', 'pours', 'samples', 'Rivera', 'seventh', 'punch', 'punches', 'anytime', 'Miller,', 'counselor,', 'officials,', 'Cabot', 'analyst', 'happens:', 'Russians.', 'Afro-American', 'candidate.', 'correspondence', 'Marks', 'Co.,', 'Road.', 'Devlin', 'Poli,', 'risen', '$20,000', 'options', 'Bender', 'Collins,', 'practically', 'Fargo', 'blaming', 'devastation', 'Bounce,', 'irascible', 'relieve', 'Tobruk', 'Sonia,', 'restaurant,', 'wife;', 'acerbic,', 'lonesome.', 'divorcing', 'yuletide', \"Sonia's\", 'overtures', 're-examine', 'self,', 'hopes.', 'renewal', 'possible?', 'pods', 'attached', 'purposes,', 'rejoice', 'showcasing', 'Richard.', 'mechanics', 'Transport', 'buses', 'mobile', 'Athens.', 'Handsome', 'Charming', 'Avery', 'Cactus', 'ambush', 'cannibals', 'dispute', 'resolved', 'universal', 'Beautifully', 'Inuit', 'duels', 'unconscious,', 'ate', 'lit', 'Bourne', 'number,', 'reconstruct', 'for?', 'Spooky', 'gung-ho', 'Mays', 'experimentation,', 'sexual,', 'Action', 'Franta', 'Karel', 'exiles', 'farmhouse', 'Navy.', 'Brown),', 'Atouk', 'muscle', 'cooked', 'meat,', 'brutal,', \"others'\", 'mess', 'Netherlands', 'capital', 'offense', 'posse', 'gallows', 'Moon,', 'Terror.', 'Terror', 'Mill', 'Russell,', 'stagecoach', 'outlaws.', 'create.', 'Jimson', 'pawnshop', 'patron', 'II-era', 'construct', 'mutually', 'assured', 'supervisor,', 'production,', 'family-friendly', 'Custer', 'worst.', 'Brittles', 'Flint', 'beau', 'Cavalry,', 'babysit', 'boyfriend;', 'booted', 'Lilo', 'Anderton', 'committed.', '1931,', 'aboriginal', 'plucked', 'stores', 'disappear.', 'Longfellow', 'Deeds,', 'pizzeria', 'Moving', 'opportunists', 'insecurity', 'Carolyn', '(Christina', 'Ricci)', 'Pi', 'regional', 'Challenged', 'Harris),', \"Pumpkin's\", '(Brenda', 'unsuspecting,', 'Daphne,', '1942', 'Bella', 'Yonkers,', 'employee,', 'cards,', 'great.', 'drags', '1860s', 'Harlow', 'untarnished', 'statement', 'scum', 'averted', 'submits', 'Powerpuff', 'defenders', 'Network', 'Forest,', 'Cartoon', 'Marina', 'fashionable', 'self-destruction.', 'equal', 'Crocodile', 'swallowed', 'beacon,', 'ever-present', 'ringing', 'croc', 'relocate', 'easy,', 'snakes', \"shouldn't\", 'brood', 'dragons', 'underground.', 'Dragons', 'Rooney', 'killing,', 'Hoshino', 'storyline,', 'skips', 'quieter', 'Okinawa,', 'Venus', 'recovers', 'specimen', 'Rolls', 'suitor,', 'seekers', 'sight.', 'representatives', 'Thirteen', 'Continental', 'Congress.', 'deliberation', 'Declaration', '500,000', 'turmoil,', 'shiny', 'facade', 'documentary-style', 'Arkansas.', 'drive-in', 'B', 'Z,', 'climate,', \"Z's\", 'ruling', 'facts', 'leak', 'Serial', 'programmers', 'thrill-seeking', 'home!', 'inextricably', 'entwined', 'mutate', 'mobilize', 'townspeople,', \"Sheriff's\", 'Ashley,', 'Harlan,', 'beasts.', 'malfunctions', 'mouse,', 'east', 'foe', 'Beary', 'fan,', 'heroes,', 'Paramount', 'Beautiful,', 'speaks', 'confides', 'consequently', 'tryst.', 'fills', 'Oscar,', 'resolution.', 'subsequently', 'fruit', 'peddler', 'becomes.', 'Virna,', 'vampire,', 'photograph', 'Harker,', 'contemplative', 'parody.', '90', 'seconds', 'golfing', 'banded', 'salons', 'Garvin', 'Blaise', 'Giovanna', 'Yuzo', 'infuriated', 'provoke', 'foiled', '\"Red', 'Whatever', 'bested', 'Nottingham.', 'Sherwood', 'Forest', 'Popular', 'Rivers', 'coercing', 'Pistachio', 'Disguisey', \"Fabbrizio's\", 'arch-enemy,', 'them!', 'come.', 'Giulia', '(Stefano', 'panic.', 'irreversible', 'parenthood', 'resist.', 'Exploring', 'OSS', 'discount', 'incarnation', 'transplant,', 'profiler', 'Xander', 'Cage', 'adrenaline', 'lousy', 'thrilled.', 'Records', 'Tupac', 'incidents,', \"Broomfield's\", 'label', 'Knight.', 'Peruvian', 'greatness', 'vulnerability.', 'well-heeled', 'denizens.', 'Mika', 'Muller', 'Andre,', 'mount,', 'alliances', 'faithfully', 'Rémi', 'Marion,', 'passes,', 'off-guard', \"Marion's\", 'caves', 'Principal', 'Latimer', 'Gangs', 'knives', \"dealer's\", 'ultra-violent', 'Nash,', 'high-flying', 'shack', 'roommates,', 'waves', 'Masters', 'along...', \"Martha's\", 'Lina,', 'doorstep.', 'Mute', 'baits,', 'Maud', 'Roland', 'best-known', 'poems', 'echoing', 'Sy', 'guy\"', 'lovingly', \"Sy's\", 'dose', 'Serving', 'Perry,', 'Hurley', '(Perry)', 'server', 'papers.', 'set.', 'digitally', 'believable', 'conviction', 'disputing', 'champion.', 'Care', \"magician's\", 'Nicolas', 'Aside', 'disappointments.', 'Mission,', 'Heart', 'Noble', 'Horse', \"heroes'\", 'destiny,', 'Perseus', 'Bridges,', 'Elwes,', 'Recruited', 'admiral', 'squadron', 'airplane', 'knives,', 'Bradford', 'America;', 'venom', 'effects,', 'visionary', 'ours', 'meditation', 'classes,', 'maid.', 'Neddy', 'half-breed.', 'Stein,', 'staking', \"convict's\", 'appears,', 'Health', 'Huston', 'out:', 'Welcome', 'cheerleaders', 'Genevieve', 'all-time', 'classics,', 'À', 'nous', 'liberté', 'sound,', 'mechanized', 'delight.', 'well-respected', 'Bell.', 'impressionable', 'skyrocketing', 'Mari', 'Phyllis', 'city\"', 'Ángela', 'vowed', 'goal,', 'Harvard,', 'reminded', 'Duff', 'payment', 'hare-brained', 'Lai', 'T.J.', 'stunningly', 'moderator', 'Offbeat', 'Hopper', 'Walsh,', 'reception,', 'contractor,', 'Lola,', 'shape,', \"Ron's\", 'Carruthers', 'employers,', 'Heath', 'enlarging', \"employers'\", 'apply', 'Layton,', 'duty,', \"Nash's\", 'ruinous', 'stupid,', 'thirties,', \"camp's\", 'monkey,', 'befuddled', 'Gill', 'Moe', 'Visitors', 'commandant', 'Martians', 'Orson', \"Welles'\", '\"War', 'broken-down', 'Shep', 'etc.', 'drivers,', 'Asian-American', \"island's\", 'madman.', 'Matahi', 'Reri', 'otherwise', 'Tabu', 'film’s', 'Price', '‘The', 'deer,', 'cul-de-sac', 'octogenarian', 'mastermind,', 'hone', \"Wilberforce's\", 'naiveté', 'sensibilities', 'advantage.', 'oversees', 'miniature', 'Eiffel', 'unassuming,', 'worn', 'Clearly', 'material,', 'market,', 'twelve-year-old', '42,', 'Carlos,', 'Das', 'Experiment', 'aborted', 'prematurely', 'experimenters', 'combat,', \"'60s,\", 'self-proclaimed', \"'n'\", 'ball,', 'rocked', 'pants', 'Sisters', 'nickname', 'resigns', 'Sudan', 'symbolize', 'redeem', 'coward.', \"Jennings'\", 'foolproof', 'snowbound', 'cottage,', 'Massimo', 'same-sex', 'strongman', 'Aryan', 'animals.', 'pigs', 'Bound', 'contentious', 'tux', 'copes', 'Hubert', 'methods.', 'methods,', '3-D', 'Jonah', 'dramatised', 'January', 'pleas', 'burgle', \"pawnbroker's\", 'awkward,', 'underdeveloped', 'all-male', 'Wales,', '4th', 'franchise', \"developer's\", \"Godzilla's\", 'stomping', 'Mothra', 'pains', 'struggles.', 'epics', 'distribution', 'footage.', 'panics', 'lights.', 'Bakersfield,', 'technologically', 'nations', 'modernization', 'Valmont,', 'wins,', \"Harker's\", 'Elsinore', 'Pam', 'fish.', 'Django', 'spaghetti', 'Sergio', 'Corbucci', 'Nero', 'Britain', 'issued', 'referenced', 'reprise', \"1987's\", '2:', 'Il', 'Grande', 'Strikes', '20-something', 'Buckner', 'apparent,', 'unbalanced', 'medium.', 'locating', 'Shark', 'prowls', 'corridors', 'spaces,', 'review', 'edit', 'Dre', \"Dre's\", 'romantically.', 'bisexual', 'classmate.', '(Alexis', 'Bledel)', '(Victor', 'Garber', 'passion.', 'violence?', 'apart?', 'Columbine', 'Charlton', 'riddled', 'comics,', 'Seinfeld', 'Gonzague', 'wed', \"baron's\", 'occupants', 'infant,', 'rightful', 'pass.', 'Lagardère', 'Count,', 'Pokémon', 'Celebi', 'Suicune,', 'adventure!', 'Pikachu,', 'Sammy', 'Pokéball', '“Dark', 'Ball,”', 'Let', 'POKÉMON', '4EVER', 'Suicune', 'day!', 'beleaguered', 'firms,', 'prior.', 'uncovered.', 'powerful,', 'guaranteed', '51st', '51', 'pleasure,', 'quick,', 'double-crosses.', 'sounded', 'legend:', 'videotape', \"viewer's\", 'curiosity', 'video...', 'Ring.', 'projects', 'wholesome', 'family-man', \"Crane's\", 'contributes', 'Jews', 'grey', 'zone.', 'Gretel', 'Grimm', 'Mandel', 'sister’s', 'decision,', 'Ana,', 'chances,', 'flaws,', '(Sergei', 'corridors,', 'theaters', 'Persian', 'ambassador.', 'palsy.', '1935,', 'firebombing', 'hunger,', 'prejudice,', 'Voorhees,', 'Tracked', 'bits', 'reborn', 'bone-chilling', 'anybody.', 'shocking,', 'blood-soaked', 'instinct', 'accidents,', 'McKenna,', 'apprentice.', 'hits.', 'Bee', 'stuff', 'flashing', 'Hat', 'Nights.', 'train.\\n', 'Train', 'guest,', 'marches', 'Low-budget', 'flick', 'shaman,', 'shaman', 'drilling', 'foreman.', 'muse', 'convert', 'rollerskating', 'Amantido', 'bananas', '(hence', 'Torsillo', 'initiate', 'banana', 'goons,', 'acquiring', 'shipment.', 'Late', 'bootleg', 'intensive', 'youths', 'Jess', 'disprove', 'enslaved', 'harbor.', 'compass', \"boss'\", 'duplicate', 'mistakes.', 'eagle', 'Warsaw', 'hack,', 'Gdansk', 'dirt', 'shipyard', 'Maciek', 'Tomczyk,', 'sympathetic,', 'detained', 'commited', 'tourists,', 'normally', 'unsociable', 'trapper', 'ice-cold', 'interrupts', '$200', 'Millen,', 'breeder', 'completing', 'Landers', '(Alex', 'farming', 'Philippines.', 'psychiatrists,', 'bath,', 'hysteria,', 'manifestation', 'Daryll', 'crews', 'cameras.', 'scenes,', 'Mathilde.', 'Thomas.', 'Mathilde', 'Mathilde,', \"enemy's\", 'vacations', 'Winter.', 'mid-life,', 'crises.', 'pyramid', 'rages,', 'agile', 'runners,', 'gruesome,', '50-year', 'Town', 'here,', '000', 'canal', 'competitor', 'Plot', 'Mattias', 'Thuresson.', 'clique.', 'blackouts', 'interplanetary', 'Corrine', 'Fabulous', 'Reid,', 'Comanche', 'wounds,', 'dedicates', 'Cavendich', 'represents.', 'Reid', 'Tonto,', 'Marleen', 'Nazis.', 'booming.', 'rife', 'commissioner,', 'Herr', 'Bohm', 'bordello', 'builder', 'depend', 'projects.', 'vocation', 'Plastic', 'alterations', 'perfection.', 'resounding', 'Matrix.', 'Bugs', 'Bunny', 'Enterprises', 're-released', '28,', 'pre-teen', 'maimed', 'Poland.', 'tournament.', 'passport.', 'announced.', 'solved', 'slipped', 'harried', 'strapped', 'decorating', 'Gregory,', 'sickening', 'unfold,', 'Busby', 'Berkeley', 'products,', 'Joan,', 'mutilating', 'instructor,', 'piranha', 'lair', 'sunken', 'resort.', 'naive,', '15-year-old,', 'preoccupied', 'Mallow,', \"Phillip's\", 'fund.', 'Joss', 'towing', 'Jackass:', 'Movie.', 'stunts', 'LIVE', 'risk,', 'Via', 'Truth', \"Truffaut's\", 'Player', 'sang', 'tu', 'version).', 'gentle,', 'guy,', 'checkout', 'Frida', 'Kahlo', 'unflinchingly', 'entanglements', 'recruit,', 'Chiffre', 'symbolic', 'folklore', 'werewolves,', 'or,', 'handsome,', 'smoldering', 'spouses', 'founding', 'Israel.', 'attended', 'stag', 'popped', 'cake', 'English.', 'prototype', 'stealth', \"States'\", 'Class', 'Better', 'clause', 'requiring', 'Pole', 'obligations,', 'Yuletide', 'Itinerant', 'Iran,', 'Iraqi', 'bombed-out', 'Reeboir', 'attaches', 'weighed', 'contraband', 'border;', 'Danger', 'tie-in', 'eyewitness.', 'straighten', '1995.', 'Mile,', 'splits', 'arbitrary', 'prosecute', 'death-row', 'Hermione', 'Armenian', 'Amaro', 'Benito', 'holy', 'Berry', 'Gordy', 'phenomenal', 'Boys,', 'Stones,', 'Funk', 'Brothers.', 'Motown', 'photos,', 're-creation', 'performers.', 'annoy', 'seven-year-old', 'Seoul.', 'Ramon', 'Escaping', 'spaceship,', 'indifferent', 'cart', 'sights.', '\"right', 'relevant', 'irrevocably', 'Yorke', 'posted', 'depredations', 'marauding', 'Apaches.', 'command.', '(whom', 'regiment.', 'balloon', 'ingenuity', 'dangers,', 'Leagues', 'zoologist', 'Megan,', 'Keitel', 'schizophrenic', 'conflicting', 'personality,', 'introspective', 'pained', 'calamitous', 'absolute', 'abandon.', 'endangered.', 'ma', \"Father's\", 'Glory', '(La', 'recollections', 'predecessor,', 'cartel', \"leader's\", 'reliving', '35-year-old', 'Spring', 'tensions,', 'infidelity,', 'giovane', 'di', 'lavoro', 'ed', 'cercare', 'altri', 'e', 'conoscere', 'casa', 'della', 'un', 'dove', 'se', 'ne', 'una', 'serie', 'amico', 'dalla', 'arriva', 'da', 'il', 'suo', 'prete', 'che', 'vuole', 'padre', 'etc.)', 'Gaetano', 'al', 'ragazza', 'non', 'nome', 'del', 'Primarily', '13th', 'Revok', 'scanner', 'converts', 'Sharky', 'politician.', 'cabbage', 'Guards', 'ammunition', 'clips,', 'blackboard', 'Kristen', 'view.', 'savages,', 'following,', 'safecracker,', 'specialized', 'heists.', 'procedures', \"villain's\", 'Hundert', 'Classics', 'inexorably', 'classroom.', 'Asia.', 'Stone,', 'orbiting', 'galleon', 'Hawkins', 'Case', 'squatters', 'eastern', '2000,', 'con-man,', 'Abe,', 'Danila', 'Petersburg.', 'sensitive,', 'Bjarne,', '40s.', 'vanished', 'regions.', 'search,', 'descendants', '(Linda', 'cocaine,', 'ensnares', '1879,', 'Zulu', '(Stanley', 'Baker)', 'Caine)', \"Rorke's\", 'heroes.', 'rifle', '\"with', 'guts', 'it\".', 'awarded.', 'Drift,', '23rd', 'counseling', 'Naturally,', 'excess', 'stress.', 'stockbroker.', 'Orchid', 'enforcing', 'Medea', 'Kwinto', 'burglary', 'belonged', 'backstabbing', 'double-crossing', 'Jönsson', 'Vanheden', 'released.', 'Wall-Enberg', 'Sickan', 'Switzerland,', 'fooled', 're-unites', 'sermon', 'definition', 'turkey', 'wartime.', 'psychopaths', 'blackout', 'female.', 'charmed', \"Hitler's\", 'braving', 'Attila', 'barbarians', 'Milano', 'premiere,', 'sort.', 'betrothal', 'madame', 'marking', 'workers,', 'aristocrats,', 'unfolding', 'steamship', 'cinema’s', 'directors.', 'derelicts', 'kind.', 'Stegman', 'flashback,', 'Joanne', \"Mona's\", 'Danton', '(Gérard', 'Robespierre', 'Revolution,', 'ruler,', 'executions', 'Reign', 'Danton,', 'solitude', \"Robespierre's\", 'Robespierre,', 'challenge,', \"student's\", 'Murat', 'spaceships', 'Wars', 'newsreel', 'clips.', 'hiking', 'speculate', 'combat.', 'arena', '1,000', 'repelled', 'bypass', 'impenetrable', 'bizarre,', 'marching', 'victory.', 'earrings', 'repulsive', 'Clive,', 'alteration', 'Ventura', 'socialite.', \"Marisa's\", 'Deanna', 'installation', 'Romulan', 'discovery:', 'Schmidt', 'altogether', 'bitter,', 'either,', 'annoys', 'disapproves', 'like,', 'a.k.a.', 'Evelyn,', 'Maurice,', 'intertwined', 'afford', \"boyfriend's\", 'supermarket', 'unpublished', 'own...', 'trekking', 'Aragorn', 'Merry', 'along,', 'Tower', \"peasant's\", 'Year,', 'interrogate', 'translator.', 'Anger,', 'blame,', 'parties,', 'outbursts', 'Vallon', 'gangland', 'pickpocket', 'Dedicated', 'environmental', 'dependent', 'replacement.', 'George.', \"Debbie's\", 'narc', 'stalls,', 'Oak,', 'pier.', 'down...', '1800,', 'Napoleon', 'Armand', 'decade,', 'conflicts,', 'Corliss', 'wooing', 'purely', 'hesitates', 'Bonnard', 'treasure.', 'wave.', 'Opposing', \"1980's\", 'Vada', 'Sultenfuss', 'essay', 'parlor.', 'Shelly,', 'worse...', 'Babcock', 'Turner,', 'improved', 'fuel,', 'Abu', 'incomparable', 'Sabu,', 'definitive', 'role)', \"Napoleon's\", '1812', \"mom's\", \"Louise's\", 'departure.', 'translator', 'explodes.', 'crabs', 'enormous,', 'monsters.', 'escape?', 'spectacle', 'harvested', 'version,', 'Triffids', 'indigenous', 'spores', \"novel's\", 'Wyndham,', 'dunes', 'retreat,', 'bondage', 'Magadha,', 'Asoka', '(Shah', 'Rukh', 'Khan)', 'betrayals', 'leaded', '(Ajit', 'Kaurwaki', 'Kapoor)', 'Kalinga,', 'traitors', 'Kalinga.', 'conquered', 'Jonny', 'Hungry', 'Matthew.', 'bicycles', 'Terri,', 'Hector,', 'entrepreneur.', 'conned', 'revels', 'Roberto', 'big-budget', 'Velma', 'yearnings', 'intertwine,', 'transcendent', '1918,', 'weighing', 'compassionate', 'grasping', 'Orleans,', 'Phillips,', 'NYC', 'ego.', 'immortality.', '(Karoline', 'savagely', 'Rupert', 'talk-show', 'privacy.', 'website', 'gaming', 'mother-in-law.', 'Barris', 'operative.', 'said.', 'sort-of', 'courtesy', 'uptight,', 'suspiciously', 'screenwriters', 'bugging', 'chiropractor', 'undoing.', 'Becky', 'misunderstandings.', 'wanna-be', 'mixed-up', 'gaining', 'Dempsey', 'Cain', 'honored', 'million-dollar', 'framer', 'Olmos', 'directorial', 'powerhouse', 'Me.', 'Prison', 'Santana', 'peaceful,', 'crime-free', 'fondness', 'languages', 'MC', 'sales,', \"You've\", 'questioned', 'Nam.', 'Planning', 'disarming', 'curiosity,', 'chest', 'women:', 'insensitive', 'Laurel.', 'Lora', 'Meredith,', \"Lora's\", 'Suzie,', 'McHugh', 'self-confident', 'Cadillac,', 'limousine', '\"to', 'trunk,', 'airlines', 'endlessly', 'helicopter', 'charter', 'Pepe', 'Moko', \"police's\", 'tourist,', 'heartthrob', 'unsigned', 'Deborah', 'motives,', 'Cathy,', 'enamored', 'wooed', 'acquaintance.', 'sneak', 'looks.', 'Tooth', 'lynched', 'links', 'Moreover,', 'purify', 'chambers.', 'Murdock', 'Drake', 'DC.', 'twists.', 'menaced', 'volcano.', 'Wishing', 'label,', 'Boys.', 'Manuel', 'weekends', 'outfits', 'premonition', 'pileup', 'Farm,', 'Bollywood', 'counterparts', 'Ram', 'Vijay', 'Rao,', 'penthouse.', 'Quixote', 'freakish', 'zoom', 'Jobless', 'Benko', 'protégé,', 'fixed', 'propel', 'contender', 'dismay,', 'Assisted', 'Watson,', 'psychic,', 'indiscretion', 'level,', 'Lynch', 'hard-hitting', 'Hélène', 'Victor,', 'calmly', 'blackmailer', \"Höglund's\", 'cows.', 'adult.', \"Anna's\", 'rumours', 'Gant', \"Cruchot's\", 'scramble', 'Hammett,', \"vicar's\", 'hard-boiled', 'deeper,', 'jeopardized', 'unicorn', 'herded', 'second-rate', 'magician,', 'nymphomaniac', 'orgasm', 'mischief,', 'frustrating', 'leap', 'old)', 'multi-national', 'Zara', 'Adrian,', 'randy', 'entanglements,', 'Ingmar', \"Bergman's\", 'cover-ups', 'Python', 'Bowl', '1982', 'Bowl,', 'Lorenzo,', 'folklore.', 'down-to-earth', 'seem,', 'passion?', 'butchered', 'marauders,', 'sheik', 'variations', 'Félix,', 'leaflets', 'Josette', 'bemused', 'rooftops', 'advantage,', 'afar.', 'Querelle', 'Pryor', \"Pryor's\", 'frank', 'discussion', 'freebasing', 'traveler,', 'meditations', 'expressed', 'far-flung', 'Iceland,', 'Veronika', 'burned-out', 'Brooke', 'Reynolds,', 'intensifies,', 'melancholic', 'book.', 'deliveries', '\"Chinese', 'unstuck', 'SAS', 'gross', 'bullying,', 'aiming', 'dismissal', 'enable', 'Turkey,', \"week's\", 'mice.', 'smoothly,', 'Hudson),', \"O'Bannon\", \"Chon's\", 'same,', 'dwells', 'Mowgli,', 'womanizer,', 'Noel,', 'Florence.', 'beginning,', 'changes:', 'now...', 'swimmer', \"Wilson's\", 'amoral,', 'Stacey', 'Kessler', 'horse.', 'sinks', 'trainer.', 'Rosalie,', '(Yves', 'molests', \"businessman's\", 'motive.', 'handcuffed', 'straightforward', 'protector,', 'commercials.', 'billions', 'science-fiction', 'Roeg', '\"Stonewall\"', 'outbreak', 'mater.', 'maintenance', 'Rail', 'Midland', 'winners', 'downsizing', 'efficiency', 'Cecilie', 'Joachim', 'disabled,', 'Niels', 'Ling', 'responds', 'jewels,', 'high-kicking', 'icons', 'Einstein,', 'Visually', 'progression', 'Edward,', 'Anxious', 'Guildford', 'Grey,', 'meteor.', 'heights.', 'minutes.', 'cohorts,', 'Volcano', 'shattering', 'Manuscript', 'continuously', '(Steve', 'online', 'chat', 'Charlene', 'tactical', 'humanity,', 'democratic', 'Nigeria', 'Borders', 'effect,', 'upper-middle', 'Jettel', 'Walter,', 'Kenya.', 'china', 'son;', 'tailspin', 'Christianson', 'soccer,', '18.', 'Paxton,', 'excuses', 'matches', 'Columbia,', 'Kosovo.', 'companionship,', 'bedridden', 'dares', 'master.', 'Quickly,', 'worse:', 'prescribes', 'choice?', 'Nikki', 'meth', 'Cook', 'beloved,', 'Katharina', 'Blum', 'once.', 'Glenda', 'country-western', 'arson', 'competitors.', 'Pontiac', 'efforts.', 'Pearson', 'teammates', 'Films', 'lobby', 'agendas', 'daddy', 'blinding', 'Hampshire,', 'unassuming', 'truths', 'Youth.', \"Miller's\", 'Urban', 'Brontë', 'visa', 'expiring,', 'nerves.', 'extinct', 'Icelandic', 'safe?', 'Henri,', 'hedonist', 'Mai', 'Takano', 'Sadako,', 'Salaam', 'maybe,', 'Gudrun', 'exploration.', 'blizzard', 'Piglet', 'Tigger,', 'attendant.', 'proceedings,', 'undermining', 'Extravagant', 'Noah', 'Flood', 'Stefano,', 'fresco', 'representing', 'disturbed.', 'agony.', 'contribute', 'Lena,', 'activism,', 'seizure', 'Customs', 'done,', 'disaffected', '2001,', 'generation.', 'Chinese,', 'internet.', 'magnetic', 'core.', 'reactivate', '(Rock)', 'climber', \"Daphne's\", 'idolizes', 'Judy,', 'careful', 'Illinois', 'Kurosawa.', 'crises,', 'professional,', 'screenwriter,', 'engrossed', 'court-appointed', 'Casino', 'Carlo.', 'Vetter', 'easier', 'booth', 'caller', 'tanker', 'Highway', 'biochemical', '(Jet', 'staring', 'needy', 'trilogy,', 'Helsinki', 'amnesia.', 'over-achieving', 'extra-curricular', 'Award®', 'inspiration,', 'foremost', 'Lilya', 'suicidal.', 'Sweden,', 'Thea,', 'Coles', 'mistrust.', 'animator', 'flourishing', 'engagement.', 'intricacies', 'fu.', 'Playboy', 'skate', 'impassioned', 'Guest', 'musicians,', 'character.', 'senator', 'Governor.', 'dresses,', 'speaks,', 'Perrin', 'migratory', 'storks,', 'migration', 'time:', 'eggs,', 'flight.', 'Chicks', 'south.', 'pollution', 'toll.', 'realize,', 'harassment.', 'vegetables.', 'Worse', 'OF', 'emergency.', 'isolate', 'methodically', 'equipped', 'horror-movie', 'imaginable.', 'literature', 'Montag', 'Curious', 'corners,', 'scenario', 'Tongan', 'Jean.', 'musings', 'miles,', 'buoy', 'deep-rooted', 'adventure-filled', 'fattening', 'gluttony,', 'phrase', 'Marjorie', 'maternity', 'doting', '24-year-old', '(Diana', 'Em', 'Extremely', 'introverted,', 'has,', 'Thus,', 'Bugsy', \"they'd\", 'Benjamin,', 'pair.', 'polished', 'swindled', 'raging', 'scam,', 'schoolyard', 'prosecution.', 'adolescents', 'finals', 'Scripps', 'bee', 'daily,', 'competitors', '250', 'Lizzie', 'tide', 'Storm,', 'Wolverine', 'Grey', 'nemeses', 'Gifted', 'Left', 'mentoring', 'complex.', 'Bank', 'branch', \"Toronto's\", 'astute,', 'decisive', 'fraud', 'grossing', '$10', 'stay-at-home', 'dads', 'Milan', 'Quiet,', '19-year-old', '1973,', 'Thirty-year-old', 'Hlynur', 'lesbian,', 'puzzle,', 'hopefuls', 'backstory', 'strictly', \"Colin's\", 'DJ,', 'Sheeta', 'Pazu', 'pirates,', 'once-great', \"ol'\", 'electronic', 'roadie', 'rock-and-roll', 'tell-all', '\"Barry', 'Sybil', 'Wren', 'Angele', 'Spy', \"Grace's\", 'Lilly', 'Neo', 'omen', 'matrix', 'Resistance.', 'degree', '250,000', 'sentinels', 'Zion', 'Trinity', 'recurrent', 'canals', 'alleyways', 'capital.', 'Pokémon,', 'protectors', 'Nolan', '\"human', 'interest\"', 'Buffalo,', 'unfulfilled.', 'in-laws', 'smugglers.', 'Pietro', 'Sea.', 'laughing', 'Barrier', 'Reef', 'worrisome', 'Dory', 'Nemo', 'vegetarian', 'turtles,', 'Croker', 'drop-dead', 'careens', 'grossly', 'Jarecki', 'Xiaochun', 'ambition.', '\"adopted\"', 'hoped', 'double-cross', 'Pearce', 'Whangara', 'ancestor,', 'capsized', 'male,', 'descendants.', 'chief.', 'Koro', 'Pai', 'Nevada', 'correct.', 'Chow', 'Cheung', 'Chung', '(Kenneth', 'condemning', 'outlived', 'readies', 'response.', 'rowboat', 'overboard', 'urgent', 'drowned', 'pond', 'ideally', 'participating', 'Mans,', 'Andersen.', 'angle', \"Andersen's\", 'helmed', 'withdrew', 'Cord', 'McNally', 'Merrill', 'reappears', 'swim', 'Ivan,', 'strip.', 'audience.', 'Enchanted', 'Squire', 'Livesey', 'Silver.', 'Pittsburgh.', 'hypnotize', 'dough', 'opened', 'Usher,', 'Annabelle', 'Games', 'wrangle', 'renting', 'duration', 'roommate.', 'Animals', 'People)', 'Namib', 'Desert,', 'Okavango', 'length', 'pasts,', 'Cole,', 'homesteaders', 'Missouri', 'day-in-the-life', 'dozens', 'preacher,', 'incorrect', 'shift.', 'Talbot,', 'Mewsette', 'POWs,', 'fences', 'Cpl.', 'uniforms', 'Provost', 'activated', 'Bridge', 'derived', 'MacLaine,', 'earning', 'Hereford', 'cattle.', 'Honest', 'Doctor,', 'Angelo', 'promise.', 'Kenny', 'NCAA', 'Klondike', 'woe', 'Wyoming', 'Seattle,', 'delay', 'Dawson.', 'open-hearted', 'Gentleman', 'facing.', 'Hogan,', 'fort,', 'Sara,', 'Lin', 'McAdam', 'prize,', 'quarrel,', \"Bowie's\", 'Hammersmith', 'quintessential', 'FROM', 'Bowie', 'irony,', 'trademark', 'masculine', 'gender-bending', 'whole.', 'sets,', 'highlighting', 'shoulder,', 'documenting', 'parachute', 'Japanese-occupied', 'polite', 'crowd.', 'Tobias', 'Strategic', 'espionage.', 'Gibson', 'Norwegian', 'V-2', 'cliff', 'fjord', 'lined', 'anti-aircraft', 'Guard', 'infantry', 'observation', 'strategic', 'Costa', 'Cooney', 'lead,', 'enticed', '1940,', 'skies', 'ideas.', 'deserts,', \"Lang's\", 'Jasper', \"Nazis'\", 'attain', 'scout,', 'Grange', 'unit.', 'trader', '\"Buffalo', 'canyon', \"Ellen's\", 'tortured.', 'sandstorm', 'ripping', 'undamaged', 'Angela.', 'Fiji', 'fruits,', 'nun.', 'it...', 'Quick', \"Frenchman's\", 'Angel,', 'Thenier', 'individual.', 'Bismarck', 'convoy', 'inch', 'guns,', 'warships.', 'commanders', 'combatants', 'lower-class', 'Rommel', 'ex-Confederate', 'Langdon', 'contingent', 'displaced', 'revolutionaries,', 'burger', 'twentieth-century', 'depressing', 'Uganda', 'Idi', 'Amin', 'Lamour', 'unspoken', 'J.D.', 'Cattle', 'moonlighting', 'Escort', 'Bulbeck', 'escort,', 'unwittingly,', 'two-bit', \"someone's\", 'answering', 'guise', 'lady\"', 'Mary.', 'Bernadette', 'wider', 'overtakes', 'Outlaw', 'self-appointed', 'Bean,', 'Salina,', 'Life,', 'rip-roaring', 'Kansas.', 'prequel', 'courses', 'fleece', 'lonely,', 'Gavilan', 'Calden', 'broker,', 'hearts.', 'Go', '2003', 'Nickelodeon', 'finale,', 'ceased', 'crossover.', 'detour', 'capsizes', 'backyard,', 'fraternal', 'languishing', 'Airport', 'Wilson)', \"doesn't,\", 'paid.', 'typist', '(Sophie', 'asthmatic', '$100,000', 'Toby,', 'Dietrich', 'Choltitz,', 'Allies,', 'Choltitz', 'Dwight', 'invasion,', 'massacred', 'U-Boat', 'imaginable', 'Henriette', 'foundling,', 'blindness', 'cured,', 'peasants,', 'regime,', 'way-', 'infected.', 'maniacs', 'contain.', 'rings', 'encoded', 'mourning', 'reanimate', 'direction.', \"O's\", 'unveil', 'sharp-shooting', 'Bank,', 'ilk', 'fluctuations', \"O'Reilly's\", 'fold,', 'delicate,', 'melodramatic', 'elaborately', 'mounted', 'seafaring', 'Rolfe', 'pirate.', 'mammoth', 'Aly', 'pounds', 'grooming', 'coaching', 'claim.', \"Ruth's\", 'superstardom', 'embedded', 'constraints', 'missions.', 'upwardly', 'desperation.', 'Table', 'awakes', 'riches.', 'unbeknownst', 'Abigail', 'sweetly', 'average,', 'Greece,', 'Greek.', 'Ilya', 'morality.', 'Pygmalion', 'Melina', 'gently', 'dance,', '(through', 'Award.', 'twins,', 'scrambled', 'Revolution.', 'haughty', 'intrigues', 'Corsican', 'subtly', 'Music.', 'bag.', 'Woods,', 'famously', 'ban', 'doorman', 'advises', 'Eris', 'Judgment', 'steering', 'females,', 'sex-crazed', '17th-century', 'butts', 'Port', 'Sparrow', 'simple.', 'villain.', 'Finland', 'Front', 'armies.', 'Anni', 'enemies,', \"Smith's\", '\"We', 'wings', 'Northfork', 'cease', 'flooded', 'hydroelectric', 'Lowrey', 'Task', 'Mandy', 'Halley', 'Rowan', 'cobble', 'Okwe', 'deportation.', 'rooms.', 'Peppino', 'ridiculed', 'entranced', 'Valerio', 'salary', 'insanely', 'wheel.', 'cage', 'flea', 'scams', 'profit,', 'eat.', 'coached', 'player?', 'Mac,', 'Ellis,', 'shame', 'Fenwick', 'declare', 'aid.', 'cleared', 'unrest,', 'organizers', 'concert.', 'mythological', 'securing', 'syndicate.', 'racehorse', 'lifted', \"Carmen's\", '1989,', 'ignored,', 'fore.', 'Santa,', 'José,', 'Lino,', 'Amador,', 'Sergei', 'Reina', 'touch.', 'Rico.', 'superficially', 'gap', 'widening', 'co-worker.', 'arthritic', 'legs,', 'qualifications.', 'transparent', 'goal:', 'standing.', 'moonshine', 'Gator', 'McKlusky', 'bootlegging', 'short,', 'McCall.', 'eccentrics', 'transatlantic', 'Kickboxer', 'Jean-Claude', 'Holmes.', 'however:', \"Holmes'\", 'vanished.', 'monks,', 'Loch', 'sleuths', 'Ward)', 'Remo', 'toppling', 'Statue', 'Trained', '(Joel', 'heights', 'attackers', 'begins!', 'wasted', 'rag-tag', 'indiscretions', 'aisle', 'doling', 'Gigli', 'Ricki,', 'decidedly', 'occupation.', 'sisterhood', 'bicker', 'older.', 'detests', 'peek', 'feels,', 'Hondo', 'Montel', 'stripes', 'prize.', 'pimp', 'spiralling', 'allegorical', 'stroll', 'philosophy.', 'Christ', 'Gospel', 'Pasolini', 'Fernandez', 'Beck,', 'compulsive,', 'savings', 'claustrophobic,', 'weirdly', 'engrossing,', 'comforts', 'narrative.', 'Domenico', 'dwindling', 'landlady,', '(while', 'Berlinger', 'Ward.', \"William's\", 'Rosalie', 'Krueger,', 'skaters', 'soccer', 'legend,', 'illuminates', 'everyman', 'persona,', 'sentence:', 'design.', 'fly!', 'hotter', 'girl?', 'sculptor', 'Englishwoman', 'life:', 'advising', 'moves.', 'renovated', 'brownstone', 'inhabitant', 'rat,', 'Oxford.', '20.', 'brother-in-law.', \"Charles'\", 'beer-guzzling', 'divergent', 'complement', 'Hook,', 'Beach.', 'beef', 'valley,', 'Randy,', 'Hendrix', 'reaction,', 'stemming', \"Georges'\", 'Romanian', 'upbringing,', 'Kenner', 'roots.', 'differences,', 'excel', 'utilize', 'yakuza', 'anxieties', 'THX', '1138', 'Mongryong', 'Chunhyang', 'Seoul,', 'exams.', 'courtesan.', 'beggar,', 'celebration.', 'Highland', 'Commanding', 'singer.', 'Irish-American', 'Mob.', 'Mexicans', 'U.', 'ray', '20,000', '1953', 'Cecil', 'hibernating', 'McKee', 'Bassett', 'eke', 'hamlet', 'Perfection,', 'admonition', 'readings', 'sucking', 'ballerina', 'imperious', 'ballet,', 'stress,', 'Phantom,', 'Dreyfus', 'delivered', 'commandos,', \"Stoker's\", '1913', 'bloodsucking,', 'surreal,', 'consistently', 'Prompted', 'Watanabe', 'decades.', 'Learning', 'rare,', 'mint', 'Link', 'Rapaport)', 'sell,', 'abnormal', 'Paulino', 'Carmela', 'squad,', 'reprieve', 'republic', \"actors'\", 'patriotic', 'tyranny,', 'fertility.', 'rebelled', 'Microsoft', 'pets.', 'affinity', 'task.', 'Hôtel', 'des', 'Jewish-American', 'hard-core', 'rein', \"it'll\", 'obsesses', \"Kelly's\", 'flesh,', 'varsity', 'hell-bent', 'grizzly', 'dull', 'Shirley.', '12-year-old,', 'Javier', 'Sonia.', 'cuckold', 'comforting', 'Sonia', 'Lucia.', 'normal.', 'centuries,', 'Order', 'existed', 'revered', 'special.', 'conductor', 'tenure', 'coincided', \"Furtwangler's\", 'rivaled', 'investigated', 'programme.', 'Furtwangler', 'file,', 'ruthlessly.', 'Orchestra', 'orchestra.', 'respectful', 'heritage,', 'Arnold,', 'unexpectedly.', 'ventriloquist,', 'pensive', 'interviewer', 'Tachibana', 'career;', 'curtain', 'privatized', 'Canton', 'stance', 'Fei-Hung', 'plundering', 'Lotus', 'revolutionary,', 'military.', 'disciples', 'Lion', 'deceitful', 'Depression,', 'sniper.', 'bunker.', 'imperiled', 'overnight,', 'corpses,', 'arising', 'creep', 'Puccinelli', 'overseas.', 'Bingo', 'skateboarding,', 't', 'noses,', 'ears,', 'nonfiction,', 'Jungle', 'disappointment', 'treachery', 'wait.', '400-year-old', 'upside-down.', 'electricity,', 'coincides', 'Falk,', 'Leah', '(Dorff)', 'Fighting', 'Temptations', 'Gooding,', 'gospel', 'centuries.', 'Selene,', 'prowess,', 'peace-loving', 'werewolf,', 'JFK', '3D', 'manga', 'pornography,', 'smoking,', 'hypnotherapist', 'telepathic', 'unlock', 'Torn', 'headlines,', \"'In\", \"World'\", 'overland', 'north-west', 'Pakistan.', 'Entering', 'Turkey', 'container', 'sociological', 'suspecting,', 'understanding.', 'mouthy', 'artifact,', 'Frances,', 'urgings', 'Century', 'Luther,', 'materialism', 'Protestant', 'homosexuals', 'critics', 'Chaos', 'misunderstandings', 'primary', 'Lopez,', 'Tour', 'Souza', 'Belleville', 'programmer', 'acquires', 'drought', 'Champaner', 'taxes', 'Bhuvan', 'Aamir', 'governor,', 'cricket.', \"Russell's\", 'eye-popping', 'routines.', '1947,', 'judges', 'Haywood', 'testimony', 'Rolfe,', 'changing,', 'Hawking.', 'Hawking', 'degenerative', 'idiot,', 'Rules', 'scathing', 'cloaked', 'acquaintances.', 'history:', 'wasn’t', 'reconstructed', 'Garden.', 'Interspersed', 'Remains', 'Zeppelin', 'Garden', \"member's\", 'Includes', 'blistering', '\"Stairway', '\"Whole', 'Lotta', 'Love,\"', 'cabin.', 'Luis', 'Valentin', 'Luis,', 'homosexual,', 'run-up', 'Woodward', 'Bernstein', 'Vinnie', 'Angie.', 'Fontana', 'presenting', 'mystery.', 'reviving', 'suggesting', \"Daniel's\", 'simulation', 'reality?', 'callow', 'identifies', 'Babette', 'enjoyment', 'entrepreneur,', 'timber', 'Siberia.', 'travels,', 'forever:', 'Andrej', 'Tolstoy', 'opera,', 'puppy,', 'named,', 'Bernard.', 'Missy,', 'stashes', 'Boyz', 'criticism', 'basis.', 'Siegel', 'maim', 'detain', 'flashy', 'dreamers', 'Slam', 'sings', 'pesetas', 'suspense,', 'Priscilla', 'hedonistic,', 'neighbors,', 'insects,', 'organisation,', 'sheds', 'regret', 'executing', 'restless,', 'fatherhood.', 'uncontrollably', \"Life's\", 'liver', 'still-living', 'donor.', 'vomiting', 'breach.', 'Wes', 'rapes', 'Nervous', 'Droz', 'housemates', 'preppy', 'Rand', 'carjacking', 'newbie', '1933,', 'Reynolds', 'Speer', \"Murphy's\", 'Diana.', \"Ed's\", 'rumored', 'Buddy,', 'thinly', 'Florya', 'fighters,', 'wishes.', 'peasants', 'debris', 'trunkload', 'shootout,', 'unsavoury', 'pudgy', \"momma's\", 'Brigitte', '(Emily', 'Perkins),', \"Ginger's\", 'photographing', 'deathly', 'janitor,', 'astronaut.', 'automated', 'dental', 'Penelope', 'pardon', 'sham', 'indeterminable', \"Pat's\", 'indeterminate', 'Blaine', 'Myra', 'man.\"', 'sincere,', 'pod', 'clones.', 'formula.', 'Morgan,', 'adequate', 'administration.', 'bend', 'loophole', 'apparitions,', 'unknowing', 'hallucinatory', 'Hansen', 'migrating', 'spiders,', 'trapping', 'fraudulent', 'healer', 'Shade', 'Trudi', 'rebelious', 'drifters', 'mortality', 'repercussions', 'cold-war', 'permission', 'patrol.', 'tension,', 'playwright,', 'Jubei', 'gold...', 'cause.', 'hoods', 'crime...', 'Florida,', 'suspicion.', 'vocalist', 'Dewey', 'finer', 'roll.', \"Finn's\", 'memorial', 'passing,', 'Concert', 'Belfast', 'solitude,', '1981,', 'Wonderland', 'Avenue', 'quadruple', 'homicide.', 'networks,', 'portraits,', 'scariest', 'examples', 'loyalty,', 'Sirius', 'coast,', 'rave', 'payback,', 'juror', 'hitchhiker,', 'low-rent', 'breast', '2002,', 'Miyamoto', '(Takeshi', 'Mizoguchi', 'poets', 'Guerin', 'bleed', 'mainstream,', 'addicts,', 'self-determined', 'wary', 'star-crossed', 'Angelina', '1984.', 'industrialist,', 'plea', 'T.L.', 'Carolina.', 'extends', 'franchise,', 'tapes,', 'Kenai', 'hallucinates', 'Torino,', 'Mini', 'Torino', '1/2', 'Holocaust', 'archive', 'witnesses,', 'interviewed', 'adding', 'genocide.', 'elsewhere.', 'Anonymous', 'cooperating', 'Super', 'cornea', 'unfriendly.', 'hideously', 'vampirism.', 'Kronos', 'pestilence.', 'strengths', 'darkness.', 'recognises', 'organs', 'extracted', 'Calcutta.', 'priorities.', 'law-abiding', 'escapee', 'seals', 'Marble', 'cancel', 'Two.', 'wireless', 'BBC.', 'Baffled,', 'convalescent', 'volunteered', 'vitally', 'Silk', 'vermouth', 'gin,', 'purrs', 'Arden', 'petulant', 'Fact-based', 'colourful,', 'nation’s', '1998,', 'quixotic', 'forcibly', 'helpers.', 'András', 'Ilona', 'feared,', 'melody', 'ménage', 'Sandrine,', 'scratching', 'patches', 'wound.', 'heal,', 'sneaking', 'scarred', 'ordinary,', 'Daffy', 'Bugs,', \"Bros.'\", 'Comedy,', 'WB', 'warship', 'oceans', 'photographs,', 'Shakur,', 'waiting,', 'Lily,', 'rebels,', 'kidnappers.', 'raining', '(Halle', 'Berry)', 'innocence,', 'Peck,', 'upper-middle-class', 'frame,', 'faith,', 'guilt,', 'Remy,', 'Pierre,', 'Alain,', 'Taiwanese', 'conman', 'Evers', 'Gracey', \"Devil's\", 'wherein', 'hanged', 'concentrates', 'motor-racing', '(Rupert', 'Westlake', 'procedure,', 'Darkman,', 'Architect', 'assembled', 'unreliable', 'magazines.', 'Cale', 'brutality,', 'isolation.', 'rendered', 'incident.', 'Hartmann', 'Carmine', 'crack.', 'Presents', 'vignettes.', 'norms,', 'Broderick)', 'taps', 'proportions!', 'couch', 'yachtsman', 'ramshackle', 'status,', 'sailboat', 'watching.', '~', 'Guide', 'Johannes,', \"tailor's\", 'fundamentalist', \"Borgan's\", 'opposes', 'Unexpectedly,', 'sweetness', 'Orphaned', 'Michel,', \"Paulette's\", 'Rochester,', 'brooding', '15th-century', 'inhumane', 'officials.', 'execution,', 'Judah', 'Messala,', 'meet.', 'Cabinet', 'surreal.', 'cinema,', 'Broken', 'Griffith.', 'Buddhist', 'Renko', \"Moscow's\", 'Evidence', 'stint', 'requested', 'detail.', 'crushed.', 'hypochondriac', 'Holly.', 'credibility', 'Moss', 'bodybuilder', 'ozone', 'layer', 'MacLeod', 'Opposition', \"Ramirez's\", 'profiting', 'negates', '1975.', 'manner.', \"Sally's\", 'worsens,', 'disarray', 'slept', \"Gwen's\", 'ruse', 'Leonardo', 'Vinci.', 'Tommy.', 'infiltration', 'Bennell', 'lame', 'philosophies', 'penetrates', 'Pitted', 'boisterous', 'seated', 'Lorenzo', '7.', 'incurable', 'wields', 'Burrows', 'differently', 'South,', 'serial-killing', 'whereabouts', 'Escaped', 'handedly', 'developers', 'Muldoon,', 'Luna', 'parlour.', 'glaring', 'Championship.', 'Relying', 'evaded', 'ruthless.', 'Cutter,', 'Rusty', '\"Project', 'X\".', 'chimps', 'told.', 'unsuccessful.', 'card.', 'libertines', '120', 'physical,', 'offensive.', 'gym', 'ardor', 'reside', 'executes', 'flawless', 'mishap', 'undergoing', 'injuries', 'phallic', 'nourishment', 'reminisces', 'stepfather,', '\"Radio', 'idiot', 'Brantley', 'get.', 'Prescott,', 'insignificant', 'trends', 'Elin', 'Agnes,', 'reasons,', 'Teen', 'make.', \"Rebecca's\", 'finds,', 'ex-lovers,', 'Manuel.', 'suddenly,', 'Elaine', 'reader', 'grapples', 'reservation', 'heritage.', 'counterfeiter', 'Firpo', 'away!', 'Twelve', 'episodic', 'Sailor', 'weirdos', 'hosting', 'convention,', 'unveiling', 'picturesque', 'Chinese-American', 'unauthorized', 'beg', 'joyride.', 'Rogers', 'Louisa', 'Mass', 'attachment', 'Ricardo,', 'Cagney', 'Powers,', 'Prohibition', 'Athens,', 'Amazons.', 'Oberon', 'Theseus', 'Puck,', 'nineteenth', 'wings,', 'insisting', 'Mi', 'wanderer', 'opportunist', 'Kingdom\"', 'journal,', 'country-side', 'lottery,', 'tumor.', 'tumor', 'Stroud', 'sparrow', 'health.', 'Inca', 'riches,', 'destruction?', 'repellent', 'Beast,', 'specific', 'grief.', 'desire,', 'Birth', '1915', 'Griffith', 'invested', 'Well', '1953,', 'Shujuan', 'Shaolong', 'Tietou', \"Mao's\", 'partly', 'embodies', 'mysticism', '40-something', 'chateau,', 'ambiguous', 'Mabel,', 'warpath', 'mixed.', 'jester', \"criminal's\", 'hothead', 'filmed.', 'borne', 'wedlock.', '1850s', 'XI', 'Quasimodo', 'Esmeralda', 'Phoebus.', 'Phoebus', 'hang.', 'Clopin,', \"Esmeralda's\", 'husband;', 'Lange', 'Patsy', 'mannered', 'Humphrey', 'Kimball', 'diagnosis', 'Higgins', 'low-class', 'Doolittle', 'duchess', 'Raj.', 'magistrate', 'Ronny', '(Nigel', 'Aziz', 'Eurydice', 'stark', 'Orpheus', 'composers', 'Luiz', 'Titta', 'Frequently', 'shifting', 'scenarios.', 'Darwin', 'specialty', 'thirties', 'Adrien,', 'Adrien', 'untouched', 'awaits.', 'practitioner.', 'book\"', 'laid-back', 'loads', 'Panic', 'defenders,', 'Motor', 'boots', 'bungles', 'librarian', 'dwarves,', 'ambush,', 'Provence', 'crux', 'Antonioni', 'peninsula', 'Rosy', 'horseback', 'revolutionaries', 'betrays', 'pivotal', 'Oxford', 'rut', 'hobby', 'butterflies,', 'brazenly', 'Leprechaun', 'Leprechaun,', 'Tori', 'Republic,', 'inevitable.', 'evolving', 'WWI', 'bugs,', 'Denny', 'consists', 'technology,', 'couples.', 'seeker', 'Dogen', '\"Lost', 'Europa', 'trilogy.', '(1991).', 'Kohler', 'Lena', 'Chico,', 'crook,', 'Momo', 'Edouard', 'Momo,', 'Fido', '(his', 'him),', '(Claude', 'innate', 'jinx', 'losing.', 'arrangement.', '(Maria', 'Bello).', 'Alba)', 'jackpot', 'Algren', 'instruct', 'warfare,', \"samurai's\", 'piecing', \"Can't\", 'Me', 'conjoined', '(Greg', 'Kinnear)', 'Damon)', 'handicap', 'cooks', 'cancelled,', 'Vermeer.', '1990s,', 'kings', 'Gandalf', 'realm.', 'studied', 'UCLA', 'Wellesley', 'fact-based', 'controversy', 'nude', 'recordings,', \"Company's\", 'presidents', 'Kathy.', 'unfair', 'dilemma.', 'Aileen', 'Northwestern', 'mischievous.', 'Inman', 'Ruby,', 'Jennings', 'firms', 'erased', 'paycheck', 'envelope.', 'Darling', 'mesmerizes', 'bedtime', 'swashbuckling', 'Neverland.', 'Ensemble', 'dancers,', 'everything!', 'landscape,', 'from.', 'Nathalie,', 'year-old,', 'documentarian', 'Wuornos,', 'Interviewing', 'distorted', 'deems', 'Istanbul', 'alleviate', 'Reuben', 'collide,', 'Trey,', 'imbalance', 'Ali,', 'purse,', 'Hussein', 'purchase', 'luxury.', 'uptown', 'jewelry', 'contrast', 'neighborhoods', 'doors.', 'humiliation', 'Osama', 'Taliban', 'Midwesterner', 'nouveau', 'riche', 'Gatsby.', \"Gatsby's\", 'Cathy.', 'suppresses', 'Passengers', 'German,', 'puzzled', 'attraction,', 'Alva', 'Belushi', 'Ritter', 'Monaco,', 'Neil,', 'Phoebe,', \"dog's\", 'suspects,', 'Venice.', 'bellboy', 'sale.', 'capoeira', 'at-risk', '\"Mr.', 'Roll', 'sticks,', 'koala', 'bears,', \"fisherman's\", 'Cecile,', 'villa,', 'Ferguson', 'Mendoza', 'paraplegic', 'Brando', 'superbly', 'hometown.', '(Teresa', 'counsels', 'Bud,', 'ward,', 'length,', 'Scandinavia.', 'residence,', 'airliner', \"capital's\", 'Nils', \"Scandinavia's\", 'security,', 'underworld,', 'tampering', 'exploits.', 'Poet', 'leader’s', 'diplomatic', 'intervention.', 'technique', 'Hyde,', 'Monsieur', 'Hulot', 'beachside', 'Tombstone', 'herd.', 'deputies,', \"James'\", 'brooding,', 'hard-drinking', 'sullen', 'long-awaited', 'Rochard', 'Lieut.', 'Gates.', 'operatives', 'Bogie', '\"Mad', 'Given', 'thieves.', 'Fabrini', '(Humphrey', 'Bogart)', 'Salinger', 'Micki,', 'Carroll', '(Josef', 'supplier', 'entices', 'dope,', 'Bigelow,', 'parable', 'bodybuilding', 'Schwarzenegger', 'Gaines', '(Simon', 'Clancy', 'spans', 'mature,', 'Intrigued', 'dockworker', 'logical', 'laundering', '(Dean', 'Gelsomina,', 'Kakihara', 'Ichi,', '18-year', 'desert-like', 'wasteland.', 'foraging', \"Fitzgerald's\", 'incoming', \"target's\", 'welcoming', 'wont', 'abandon', 'orbit,', 'Hurricane', 'capsule.', 'September,', '1944.', '43', 'penned', 'making,', 'sewers', 'valor', 'memories.', 'mischievous,', 'Testing', 'Center', 'SAT', '(Wes', 'Barbershop.', 'Gina,', 'stylist', 'traditions', 'chains.', 'Athletic', 'Maddy', '(Kristen', 'Everest,', '(Max', 'Corbin', 'juggernaut', 'viewing', 'home:', '\"Do', 'Remember', 'Skeleton', 'gaggle', 'radioactive', \"Joseph's\", 'Cosby', 'wallet', 'contender.', 'coffin', 'Tina,', 'Voodoo', 'Blacula', 'bidding.', 'slave.', 'horde.', 'shooting,', 'argues', 'subordinate', 'Evie,', 'Evie', 'Bitter', 'double-crossed', 'loved,', 'sees,', 'Wylie', 'engineer.', 'Landry', 'saviour', '(Ray', 'kitchen.', 'Folke', 'Nilsson', 'observe', 'ceiling', 'Ibrahim', 'Koran.', 'Schmitt.', 'Kowalski', 'Challenger', 'Mongol', 'princess.', 'attic', 'Amsterdam.', 'down\"', 'optimism', 'Alexandra', 'Petersen', 'option,', 'Catherine,', 'swathe', 'mines', 'Solomon.', 'kidnappers,', 'perils.', 'Acting', 'instrumental', 'Kaminsky', 'mountainous', 'disputes', 'mates.', 'Wolf,', 'depiction', 'suffering,', 'Arabic,', 'Hebrew', 'Coconut', 'Katey', 'Javier,', 'meanings', 'division,', 'Shepard', 'murder?', \"Shepard's\", 'ex-lovers', 'affectionate', 'refreshing', '1890,', 'Arabia', 'Join', 'bible', 'Alma', 'submerged', 'zealous', 'steadfast', 'Andreas', 'cruelty.', 'Egg', 'accusing', 'cashier', 'injustice', 'democracy', '\"German', 'schools', 'Most', 'Calder', 'baddie', \"Rogers'\", 'unharmed.', 'Felice', 'all-new', 'gadgets,', 'handler,', 'Anderson),', 'Danielle.', 'goals.', 'scribe', 'Rainey', 'swiped', 'endeavors', 'official.', 'first-rate', 'low-key', 'demeanor', 'roller-coaster', 'Pythons', 'feast', 'alike,', 'well-loved', 'children’s', 'bestseller', 'Place', 'deluxe', 'illegitimate', 'adopting', 'prudish', 'sexual.', 'girl\"', 'sincerely', 'underwent', 'interweaving', 'delinquents,', 'shatter', 'ill-timed', 'break-up', 'Noi', 'shroud', 'snow.', 'Iris,', 'fatherhood,', 'defunct', 'Coolsville', 'recreate', 'stylishly', 'utilized', 'flare,', 'provokes', 'contempt', 'Constable', 'Fitzpatrick', 'Hellboy', '\"Eddie\"', 'worlds,', 'undeniable', 'Leland', 'on-board', 'navigation', 'Nate', \"Nate's\", 'Missouri?', 'Davy', \"Ella's\", 'so-called', 'birthright', 'slew', 'unpleasant', 'ogres,', 'elves', 'compulsively', 'purported', 'Oz,', 'begging', 'happening.', 'spilling', 'beans', 'ante', 'scams.', 'Stevens,', 'shoot.', 'vehicle,', 'trails.', 'Frantically', 'everywhere,', 'ever-growing', 'dramatization', 'Assisi', 'conversion', 'peoples', 'tribes.', 'existing', 'supremacy', 'tortuous', '(Raquel', 'Mace', 'outlaws,', 'bandits.', \"Johan's\", 'Katarina', 'affairs,', 'understandings', 'Regardless', 'above.', 'wasps.', 'chicken.', 'crawling', 'intruders.', 'Bali', 'favours', 'Lala.', 'troubles.', 'jewels.', 'Sunshine', 'comedians', 'Soho', 'Prix', 'engine.', 'womaniser', 'Bret', 'wrestling,', 'gal', 'one-by-one,', 'List', 'slaughtered,', 'barge', 'thirteenth', 'thirty.', 'granted,', 'rebirth.', 'Roxy', 'smuggler,', 'slayer', 'Valerious', 'centuries-old', 'Buenos', 'Aires,', 'publishes', 'bestselling', 'B.C.', 'Bronze', 'Trojan', 'Troy.', '50,000', 'Carandiru,', 'São', 'Police,', 'enforcement,', 'Coffee', 'teenager.', 'witty,', 'swirling', 'flows,', 'clinic', 'Wyoming.', 'snowstorm', 'busy.', 'cover.', \"Stones'\", '1969', 'legendary,', 'Love\"', 'Stones', 'Dead,', 'unwisely', 'Hells', 'stoned,', '\"Sympathy', 'Maysles', 'Jagger', 'editing', 'on-camera', 'relaxed,', 'intoxicating,', 'Ho,', 'break-ups', 'Chang,', 'futility', 'Nin', 'unexpected,', 'safari.', 'syringe', 'razor', 'Pennsylvania,', 'monochrome', 'Classic', 'disorder,', 'recovery.', 'miniseries', 'neurosurgical', 'phenomena,', 'blackout.', 'restored,', '95', 'Dobermann', 'Stories', 'sources,', 'overview', 'capsule', 'Connery', 'Norah', '\"Dear', 'reassess', '007.', 'infant.', 'Osaka', 'Tamino', 'opera.', 'flute', 'royalty', 'Bennet', 'pride,', 'Jones)', 'individualism', 'conform', 'standards.', 'Richmond', 'Venice,', 'paramour', 'Jef', 'diner', 'Scully', 'peering', \"home's\", 'window.', 'guide.', 'Rooster', 'Cogburn.', 'Goodnight', 'raping', '(Katherine', 'discusses', 'journeying', 'marriages,', 'Rush', 'prolific', '1972.', '7-year-old', 'innermost', 'regained', 'touch,', 'common,', 'Greene', 'fearing', 'ridicule.', 'Marr', 'womanhood', 'wannabee', 'Kevin.', 'sincere', 'hedges', 'Brooks.', 'egos', 'Petty', 'artists,', 'Rimbauer', 'Londo', 'Centauri', 'Emperor,', 'Humans', 'distracts', 'exploiting', 'Hopkins,', 'persecutor', 'Resurrection,', 'cunning,', 'deadly.', 'positively', 'ashamed', 'saucy', 'slightest', 'jolt', 'Julie.', 'arises,', '707', 'Athens', 'Lebanese', 'Beirut.', 'mobsters,', 'Hanson', 'Sun.', 'Rivals', 'printing', 'opinions', 'similarly', 'combative', 'evolve', 'Margaret,', 'statuesque', 'AKA', 'Sketch', 'Irena', 'Simon)', 'establishes', 'enforce', 'greeting', 'undertaker', 'dressmaker', 'Aegis', 'Oil', 'CEO,', 'waitress.', 'charms,', 'combining', 'rubber', 'Terrier', 'adventuresome', 'makeshift', 'mourns', 'Mui', 'woman)', 'Pierrot', 'Marianne,', 'hit-men', 'Algeria.', 'jams,', 'weight', 'consumer', 'invaders.', 'film-maker', \"Eisenstein's\", 'acceptance,', 'Josef', 'USSR,', 'pact,', 'explorer,', 'Fleece.', 'Marc,', 'evils', \"poet's\", 'kinship', 'intertwined.', 'Sabine,', 'hiding,', 'paintings,', 'drill.', 'Fortress', 'Castle.', 'fortress.', 'Anita', 'pen-pal', 'secures', \"Howard's\", 'Inn', 'beseiged', 'buccaneers', 'Blind', 'Espaniola', 'gregarious', 'Alexis', 'bullying.', 'Beckett', 'marksman', '\"Address', 'obtains', 'demonstrate', 'hand-held', 'cemetery.', 'CAT', 'surge', \"Karl's\", 'electrical', 'networks', 'Iraq.', 'Matters', 'handicapped', 'Audie', 'decorated', 'Snoopy', 'Woodstock.', 'Indeed', \"senator's\", 'multinational', 'Prominent', 'Cyrus,', 'Warriors', \"Cyrus'\", 'mobilized', 'Eero', 'defensive', 'positions.', 'Shadows', 'Hunters', 'telepathically', 'imprisoning', 'generals,', 'Anglo', 'parade', 'preserves', \"humanity's\", 'Hapless', 'second-hand', 'salesmen,', 'April,', 'bounders', 'personnel', 'Alexandria', 'Eloise', 'Nordley', 'arranging', 'satisfaction,', 'succeed.', 'According', 'fiction.', \"Nora's\", 'things?', 'Woodstock', 'insiders,', 'portraits', 'shown,', 'hordes', 'impromptu', 'Arrakis', 'cycle', 'mini-series', \"Herbert's\", 'Stefan', 'Kai', 'cannabis', 'Flower', 'Manchu', 'Emperor', 'minions.', 'Fong', 'survivalist', 'Gummer', 'Nev.,', 'simulated', 'real,', 'weaponry', 'entrepreneurs.', 'fiance,', 'zombie.', 'disciple', 'Haitian', 'witchcraft,', 'unsafe', 'Karnstein', 'Family,', 'ageing', 'virgins', 'Kid\"', \"Morgan's\", 'subplot', 'Fighter', 'Takuma', 'idealist', 'illegally', 'gigolo.', 'ex-lawman', 'Hogue', 'spring.', 'Boxer', 'data,', 'perpetrator', 'descendents', 'symphony', 'metropolitan', 'Showing', 'Kazamatsuri', 'sword,', 'Tokugawa', 'donated', \"Lord's\", \"counselor's\", 'Heishiro', 'Moondoggy.', 'surf.', 'precocious,', 'explosives.', 'tires', 'Frost', 'ploy', 'vote', 'Senate,', 'Takashi', 'muddy', 'alleys', 'snapshot', 'director’s', 'memorably', 'Satanists', 'melt', '(Lino', 'Ventura),', 'slit', 'throat', 'Rane,', 'Stray', 'extortion', 'Fool', 'late?', 'Fictional', 'chameleon', 'whoever', 'Woodrow', 'Wilson,', 'Ruth,', 'irony', 'Traveling', 'dwarfs.', 'craftsman', 'pastor', 'annihilation,', 'Karin', 'lucidity,', 'Karin’s', 'abyss', 'Magician', 'premier', 'mesmerist', 'potions', 'gorgeously', 'Bergman.', 'Prince,', 'cramped', 'Reardon', 'Weaving', 'Kitty', 'Collins.', 'Drama', 'Vallarta', 'Geoffrey', 'consul', 'behaviour,', 'metaphor', 'Yvonne,', 'healing', 'Austria', 'stake.', 'aloud', 'Barker', '(Shelley', 'dominates', 'crooks.', 'deadly,', 'self-styled', 'LSD.', 'pad', 'witches,', 'Would', 'Tate', 'brimming', 'enormously', 'devoutly', 'tight,', '1967,', 'Monterey', 'ushering', 'Jimi', 'Janis', 'Joplin,', 'Redding,', 'Ravi', 'Pennebaker', 'his.', 'Market', 'bridges', 'Wing', 'Yan,', 'Lau', 'Kin', 'Ming,', 'counterparts,', 'Yan', 'respectively,', 'midst.', 'tap', 'perceptible', 'inside,', 'Americans.', 'Russian,', 'makers,', 'dolls.', 'Rough', 'stream', 'administer', 'Ramones,', 'sponsors', 'mowing', 'comprised', 'resistance.', 'Miller),', 'café', 'co-worker,', 'irrational', \"Loser's\", 'half-hour', 'Bowen,', 'Bethlehem', 'Asylum', 'reforming', 'Sims', 'Argos', 'Galliot', 'other!', 'further,', 'Dusty', 'hindered', 'Fiona,', 'Geel', 'fists', 'PK', 'Weather', 'activists', 'loudmouthed', 'Luke)', 'with?', 'temple.', 'monk.', 'Norton', 'princesses,', 'terraced', 'miscarriage', 'Evans.', 'coming...', 'Jump', 'accepts.', 'Katya,', \"Tolyan's\", 'clear.', 'liberty,', 'rush.', 'Shocked', 'biggest,', 'millionaire.', 'big-shot', 'ballet.', 'realities.', 'Bravo', 'Hamburger', 'war-weary', 'mound', 'raw,', 'unrelenting', 'fiercest', 'bloodiest', 'Devil.', 'emerges.', 'Harper', 'Bogart.', 'accompaniment', 'Paradise.', 'vacuum', 'tomboy', 'connect,', 'Indochina', 'disappearances.', \"Korea's\", 'sniper,', 'paced', 'Cult', 'much-needed', 'residency', 'Inspired,', 'Prize,', 'unsolved', 'project:', 'compile', 'PC', 'foe,', 'problems?', 'boxing.', 'Stockholm.', 'Christoffer', 'bankruptcy.', 'pollution,', 'exhausted,', 'Ecoban', 'cosmetics', 'anticipate', 'dweller', 'US$', 'swamp.', 'Benton', '(Ken', 'bed-ridden', 'seldom', 'Ryūichi', 'crime-ridden', 'Jojima', 'yakuza.', 'Episodic', 'scouring', 'paramilitary', 'counter-terrorism', 'Raynor', 'Leigh),', 'junkies,', 'behavior,', 'Felix,', 'nosy', 'demolished', 'apartments,', 'skyscraper.', 'hairdresser', 'Denny,', 'University.', 'downing', 'whisky.', 'exile.', 'separated,', 'oppression.', 'whirlwind', '(Philippe', 'roughshod', 'dans', 'le', 'Wave,', 'angles', 'senseless', 'Katharine', 'heir,', '\"Baby', 'Doll', '19-year', 'Silva', '(Eli', 'it)', 'morass', 'Hiroshima', 'potter', 'sage', 'Andy.', 'advancing', 'disaster?', 'eighteenth', 'Camilla,', 'coach.', 'Igor', 'lesser', 'Gaulle,', \"assassin's\", 'buttons,', 'underwear', 'opponents.', 'buttons', 'privacy', 'eerie,', 'Niles', 'Colonial', \"Ford's\", '(Claudette', 'Colbert)', 'statuette', 'Maltese', 'Falcon.', 'conscripted', 'battalion', 'Dunkirk.', 'photographs.', 'mold', 'strong,', 'vital,', 'self-assured', 'vows,', 'protagonist,', 'troublemaker', \"Chanticleer's\", 'inscrutable', 'go-go', 'dancer.', 'mails', 'locks', 'man;', 'patrolling', 'house;', 'improbable', 'calculated', 'evoke', 'coming-of-age.', 'Lupin', 'tags', 'discord.', 'accordion', 'monarch', 'envoy,', 'narrative,', 'Ardennes', 'demoralized', 'trapped,', 'Allies.', 'spine', 'Desert.', 'upbeat', 'Wolves', 'steamed', 'K.C.', 'Higgins,', 'outs', 'filthy,', 'grumpy,', 'free-lance', 'ecology', 'crawls', \"Hayward's\", 'consistent', 'chamber.', 'subdued', 'saleswoman', 'duty.', 'Antoine.', 'fixation', 'Disgusted', 'Raul,', 'Sylvia.', 'athlete.', 'tough-guy', 'Balsam,', 'anti-hero,', 'Saxon', 'Olsen', 'supporting', 'dying,', 'Agatha', \"Christie's\", 'Kameda,', 'Taeko', 'Rainsford', 'reefs', 'Dolls', 'illustrated', 'imagery.', 'Kitano', 'Whiteside', 'underway,', 'fraud,', 'intimately', 'repressive', 'vitality', 'cattlemen', 'fields,', 'reunion,', 'Ma', 'Pa', 'gears', 'regulated', 'Applegate,', 'Discovering', 'compartment', 'jeopardizes', 'mutiny.', 'nuns', 'remote,', \"Defiant's\", 'petition', 'grievances', 'Violence', 'sadism', 'Escape', 'penitentiary,', 'Stroud,', 'dismal', 'Sikes', 'Donkey', 'increases', 'globally', 'hurricanes,', 'tornadoes,', 'waves,', 'floods', 'Age.', 'shepherding', 'glamorous,', 'awful', 'Nashawn', 'airline,', 'multimillion-dollar', 'caters', 'tricked-out', 'Mack,', \"Melvin's\", 'deceptive', 'checks,', 'Again', 'Fundamentalist', 'Veronica,', 'Mary’s', 'they’re', 'gay.', 'strangers.', 'Zatôichi', 'nomad', 'breathtaking', 'wandering,', 'cane', 'riveting', 'waging', 'annihilation.', 'Garfield,', 'Jon,', 'Odie', 'Stepford', 'functioning', 'listless', 'Lowe', 'medicine.', 'Calcutta,', 'hospitals,', 'blitz.', 'pathos', 'Lear', 'audience,', 'sentimental,', 'episodes', 'Zelda', 'hoax', '(Corbin', '(Sela', 'Ward).', 'innkeepers', 'Mandy,', 'again!', 'Templeton', 'other’s', 'Konstantin', 'hit-and-run,', 'scavenger', 'Lynda', 'swearing', 'sixteen,', 'prevailing', 'Moriarity', 'moors', 'hound.', 'Watson.', '1876', 'miners,', 'sympathies', \"Shaw's\", 'Benson,', 'pacifist', 'abide', 'town...', 'ambush.', 'dazed', 'Flashbacks', 'borderline', 'Nino', 'manly', 'Harold,', 'Chipettes', 'Chipmunks', 'Stryker', 'Aliens', 'Earth’s', 'Dadier', 'anti-social', 'section,', '(Ralph', 'Richardson),', '1840s', 'substantial', 'Square.', 'communicate.', 'Spurlock', \"McDonald's\", 'decreasing', \"Davies's\", 'exquisite', 'tableaux', 'Davies', 'complexity', 'succumbed', '1961.', 'Kaji,', 'WWII-era', 'Greater', 'Kaji', 'Himalayas.', 'Buddha.', 'Vaughn', 'payroll', 'Ebeneezer', 'Scrooge', 'apparitions', 'brighter,', 'Dresden,', 'invariably', 'Played', 'stability', 'craves.', 'hooker,', 'Bellocq', 'Carradine)', 'earthlings', 'engineer,', 'Keiko,', 'visions,', 'Bell', 'appear,', \"studio's\", 'creditors', 'dialogue,', 'aeroplane', 'despatch', \"minister's\", 'Stevenson,', 'liberated.', 'chemicals', 'relegated', 'second-in-command', 'cockpit', 'pups', 'howls', 'inventor,', 'globe', 'Haunted', 'Goodman,', 'high-end', 'center,', 'Fleur', 'back:', 'Viktor', 'country;', \"d'etat\", 'exploded', 'homeland,', 'shambles,', 'quarantined', 'Nine-year-old', 'mum', 'weeks,', 'globe,', 'bust.', 'kidnapper.', 'blonde,', 'Alternately', 'complexities', 'brightest', 'Widow', 'Hampton,', 'prevented', 'tigers', 'cubs', 'captivity,', \"Cole's\", 'muse,', 'Compelled', 'rebellious,', 'high-spirited', 'Priest', 'priced', 'rendering', 'Arno', 'Slapstick', 'spray', 'self-discovery', 'session,', 'Simone,', 'Aimee', 'nonexistent.', 'Castro.', 'quaint', 'undead,', 'today,', 'companies,', 'empires', 'Corporation.', 'dissident', \"media's\", 'uncontrollable.', '(Joseph', 'reservists', 'municipality', 'Destroyer', 'Q', \"Clouseau's\", 'entrepreneurial', 'confident,', 'risk-taking', 'heists,', 'nets', '$20', 'bonds.', 'quits.', 'Connelly', 'reformatory', 'rigid', 'interracial', 'Beat', 'Generation', 'Carruthers,', 'scholars', 'Critics', 'Marseilles', '(France),', 'license.', 'drive,', 'Hana', 'Miyuki,', 'Edwina', 'Hoskins', 'Carraclough', 'Lassie,', 'Karloff', 'Khan.', 'relics', 'model,', 'Weston', \"Vienna's\", 'wrongdoing.', 'speculation', 'Buñuel,', 'Silvia', 'Sharply', \"Moore's\", 'Bush', 'unjust', '\"Cyrano', 'Roxanne', 'cards.', 'Chaney,', 'gambles', 'Rogan', 'restored', \"Zack's\", 'Philippine', 'Burned', 'Spider-Man,', 'sunrise.', 'negotiate', 'Arthurian', 'Corningstone', 'looms', 'messaging', 'Nomad', 'mule', 'Seminole', 'Kwimper', \"Franco's\", 'sixteenth', 'manservant,', 'dungeon', 'Cervantes', 'manuscript', 'Jacek', 'badge.', 'egotistical', 'sensual,', 'Arc', 'crowning', 'Dauphin', 'submitted', '1942.', 'German-occupied', 'discrimination', 'trader.', 'retaliation', 'vigilante.', 'Clare', 'real-estate', 'receptionist', '(Sally', 'Field)', 'four-hour', 'Hofmeister', 'Pig', 'Runt', 'awakening', 'detects', 'Curt', 'wits.', 'rests', 'Kenshiro', 'wastelands', 'gunslingers', 'roof.', 'lung,', 'rift', 'Mordred,', \"Years'\", 'occupying', 'devotes', 'Marcelino', 'monks.', 'cross.', 'blackmailed', 'scuttling', 'to:', 'associate,', 'cigarette', 'lighter', 'prying', 'Pilgrim', \"Vonnegut's\", 'Nugent,', 'Turner.', 'Threatened', 'Nugent', 'mannerisms,', 'Breezy', 'teen-aged', \"diplomat's\", 'Jacks', 'perfumes.', 'Jekyll,', 'discoveries,', 'trough', 'Girl,', \"Marlon's\", 'expectation', 'undying', 'spaces', 'gap.', 'awkwardly', 'Hilarious', 'Pippi', 'Longstocking', 'Older', 'worried.', 'Havilland', 'state-run', 'negligent', 'staked', 'Salina', 'nephew,', 'Tancredi,', 'Angelica,', 'manifested', 'desired', 'Japanese.', 'Carlyle)', 'Laborie', 'escape...', 'slams', '\"normal\"', 'naturalistic', 'infuses', 'Exotic', 'Roma,', 'middle-age', 'whore', 'Mamma', 'Roma', '(Anna', 'Ettore', 'bitch,', 'Edo', 'gamblers,', 'accountant.', 'black-market', 'Naples,', 'inescapable', 'Milan,', 'dents', 'Mara,', 'Bologna', 'Frenhofer', 'Tare', 'ex-Army', 'sharpshooter', 'once-promising', 'Tiny,', 'curriculum', 'influences', 'me.', 'theaters,', 'narration', 'context,', 'clips', 'Rossellini', 'one;', 'Fellini,', 'Scorsese', 'emotion,', 'shepherd', 'Skye', 'Edinburgh.', 'anyone,', 'Thomasina', 'Raven,', 'cats,', 'pert', 'committee', \"Martin's\", 'shifty', \"magazine's\", 'conclusion,', 'disrupt', 'ordinarily', 'deflect', 'unconnected', 'mesmerizing', 'Reason?', 'Dartmoor', 'Jean-Paul', 'Parisians', 'impact,', 'examined', 'spies.', 'Assassination', 'Bureau', 'Rigg', 'deserve', 'Marco,', 'bread', 'butter', 'Thunderbirds', 'vehicles.', \"He'll\", 'willful', 'hamlet,', 'reconnects', '28-year-old', 'Noriko,', 'deserter', 'launch.', 'destination,', 'hazards,', 'respond,', 'Sphinx,', 'airship', 'Bulge,', 'stressed', 'Senga', 'Nat', '(Mischa', 'Barton),', 'stop.', '(Khan)', 'renounces', 'Himalayan', 'Filmmakers', 'expensive,', 'door-to-door', 'sours', 'bona', 'fide', \"Derek's\", 'Seoul', 'Sometimes,', 'Kumar,', 'hamburgers.', 'crossroads,', 'Mia', 'royal.', 'cement', 'awaited', 'blasts', 'thunderstorm', 'disappearance,', 'Sydney.', 'Predator', 'Pharaoh', 'Wielding', 'Eighth', 'Millennium', 'Yugi', 'attempting.', 'hijacker', '1971.', 'traumatizing', 'Lankester', 'Merrin', 'sabbatical', 'excavations', 'British-administered', 'Byzantine', 'Seattle.', 'poker,', 'Hooker', 'Alison', 'cheerleaders.', '1983', 'Theatre,', 'Hamilton,', 'parenthood.', 'anticipated.', 'orchid', 'two-fisted', 'Battling', 'crocodiles', 'danger:', 'flesh-eaters', 'sifts', 'Gobi', 'travelers.', 'calculating,', 'enough.', 'folding', 'mystery,', 'J.R.', 'explicitly', 'horizons', 'widen', 'injuring', 'Eldorado,', 'agenda.', 'linger', 'limbo,', 'indulgent', 'chaser', 'Fausto,', 'child;', 'conscience.', 'scamming', '$50', 'Tricky', 'talked', 'Connors', 'credits', '\"My', 'fins', 'coward,', 'seaman', '1900.', 'board,', 'skating', 'rink', 'Boogie', 'Contest.', 'Lilith', 'sanitarium', 'deepens', '1994.', \"'baby\", 'geniuses', 'Helping', 'heart-pounding', 'blood-', 'thirsty', 'Hannigan.', 'Rodrigo', 'distrusts', 'Valerie,', '47', 'Perkins,', 'scientists.', 'Sky', 'rank', 'Fortunately', 'Walking', \"She'll\", 'consecutive', 'progress,', 'burgeoning', 'impelled', 'student.', 'Telly', 'orgasm.', 'Motorcycle', 'journals', 'Che', 'Guevara,', 'Guevara', 'uneventful', 'snack', \"'em\", 'Prof.', 'Holt', 'facial', 'exclusively', 'shoe.', 'she’s', 'brewed', 'architects', 'family;', 'offspring', 'Nolan,', 'beast,', 'turf.', 'Buñuel', 'Crusoe', 'veers', 'Buñuel’s', 'there’s', 'pornography', 'fires,', 'greet', 'vegetarian.', 'firefighter', 'significantly', 'impacted', 'brokenhearted', 'tips', 'twenties', 'entrepreneurs', 'reduces', 'capabilities', \"actor's\", 'acting.', 'Jong', 'L', 'Moore,', 'Hawke,', 'litany', '(Linney)', 'admissions', 'Arts.', 'complicating', 'version.', 'collectively', 'Co-written', 'screenwriting', 'write,', 'epidemic.', 'twist,', 'Polanski', 'richly', 'Hardy’s', 'commences', 'earthy', 'pastoral', 'competes', 'Prix,', 'continent', 'heed', 'inquiring', 'recreating', 'Heavily', 'Lenore', 'Hospital.', 'Perkins', 'divulges', 'girlfriend)', 'Dominique', 'naturally,', \"Bebe's\", 'W', 'degree.', 'instill', 'proxy,', 'Filmmaker', 'messages,', 'culled', '(Jackson)', 'talented,', 'shining', 'twinkle', 'novelty', 'Grudge', 'Alfie', 'girl-friend', 'Californian', 'aisle.', 'insomnia.', 'Claire.', 'anchor', 'rope,', 'deranged,', 'seven.', 'keyboard.', 'circuit,', 'soulful', 'pioneered', 'Joseph,', 'uncanny,', 'Parr', 'suburbia.', 'near-future', 'world-famous', 'doubting', 'Kinsey', 'comedies.', 'Boyd),', 'voiced', 'retired.', '\"Diamond', 'Finding', 'Neverland', 'Veer', 'Pratap', 'Franklin', 'Revolutionary', 'Constitution', 'Ignacio', 'Manolo,', 'discoveries.', 'Bikini', 'Shell', 'Persians,', 'venturing', 'westerner', 'Christmas;', 'defeat.', 'parts.', 'Sarajevo.', 'attractions,', 'betrayals.', 'determination.', '9th', 'crosshairs', 'daylight,', 'anyone.', 'expressions', 'Rupert.', \"Fella's\", 'fortunes,', 'Lewis)', 'Haas.', 'Morty', 'Belt', 'yesterday', 'hailed', 'countrymen', 'March),', 'continents', 'Asia', 'rulers', \"history's\", 'Youth', '\"super', 'schedules', 'clearing', 'gradual', 'stunts.', 'outlet.', 'criticized', 'airing', 'chairs', 'Burmese', 'ivory', '1920', \"Stevenson's\", 'novella', 'Barrymore.', 'persecution.', 'clay,', 'Henrik', 'Chariot,', 'dead...', 'mystic', 'hers.', 'Grave', 'hypothesis', 'brew', 'scary,', 'Miller)', 'Beggars', 'Jehan', 'saintly', 'laboring', 'clowns.', 'projectionist', \"Army's\", 'Lamb', 'Peggy,', 'Erich', 'lair,', 'elope', 'performance.', 'rabid', 'synchronized', 'scantily', 'clad', 'insouciant', 'impressing', \"Poe's\", 'Epstein', 'technique.', 'stubbornly', 'devoting', 'conveys', 'undisciplined', 'setbacks,', 'anonymous,', 'throngs', 'treachery.', 'Gwynplaine', 'knife.', 'there?', 'interlinked', 'sustained', 'thwarted,', 'notable', 'statue.', 'Dink', 'Tijuana', 'rapport.', \"Linda's\", 'opportunity,', 'managers', 'completion', 'Bourgeois', 'Boudu', '(Michel', 'gratitude', 'shaking', 'foundations,', 'intrudes', \"scientist's\", 'Killer.', 'Hurdes', '1932.', 'contrasts', 'gloomy,', 'foreboding', 'Femm', 'slain,', 'rackets', 'grasp.', 'dissatisfaction', 'Marlene', \"Ozu's\", 'types,', 'Morlant', 'Oriental', 'Trixie,', 'Fay', 'profane', 'establishing', 'demigod', 'half-human', 'indigent', \"Spain's\", 'aristocracy,', 'Dude,', 'uncharacteristic', '\"his\"', 'loss,', 'resurgence', 'skeptical,', 'Gleib', 'Eager', 'hop', 'Hungary', 'assumption', 'nobles', 'mingle', 'boredom,', 'Albert,', 'Gabi,', 'newspaper,', 'outwits', 'Gabby', 'Mantee', 'loan,', 'teachers.', 'Lillian', 'Hour\",', 'references', 'lesbianism,', 'Linda.', 'unconditional', 'caution', \"Van's\", 'temptation.', 'Whitey', 'circumstantial', 'champagne', 'exert', 'Gautier', '(Greta', 'sumptuous', 'mystique', 'illuminate', 'ashore,', 'low-paid', 'port,', 'apartments', 'workplace', \"Hazel's\", 'monarch,', 'Cosmo', 'financier,', 'hidden.', 'bootlegging,', 'flourish', '1888,', 'Kikunosuke', 'praised', 'Otoku,', 'Dona', 'encyclopedia.', \"O'Shea,\", 'Heavenly', 'Messenger,', 'snatched', 'celestial', 'grants', 'unworthy', 'love;', 'wife?', 'Any', 'traveller', 'Alberta', 'innovative', 'Murmansk.', 'subs', 'entry.', 'Surprised', 'onwards,', 'concentrating', 'twenty-five', 'witchcraft.', 'confession,', \"pastor's\", 'denounces', 'defense,', 'red-headed', 'Maribelle', 'Hicks.', 'friendless', 'Britons', 'victorious.', 'tyranny.', 'superstitious', 'Czar', 'Grozny,', 'altogether.', 'reign,', 'aristocracy', 'pennies', \"Papa's\", 'alcoholism.', 'removal', 'Locals', 'killer:', \"pianist's\", 'adaptation,', 'Pip', 'Reunited', 'Havisham,', 'unfeeling', 'shoeshine', 'Giuseppe,', 'Crimes', 'Commission', 'Franz', \"Kindler's\", 'Carlisle', 'carnival,', 'Lips', 'convenience,', 'Rio,', 'impression', 'poisons', '1911,', 'Hannah', 'sombre', 'posting', 'Arrogant,', 'Thursday', 'about,', 'hate,', 'orchestra,', 'imagines', 'Dinah', 'scripts', 'Addie', 'Orphée', 'resentful', \"Cocteau's\", 'Orphic', 'Trilogy,', '(1930),', '(1950)', 'Testament', '(1960).', \"Berlin's\", 'extravaganza,', '\"There\\'s', 'Business', 'snowball', 'hermetic', 'Jealousy', 'undercurrent', 'Agathe', 'gunslinger,', 'delinquents', 'paparazzi', 'chores', 'haunting,', 'isolating', 'alternating', 'nighttime', 'episodes,', 'polarizing', 'vanity', 'vicissitudes', \"Torch'\", 'Delroy', 'thieves;', 'Moritoh', 'Hasegawa)', 'Wataru', '(Isao', 'trains.', 'schoolgirls', 'Kyoto,', 'Osan', 'miserly', 'humiliation.', 'comedy/drama', 'impresario', 'picketing', 'Act', 'caste', 'singer/actress', 'Dino', 'tossed', 'Trevi', 'Fountain', 'Rebels', 'Johnny.', 'handed', 'Corinth', '1961', '2006,', 'Takezo', 'Kyoto.', 'Otsu', \"region's\", 'skill,', 'ambushes', 'waits,', 'Akemi', 'Sasaki', 'Kyoto', 'begun.', 'baptism', 'Väinö', \"Linna's\", 'gates,', 'Shogun,', \"Shogun's\", 'Rodan', 'airbase', 'fallout', 'familiar,', 'journalism', 'Douglas,', 'Curtis,', 'dazzle', 'action!', 'brothers.', 'Einar', 'inflames', 'fate...', 'Aliens,', 'Penner,', 'undetected', 'deceased.', 'exemption', 'excels', 'implement', 'brutality.', 'onslaught.', 'agonizing', 'Fires', 'Plain', 'tuberculosis', 'unknown,', 'poetic,', 'versatile', 'obsolete', 'Mal', 'Congo', 'Komajuro', 'Mama,', '30,', 'convey', 'choose:', 'tarnished', 'Keiko', 'Ida', 'father’s', 'procession', 'gleaming', 'Rutherford', 'echoes', 'meted', 'Chinese.', 'candidate,', 'psychosis', 'rampage.', 'poverty.', 'bakery,', 'runs,', 'reveries', 'incarceration', 'Bounty', 'rope', 'Bruno,', 'forty-year-old', 'capricious', 'Angie,', \"Jerry's\", 'Bavaria,', 'returned.', 'Capitol', 'GW', 'pouring', 'territories', 'German-American', 'physicist', 'Emily.', 'Stratman', 'Fernand', 'supremo', 'Archbishop', 'appoint', 'pious', 'Becket,', 'deacon', 'Becket', 'plain,', 'mother-in-law', 'samurai,', 'Robbo,', 'out-gunned,', 'Robbo', 'together?', 'malady', 'Mental', 'donating', 'multimillion', 'Tracing', 'Liberation', 'prominence', 'quell', 'accepts,', 'struggle.', 'forlorn', 'fir', 'Mountain,', \"Count's\", 'completed,', 'partner;', 'whisky', 'League,', 'Norway,', 'embellished', 'Pedersen', 'objective.', 'seared', 'white-hot', 'regulars,', 'raiding', 'developments', 'whichever', 'Precisely', 'tapping', 'absurdist', 'half,', 'Mitchell)', 'nightfall.', 'paintings', 'theft.', 'expansive', 'icon', 'Balthazar,', 'donkey,', 'miller', 'saint.', 'Duo', 'super-villains', 'Monaco', 'teammate,', 'recover,', 'Prime', 'Ordered', 'evacuate', 'hidden,', 'devil-worshiping', 'Milos', 'Tetsu', 'declines,', 'Otsuka', 'Viper', 'Gaul', 'Romans', 'Asterix', 'potion,', 'strength.', 'centurion', 'druid', 'century’s', 'botching', 'wordless', 'comedies', 'enact', '1929.', 'organised', 'Massachusetts.', 'ten-year', 'Obelix', 'Cleopatra', 'Darkness', 'cherishes', 'enlarge', 'also,', 'Fine', 'self-described', 'SYMPATHY', 'FOR', 'DEVIL', 'rehearse', 'ballad,', 'pulsating', 'Patriotic', 'War\"', 'Forbin', 'Guardian,', 'confidential', 'Colossus', 'guidance.', 'Da', 'Man)', 'Giulio', 'Luciano', 'Cleef', 'sparring', \"Earth's\", 'Council', 'evidenced', 'staff.', 'personality.', 'missing-person', 'Mavis', 'cautions', 'Ibiza,', 'Mississippi,', 'stadium.', 'trusts', 'Kurosawa’s', 'trolley', 'hopes,', 'fears,', \"Claire's\", 'knee.', 'Barnabas', 'Hoffman,', 'aunts', 'unhappiness', 'beautiful.', 'Chas', 'impulses', 'anarchy', 'River.', 'intruder', 'manipulating', 'Sukhov', 'hospitalised', 'Basmachi', 'guerrillas.', 'temporarily,', \"Abdullah's\", 'border,', 'Abdullah', 'children:', 'anthropology', 'Daria', 'Yankee', 'comply', 'Urbain', 'Travelling', 'amputee', 'arms,', 'Unbeknown', 'think,', 'resurface', 'wonder:', 'slipping', 'Mormons', 'fertile', 'packing', 'inheritance,', 'guardian,', 'mean-spirited', 'dime,', 'clumsy,', 'Tsar', 'Siberia', 'splashed', 'resurrected.', 'blood-drained', 'companies.', 'Topo', 'Bandits', 'massacred,', 'Mara', 'Kristina', 'Karl-Oskar', 'infertile', 'soil,', 'tough.', 'emigration', \"1970's,\", 'thrills,', 'culmination', 'ritual,', 'disciple,', 'graveyard', 'Helsing.', 'snare', 'Cub', 'Kazuo', 'origin.', 'Ogami', 'Shogunate', 'executioner,', 'Yagyu', 'Itto', 'Shogunate.', 'Holiday.', 'tours,', 'Co.', 'features.', 'debuting', 'hurdles', 'setbacks', 'Pivert', 'Jacob,', 'planets.', 'speculative', 'Beauregard,', 'Department,', 'Peckham,', 'Research.', 'Sneaking', '\"Love', 'Rembrandt', 'stormy,', 'erotic,', 'arc', 'wrestler,', 'Tennessee,', 'Tijuana.', 'races,', 'robbed,', 'mayor,', 'orchestrate', 'illiterate,', 'hippies', 'Manson', 'pest', 'Bangkok', 'Emmanuelle', 'ecstasy', 'gem.', 'playfully', 'compiles', 'hypocrisy', 'arrangements.', 'Within', 'depraved', \"Baron's\", 'stitched', 'permissive', 'outrageous,', 'Pace', 'Mustang,', 'dispute.', '70s', 'garage,', 'Tonto', 'interviews.', 'racism', 'importance', 'Anderson.', 'Dolemite', \"You'll\", 'roar', 'outrage', 'Velma,', 'biplane', 'barnstorming', 'missed.', 'Adèle', 'Hugo,', 'Indies,', 'bathing', 'vodka', 'Zhenya', 'coincide', 'architecture.', 'Imagine', 'Nadya', 'there...', 'Locke', 'Goose', 'Fist', 'traitor.', 'Sledge,', 'Emilia,', 'turmoils', 'haircut,', 'window,', 'lam.', 'reopened', 'amiss.', '1973.', 'Workers', 'lasted', 'gun-toting', 'Count.', 'Up!', 'Schwartz,', 'caricature', \"ABBA's\", '\"Tiger\",', 'sung', 'Melbourne,', 'Adelaide,', 'sub-plot', 'organic', 'beings,', 'creators', 'Thorndyke', 'VERY', 'uphill', 'climb.', 'tormenting', 'landing.', 'astronauts,', 'instructed', 'wore', 'cemetery,', 'Bilbo', 'dwarves', 'kingdom,', 'Smaug.', 'sprayed', 'Already', 'Arts', 'Madrid.', 'plates.', 'Gertrude', 'Churchill.', 'abuses', '(Chan)', 'passed,', 'Christiane.', 'Alphonse', 'Tram', 'neighbour,', 'axis', 'occur.', 'Claude,', 'draft', 'six-year', 'reopening', \"groom's\", 'uproar', 'occupies', 'pieces,', 'survives.', 'Kingston', 'records.', 'dialog', 'closely.', 'Called', 'considerations', 'Scarlet', 'wayside', 'jaws', 'guillotine,', 'rite', 'cabbies', \"Harold's\", 'NATO', 'Pact', 'scale', 'Missouri,', 'farms', 'Arms', 'wheels', 'sale,', 'Taped', 'August,', '1983,', 'peppered', 'one-of-a-kind', 'reminiscences', 'Enrique', 'Guatemala', 'north,', 'japanese', 'discipline,', 'view,', 'commiting', 'interpreter', 'thinking,', 'X,', 'intercuts', 'summoning', 'cherry', 'narcissistic,', 'judicial', 'punishing', 'NASCAR', 'sponsor', 'fried', '(like', 'buxom', 'Poland', 'collaborated', 'Twilight', 'updated', 'Life\",', '\"Nightmare', 'lecture,', 'against.', 'Evan,', 'swallow', 'confiscate', 'fabulous', 'await.', 'German-born', 'crying', 'myopic', 'dunce', '22,', 'filmmaker.', 'Florence,', 'break-up,', 'party...', \"Davey's\", 'skin.', 'icecream', 'spilled', 'neighbour.', 'Endor.', \"Towani's\", 'Ewok', 'Cindel', 'Ewoks', 'nice.', 'commodity', 'unreachable', 'wars.', 'presiding', 'selfish,', 'career-driven', 'wealthy.', 'traumas', 'Milk', 'disenfranchised', 'documentaries', 'trove', 'Madrid,', 'Marilla', 'Gaul,', 'gladiators,', 'slavers', 'Wolper', 'Meli,', 'Barbara,', 'cloning', 'multiplying', 'numbers.', 'Terak', 'Teek', 'Sixteen-year-old', 'Dunn', 'resurrects', 'Taoist', 'Yukio', 'Mishima', '25th', 'Weird', 'wrestler', 'Louden', 'Bolshoi', 'Note', 'eloquent', 'fog,', 'rain,', 'sauce,', 'declining', 'barrel', 'Crabs', 'Rogers,', 'forceful', 'transcends', '(on', 'polluting', 'Biao', 'forcefully', 'evolved,', 'strays', 'lest', 'interim', 'towering', 'creatively', 'C.I.A.', 'tranquil', 'extremist', 'warlike', 'slaughter.', 'coast.', 'cylinder', 'opened,', 'Ning', 'collector,', 'Lan', 'Yen', 'Nieh', 'peripheral', 'aristocracy.', \"merchant's\", 'recovers,', 'similarities', 'supplies,', 'Piranha', 'Bunny,', 'incompetence.', 'lose,', 'Dominick', \"Eugene's\", '\"Man', 'video,', 'sequence.', 'videos', 'rabbit.', 'inanimate', 'commit,', 'Flash', 'Eaton', 'Sharpe,', 'Charlie.', 'adolescence.', '(even', 'mandatory', 'mineral', 'planets', 'moons', 'comrades.', 'Masaki,', 'delinquent.', 'Saigon', 'lawnmower', 'maniac,', '(Redford)', 'gamble.', 'Duran', 'Arturo', 'shipmates', \"years'\", 'killer...', 'dye', 'conceives', 'Krays', 'Lyon', 'Gaultier', 'fights.', 'hurls', 'hybrid', 'stunning,', 'multilayered', 'Triads', 'profits.', 'unmanned', 'interpret', 'Kitchen', \"Jackie's\", 'Tatie', 'great-nephew', 'meets.', 'Sandrine', 'au', 'labeled', 'villains.', 'dedicate', 'Webb', 'Dinky', 'returns.', '1960.', 'slate', 'hatred,', 'interrogated', 'embedding', 'Brick', 'doll-sized', 'onslaught', 'nicest', 'Niro)', 'stalled', 'testifying', 'communists.', 'whirlpool', 'away...', 'locations,', 'enamoured', 'Palermo', \"Maria's\", 'convenient', 'payroll,', 'climaxes', 'addict,', 'well-being', 'incidents.', 'clerk,', '1982,', 'years:', 'stirrings', 'frustrations', 'lyrical', 'Renata', 'seminar', 'traits', '(Steven', 'Seagal)', 'Partner', 'muted', 'Quigley', \"Marston's\", 'Huff', '(Brian', 'infiltrating', 'Sainte', 'Colombe', 'Madeleine', 'Rumor', 'XIV,', 'persists', 'gutsy', 'Selling', '(1993)', 'Soldier', '\"Captain', 'Racing', 'reawakens', 'Skull', 'patrons,', 'terrorists,', 'Crimson', 'Hayao', 'Miyazaki', 'ace,', '\"air', 'Adriatic', 'Mambo', 'Castillo,', 'Qiu', 'Zhang', 'Gong', 'Wan', 'Ju,', 'Spirited', 'Voss', 'Goran', \"Tito's\", 'Yugoslavia', 'crafts', 'DP', 'responses', 'emergence', 'Citizen', 'Dynasty,', 'Tsao', 'power-hungry', 'eunuch', 'traitorous', \"secretary's\", 'Chamber', 'Jade', 'head-to-head', 'no-holds', 'barred', 'fullest.', 'Fanny.', 'Zack,', 'Ninja,', 'ninja.', 'famine', 'woman:', 'afterwards,', 'Daughter', 'Bubby', 'Cho', 'Wu-Tang', 'unsatisfied', 'buyout', \"USA's\", 'Pinwheel', 'Kobayashi', 'Cyborgs', 'Casella', 'Glass', 'Shadow.', 'Sai', 'brotherhood', 'dynasty.', 'upheaval', \"Yuk's\", 'wives.', 'film)', 'agony,', 'mark', 'conquest.', 'tiring', 'clans.', 'bombed', 'socialite,', 'mildly', '71', 'Viennese', 'Darkman', 'weaponry.', 'carnal', 'Zhen,', 'engineering', 'Japanse', 'Mitsuko', 'Hou', 'Ryuichi', 'U.N.', 'technologies', 'Eden.', 'Isamu', 'Goa', 'grudges', 'Thing\"', 'edge?', 'vodka,', 'garrulous', 'Estonian', 'Onoff', 'disoriented', 'isolated,', '1994,', 'Toronto,', 'Boya', 'retrieves', 'belongings', 'lodges', 'donut', 'Molly.', 'puzzles', 'Shizuku', 'checked', \"'Prince\", 'Seiji', 'writing,', 'Lane.', 'Bison,', 'Ryu,', 'Masters,', 'Ryu', 'Chun', 'Shatner', 'Symphony', 'effected', 'juggling', 'snowman', 'Lauri', 'looses', 'closed.', 'Carson,', 'tentative', 'Friday,', 'sacrificed.', \"one'\", 'matrimonial', 'Belfast.', 'Hamill.', 'stricken', 'socialism', 'Teaming', 'many.', 'flurry', 'recriminations.', 'mirror,', 'ruffian', 'Solomon', 'Ohio,', 'tornado', 'bats,', 'dollars.', 'Pride', 'Kiara', 'heart?', 'Hanks,', 'Entertainment', 'HBO', 'speech,', '\"One', 'manufactured', 'achievements', 'Beowulf', 'Narrowly', '(Marco', 'hangman', 'Kane.', 'facto', 'subject,', 'blood!', 'Stupid', 'Segura', 'Torrente', 'funniest', 'deathbed', 'Placide', 'cautiously', 'shoot,', 'attributed', 'Sofie', 'occasions', 'philosophy,', 'ages,', 'conceiving', '(Written', 'Anders', ')', 'incorporates', 'phone,', 'speaking,', 'losses', 'America”', '(Bradley', 'Family', 'Grandpa', 'Grandma', 'privacy,', 'routes', 'Taiwan', 'leaking', 'supply,', 'pokes', 'Liza', 'porn,', \"Yuki's\", 'brutalize', 'Yuki', 'Antti', 'Jussi', 'challenges.', 'Copenhagen.', 'ignited', 'ideology', 'biographer,', 'descendent,', 'engulf', 'kindness.', 'threatening.', 'Joker', 'NERV', 'Asuka', 'Shinji', 'solitude.', 'Anjali', 'Rahul,', \"Tina's\", 'uniting', 'Rahul', 'massage', 'Angèle', 'sixty', 'preying', 'modus', 'emerges:', 'virgins.', 'Biehn),', 'masquerading', 'matter,', 'Style', 'graffiti', 'Hamburg', 'voices.', 'crowned,', 'Burgundy,', 'heretic', 'Drawn', 'rains.', 'inn.', 'Ihei', 'honesty', 'graces', 'long.', 'fencing', 'gratefully', 'Prophecy', 'Gabriel.', 'forester', 'anyway', 'filming,', 'entry-level', 'spouse', 'filmstar,', 'Abby,', 'stroke.', 'speak.', 'Kingdoms', 'coronation', 'Wendel,', 'Tenth', '(modern', 'Pursued', 'trolls,', 'Happily', 'vigil', 'Rainer', 'Fassbinder,', 'auf', '50-year-old', 'Léopold', 'Franz,', 'Aboriginal', 'shut,', 'Bent', 'syndicates.', 'Claudia.', 'inches', 'left.', 'Claudia,', 'ex-cop,', 'parapsychology', 'Sugimi', 'Matsu', 'stab', 'Headquarters', 'theft,', 'Scorpion,', 'Granted', 'Ari,', 'paramedic,', 'chronic', 'brazen', 'Tiina', '(Laura', 'Ilona,', 'nuptials.', 'Clown', 'Shanghai.', 'Zhou', 'Xun', 'Jia', 'Devdas', 'Paro', 'widower.', 'grubby', 'habitats.', 'Revelations', 'Lost,', 'Vlad', 'traditions,', 'Utena', 'Ohtori', 'duels.', 'Zimmer', 'Mists', 'wielded', 'Prague,', 'washing', 'Orthodox', 'Raichand,', 'Anjali,', 'incurs', 'argue', 'Raichand', 'permit', 'frost.', 'bitterly', 'square,', 'outcome', 'carcass', 'dumb,', 'foreigners,', 'crocodiles.', 'Druid', 'Getafix', 'Egypt.', 'counted', \"series'\", 'four.', 'Morgendorffer', 'kisses', \"Daria's\", 'Vincent,', 'unwavering', 'Yankees.', 'universally', 'tunnel.', 'Laramie', 'Laramie,', 'York-based', 'transcripts', 'uncanny', 'DMZ', 'Korea,', 'bullets.', 'overseeing', 'tragic.', 'falls,', 'Veneto', 'recreation', 'Lead', 'SS-General', 'exterminated', 'Roro', 'traditions.', 'are...', 'João', 'judged', 'Virgin', 'Carrère,', '(Auteuil)', 'Laurent', 'Palme', \"d'Or\", 'Saya', 'Makiho', 'demon.', 'U.S', 'Sacred', 'Mountains,', 'jolted', 'fists.', 'Elsewhere', 'Taipei.', 'pave', 'fungus', 'G', 'shadows', 'images.', '500', 'Argonne', '1918', 'Battalion', 'WWI.', '308th', 'Battalion,', 'Division,', 'Totally', 'bravely', 'deprivations', 'expendable', 'casualties.', 'sheep,', 'Alessandro', 'Quaid,', 'uncredited', 'Daphne.', '2003,', 'distributor', 'direct-to-video', '2005.', 'days:', 'Cultural', 'Kyun-woo', 'assisting', 'foot.', 'Ashby', 'Wake', '(Kerry', 'ambulance.', 'scratches', 'Eun-jin', 'Hewlett),', 'contempt.', 'mortician', '\"real', 'administered', 'urges.', \"mayor's\", 'House\"', '10,000', 'fragility', 'gracefully', 'underage', 'Placid', 'horror,', 'kidney', 'Park,', 'insecure', 'Máiquel', 'platinum', 'supplying', 'Taunted', 'Suel', 'purchasing', \"Suel's\", \"Máiquel's\", 'Simultaneously', 'anticipating', '54', 'suicides', 'Johan', 'Timon', 'Pumbaa', 'savanna.', 'Belgian', 'integrate', 'norms', \"president's\", 'CNN', 'journalistic', 'ethics', 'Guild', 'Award-winning', '1990,', 'Wiener', 'Formanek', 'Up', 'Weiner', 'cause,', 'notice.', 'Baghdad', 'target,', 'Oasis', 'work?', 'SO', 'bohemians', 'flourished', 'buildings.', 'microcosm', 'barkeeper', 'disregard', '36', 'strange.', 'Wall.', 'Tessa', '3.5', 'readers', '(Maggie', 'travelling,', 'General,', 'Werner,', 'Janne', 'tearing', 'Paolo,', 'Valentina,', 'figured', 'Valentina', 'transgendered', 'Velvet', 'newer', 'sensations.', 'Pole.', 'accurate', 'anime', 'machines.', 'Formula', 'racing.', 'Benoit', 'Rings', 'usher', 'paving', 'catastrophe.', 'geek', 'Stockholm,', 'academically', 'Balkans.', 'target:', 'cleansing', 'Nanahara', '8000', 'electronically', \"warden's\", 'relative,', 'alarming,', 'Olaf', '(Jim', 'imposter', 'M,', 'assassinations', 'occur,', 'Bukowski,', 'Bukowski’s', 'grainy', 'brawling', '1919,', 'Manech', 'know.', 'intuition', 'self-inflicted', 'wounds.', 'frightened.', 'Mamoru', 'Batou', 'bending', 'Naina', 'Aman,', 'Aman', 'reciprocating', 'proposal', 'Cats', 'Bosnia.', 'Knight,', 'Pilar', 'sunshine,', '\"She', 'Tomasz', 'Janusz', 'Short', '75th', 'thoughts.', 'Seibei', 'unravels,', 'loves?', 'powerful.', 'Downs', 'tailing', 'specter', 'overdose', 'bay', \"Jerusalem's\", 'Lot', 'Gunnar', 'people:', 'Per', 'civilisation,', 'cellular', 'phones', 'tested.', 'mentioning', 'paranoia,', 'accusations', 'offer:', 'ticks,', 'Faber', 'appointment', 'appointment,', 'stale', 'thickens', 'adversary', 'menace.', 'foresee', 'Winnipeg,', 'globe.', 'succumbing', 'binoculars.', 'nearer,', 'something,', 'fishy', 'Kyôko', 'Kayako', 'Daft', 'animators', 'triads', 'Ramón', '30-year', 'dignity.', 'perfectly.', 'Flor', 'inspiration.', 'Mongolian', 'nomadic', 'camel', 'colt', 'Nations', 'divers', 'There’s', 'what’s', 'wildfire.', 'crafted', 'Infernal', 'original.', 'Vincke', 'Verstuyft', 'Antwerp', 'Ledda', \"Alzheimer's,\", 'counting', 'straight-forward', 'heat,', 'skin...', 'copilot', 'Beijing,', 'dust', 'bully,', 'Samara', 'pink', 'envelops', 'economic,', 'cracks', 'Bible', 'John.', 'Chile', 'proletarian', 'Gonzalo', 'paradoxically', 'protesting', \"Pinochet's\", 'supporters', 'organizational', 'dominant', 'Rei', 'rack', 'pauses', 'unclear', 'revelatory', 'prankster', 'conferences', 'Punjabi', 'schoolteacher.', 'awards,', 'warlords.', 'prize-winning', 'Celia', 'cynicism', 'persecuted', 'join,', 'males', 'describe', '1950,', 'Jin-tae', 'Jin-seok', 'braver', 'Anger', 'Crips', 'term,', 'Prize', 'appeal,', 'injection.', '50th', 'Zana', 'Briski', 'photography', 'Jonestown', 'Dandy', 'founders,', 'escalated', 'garnered', 'imploded', 'Eighteen', 'scratched', 'impart', 'epiphany', 'inserted', 'Pregnant', 'teeters', 'attempts.', 'phenomenon,', 'Joey.', 'Fifty', 'merged', 'diseases.', \"Azuma's\", 'hardships,', 'spawned', 'Kyungjin', 'Myungwoo', 'forever...', 'empires,', \"Murdoch's\", 'broad', 'swath', 'Media', 'experts,', 'livelihoods.', 'Theater,', 'standup', 'sorry', 'jealousy,', 'estrangement', 'cohort', 'GIs', 'Siegfried', 'withdraw', 'killed;', 'disgrace,', 'Hirsch,', 'Minami', 'Brother.', 'ambiance', 'unusual.', 'approximately', 'ninety', 'subplots', 'projectionist,', 'theater,', 'seconds.', 'dialogue.', 'Rwanda', 'genocide', 'unnoticed', 'intrusion', 'husband...', 'assailant.', 'house’s', 'sins,', 'Isabella', 'maker.', 'other...', 'fixing', 'repairs', 'incisive', 'roles.', 'entertainer,', 'paedophile', 'publication', 'Dina', 'climes', 'matched', 'ambitions,', 'creditor', 'Hsiao', 'Kang', 'Ah', 'hero-worship', 'attendants', 'beneficiaries', 'Ichiko', 'calling,', \"'ordinary'\", 'Dumb', 'Donald,', 'Doris,', 'Realms', 'page', 'Girls,', 'Known', 'Child', 'Rebellion.', 'repercussions.', 'bottom,', 'baron,', 'ants.', '\"Where', 'Have', 'suburbs.', 'Friend', 'Rutledge', 'personalities.', 'streak', 'arms.', 'booming', 'Seas,', 'affable', 'teeming', 'Shozo', 'Hirono', 'convent.', 'brothel,', 'liberated', 'anarchist', 'structure.', 'swimmer,', 'hillbilly', 'Attempting', '44', 'names.', 'obsessions,', 'Avatar', 'scroll', 'bearer', '(south', 'Italy).', 'elect', 'Brancaleone', 'Mardi', 'bellhop', 'Wellman', 'persons,', 'proclaimed', 'Charm', '“the', 'Milky', 'Catholicism', 'pilgrims', 'Spain’s', 'heresy,', 'fanaticism,', 'hotly', 'debated', 'skeptic.', 'på', 'Lindgren', 'Annika', 'ex-boyfriend.', 'Elektra', 'illusions', 'zebra', 'sorely', \"winner's\", 'undefeated', 'thawing', 'silent.', 'Flanagan', 'Marsh', 'Wee', 'legit', 'high-rise', 'mindless,', 'Kristofferson,', 'well...', 'Romance', 'millionairess', 'Vincenzo,', 'boxing,', 'Nadia,', 'Roth', 'contests', 'someday', '$25,000', 'genital', 'mutilation,', 'life\"', 'whispers', 'Salford,', 'stingy', 'Public', \"Barbara's\", 'Tobi', 'confused.', 'begin,', 'advisers', 'Lukas,', 'Suzanne,', \"Suzanne's\", 'Oregon.', 'unexplainable', 'phenomena.', 'delve', 'faced.', \"'Charlie'\", 'realisation', 'imagination.', 'Boogeyman', 'devoured', 'real?', 'approaching,', 'Ellis', 'Rory', 'Fukushima', 'luggage,', 'Kyoko,', 'Shigeru', 'siblings.', 'Columbia.', 'grinds', 'Whitechapel', 'stately', 'unraveled', '1917,', \"O'Rourke.\", 'Merrick,', 'Store.', 'mete', 'Cheshire', 'hot-tempered', 'Marriage', 'Braun', 'Petra', 'Karin,', '23-year-old', 'Beau', 'Sahara.', 'Geste', 'Troy', 'bartender,', 'Saints.', 'jailbreak.', 'cellmates', 'completion.', 'flames.', 'comments', \"brothers'\", 'wheelchair.', '1898.', 'Manda', 'demanded', 'Diaz', 'honour,', '1909,', '2009,', 'restoration', 'mid-19th', 'disarray.', 'Taiwan,', 'charming.', 'Bu', 'Wu.', 'Allegra', 'proven', 'seeking.', 'surpass', 'created,', 'hysterical', 'Balraj', 'circumstance', 'Constantine', 'Avery,', 'Loki.', 'three,', 'Saddam', 'comedian/actor', 'Pauly', 'everything:', 'loft,', 'worked.', \"County's\", 'tout', 'fortuitous', 'truce', 'Others', 'stronger.', 'medicinal', 'bruised', 'no-strings', 'Sharp', 'Samson', 'Canton,', '1940s,', 'Axe', 'masters', 'Stillwell', 'Evan', 'Rendell', 'Concerned', 'use,', 'Sigmund', 'Freud.', 'Freud', 'subconscious,', 'Deveraux.', 'quarrels', 'duel.', 'juggle', 'bogus', 'Prussian', 'duchess.', 'Wave', 'girl).', 'Stanton,', '(Alice', 'Eric.', 'Karswell.', 'Akbar', 'Gilles', 'see,', 'party;', 'Bed', 'Board', 'Edmund', 'legion', 'sacrifices.', 'crows', 'Santet', \"mobster's\", 'dogged', 'sizeable', 'Issues', 'morality,', 'explored.', 'Madea,', 'lip', 'Madea', 'Wolfe', 'Plummer', 'Disenchanted', 'Mossad', 'ex-Nazi', 'guide,', 'values.', 'wracked', 'Ratchet', 'wagons', 'inherit.', 'expectant', 'Annabelle,', 'unstable.', 'Godzilla,', 'Jürgen', 'retitled', 'smitten.', \"Paulot's\", 'Paulot', 'Juliet\"', 'Seems', \"Brazil's\", 'northeast,', 'Portuguese', 'deem', 'ban.', '(6', 'begrudgingly', \"Stone's\", 'commissions', 'Twentieth', 'Limited,', 'riding,', 'accomplishing', 'feat', '\"Monster', 'Postman', 'Always', 'Moreau', 'Piccolo', \"Tokyo's\", 'bureau', 'ties,', 'undertakes', 'reptilian', 'Byeong-gu', 'slimy,', 'theories,', 'thinking.', 'Interpol,', 'Vares,', 'Finland,', 'PULP', 'splattered', 'Knife', 'dining', 'Melinda', ';', 'Stan,', 'abducted.', 'skepticism', 'all-important', 'introduction.', 'villainess', 'Shooting', 'edgy', 'Renoir’s', 'Bengal', 'unfold.', 'appreciation', 'exit', \"Stephen's\", 'concerned.', 'advantages,', 'slums,', 'Blackie', 'epidemic,', 'justify', 'given.', 'analyzing', 'Green,', 'humdrum', 'muse.', 'sharecroppers', 'Billboard', 'dam', 'geologists', 'toolbox,', 'sociopath', 'Julián', 'stuntman', 'cowboys.', 'remnant', \"Julián's\", 'how.', 'vacationers', 'edible', 'repairing', 'yacht.', 'unfriendly', 'wickedly', 'choreographer', 'heartbreaking,', 'Raccoons', 'rapid', 'Rudi,', 'tequila', 'find,', 'convertible.', 'offbeat,', 'peeping', 'Ramones', 'peaks', 'valleys', 'seminal', 'disbanding', 'Mixing', 'R', 'companionship.', 'Machin', 'mean,', 'dynasty', 'Nicaragua', 'Ti,', 'crevice', 'Ting', 'Yu,', 'Yi', '49', 'swords', 'countess,', 'owner’s', 'debts;', '\"Speedy\"', 'horse-drawn', 'Cannon', 'thought-provoking', 'Katsuhiro', 'episode,', 'Ghidorah', 'Harvie', \"Tourette's\", 'Syndrome,', 'nudity', 'meaning.', 'environmentalist', 'shampoo,', 'shipwrecks', 'Lindsey', 'downhill', 'hermit.', 'Mussolini', 'tenement', 'Few', 'shakes', 'told,', \"Lambert's\", 'informer', 'Keller,', 'Foul', 'clinging', 'unearthing', 'screen,', 'densely', 'voices,', 'instigates', 'interests.', 'Armies', 'Year.', 'occurrence,', 'Antwerp.', 'Panzer', 'Rynn', 'Jacobs', 'Whenever', 'inquires', 'politely', 'Trilogy', 'potions,', 'lovemaking', 'exquisitely', 'offshore', 'Edipo', 'Horrified,', '0', 'Abner', 'Hanka', 'Macedonia', 'UFOs', 'Ondrej,', 'factories', 'Ugo', \"Giuliana's\", 'deteriorates.', 'harsh,', 'hibernation', 'Argentine', 'preferential', 'daydreams', 'Waterloo', 'recovered.', 'remarried,', 'Navy,', 'mailman', 'converse', 'inhabitants,', 'postal', 'boy’s', 'war-ravaged', 'Trip', 'Méliès', '1902', 'resurfaces,', 'Marta,', 'sock', 'Montevideo,', 'partisans', 'abusive,', 'Luciana,', 'billboard', 'crusader', 'independence,', 'predators.', 'struggle,', 'modify', 'tornadoes', 'category', 'dotes', 'remodeling', 'Natalie,', 'manner,', 'Nicola,', 'cigarette,', 'unhappy.', 'Gagin', 'premonitions', 'carousel', 'Nakamura),', 'Koharu', 'flaunts', 'Suicide', 'darkened', 'citizens,', 'stigma', 'penning', 'edition', 'Ulrik', 'incumbent', 'patient.', 'Schweiger', '\"Barfuss\"', 'Punchy,', 'tone,', 'Hsu', 'Clem,', 'seventeenth', 'scourge', 'informer.', '\"flower', 'Twelfth', 'Chan,', 'pact.', 'Kong:', 'patch.', 'Toto,', 'Toto', 'Milan.', 'objections,', 'hazing,', 'thirteen,', 'loving,', 'gold-digging', '1950', 'practices,', 'Willem', 'royalty,', 'exhibit.', 'paths,', \"Jonathan's\", 'girl:', 'Bunny.', 'Jubal', 'weakened', 'Pinky,', 'sheep.', 'Zatoichi', 'farming.', 'principles,', 'traits.', 'expresses', 'Lulu', 'Bennett.', 'dislocated', 'rains', 'prefecture,', 'Yoshiko', 'arrived,', \"Yoshiko's\", 'Sachiko', 'supernatural,', 'pressuring', 'question.', 'Wehrmacht', '\"blood', 'ideology,', '1960,', 'Aboard', 'heartland', 'appreciative', 'Masaru', 'place...', 'Freudian', 'Barcelona,', '1913,', '(Gigi', \"Dick's\", 'Clarabelle,', 'MI5,', 'confirm', 'abandoned.', 'Martín', 'much-younger', 'tomato', 'dimwitted', 'Huey,', 'professionally', 'Yeo-jin', 'Jae-yeong', 'caught,', 'Wars,', 'galaxy,', 'decimated,', '10-year', 'forever,', 'Unit.', 'rollercoaster', 'support.', 'modernity', 'agreeing', 'dollars,', 'forgive', 'soars', 'vast,', \"night's\", 'counterpoint', 'diminishes', 'rebuilding', 'Zoo', 'man-made', 'habitats', 'zoo,', 'hippo,', 'giraffe', 'red-handed', 'Jindabyne,', 'strides', 'blade.', 'was:', 'Wiley', 'improve.', 'sinister?', 'Pro', 'Scarboro', 'traditionalist', 'originated', 'Chez', 'shortcut', 'hanging.', 'grateful', \"Louis'\", 'coolly', 'organisations.', \"Alexia's\", 'disclose', 'Norton,', 'meaning,', 'coming.', 'time;', 'scrambling', 'formulates', 'Andrea,', 'Gone', 'Wilde.', 'Manning', 'mortally', 'discharge', 'Salvador,', 'roses', 'cells.', 'Executive', 'Vinicius', 'laying', 'Christians.', 'temple,', 'Elias,', 'Elias', 'storyline', 'Ismaël', 'digestive', 'admirer', 'self-esteem.', 'pampered', 'Ontario', '(Adam', 'i.e.,', 'runner,', 'Scott),', 'Peyton,', 'bug', 'paces', 'barricaded', 'styles,', 'July,', 'her)', 'plaything', 'dumplings', 'regenerative', 'Searching', 'connected.', 'wife’s', 'occuring', '2005', 'B-Movie', 'budget.', 'Ulzana', 'McIntosh,', 'Arvid', 'r', 'hardboiled', 'Bride,', 'confuse', 'moved.', 'Sutherland', 'eye,', 'continuous', 'circus,', 'Modigliani,', 'disoriented.', 'tame', 'whom?', 'penguins', 'file', 'coldest', 'humour', 'Breathtaking', 'guarding', 'chicks', 'exist?', 'Christianity', 'thug,', \"Pops'\", 'leaps', 'Sidney,', 'meltdown.', 'proceedings', 'drip', 'exchange.', 'body;', 'super-strong', 'Normally,', 'heartache', 'intertwining', 'Mason,', '(Rose', 'Martine', 'partisan', 'Choi', 'meal,', 'grudges,', 'audiences,', 'MPAA', 'bio-mechanical', 'reassemble', 'Tonight,', 'World)', 'Lemmy', 'Image', 'Appaloosa', '2008', 'Martel', 'propelled', 'reportedly', 'uncontaminated', 'Buttermaker', 'team-building', 'Corpses', 'barrage', 'seeping', 'Cobain', 'Alfredo', 'alert.', 'limits,', 'laughter.', 'what,', 'very,', 'Georgy', 'sloppy', 'puppy.', 'Tchaikovsky', 'Mackaroni', 'condom.', 'birthplace', 'Ji-won', 'Ji-Won', 'sect.', 'zealots', 'Officer,', 'Gabbar', 'Singh', 'informing', 'Jung-won', 'Barely', 'gestures', 'Traffic', 'Darbar', 'Sameer', '(Salman', 'Khan),', 'Nandini', '(Ajay', 'religiously', 'Jang', 'Yoon', 'Ji-oh', 'Lim,', 'Oh,', 'prohibits', 'compares', 'discloses', 'Agents', 'Cousins,', 'Hazzard', 'Boss', 'orange', 'Charger', 'Roscoe', 'sister-in-law,', \"Amsterdam's\", 'incites', \"Herzog's\", 'thirteen', 'bears.', 'G8', 'Summit', 'obligations.', 'captor', 'Postmaster', 'Osh', 'damn', 'RV', 'cultists', 'carnies', 'Gugino)', 'Islands,', 'Hun,', 'strategist', 'passions,', 'Commissaire', 'Simon,', 'Paranoid', 'packages', '27-year-old', 'jock', 'dreams!', 'cheetah', 'pretty,', 'Diana,', 'autobiography.', '40,', 'sex-obsessed', 'renovations', 'Dallas,', 'Lux', 'facilitate', 'Worth', 'Beasley', 'outlaw.', 'shack,', \"general's\", 'militant,', 'half-brother.', 'carefree,', 'Simran', 'Baldev', 'NRI', 'saga.', 'videotapes', 'porch.', 'B.C.,', 'concocted', 'carve', 'Channel,', 'Tara,', 'Jun', 'mainland', 'Championships', 'wood', 'pigeon', 'Brigade.', 'Grimm,', 'Loved', 'Romania', 'a.m.', 'quietly,', 'why,', 'vanishes.', 'ghost,', 'Robert’s', 'proportions,', 'Yuri', 'Venom', 'sizzling', 'Meagan', 'liar', 'Ukrainian', 'razed', 'Justin,', '(Vinessa', 'Griffin,', 'Stewie', 'ninjas,', 'importing', 'Rwandan', 'super-cop', '(Jackie', 'Chan)', \"Man's\", 'resolving', 'feud.', 'saloon,', 'deed,', 'polemic', 'Yolaf', 'Xantos,', 'thaw.', 'unfulfilling', 'Cheng', 'Holding', 'inebriated', 'Response', 'Tactical', 'Squad,', 'DNA,', 'wait,', 'steak', 'majority', 'population,', 'rebellion,', 'heartbroken,', 'Bradley.', 'blames', 'desperate,', 'known.', 'resurface,', 'dead;', 'hypnotist', 'Bissonette', 'grove.', 'worthless,', 'stop-motion', 'bereft', 'Dunham,', 'self-defense', 'bestseller,', 'Capote', 'non-fiction', 'surveillance.', 'ruins,', 'Wikipedia,', 'Bow', 'Jonathan,', 'Description', 'Wikipedia', 'licensed', 'CC-BY-SA,', 'contributors', 'Wikipedia.', 'Jared', 'shark-infested', 'short-lived,', 'slogans', 'kingdoms,', 'solitaire,', 'Campanela', 'Shuji', 'penetrate', 'Yuko', 'Münchhausen', 'ageless', 'previously.', 'hour,', 'recounting', 'Gods', 'Argonauts', 'day…', 'revenge…', 'pup', 'ridding', 'staircase', 'stairs,', 'errand', 'mandate', 'chef.', 'Mei', 'rejuvenation,', 'Tomek', 'Magda', 'Praslin,', 'dismissed', 'grow,', \"warrior's\", 'secondary', 'discern', 'vampire-like', 'folk.', 'Matteo', 'Lafayette', 'delays', 'encourage', 'United.', 'Freshman', 'folds', 'motorized', \"Jamie's\", 'way...', 'interfere', 'distractions', '52', 'Spence', 'drowns', 'disgust', 'McLaren', 'Howard)', '(Toni', '1943:', 'Signe', \"teenager's\", 'factions,', 'tacit', 'Breakfast', 'B&amp;B.', 'Veil', 'alibi,', 'Problems', 'prisons', 'slim.', \"1980's.\", 'consultant', 'high-rolling', 'Pirk', 'stranded.', 'stuffing', 'future...', 'Brokeback', 'Jenson', 'filed', 'anti-communist', 'witch-hunts', 'deserves', 'shoplifter.', 'aboard.', 'Mirabelle', 'gloves', 'empower', 'Deacon', 'Psychiatrist', 'aristocrat.', \"county's\", 'debates', \"Jigsaw's\", 'apprehends', 'Jigsaw', 'painter,', 'thirty-five', 'endorse', 'too:', 'Italia,', 'summer-camp', 'major.', 'own:', 'Luka', 'slashed', 'immigrants,', 'Jean-Louis', 'Augusto', 'Manderlay.', 'travails', 'Doinel', 'proofreader,', 'Colette,', 'delivery.', 'Achmed', 'Rarely', 'Guitar', 'Desperately', 'Chicken', 'ironworker', 'redheaded', 'sections', 'front-line', 'shackles', 'populace,', 'Luckily', 'Fara', 'nineties.', 'Met', 'Swan.', 'swordplay', 'Hideo', 'womanizer.', 'facilitating', 'royalty.', 'Helsinki,', 'unspoiled', 'districts', 'proportions', 'entirety', 'wry', 'Paris:', 'Rodolfo,', 'noise.', 'marriages.', 'den', 'fresh-faced', 'backpackers', 'archipelago.', 'lookalike', 'hallucinating', 'falling,', 'picture,', 'Hogwarts,', 'Tournament', 'Voldemort', 'lurks,', 'Village,', 'numb', 'HIV/AIDS,', 'seizures,', 'astronaut,', 'compels', 'Zac', 'importantly,', 'Silverman', 'sketches,', 'taped', 'punctuate', 'Saul', 'foundling', 'probable', 'Guard.', 'chaos,', 'drank', 'posthumous', 'acclaim', '(Tony', 'foreseen', 'divorcee', \"Italy's\", 'Fan', 'walker', 'Maya,', 'again;', 'livelihood.', 'Shin', 'couple?', 'hounded', 'outraged', 'preserved', 'Zoltan', 'induce', 'expectations,', 'warmly', 'Driver', 'Driver.', 'mislead', 'Point', 'palms', 'sweat', 'pilgrimage.', 'waters...', 'Edmund,', 'Witch,', 'Narnia', 'spectacular,', \"Witch's\", 'geisha', 'conservative,', 'promise,', 'armor', 'superficial', 'suburbia', 'Hindi', 'projected', 'undertaken', 'Eisenstein', 'Stalin.', 'filmed,', 'evident', 'Terrible', 'elevators', 'Newman', '(Naomi', 'Watts)', 'investigations.', 'elevator,', 'drugstore', 'Wright,', 'Julian,', 'acclimated', 'life-changing', 'Scudder', 'savants', \"Asperger's\", 'autism,', 'piques', 'red-light', 'Jin-a', 'continuity', 'colonization,', 'Bomber', 'Crew', 'South.', \"Estrada's\", 'practices.', 'sings.', 'Erik,', 'infused', 'hipster', 'Aura', 'epilepsy', 'Munich,', 'sedate', 'Globodyne', 'Pressured', 'unthinkable,', 'con,', 'regardless', 'impervious', 'charms.', 'purchases', 'review,', 'copied', 'Shanghai,', 'Betrayed', 'prophecy,', 'screens', 'barn,', 'Stalinist', 'confession.', 'Terrace', 'stubborn,', 'DJs', 'Luxo', 'Kishanlal', 'who.', 'broods', 'twenty-seven', 'Noriko', 'Somiya', 'Shukichi', 'Masa', 'Aya', 'sooner,', 'stench', 'holocaust', 'parkour', 'Comes', 'Missie', 'elementary', 'prairie', 'shes', 'long-distance', 'cook.', 'recipes', 'detonated', 'reflected', 'Gianni,', '13-year', 'Elvis,', 'tripped', 'morphine', 'Neonazi', 'Quiller', \"1970's\", '(twice),', 'ghettos', '2010,', 'Rayne,', 'dhampir', 'Vladimir,', 'Slovakian', '35,', 'tester', 'evenings', 'Xbox', 'spells', 'Lycans', 'hybrid,', 'countries,', 'Islam', 'laugh.', 'Casper', 'Ghost', 'uncles.', 'bridging', 'trucking', 'swindling', 'befalls', 'sorcerer.', 'funerals,', \"Ivan's\", 'daughter-in-law,', 'Vercel', 'fingerprints', \"Massoulier's\", \"Julien's\", 'Becker', 'ratted', 'swampy', 'chap', 'traumatized.', 'Cars,', 'Dillon', 'Budapest,', 'Díaz', 'Silverstein', 'stew', 'Patagonia,', 'He,', 'blessed', 'Wada', 'liberty', 'Shen,', 'Freya', 'widows,', 'restrictions', 'Williams.', 'anti-Nazi', 'expertly', 'medals,', 'emerged', 'vulgarity.', 'Bonneville', 'Salt', 'triad', 'torrent', 'afternoons,', 'Chloe,', 'Brilliant,', 'quietly.', 'tenaciously', 'Stubborn', 'ranks.', 'hacked', 'Widower', '(Colin', 'McPhee', '(Thomas', 'Stitch', 'Celtic', 'leveled', 'mistresses', 'Pilot', 'trained,', 'few,', 'McQueen,', 'Letty', 'Luce', 'Luce.', 'Heck', 'laughs,', 'copper', 'pertaining', 'Cthulhu', 'recruits,', \"'80s,\", 'non-stop,', 'creator,', 'cemented', 'fraud.', 'aptitude', 'nominally', 'voit', 'sa', \"qu'il\", 'oublié', '2004', 'diaries', 'feeling.', 'illogical', 'illustrator,', 'Eiko', 'asleep,', 'peers,', 'laden', 'loft', 'protest.', '(Campbell),', \"Perry's\", \"Madea's\", 'matriarch', 'runaway,', 'Vanessa,', 'candy-loving', 'modified', 'acute', 'swapped', 'channels', 'co-eds', '3D,', 'IMAX®', 'Deep,', 'IMAX', 'unique,', 'gauntlet', 'Serena', 'anorexic', 'beheaded', 'Tripp,', 'atmosphere.', 'melt,', 'Gennosuke', 'villages,', 'dictated', 'villages.', 'irritable,', 'fairy,', 'sunset.', 'Hanna,', 'Israeli.', 'Ryan.', \"Stewart's\", 'relinquish', 'American.', 'blue-eyed', \"'V'\", 'jam.', 'spokesperson', 'lobbyist', 'Naylor', 'Bliss', 'Holloway', 'disclosing', 'Frazier', \"'fixer'\", 'Tsotsi,', 'mermaids', 'ashore.', 'mermaid,', 'tattoo', \"Leprechaun's\", 'lair.', 'Leprechaun.', 'neck.', 'trickster,', 'P,', \"mogul's\", \"Daddy's\", 'Daddy', 'Paola', '(Lucia', 'Enrico', 'ironically', 'Guido,', 'adversity,', 'emotion.', 'frustration.', '“an', 'God’s', 'representative,', 'sack,', 'rounds.', 'outline', 'astounding', 'terrifyingly', 'Surete', 'eighth', 'Stasi', 'Volga,', 'Ko', 'Lau,', 'Fu,', \"Canada's\", 'igloo', 'unforgiving,', 'North,', 'outsiders.', 'Tell', 'Muc', 'Asa', 'Barker,', \"prostitute's\", 'Lacemaker', 'Huppert', 'Normandy.', '2006', 'manic-depressive', 'reconstruction', 'trial),', 'imprisonment,', 'Silvio', 'Slevin', 'city’s', 'watch,', 'Sole', '(Carmen', \"Irene's\", 'materializes', 'Akeelah', \"Anderson's\", 'principal,', 'Spelling', 'looms,', 'insecurities', 'numbers,', 'gorilla.', 'Neto', 'absurd,', 'videogame', 'noblewoman,', 'gamers', 'temptation,', 'one-by-one', 'Tramell', '9-year', 'Nangijala,', 'Blossom', 'World,', 'Cat.', 'Vixen', 'jarringly', 'rates', 'floors', 'espionage,', 'unnatural', 'initiating', 'indiscriminate', 'Oldman', 'Lynch,', 'explosively', 'Fish', 'Reefer', 'planned,', 'suggestive', 'imagery,', 'skid', 'prowling', 'ventriloquist', 'dummy', 'gravitates', 'oblivion,', 'self-destruction,', \"insider's\", 'lens', 'fireman', 'inclusion', 'personally', 'collaborators', '14-year', '32-year', 'Mao,', 'premise', 'passions.', 'care,', 'been.', 'smothered', 'Marcos', '\"American', 'Canal', 'family-run', 'Nord', 'lunch,', 'arrive,', \"Pierre's\", 'pleased.', 'accomplice.', 'Raymonde', 'reappears.', 'invests', 'computers.', 'Northampton,', 'Sons', 'Shoes', 'Lola.', 'complaints', 'footwear', 'Lauren,', 'discomfort', 'Madvig', 'associating', 'arm,', 'Observer', 'Kham', 'elephants', 'efficient', 'mobsters.', 'Siegfried,', 'Worms,', 'Kriemhild.', 'Gunther', 'Brunhild', 'cursing', \"Siegfried's\", 'Hagen,', 'Hagen', 'recreational', 'Rockies,', '9/11', 'Shanksville,', 'Haley', 'gymnastics', \"Haley's\", 'sleeps,', 'glimmer', 'kilometers', 'representations', 'communicating', 'musicals', 'sequences.', 'Library', 'Tobe', 'dearest', 'raccoon', 'Louvre', \"museum's\", 'hallowed', 'mutations,', 'X-Men', 'mushroom', 'gymnast.', 'headlong', 'inhospitable', 'Radiator', 'Springs.', 'Piston', 'opt', 'Hernandez', 'Carlito', 'retribution.', 'indulge', 'balls', 'plump', 'She,', 'scrapes', 'son-in-law', 'ineptitude', 'Bettie', '2006.', '1991.', 'Yo', 'Wikipedia)', 'Seemingly', 'proliferation', 'unsatisfying', 'baker', 'motiveless', 'Pastor', 'Malerie,', '16-year', 'Gutierrez', 'competed', 'directed.', 'White.', 'resident,', 'architect.', 'rewind', 'Wears', 'Dupree', 'couch,', 'calamity', \"Randall's\", 'Apartment', 'Saunders', 'sleuthing', 'Be', 'unannounced', 'rooftop', 'release.', 'commercially', 'Blackwell', '1954.', 'Veronika.', 'higher,', 'warming', 'worldwide.', 'Devin', 'objective', 'undetectable', '(Zac', 'teamwork,', 'yourself.', 'rite,', 'sincerity', 'retraces', 'confessional', 'Deco', '(Lázaro', 'Ramos)', '(Wagner', 'Moura)', 'order.', '(Benjamin', 'thawed', 'Marked', 'stated', 'Huo', 'Yuan', 'U.K.', 'look-alike,', \"metal's\", 'Metal,', 'thrash', 'fringe', '5-year', 'acceptable', 'Muslims', 'Guantanamo', 'remark', 'Encounters', 'long-suppressed', 'frustrated.', 'rigs', 'Clifton', 'enclosed', 'Triton', 'dinner,', 'remains,', 'humorously', 'Raab', 'Leonidas', 'Soldiers', '250,000.', 'Baines', 'Tragedy', 'Bo,', 'urchins', 'talent?', 'Krishna', 'Priya', 'Singapore,', 'Siddhant', 'Arya', 'Siddharth', 'Jerri', '46', 'waters,', 'Springfield,', 'Todd,', 'phobia', 'supermodel,', \"singer's\", 'dramatized.', 'cell-phone', 'Gerbier', 'Ventura)', 'torturous', 'Marseilles,', 'Rehearsal', '(Italian:', 'Prova', 'conductor.', 'dwarf', 'Yoo', 'Shi-Eun', 'Min', 'Hyo-Shin.', 'marginalized', 'gender,', 'duties,', 'unlocking', 'highly-trained', 'ex-special', 'shadow.', 'Waodani', 'Ecuador.', 'missionaries,', 'Saint,', 'investigating,', 'delves', 'Monsters', 'you?', 'Euros', \"Kubrick's\", 'Wide', 'Kim.', 'Flynn,', 'visitors.', 'scoops', 'Lifelong', 'records,', 'Daley', 'curse,', 'Authority', 'wreckage', 'IRS', 'boring,', 'maturity', 'breadwinner', 'Nessie', 'assailants', 'expensive.', 'anthill', 'Convicted', 'Lazarescu', 'booze.', 'painkillers', 'Gheorghiu)', 'hospitals', 'austere', 'Paulina', 'Curry', 'homemaker', 'Starbuck', 'Chelios', 'Movie\"', 'Circle.', 'Peninsula', 'Nesib,', 'Hobeika,', 'Amar,', 'Salmaah.', 'Belt.', 'Nesib', 'Amar’s', 'Saleeh', 'Auda', 'Saleeh,', 'itches', 'gilded', 'infinite', 'possibility,', 'sand.', 'James)', 'computer-animated', \"Otis's\", 'pop,', 'ever-present,', 'remorse,', '2.', 'Gibbs', 'abroad.', 'Glue', 'hair.', 'magistrate,', \"Baltimore's\", 'unfulfilled', 'Maryland', 'out-of-shape', 'rag', 'jurisdiction', 'moustache', 'moustache.', 'awry?', 'won.', 'Heroic', 'colonel.', 'Ching', 'Wonder', 'daughter)', 'Jet', 'Ling,', 'racer.', 'terrible,', 'secret;', 'peers;', 'stellar', 'learning,', 'Harmon', 'satisfies', 'Jørgen,', 'Jørgen', 'illusionist', 'betrothed,', 'inspector.', 'scatter', 'ashes,', 'Percival', 'Majdal', 'Druze', 'Golan', 'Damascus,', 'Syria,', 'medium', 'séance', 'hauling', 'irate', 'balloon,', 'prospector.', '(Stan', '1938,', 'trenches', \"Josh's\", 'toilet.', 'indie', 'rocker,', 'Lazy', 'Rhett', 'Hundreds', 'Dot', 'forbid', 'chieftains', 'Conny', 'goodbyes', 'Garry', 'Buchenwald', 'György', '14,', 'camaraderie,', 'preserving', 'hatred.', 'find?', 'mood.', 'CinemaScope', 'Alfonso', 'Zachary', 'Corp.', 'exercise.', 'Romain,', 'stares', 'Revolves', 'Sherry', 'Swanson', \"Sherry's\", 'smartest', 'Evangelical', 'underway', '\"take', 'rites.', 'Attilio', 'Giovanni', 'Vittoria', 'injured.', 'hammer', 'shown.', 'Wagner', \"engineer's\", 'cost?', 'Dogs', 'more!', 'Takumi', \"Karen's\", '(Louise', 'Blanchard', 'Bleichert', 'Hero\"', 'Series.', 'routines,', 'repetitive', 'Buzzy', 'Prospect', 'Lisbon', 'postcard', 'abroad,', 'vagabond', 'metamorphosis', 'pervert', 'Arjun', '(Vivek', 'Lallan', '(Abhishek', 'Bachchan)', 'Kolkata', 'objectives', 'immigrate', 'goon', '(Om', 'Puri)', \"Meyer's\", 'Kill!', \"'Mondo\", 'compiled', '16th-century', 'Jackass', 'stunts,', 'Penn', 'Kazakh', 'Borat', 'zigzags', 'generates', 'Ofelia', 'faun', 'Temujin', 'Tartar', 'Genghis', 'Boog,', 'Grizzly', 'Turk', 'humanitarian', 'outwitting', 'commander-in-chief', 'Chrissie', 'vehicle.', 'Rider', 'Blunt', 'Cornwall', 'Oslo', 'Oslo.', 'imaginable,', 'tight-knit', '(Mark', '(Rebecca', '(Scott', 'glitch', 'Persia', 'thwarts', 'libertine,', 'someone,', 'molecular', 'genes', \"Bruno's\", 'masquerade', \"Tehran's\", 'Bahrain.', 'peephole', 'registered', 'offender,', 'ex-police', 'temptations.', 'Berg', 'pedophile', \"O'Grady\", 'Kovak', 'Garrigan', 'Here,', 'Dawson)', 'ex-model', '(Jay', '2027,', '23,', 'Gagnon', 'Ira', 'Hayes,', 'Iwo', 'Jima', 'Katy', 'mountainside', 'experimented', 'Siberia,', '1988,', 'trainees', 'Pinochet,', 'whipped', 'dalliances', 'lecture', 'geography', 'Afghani', 'Thousands', 'Finland.', 'Warrior', 'origin,', 'Kung', 'ubiquitous', 'Dito', 'Nagara', 'degenerate,', 'baffled', 'Lynn', 'apolitical', \"Bush's\", 'presidency,', 'door;', 'Stuck', 'Corto', 'spiked', 'Ankara', 'Vickers', '27th', 'Culture', 'Group.', 'praise', 'madhouse.', 'mother’s', 'blasphemous', 'Whitey.', 'scents', 'compel', 'anonymously', 'protagonist.', 'Station,', 'Morisaki', 'platform', 'shelf', 'exits', 'Picking', 'leaving.', 'Calcutta', 'holocaust.', 'deserted.', 'flabbergasted', 'Marge', 'magnet,', 'huddled', 'males,', 'vineyard', 'Shut', 'concerts.', 'Hiroshi', 'renewed', 'offends', 'lives?', '00', 'Vesper', 'sing.', 'ferry,', 'Carlin', 'decorates', 'brightly', 'stranded,', 'Christmastime', 'Law,', 'Aires', \"Duncan's\", 'citizen,', 'Gacy,', 'crawl', 'best-seller', 'Kinnear,', 'nearer', 'JB', 'foils', 'beauties,', 'Strangers', 'preyed', 'Tacey', 'Burgade', \"Provo's\", 'strap', 'sometime', 'down?', 'Nativity', 'researched', 'Taj', 'Mahal', 'Coolidge', 'ex-mercenary', 'bloodshed', 'nears,', 'Lok', 'Yam)', 'Koo)', 'grounded.', 'Meadows', 'hair-raising', 'Sherriff', 'Dam', 'docudrama', 'conception', 'Zombie', 'dirtiest,', 'funniest,', 'toys,', 'celebrities,', 'emperor,', 'Hastings', 'outfitted', 'faked', 'Intelligence.', 'cholera', 'Hokkaido', 'islands', 'authority.', 'Hokkaido,', 'middle-school', \"tower's\", 'Sayuri', 'Hiroki', 'centred', 'sake.', 'qualities', 'Effie', 'backup', 'Mélanie', 'Conservatory', 'admitted,', 'fuel.', '93', 'nineteen', 'Bin', 'fishing,', 'livestock', 'plate.', 'painters', 'doses', 'tolerance,', 'unflinching', 'Jorgos,', 'outsider.', \"actress's\", 'banishes', 'advances.', 'tortured,', 'gambler.', 'grammar', 'undergraduate', 'Cambridge.', 'scores,', 'chowing', 'Lomax', 'Damme)', 'funk', 'lending', 'complete,', 'Forty-year-old', 'streams', 'Somewhere', 'curtain,', 'GI', 'Hamptons', 'Sweet', 'Minnesota.', 'storybook', 'assailants.', 'historically', 'flats', 'tooth,', 'wise-beyond-her-years', 'relations.', '(almost', 'Mountains.', 'AD,', 'Dynasty', 'Rosario', 'Emilio,', 'Emilio', 'Camillo', 'Peppone', 'periodic', 'Po', 'Judo', 'strikingly', 'Marion.', 'Mazursky', 'knife,', 'intersect.', 'Athena,', 'Goddess', 'pierces', 'Oedipus', '$5', 'Copenhagen,', 'Kei', 'Kyoko', 'greek', 'Odessa', 'accordingly', 'consume', 'Aarons', 'softball', 'spread.', 'slaughterhouse.', 'dimension,', 'damned', 'titan', 'Oshare', \"aunt's\", 'lot),', 'social,', \"society's\", 'maxim', '21,', 'chapter,', 'announcements', 'prejudice.', 'authors,', '(Aaron', 'Eckhart)', 'doesnt', 'Nolte),', 'Apted', 'British-born', 'craziness', 'disbelieving', 'Milly,', 'Right.', 'early,', 'hones', 'IT', 'cranky', 'barons', '\"Cocaine', \"1940's,\", 'malnourished', \"captor's\", 'Izo', 'space-time', 'Demy', 'Anouk', 'Point,', 'Oblio,', 'Forest.', 'Sant,', 'most,', 'FAA', 'stalls', 'known,', 'jock,', 'Aztec', 'oppression,', 'faithful,', 'leering', 'bus.', 'obliged', 'Omocha', 'wasting', 'loser.', 'Mephistopheles', 'sadly', \"O'Neill,\", 'Hanssen', 'Julia,', 'compose', 'lyric', 'experienced.', 'God-fearing', 'dancing,', '\"Be', 'Edie', 'Margherita', 'Ukraine,', 'sneakers', 'cellar,', 'bottle,', 'properties.', 'Giuliano', 'courtyard.', 'all-american', 'grandpa', 'patriots,', \"surgeon's\", 'Karla', 'kidnap,', 'Sofia,', 'Sicily.', 'Lucy.', 'examinations', 'custom', 'Svensson', 'farmhand', 'white-haired', 'carving', 'bureaucracy,', 'now.', 'Glimpses', 'Cris', 'wiles', 'Breaking', 'GOD', 'adversities', 'opposition,', 'precedent', '90s,', 'Pleasant', 'adept', 'science,', 'hairy,', 'Tiber', 'river,', 'Zodiac', 'letters.', 'Radovan', '5:', 'poisoned.', 'intimidating', 'journal', 'dictatorship,', 'cheating.', 'Explorer', 'sweetheart,', 'Atlantis,', 'Harden', 'Lillie', 'obsessed,', 'democracy.', 'Brutus', '1985,', 'Essex', 'Gang-du', \"Gang-du's\", 'Hyun-seo', 'Nam-il,', 'instant,', 'riverbank', 'helplessly', 'render', 'Anatolian', 'pre-fame', 'Austen', 'freeways', 'Focuses', 'sailor.', 'unwillingness', 'unified', 'shogunate,', 'Sasuke', 'Masahiro', 'Tru', 'reference', 'Torrence.', 'Juvenile', '(Terrence', 'coaxed', 'Ultimately', 'fictionalised', 'explanation.', '17-year-old,', 'Bucharest', 'salary,', 'beggars', 'Ni', 'hand-to-mouth', 'Karrer', 'Police.', 'much-publicized', 'Newlyweds', 'debunking', 'shabby', 'preteen', 'adoption.', 'Brains,', 'Minor', 'takes.', 'Launched', 'snow-capped', 'Symphony.', 'trauma.', 'urgently', 'mercurial', 'necessity.', 'screening', 'customs.', '(English:', 'Tanguy', 'et', 'Laverdure,', 'Astérix', 'week-long', 'Naples.', 'nicknames', 'revelry,', 'foolish', 'sanctuary.', 'Painter', 'Kale', 'punching', 'Hunger', 'manual', 'Taken', 'Perez', 'competitions', 'nothing,', 'Vie', 'limelight', \"grandmother's\", 'Piaf', '1935', '(Gerard', 'icons,', \"Ward's\", 'smells', 'corner,', 'spiritualist', 'enthusiast', 'taller', 'withered', 'survivor.', 'Spider-Man', 'Poker', 'Muppet', 'Theatre.', 'hanged.', 'Plus', 'bloodthirsty,', 'pillars', 'deteriorating.', 'dragons,', 'mercy,', 'Garcos', 'strangled', 'riddles', 'skillful', \"father-in-law's\", 'Chip,', 'therapists', 'it:', 'cyclist', 'Graeme', 'one-hour', 'Scarlett', 'workings', 'Twain,', 'Thatcher', 'Becky,', 'Liu,', 'import', 'mainland.', 'hick,', 'killer;', 'Dan,', 'transfers', 'Tracy,', 'Halfway', 'conceptual', 'installation,', 'Isles', 'Rule', 'hauled', 'Cousins', 'pickpocket.', 'Guyana,', 'surveyor,', 'malaria.', 'Leonora', \"NYC's\", 'expecting,', 'ex-husband.', '(Lucy', 'reserves', \"Solomon's\", 'Samir', 'globe-trotting', '\"love\"', 'Young-Goon', 'cyborg.', 'slashing', 'implanting', 'licking', 'Il-Sun', 'malnutrition.', 'cyborgs', 'Yip', 'choreography', 'Donnie', \"Jarrod's\", 'bully.', 'forensic', '1916.', \"Matt's\", 'supermarket,', 'composing', 'Clementine', \"Australia's\", 'narrator', 'ancestors', 'virtue', 'customary', 'reserved', 'archeological', 'Isao', 'third-generation', 'Sugihara', 'ex-boxer', 'citizenship', \"Sugihara's\", 'Sakurai', 'satisfied', 'hostel', 'masters,', \"Surf's\", '2007', 'Animation', 'distributed', 'Studios.', 'Intrepid', 'hype', 'ups,', \"Austin's\", \"can't.\", 'Pignon.', 'wunderkind', 'Grau', 'Broke', 'midnight.', 'Jabberwocky', 'cheerleader,', 'negro', 'pitfalls', 'capitalism,', 'tone.', 'rock-n-roll', \"Pearl's\", 'Journal', \"industrialist's\", 'warlord.', 'Homeland', 'Security.', 'infrastructure.', \"church's\", 'homework', 'outright', 'Witwicky', 'Decepticons', 'sought-after', 'adorn', 'confiscated', \"psychic's\", 'tailspin.', 'stem', 'uncomfortably', 'atrocities.', 'company;', 'downturn.', 'drafting', 'deletes', 'He’s', 'Will’s', 'ready.', 'stardom.', 'friendly,', 'Internationally', 'recycling', 'debris.', '60s.', 'boutique', 'friend’s', 'boundaries.', 'regions', 'instruments.', 'matches.', 'rapper', 'oblige', 'curses', 'Aubrey', 'Fleming', '(Lindsay', 'rivalry,', '(Anton', 'Yelchin)', 'salsa', '2002.', 'Operation', 'upgrade', 'Information', 'eradicate', 'dolls', 'pressure,', 'oneself', 'Scrambling', 'Coast,', 'handy', 'December.', 'Piscoci,', 'debts.', 'answer:', 'Plata', 'Salud', 'ditching', 'beginning.', 'shopper', 'fiftieth', 'anxiety', 'disintegration', 'refined', 'Greene,', 'mongolian', 'rejections', 'Havre', 'Up-and-coming', 'reexamines', 'Jourdain', \"Molière's\", 'Han,', 'leaders.', 'Kenji,', 'Augustus', 'Film.', 'Daytona', 'ping', 'pong', 'painful)', 'uncontrollably.', 'debating', 'headfirst', 'correcting', 'satisfying', 'daycare', 'drones', 'dysfunction,', 'Massacre,', 'settlers,', '140', '(where', 'Anyone', 'Hume', 'anxious,', 'breezy,', 'two-day', 'Turin,', 'Sasha', 'arguing', 'bête', 'noir.', 'underbelly', 'Keoma', 'Caldwell,', 'Fascinated', 'threw', 'landowners', 'liberates', 'barrels', 'embassy', 'titles', 'maquiladoras', 'Philibert', 'Gary,', 'enthralled', 'dream-state', \"1800's,\", 'drought-plagued', 'gunmen.', 'Q&amp;A', 'rule-breaking', 'rice', 'robots,', 'Punk,', 'Michaela,', 'medication', 'objects,', 'Gabita', 'abortion', 'Chronological', 'Shondra', 'Bathsheba', 'willful,', 'flirtatious,', 'filmmaker,', 'Bhagat', 'funds,', 'Delhi', 'Karan,', 'Laxman', \"gentleman's\", 'adopted.', 'Teresa', 'Fearless,', 'Liam', '(Jesse', 'backdrop,', 'Treasure', 'Suzuki', 'Archival', 'Vogue', 'screenwriter.', \"photographer's\", 'Paolo', 'Kearney', 'flees,', 'tow.', 'Ryan),', 'targeting', 'catastrophe,', 'Umbrella', 'announcement,', 'ex-girlfriends', '1992,', 'Bachelor', 'seduce,', 'incarnations', 'employment,', 'ensues,', 'nightmare,', 'jumped', 'pepper', 'multi-billion', 'suit.', 'Sometimes', 'Lars,', 'Margo,', 'horizon.', \"fathers'\", 'response,', 'McCready', 'Kenzie', 'inspirational', 'Roswell', '1947.', 'businesswoman,', 'installs', 'Morin', 'camera.', 'topics', 'adamant', 'Obviously', 'turf,', 'amorphous', 'unattached', 'penthouse', 'stalker', 'her...', 'unforgettably', 'soundtrack.', \"90's,\", '1991', 'note.', '1980.', 'Austen.', 'reading.', 'adversary.', 'removed.', 'contrasting', 'Workshop.', 'Nejat', \"Yeter's\", 'distances', 'Ayten.', 'Ayten', 'Lotte,', 'gesture', 'pleasing', 'Lotte', 'Strahm', 'puzzle.', 'intersection', \"Yukio's\", 'reclaims', 'offenders.', 'Shaolin,', \"Wang-jae's\", 'Seok-hwan', 'peculiarities', 'elections', 'Bea', \"Harper's\", 'pope', 'Janeiro,', 'Nascimento', 'BOPE', '1970,', 'cup', '\"Robin', 'honey.', 'florist', 'Pod', 'loosing', 'impossible,', 'taxi.', 'memoir,', 'hoard', 'predator', 'blur', 'reap', 'dementia,', 'righteous', 'su', 'Fugitive', 'Grande,', 'Informer', 'skinned', 'Azur', 'Djinn-fairy,', 'Asmar', 'que', 'wounded.', 'deadpan', 'planes.', 'matador', 'surgery,', 'manners.', 'whack', 'extinguishes', 'hour-long', 'ridge', 'overshadows', 'Scandinavian', 'fantastic,', 'telegraph', '2008,', 'Legion,', 'thrall', 'carnage.', 'Settling', 'recalling', 'mishap,', 'ahead.', 'list,', 'Chechen', 'verdict', 'compassion.', 'dense', 'five-year-old', 'conceals', 'Giselle', 'charmingly', 'action-thriller', 'life-or-death', 'baggage', 'converge,', 'climber,', 'Lyra', 'Seville', 'Alvin,', 'Bender,', 'personas', 'reinvented', 'Clemens', 'landscapes,', 'inbred', '\"Fire', 'Juno', \"prisoner's\", 'okay', 'minimum', 'monthly', 'Sure,', \"we're\", 'problems...', 'sun-drenched', '1968,', 'Ravenside', 'Hospital', 'interns', 'flask', 'hedonism', 'row,', 'Steidle', '2007)', 'inhabits', 'designers', 'aesthetics', 'testimony,', 'lifetime,', 'Amir', 'Hassan,', 'pursuers,', 'Agnese', 'Ascalone,', \"Hamilton's\", 'Natalie.', 'purgatory', 'a.k.a', 'tenant,', 'Poole', 'stack', 'Wilkes', \"ancestor's\", 'Lincoln.', 'prospector,', 'Plainview', 'cheaply,', 'Mysteries', \"2004's\", 'franchises', 'Predator.', 'Cox', 'adversity', 'Sigma', 'atypical', 'diversity', 'pledge', 'ugly,', 'excruciating', 'Gloria,', 'playful', 'banishment', 'Ludo', 'probation.', 'misanthropic,', 'illustrator', 'collaborator', 'two-hour', 'Battlestar', 'Galactica', 'Pegasus', '(Lam', '(Francis', 'adores.', 'Gallico', 'buzzsaw', 'Nanking,', '1937,', 'expatriates', 'Nanking', 'mind-games', 'virtues', 'Lomas', 'Ozu', 'Bridges).', 'Assembling', '(Frank', 'predicted', '(Daniel', 'Right,', 'Ishaan', 'fish,', 'homework,', 'class;', 'Lemonade', 'devastate', 'Kendrick', 'self-confident,', 'Liz,', 'dependency', 'trust?', 'Moore)', 'camera,', 'Reserve', 'Griffith,', 'Single', 'Cutler', 'entangling', 'spooks', 'revolver', 'screwing', 'likes,', 'Or,', 'Marsh,', 'distance,', 'father...', 'Italians,', 'resisting', 'anthropomorphic', 'Makoto', 'literally,', 'Durell', 'tech-savvy', 'gets,', 'ex-Green', 'Date', 'tongue-in-cheek', 'sword-and-sandal', 'razor-sharp', 'Bigfoot.', 'diary.', 'Fallen', 'springboard', 'Sound', 'continuation', 'Ken,', 'Belgium,', 'Palace', 'Cut', 'Moments', 'drugged,', 'Rio.', 'traverse', 'noise,', 'quest,', 'afoul', 'magnitude', 'tenderness,', 'singer’s', 'venue,', 'inexorable', 'Carlton', 'Clash', 'Strummer', 'Dantes', 'unjustly', 'conspirator', 'Manning.', 'chastity', 'myth,', 'homoerotic', 'Kumiko,', \"Queen's\", 'pinpoint', 'whereabouts,', 'Fitch', 'invalid', 'Pete.', 'STATE', 'nautical', 'round-the-world', 'valiantly', 'published.', 'David’s', 'sorrow', 'future;', 'Carr', 'Arts,', 'Chase,', 'Rajput', '\"Il', 'mailbox', 'Tropics', 'ABA', 'collapses,', 'oblivion', 'under-resourced', 'risked', 'globalisation', 'sex-starved', 'crisscross', 'burrows', 'Family.', 'gag', 'halt.', 'thousands.', 'threat,', 'Horton', 'speck', 'dust.', 'Georgie', 'VeggieTales', 'Pirates', 'cursed,', 'stock.', 'Zeitgeist:', 'conspiracies', 'Christianity,', 'Terkel', '(Anders', 'Matthesen)', 'Batman,', 'Lantern,', 'fetch', 'fields.', 'wreck,', 'teamwork', 'governess,', 'dizzying', 'evangelical', 'alarmed', 'unanswered', 'organizations', 'effective,', 'Joker.', 'Approaching', 'forty,', 'Ferro', 'Scene', 'Barbie', 'Terror,', 'six,', 'Gance', 'sequence,', 'montages', 'Dicky,', 'Carlitos', 'rebuilds', 'Mechagodzilla', 'Dominic', 'intelligent,', 'Micky', 'five.', 'Students', 'Choi,', 'Football.', 'football.', 'nationalist', 'Kuomintang', 'Frog,', 'superhero.', 'canceled', 'Mikolás', 'Lazar', 'Persuasion', 'grimy', 'Paganism', 'Christianity.', 'Beacon', 'Xing', 'breakthroughs', 'Ricki', 'Florencia', 'typewriter.', 'Voz', 'Tomás,', 'secret).', 'Tomás', 'Ranbir', 're-locates', '37', \"Pope's\", 'chronological', 'Aldous', 'Snow,', 'Marshall.', 'implicates', 'Kumar', 'Netherlands.', 'Octave', 'tomorrow.', 'Witchcraft,', 'Racer', 'reports,', \"Chapman's\", 'psyche,', 'chapters,', 'Size', 'stoners', 'rehab.', 'exchanges,', 'Poppy,', 'colorful,', 'Maher', 'believers', 'Judaism', 'extremists.', 'scope', 'bunker', 'risk.', '\"Are', 'heiress,', 'chilled', '(Will', '―', 'contested', 'Mirakle', 'Fry', 'caged', \"Tarzan's\", 'Boy,', 'points,', 'offices,', 'Bose', 'Hosted', 'evolution.', 'Carola', 'Nonetheless,', 'join.', 'promotes', 'dealings.', 'Temple.', 'clock,', 'would.', \"d'Orsay,\", 'fractured', 'SG-1', 'Ori', 'Leeza,', 'Lion,', 'Pevensie', 'pangs', 'careers.', 'expect.', 'Documents', 'Brand', \"corporation's\", '1958,', 'tract', 'corn.', 'Fueled', 'naiveté,', 'absurdities', 'engrossing', 'eye-opening', 'Gold.', 'Indy', 'blondes,', 'symbols', 'console', 'masks.', 'groundwork', 'ourselves', 'despairing', \"Haggard's\", 'Shifu', 'Tigress,', 'Mantis,', 'Valle', 'hideout,', 'absolve', 'Yaqui', 'Lyedecker', 'intervene,', 'Imprisoned', 'Pulled', 'Villa', 'code-named', 'A-yuan', 'A-yun', 'helper', 'counterterrorism', 'faking', 'Accio', 'Manrico', '(Riccardo', 'Scamarcio)', 'Violetta', \"Mussolini's\", 'speeches', 'pipe', 'hypnosis,', 'phoning', 'plateau', \"Laura's\", 'marshal.', 'saloon.', 'Antonietta', 'corporation.', 'Seventh', 'impotence', 'Viagra', 'Qing', 'Only,', 'sketch', '(Zooey', 'bio', 'Buckley', 'Banner', 'scours', 'unbridled', 'Hulk.', 'masterminds', 'foe.', 'direct,', 'Labrador', 'Quill', 'volunteers,', 'Satoru', 'slower', 'Mitsuru', 'Watanabe,', 'Mitsuko,', 'WALL·E', 'mess,', 'qualities.', 'robot,', 'leaves.', 'Hancock', 'PR', 'inflicted', 'antihero', 'confessions', 'Sawyer', '99,', 'Tuesday', 'Kris,', 'afterglow,', 'questions:', 'finished,', 'grind', 'Karim', 'legs', 'needlessly', 'amputated', 'One.', 'Gedo', 'Tornado,', 'camerawork,', 'sideshow', 'Bambi', 'Breslin', 'splendid', \"Kit's\", 'hobo', 'libido,', '\"', 'cows', 'hilarity,', 'bear.', 'defiant', 'Joleen', \"continent's\", 'locations.', 'transmitted', 'inaccessible', 'serum.', 'terrifying,', 'labyrinthine', 'depths,', 'Ghraib', 'spread,', '\"Super', 'schoolchildren,', 'Frosty', 'Examines', 'Z', 'stations', '1974,', \"channel's\", 'Riviera,', 'unheard', 'Salman,', 'Salman', 'digital', 'crocodile,', 'insurgency', 'assault,', 'Abaddon', 'manifest', 'reservist', 'pumpkin', 'Rodman', 'dot-com', '1926,', 'magician.', 'local,', 'hallucinations', 'Kaj', 'mean?', 'Stylish', 'Pussy', 'Katz', 'rips', 'Yagami', 'Utopia', 'intern,', 'McAllister,', 'Brennan', 'hitches', 'newlyweds,', 'Doretta', '(Ron', 'hearing.', 'Ham', 'legacy.', 'RIGHT', 'Titan.', 'Secrets,', 'Stargate', \"Hussein's\", 'Syrian', 'paranoid.', 'vicariously', 'Violet,', 'fatale,', \"Dale's\", 'Revisited', 'X-Files', 'tightrope', 'Petit', 'wire,', 'sidewalks', \"Petit's\", 'achievement.', 'Melody.', 'Morgana,', \"Morgana's\", 'involuntarily', 'Pingguo', 'Kun', 'eking', 'Leung)', 'Kun,', 'Lin,', 'paternity', 'pathology', 'Tracey', 'Sonny.', 'friendless,', 'Residents', 'Alejandro,', 'ratcheted', \"neighborhood's\", 'Caitlin', \"human's\", '\"Is', 'Archaeologist', '2,000-year-old', 'photos.', 'station;', 'Spirit.', 'Paris-based', 're-enter', 'Explore', 'metropolis', 'harshness', 'Ozu’s', 'estates', 'festivities.', 'Yeong-ho\"s', 'pothead', 'Wu', 'Cao', 'Wu,', 'Bei', 'outnumbered.', 'Yu', \"Cao's\", 'unused', 'equation', '=', 'ones,', 'Sisterhood', 'beyond,', 'Bathory', 'murderess', 'mens', 'payoff', 'Nursing', 'Wildcats', '(Ashley', 'club’s', 'Talent', \"Tayback's\", 'Thunder,', 'Cockburn', 'budget,', 'Triangle,', 'Ops', 'Episode', 'safely.', 'Pusit', 'tempting', 'Folman', 'Lebanon', 'enabled', 'bullies.', 'Eli,', '\"Little', 'Terminal', 'Corporation,', 'televised', 'Mansion.', 'Zeta', 'Unless', 'men;', 'unceremoniously', 'mirrors', 'matters.', 'third-rate', 'Genji', 'Heike', 'Yoshitsune', \"House's\", 'cosmetic', 'Movie,\"', 'stamp', 'genres', 'arrow', 'Horn.', 'newscaster', 'automotive', 'dramatically,', 'Mater', 'Tears', 'Founding', 'wiping', 'secret?', 'aide.', 'futile', 'stereotypical', 'characteristics', 'Jun,', 'arrests,', 'radiation.', 'diligently', 'janitor.', 'Jorge’s', 'workshop,', 'taekwondo', 'occurrence.', 'watchdog', 'Bertram', 'minutes,', 'Argentinean', 'Ukraine', 'life..', 'Cuervo', 'Chile,', 'stand,', 'lingers', 'ever-deepening', 'worthless', 'other;', 'self-defense,', 'doomed.', 'assumptions', 'Shuhei', '92nd', 'Tuscany,', 'Rui', 'Vani', 'apocalypse', 'escalate,', '\"How', 'staying.', 'Tris', 'blithely', 'commoner', 'Province', 'Agata', 'Catalina', 'km', 'Further,', 'reviled', 'renegades,', 'CIA’s', 'Ferris.', 'strategizing', 'Ember', 'Bessy', 'roll,', 'Bush’s', 'triumphs,', 'rebound', 'caregiver', 'Goliath', 'Kearns', 'abolish', '\"If', 'fifty-four', 'Images', 'perhaps,', 'soaring', 'bottomless', 'Economic', 'squirrel', 'pole', 'Brother,', 'radio...', 'dispatch', 'prey...', 'incendiary', 'parts:', 'Troy,', 'Leela', 'demolition', 'Matter', 'stranglehold', 'O.', 'friends;', 'Westward', 'expansion', 'Lakota', '12-hour', 'Entertaining', 'Madagascar.', 'Kolchak', 'consciousness,', 'helmet', 'south,', 'anything,', 'arrest,', 'Bong', 'geared', 'Ruka', 'Ibiza', 'Suzuran', 'failed.', 'Krabat', 'Lapland,', 'Nikolas', 'presents.', 'Investigators', 'Mitchie', 'Rock,', 'Command', 'transporter', 'online.', 'singers,', 'Cleo,', 'Theo,', 'brittle', 'seething', 'erupt.', 'Hanzo', 'extracting', 'inquiries.', 'lifelike', 'endure,', 'motel.', 'carjacked', 'organisms.', 'pacts', 'Darwin,', 'Bolt', 'norm.', 'Lavond', 'endangers', 'Cullen', 'fence', 'striped', 'pajamas.', 'Caleb', 'shag', 'agony', 'Maze', 'overeager', 'Segawa', 'Chronos', 'Corporation', 'Segawa,', 'Charu', '1870s', \"Pervert's\", 'Cinema', 'overturning', 'Žižek', 'intellect,', 'unfailing', 'enthusiast,', 'sleuth', 'coworker,', 'aerobic', \"instructor's\", 'assess', 'incognito', 'Bolivia,', 'Bolivian', 'heroism', 'Rico,', 'Bug', 'Colonies', 'Fisk', 'Senior', 'factual', 'corner.', 'vehemently', 'Rodriguez', 'converging', 'parents’', 'tackles', 'goodbye.', 'Gran', 'selecting', 'Likewise,', 'vivacious', 'joyride', 'satchel', 'hill.', 'Melody,', 'Hunted', 'skin,', 'Pin', 'functions', 'circuit.', 'tights,', 'horrific,', 'disguise,', 'hurting', 'job:', 'Führer.', 'Takaki', 'Akari', 'Ford),', 'manipulative,', 'tormentors.', 'Nic', 'beguiling', 'full-blown', 'submission', 'teeth', 'militants', 'sex-addicted', 'Blackadder', 'Elizabeth,', 'gullible', '\"time', 'proof,', 'loft.', 'Motivated', 'patriarch.', 'Poppy', 'Realising', 'roughly', '1,200', 'Annual', 'Packed', 'lighten', 'highs', 'lows', 'thirty-year-old', 'Selleck', 'grade-school', 'sailor,', \"Ponyo's\", 'meat...', 'perilously', 'shoplifting', 'pet.', 'Boog', \"Elliot's\", 'Weenie', 'pub,', 'semi-biographical', 'Ip', 'Foshan', 'Sino-Japanese', 'Sammo', 'counsel', 'dreamt', 'knight.', 'Lodge', 'party:', 'non-player', 'distrust,', 'gamer', 'Mesrine,', 'neon', 'Mesrine', 'Harmony', 'miner,', 'hateful', 'Korea.', 'WTO', 'Emergency', 'hour.', 'unforeseeable', 'schisms', 'intense.', 'recently,', 'Balkan', 'Underworld', 'Lucian', 'Lycan', 'Tariq', 'shooters', 'Skolnick', 'suppression.', 'politician,', 'child...', 'long-standing', 'solicits', 'manuscript,', 'deep-seated', 'ministry', '\"gay', 'Garvey', 'Blart', 'attitude,', 'unarmed', 'NOTORIOUS', 'rappers', 'Worse,', 'in...', 'Embarking', 'self-discovery.', 'bio-tech', 'loan.', 'odder', 'predator.', 'fuse', 'Toshio', 'horror-thriller', 'wooded', 'outing', 'Silicon', 'spot,', 'Coraline', 'bricked', 'Dead.', 'devil,', 'firmly', 'passageway', 'parole.', 'Cassie,', 'governments,', 'Istanbul.', 'tenacity', 'number.', 'you.', 'bleak', 'consequences,', 'Businessman', 'decadence,', 'Dwarf', '\"Dark', 'dramatically.', 'dam.', \"thief's\", 'quaint.', 'roster.', 'Andi', 'tails.', 'Hawking,', 'Afro', 'Hajime', 'farce.', 'Deth', 'archenemy,', 'fiend', 'governing', 'applying', 'departures', 'cabinet', 'swaggering', 'funnyman', 'priorities', 'overdosing', 'Shenaniganz', 'waitresses', \"Ta-Ta's\", 'faces,', '(Andy', 'arguing,', 'ensue,', 'TO', 'irreverent,', 'sampling', 'collusion', 'not)', 'Elise,', 'assign', 'artifacts.', 'first-person', 'Carver,', 'pharmacist', 'lottery.', 'sinister,', 'owl', 'supervillain', 'Con', 'greats', 'peerless', 'Santee', '(Dolph', 'livelihood', 'spearheaded', 'even,', 'chagrin,', 'rectify', 'tried.', 'cured.', 'Wife', 'Venus.', 'geeks,', 'entities', 'innovation', 'dug', 'Santos,', 'a.', 'Dominican', 'traders', 'Stieg', 'Mikael', 'Blomkvist,', 'libel', 'off-beat', 'kittens,', 'dystopia', 'chronically', 'Stacy,', 'untold', 'Michal', 'hurled', 'littered', 'renamed', 'documents,', 'verbal', 'Sita,', 'Hindu', 'Rama', 'disappearing.', 'abductor', 'deaf-blind', 'wholly', 'Meinhof', '1977.', 'Court.', \"Carla's\", \"Greg's\", 'Fish,', 'Robb', 'Metallica,', 'tour,', 'Barnhardt', 'Station.', '1987,', 'Kimbrough', 'Stewart),', 'short.', 'magazine,', '16.', 'Jackie,', 'disability', 'scouting', 'overlooks', 'Goku', 'unlimited', 'Lem', 'Kate.', '(And', 'interested.', 'hasn’t', 'sensed', 'Karate', 'UK', 'GLOBAL', 'Scot', 'scenes;', 'societies', 'Lacey', 'cellmate', 'fort.', 'Brigade,', 'defines', 'Broadcasting', '30-something', 'Hill)', '(Bud', 'Spencer)', 'businessmen,', 'unflappable', '1903', 'Leeds', 'ticker', 'occupant', 'Mumbai', 'Filipino', 'Philippines,', 'Victoria.', 'breath-taking', 'cinematography,', 'outstanding', 'Friend,', 'awakening.', 'Jin', '(Choi', '(Yoo', 'importantly', '$2,000', 'conversation,', 'today’s', 'brighter', 'interlaced', 'dramedy', 'eighties.', 'were.', 'Rizzo,', 'Bigfoot', 'fickle', 'kingdoms', 'Xu', 'survival,', 'alliance.', 'Kiki', 'snobby', 'luxury,', \"Marie's\", 'valued', 'million,', 'Vi', 'Darko,', 'endangered,', 'outtakes', 'collaborator,', '\"Dr.', 'safely,', 'shuttle,', 'scenarios', 'stacked', 'Lucky,', 'Matty,', 'preceding', 'Balls', 'Angelenos', 'Kristofferson', 'Concha', 'Pasqualito', \"Lucas'\", 'Ranch', 'laced', 'archives', 'Smithsonian', 'Earhart,', 'Abe', 'Timothy,', 'Dream,', 'quarreling', 'chores,', 'ritualized', 'Emilie', 'adolescence,', 'Piazza', 'Antarctica.', 'followed,', 'Ikari', 'denying', 'extension', 'skeptical.', 'Fredricksen', 'Elric', 'gipsy', 'worlds.', 'entrenched', 'Muriel,', 'Documentary,', 'realism.', 'Venturing', 'Bilal', 'Channel', 'imagined...', 'Atchafalaya', 'bachelor-party', 'tying', 'knot.', 'Doug,', 'perseveres', 'DeSilva', '\"demon', 'throats', 'Billu', '(formerly', 'Sahir', '(Shahrukh', 'Khan).', 'zombie,', 'Duchemin,', 'cliff.', 'Anne-Marie', 'vient', 'est', 'depuis', 'deux', 'ans.', 'Mais', 'elle', 'pas', 'ses', 'retrouve', 'alors', 'encore', 'primate', 'Rino', 'seclusion,', 'war?', 'heroism,', 'leadership.', 'natives,', 'outnumbered', 'contrasted', 'Chelmsford', 'ultimatum', 'Strangely,', 'Kaoru', 'victim’s', 'library.', 'concerns.', 'backpacker', 'put-upon', 'Dillinger', 'Waiting', \"Dillinger's\", 'Pretty', 'Odd', 'dependable', 'Tsane', 'clicks', 'Toback', 'unflinching,', 'transmitting', 'alibis', 'Garzooka', 'Vampires,', 'trusting', 'perished', 'defect.', 'fetching', 'naïve,', \"Melody's\", 'handcuffs,', \"Yard's\", 'handcuffs', 'exhibition,', 'FBI.', 'mouthed', 'tiger.', 'heats', 'Morgan.', 'sarcasm', 'bound,', 're-imagining', 'foundation', 'supermodel', 'Hound', 'dejected', 'Policemen', 'Bonaro', 'Madigan', \"Simone's\", 'Group', 'Nitro', 'strong-arm', 'resources.', 'customer,', \"Prince',\", \"Voldemort's\", 'Eichmann,', 'Israel,', 'Godefroy', 'Montmirail', 'Crack', 'exhaustion', 'Lieutenant.', 'groomed', 'Chin', 'expecting.', 'Porn', 'Adult', 'unadorned', 'fascinating,', 'offensive,', 'Santi', 'symptoms,', 'Tales', 'mysticism,', 'Katrina,', 'elders', 'horizon', '(Joshua', 'elects', 'eviction', 'forgetful,', \"mum's\", 'ghastly', \"Cyril's\", 'reluctant.', '70th', 'Cyril', \"employer's\", 'Cydney', 'hitchhikers', 'Fanfan', 'setting,', 'Stephanie', 'Dekker', 'best-seller.', 'feisty,', 'crash-land', 'Earth!', 'parents!', 'Attic', 'jeopardizing', 'dear.', 'Montana.', 'Swift,', 'Rascal', 'next-generation', 'Séraphine', 'self-taught', 'Discovered', 'grouped', 'Giamatti', 'anxiety,', 'fiancee.', 'opens,', 'Ricky,', 'necessary,', 'Superior', 'night!', 'study,', 'terminated', 'Marriages', 'strong.', 'abused,', 'wings.', 'Manus', 'Jompa', 'Tormann', 'Wisløff', 'Sami', 'revenge!', 'Destiny', 'rekindled', 'ardent', 'Evangelion', '\"Evangelion:', 'ex-gambler', 'Shields', 'Ready', 'bankruptcy,', 'coyotes', 'Beth.', 'Think', 'London-based', 'Indian.', 'Productions.', '2009.', '2008.', '(Chen', 'Leung', 'fun-loving,', 'afternoons', 'Denis', '(Hayden', 'Denis,', 'restraint', 'Melville', 'Gu', 'Lino', 'Metal', 'definite', 'Paper', 'ministers,', 'lawyers,', 'Hartley', 'shuts', 'navigator', 'east,', 'Inquisition', 'Torquemada,', 'Bennie', 'long-missing', 'cyberspace', 'reinvents', 'jock.', 'Manor.', 'Olympia,', 'Leni', 'Riefenstahl.', '1952', 'Regime.', 'Cusp', 'unprotected', 'Wolfram', 'Fabio.', 'Belmondo', 'contending', \"mother's,\", 'Fox.', 'Granger,', 'Tunga', 'Meadow', 'cheerleaders,', 'swing.', 'Graduate', '33', 'Léon', 'voted', 'trustees', 'burnout.', 'phone.', 'Reluctantly,', 'Millions', '\"good\"', 'neighbor’s', 'generation-defining', 'Walls', 'Ex', 'topless', 'techniques,', 'extinction.', 'Horror', 'send-ups', 'Lantern', 'Westboro', 'Baptist', 'funerals', 'chauffeured', 'Medellin', 'borders,', 'Juantxo', 'Fatima', '\"Alex\"', 'spider-like', 'Akasen', 'Chitai', 'Kenji', 'profession,', 'Sardinian', 'shepherd,', 'Béatrice,', 'jacket', 'inclined', 'hellbent', 'offing', 'Whitacre', 'company’s', 'Quimby', 'Muna', 'convoluted', 'on-line', 'regaining', 'Inventor', 'April.', 'heavy-drinking', 'restaurants', 'supermarkets', 'sold.', 'dietary', 'Sang-hyun', '(Song', 'poetry,', 'Fanny,', 'Marla', 'Lament', 'Configuration', \"Argentina's\", 'squads', 'Tamburrini', 'Guillermo', 'Tano', \"Weir's\", 'considerably', 'Compared', 'subsist', 'thrusts', 'longstanding', 'school’s', \"stranger's\", 'Ryota', \"niece's\", 'communion', 'Vijay,', 'destitute', 'worldview.', 'default,', 'Radhe', 'Gani', 'Bhai,', 'Mafioso,', 'fearless,', 'Cove', 'individuals,', 'embarked', 'Serious', 'clarity', 'private.', 'Stone.', 'youngsters.', 'depleted', 'tunnels.', 'Matheson', 'fetus', 'Superbeasto', 'prank;', 'gruesomely', 'indie-rock', 'derby', 'Austin.', 'scares', 'did,', 'stare', 'Performing', 'issue.', 'Algeria', \"Lou's\", 'sightings,', 'Antarctica,', 'Research', 'Coco', 'Chanel.', 'Chanel', 'Balsan', 'clip', 'flow', 'exhibited', 'Edison', 'price:', 'cut-rate', 'Mumbai-based', 'Aditya', 'Shivaji', 'Nagar,', 'Mann.', 'Aditya,', 're-locate', 'IRA.', 'Mann)', 'waterfront', 'JT', 'naked,', 'Duffy', 'Perlman).', 'spring,', 'landscapes', 'financier', 'Stella,', 'tavern', 'conservative.', 'masses.', 'relieved', 'fascination.', 'Consul', 'cries', 'investors,', 'USSR.', 'skeletal', 'Gregori', 'magnificently', 'battles,', 'aircrafts,', 'Marseille', 'Katrina.', 'legion.', 'City:', 'Hasidic', 'meet;', 'city:', '(Dylan', 'side?', 'gig,', 'Heather,', 'played,', 'discover?', 'Worlds', 'Cairo', 'escorts', 'Stanwyck', 'campaigns', \"Maharajah's\", 'Clelia,', 'bundle', 'energy,', 'dramatize', 'futures', 'bleak.', 'video.', 'barricade', 'dreamer.', 'Aelita', 'needed.', 'spaceship.', 'Earthlings', 'Bingham,', 'suitcase,', 'Torture', 'chambers,', 'reconstructs', 'component', 'Shots', 'ops.', 'pumpkins', \"Dib's\", 'Mizushima', 'Valentines', 'chocolates', \"Monami's\", 'Monami', 'Franken', 'convict.', 'understood.', 'rehearsals', 'partake', 'dressing,', \"Sebastian's\", 'heavens', 'smiling.', 'bearded', 'Boston.', 'temples', 'hairstyles', 'pumped', 'Staten', 'Jin,', '1950.', 'naively', 'Verdone.', 'psychological,', '\"On', 'Rite', 'taste.', 'dress.', 'inconsolable.', 'thwarting', 'partial', 'Marina.', 'Ancient', 'dictates', 'pebble', 'Hubie', 'three-year-old', 'lavatory', 'Seetha', 'hospitality', 'Ramigani', 'Maharaja', 'Chandra', 'herdsmen', 'improvise', 'rhythm', 'belts', 'Europe:', 'stork', 'babies,', 'Gus,', 'babies.', \"Gus's\", 'rambunctious,', 'harder.', 'ongoings', 'Mankind', '\"Grey', 'Goemon', '(Southern', 'heating', 'crust', 'fraction', 'earthquakes', 'irrevocable', 'button', 'Mateo', 'Blanco,', 'investigations,', 'abductions.', 'father;', 'Terrence', 'sergeant,', 'McDonagh', 'prescription', 'immigrants.', 'Kristoff', 'Galina', 'wrap', 'Foster),', '(Samantha', 'husband’s', 'Keith', 'bounds', 'Salma', 'grove', 'Raizo', 'Clan,', 'north-eastern', 'pulse-pounding', 'embassy,', 'bodyguards', 'Smitten,', 'rowing', 'ordeal.', 'bloodshed,', 'Produced', 'Mutant', 'universes.', 'Madagascar', 'Melman', 'sleigh', 'Sam’s', 'homecoming', 'tragicomedy', 'near-future,', 'militarized', 'schools,', 'creeping', 'years;', 'seven,', 'financed', 'reminiscent', 'empathetic', '(Jimmy', 'Bennett),', 'Len', 'Salmon', 'heal.', 'Mandela', 'economically', \"Africa's\", 'Goode', 'minute,', 'semester', 'Gap', '1930', 'amateurs', 'Purge.', 'Judex', 'Volterra,', 'Andrew.', 'Gianni', '(IMDb)', 'static', 'thirty-six', 'festive', 'Nathan,', 'sides,', 'does?', 'Mum', 'Dad,', 'Birdie', 'Birdie,', 'interrogating', 'purpose,', 'endeavor.', 'Desperate,', 'Elena.', 'Adler', 'bands.', 'Brittany,', 'consequence.', 'directions.', 'Desai', 'Mumbai.', 'dowry', 'critic.', '\"Too', 'replied.', 'High.', 'incomplete', 'Filumena', 'bombing.', 'administrates', 'bowling', 'alley.', 'pinch', 'viral', 'pandemic', 'Lyrical', 'Mazzy', 'barricades', 'listeners', 'enduringly', 'checkered', 'headlining', 'warm-up', 'ass', 'piece.', 'Khufu', 'life.\"', 'freed.', '..', 'predictable', 'Franny', 'motorcycle.', 'Past', \"professor's\", 'Feb.', '29,', 'Salander', 'Blomkvist', 'Sentenced', '(Tahar', 'write.', 'Hawke)', 'crushing', 'Island...', 'intersect,', 'Princess.', 'Weighed', 'tow,', 'Movie,', 'thinker', 'Pius', 'bounds.', 'corrupts', 'Pittsburgh,', 'fogged', 'trials.', '16-year-old,', 'Zenon', 'MacGyver', 'Horsemen', 'level.', 'Mohan', 'NASA,', 'district,', 'neighbours,', 'place;', 'unnerving', 'disorganized', 'Zinos', 'storytelling', 'conglomerate', 'rogues,', 'fundamental', 'Eat', 'eaten.', 'coax', 'concerto', '(Academy', 'Franck', 'Sensei', 'Ninja.', 'eleven-year-old', \"camera's\", 'Fight', '(portrayed', '(Alain', 'recession', 'Colin,', 'lackluster', 'Abominable', 'idea...', \"Dennis'\", 'Present', 'Woolly', 'Mammoth', '(White)', 'Heavyweight', 'Boyka', '\"just', 'Virus', 'rewarding', '(Hindi:', 'Me,', 'Kunal', 'Chopra', 'Yash', 'Rani', 'Mukerji', 'logs', 'trees.', \"Hank's\", 'starts.', 'humankind,', 'Michael.', 'Manila', 'Raquel', 'repetition', 'Increasingly', 'precarious', 'Searing', 'residing', 'rumoured', 'obsessions', 'treaty', 'Taki,', 'Maki,', 'Cabiria', 'Carthage,', 'noble,', 'Arn', 'Crowley', 'sugar.', 'Stonehill', 'Patrick.', 'tribulations', '(Cross)', 'splash', 'grafted', 'yachting', 'sprees', 'DA', 'penalty.', 'rushed', 'bland', 'Shirley,', 'cow,', \"Diana's\", 'Brooke,', 'makes,', '(Russian:', 'Aleksandr', \"Union's\", 'Narayan', 'believer', 'persuasion', 'Raj,', 'herself?', 'Belgrade', 'weak.', 'fast-motion', 'trying.', 'first-time', 'LA;', 'grandparents,', 'Hate', 'Albright', 'windows.', 'booklet,', 'publish', 'warming.', 'Steal', 'founders', 'Fredrik', 'filesharing', 'internet', 'accurately', 'rogue,', 'Bubbles', 'Sunnyvale', 'Trailer', 'Brendan', \"Aiden's\", 'warmed', 'beau.', 'accessory', 'villager', 'Uma', 'York’s', 'dilemmas', 'motherhood,', 'Zhao', 'cellmate,', 'MEN', 'Manager', 'Atomic', 'horrifically', 'Humanity.', 'overseas', \"opponents'\", 'tooth', 'Tailed', 'cells', 'mathematicians', 'bottled', 'Rizwan', 'Mumbai,', 'syndrome.', 'alone?', 'invert', 'Provocative,', 'Gladiator,', 'Tel', 'Aviv', 'utmost', 'Beer', 'Belgrade.', 'ecological', 'Barnes)', 'Cossacks', 'Poles', 'Cossacks.', 'Taras', 'Cossack', 'Colonel,', 'Bulba', 'Dyke', 'lasting,', 'neurological', 'Ally', 'Failan', 'Judith,', 'drained', 'nuts', 'hindrance', 'Kayla', '(Emmanuelle', '1879', 'offenders', 'zombies!', 'purity', 'Communication', 'dies?', 'Ferrell', 'Dalí,', 'García', 'owes.', \"maniac's\", 'close-up', 'travelogue', 'canvas', 'organs.', 'Lilith,', 'Maya.', 'night:', 'Oliviero', 'ex-student,', 'hippies,', 'observant', 'cheating,', 'twenty-eight-year-old', 'Hiccup', 'Haddock', 'passage:', 'Toothless', 'twosome', 'clowns', 'Jangsaeng', 'Gong-gil', 'Bunty', 'specks', 'breadth', 'gem', 'Lumière', '1895.', 'rules:', \"Lynch's\", 'ex-detective', 'abides', 'Bazil', 'shootout', 'instantaneous', 'Buster,', 'Tiny', 'manufacturers', 'constructs', 'Hades', 'fisherman,', 'parasitic', 'heightened', 'quarters', 'step-brother', 'emerged,', 'crematorium', 'suffering.', 'super-hero', 'Javed', 'Abbas', 'Arun', 'Geeta', 'Mathur', 'Alistair', 'Little.', 'Durjan', 'Arjun,', 'destitute.', 'Thakur', 'Alone,', 'humiliation,', 'father?', 'rAjOo', 'kind-hearted', 'whipping', 'Delivery', 'Meat', \"Kronk's\", 'Udo', 'Kier', 'Lom', 'death...', 'transitioning', 'off-kilter', 'T.I.A.', 'D.O.T.', 'Chief,', 'NOT', \"Tillie's\", 'paved', 'rockers.', 'attacked.', 'pigs,', 'others!', 'Earth...', 'gallery.', 'Hengchun', 'shrouded', 'obscured', 'Kill', 'Proof,', 'Frustrated,', 'babes', 'hairless', 'polarized', 'output', 'six-part', 'co-produced', 'Unit', \"Aaron's\", 'Aaron.', 'Heffley', 'slice', 'Afrikaner', 'Radha', 'Gopal', \"Gopal's\", 'Gopal,', 'enlightening', 'economists', 'Bavaria.', 'Gum', 'Noel', 'directors,', 'robbed.', 'Clutch', 'LEGO', 'advocates', 'debauchery,', 'abode', 'ostracized', 'uber-controlling', 'vicinity.', 'Whateley', 'Armitage', 'Brotherhood', 'gate', 'ideologies', 'Machisu', 'setbacks.', 'Jensen,', 'heavily-guarded', 'College.', 'rapists', 'standstill', 'stopover', 'Banksy', 'resisted', 'Shop', 'Afrika', 'counter-attack', '800', 'Puritan', 'Unwilling', 'paratroopers', 'Rovaniemi,', 'Circle,', 'dabbling', 'Lapland', 'Pyke', 'history...', \"see's\", \"Jacques'\", 'discreetly', 'entertainment,', 'full.', 'joyful', 'hurt.', 'jade', 'escapades.', 'assault.', 'withdrawal', 'onboard', 'Jacques,', 'drinkers.', 'wing,', 'medic', 'prowl', 'jihadists', 'abstract', 'idiots.', 'wrench', 'quits?', 'Naomi', \"Klein's\", 'capitalism', 'Mads', 'Helmand,', 'Afghanistan.', 'Helmand', 'Taliban.', 'alienation', 'Don’t', 'King)', 'Lennie', \"century's\", 'Jakarta.', 'backwoods.', 'Miles.', 'Jessel,', 'HK', 'Lin),', 'Byung-du', 'Burdened', 'cornered', 'diligent', 'Ömer,', 'wishful', '\"Adam', 'Halo', 'nonviolent', 'toymakers', \"Toulon's\", 'Funès)', 'maids', 'coffin.', 'claustrophobic', 'possessor', 'solitary,', 'Su', 'Giuseppe', 'Coffin', 'Gervais', 'tour:', 'Carrie,', 'eschew', 'rockstar', 'H,', 'interrogates', 'disappeared,', 'H', 'artificially', 'organism.', 'myths', 'Felicie', 'petrol', 'clouds,', 'Purge,', 'Tolen', 'Nancy.', 'confused,', 'hottie,', 'Junie', 'Nemours', 'Senegalese', 'Ibou', 'worldview', 'perspective.', 'tested,', 'nestled', 'metropolis.', 'temperamental', 'Babu', 'Concentration', 'residential', 'remain.', \"Internet's\", 'Brolin)', 'slayed', \"Hex's\", '75', 'aeronautical', 'Honey,', 'theory,', 'infidelities.', 'Ree', 'hacks', 'bare-knuckle', 'fighter.', 'Trapper', 'hides,', 'raided', 'lecturer', 'Terje', 'Rumpelstiltskin', 'Attempts', 'Williamson', 'constrained', 'foundations', 'pillar', 'sadist.', 'TiMER', 'wearer', 'Oona', 'Bauer', 'dramatisation', 'ignite', 'Monsanto', 'organisms', 'sold,', 'painstaking', 'hitherto', 'first-hand', 'enslaving', 'Water,', 'nations.', 'confusing,', 'Yugoslav', \"Costa-Gavras'\", 'Siege', 'Uruguay', 'given,', 'up-to-date', 'time-honored', 'quack', 'Didier', 'injured,', 'bet:', 'Whoever', 'insecurities,', 'mistakes,', 'Culloden', 'presentation', 'empathy', 'floats', 'beings.', 'dragging', 'sneakers.', 'unimaginably', 'piercing', 'AJ', 'fragment', 'band’s', 'Gru', 'impossible:', 'Balthazar', 'Maxim', 'protégé.', 'hauntings', 'psycho.', 'Ying', 'impossible.', 'Cheng.', 'conservationist', 'angle.', 'Hurt', 'Bomb', 'vigilante,', 'defector', 'capture.', '\"Who', 'children;', 'farewell.', 'Rising', 'spiral,', 'Tyne', 'Jomar', 'Amar', 'Lucette,', 'Trintignant', 'ferry', 'Buckley,', 'features,', 'Duck,', 'Porky', 'animations', 'Opera,', 'showcase', 'Franklyn,', 'wanted,', 'costs,', 'Ramona', 'mischief.', 'Cloud', 'adoration', 'Aram', 'Danson', 'tattoos,', 'desks', '(Ferrell)', 'Hoitz', 'wake,', 'Goth', 'obscenely', 'Family,\"', 'Formal', 'clinic,', 'recovery', 'alarm', 'Escobar', 'fist.', 'Andres', 'related,', 'champions,', 'eliminated', 'engulfing', 'Fishing', 'shore.', 'claw', 'raft,', 'Talley', 'Whip', 'Dalton,', 'on!', 'conflict-ridden', 'envelope', 'crescendo', 'beyond.', 'Raphael', 'arch-enemy', 'heirloom', 'semi-retired', 'A.D.', 'distressing', 'Happiness', 'record,', 'Tomas,', 'soft-core', 'extraction', 'areas:', 'Mongolia,', 'Altar', 'Ball,', 'sable', 'KANG', 'HWANG', 'Break', 'hangovers', 'suitors,', 'spun', 'Greta', 'choreographer,', 'Ballet.', 'precision', 'perfection', 'Hansen,', '34,', 'Jutland', 'self-obsessed', 'turbulence', 'fountain,', 'mightiest', 'Zaibatsu.', 'Gustave', 'Gohan', 'Garlic', 'Dragonballs', 'Gohan,', 'Eternal', 'Krillin', 'Goku,', 'psyche', 'Sweetzer', 'temptations', 'Pietro,', 'burlesque.', 'spoilt', 'Dina,', 'Dispatched', 'mini', 'packed,', 'Loaded', 'axes', 'sample', 'Machine,', 'wires,', 'assumptions.', 'hydraulic', 'precipice', 'superpower.', 'vile,', 'Moose,', 'miles.', 'Cordell,', 'racket.', 'Barton)', 'Becca', 'embarrasses', 'infection,', 'heights,', 'Undead', 'illuminated', 'jug', 'sushi', 'Port,', 'Fei', 'Yam),', '(Sun', 'Wen', 'counter-culture,', 'elevated', 'Separated', 'life-style', 'twins.', 'accommodating', 'undergrad', 'Zuckerberg', 'overlord', 'superficial,', 'magazines', 'slaps', 'rackets.', 'grotesque,', 'ft', 'supernova', 'originality', 'genre-bending', 'Hope.', 'provides.', 'Joaquin', 'access,', 'Sven', 'Patrik', 'Hubble', 'grandeur', 'NASA’s', 'ourselves.', 'Ferguson,', 'Aeronautics', 'owl,', 'owls', 'warriors,', 'split-second', 'available.', 'holing', '\"Gang', 'Princes\"', 'stature,', 'clinically', \"Abel's\", 'commerce,', 'Chelsea,', 'Radhey', 'slacker,', 'Nirjala', \"Nirjala's\", 'groom,', 'throes', 'Hunt),', 'Dennehy)', 'death;', 'acceptance.', 'drains', 'Disguised', \"Ethan's\", 'dragon.', 'amuse', \"Bunny's\", 'Chenery', 'male-dominated', 'Palmers', 'Marni', 'Joanna,', 'bells', 'caterer', 'Sophie.', 'Facebook,', 'Nev', \"Abby's\", 'Roy,', 'assigned.', 'coarse', 'banter', 'sympathy', 'trapped.', 'Job', 'corrosive', 'regulation', 'violent.', 'Today,', 'gods,', 'Kenny.', 'Clarke,', 'Paloma', \"Jehovah's\", 'indulges', 'aversion', 'comprehensive', 'industries.', 'Silver,', 'Natha', 'Peepli', 'bureaucrats,', 'feels.', 'Hamel', 'Jasmine.', '\"monster\"', 'Court,', 'finished.', '(Philip', 'Urgent', 'night?', 'intro', 'Jury', 'Restrepo', 'Korengal', 'neighbourhood,', 'exposed,', 'unleashed.', 'dismembered', 'Inconvenient', 'black-ops', 'reassembles', 'frailty', 'restrained', 'Aaron,', 'Egon', 'fine,', 'felon', 'Ryohei', \"Algeria's\", 'convictions,', 'Saint-Tropez', 'Cruchot', 'atelier', 'Kristi', 'horrifyingly', 'fearlessly', 'Rachid,', 'accomplice,', \"Nicolas'\", 'necromancer', 'toilets.', 'enticing', 'pleasures,', 'Dagen,', 'luggage', 'Utah.', 'Megamind', 'trajectory', 'enriched', 'K', 'pilgrimage', 'Pyrenees', 'Donkey,', 'Puss', 'Boots', 'Grigori', 'Estonia,', 'metaphorically', '\"stone', '\"To', 'Morgane', 'universes', 'failure,', 'Boonmee', 'argument.', 'perception.', 'stimuli', 'Maynard', 'middle-aged,', 'Venezuelan', 'Sanchez,', 'forgotten,', 'shores', 'nudist', 'Valeria,', 'VI,', 'stutter', 'unfit', 'Bertie', \"kingdom's\", 'Breckenridge', 'Stribling', 'jurisdiction.', '1951', '69', '59', 'wrangling', 'groom.', 'rod', 'tireless', \"monk's\", 'teasing', 'Francois,', 'toy.', 'induces', '1793,', 'Jakub', 'conspirators.', 'overall', 'betrayal.', 'EXTRA', 'MAN', 'intense,', 'Reef.', 'multi-millionaire,', 'unfathomable', 'Liang', 'cheerfully', 'riveting,', 'FAREWELL', 'Grigoriev', '(Jamel', 'Noria,', 'francs', 'moths', 'Karthik', 'loser,', 'cant', 'rings.', 'Karthik’s', 'polio', 'punk-rock', 'waiting.', 'Amaya', 'steeped', 'Proenneke', 'Peninsula,', 'mementos', 'weaker', 'attractive.', 'Kendra', 'motivations', 'goth', 'infallible', 'edges', 'Siri,', 'Jérôme', 'energies', 'manipulator', 'networking', 'disappearing,', 'sponsoring', 'elves,', 'captivity.', 'CHRISTMAS', 'viewing.', 'Artificial', 'ignorant', 'Gregoire', 'Gregoires', 'admiration,', 'charisma', 'Films,', 'Cousteau', 'Gulf,', '2.5', 'conjurer', 'unison', 'Marybeth', 'swamp-dwelling', 'facts,', 'presence,', 'LOVE', 'YOU', 'sloth,', 'quests', 'media,', 'evaluating', 'impulsive,', 'fathers.', 'hikers', 'Tiger.', 'Pearce,', 'conceive', 'masculinity', 'arise,', '\"Whom', 'Joseon', 'Namsoon', '(Ha', 'Sad', 'toss', 'Fang', 'recklessly', 'infernal', 'diabolic', 'Nashville,', 'Tennessee.', 'limitless', 'bloodsucking', 'stupor', 'Ondrej', 'Armin', 'Jackson-Cohen,', 'Tome,', 'yakuza,', 'built,', 'mugged', 'father-in-law,', 'cash-strapped', \"twins'\", 'Travel', 'Malhotra', \"Raj's\", 'Pooja', 'independent.', \"Pooja's\", 'Bo.', 'dispenses', 'Clown,', 'hating', 'Sameer,', 'Hassan', '(Ali', 'Laden', 'visa.', 'expect,', 'coffee.', 'realized.', '1979,', 'Tess,', 'hold-up,', 'Arrietty', 'hillbillies', 'unlikeliest', 'occurs.', 'sticker', 'JUNG', 'Jellystone', 'outdoors', 'Yogi', 'collaborates', 'Shinichiro', 'Miki', 'pitched', 'Pixar', \"Pixar's\", 'contributions', 'Jobs', 'three-dimensional', 'hints', 'exasperating', \"neighbors'\", \"I'll\", 'iconoclast', 'mocking', 'hes', 'transformative', 'Vik', 'recycle', 'Nilsson?\"', 'Ono,', 'promotional', 'Somebody', 'e-mail,', 'blossomed', 'Pooja.', 'Britt', 'Kato', 'butterfly', 'butterfly.', 'tycoons', 'Keaton,', 'displacing', 'Back,', 'cart.', 'intervene', 'Leningrad.', 'Eduardo', 'Brest', 'Prem', 'Nisha', 'Ong', 'Bak', 'Kanto', 'issuing', 'goblins', 'Barny', 'Léon,', 'niece.', 'Gyung-soo', 'theories.', 'Alive', 'Alp,', 'Ange', 'Orphanage', 'cowboys,', 'smithy', \"Riley's\", 'closure,', 'depict', 'Riley.', '\"Now', 'Tennis', 'historians', 'readings,', 'manipulations', 'Recorded', 'WAMU', 'Showtime,', 'Red,', 'Peters,', '27,', '#3', 'Russell’s', 'Anger.', \"Hart's\", 'expands', 'child-like', 'curiosity.', 'verse', 'exposition', 'Adriana', 'Eun-yi', 'Nami.', 'Nami,', 'Hoon', 'playing,', 'suburbs,', '100%', 'guys\"', 'unlawfully', 'imagined,', 'DVD/Blu-Ray', 'Véronique', 'Lindon),', 'waterfall.', 'Frida.', 'dishonesty', 'wars\"', 'daughter’s', 'understand,', 'insinuates', 'Sinigaglia', 'mill,', 'Sheriffs', 'email', 'kill?', 'socioeconomic', 'paradigm', 'Godfather,', 'Two,', 'Picture.', 'attached.', 'manners,', 'appetites', 'Vatican.', 'poisoning,', 'Macário', 'Verde', 'uncle’s', 'fiancée’s', 'Muslim.', 'ugly.', 'pitch-black', 'poems,', 'Vega),', 'Boyle', 'strive', 'despicable', 'fallen,', 'concerts,', 'derail', 'unavoidable', 'mix,', 'happiness?', 'restful', 'Mayhem', 'Ripper.', 'psychoanalysis', 'father:', 'laborer', 'populations', 'Blanchard)', 'Tricia', 'unravels.', 'Nicknamed', 'Spitzer', 'institutions', 'shockingly,', 'Area', 'knife-wielding', 'Sheng', 'Mousse', '38,', 'Leading', 'Fumiya', 'Fukuhara', 'Mahmud,', 'pray', 'thereafter', 'Jewish,', 'Helmut', 'Weiss', 'Milton', 'pet,', 'Recent', 'MIT', 'end-of-summer', 'Faris)', 'Odyssey', 'Inari', 'ultimatum:', 'bitterness.', 'Captures', 'generational', 'keenly', 'Wexler', 'subway,', 'boogeyman', 'Ninth.', 'tribes,', 'Virginia.', 'Dancing', 'Jesco', 'Galia', 'devices,', 'math,', 'Armageddon', 'horizon,', 'Eeyore', 'Toru', 'Naoko', \"Naoko's\", 'grows.', 'pure-hearted', 'Midori', 'semester.', 'asocial', 'rational,', 'hard-earned', 'Oishi', 'moms', 'Shaggy', \"Shaggy's\", 'Scooby-Doo,', 'mystery!', 'Begins', 'detective)', 'consequence', 'late:', 'reflection,', 'slick,', 'Scooby-Doo', 'Erie', 'unremarkable', 'attacked,', 'Teddy.', 'Donna', 'Taryn', 'André', 'Matias', 'Diogo', 'H.P.', 'Lovecraft.', \"Lovecraft's\", 'Lovecraft', 'specialist.', 'Cthulhu.', 'clerk.', 'collections', 'Vogel,', 'redefined', 'visuals', 'Anker,', 'mountaineer', 'business!', 'Chauvet', 'intentions,', 'Decorated', 'Colter', 're-lives', 'Retreating', 'puberty.', 'Andreu', 'prank.', 'abduction.', 'job?', 'BURN·E', 'engineering,', 'perfection,', \"legend's\", 'Shinigami', 'follower)', 'death?', 'Trail.', 'astray,', 'hardest', 'swimming.', 'long-dormant', \"Boy's\", 'goat', 'resides', 'Koldo,', 'Eugenio', 'Raul', 'canned', '(Gustavo', 'Sánchez', 'striptease', 'three-tiered', '(Swedish:', 'high-level', 'hazardous.', 'induced', \"millionaire's\", 'Harlock', 'Booth.', \"Hicks'\", 'Documentary\"', '2011', 'Award,', 'Downtown', 'reviews', 'Dewey,', 'Captured', 'Blu', 'Jewel,', 'Coach', 'Thor', 'Asgard', \"C.K.'s\", 'say.', 'best:', 'Dagny', 'Ayn', 'Theater.', '(Claudio', 'Bisio),', 'Brianza,', 'equivalent', 'Juliet,', 'landlord.', 'rehabilitation,', 'life-support', 'blocked.', 'orphan.', 'syndicates', 'frenzied', 'banjo', 'dons', 'Natan', 'veterinary', 'transfixed', 'Tube', 'stops,', 'Foo', 'Grohl', 'ascent', '1920’s,', 'grace.', 'discreet', 'forty-something', 'varied', 'avaricious', 'neglected,', 'sharp-tongued', 'twists,', 'conversations,', 'explanations', 'Liberty,', 'wood.', 'builder,', 'groping', 'Alfredo,', 'pawnbroker', 'Suicide,', 'mammal', 'duel,', 'objects.', 'Surfer', 'Bethany', 'overcame', 'grappled', 'supported', 'loyal,', 'single.', \"Rachel's\", 'rituals.', 'she’ll', 'bridesmaids', 'Gibson)', 'juice', 'high.', 'more:', 'Somi,', 'Taesik', 'Somi', 'mellow', 'counterparts.', 'Australia’s', 'revealed….', 'calamity.', 'Nanjing', 'Pina', '(Leighton', 'edged', 'Magda,', 'lens,', 'Angelica', 'fourteen-year-old', 'Unexpected', 'Susanne', 'Gothenburg', 'her:', 'pearl', 'Tiffany', 'Loft', '(2008).', 'disappointed', 'look-a-like', 'Lazarus', 'NSA', 'telepathy', 'Clouzot’s', 'Bromberg', 'illuminating', 'rainbows', 'child’s', 'something.', 'Period', 'Huang', '2007,', 'unveiled', 'funerals...', 'Balam', 'Saturday,', 'Warrior,', 'Roberts)', 'dark-haired', 'law-school', 'Emilia', 'Devastated,', 'grudging', 'interrogator', 'Lamb,', 'haunts,', 'curly-haired', 'superpowers.', 'Universe,', 'Dutchman', 'Stijn', 'upside-down,', 'showed', 'housewives', 'genre:', 'penguins,', 'Tom’s', 'wonderland', 'Optimus', 'Transformers', 'Moody', 'Liar', 'twenty-somethings', 'tucked', 'morph', 'if,', 'deserted,', 'undertone.', '(Idris', 'Walker),', 'Brown)', 'tuition.', 'amicable', 'hustling', 'Prometheus', 'Prisoner', 'Nitin', '(Akshay', 'Kumar)', 'Unprecedented', 'peril', \"'Breaking\", \"Upwards'\", 'codependency,', 'Lister-Jones,', 'interprets', 'uncensored', '(Melissa', \"we've\", 'ans,', 'jamais', 'lui', '!', 'par', 'une', 'qui', 'recherche', 'bientôt', 'am', 'non-violence', 'he’ll', 'distorting', 'courts,', 'Mak', 'Dong', 'Bae', 'Apparently', 'Delhi-based', 'debt-ridden', 'Tashi', 'Malhotra,', 'room-mates,', 'landlord,', 'trio.', 'incur', 'Rajiv,', 'usual,', 'sensibility', 'Came', 'try,', 'Powell)', 'Hale)', \"Mahler's\", 'anti-Semitic', 'Wagner,', 'Catholicism.', 'wizards,', 'Funny', 'sterile', 'weaponry,', 'sanity,', 'confrontational', \"Boyle's\", 'Chihuahua', 'Puppy', 'Papi', 'packages.', '(voice', 'Lucienne', \"Lucienne's\", 'deputy.', 'gossips', 'affair...', 'Rimini', 'Marcello', 'Lei', 'need,', 'Pao', 'Calabria,', 'passing.', 'steps,', 'top-ranking', 'Monsters,', 'gadgets.', 'Sulley', 'remorse.', 'Loki', 'armageddon.', 'Gargamel', 'Smurfs', 'tumble', 'Supernatural', 'Encouraged', 'erstwhile', 'Sandro', 'kiss,', 'Gerardo', 'Jonas.', 'caribou.', 'habitat.', 'caped', 'triggered', '(stylized', 'YouTube', \"Fred's\", 'Pixie', 'stalker,', 'governed', 'Gu-nam', 'longterm', 'Alessio', 'fizzled', 'fou', 'amoureux', 'jeune', 'degenerates', 'euro.', 'newspapers', 'exploitative', 'Ricardo', 'exchanges', 'perennially', '45', 'Kaiulani', 'Godfrey', 'Reggio', 'Wildlife', '(1997)', '(1983)', 'born:', 'Race.', 'adrenaline-fueled', 'repentant', 'Tribe', '\"East', 'Manchester,', 'pubescent', 'Punjab,', 'Myles', 'noticing', '1857,', 'na', 'trying,', \"Escobar's\", 'advise', 'Glee', 'fullest', 'Zimmer,', 'Chiara,', 'Nice,', 'Carvalho,', \"force's\", 'well-read', 'Death’s', 'Tommaso', 'Hélène,', 'Sosa', 'A&amp;E', 'Luján', 'portfolio', '(Mason', 'stepmother.', \"Stallone's\", 'Morten', 'Mister,', 'placement', 'obsessively', 'Rollins', 'situation:', 'pump', '1995,', 'Quebec.', 'Grace.', 'Momoa)', 'encroaching', 'Fellow', 'seniors.', 'secured', 'entomb', 'Nim,', 'eagles', 'vultures', 'Hare', 'Worricker,', 'Nighy', 'bon', 'panache', 'wouldn’t', 'uninhibited', 'raunchy', 'radically,', 'Interrupters', 'communities', 'fundamentalists', 'henchmen.', 'landowners.', 'abducting', 'Thailand.', 'abducted,', 'Deu', 'Zoe,', 'steep', 'seat.', 'ensued', 'Carved', 'testimonial', 'desire.', 'computer-generated', 'steroids', 'DEAD', 'Marx,', 'Kabir', 'Imran', 'overdue', 'forgiven', \"Natasha's\", 'observers', 'stirring.', 'Shamoto', 'Murata', 'sidelines', 'dimension', 'Expelled', 'continue.', 'separate.', 'Bernd,', 'Bernd', 'safety?', 'Magna', 'Rochester', 'momentous', 'Confronted', 'Apartheid', 'Brink', 'random,', '(Alexandra', 'Uncle,', 'Stevan', 'peacekeeping', 'MI6', 'narrows', 'experienced,', 'rivalries', 'MMA', 'gut-wrenching,', 'belief.', 'Hunter,', 'predators', 'remarkably', 'luxuries', '(Shahid', 'Kapoor,', 'Anushka', 'Sharma,', 'undisputed', 'diagnosis,', 'Nietzsche', 'carting', 'communism', \"'little\", 'judgment.', 'evokes', 'Chitti', 'integration', 'Individual', 'replete', 'Reykjavik', 'Moriarty)', 'Smoky', 'complex,', 'nubile', 'breed.', 'Santos', 'Troubled', 'devotion.', 'renegades', 'Sakura', '2016', 'scorched', 'crossing,', 'Hayward', 'sibling.', 'dementia', 'elation', 'Paranoia', 'frontman', 'immeasurable', \"cult's\", 'hot-headed', 'gene', 'overpopulation,', 'disadvantaged', 'Race', 'aftermath,', 'intentional', 'Melissa,', 'website.', 'conceited', 'Lucie,', 'Lucie', 'Kaja', 'check.', 'percent', 'State.', 'headhunter', 'stead.', 'drug-dealing', 'girls’', 'Rebellion', 'Teresa,', 'high-speed', 'swindler', 'revered.', 'distinctive', 'resurfaced.', 'Tintin', 'Snowy', 'Thomson,', 'Precinct', 'Laure', 'Reiko', 'Yoshioka', 'mummified', 'bumpy', 'disturbingly', '\"Happy', 'profiles', 'adventure-seeking', 'unlocks', '(Nicole', '1978.', 'dreads', 'maddening', 'Utilizing', '600', 'bordello,', 'centre.', 'Yosemite', 'warlords', 'Fuelled', 'Hao', \"shop's\", 'operates', 'Kauai', 'swoop', 'Renesmee,', 'Cullens', 'Kemp', 'Nigel,', 'Ale', 'self-serving', 'grassroots', 'Singham', 'Durai', 'Singan', 'extortionist', 'Vaaganam', 'Singam', 'Sidhu', 'embracing', 'danced', 'hint', 'identity:', 'once-in-a-lifetime', 'Kurono', 'Gantz', 'assassinations,', 'approaching.', 'Oskar,', 'nut.', 'Campbell)', 'Vitalstatistix', 'potion.', 'challenged.', 'catapult', 'buffalo', 'Mumble', 'Sven,', 'Expendables', 'paycheck,', 'Panem', 'intimidation', 'Katniss', 'Lam', 'overwhelms', '24th', '2010.', 'Dirch', 'Lie', 'on-stage', 'Coriolanus', 'Panahi', 'Côte', 'Mouglalis.', 'Mission', 'Kremlin', 'renovation', 'pastor.', 'curbing', 'blurs', 'measure', 'tears,', \"Sophie's\", 'Lily.', 'Paws', 'Budderball', 'Buddies', 'Delta,', 'lioness', 'overcoming', 'lions', 'hunting,', 'Layton', 'Remi', 'Consequently,', 'Bahl', 'Dimple', 'Shah.', 'Rashid,', 'heartbreak,', 'expression.', 'festivities,', 'snowstorm.', 'Feast', \"Po's\", 'decorations,', 'exorcisms', 'Farraday', 'Beloved', 'icon.', 'Street.', 'Whoopi', 'Cheryl', 'Henson,', 'Kingdom,', 'cosmos', 'decomposition', 'Lech', 'filmmakers,', 'poignancy', 'dynamic.', 'Selene', 'strands', 'rooftop.', 'hostage,', 'Risking', 'centipede', 'Jinyiwei', 'Kar', 'Qinglong', '(Donnie', 'Pax', '2011,', 'backpacking', 'hormones', 'adaptations', 'Goethe', 'Ronson', 'Defense.', 'Haruhi', 'Mikuru', 'Koizumi', 'decorations.', 'Kyon', '(former', 'aroused.', 'properly', 'diagnosis.', 'whales', 'Created', 'Marley', 'eve...', '\"Yolki\"', '(Sara', 'Mel’s', 'interested,', 'swans', 'episode.', 'inauguration', 'client’s', 'Kipps', 'Receiving', 'asthma', 'Ambrosio', 'pupil,', 'Antonia.', 'Moran', 'Unpredictable,', 'elegiac,', 'teetering', 'Like,', 'Leo,', 'complications,', \"McDaniel's\", 'gators', 'fin', 'Fest', 'seen!', '10th,', 'online,', 'show:', '40s', \"Katie's\", 'Heroes', 'fragments', 'up...', 'Kokowääh,', 'pronounce', 'Au', '1905,', 'prey,', 'pining', 'note,', 'replies', 'Were', 'biotech', 'evacuation', 'Raoul,', 'big-hearted', 'abolitionist', 'letters,', 'illustrations', 'likewise', \"war's\", 'Utopia,', 'aquatic', 'frenzy.', '\"wrong', 'unfurls', 'Shun', 'urgency', 'children?', 'hasty', 'promises.', 'breeds', 'Barsoom', 'albums', 'May,', 'burglarize', 'labourer', 'conquers', 'Farm', 'Cinema,', 'snowboarder', 'Experience', 'highs,', 'lows,', 'riders', 'It,', 'rewrite', '533', '2011.', 'bull', 'diseases', 'rejecting', 'menu', 'processed', 'Glatt', 'kilograms', 'Ariana,', 'Ura', 'bureau.', 'sown', 'chest.', 'baker.', 'Montmartre,', 'UFC', 'Water', \"Silva's\", 'schoolmate', 'Presidential', 'McCain', 'Palin,', '2012.', 'Hee-soo', 'plagiarizing', 'pension', 'pension,', 'Yun-hee', 'Dying', 'bestseller.', 'Jenko', 'witness,', 'Soo-Ah', 'academy.', 'Kwon', 'contradictory', 'ex-government', 'rioting', 'crush.', 'watchmen,', 'Iscandar', 'Yamato', 'Me\"', 'demonstrating', 'adventure:', 'diverse,', 'soft-spoken', 'Corman', 'conduit', 'Jiro', 'appearances,', 'Michelin', 'upstream', 'Takizawa', 'Selecao', 'checkmate', \"Outside's\", 'Accused', 'crosshairs.', 'Titans', 'Zeus,', 'they’ll', 'Paan', 'Tomar', 'administrators', 'unmatched', 'armada', 'nieces', 'Oz', 'spotter', 'spree,', 'alone…', 'woman?', 'Jean-René', 'Angélique', 'pathologically', 'Housefull', 'Sajid', 'RAW', 'Vinod', '(Saif', 'Rajan', 'Code', 'professors', 'Jerusalem.', 'revulsion', \"Israel's\", 'award,', 'final,', 'Laurent.', 'bloodbath,', 'louder', 'Bang,', '$30', 'evil...', 'invaders,', 'toughen', 'Theroux', 'Topeka,', 'anti-gay', 'retirees', 'Marigold', 'Rush,', 'progressive', 'Mirko', 'Genziano', 'Sharpay', 'dog-eat-dog', 'towns,', 'overflow', 'fifteenth-century', 'Celebrity', 'Reavis', '\"White', 'encounter,', 'vivant', 'Rudolf', 'Spud', 'mistrust', 'facilities', 'Philadelphia,', 'Manor', 'destiny:', 'Crest', 'Nate,', 'alcoholic.', 'Disillusioned', 'both,', 'Institute,', 'Chopper', 'Rocket', \"'professional'\", 'Chaddha', 'Kapoor),', 'Delhi,', 'Arora', '(Ayushmann', '(Yami', 'Gautam),', 'Ponzi', 'Hache', 'embodied', 'motorbike', 'oppressed.', 'veil', 'strategies', 'reclaiming', 'Gangster', 'deadbeat', 'legitimacy,', 'tiny,', 'wry,', 'reticent', 'immortality,', \"Orleans'\", 'Maddie', 'side-by-side', 'androids.', 'cybernetic', 'captivates', 'warnings,', 'Chernobyl', 'foggy', 'financing', 'Yann', 'avalanche', 'creditors,', 'Tiede', 'Nikhil', 'Banker', 'Radhika', 'Jignesh', 'Patel,', 'Veer,', 'lung', 'undeniable.', 'K.L.', 'Dickson', 'surveys', 'Vidya', '(Vidya', 'Balan)', 'Sallinger', 'airstrikes', 'Rescuing', 'civilians.', 'tilted', 'Found', 'Vares', 'asset', 'Sinja', 'Jack’s', 'leaf', 'Words', 'McCall,', 'zebra,', 'aligns', \"Ball's\", 'Bulma,', 'Kryptonite', 'Space:', 'Aftermath', 'Roshi', 'fighters.', \"ruler's\", 'Kochin', 'Wheelo,', 'fifty', 'abduction,', 'Highlands,', 'Mérida', 'kingdom’s', 'Saiyajin', 'devastated.', 'around;', 'detention.', 'Chosun', 'Jeon', 'Chi,', 'sight-seeing', 'product.', 'Niki', 'Fabio', 'stimulation', 'lamb', \"that'll\", 'teddy', \"baby's\", 'partying,', 'Cooler', \"Frieza's\", 'Saiyan.', 'Androids', 'shopping.', 'Vegita', 'Vegeta', 'Ewan', 'briefcase.', 'Trunks', 'henchman.', 'Manny,', 'Wink', 'Wink’s', 'unraveling', 'temperatures', '30-year-old', 'Pot', 'Balto', 'Norway.', 'Harpagon,', 'Cléante', 'Harpagon', 'sorrow,', 'applause', 'Geri', 'Somehow,', 'prejudices,', 'two-part', 'cozily', 'triumvirate', 'reimagining', 'Melville’s', 'narrator.', 'intimate,', 'Seuss', 'forget!', 'Saiyan', 'Broly,', 'cure,', 'Jaga', \"Satan's\", 'explode,', 'instructing', 'intersects', 'Christmas?', 'wire.', 'blurred', 'stalker.', 'deviant', 'Craigslist.', 'echo', 'elsewhere', 'leaf.', 'distillery', 'apology', 'low-ranking', 'know-it-all', 'logic', 'words:', 'Américaine', 'catalog', 'EDWARD', 'sleeper', 'slaying', 'Pan.', 'ode', 'Aires.', 'one-room', 'buildings,', 'Tortoise', 'Ramzy', 'Athena', 'Gareth', 'eagle.', 'Tanglewood', 'Kaneshiro)', 'K-20’s', 'Versailles', 'billionaires', 'rags-to-riches', 'delusion,', 'denial,', 'self-effacing', 'P.I.', 'cutter', 'District.', 'Kang-Ho)', '(Kang', 'deadlier', 'Anja', 'delirious', 'regresses', 'cinephile', 'athletes,', 'Prepare', 'gnaws', 'one’s', 'Blithe', 'accursed', 'rise.', 'Na-mi', 'traced', 'Goat', 'you’d', 'friends’', 'Murielle', 'Mounir', 'Pinget', 'reasoning', 'by?', 'Viewers', 'nudity,', 'display,', 'girls...', 'non-linear', 'sleepwalking', 'Tennison', '2003.', 'Minnesota,', 'Jansen', 'Beca', 'Thrust', 'gals,', 'gals', 'arrangements', 'competitions.', 'Divorced', 'brands', 'Samsara', 'travelled', '58', 'gun,', 'loop,', 'managerial', \"Todd's\", 'Deathstalker', 'bulbs', 'group’s', 'brothers:', 'successes', 'unanimous', 'Frank’s', 'Ai', 'architecture,', 'in-your-face', 'blog', 'Twitter', 'exhibitions,', 'activism', 'ravage', '(Zoe', 'Hamish', 'boozy', 'Freddie,', 'executioner', 'hedge', 'physiotherapist', 'Manuela,', 'cuisine.', 'Bologna,', 'Café,', 'dream;', 'mythos.', 'forging', 'untrustworthy', 'VHS', 'son’s', 'chairman,', 'prodigy,', 'Sparkle', 'LCD', 'UP', 'Seireitei', 'Rukia,', 'Kurosaki', 'Ichigo', 'Hermann', 'siren', 'laborer,', \"Obama's\", 'Obama', 'Across', 'Barack', 'thinks,', 'continents,', 'Dinesh', '2016.', 'dissolution', 'marriage...', 'pedophilia', 'reignite', 'YouTube,', '\"accidentally\"', 'SOMETHING', 'Rap', 'Ice-T', 'Hip-Hop', 'Eminem,', 'Dre,', 'Snoop', 'Dogg', 'mechanism', 'Put', 'bong', 'warp', 'Heyerdahl', 'Giving', 'sensation,', 'Perry:', 'choreography,', 'yourself,', 'architects,', 'Lachlan', 'hole,', 'snag,', 'Macdonald', 'MARLEY', 'bolt-necked', \"Sparky's\", 'retrospective', 'true-crime', 'entity.', 'Kingston,', 'bottom.', 'senate', 'format', 'orgy.', 'chubby', 'oldest,', 'task:', 'Silvia,', 'Train,', 'Brilliant', 'Charge', 'secret...', 'Zibby', 'Ator', 're-animated', 'albino', 'Antoinette', 'paws', 'family!', 'accounted', 'Lucius,', \"Hughes'\", 'unemployable,', 'Shahid', \"Singh's\", 'spur', 'Sardar', 'therapy,', 'commonplace.', 'facet', 'Ramiro', 'Desideria', 'carpet', 'disobedience', 'Cow', 'Electronic', 'writers,', 'reach,', 'Pine', 'happy:', 'paperboy', 'ridiculous,', 'provocateur', 'Brügger', 'corroded', 'lid', 'planet:', 'cameras,', 'bleeding-edge', 'absurdly', 'Huffington', 'Atlas', 'ripples', 'Hitchcock’s', 'preferably', 'Brought', 'Studios,', 'Hedren', 'eighties,', 'Apple.', 'unmasks', 'practical,', 'piano.', 'monologue', '(TIFF)', 'Mavericks.', 'biology', 'accent.', 'paranoia.', 'Kate’s', 'give.', 'shooter', 'cookies', 'Embedded', 'Emad', 'archivist', 'olive', 'tsunami', 'bonded', '911', 'Year\"', 'characters:', 'ferociously.', 'collaboration.', 'enter.', 'Suu', 'actresses,', 'footballer', 'Patricia,', 'Citadel', 'agoraphobia', 'Nurse', 'Jin-ho', 'WWE', '3:', '1001', 'game:', 'era?', 'pinnacle', 'slavery.', 'sleepover,', 'Lucretia', 'hire.', 'Child.', 'pipeline', 'nightlife', 'jeopardize', 'powerfully', 'perpetuate', 'Thirty-something', 'judgmental', 'get-together', 'Hillary.', \"sisters'\", 'high-energy', 'banding', 'Guardians', \"policeman's\", 'Bleakie', 'spreads,', 'Lasky', 'Stavanger.', 'flailing', 'jeopardy,', 'Vice,', 'hallucinogen', 'plants,', 'compound,', 'monastery,', 'endurance.', 'One-time', 'Kong-Fu', 'Kirikou', 'sequel.', 'Princes', 'princesses', 'comprising', 'Bénédicte', 'Ocelot', 'catapulting', '(Robin', 'herself)', 'brokered', 'Miramount', 'restrictions.', 'digitized', 'studio’s', 'animator,', 'Wright’s', 'Congress”', 'censors.', '2012', '“I', 'Shun,', 'podium.', 'aim:', 'Sang-Joon', 'Stars', 'Sinners', 'Necron,', 'representation', \"galaxy's\", 'sword.', 'decoration,', 'authorities?', 'Cleese,', 'Smaug,', 'Tak', 'rivalries,', 'flying.', 'lacrosse', 'sigh', 'tantric', 'Jameson', 'spontaneous', 'listen.', 'Recife,', 'Geographic', 'asked,', '“How', 'glaciers', 'Parisians,', 'technicians', 'Hyakkimaru', 'teacher),', 'life)', 'unmasked', 'Rajasthan,', 'Trishna', 'Indifferent', 'culprit,', 'Reacher', 'relieved,', 'certainty', 'failing,', 'squeezed', 'reopens', 'unappreciative', 'Cirque', 'Soleil', 'incomprehensible', \"Hugo's\", 'lightning,', 'Ansari', 'anticipated', 'Dustin', 'Expect', 'Guru', 'decommission', 'concubines', 'thirty-something', 'Hart)', 'Gray.', 'Star,', 'bands,', \"Rock's\", 'matter?', 'Championships,', 'Havana', 'Curtis.', 'two-year-old', 'users', 'underway.', 'Half', 'Kenya,', 'Trek', 'Roddenberry', 'upended', 'Arkin', 'Buchanan,', 'interconnected', 'narratives,', 'developer,', 'Maniette', 'Kenshin', 'Himura', 'Offering', 'atonement', 'deeds.', \"Valjean's\", 'orderly', 'Madeleine,', \"addict's\", 'Producers', 'Miserables', 'Javert', '(Bernard', 'utilizes', 'doppelganger', 'most;', 'apathetic', 'masculinity,', 'balances', 'translated', 'kitties', 'taints', \"conglomerate's\", 'Plunged', 'transgender', 'intimidate', 'Cohen’s', 'Chulbul', 'Pandey', 'Kanpur', 'daylight.', 'Baccha', 'Dabangg', 'strengthen', 'Micke', 'consolation,', 'guileless', 'Gösta', \"Hertzfeldt's\", 'Faith,', 'Winwood,', 'Vale.', 'Eindoak.', 'Cilan', 'Eindoak', \"festival's\", 'Victini', 'Vale,', 'Victini.', 'Hers', 'guests.', 'Gibney', 'Renoir', 'Sommerton', 'Junction', 'tuck', 'Stormtroopers.', 'Hyeong-bae', 'Ik-hyeon', 'museums', 'decades:', 'Thale', 'closeted', 'patterns,', 'Nadya,', 'Ashley’s', 'unparalleled', 'unseen.', 'truth...', 'Shik', 'Tatsuo', 'rating', 'therapist.', 'agitated', 'Schraeder', 'steel,', 'denial.', 'JR', 'Polynesian', 'Islands.', 'tides', 'Jeoffray', 'vanishes,', 'Jefferies', 'error.', 'corporations.', \"Omer's\", 'seat,', 'coincidences', 'miracles.', 'bullfighter.', 'quandary:', 'conformist', 'crusaders', \"Hawking's\", 'Universe.', 'Chilean', '‘No’', 'extending', 'scant', 'purporting', 'Airport.', 'Redfield', 'Raccoon', 'Resident', 'educational', 'ABC', 'DEATH', 'mutations', \"Mandela's\", 'candid', 'decades-long', 'III,', 'perplexing', 'Ivana', 'heartbroken.', 'Saul,', 'Izzy', 'Mind', 'vault.', 'bronze', 'choir.', 'shell,', 'writes,', 'Metin', 'Chang', '27-minute', 'association,', 'animation.', 'juxtaposes', 'patterns', '12.', 'Friendship', 'whales,', 'element.', 'imaginations', 'Laurie)', 'onscreen', 'tam', 'Alesia', 'Jenkins,', 'Ka', 'watched.', 'TPB', 'AFK', 'fanatic,', 'libertarian', 'Hollywood’s', 'Sinister', 'Barret', 'Fantômas,', 'daring,', 'Juve', 'Fantômas', 'Gurn.', 'Beltham', 'Fantômas.', 'Mattia', 'childhood:', 'Wadjda', 'Saudi', 'herself...', 'headless', 'Crosby.', 'Fernandez)', \"Mia's\", 'stepsisters.', 'Diggs,', 'pissed-off', 'Croods', 'resourcefully', 'dwell', \"'human\", \"Ahab's\", \"Dragon's\", 'spill,', 'amazingly', 'secretarial', 'Aya,', 'elevator.', 'Karine', 'wrecking', 'tenderness', 'hit!', 'Christopher,', 'Woodlands', 'bag,', 'Heydrich.', 'Banning', 'rant', 'territories.', 'Hailey,', 'Duncan.', 'nowhere.', 'Curse', 'aired', \"Assassin's\", 'Bullet,', 'Portia', 'Pressman', 'Jeremiah,', 'DON', '(Priyanka', 'Chopra),', 'mission?', 'Bhairava', 'insulting', 'Ranch,', 'Templar.', 'extras', 'featurette', 'Craig.', 'Assange', 'WikiLeaks,', 'creators.', 'Chihiro', 'accusation', 'computers,', 'transmits', 'reboot', 'sobriety,', 'McCormick,', 're-open', 'Brittany', 'revelations,', 'drone', '\"Shark', 'Baseball’s', 'roster', 'minors', 'Roko', 'psychology.', 'Belic', 'Shadyac', 'suggested', 'rickshaw', 'Cajun', \"Kristi's\", 'nineteen-year-old', 'interweaves', 'touching,', 'equips', 'boastful', 'Kershaw', 'Punisher', 'S.H.I.E.L.D.', 'deployed', 'Hulk', \"Hulk's\", 'tentacled', 'weaknesses.', '56', 'generosity', 'resilient', 'Er', \"films'\", 'apocalypse.', 'Brainiac', 'planets,', 'included,', 'ever-evolving', 'unfavorable', 'announcer,', 'unsupportive', 'insightful', 'harbours', 'Bee,', \"Dolly's\", 'Akane', '(Ai', 'cyst', 'Fukie’s', 'Draculon', \"'Hungry\", 'foods', 'payout.', 'unwieldy', 'counterpart.', 'surrender,', 'Carraway', 'left:', 'Meryem', 'Corsica', 'Ichi', 'tranquillity', 'Yojimbo', 'masseur', 'Hilarity', 'mother-in-law,', 'Patagonia.', 'Mimino', 'supersonic', 'liner,', 'France’s', 'divorcée.', 'Shurik', 'in-house', 'caregiver.', 'right?', 'skating.', 'Carnival', 'Liberace', '(much', 'Parade,', 'tragicomic', 'liberal,', 'Cypher', 'damages', 'craft,', 'Kitai', 'three-week', 'Enola', 'Filled', 'emotionally,', 'Commando', 'Thirty-five', 'weddings,', 'petitions', 'Boris,', 'Elie,', 'Maxime', 'Maxime,', 'majorly', 'occurrence', 'Álex', 'abandoned,', 'annihilation', 'Outspoken', 'financially,', 'Rajat', 'Neha', 'Rhea', 'demanding,', 'mingle.', 'Griffins', 'Arendt', 'Eichmann’s', 'German-Jewish', 'derailed', 'overcrowded', 'prisons,', 'culturally', 'unprecedented,', 'Bless', 'doubt,', 'binge', 'crossed.', 'fame-obsessed', \"celebrities'\", 'yet:', 'kit', 'desperate.', \"Julia's\", 'Sri', 'Kaiju,', '(Charlie', 'collection,', 'house-mates', 'content.', 'falls.', 'overpopulated,', 'Investigative', 'Byers', 'life’s', 'bought,', 'terrorising', 'Bradley', 'fundamentally', 'WikiLeaks', 'novella,', 'Maisie,', 'evocative', 'orc', 'orcs', 'Reports', 'dared', \"Who's\", 'planes,', '2012,', \"Gaffigan's\", \"humankind's\", 'Lemon', 'exacerbated', 'Homeless', 'martial,', 'incompatible', 'seducer,', 'glance,', 'complementary', 'city-wide', 'Colleen', 'junk', 'Nam', 'protégée', 'rockers,', 'Riot.', 'venerated', 'Gotham.', 'Call', 'lobbyists', 'laws.', 'vistas', 'permeating', 'imprinted', 'trillion', 'sickness', 'naturally.', 'stick.', 'She’s', 'swordswoman', 'raiders.', 'dwelling', '\"nice', 'predetermined', 'amount,', 'Fin', 'dude,', '\"Flying', 'steampunk', 'Luchan,', 'Rest', 'formed,', 'Cyborg,', 'timeline', 'Amazons', 'deserters', 'entity,', 'dwindle,', 'Conor', 'bedrooms', 'Hidden', 'treason', 'Divine,', 'topic.', 'Tab', 'Strait', 'Dawson,', 'uncertainty,', '(Berlinale.de)', 'Reel', 'trips,', 'portable', 'Ben’s', 'laboratory.', 'whistleblower', 'tender,', 'inquisitor', 'superstitions', '(Oscar', 'firepower', 'stakes.', 'delving', 'PKK', 'managers,', '(Huang', '(Wang', '2013.', 'heap', 'overwhelm', 'pretensions', 'Jep', 'nightclubs', 'Cordell', \"Monroe's\", 'contributed', 'embody', 'Arena', 'envelopes', 'occurrences.', '2013,', 'Oh', 'anecdotes,', 'mortality.', 'Chateau', \"d'If.\", 'Cristo', 'Fleece', 'Naughties', 'Smurf', 'Smurfette', 'Smurfs,', 'Papa,', 'Vanity', 'broadcaster.', 'androids', 'Transylvania,', 'Batwoman,', 'Sloan', 'Xian', 'pity', 'Marcelo', 'furious,', 'Sandler)', 'Lu,', 'problem?', 'Skipper', 'showcases', 'storied', \"Jobs'\", 'Clary', 'Shadowhunters', 'Mau', 'Roni', '1986,', 'make,', 'app', 'Jem', 'painterly', 'Tamil', 'Nadu', 'hailing', 'murders...', 'Shira', 'Belgium.', 'Yochay', 'half-vampire', 'explosions', 'Armored', 'lax', 'History.', 'staffed', 'messy', 'baby’s', 'survived,', 'binds', 'mothers.', 'obliterated', 're-establish', 'spanned', 'Radu', 'Stephan', 'rouses', \"Erdogan's\", 'clock.', 'Snake,', 'hen', 'Leafie', 'mother),', 'Alisa', 'Captains', 'better?', 'inquiry', 'practitioners', 'Kowalsky', 'retiring.', 'strikes.', 'Adan', 'dropout,', 'friend?', 'Rai', 'funky', 'Kaz', 'Terri', 'grandfather’s', 'dredges', 'eroding.', 'formative', 'boggling', 'practises', 'Brandy', 'horseshoe', '\"Hawking\"', 'PhD', 'Rosalinda', 'Marci,', 'Adib', '(Alexander', 'clean.', 'mind-bending', 'gymnast', 'deceased,', '26th', \"brother-in-law's\", '5.', 'like-minded', '\"Zambezia\"', 'falcon', 'margins', 'Trip,', 'twentysomething', 'Nieuwe', 'reserve', 'higher.', 'murderous,', 'assert', 'well-organized', '22nd,', 'Kanemi', 'collateral', 'Rousseau', 'Jakarta,', 'unyielding', 'Motel', 'travelers,', 'bipolar', 'hostility,', 'Stitches', 'lyrics.', 'Santo', 'Brasilia', '80s.', 'wanderings', 'injury.', 'supporter', \"website's\", 'Papua', 'Sardu', 'fake.', 'Split', 'Lea', 'Lea,', 'Dawkins', 'Krauss', 'promoting', 'rodents,', 'Tide,', 'Shibuya', 'veins.', 'multiply', 'survive?', \"Bloom's\", 'Skylar', 'long-held', 'Cavanaugh', '(still', 'acts,', 'pre-Civil', 'riots', 'Neo-Nazi', 'Interviews,', 'uncommon', 'unimaginable.', 'belies', 'unrelenting,', 'circling', 'fresh,', '(Jenna', 'Baba', 'Bartok', 'commute', 'dripping', 'pipes,', 'detours', 'samples.', 'excavation', 'Zisman', 'Ranvir', 'Rajiv', 'Sophia,', 'Shaina', 'bones,', 'defense.', 'conning', 'Gwang-hae', 'HEO', 'Kyun', 'Ha-sun', 'morale', 'king’s', 'Maron', 'dissects', 'self-loathing', 'Croatian', 'hyperactive', 'Ariane', 'wintry', 'concepts', 'contradiction', 'religions', 'preach', 'Dawkins,', 'high-paying', 'calling.', 'Standup', \"Ansari's\", 'justified,', 'Man,”', 'Zheng', 'inseparable.', 'Avengers,', 'Vigilante', 'euros', 'glamourous', 'emergent', 'narratives', 'long-forgotten', 'belong,', 'fjord,', 'Shiki', 'Straw', 'Luffy', 'woman;', 'Everdeen', 'Peeta', 'Winning', 'Dwarves,', 'fantasy-adventure', 'Ronin', 'Kai,', 'plundered', 'psychokinesis,', 'retrace', 'whistleblowers', 'Iceland', 'donations', 'ex.', 'Rohit', 'smoggy', 'Population', 'Sarajevo,', 'store?', '2\"', 'Pål', 'Gasback', 'Carrillo', 'decides,', 'Morales', 'Colombia,', 'maestro', 'securities', 'Meth', 'installations', 'Gamera,', 'Gamera', 'love:', 'wedlock', 'Violette', \"Violette's\", 'GRAVE', 'Nagisa', 'Gerri', 'plains', 'Rudd)', 'whip-smart', 'disappointing', 'Isabelle,', 'Factual', \"Challenger's\", 'wrongdoings.', 'suppressing', 'snooping', 'activist,', '\"Operation', 'fiction,', 'Dimmsdale', \"fairies'\", 'Armstrong’s', 'cycling.', 'doping', 'sports.', 'Noam', 'Chomsky', 'hand-drawn', 'nearby.', 'hitched', 'Grégoire', 'fashions', 'Kamina', 'vastness', 'Elio', 'pup,', 'disliking', 'Ridley', \"Channel's\", 'Freda', 'Demetris', 'translator,', 'Ezio', '(Fabio', 'welcome,', 'they’ve', 'Bogdan', 'Kolya', 'Saturn', 'whom,', 'Caucasian', \"Christmas'\", 'Vowing', 'ball-playing', 'deteriorated', 'Torsten', '(using', 'rampant,', 'Lynx', 'Dubai,', 'Roohi', 'sagas', 'Gerlinde', 'Progressive', 'sea...', 'procured', 'scenario.', 'Europe’s', 'Borgman', 'Ennio', 'you’re', 'doubled', 'Internet,', 'icon,', 'ACP', 'Goa.', 'congested', 'Yearning', 'Card', 'Octavius', 'governments.', 'count,', 'EMT', 'Toys', 'Dollman', 'Ava,', 'Vegucated', 'agriculture', \"Mumbai's\", 'Jojo', 'geek.', 'transsexual,', 'Beerus,', 'Frieza', 'Amadeo', 'dirtiest', 'too!', 'Slug', 'Guillaume', 'Urals.', 'strangest', 'Jimbo', '40-year', 'locking', 'Prison.', 'undead.', 'rapid-fire', 'Rajvinder', 'incurred', 'Sikh', 'ridicule,', 'pieces.', 'over?', 'baccalaureate,', 'apocalypse,', 'visceral', 'scoop,', 'exist!', 'Reaching', 'L.A.P.D.', 'Channing', 'stopped,', 'GIA', 'Algiers', 'jihadist', 'made-for-TV', 'cleared,', 'bystander,', 'extraordinaire', 'Gaut', \"crook's\", 'Johan,', 'badge-wearing', 'Eleanor.', 'Benno', 'aptly', 'Haden', 'Niamh', 'Hai', '(Deepika', 'Padukone),', '(Ranbir', \"Reggio's\", 'game-changing', 'JW', 'glimmers', 'illusion.', 'Celestine', 'Tunisia', 'Ludmila', \"strip's\", 'Banshee', 'Chapter', 'kick-start', 'sleight', 'Jay.', 'Yusei', 'Jaden', 'plesiosaur', 'course:', 'Pim', 'Yvette', 'Pim’s', 'Trevor,', 'Machines', 'later?', 'Institute.', 'cannibals,', 'attractions', 'mind:', 'commitment,', 'Harvest', 'Jakob,', 'cautious', 'Proving', 'Catch', '(Maia', '\"Wet', 'Overflowing', '\"Teen', 'instance,', 'SEALS', 'over-the-hill,', 'belly', 'Mona,', 'Lego', 'OmniCorp', 'part-man,', 'Crunch', 'Aiden', 'Aiden,', 'grocer', 'Batignole', 'grocery.', 'Pierre-Jean', 'reenact', 'N.', 'Own,', 'cartels.', 'Malaysia,', 'Singhania', 'Dilwale', 'Dulhania', 'Jayenge', 'Pardes', 'Westernized', 'stepbrother.', 'Titans,', 'Toro,', 'Gilliam,', 'unconventional,', 'Zixin', 'haggard', 'Shen', 'adjacent', 'closet.', \"hacker's\", 'toiling', 'deep.', 'Dragonmon', 'Cowley', 'K2', 'summit.', 'touristic', 'psychotherapist,', 'inappropriate', 'demolishes', 'sexualizes', 'violation', 'Peabody', 'pastime', 'birds.', 'cheeky', 'alas,', 'upheavals', 'Beneath', 'Chess', 'Malibu.', 'townsfolk.', 'scare.', 'billed', 'Gaza.', 'Romain', 'Víctor', 'fright', 'Painter’s', 'Sayaka', 'Mata', 'Nui', 'crumble', 'ocean,', '2D', 'Miguel,', 'deepen', 'synonymous', 'manga,', 'Spirit', 'blogger', 'prank,', 'price?', 'Xerxes', 'Themistokles', 'navy.', 'Mindy', 'feigns', 'Front.', 'Cross.', 'Skenvi', '(meaning', 'cricket', 'parks', 'unplanned', 'Assad', 'recognizing', 'Above', 'IQ,', 'abstraction', 'Trump', 'Tat', 'adore', 'Industrial', 'Chiko', 'disheartened', 'persistence,', 'neglecting', 'Varlam', 'sculptor,', 'Model', 'simplicity', 'mantle', 'Fábio', 'Miá', 'Beto', 'VIP', 'bothersome', 'Hermínia', 'bounced', 'Jerry.', 'tanned,', 'trinity', 'weeklong', 'balloons', 'pious,', 'Botswanga', 'Bobo', 'freshly', 'discourse', 'Hardly', \"'Mary\", 'piling', 'Pioneer', 'meters.', 'strings.', 'irreversible.', 'Kondo', 'Effect', 'idolized', 'Bouvier', 'Suttel,', 'Des', 'vivre', 'abounds', 'Chefs', 'disembark', 'one-eyed', 'right!', '(lead', 'brother)', 'Arnel', 'Rudolph', 'treachery,', 'Hitler’s', 'obeying', 'extra.', 'Hercules,', \"accountant's\", 'Indonesia.', 'Alexandre,', 'makeover', 'safe-cracker', 'dense,', 'insider', 'Defense,', 'cancels', 'measures.', 'Lipwig', \"land's\", 'subject:', 'reality:', 'NFL', 'pick.', 'plague-ridden', 'OR', 'DIE', 'Zoey', '\"family\"', 'ruins.', 'Deth,', '20th-century', 'Ghul', 'Damian', \"Ra's\", 'phenomenon.', 'dinoshark', 'eaten,', 'les', 'condensed', 'now!', \"Iglesia's\", 'Archaeologists', 'Jewel', 'psychics,', 'deceiver', 'Saved', '(Shinya', 'Tsukamoto)', 'mortal,', 'Ahlo', '100th', '79', 'Ely', '10mn', 'theirs,', 'Aleksandra', 'Dinosaurs', 'cub,', 'octopus', 'Jodorowsky', 'undertaking', 'Below', 'barista', 'burn,', 'harebrained', 'Dido', 'Mansfield', 'affords', 'simple:', 'Jews,', 'refugee.', 'souvenirs,', 'logic.', 'Newlywed', 'Gaffigan', 'Dubbed', 'Scarecrow,', 'Chef', 'zest', 'pill-popping', 'freedoms', 'completely.', 'Worricker', 'We’re', 'pythons', 'decimating', 'alligators', 'rampages', 'Westside', \"Pug's\", 'coverage', 'Aurora.', 'Levonna', 'Lamar', \"Lamar's\", 'Scooby', 'Cena,', 'Clay,', 'Miz', 'Jodorowsky’s', 'uprooted', 'last!', 'arrival.', 'again...', 'loop.', 'eradicating', 'pickpockets.', 'fastball', 'outed', 'Supported', 'deteriorates,', 'pathway', 'within,', 'cycles', 'outbreak,', 'Group,', 'procure', 'Rockefeller,', 'Company\"', 'Rapunzel', 'Pascal', 'sticky', 'goings-on', 'Crippled', 'cyber-attack', 'cripples', 'minefield', \"born'\", 'Mobster.', 'Break.', 'freshmen', 'idly', 'helpless,', 'Joby', 'Astrid,', 'masturbating', 'Idiot', 'probation,', \"Marvel's\", 'Hydra', 'Transformer', 'Hera', 'twenty-nine', '5000', 'devote', 'all-terrain', 'Makoto,', 'Delving', 'Bablu', \"Manu's\", 'Babloo', 'Manu.', 'Manu,', '2015.', 'badass', 'translation', 'Shekhar', 'Angeliki', 'persist', 'Propst', 'physically,', 'seeming', 'realtor', 'Saeki', 'Cory', 'Cory’s', 'boy...', 'reputations', 'Land\"', 'celebrity-obsessed', 'validate', 'theory.', 'ceasefire', 'blackly', 'Purge', 'dead?', 'Barney,', 'Stonebanks,', 'co-founded', 'Ki', 'god.', 'labors', 'screen!', 'Hope,', 'agencies', 'interest:', 'Aidan', 'Bloom,', \"cafe's\", 'Caleb,', 'Ephraim,', 'groom-to-be', 'crazy,', 'Machine', 'leadership,', 'el', 'jaw-dropping,', 'breakfast,', 'phones.', 'Largo', '\"Video', 'Games:', 'design,', 'gurus', 'Atari', 'Sharktopus', 'truth?', 'pillage', \"Brown's\", 'Kylie', 'bygone', 'parched', 'savannah,', 'Maki', 'Pasha', 'Squad.', 'Trail', 'biking', 'webcam', 'subtitles.', 'Foot', 'Clan', 'cope,', 'it…', 'kitchen,', \"teen's\", 'eases', 'Antboy.', 'Flea,', 'Bøgh', \"'\", 'Deunan', 'Kalabar', 'website,', 'Punk', 'believes.', 'lives:', 'off-the-grid', 'Monetary', 'ex-', 'Monkki', \"'s\", 'Jouni', 'Kaan', 'shadows.', 'smile.', 'intentions?', 'birding', 'catacombs.', 'Tul', 'Jesús', 'Facebook', 'Brad,', 'unexpected.', 'Amendment', 'Moog', 'Pinon', 'coherent', 'claustrophobia', '\"Holy', 'Saori', 'Seiya', 'Sanctuary', 'Saints,', 'Carry', 'Xiaojun', 'Visa', 'tutorial', 'miserably', 'Sharknado', 'Mathias', 'Girard', 'Sanfur', 'fatherly', '17,', 'fastidious', 'mime', 'holidaying', 'cowardliness', 'Briggs,', 'donna', 'Ruan', '24.', 'Cheung,', 'Women.', 'Passionate', 'retires.', 'Boys:', '(2009).', '(Mike', '(Shane', 'whiz,', 'Fat,', 'grown,', 'tattered', 'desolate,', 'captives,', 'snipers', 'podcast', 'co-host', 'tasted', 'cheats', 'Malcom', 'begins...', 'Deaf', 'Sergey', 'horns', 'cartoons', 'Fascinated,', 'Deren’s', 'rings,', \"Vlad's\", 'initiation', 'Regent', 'child-stealing', 'Midas', 'Box.', 'Erotic', 'framework', 'experimenters.', 'Tripod', 'Cleaver', 'Max\"', 'Suki', 'thought...', 'Scrat', 'acorn.', 'Noisy', 'Alla', 'i', '1989.', '(film),', 'idiocy', 'Clavius,', 'perks', 'Wick', 'meds', 'volumes', 'arguments', 'Durant.', 'Wardaddy', 'bawdy,', 'transitional', 'answers,', 'scarily', 'Brea,', 'abound,', 'behave', 'gum', 'comedic,', \"Deanna's\", 'Corbeck,', 'prophesy', 'sporting', 'achievement', 'S.W.A.T.', 'Hiro', 'vacate', 'rooted', 'Creature,', 'responsibility,', 'cognitive', 'System', 'destructive,', 'comical,', 'Avengers', '(Lu', 'Pirita', 'Aslak', 'William’s', 'exuberance', 'has.', 'Ealing', \"Bonnie's\", 'minimal,', 'enjoyable', 'min', 'Raif', 'Thank', 'Ratter', '(Chow', 'Yun-Fat),', 'Seal', 'Skipper,', 'Stacie', 'Littlefoot,', 'Longneck', 'Doe', 'Sharptooth', 'ferocious,', 'himself!', 'Brauchman', 'Ava', 'Gangsters,', 'detail:', 'Chen-Li,', 'intimidated', 'Kumiko', 'workshop', 'Max’s', 'comrades,', 'patchwork', 'presenter', 'kidnapper,', 'fairground', 'Pest', 'seats', 'demolished.', 'Foxcatcher', 'Jing', 'Monday', 'lives...', 'ounce', 'Hollow.', 'Dust', 'Tinker', 'Tyson.', 'Gunnery', '(Ryan', 'share.', 'Ivo', 'León', 'armies,', 'uncut', 'Scarafoni', 'Raquin.', 'Laurent,', 'Richard,', 'Stalingrad', 'Scarecrow', 'tale:', 'behold,', 'careening', 'Least', 'bloodstained', 'Zombies', 'Pyncheon', 'singer/songwriter,', 'hiatus.', \"Ko's\", 'homeroom', 'tabs', 'frightener', 'Deon', 'Ye', 'Xiang', 'Xiao', 'Rudo', 'Seediq', 'Bale', 'oppressors.', 'Johannes’', 'pointing', 'Kara', '(Scott),', 'nap', 'Bletchley', 'baby-sitter', 'Franck,', 'catharsis.', 'dragons.', 'Viviane', 'Bahari', 'satire,', \"Bahari's\", 'Service.', 'down-on-her-luck', 'lodge.', 'Kappa', 'nanotechnology', '(Aidan', 'equilibrium', '\"danger', 'explained', 'Yobi', 'Geum', 'Jetson', 'Burnham', 'blocking', 'McGregor', 'retina.', 'Dylan’s', \"Hardy's\", 'cathartic', 'painted', 'What’s', 'impeccable', \"Thomas'\", 'teachings', 'sins.', \"villagers'\", 'themed', 'Painted', 'Skin', 'minds,', 'Amira', 'Bassam', 'Matty', 'intervene.', 'Goa,', 'Jesper', 'moon?', 'Sigurd', 'everyday,', 'Condemned', 'Friend?', 'Virunga', 'habitat', 'anchored', 'disappointed.', 'flowing', 'fort', 'Buddhism', 'Saoirse', 'DEVA', 'prosthetic', 'Noni', 'swimmers', 'Morrow', 'maritime', 'reveling', 'Ying,', 'Niehu.', 'icemen', 'transferring', 'defrosts', \"Philip's\", 'Heiden', 'Poitras', 'Snowden', 'absorb', \"Logan's\", 'malevolence', 'Danita', '\"10\"', 'Lanze', 'laptop', 'investor,', 'Exhausted', 'Pass', '(Kyla', 'Pratt)', \"Maya's\", 'Read', 'Elisa', 'hooking', 'Apollo,', 'advertising,', 'linguistics', 'Worst', 'Grumpy', 'Chyrstal', 'Gladers', 'BDSM', 'ironclad', 'demystify', 'really,', 'showrunners', 'show’s', 'creative,', 'Shaggy,', 'movie!', 'Dinkenstein', 'world!', 'midget', 'Competition,', 'Glover', 'Stand-Up', 'ins', 'Katya.', 'Katya', 'Penguin,', 'lorry', 'Rosco', 'choices,', 'congressman,', 'Pacquiao', 'System,', 'intercontinental', 'Mäddy', 'wine,', 'doorbell', 'lately', 'activity,', 'predicament,', 'circuits', '35-minute', 'Finn’s', \"Thailand's\", 'progress.', 'intellectuals', 'Aleksei', 'shocker', 'rivalries.', 'Merrimette', 'tanks', 'withhold', 'literally.', 'step-dad', 'Lyndon', 'Rights', 'Huerta', 'Gemma', 'real-bearded', \"'I\", \"Claus'\", 'Nightingale', 'philanthropist.', 'place:', 'Fillmore', 'Magic', 'Barnets', '1888', 'ruled.', \"Tut's\", 'Tablet', 'breakthrough.', 'sculptures,', 'lantern', 'communication,', 'Nomura', 'Bayu', 'ought', 'miniseries,', 'Pyongyang', 'retail', 'conglomerate,', 'Lamorna', 'Lutie', 'Raf', \"Taylor's\", 'Pennington.', 'Nutcracker', 'Hereward', 'Kabul,', 're-live', 'times!', 'Room.', 'jokes,', 'itching', 'flu', 'Wilkins', 'components', 'Agustín', 'taping', 'trees,', 'suspense.', 'ghouls', 'Prophet', 'Revelations,', 'page.', 'Helena.', \"McGovern's\", \"UK's\", 'Marius.', 'Panisse,', 'Pips', 'Batty', 'Sharpe', \"Wellington's\", 'Hurst', 'Tan', 'K,', 'Stacks', 'recommendation', \"PK's\", 'commentator,', \"D'Souza\", 'digest', 'Room,', 'Marin.', 'album\"', 'Joke.', 'enthusiastically', 'prodigy.', 'Chappie', 'bathroom,', 'Baltic', 'Mulaney', 'DVD.', 'self-deprecating', 'competitiveness', 'MCA.', 'photojournalist', 'cadre', '(Jean-Paul', 'Belmondo)', 'Rey,', 'carriage', 'Pasquale', 'Basilicata', 'Roma.', 'cerca', 'deve', 'tre', 'viene', 'sacerdote', 'si', 'alla', 'però', 'conto', 'è', 'commedia', 'Sordi', 'talentless', 'middling', 'moglie', 'lo', 'fuori', 'amici', 'Ji-wook', 'protect,', 'reconciles', 'briefcase,', 'B-Dawg,', 'Mudbud,', 'moon!', 'manufacturer,', '101', 'busking', 'dean', 'left...', 'Hopeless', 'Hungover', 'premises', 'Infected', 'autumn,', 'imminent.', 'Jade,', 'Tad', 'Odysseus', 'genocidal', 'Slava', 'mirroring', 'Jabez', 'explain.', 'cutting-edge', 'Stull,', '(Rebekah', 'Eun-soo', 'chefs', \"Muldoon's\", 're-ignites', 'Thunder', 'marginal', 'foretold', '1880s', 'Phoenician', \"Aachan's\", 'unidentifiable', 'Pyo', 'embassy.', \"Pyo's\", 'Cannibal\"', 'couldn’t', 'GO', 'fastest-rising', 'skill.', 'haywire,', 'beanstalk', 'snarling,', 'grounded', \"Gareth's\", 'Tim.', 'Elise', 'Hickok', 'improbably', 'haywire', 'Lota', 'Bishop’s', 'Dans', 'Thomasson', 'mercenary.', 'everthing', 'questioning.', 'Minister,', 'anti-hero', 'rare.', 'Them', 'Ehrlich', 'Year-Old', 'Virgin,', 'bite.', 'legacy...', 'mutilation', 'Winnetou', 'Genesis,', 'animated,', 'teeth.', 'contrived', 'Comanches', 'snubbed', 'illustrious', 'Firebase', \"Littlefoot's\", 'Pterano', 'dinos', 'understated', 'North.', 'ex-vaudeville', 'jealous.', 'Rika', 'waving', 'Cera,', 'Petrie', 'Tadlock', 'feel,', 'lowrider', 'Amsterdam,', 'Comics.', 'manslaughter', '\"Hercules', 'movie-length', '\"Hercules:', 'Journeys\".', 'inhuman', 'exhibits', 'Young)', 'Buddha,', 'cheering', 'Paws,', 'Cammy', 'traps,', 'Pups', 'Drex.', 'Canine', 'Megasis', 'friends...', 'Alastray', 'supplies.', 'ER', 'electrocuted', 'Kaitlyn', 'relied', 'altar,', 'Fra', 'Diavolo', 'Hardy.', 'Rascals', \"grandma's\", 'Rhys', 'interfered', 'Stick', 'unstoppable.', '(Oliver', 'uncouth', 'furthest', 'Ultron', 'threats.', 'obstacles,', 'Deadpool', 'regulate', 'Apocalypse,', 'Elsa.', 'Drexel', 'they’d', 'scales', 'enforcement.', 'Mazur', 'Olga', 'leisure', 'Dodgson', 'Swear', 'patented', 'Keys,', 'Clarke', 'commandeer', \"'My\", 'perceives', 'Hazen', 'stand-up,', 'Jim’s', 'happening,', 'options:', 'Sobolev', 'Jeong', 'Yeon', 'proposition.', 'Xiao,', 'metaphorical', 'spotlights', 'reef,', 'Marketing', 'become,', 'Gerda', 'Esposito', 'Mole', 'enclave', 'Staying', 'T-Rex', 'Manta', 'recorded.', \"Impy's\", '(German:', 'dem', '(excerpt', 'Atsumi', '\"Le', 'petit', 'dismantling', 'Anina', 'trouble:', 'Tae-seok', 'Sal-soo', \"Sal-soo's\", 'Dix,', 'Plane', 'reconnecting', 'Daikichi', 'Rin', 'Riley)', 'Isi', 'Disi', 'Halloweentown', 'Rubber', '2005,', 'breathless', 'nuts.', 'Anna’s', 'Doomsday', 'Cayden', 'Ridge', 'Dive', 'transcontinental', 'fine.', 'crackdown', 'Outrage', 'Beyond.', 'neuron', '(Jeong', '40s,', 'easy-going', 'visiting.', 'Board.', 'into,', 'videotape.', 'imposes', 'ludicrous', 'Dominik', 'captor.', 'act)', 'taxes,', 'Milgram', 'administering', 'dream-chasing,', 'multigenerational', 'Lampoon,', 'Lampoon', 'Dressed', 'depth', 'Film:', 'made;', 'code,', 'looming,', 'fragile,', 'agendas,', 'dissertation', 'oral', 'burglaries', 'Frightened', 'basements', 'smartly', 'gastronomic', 'lawyers.', 'muses', 'exploration,', 'earth’s', 'Evilenko', 'Vadim', 'Vidal', 'blackout,', 'IV:', 'venereal', 'nod', 'Susannah', '60-year-old', 'hostess.', 'French-German', 'Juliette.', 'Scourge', 'half.', 'Hexx', 'Reg', 'Fandor', 'Martialle,', 'Informed', 'uccidere', 'giallo', 'Luigi', 'up\"', 'Kinetech', 'lackadaisical', 'mythology.', 'pulse', 'Russel', \"guest's\", 'Sune', 'Håkan', 'malls', 'all-nighter', 'disconnected', 'Inc.,', 'bromance', 'pals.', 'Gaben', 'frayed', 'Lali', 'escapade', 'specialises', 'heals,', 'before!', 'Benny,', 'rants', 'Alps.', 'learnt', 'archipelago', 'appearances.', 'micro', 'Stockholm...', 'är', 'Jönssonligan', 'sig', 'och', 'empty.', 'vibrancy', 'Célestine', 'María,', 'María', 'Shizuru', 'sake,', 'Timbuktu', 'typewriter', 'reawaken', 'Artifact', 'Choice', 'Giant.', 'trash,', 'Rock:', 'Bigger', 'racism,', 'Stunts', 'Birbiglia', 'moving,', 'Lilo,', 'Stitch,', 'Jumba', 'assailant,', \"d'une\", 'soleil', 'monde', 'autopilot', 'Mirabella', 'toilets', 'Banklady', 'Gisela', 'Germany’s', 'reserved,', 'jets', 'Knobel', 'country’s', 'apathy.', 'forests,', 'Iverson', 'misinformation', 'trivial', 'bookshop.', 'arrivals', '(IMDb.com).', 'Kali', \"Carlin's\", 'awfully', 'sweet.', \"Dubaye's\", 'Giacomo', 'uomini', 'Connection,', 'Motoko', '501st', 'Kusanagi', 'Togusa', 'contained.', 'Graça', 'Zuleika', 'Graça.', '(Aamir', 'Munna', 'Babbar)', 'ideals.', 'Bulger', 'Bulger,', 'mythology,', 'scavenged', 'Bizarro', 'Renee', 'Simon.', 'Mardock', 'Balot', 'blurring', 'Ring,', 'voluntarily', 'harbored', 'Hemingway.', \"Nobita's\", 'Sewashi', 'Nobita', 'Doraemon', 'beastly', 'skeletons,', 'ON', 'investigation...', 'past!', 'Heineken', 'tasty', 'rallying', \"bear's\", 'focused,', 'riffing', 'Interwoven', 'Bougainville', 'curb', 'Clow', 'Kinomoto,', 'Cards,', \"Sakura's\", 'Gwendolyn', 'Lucile', 'Noll', 'Prior', 'Sandhya', 'weight.', 'treading', 'Minos,', 'Guts', 'men?', 'Boov', 'Toaster', 'Master\"', 'sheikh', 'pigeon,', 'PTSD', 'atone', \"terrorists'\", 'tentacles', 'Sieger,', 'Sieger', 'Marc.', 'interview,', 'Sadako', 'Ryougi', 'marsh,', 'marsh', 'savage,', 'Vermont.', 'primordial', 'Lionsgate', 'Flowers', 'Foxworth', 'covers,', 'Blanc)', 'Vasia,', 'Vasia', 'gardens', 'Shoji', 'Muraoka', '(Bunta', 'inequality.', 'disbelief.', 'informative', '(Silvio', 'Martino', 'longest-running', 'Ra', \"Gou'ald\", 'self-esteem,', 'shoulders,', 'Hui', 'Buh', 'norm', 'Save', 'decrees', 'Grünbaum', 'Furious,', 'App', 'Seizing', 'dice', 'aunts,', 'undersea', 'statute', 'expired', 'Meiji', 'Orphans', 'Door', 'intervenes,', 'stingy.', 'contemplate.', 'paralysis,', 'Iliza', 'women’s', 'attire,', 'Mo,', 'Goes', \"Men's\", 'Roth.', 'relearn', 'Len,', 'forays', 'husband?', 'Charleen', 'oil.', 'selection', 'S.A.S.', 'tunnel,', '3D\"', 'habitable', 'Kentaro', '(Haruma', 'Miura)', 'Kyuzo', 'Miyabe', 'deposed', 'Myeongryang', 'warships', 'Yi.', 'depth.', 'Midwest,', '\"Our', 'harmony,', 'cartridges', 'Jahnvi,', 'Gaining', 'Anand', 'Adaline', 'unify', 'up-close', 'Sinatra’s', 'coordinate', 'surrenders', 'jet-black', 'wreck.', 'roasters,', 'Ballot', 'Lithuania', 'Erna', 'GMOs', 'Tcheng’s', 'Dior', 'privileged,', 'collaborators.', 'melding', 'magical.', 'J.K.', 'Rowling', 'dollars)', 'Zarina,', 'progressing', 'Pokémon.', 'hung-over', \"Mafia's\", 'Roast.', 'Emanuelle', 'Ajay', 'Rathore', 'Hassan.', 'Rajasthan', 'Crowd', 'resilience', 'second.', 'Shirin', 'Hyeong-Do', 'partnering', \"Hyun-Yi's\", 'Su-Yeon', 'all!', 'Gon', 'Hobb', 'dolls,', 'Elina', 'Guardian', 'Laverna', 'baker,', 'Isla.', 'Blair’s', 'Inside,', 'Alexa', 'Nori,', 'Barbie:', 'brunette', 'Merliah,', 'Merliah', 'Rosella', 'self-centred', 'Lumina', 'Mariposa', 'Zee', 'Flutterfield,', 'Shimmervale.', 'Thumbelina', 'rainbow', \"Rapunzel's\", 'Plains', 'Jochem', 'harassment,', 'surfer.', 'livestock,', 'Gregori’s', 'resolution', 'Heinz,', \"Ashley's\", 'Fitz', 'Bellas', 'tagging', 'players:', 'octane', 'preening', 'Roses.', 'Cannibal', 'Hoppy', 'larger,', 'Bombay.', 'Su-ta', 'Cut.', 'Anatoli', 'Yefremovich', 'Novoseltsev', 'statistics', 'bossy', 'Grigorievich', 'Samokhvalov,', 'Prokopievna', 'Kalugina,', 'Samokhvalov', 'lightly', 'Kalugina', 'campers.', 'all-seeing', 'advancement.', 'acrimony', 'loggerheads', 'Bajaj', 'Shyam,', 'black-and-white,', 'handover', 'Ballet,', 'eighteenth-century', 'CCG', 'Georgi', 'Daneliya', '\"Afonya\"', \"drifter's\", 'Moscow\"', 'Petrov,', 'viewers.', \"General's\", 'earthquake,', 'Watney', 'good-for-nothing', 'Romi.', 'Romi', 'Sidharth', '(Rajat', 'Raunak', 'brilliance', 'outcome?', 'Raju', 'Punjab', 'tanks.', 'Nath', 'one-day', 'full-moon', 'Teens', 'BMX', 'President...', 'self-satisfied', 'Checco', 'Trista', 'ex-lover,', 'befitting', 'Graff', 'Whitman,', 'Morodian,', 'irrespective', \"Shatner's\", 'Fennan.', 'clues,', 'Books', 'Lessmore', 'enslaved.', 'Jab', 'composed,', 'Meera', 'Luv', 'Kush', 'luv', 'rudely', 'Joy,', 'Tanu', 'Delhi.', 'Edit', 'calculates', 'heroes:', 'Cinta', '(Nicholas', 'designers.', 'Andrey', 'Genetic', 'Magical', 'Ido', 'Gally', \"'Don't\", 'Story)', 'Mohammad', 'haywire.', 'R.L.', 'kilometres', 'disturbance,', 'Junior.', 'cooking,', 'Nando', 'Pezzella', 'Rizzo', 'Bodo.', 'Johannesburg', 'asteroid,', 'schemer', 'recruit.', 'Complex', 'shell.', '(real', 'become...', '2014', 'corporal', 'indescribable', 'indentured', 'Thane', 'half-elf', 'Teela’s', '(actually', 'covertly', 'Kaulder', 'Chopra)', 'Auto', 'Sakshi', \"Cameron's\", 'Stand-up', 'Iglesias', '\"Fluffy\"', 'Denmark.', 'Sordi)', 'Standing', 'Netflix', '(I', 'Dickinson', 'Vaskov', 'Guddu', 'Nirupama', 'Jhunjhunwala', 'Seema', 'Mahindra,', 'Gayetri', 'CBI', 'Shankar', 'Saab', 'Gauri', 'Madhav', 'US).', 'Shivani', 'Branch,', 'no.', 'Shah', 'Sharad', 'Kapoor', 'Aishwarya', \"Khan's\", 'Chandrachur', 'Ball', 'Mr.A', 'Sunehri', 'Te', 'Chao,', 'Chao', 'Sawa', 'imperfect', 'Choir', 'parent,', \"plane's\", 'Elmer', 'Chupacabra', 'goof', 'sidelines.', 'Minions', 'Bhoothnath', 'Returns', \"Bhoothnath's\", 'Kingsley', 'Pleakley', 'boast', 'Uffizi', '[Jason', 'behead', \"'Alice\", 'Alphas', '(Hiroki', 'Hideki', 'Nana', 'obituary.', 'Nana.', 'Ayaka,', 'Small', 'won,', 'Bloodsport', 'Gangrene', 'stopped?', 'Golgo', 'Nardi', '(Franca', 'Callan', 'Paulo.', 'humour,', 'Muylaert', 'structures', 'Championship,', 'Crestview', 'McDowell,', 'exile,', 'Hercules.', 'caretaker.', 'Scooby,', 'Scrappy', 'songwriting', 'Armando', 'Cristiano', 'Sly', 'Finishing', 'ghouls.', 'Colorado,', 'turbulence.', 'Lohse', '(Loriot)', 'Familie', 'er', 'und', 'nicht', '2.0', 'Sapien', 'America:', 'Arguing', 'Myself,', 'ventriloquism', 'progressed', 'Dunham', 'infamously', 'OK', 'Prep', \"Vader's\", \"kidnapper's\", 'Dev', 'self-destruction', 'Khosla', 'record-breaking', 'Kwan', 'namesake', 'hooliganism', 'assaulted.', '(Park', '(Jung', 'Hwa-yeon', '(Jo', 'heartfelt,', 'Mewtwo.', 'Arceus', 'Giratina', 'raptors', 'rot', 'Manglehorn', 'disapproval,', 'Freshly', 'meadow.', 'hive', 'trio,', 'avec', 'jeu', 'va', '3000', 'struggles,', 'entirely.', 'Novella', 'motherly', 'Trejo)', 'Pang', 'MacDonald', 'Chechnya.', 'Gare', 'Reinier', 'moneymaking', 'stranger-than-fiction', 'peculiarity', 'Kazuya', 'Mishima,', 'Heihachi', 'paradoxes', 'mysteriously,', 'football,', 'Kasper', \"sons'\", 'Chainsaw', 'Gein', 'Hokage', \"Fox's\", 'Naruto', 'Pitkin', 'SEALs', 'fix,', 'Rim', 'Eun', 'Ho),', 'blood-drinking', 'Pelican', 'Wizard,', 'all-animated', 'tails', 'Bullit', 'stripper.', 'Davide', 'streaks', 'squiggles', 'burns.', 'superimposed', 'celluloid', 'stained', 'we’ve', 'Malakian', 'dal', 'carcere', 'più', 'prova', 'sua', 'gli', 'songwriter,', \"Montreal's\", 'Bastien', '1.', '4.', 'Smooth', 'Stop', 'Garrett,', '9.', '13.', 'Songs', 'tracks.', \"Lizzie's\", 'high-wire', 'lifeguards', 'multicultural', 'improvement', 'Piero', 'sexes.', 'tra', 'quattro', 'loro', 'hanno', 'Irina,', \"Alessandro's\", 'grandma,', '(Raoul', 'Bova)', 'Mano', 'é', 'um', 'Ele', 'está', 'com', 'seu', 'irmão', 'mais', 'pelo', 'Artur', 'em', 'nos', 'Canadian,', 'cooperative', 'pupils,', 'Film,', 'Bitcoin.', 'Pakistan', 'archaic', '\"Siren', 'Chazers', 'long-serving', 'beat.', 'revolver.', 'farcical', '(Cem', 'Yılmaz)', 'onun', 've', 'Sait,', 'bir', 'Estelle', 'Roscoe,', 'Bardock', 'KISS', 'all-new,', 'combatants,', 'Dass', 'Kangana', 'Ranaut', 'Kusum', 'explode.', 'annihilated.', 'Emma’s', 'intimacy,', 'Adores', 'Pouring', 'Putting', 'Do-man', 'extensions', 'voluminous,', 'Madoka', 'Emiri,', 'hermetically', 'shepherds', 'Border', 'Mexico’s', 'Fess.', 'had:', 'Jung-Hwa', 'booth.', 'Cheol-Min', 'Manaphy', 'Faith’s', 'Prodigal', 'selfless', 'Yellowbird', 'verses', 'Altan', 'swipes', 'Leah,', 'Ark.', 'Louna', 'eighteen-year-old', 'Khalid', 'Hamra,', 'surroundings', 'hot,', 'biographies', 'Skulls,', '2020,', 'Aegean', 'demonstrations', 'Xiang,', 'Richard’s', 'volta', 'Terra', 'papa', 'Fantozzi', 'conversations.', 'Heaven.', 'storylines.', 'Fracchia', 'Filini', 'Mascetti', 'Asso', 'Cristina', 'Taddeus', 'Maria.', 'meters', 'Forty-something', 'Stud', 'ont', 'Chaque', 'être', 'te', 'endeavours', 'Genyo', 'Kamiura', 'bevy', 'sleepless', 'Young-gyu', 'Yu-ri', 'Sang-ho', 'Crystal,', 'Shaymin', 'Dialga', 'Reverse', 'enveloping', 'maintenance,', 'reinvigorate', 'observational', 'Ocelot’s', 'Yvan', 'vain.', 'Transitions', 'volcanoes,', 'volcanoes.', 'Slag', 'Kanjuro', 'Tae', \"grandparents'\", 'Arlequin', 'registering,', 'Otík,', 'Otík', \"Otík's\", 'Pávek', 'Lyudmila', 'Pavlichenko', 'Aviv,', 'Impressive', 'Elves', 'Lambert,', 'chaise', 'Darcys', 'Ultra', 'began,', 'lyrics,', 'hood,', 'reverberating', 'Homura', 'Puella', 'Magi', 'Magica', 'titans', 'titans.', 'Badiyanu', 'sophomore', 'planners', 'Georg', 'straddle', 'Sausage', 'Erast', 'Petrovich', 'Fandorin', 'upwards', 'Bedouin', \"Joseon's\", \"Sharpe's\", 'Johar', 'Dharma', 'Warrior.', 'soviet', '\"I\\'ll', 'Mapo', 'Brisebard', 'yes,', 'Oedo', 'Cyber', 'experts.', \"Voyager's\", \"Federation's\", 'bean', 'thank', '90%', 'dynasty,', 'LEE', 'Kyosuke', 'Aiko', 'Darkspore', 'Hae', 'Gook', 'Chiba', 'HA', 'wasteland,', 'wiser', 'Kunihide', 'Kiyomaru', '(Tatsuya', 'Carole,', 'Delphine,', 'lesbianism', 'Exclusive', 'notoriety.', 'aussi', 'sont', 'Lassalle', 'neurologist', 'theorists', 'Aoi', 'Shusei', \"Shun's\", 'timely', 'Platon', 'Zastupinsk', 'translating', 'Ippolit', 'Vorobyaninov', 'Ostap', \"wizard's\", 'Ogurtsov', 'meeting.', \"room's\", 'Leningrad,', 'Ihalainen', 'Inkubus', 'Ages.', 'Cream,', 'Hannan', 'Fabian', 'Agu,', 'Agu', 'layover', 'Albuquerque,', 'infamy', 'proceeded', 'arc,', 'Raikou,', 'unsupervised', 'Diamond.', 'Diancie', 'HR', 'greed.', 'Dov,', 'où', 'bande', 'toujours', 'Dov', 'Chochana', 'Tout', 'ce', 'sous', 'quartier', 'leur', \"qu'Eddie\", 'font', 'devenu', 'famille', 'décide', 'tous', 'abductor.', 'Jeremy,', 'Öllers', 'Niederländer', 'Hellinger', 'daughter;', 'Than', '(no', 'Gwangju', 'Camryn', '20,', 'forgoes', 'engagements', 'Augusta', 'Eren', 'Titan', 'Chauhan', 'Kancha', 'Theft', 'preference.', 'authorised', 'squat', 'spool', 'awe-inspiring', 'kebab', 'Ibo', 'Kurapika', 'Troupe', 'attaché', 'Ryuzo', 'Aldo,', 'Gérard,', 'grain.', 'brushes', \"Miriam's\", 'Tanya', 'Paymon', 'Varun', 'Shrivastav', 'Pakhi', 'provoking', 'Breanne', 'Brian,', 'Alexs', 'Invisibles', 'ouija', 'Boeun', '(Moon', 'Geun', 'Jungwoo.', \"Boeun's\", 'Sangmin', 'Won)', 'Ariana', 'Field.', 'Divya', 'Madan', 'Sharma', 'Garam', 'Masala!', 'Jeetu', 'Gundya', 'Surya', 'sickness.', 'goddesses', 'casually', 'Marrakech', 'widespread', 'grenades', 'Elisabeth,', 'Néné', 'gore', 'unqualified,', 'Ayiva', 'Burkina', 'Goob', 'beet', 'Maremma', 'Oddball', 'creativity,', 'Kahn', 'miserably,', 'resignation', 'Giger', 'molding', 'Messner)', 'Ronaldo', 'Experimental', 'gyrating', 'Montparnasse', 'Guibord', 'Clément,', 'Jodi', 'Alexander’s', 'Bittu', 'IRIS', 'HUMAN', 'Sangaile', 'Indigenous', '2014,', 'malfunction,', 'Prayer', 'Nabil', 'Samia', 'wavers,', \"Jean's\", 'Houston.', 'RJ', 'entice', 'fixer', 'quo.', 'Georgina', 'bricks', 'Buddhism,', 'grabbed', 'Greenwood', 'fostered', 'arena.', 'upset,', 'Micha', 'Mélodie.', 'Hirut', 'Meaza', 'Chai', 'wavering', 'Phil-sung', 'Ki-tae', 'Go-ni', 'Jeff’s', 'Anne’s', 'Ji-hyuk', 'CHO,', 'Yeo-hoon', 'Phobia', 'Beaulieu', \"Pim's\", 'inferno', 'Kong’s', 'Pillar', 'Myung-hoon', 'Wudang', 'well-trained', 'Wudang,', 'Dae-ho,', 'Young-ki', 'Vajra', 'Guan', 'Qi', 'Li)', 'missing;', 'Chun-dong', 'Joon', 'Kyung', 'Jeong-jo', 'Gap-soo,', 'Eul-soo,', 'Jeong-jo.', 'Gap-soo', 'Hwa-Yi', 'Yi-Hwan', 'Dol', 'Moo-Chi', 'Du-heon', 'Yu-jin', 'Ding', 'Jae-hyuk', 'thirst,', 'Sun-Young', 'Sun-Young’s', 'Dong-Su', '60th', 'adulation', 'Hyo-jung', 'Bi-dan', 'So-yeon', 'Tae-hun', 'In-Soo', 'Ha-Neul)', 'Cho-In', 'Sang-Hyun', 'Myeong-sik', 'Ah-rom', 'Gi-soo', 'examination,', 'Wong,', 'Rage', 'Won-kyu', '2001.', 'Jong-Woo', 'Sang-Gil', 'Hye', 'pastor,', 'Joo', 'Soo,', 'comeback,', 'secular', 'Luk', 'Luk’s', 'beauties.', 'Chen)', 'grudges.', 'hazy', 'founder,', 'Copeland', 'prodigious', 'avatar', 'Ishigami', 'identity?', 'Thierry', 'Marius', 'Marius,', 'tailor.', 'Sex,', 'Latina', 'Costi', 'detector', 'Downers', 'Ghosts,', 'fooling', 'Tunisia,', 'Thijs', 'Siu', 'Sin.', 'yield', 'Yusuke', 'woman...', 'Nak', 'Phra', 'Schumer', 'October,', 'under-appreciated', \"Grandma's\", 'Ela', 'poems.', 'quitting', 'Dirk', '38', 'Erika,', 'Mary-Kate', 'tops', 'driven,', 'Opera.', 'crocs', 'Lebrac', 'Treevenge', 'strung', 'marksmanship', 'scavangers', 'Jeongjo', '“Skinwalker', 'love...', 'Nikita', 'frogs,', 'Kishen', 'Kaushalya', 'Ranjeet', 'Suman.', 'approves', 'Sanjaylal', 'Sunder', 'Dubai', 'Patel', 'Patels', 'BMS', 'Janki', 'Jaiprakash', 'Sinha', 'Sahil', 'others?', 'Portugal', '1813.', 'Manav', 'Mamta,', 'Szabolcs', 'Middleton', 'blossomed,', 'swimming,', 'booms', 'ALL', \"Sethu's\", 'blindness.', 'Léonard', 'Shelter', 'Do-Hee', 'Young-Nam', '(lowest', 'entreprise', 'perdu', 'voiture', 'Ils', 'Hachikō', '\"Devchata\"', 'Muzafar', 'Feruz', 'Hornblower', 'Serafino', '31st', 'Iblard', 'regenerates', 'wine.', '3½', 'Gummi', 'Kiddi', 'riffs', 'adam', 'cüzdanı', 'Recep', 'İvedik', 'istiyor.', 'olsun,', 'breath.', 'chronophotographic', 'eCupid', 'viewer,', 'Canterlot', 'outshine', 'gushing', 'decimated', 'Arnulfo', 'Got', 'NBC', 'Víctor,', 'quarry,', 'Mikiya', 'murderer?', 'Touko', 'damaging', 'Truly', 'Matute', 'insolent', 'Hilarity,', '(Nina', 'Dobrev)', '\"SNL\"', 'herd,', 'Bonham,', 'Seung', 'Seo', 'Eleonore,', \"Europe's\", 'Religious', 'Sawney', 'prides', 'Sung', 'Ms', 'Schtettel', 'Hosts.', \"human's,\", 'Izumi,', 'co-exist,', 'humans;', 'Migi,', 'Cecilia,', 'Depeche', 'stepdad', 'Samaritan', 'shame.', 'forces:', 'Panthers', 'Vanguard', 'vibrant,', 'birthed', 'Ji-Woo', 'Jong-Ok.', '\"Finding', 'Gi-Joon', 'Da-Rim', 'Clumsy', 'Min-jung', 'Hyun', 'Yoon-Jung', 'scooter.', 'pledged', 'indirect', 'Scheherazade', 'Shahryar', '\"lost', 'Manmohan', 'Bebo,', 'Jasmeet', 'Bahia,', 'Krissy', 'Otsutsuki', 'Nintendo', 'Hyung-Joon', 'Ha-Young', 'Min-Jun', 'shady,', '\"thing\"', 'Austen’s', 'epitome', 'hurricanes', 'Joon-soo', '17-year', 'Beera', 'Auro', 'Chanel,', 'Dorinda,', 'Aqua,', 'Shiva', 'Vikram', 'Rowdy', 'Harleen', 'Rajveer', 'Bulgarian', 'Koro.', 'Vampirella', 'Arman', 'hooligan', 'pitch.', 'Eddie’s', 'anniversary.', 'opinion.', 'Xiaoyu', 'Yukie', 'Ashwin', 'Vázquez,', 'Adolfo', 'Ove', 'concentrate.', 'Wiener-Dog', 'Man’s', 'fascists', 'publicity.', 'Nightwing', '2017.', 'forestry', 'comédia', 'Hermanoteu,', 'Nunes,', 'countrymen.', 'miracle,', 'Invincible.', 'Nae-kyung', 'Mayu', 'Sheffield', 'Masetto', 'Kye', '\"Fingers\"', '(Milla', 'Asher', 'magma', 'seep', 'Antarès', 'somehow.', 'immersive', 'Amazon,', 'Neerja', 'surprises,', \"Dad's\", 'Finisham', 'responsibility.', 'holidaymakers', 'viable', '\"Bad\"', 'albums.', 'Yuji', \"Mio's\", 'reappear.', 'Paul-André', 'concluding', 'couple’s', 'jealousies', 'Hu', 'Bayi', 'Suhani', \"Aditya's\", 'Mustang', \"'Dick'\", 'vipers', 'Zlatan', 'rub', \"banker's\", 'recommendation.', 'Goltzius', 'Margrave', 'fanaticism', 'once-famous', 'Champak', 'heroine,', 'Yamada', 'Santa¹s', 'Sawako', 'Gengobe', 'Busan,', 'Sanjana', 'soak', 'Tahara', 'Venkenheim', 'Aakash', 'outhouse', 'further.', 'Jaane', 'Rahman.', 'Padukone)', 'Golmaal', 'ans', \"aujourd'hui.Ils\", 'dix', 'Sudeep', 'Bindu', 'Nani', 'Winky', 'wants:', 'Cernan', '(1968).', 'Yong-ju', 'Gi-woong', 'Gi-taek', 'tickling', 'thrice', 'Sartaj', '(Raj', 'Rana', '(Kareena', 'Kapoor).', 'Divya.', 'cinemas', 'much-feared', 'Ondra', 'Kooky', 'Kareena', 'Karishma’s', 'Krish', 'Ananya', 'Amaia', 'Rafa', 'Disco', 'says:', 'Dunark', 'whirled', 'Siya', 'Kubelka', 'sonar', 'Devon', 'rhyme', 'Livia', 'Leng', 'odd,', 'Chechnya,', 'flung', 'phases', 'oiran', 'Deva', 'hearing-impaired', 'Dass,', 'DVDs', \"Dass's\", 'affiliation', 'Haewon', 'Seongjun', 'Ranveer', \"Ava's\", 'Shiva,', 'paralysed', 'Amityville,', 'Rudy.', 'Puglia', 'Riccardo', 'glee', 'Collin', 'Henry’s', 'Oliver’s', 'Calling', 'extinct,', 'Apollo.', 'hilarious)', 'Jurek', 'Wracked', 'Gosch,', 'Kaavya', 'Huntsman,', 'Tanaka', 'moves,', 'pork', 'straps', 'Möbius', 'Financial', 'solution,', 'parents?', 'speedy', 'Carlson', 'superstars,', 'Billa,', 'Velu', 'Korea’s', 'caverns.', 'Tora', 'peat', 'Du', 'whiskey,', 'Gintoki,', 'Destino', 'Komori,', 'ils', 'imaginaire', 'Hengist', 'Nallore,', 'Central,', 'Tosh', 'Han-na', 'Ammy,', '(Valerie', 'success?', 'Zembla', 'flavors', 'Fatt', 'viral,', 'Novica', 'hierarchy.', 'testify,', 'Rotterdam', 'billion-dollar', 'business?', 'Gehringer', 'remarks', 'TV’s', 'BFG', 'Spending', 'CG', 'Bling', 'Prabhu', 'Akshay', '2015,', 'Claire’s', 'Atkinson', 'Oregon,', 'assimilate', 'Neruda', 'mentioned', 'Jiajia', 'Kaiser', 'Warner,', 'Melies', 'glossy', 'celebrate,', 'crane', 'vase', \"Barbarian's\", 'Secure', 'Abbe', 'Gacy', 'JANG', 'AHN', 'WOO', 'Nothing,', 'miniseries.', 'hypocrisy,', 'Stanaforth', 'Cruise', 'liars.', 'Birthday', \"preacher's\", 'Si-ying', 'Fritz.', 'Baird', 'speed.', 'Prabhakar', 'Deepak', '“OJ:', 'acquittal', 'volcanologist', 'Twisted', 'kids?', 'Kadee', 'Sanju', \"'poor'\", 'way?', 'Brittlehouse', 'Raghav.', 'Tarzan,', '(Marek)', 'Vanni', 'Constanza', 'Exhibit', 'vida,', 'Vee', 'Porter,', 'Puce', 'Moment', \"Luchino's\", 'Slack', 'Dazzled', 'bankrupt,', \"Norway's\", 'Estela', 'Morley,', 'Mouse.', 'Lucis', 'Niflheim', 'bachelorette', 'mama', 'Aria', \"Aria's\", 'Mekong', 'poltergeist', 'Kaido', 'Kido', 'gang’s', 'Leshia', 'Irving,', 'Mayfield', 'Cal,', 'fringes', 'Zygon', 'careering', 'Royston', 'Vasey', 'Suk-gyu', 'Li.', 'Tetris', 'Kubo', 'Raghav', 'Ravi,', 'Jiang', 'Sarman', 'Mohenjo', 'mice,', 'Ayouch', 'Marocco', 'trenta', 'Koyomi', 'Araragi', 'Kiss-shot', 'Acerola-orion', 'A.K.A.', 'Rintarou', 'Kurisu', 'Sibyl', 'SEAUn', 'Shambala', 'Float', 'Akkie', 'Melea', 'frenetic,', 'Mitsuha', 'gargoyles', 'René,', 'survit', 'imperfectly', 'Olli', '65-year-old', 'hoax.', 'Kyeong-Min', 'Jong-Seok', 'tourism', 'López', \"Romano's\", 'overambitious', 'Africa!', 'Po,', 'Shero', \"Friend's\", 'I.T.', 'Finley', 'Coventry', 'Pott', 'goblin', 'Eardrum', 'Slasher’s', '50s,', 'Luca', 'Luca’s', 'Wu-Lin', 'maniacs,', 'Pucheng', 'allocated', 'Zucchini', 'admire', 'Jinhee', 'dawn.', 'Katelin', 'up!', 'Moondance', 'Checkers', 'loner.', 'Raiders', 'Ballard,', 'stall', 'workplace,', 'Swap', 'Indonesia,', 'disused', 'Whitney', 'Osman', \"Willie's\", 'Coulson', 'Cinematic', 'trails,', 'Zmey', 'Seyolo', 'Seretse', 'Shiori', 'Mi-Soo', 'Kang-Il', 'cartoon,', 'tremendously', 'wish,', 'State,', 'Branka', 'Joschi', 'Shouya', 'Shouko', 'anti-tank', 'coral', 'Dorothea', 'Barrish', \"Neil's\", 'Nostalgia', 'Linkara,', 'Spoony,', 'Snob,', 'Critic', 'reviewers', 'CABBIE', 'Da-eun', '\"Complaints', 'Valkyrie', 'Guillotines', 'skirt,', 'kitten.', 'Poison.', 'Miroslava', 'Duke.', 'Hasan', 'crops,', 'Guttuart', 'Celtill', 'Bye', 'Batman’s', '(AKA', 'laziness', 'Ángel,', 'Susana', 'Tini', 'Lakshmi', 'thirteen-year-old', 'hut', 'Maigret', 'Rumah', 'Dara', 'Kumail', 'Arthur’s', 'Cairo,', 'French,', 'huntress', 'Fangtor', 'Gilly', 'weirdest', 'Rainie', 'what)', 'Hikaru', 'Rihito', 'solemn', 'Bok-Soon', 'Bok-Soon’s', 'Tae-Soo', 'anorexia', 'Walk', 'Dogg,', 'Gitty', 'Fögi', 'Mercredi', 'sardonic', 'Johanna', 'servitude', \"Raoh's\", 'Sanctuary.', 'Artemis', 'Seiya,', 'Hyōga', 'Eri', 'Shiryū', 'Dolbar,', 'cosmo', 'Sanctuary,', 'Bitcoin', 'Vida', 'Kam-An', 'judo', 'Fernanda', 'Nastya', 'Risa', 'Otani', 'Guyver.', 'Vegan', 'Dix', 'Argonauts,', 'Gadget', 'Hubbs', 'Chappelle', 'specials.', 'Flo,', 'euthanasia', 'Tiffani', 'cut-throat', 'stature', 'Jae-Hyeok', 'Delaney', 'visiting...', 'и', 'Артем', 'из', 'но', 'он', 'И', 'Теперь', 'на', 'Но', 'в', 'его', 'не', 'без', 'бой.', 'Он', 'За', \"animator's\", 'Macauley', 'Adama', 'Tim’s', 'Raúl,', 'Chun,', 'together!', 'Rothbart', 'Ackman', 'Herbalife', \"Maurice's\", 'Lich', '(segment', 'Akim,', 'Yu-Siang', 'Mitya', 'Doo-Sik', 'Jung-suk)', 'Doo-Young', 'Рафшан', 'Джумжуд', 'Vadik', 'Titeuf', 'Titeuf’s', 'Duca', 'Yangsheng', 'Shanghais', 'CHENG', 'Bridd', 'Clawdeen', 'Wolf™,', 'fangtastic', 'creeperiffic', 'ghoulfriends', 'Spectra', 'SKRM', 'Granite', 'Ghouls', '\"Normies\"', 'fondly', 'Khrapov', 'initials', 'Cycles', 'CDs', 'Beksiński', 'Toushirou', \"Myrl's\", 'Moltes', \"Corporation's\", \"Dane's\", \"Madoff's\", 'Animatrix', 'Osiris', 'mathmatics', 'Safeguard', 'Ustad', 'biriyani', 'Underworld:', 'Musard', 'Aiman', 'Suhaila', 'Rahim.', 'Rahim', 'Ayia', 'Valerian', 'Laureline', 'Alpha,', '\"found', 'footage\"', 'Lecomte', 'Mikel', 'Abahachi,', 'Abahachi', 'Byun’s', 'Lineu', 'Nenê', 'Nenê,', 'Zooni', 'Rehan', \"bull's\", 'Wile', 'Noiret', 'Surehand', 'Wabble', '“Ecstasy”,', 'Hatton', 'Dolf', 'crusade,', 'payday', 'Gauche', 'Scorpion”', 'Ajar,', \"Manickam's\", 'Sivaji', 'Alma’s', 'Castellón', 'Jean-Étienne', 'Fougerole', 'Jacquouille', 'Batmobile', 'Melly', 'cymbal', 'Devki'])"
      ]
     },
     "execution_count": 152,
     "metadata": {},
     "output_type": "execute_result"
    }
   ],
   "source": [
    "model.wv.vocab.keys()"
   ]
  },
  {
   "cell_type": "code",
   "execution_count": 141,
   "metadata": {},
   "outputs": [
    {
     "data": {
      "text/plain": [
       "[('home,', 0.9276938438415527),\n",
       " ('home.', 0.9088919162750244),\n",
       " ('house', 0.8914124369621277),\n",
       " ('hometown', 0.8833163976669312),\n",
       " ('family', 0.8715621829032898),\n",
       " ('business', 0.8701767921447754),\n",
       " (\"neighbour's\", 0.8637533783912659),\n",
       " ('missing', 0.8561801910400391),\n",
       " ('away', 0.8557971715927124),\n",
       " ('farm.', 0.8522328734397888)]"
      ]
     },
     "execution_count": 141,
     "metadata": {},
     "output_type": "execute_result"
    }
   ],
   "source": [
    "w1 = \"home\"\n",
    "model.wv.most_similar(positive=w1)"
   ]
  },
  {
   "cell_type": "code",
   "execution_count": 142,
   "metadata": {},
   "outputs": [
    {
     "data": {
      "text/plain": [
       "[('meet', 0.9158920049667358),\n",
       " ('start', 0.8950150012969971),\n",
       " ('stay', 0.8854762315750122),\n",
       " ('meet.', 0.8848627805709839),\n",
       " ('share', 0.8802503347396851),\n",
       " ('succeed', 0.8789283037185669),\n",
       " (\"students'\", 0.8769805431365967),\n",
       " ('ditch', 0.8764488101005554),\n",
       " ('return', 0.8737893104553223),\n",
       " ('move', 0.8723329901695251)]"
      ]
     },
     "execution_count": 142,
     "metadata": {},
     "output_type": "execute_result"
    }
   ],
   "source": [
    "w1 = \"live\"\n",
    "model.wv.most_similar(positive=w1)"
   ]
  },
  {
   "cell_type": "code",
   "execution_count": 147,
   "metadata": {},
   "outputs": [
    {
     "name": "stdout",
     "output_type": "stream",
     "text": [
      "['Led', 'by', 'Woody,', \"Andy's\", 'toys', 'live', 'happily', 'in', 'his', 'room']\n"
     ]
    }
   ],
   "source": [
    "vocab = list(model.wv.vocab.keys())\n",
    "print(vocab[:10])"
   ]
  },
  {
   "cell_type": "code",
   "execution_count": 153,
   "metadata": {},
   "outputs": [
    {
     "data": {
      "text/plain": [
       "[('meet', 0.9158920049667358),\n",
       " ('start', 0.8950150012969971),\n",
       " ('stay', 0.8854762315750122)]"
      ]
     },
     "execution_count": 153,
     "metadata": {},
     "output_type": "execute_result"
    }
   ],
   "source": [
    "model.most_similar(positive=['live'], topn = 3)"
   ]
  }
 ],
 "metadata": {
  "accelerator": "GPU",
  "colab": {
   "collapsed_sections": [],
   "machine_shape": "hm",
   "name": "Recommendation_Systems.ipynb",
   "provenance": []
  },
  "kernelspec": {
   "display_name": "Python 3",
   "language": "python",
   "name": "python3"
  },
  "language_info": {
   "codemirror_mode": {
    "name": "ipython",
    "version": 3
   },
   "file_extension": ".py",
   "mimetype": "text/x-python",
   "name": "python",
   "nbconvert_exporter": "python",
   "pygments_lexer": "ipython3",
   "version": "3.8.3"
  }
 },
 "nbformat": 4,
 "nbformat_minor": 4
}
