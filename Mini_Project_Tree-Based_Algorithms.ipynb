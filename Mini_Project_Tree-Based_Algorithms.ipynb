{
 "cells": [
  {
   "cell_type": "markdown",
   "metadata": {},
   "source": [
    "# Mini Project: Tree-Based Algorithms"
   ]
  },
  {
   "cell_type": "markdown",
   "metadata": {},
   "source": [
    "## The \"German Credit\" Dataset"
   ]
  },
  {
   "cell_type": "markdown",
   "metadata": {},
   "source": [
    "### Dataset Details"
   ]
  },
  {
   "cell_type": "markdown",
   "metadata": {},
   "source": [
    "This dataset has two classes (these would be considered labels in Machine Learning terms) to describe the worthiness of a personal loan: \"Good\" or \"Bad\". There are predictors related to attributes, such as: checking account status, duration, credit history, purpose of the loan, amount of the loan, savings accounts or bonds, employment duration, installment rate in percentage of disposable income, personal information, other debtors/guarantors, residence duration, property, age, other installment plans, housing, number of existing credits, job information, number of people being liable to provide maintenance for, telephone, and foreign worker status.\n",
    "\n",
    "Many of these predictors are discrete and have been expanded into several 0/1 indicator variables (a.k.a. they have been one-hot-encoded).\n",
    "\n",
    "This dataset has been kindly provided by Professor Dr. Hans Hofmann of the University of Hamburg, and can also be found on the UCI Machine Learning Repository."
   ]
  },
  {
   "cell_type": "markdown",
   "metadata": {},
   "source": [
    "\n",
    "\n",
    "\n"
   ]
  },
  {
   "cell_type": "markdown",
   "metadata": {},
   "source": [
    "## Decision Trees"
   ]
  },
  {
   "cell_type": "markdown",
   "metadata": {},
   "source": [
    " As we have learned in the previous lectures, Decision Trees as a family of algorithms (irrespective to the particular implementation) are powerful algorithms that can produce models with a predictive accuracy higher than that produced by linear models, such as Linear or Logistic Regression. Primarily, this is due to the fact the DT's can model nonlinear relationships, and also have a number of tuning paramters, that allow for the practicioner to achieve the best possible model. An added bonus is the ability to visualize the trained Decision Tree model, which allows for some insight into how the model has produced the predictions that it has. One caveat here, to keep in mind, is that sometimes, due to the size of the dataset (both in the sense of the number of records, as well as the number of features), the visualization might prove to be very large and complex, increasing the difficulty of interpretation."
   ]
  },
  {
   "cell_type": "markdown",
   "metadata": {},
   "source": [
    "To give you a very good example of how Decision Trees can be visualized and interpreted, we would strongly recommend that, before continuing on with solving the problems in this Mini Project, you take the time to read this fanstastic, detailed and informative blog post: http://explained.ai/decision-tree-viz/index.html"
   ]
  },
  {
   "cell_type": "markdown",
   "metadata": {},
   "source": [
    "## Building Your First Decision Tree Model"
   ]
  },
  {
   "cell_type": "markdown",
   "metadata": {},
   "source": [
    "So, now it's time to jump straight into the heart of the matter. Your first task, is to build a Decision Tree model, using the aforementioned \"German Credit\" dataset, which contains 1,000 records, and 62 columns (one of them presents the labels, and the other 61 present the potential features for the model.)"
   ]
  },
  {
   "cell_type": "markdown",
   "metadata": {},
   "source": [
    "For this task, you will be using the scikit-learn library, which comes already pre-installed with the Anaconda Python distribution. In case you're not using that, you can easily install it using pip."
   ]
  },
  {
   "cell_type": "markdown",
   "metadata": {},
   "source": [
    "Before embarking on creating your first model, we would strongly encourage you to read the short tutorial for Decision Trees in scikit-learn (http://scikit-learn.org/stable/modules/tree.html), and then dive a bit deeper into the documentation of the algorithm itself (http://scikit-learn.org/stable/modules/generated/sklearn.tree.DecisionTreeClassifier.html). "
   ]
  },
  {
   "cell_type": "markdown",
   "metadata": {},
   "source": [
    "Also, since you want to be able to present the results of your model, we suggest you take a look at the tutorial for accuracy metrics for classification models (http://scikit-learn.org/stable/modules/model_evaluation.html#classification-report) as well as the more detailed documentation (http://scikit-learn.org/stable/modules/generated/sklearn.metrics.classification_report.html).\n",
    "\n",
    "Finally, an *amazing* resource that explains the various classification model accuracy metrics, as well as the relationships between them, can be found on Wikipedia: https://en.wikipedia.org/wiki/Confusion_matrix"
   ]
  },
  {
   "cell_type": "markdown",
   "metadata": {},
   "source": [
    "(Note: as you've already learned in the Logistic Regression mini project, a standard practice in Machine Learning for achieving the best possible result when training a model is to use hyperparameter tuning, through Grid Search and k-fold Cross Validation. We strongly encourage you to use it here as well, not just because it's standard practice, but also becuase it's not going to be computationally to intensive, due to the size of the dataset that you're working with. Our suggestion here is that you split the data into 70% training, and 30% testing. Then, do the hyperparameter tuning and Cross Validation on the training set, and afterwards to a final test on the testing set.)"
   ]
  },
  {
   "cell_type": "markdown",
   "metadata": {},
   "source": [
    "### Now we pass the torch onto you! You can start building your first Decision Tree model! :)"
   ]
  },
  {
   "cell_type": "markdown",
   "metadata": {},
   "source": [
    "## Attribute information : https://archive.ics.uci.edu/ml/datasets/South+German+Credit"
   ]
  },
  {
   "cell_type": "code",
   "execution_count": 1,
   "metadata": {},
   "outputs": [],
   "source": [
    "import pandas as pd\n",
    "import numpy as np\n",
    "from sklearn.tree import DecisionTreeClassifier\n",
    "from sklearn.metrics import classification_report\n",
    "from sklearn.model_selection import train_test_split\n",
    "from sklearn.model_selection import GridSearchCV\n",
    "from sklearn.metrics import accuracy_score\n",
    "\n",
    "import seaborn as sb\n",
    "import matplotlib.pyplot as plt"
   ]
  },
  {
   "cell_type": "code",
   "execution_count": 5,
   "metadata": {},
   "outputs": [
    {
     "data": {
      "text/html": [
       "<div>\n",
       "<style scoped>\n",
       "    .dataframe tbody tr th:only-of-type {\n",
       "        vertical-align: middle;\n",
       "    }\n",
       "\n",
       "    .dataframe tbody tr th {\n",
       "        vertical-align: top;\n",
       "    }\n",
       "\n",
       "    .dataframe thead th {\n",
       "        text-align: right;\n",
       "    }\n",
       "</style>\n",
       "<table border=\"1\" class=\"dataframe\">\n",
       "  <thead>\n",
       "    <tr style=\"text-align: right;\">\n",
       "      <th></th>\n",
       "      <th>Duration</th>\n",
       "      <th>Amount</th>\n",
       "      <th>InstallmentRatePercentage</th>\n",
       "      <th>ResidenceDuration</th>\n",
       "      <th>Age</th>\n",
       "      <th>NumberExistingCredits</th>\n",
       "      <th>NumberPeopleMaintenance</th>\n",
       "      <th>Telephone</th>\n",
       "      <th>ForeignWorker</th>\n",
       "      <th>Class</th>\n",
       "      <th>...</th>\n",
       "      <th>OtherInstallmentPlans.Bank</th>\n",
       "      <th>OtherInstallmentPlans.Stores</th>\n",
       "      <th>OtherInstallmentPlans.None</th>\n",
       "      <th>Housing.Rent</th>\n",
       "      <th>Housing.Own</th>\n",
       "      <th>Housing.ForFree</th>\n",
       "      <th>Job.UnemployedUnskilled</th>\n",
       "      <th>Job.UnskilledResident</th>\n",
       "      <th>Job.SkilledEmployee</th>\n",
       "      <th>Job.Management.SelfEmp.HighlyQualified</th>\n",
       "    </tr>\n",
       "  </thead>\n",
       "  <tbody>\n",
       "    <tr>\n",
       "      <th>0</th>\n",
       "      <td>6</td>\n",
       "      <td>1169</td>\n",
       "      <td>4</td>\n",
       "      <td>4</td>\n",
       "      <td>67</td>\n",
       "      <td>2</td>\n",
       "      <td>1</td>\n",
       "      <td>0</td>\n",
       "      <td>1</td>\n",
       "      <td>Good</td>\n",
       "      <td>...</td>\n",
       "      <td>0</td>\n",
       "      <td>0</td>\n",
       "      <td>1</td>\n",
       "      <td>0</td>\n",
       "      <td>1</td>\n",
       "      <td>0</td>\n",
       "      <td>0</td>\n",
       "      <td>0</td>\n",
       "      <td>1</td>\n",
       "      <td>0</td>\n",
       "    </tr>\n",
       "    <tr>\n",
       "      <th>1</th>\n",
       "      <td>48</td>\n",
       "      <td>5951</td>\n",
       "      <td>2</td>\n",
       "      <td>2</td>\n",
       "      <td>22</td>\n",
       "      <td>1</td>\n",
       "      <td>1</td>\n",
       "      <td>1</td>\n",
       "      <td>1</td>\n",
       "      <td>Bad</td>\n",
       "      <td>...</td>\n",
       "      <td>0</td>\n",
       "      <td>0</td>\n",
       "      <td>1</td>\n",
       "      <td>0</td>\n",
       "      <td>1</td>\n",
       "      <td>0</td>\n",
       "      <td>0</td>\n",
       "      <td>0</td>\n",
       "      <td>1</td>\n",
       "      <td>0</td>\n",
       "    </tr>\n",
       "    <tr>\n",
       "      <th>2</th>\n",
       "      <td>12</td>\n",
       "      <td>2096</td>\n",
       "      <td>2</td>\n",
       "      <td>3</td>\n",
       "      <td>49</td>\n",
       "      <td>1</td>\n",
       "      <td>2</td>\n",
       "      <td>1</td>\n",
       "      <td>1</td>\n",
       "      <td>Good</td>\n",
       "      <td>...</td>\n",
       "      <td>0</td>\n",
       "      <td>0</td>\n",
       "      <td>1</td>\n",
       "      <td>0</td>\n",
       "      <td>1</td>\n",
       "      <td>0</td>\n",
       "      <td>0</td>\n",
       "      <td>1</td>\n",
       "      <td>0</td>\n",
       "      <td>0</td>\n",
       "    </tr>\n",
       "    <tr>\n",
       "      <th>3</th>\n",
       "      <td>42</td>\n",
       "      <td>7882</td>\n",
       "      <td>2</td>\n",
       "      <td>4</td>\n",
       "      <td>45</td>\n",
       "      <td>1</td>\n",
       "      <td>2</td>\n",
       "      <td>1</td>\n",
       "      <td>1</td>\n",
       "      <td>Good</td>\n",
       "      <td>...</td>\n",
       "      <td>0</td>\n",
       "      <td>0</td>\n",
       "      <td>1</td>\n",
       "      <td>0</td>\n",
       "      <td>0</td>\n",
       "      <td>1</td>\n",
       "      <td>0</td>\n",
       "      <td>0</td>\n",
       "      <td>1</td>\n",
       "      <td>0</td>\n",
       "    </tr>\n",
       "    <tr>\n",
       "      <th>4</th>\n",
       "      <td>24</td>\n",
       "      <td>4870</td>\n",
       "      <td>3</td>\n",
       "      <td>4</td>\n",
       "      <td>53</td>\n",
       "      <td>2</td>\n",
       "      <td>2</td>\n",
       "      <td>1</td>\n",
       "      <td>1</td>\n",
       "      <td>Bad</td>\n",
       "      <td>...</td>\n",
       "      <td>0</td>\n",
       "      <td>0</td>\n",
       "      <td>1</td>\n",
       "      <td>0</td>\n",
       "      <td>0</td>\n",
       "      <td>1</td>\n",
       "      <td>0</td>\n",
       "      <td>0</td>\n",
       "      <td>1</td>\n",
       "      <td>0</td>\n",
       "    </tr>\n",
       "  </tbody>\n",
       "</table>\n",
       "<p>5 rows × 62 columns</p>\n",
       "</div>"
      ],
      "text/plain": [
       "   Duration  Amount  InstallmentRatePercentage  ResidenceDuration  Age  \\\n",
       "0         6    1169                          4                  4   67   \n",
       "1        48    5951                          2                  2   22   \n",
       "2        12    2096                          2                  3   49   \n",
       "3        42    7882                          2                  4   45   \n",
       "4        24    4870                          3                  4   53   \n",
       "\n",
       "   NumberExistingCredits  NumberPeopleMaintenance  Telephone  ForeignWorker  \\\n",
       "0                      2                        1          0              1   \n",
       "1                      1                        1          1              1   \n",
       "2                      1                        2          1              1   \n",
       "3                      1                        2          1              1   \n",
       "4                      2                        2          1              1   \n",
       "\n",
       "  Class  ...  OtherInstallmentPlans.Bank  OtherInstallmentPlans.Stores  \\\n",
       "0  Good  ...                           0                             0   \n",
       "1   Bad  ...                           0                             0   \n",
       "2  Good  ...                           0                             0   \n",
       "3  Good  ...                           0                             0   \n",
       "4   Bad  ...                           0                             0   \n",
       "\n",
       "   OtherInstallmentPlans.None  Housing.Rent  Housing.Own  Housing.ForFree  \\\n",
       "0                           1             0            1                0   \n",
       "1                           1             0            1                0   \n",
       "2                           1             0            1                0   \n",
       "3                           1             0            0                1   \n",
       "4                           1             0            0                1   \n",
       "\n",
       "   Job.UnemployedUnskilled  Job.UnskilledResident  Job.SkilledEmployee  \\\n",
       "0                        0                      0                    1   \n",
       "1                        0                      0                    1   \n",
       "2                        0                      1                    0   \n",
       "3                        0                      0                    1   \n",
       "4                        0                      0                    1   \n",
       "\n",
       "   Job.Management.SelfEmp.HighlyQualified  \n",
       "0                                       0  \n",
       "1                                       0  \n",
       "2                                       0  \n",
       "3                                       0  \n",
       "4                                       0  \n",
       "\n",
       "[5 rows x 62 columns]"
      ]
     },
     "execution_count": 5,
     "metadata": {},
     "output_type": "execute_result"
    }
   ],
   "source": [
    "# Your code here! :)\n",
    "df = pd.read_csv('GermanCredit.csv')\n",
    "df.head()"
   ]
  },
  {
   "cell_type": "code",
   "execution_count": 3,
   "metadata": {},
   "outputs": [
    {
     "data": {
      "text/plain": [
       "(1000, 62)"
      ]
     },
     "execution_count": 3,
     "metadata": {},
     "output_type": "execute_result"
    }
   ],
   "source": [
    "df.shape"
   ]
  },
  {
   "cell_type": "code",
   "execution_count": 4,
   "metadata": {},
   "outputs": [
    {
     "name": "stdout",
     "output_type": "stream",
     "text": [
      "<class 'pandas.core.frame.DataFrame'>\n",
      "RangeIndex: 1000 entries, 0 to 999\n",
      "Data columns (total 62 columns):\n",
      " #   Column                                  Non-Null Count  Dtype \n",
      "---  ------                                  --------------  ----- \n",
      " 0   Duration                                1000 non-null   int64 \n",
      " 1   Amount                                  1000 non-null   int64 \n",
      " 2   InstallmentRatePercentage               1000 non-null   int64 \n",
      " 3   ResidenceDuration                       1000 non-null   int64 \n",
      " 4   Age                                     1000 non-null   int64 \n",
      " 5   NumberExistingCredits                   1000 non-null   int64 \n",
      " 6   NumberPeopleMaintenance                 1000 non-null   int64 \n",
      " 7   Telephone                               1000 non-null   int64 \n",
      " 8   ForeignWorker                           1000 non-null   int64 \n",
      " 9   Class                                   1000 non-null   object\n",
      " 10  CheckingAccountStatus.lt.0              1000 non-null   int64 \n",
      " 11  CheckingAccountStatus.0.to.200          1000 non-null   int64 \n",
      " 12  CheckingAccountStatus.gt.200            1000 non-null   int64 \n",
      " 13  CheckingAccountStatus.none              1000 non-null   int64 \n",
      " 14  CreditHistory.NoCredit.AllPaid          1000 non-null   int64 \n",
      " 15  CreditHistory.ThisBank.AllPaid          1000 non-null   int64 \n",
      " 16  CreditHistory.PaidDuly                  1000 non-null   int64 \n",
      " 17  CreditHistory.Delay                     1000 non-null   int64 \n",
      " 18  CreditHistory.Critical                  1000 non-null   int64 \n",
      " 19  Purpose.NewCar                          1000 non-null   int64 \n",
      " 20  Purpose.UsedCar                         1000 non-null   int64 \n",
      " 21  Purpose.Furniture.Equipment             1000 non-null   int64 \n",
      " 22  Purpose.Radio.Television                1000 non-null   int64 \n",
      " 23  Purpose.DomesticAppliance               1000 non-null   int64 \n",
      " 24  Purpose.Repairs                         1000 non-null   int64 \n",
      " 25  Purpose.Education                       1000 non-null   int64 \n",
      " 26  Purpose.Vacation                        1000 non-null   int64 \n",
      " 27  Purpose.Retraining                      1000 non-null   int64 \n",
      " 28  Purpose.Business                        1000 non-null   int64 \n",
      " 29  Purpose.Other                           1000 non-null   int64 \n",
      " 30  SavingsAccountBonds.lt.100              1000 non-null   int64 \n",
      " 31  SavingsAccountBonds.100.to.500          1000 non-null   int64 \n",
      " 32  SavingsAccountBonds.500.to.1000         1000 non-null   int64 \n",
      " 33  SavingsAccountBonds.gt.1000             1000 non-null   int64 \n",
      " 34  SavingsAccountBonds.Unknown             1000 non-null   int64 \n",
      " 35  EmploymentDuration.lt.1                 1000 non-null   int64 \n",
      " 36  EmploymentDuration.1.to.4               1000 non-null   int64 \n",
      " 37  EmploymentDuration.4.to.7               1000 non-null   int64 \n",
      " 38  EmploymentDuration.gt.7                 1000 non-null   int64 \n",
      " 39  EmploymentDuration.Unemployed           1000 non-null   int64 \n",
      " 40  Personal.Male.Divorced.Seperated        1000 non-null   int64 \n",
      " 41  Personal.Female.NotSingle               1000 non-null   int64 \n",
      " 42  Personal.Male.Single                    1000 non-null   int64 \n",
      " 43  Personal.Male.Married.Widowed           1000 non-null   int64 \n",
      " 44  Personal.Female.Single                  1000 non-null   int64 \n",
      " 45  OtherDebtorsGuarantors.None             1000 non-null   int64 \n",
      " 46  OtherDebtorsGuarantors.CoApplicant      1000 non-null   int64 \n",
      " 47  OtherDebtorsGuarantors.Guarantor        1000 non-null   int64 \n",
      " 48  Property.RealEstate                     1000 non-null   int64 \n",
      " 49  Property.Insurance                      1000 non-null   int64 \n",
      " 50  Property.CarOther                       1000 non-null   int64 \n",
      " 51  Property.Unknown                        1000 non-null   int64 \n",
      " 52  OtherInstallmentPlans.Bank              1000 non-null   int64 \n",
      " 53  OtherInstallmentPlans.Stores            1000 non-null   int64 \n",
      " 54  OtherInstallmentPlans.None              1000 non-null   int64 \n",
      " 55  Housing.Rent                            1000 non-null   int64 \n",
      " 56  Housing.Own                             1000 non-null   int64 \n",
      " 57  Housing.ForFree                         1000 non-null   int64 \n",
      " 58  Job.UnemployedUnskilled                 1000 non-null   int64 \n",
      " 59  Job.UnskilledResident                   1000 non-null   int64 \n",
      " 60  Job.SkilledEmployee                     1000 non-null   int64 \n",
      " 61  Job.Management.SelfEmp.HighlyQualified  1000 non-null   int64 \n",
      "dtypes: int64(61), object(1)\n",
      "memory usage: 484.5+ KB\n"
     ]
    }
   ],
   "source": [
    "df.info()"
   ]
  },
  {
   "cell_type": "code",
   "execution_count": 5,
   "metadata": {},
   "outputs": [
    {
     "data": {
      "text/plain": [
       "Duration                                  0\n",
       "Amount                                    0\n",
       "InstallmentRatePercentage                 0\n",
       "ResidenceDuration                         0\n",
       "Age                                       0\n",
       "                                         ..\n",
       "Housing.ForFree                           0\n",
       "Job.UnemployedUnskilled                   0\n",
       "Job.UnskilledResident                     0\n",
       "Job.SkilledEmployee                       0\n",
       "Job.Management.SelfEmp.HighlyQualified    0\n",
       "Length: 62, dtype: int64"
      ]
     },
     "execution_count": 5,
     "metadata": {},
     "output_type": "execute_result"
    }
   ],
   "source": [
    "df.isnull().sum()"
   ]
  },
  {
   "cell_type": "code",
   "execution_count": 6,
   "metadata": {},
   "outputs": [
    {
     "data": {
      "text/html": [
       "<div>\n",
       "<style scoped>\n",
       "    .dataframe tbody tr th:only-of-type {\n",
       "        vertical-align: middle;\n",
       "    }\n",
       "\n",
       "    .dataframe tbody tr th {\n",
       "        vertical-align: top;\n",
       "    }\n",
       "\n",
       "    .dataframe thead th {\n",
       "        text-align: right;\n",
       "    }\n",
       "</style>\n",
       "<table border=\"1\" class=\"dataframe\">\n",
       "  <thead>\n",
       "    <tr style=\"text-align: right;\">\n",
       "      <th></th>\n",
       "      <th>Duration</th>\n",
       "      <th>Amount</th>\n",
       "      <th>InstallmentRatePercentage</th>\n",
       "      <th>ResidenceDuration</th>\n",
       "      <th>Age</th>\n",
       "      <th>NumberExistingCredits</th>\n",
       "      <th>NumberPeopleMaintenance</th>\n",
       "      <th>Telephone</th>\n",
       "      <th>ForeignWorker</th>\n",
       "      <th>CheckingAccountStatus.lt.0</th>\n",
       "      <th>...</th>\n",
       "      <th>OtherInstallmentPlans.Bank</th>\n",
       "      <th>OtherInstallmentPlans.Stores</th>\n",
       "      <th>OtherInstallmentPlans.None</th>\n",
       "      <th>Housing.Rent</th>\n",
       "      <th>Housing.Own</th>\n",
       "      <th>Housing.ForFree</th>\n",
       "      <th>Job.UnemployedUnskilled</th>\n",
       "      <th>Job.UnskilledResident</th>\n",
       "      <th>Job.SkilledEmployee</th>\n",
       "      <th>Job.Management.SelfEmp.HighlyQualified</th>\n",
       "    </tr>\n",
       "  </thead>\n",
       "  <tbody>\n",
       "    <tr>\n",
       "      <th>count</th>\n",
       "      <td>1000.000000</td>\n",
       "      <td>1000.000000</td>\n",
       "      <td>1000.000000</td>\n",
       "      <td>1000.000000</td>\n",
       "      <td>1000.000000</td>\n",
       "      <td>1000.000000</td>\n",
       "      <td>1000.000000</td>\n",
       "      <td>1000.000000</td>\n",
       "      <td>1000.000000</td>\n",
       "      <td>1000.000000</td>\n",
       "      <td>...</td>\n",
       "      <td>1000.00000</td>\n",
       "      <td>1000.000000</td>\n",
       "      <td>1000.000000</td>\n",
       "      <td>1000.000000</td>\n",
       "      <td>1000.000000</td>\n",
       "      <td>1000.000000</td>\n",
       "      <td>1000.000000</td>\n",
       "      <td>1000.0000</td>\n",
       "      <td>1000.000000</td>\n",
       "      <td>1000.000000</td>\n",
       "    </tr>\n",
       "    <tr>\n",
       "      <th>mean</th>\n",
       "      <td>20.903000</td>\n",
       "      <td>3271.258000</td>\n",
       "      <td>2.973000</td>\n",
       "      <td>2.845000</td>\n",
       "      <td>35.546000</td>\n",
       "      <td>1.407000</td>\n",
       "      <td>1.155000</td>\n",
       "      <td>0.596000</td>\n",
       "      <td>0.963000</td>\n",
       "      <td>0.274000</td>\n",
       "      <td>...</td>\n",
       "      <td>0.13900</td>\n",
       "      <td>0.047000</td>\n",
       "      <td>0.814000</td>\n",
       "      <td>0.179000</td>\n",
       "      <td>0.713000</td>\n",
       "      <td>0.108000</td>\n",
       "      <td>0.022000</td>\n",
       "      <td>0.2000</td>\n",
       "      <td>0.630000</td>\n",
       "      <td>0.148000</td>\n",
       "    </tr>\n",
       "    <tr>\n",
       "      <th>std</th>\n",
       "      <td>12.058814</td>\n",
       "      <td>2822.736876</td>\n",
       "      <td>1.118715</td>\n",
       "      <td>1.103718</td>\n",
       "      <td>11.375469</td>\n",
       "      <td>0.577654</td>\n",
       "      <td>0.362086</td>\n",
       "      <td>0.490943</td>\n",
       "      <td>0.188856</td>\n",
       "      <td>0.446232</td>\n",
       "      <td>...</td>\n",
       "      <td>0.34612</td>\n",
       "      <td>0.211745</td>\n",
       "      <td>0.389301</td>\n",
       "      <td>0.383544</td>\n",
       "      <td>0.452588</td>\n",
       "      <td>0.310536</td>\n",
       "      <td>0.146757</td>\n",
       "      <td>0.4002</td>\n",
       "      <td>0.483046</td>\n",
       "      <td>0.355278</td>\n",
       "    </tr>\n",
       "    <tr>\n",
       "      <th>min</th>\n",
       "      <td>4.000000</td>\n",
       "      <td>250.000000</td>\n",
       "      <td>1.000000</td>\n",
       "      <td>1.000000</td>\n",
       "      <td>19.000000</td>\n",
       "      <td>1.000000</td>\n",
       "      <td>1.000000</td>\n",
       "      <td>0.000000</td>\n",
       "      <td>0.000000</td>\n",
       "      <td>0.000000</td>\n",
       "      <td>...</td>\n",
       "      <td>0.00000</td>\n",
       "      <td>0.000000</td>\n",
       "      <td>0.000000</td>\n",
       "      <td>0.000000</td>\n",
       "      <td>0.000000</td>\n",
       "      <td>0.000000</td>\n",
       "      <td>0.000000</td>\n",
       "      <td>0.0000</td>\n",
       "      <td>0.000000</td>\n",
       "      <td>0.000000</td>\n",
       "    </tr>\n",
       "    <tr>\n",
       "      <th>25%</th>\n",
       "      <td>12.000000</td>\n",
       "      <td>1365.500000</td>\n",
       "      <td>2.000000</td>\n",
       "      <td>2.000000</td>\n",
       "      <td>27.000000</td>\n",
       "      <td>1.000000</td>\n",
       "      <td>1.000000</td>\n",
       "      <td>0.000000</td>\n",
       "      <td>1.000000</td>\n",
       "      <td>0.000000</td>\n",
       "      <td>...</td>\n",
       "      <td>0.00000</td>\n",
       "      <td>0.000000</td>\n",
       "      <td>1.000000</td>\n",
       "      <td>0.000000</td>\n",
       "      <td>0.000000</td>\n",
       "      <td>0.000000</td>\n",
       "      <td>0.000000</td>\n",
       "      <td>0.0000</td>\n",
       "      <td>0.000000</td>\n",
       "      <td>0.000000</td>\n",
       "    </tr>\n",
       "    <tr>\n",
       "      <th>50%</th>\n",
       "      <td>18.000000</td>\n",
       "      <td>2319.500000</td>\n",
       "      <td>3.000000</td>\n",
       "      <td>3.000000</td>\n",
       "      <td>33.000000</td>\n",
       "      <td>1.000000</td>\n",
       "      <td>1.000000</td>\n",
       "      <td>1.000000</td>\n",
       "      <td>1.000000</td>\n",
       "      <td>0.000000</td>\n",
       "      <td>...</td>\n",
       "      <td>0.00000</td>\n",
       "      <td>0.000000</td>\n",
       "      <td>1.000000</td>\n",
       "      <td>0.000000</td>\n",
       "      <td>1.000000</td>\n",
       "      <td>0.000000</td>\n",
       "      <td>0.000000</td>\n",
       "      <td>0.0000</td>\n",
       "      <td>1.000000</td>\n",
       "      <td>0.000000</td>\n",
       "    </tr>\n",
       "    <tr>\n",
       "      <th>75%</th>\n",
       "      <td>24.000000</td>\n",
       "      <td>3972.250000</td>\n",
       "      <td>4.000000</td>\n",
       "      <td>4.000000</td>\n",
       "      <td>42.000000</td>\n",
       "      <td>2.000000</td>\n",
       "      <td>1.000000</td>\n",
       "      <td>1.000000</td>\n",
       "      <td>1.000000</td>\n",
       "      <td>1.000000</td>\n",
       "      <td>...</td>\n",
       "      <td>0.00000</td>\n",
       "      <td>0.000000</td>\n",
       "      <td>1.000000</td>\n",
       "      <td>0.000000</td>\n",
       "      <td>1.000000</td>\n",
       "      <td>0.000000</td>\n",
       "      <td>0.000000</td>\n",
       "      <td>0.0000</td>\n",
       "      <td>1.000000</td>\n",
       "      <td>0.000000</td>\n",
       "    </tr>\n",
       "    <tr>\n",
       "      <th>max</th>\n",
       "      <td>72.000000</td>\n",
       "      <td>18424.000000</td>\n",
       "      <td>4.000000</td>\n",
       "      <td>4.000000</td>\n",
       "      <td>75.000000</td>\n",
       "      <td>4.000000</td>\n",
       "      <td>2.000000</td>\n",
       "      <td>1.000000</td>\n",
       "      <td>1.000000</td>\n",
       "      <td>1.000000</td>\n",
       "      <td>...</td>\n",
       "      <td>1.00000</td>\n",
       "      <td>1.000000</td>\n",
       "      <td>1.000000</td>\n",
       "      <td>1.000000</td>\n",
       "      <td>1.000000</td>\n",
       "      <td>1.000000</td>\n",
       "      <td>1.000000</td>\n",
       "      <td>1.0000</td>\n",
       "      <td>1.000000</td>\n",
       "      <td>1.000000</td>\n",
       "    </tr>\n",
       "  </tbody>\n",
       "</table>\n",
       "<p>8 rows × 61 columns</p>\n",
       "</div>"
      ],
      "text/plain": [
       "          Duration        Amount  InstallmentRatePercentage  \\\n",
       "count  1000.000000   1000.000000                1000.000000   \n",
       "mean     20.903000   3271.258000                   2.973000   \n",
       "std      12.058814   2822.736876                   1.118715   \n",
       "min       4.000000    250.000000                   1.000000   \n",
       "25%      12.000000   1365.500000                   2.000000   \n",
       "50%      18.000000   2319.500000                   3.000000   \n",
       "75%      24.000000   3972.250000                   4.000000   \n",
       "max      72.000000  18424.000000                   4.000000   \n",
       "\n",
       "       ResidenceDuration          Age  NumberExistingCredits  \\\n",
       "count        1000.000000  1000.000000            1000.000000   \n",
       "mean            2.845000    35.546000               1.407000   \n",
       "std             1.103718    11.375469               0.577654   \n",
       "min             1.000000    19.000000               1.000000   \n",
       "25%             2.000000    27.000000               1.000000   \n",
       "50%             3.000000    33.000000               1.000000   \n",
       "75%             4.000000    42.000000               2.000000   \n",
       "max             4.000000    75.000000               4.000000   \n",
       "\n",
       "       NumberPeopleMaintenance    Telephone  ForeignWorker  \\\n",
       "count              1000.000000  1000.000000    1000.000000   \n",
       "mean                  1.155000     0.596000       0.963000   \n",
       "std                   0.362086     0.490943       0.188856   \n",
       "min                   1.000000     0.000000       0.000000   \n",
       "25%                   1.000000     0.000000       1.000000   \n",
       "50%                   1.000000     1.000000       1.000000   \n",
       "75%                   1.000000     1.000000       1.000000   \n",
       "max                   2.000000     1.000000       1.000000   \n",
       "\n",
       "       CheckingAccountStatus.lt.0  ...  OtherInstallmentPlans.Bank  \\\n",
       "count                 1000.000000  ...                  1000.00000   \n",
       "mean                     0.274000  ...                     0.13900   \n",
       "std                      0.446232  ...                     0.34612   \n",
       "min                      0.000000  ...                     0.00000   \n",
       "25%                      0.000000  ...                     0.00000   \n",
       "50%                      0.000000  ...                     0.00000   \n",
       "75%                      1.000000  ...                     0.00000   \n",
       "max                      1.000000  ...                     1.00000   \n",
       "\n",
       "       OtherInstallmentPlans.Stores  OtherInstallmentPlans.None  Housing.Rent  \\\n",
       "count                   1000.000000                 1000.000000   1000.000000   \n",
       "mean                       0.047000                    0.814000      0.179000   \n",
       "std                        0.211745                    0.389301      0.383544   \n",
       "min                        0.000000                    0.000000      0.000000   \n",
       "25%                        0.000000                    1.000000      0.000000   \n",
       "50%                        0.000000                    1.000000      0.000000   \n",
       "75%                        0.000000                    1.000000      0.000000   \n",
       "max                        1.000000                    1.000000      1.000000   \n",
       "\n",
       "       Housing.Own  Housing.ForFree  Job.UnemployedUnskilled  \\\n",
       "count  1000.000000      1000.000000              1000.000000   \n",
       "mean      0.713000         0.108000                 0.022000   \n",
       "std       0.452588         0.310536                 0.146757   \n",
       "min       0.000000         0.000000                 0.000000   \n",
       "25%       0.000000         0.000000                 0.000000   \n",
       "50%       1.000000         0.000000                 0.000000   \n",
       "75%       1.000000         0.000000                 0.000000   \n",
       "max       1.000000         1.000000                 1.000000   \n",
       "\n",
       "       Job.UnskilledResident  Job.SkilledEmployee  \\\n",
       "count              1000.0000          1000.000000   \n",
       "mean                  0.2000             0.630000   \n",
       "std                   0.4002             0.483046   \n",
       "min                   0.0000             0.000000   \n",
       "25%                   0.0000             0.000000   \n",
       "50%                   0.0000             1.000000   \n",
       "75%                   0.0000             1.000000   \n",
       "max                   1.0000             1.000000   \n",
       "\n",
       "       Job.Management.SelfEmp.HighlyQualified  \n",
       "count                             1000.000000  \n",
       "mean                                 0.148000  \n",
       "std                                  0.355278  \n",
       "min                                  0.000000  \n",
       "25%                                  0.000000  \n",
       "50%                                  0.000000  \n",
       "75%                                  0.000000  \n",
       "max                                  1.000000  \n",
       "\n",
       "[8 rows x 61 columns]"
      ]
     },
     "execution_count": 6,
     "metadata": {},
     "output_type": "execute_result"
    }
   ],
   "source": [
    "df.describe()"
   ]
  },
  {
   "cell_type": "code",
   "execution_count": 7,
   "metadata": {},
   "outputs": [
    {
     "data": {
      "text/plain": [
       "Class  CheckingAccountStatus.lt.0\n",
       "Bad    0                             165\n",
       "       1                             135\n",
       "Good   0                             561\n",
       "       1                             139\n",
       "dtype: int64"
      ]
     },
     "execution_count": 7,
     "metadata": {},
     "output_type": "execute_result"
    }
   ],
   "source": [
    "df.groupby(['Class', 'CheckingAccountStatus.lt.0']).size() "
   ]
  },
  {
   "cell_type": "code",
   "execution_count": 8,
   "metadata": {},
   "outputs": [
    {
     "name": "stderr",
     "output_type": "stream",
     "text": [
      "No handles with labels found to put in legend.\n"
     ]
    },
    {
     "data": {
      "image/png": "[encoded data removed]",
      "text/plain": [
       "<Figure size 432x288 with 1 Axes>"
      ]
     },
     "metadata": {
      "needs_background": "light"
     },
     "output_type": "display_data"
    }
   ],
   "source": [
    "sb.boxplot(y=df.Telephone, x=df.Class)\n",
    "plt.legend(loc=\"upper left\")\n",
    "plt.show()"
   ]
  },
  {
   "cell_type": "code",
   "execution_count": 9,
   "metadata": {},
   "outputs": [
    {
     "data": {
      "text/plain": [
       "Class  Telephone\n",
       "Bad    0            113\n",
       "       1            187\n",
       "Good   0            291\n",
       "       1            409\n",
       "dtype: int64"
      ]
     },
     "execution_count": 9,
     "metadata": {},
     "output_type": "execute_result"
    }
   ],
   "source": [
    "df.groupby(['Class', 'Telephone']).size()"
   ]
  },
  {
   "cell_type": "markdown",
   "metadata": {},
   "source": [
    "Telephone: Is there a telephone landline registered on the debtor's name? (binary; remember that the data are\n",
    "from the 1970s)"
   ]
  },
  {
   "cell_type": "code",
   "execution_count": 10,
   "metadata": {},
   "outputs": [
    {
     "data": {
      "text/plain": [
       "Class\n",
       "Bad     300\n",
       "Good    700\n",
       "dtype: int64"
      ]
     },
     "execution_count": 10,
     "metadata": {},
     "output_type": "execute_result"
    }
   ],
   "source": [
    "df.groupby('Class').size()"
   ]
  },
  {
   "cell_type": "code",
   "execution_count": 11,
   "metadata": {},
   "outputs": [
    {
     "data": {
      "text/plain": [
       "Index(['Duration', 'Amount', 'InstallmentRatePercentage', 'ResidenceDuration',\n",
       "       'Age', 'NumberExistingCredits', 'NumberPeopleMaintenance', 'Telephone',\n",
       "       'ForeignWorker', 'Class', 'CheckingAccountStatus.lt.0',\n",
       "       'CheckingAccountStatus.0.to.200', 'CheckingAccountStatus.gt.200',\n",
       "       'CheckingAccountStatus.none', 'CreditHistory.NoCredit.AllPaid',\n",
       "       'CreditHistory.ThisBank.AllPaid', 'CreditHistory.PaidDuly',\n",
       "       'CreditHistory.Delay', 'CreditHistory.Critical', 'Purpose.NewCar',\n",
       "       'Purpose.UsedCar', 'Purpose.Furniture.Equipment',\n",
       "       'Purpose.Radio.Television', 'Purpose.DomesticAppliance',\n",
       "       'Purpose.Repairs', 'Purpose.Education', 'Purpose.Vacation',\n",
       "       'Purpose.Retraining', 'Purpose.Business', 'Purpose.Other',\n",
       "       'SavingsAccountBonds.lt.100', 'SavingsAccountBonds.100.to.500',\n",
       "       'SavingsAccountBonds.500.to.1000', 'SavingsAccountBonds.gt.1000',\n",
       "       'SavingsAccountBonds.Unknown', 'EmploymentDuration.lt.1',\n",
       "       'EmploymentDuration.1.to.4', 'EmploymentDuration.4.to.7',\n",
       "       'EmploymentDuration.gt.7', 'EmploymentDuration.Unemployed',\n",
       "       'Personal.Male.Divorced.Seperated', 'Personal.Female.NotSingle',\n",
       "       'Personal.Male.Single', 'Personal.Male.Married.Widowed',\n",
       "       'Personal.Female.Single', 'OtherDebtorsGuarantors.None',\n",
       "       'OtherDebtorsGuarantors.CoApplicant',\n",
       "       'OtherDebtorsGuarantors.Guarantor', 'Property.RealEstate',\n",
       "       'Property.Insurance', 'Property.CarOther', 'Property.Unknown',\n",
       "       'OtherInstallmentPlans.Bank', 'OtherInstallmentPlans.Stores',\n",
       "       'OtherInstallmentPlans.None', 'Housing.Rent', 'Housing.Own',\n",
       "       'Housing.ForFree', 'Job.UnemployedUnskilled', 'Job.UnskilledResident',\n",
       "       'Job.SkilledEmployee', 'Job.Management.SelfEmp.HighlyQualified'],\n",
       "      dtype='object')"
      ]
     },
     "execution_count": 11,
     "metadata": {},
     "output_type": "execute_result"
    }
   ],
   "source": [
    "df.columns"
   ]
  },
  {
   "cell_type": "code",
   "execution_count": 3,
   "metadata": {},
   "outputs": [
    {
     "data": {
      "text/plain": [
       "Index(['Class'], dtype='object')"
      ]
     },
     "execution_count": 3,
     "metadata": {},
     "output_type": "execute_result"
    }
   ],
   "source": [
    "categorical_vars = df.describe(include=[\"object\"]).columns\n",
    "categorical_vars"
   ]
  },
  {
   "cell_type": "code",
   "execution_count": 6,
   "metadata": {},
   "outputs": [
    {
     "ename": "NameError",
     "evalue": "name 'categorical_vars' is not defined",
     "output_type": "error",
     "traceback": [
      "\u001b[0;31m---------------------------------------------------------------------------\u001b[0m",
      "\u001b[0;31mNameError\u001b[0m                                 Traceback (most recent call last)",
      "\u001b[0;32m<ipython-input-6-06aa6db57d6d>\u001b[0m in \u001b[0;36m<module>\u001b[0;34m\u001b[0m\n\u001b[1;32m      6\u001b[0m         \u001b[0max\u001b[0m\u001b[0;34m.\u001b[0m\u001b[0mset_visible\u001b[0m\u001b[0;34m(\u001b[0m\u001b[0;32mFalse\u001b[0m\u001b[0;34m)\u001b[0m\u001b[0;34m\u001b[0m\u001b[0;34m\u001b[0m\u001b[0m\n\u001b[1;32m      7\u001b[0m         \u001b[0;32mcontinue\u001b[0m\u001b[0;34m\u001b[0m\u001b[0;34m\u001b[0m\u001b[0m\n\u001b[0;32m----> 8\u001b[0;31m     \u001b[0msb\u001b[0m\u001b[0;34m.\u001b[0m\u001b[0mcountplot\u001b[0m\u001b[0;34m(\u001b[0m\u001b[0my\u001b[0m \u001b[0;34m=\u001b[0m \u001b[0mcategorical_vars\u001b[0m\u001b[0;34m[\u001b[0m\u001b[0mi\u001b[0m\u001b[0;34m]\u001b[0m\u001b[0;34m,\u001b[0m \u001b[0mdata\u001b[0m\u001b[0;34m=\u001b[0m\u001b[0mdf\u001b[0m\u001b[0;34m,\u001b[0m \u001b[0max\u001b[0m\u001b[0;34m=\u001b[0m\u001b[0max\u001b[0m\u001b[0;34m)\u001b[0m\u001b[0;34m\u001b[0m\u001b[0;34m\u001b[0m\u001b[0m\n\u001b[0m",
      "\u001b[0;31mNameError\u001b[0m: name 'categorical_vars' is not defined"
     ]
    },
    {
     "data": {
      "image/png": "[encoded data removed]",
      "text/plain": [
       "<Figure size 1152x1152 with 12 Axes>"
      ]
     },
     "metadata": {
      "needs_background": "light"
     },
     "output_type": "display_data"
    }
   ],
   "source": [
    "fig, axes = plt.subplots(4, 3, figsize=(16, 16))\n",
    "plt.subplots_adjust(left=None, bottom=None, right=None, top=None, wspace=0.7, hspace=0.3)\n",
    "\n",
    "for i, ax in enumerate(axes.ravel()):\n",
    "    if i > 10:\n",
    "        ax.set_visible(False)\n",
    "        continue\n",
    "    sb.countplot(y = categorical_vars[i], data=df, ax=ax)"
   ]
  },
  {
   "cell_type": "code",
   "execution_count": null,
   "metadata": {},
   "outputs": [],
   "source": [
    "# sns.pairplot(df, hue='Class', palette='hls')"
   ]
  },
  {
   "cell_type": "code",
   "execution_count": 14,
   "metadata": {},
   "outputs": [],
   "source": [
    "corr = df.corr()"
   ]
  },
  {
   "cell_type": "code",
   "execution_count": 15,
   "metadata": {},
   "outputs": [
    {
     "data": {
      "text/html": [
       "<div>\n",
       "<style scoped>\n",
       "    .dataframe tbody tr th:only-of-type {\n",
       "        vertical-align: middle;\n",
       "    }\n",
       "\n",
       "    .dataframe tbody tr th {\n",
       "        vertical-align: top;\n",
       "    }\n",
       "\n",
       "    .dataframe thead th {\n",
       "        text-align: right;\n",
       "    }\n",
       "</style>\n",
       "<table border=\"1\" class=\"dataframe\">\n",
       "  <thead>\n",
       "    <tr style=\"text-align: right;\">\n",
       "      <th></th>\n",
       "      <th>Duration</th>\n",
       "      <th>Amount</th>\n",
       "      <th>InstallmentRatePercentage</th>\n",
       "      <th>ResidenceDuration</th>\n",
       "      <th>Age</th>\n",
       "      <th>NumberExistingCredits</th>\n",
       "      <th>NumberPeopleMaintenance</th>\n",
       "      <th>Telephone</th>\n",
       "      <th>ForeignWorker</th>\n",
       "      <th>CheckingAccountStatus.lt.0</th>\n",
       "      <th>...</th>\n",
       "      <th>OtherInstallmentPlans.Bank</th>\n",
       "      <th>OtherInstallmentPlans.Stores</th>\n",
       "      <th>OtherInstallmentPlans.None</th>\n",
       "      <th>Housing.Rent</th>\n",
       "      <th>Housing.Own</th>\n",
       "      <th>Housing.ForFree</th>\n",
       "      <th>Job.UnemployedUnskilled</th>\n",
       "      <th>Job.UnskilledResident</th>\n",
       "      <th>Job.SkilledEmployee</th>\n",
       "      <th>Job.Management.SelfEmp.HighlyQualified</th>\n",
       "    </tr>\n",
       "  </thead>\n",
       "  <tbody>\n",
       "    <tr>\n",
       "      <th>Duration</th>\n",
       "      <td>1.000000</td>\n",
       "      <td>0.624984</td>\n",
       "      <td>0.074749</td>\n",
       "      <td>0.034067</td>\n",
       "      <td>-0.036136</td>\n",
       "      <td>-0.011284</td>\n",
       "      <td>-0.023834</td>\n",
       "      <td>-0.164718</td>\n",
       "      <td>0.138196</td>\n",
       "      <td>0.022244</td>\n",
       "      <td>...</td>\n",
       "      <td>0.035851</td>\n",
       "      <td>0.065688</td>\n",
       "      <td>-0.067602</td>\n",
       "      <td>-0.064417</td>\n",
       "      <td>-0.075169</td>\n",
       "      <td>0.189117</td>\n",
       "      <td>-0.044043</td>\n",
       "      <td>-1.812030e-01</td>\n",
       "      <td>0.055010</td>\n",
       "      <td>0.147515</td>\n",
       "    </tr>\n",
       "    <tr>\n",
       "      <th>Amount</th>\n",
       "      <td>0.624984</td>\n",
       "      <td>1.000000</td>\n",
       "      <td>-0.271316</td>\n",
       "      <td>0.028926</td>\n",
       "      <td>0.032716</td>\n",
       "      <td>0.020795</td>\n",
       "      <td>0.017142</td>\n",
       "      <td>-0.276995</td>\n",
       "      <td>0.050050</td>\n",
       "      <td>-0.020912</td>\n",
       "      <td>...</td>\n",
       "      <td>0.039474</td>\n",
       "      <td>0.024262</td>\n",
       "      <td>-0.048292</td>\n",
       "      <td>-0.024611</td>\n",
       "      <td>-0.117497</td>\n",
       "      <td>0.201643</td>\n",
       "      <td>-0.027969</td>\n",
       "      <td>-1.617570e-01</td>\n",
       "      <td>-0.092636</td>\n",
       "      <td>0.319715</td>\n",
       "    </tr>\n",
       "    <tr>\n",
       "      <th>InstallmentRatePercentage</th>\n",
       "      <td>0.074749</td>\n",
       "      <td>-0.271316</td>\n",
       "      <td>1.000000</td>\n",
       "      <td>0.049302</td>\n",
       "      <td>0.058266</td>\n",
       "      <td>0.021669</td>\n",
       "      <td>-0.071207</td>\n",
       "      <td>-0.014413</td>\n",
       "      <td>0.090024</td>\n",
       "      <td>0.046917</td>\n",
       "      <td>...</td>\n",
       "      <td>-0.016150</td>\n",
       "      <td>0.056071</td>\n",
       "      <td>-0.016139</td>\n",
       "      <td>-0.091373</td>\n",
       "      <td>0.049922</td>\n",
       "      <td>0.040098</td>\n",
       "      <td>-0.087834</td>\n",
       "      <td>-5.723714e-02</td>\n",
       "      <td>0.042623</td>\n",
       "      <td>0.042805</td>\n",
       "    </tr>\n",
       "    <tr>\n",
       "      <th>ResidenceDuration</th>\n",
       "      <td>0.034067</td>\n",
       "      <td>0.028926</td>\n",
       "      <td>0.049302</td>\n",
       "      <td>1.000000</td>\n",
       "      <td>0.266419</td>\n",
       "      <td>0.089625</td>\n",
       "      <td>0.042643</td>\n",
       "      <td>-0.095359</td>\n",
       "      <td>0.054097</td>\n",
       "      <td>0.088350</td>\n",
       "      <td>...</td>\n",
       "      <td>0.014530</td>\n",
       "      <td>-0.054460</td>\n",
       "      <td>0.016704</td>\n",
       "      <td>0.167285</td>\n",
       "      <td>-0.297547</td>\n",
       "      <td>0.227044</td>\n",
       "      <td>-0.034545</td>\n",
       "      <td>9.064820e-03</td>\n",
       "      <td>-0.000657</td>\n",
       "      <td>0.004952</td>\n",
       "    </tr>\n",
       "    <tr>\n",
       "      <th>Age</th>\n",
       "      <td>-0.036136</td>\n",
       "      <td>0.032716</td>\n",
       "      <td>0.058266</td>\n",
       "      <td>0.266419</td>\n",
       "      <td>1.000000</td>\n",
       "      <td>0.149254</td>\n",
       "      <td>0.118201</td>\n",
       "      <td>-0.145259</td>\n",
       "      <td>0.006151</td>\n",
       "      <td>-0.011162</td>\n",
       "      <td>...</td>\n",
       "      <td>0.046552</td>\n",
       "      <td>-0.011080</td>\n",
       "      <td>-0.035362</td>\n",
       "      <td>-0.212620</td>\n",
       "      <td>0.006553</td>\n",
       "      <td>0.253058</td>\n",
       "      <td>0.059954</td>\n",
       "      <td>4.371237e-02</td>\n",
       "      <td>-0.148283</td>\n",
       "      <td>0.127605</td>\n",
       "    </tr>\n",
       "    <tr>\n",
       "      <th>NumberExistingCredits</th>\n",
       "      <td>-0.011284</td>\n",
       "      <td>0.020795</td>\n",
       "      <td>0.021669</td>\n",
       "      <td>0.089625</td>\n",
       "      <td>0.149254</td>\n",
       "      <td>1.000000</td>\n",
       "      <td>0.109667</td>\n",
       "      <td>-0.065553</td>\n",
       "      <td>0.009717</td>\n",
       "      <td>-0.029195</td>\n",
       "      <td>...</td>\n",
       "      <td>0.042190</td>\n",
       "      <td>0.023496</td>\n",
       "      <td>-0.050290</td>\n",
       "      <td>-0.058070</td>\n",
       "      <td>0.041386</td>\n",
       "      <td>0.011406</td>\n",
       "      <td>0.059582</td>\n",
       "      <td>-1.039203e-02</td>\n",
       "      <td>-0.001471</td>\n",
       "      <td>-0.010906</td>\n",
       "    </tr>\n",
       "    <tr>\n",
       "      <th>NumberPeopleMaintenance</th>\n",
       "      <td>-0.023834</td>\n",
       "      <td>0.017142</td>\n",
       "      <td>-0.071207</td>\n",
       "      <td>0.042643</td>\n",
       "      <td>0.118201</td>\n",
       "      <td>0.109667</td>\n",
       "      <td>1.000000</td>\n",
       "      <td>0.014753</td>\n",
       "      <td>-0.077071</td>\n",
       "      <td>0.059041</td>\n",
       "      <td>...</td>\n",
       "      <td>0.075519</td>\n",
       "      <td>0.009335</td>\n",
       "      <td>-0.072220</td>\n",
       "      <td>-0.063033</td>\n",
       "      <td>-0.027579</td>\n",
       "      <td>0.118047</td>\n",
       "      <td>-0.007723</td>\n",
       "      <td>1.450658e-01</td>\n",
       "      <td>-0.106737</td>\n",
       "      <td>-0.015096</td>\n",
       "    </tr>\n",
       "    <tr>\n",
       "      <th>Telephone</th>\n",
       "      <td>-0.164718</td>\n",
       "      <td>-0.276995</td>\n",
       "      <td>-0.014413</td>\n",
       "      <td>-0.095359</td>\n",
       "      <td>-0.145259</td>\n",
       "      <td>-0.065553</td>\n",
       "      <td>0.014753</td>\n",
       "      <td>1.000000</td>\n",
       "      <td>-0.107401</td>\n",
       "      <td>0.067149</td>\n",
       "      <td>...</td>\n",
       "      <td>-0.010863</td>\n",
       "      <td>-0.029003</td>\n",
       "      <td>0.025433</td>\n",
       "      <td>0.049524</td>\n",
       "      <td>0.036275</td>\n",
       "      <td>-0.114036</td>\n",
       "      <td>0.040124</td>\n",
       "      <td>2.537205e-01</td>\n",
       "      <td>0.061289</td>\n",
       "      <td>-0.385706</td>\n",
       "    </tr>\n",
       "    <tr>\n",
       "      <th>ForeignWorker</th>\n",
       "      <td>0.138196</td>\n",
       "      <td>0.050050</td>\n",
       "      <td>0.090024</td>\n",
       "      <td>0.054097</td>\n",
       "      <td>0.006151</td>\n",
       "      <td>0.009717</td>\n",
       "      <td>-0.077071</td>\n",
       "      <td>-0.107401</td>\n",
       "      <td>1.000000</td>\n",
       "      <td>-0.057751</td>\n",
       "      <td>...</td>\n",
       "      <td>0.002190</td>\n",
       "      <td>0.043530</td>\n",
       "      <td>-0.025623</td>\n",
       "      <td>-0.032849</td>\n",
       "      <td>-0.018960</td>\n",
       "      <td>0.068205</td>\n",
       "      <td>-0.042834</td>\n",
       "      <td>-8.741177e-02</td>\n",
       "      <td>0.047292</td>\n",
       "      <td>0.051858</td>\n",
       "    </tr>\n",
       "    <tr>\n",
       "      <th>CheckingAccountStatus.lt.0</th>\n",
       "      <td>0.022244</td>\n",
       "      <td>-0.020912</td>\n",
       "      <td>0.046917</td>\n",
       "      <td>0.088350</td>\n",
       "      <td>-0.011162</td>\n",
       "      <td>-0.029195</td>\n",
       "      <td>0.059041</td>\n",
       "      <td>0.067149</td>\n",
       "      <td>-0.057751</td>\n",
       "      <td>1.000000</td>\n",
       "      <td>...</td>\n",
       "      <td>0.012405</td>\n",
       "      <td>0.011886</td>\n",
       "      <td>-0.017494</td>\n",
       "      <td>0.093310</td>\n",
       "      <td>-0.125705</td>\n",
       "      <td>0.067961</td>\n",
       "      <td>-0.000428</td>\n",
       "      <td>2.354213e-02</td>\n",
       "      <td>-0.002879</td>\n",
       "      <td>-0.022427</td>\n",
       "    </tr>\n",
       "    <tr>\n",
       "      <th>CheckingAccountStatus.0.to.200</th>\n",
       "      <td>0.089452</td>\n",
       "      <td>0.119612</td>\n",
       "      <td>-0.051906</td>\n",
       "      <td>-0.055817</td>\n",
       "      <td>-0.078121</td>\n",
       "      <td>-0.052662</td>\n",
       "      <td>-0.066643</td>\n",
       "      <td>-0.015276</td>\n",
       "      <td>0.059172</td>\n",
       "      <td>-0.372670</td>\n",
       "      <td>...</td>\n",
       "      <td>0.049600</td>\n",
       "      <td>-0.017507</td>\n",
       "      <td>-0.034576</td>\n",
       "      <td>-0.000888</td>\n",
       "      <td>0.001012</td>\n",
       "      <td>-0.000378</td>\n",
       "      <td>0.047382</td>\n",
       "      <td>1.804077e-02</td>\n",
       "      <td>-0.067587</td>\n",
       "      <td>0.051999</td>\n",
       "    </tr>\n",
       "    <tr>\n",
       "      <th>CheckingAccountStatus.gt.200</th>\n",
       "      <td>-0.076455</td>\n",
       "      <td>-0.100510</td>\n",
       "      <td>-0.041591</td>\n",
       "      <td>-0.064303</td>\n",
       "      <td>0.037504</td>\n",
       "      <td>-0.040213</td>\n",
       "      <td>-0.008700</td>\n",
       "      <td>0.028955</td>\n",
       "      <td>-0.036392</td>\n",
       "      <td>-0.159297</td>\n",
       "      <td>...</td>\n",
       "      <td>-0.009006</td>\n",
       "      <td>0.020206</td>\n",
       "      <td>-0.002983</td>\n",
       "      <td>-0.035183</td>\n",
       "      <td>0.018934</td>\n",
       "      <td>0.015860</td>\n",
       "      <td>0.073347</td>\n",
       "      <td>1.440549e-02</td>\n",
       "      <td>-0.022932</td>\n",
       "      <td>-0.015346</td>\n",
       "    </tr>\n",
       "    <tr>\n",
       "      <th>CheckingAccountStatus.none</th>\n",
       "      <td>-0.063467</td>\n",
       "      <td>-0.039485</td>\n",
       "      <td>0.024961</td>\n",
       "      <td>0.001985</td>\n",
       "      <td>0.062436</td>\n",
       "      <td>0.094435</td>\n",
       "      <td>0.010914</td>\n",
       "      <td>-0.061825</td>\n",
       "      <td>0.017108</td>\n",
       "      <td>-0.495358</td>\n",
       "      <td>...</td>\n",
       "      <td>-0.051857</td>\n",
       "      <td>-0.005009</td>\n",
       "      <td>0.048829</td>\n",
       "      <td>-0.066870</td>\n",
       "      <td>0.104407</td>\n",
       "      <td>-0.069575</td>\n",
       "      <td>-0.079080</td>\n",
       "      <td>-4.502340e-02</td>\n",
       "      <td>0.075366</td>\n",
       "      <td>-0.019088</td>\n",
       "    </tr>\n",
       "    <tr>\n",
       "      <th>CreditHistory.NoCredit.AllPaid</th>\n",
       "      <td>0.118077</td>\n",
       "      <td>0.147191</td>\n",
       "      <td>-0.054401</td>\n",
       "      <td>0.000925</td>\n",
       "      <td>-0.022370</td>\n",
       "      <td>0.112427</td>\n",
       "      <td>0.011281</td>\n",
       "      <td>0.001664</td>\n",
       "      <td>-0.014058</td>\n",
       "      <td>0.023341</td>\n",
       "      <td>...</td>\n",
       "      <td>0.065495</td>\n",
       "      <td>0.002893</td>\n",
       "      <td>-0.059804</td>\n",
       "      <td>0.037805</td>\n",
       "      <td>-0.039709</td>\n",
       "      <td>0.011180</td>\n",
       "      <td>0.004175</td>\n",
       "      <td>-2.551552e-02</td>\n",
       "      <td>0.029595</td>\n",
       "      <td>-0.013221</td>\n",
       "    </tr>\n",
       "    <tr>\n",
       "      <th>CreditHistory.ThisBank.AllPaid</th>\n",
       "      <td>0.033728</td>\n",
       "      <td>0.005923</td>\n",
       "      <td>0.030339</td>\n",
       "      <td>0.027694</td>\n",
       "      <td>0.014360</td>\n",
       "      <td>-0.095824</td>\n",
       "      <td>0.069185</td>\n",
       "      <td>0.016955</td>\n",
       "      <td>0.019952</td>\n",
       "      <td>0.089054</td>\n",
       "      <td>...</td>\n",
       "      <td>0.230172</td>\n",
       "      <td>0.124699</td>\n",
       "      <td>-0.272466</td>\n",
       "      <td>0.014851</td>\n",
       "      <td>-0.060799</td>\n",
       "      <td>0.070267</td>\n",
       "      <td>0.060699</td>\n",
       "      <td>3.705968e-02</td>\n",
       "      <td>-0.065917</td>\n",
       "      <td>0.022804</td>\n",
       "    </tr>\n",
       "    <tr>\n",
       "      <th>CreditHistory.PaidDuly</th>\n",
       "      <td>-0.069751</td>\n",
       "      <td>-0.086682</td>\n",
       "      <td>-0.020947</td>\n",
       "      <td>-0.081458</td>\n",
       "      <td>-0.155848</td>\n",
       "      <td>-0.540354</td>\n",
       "      <td>-0.078339</td>\n",
       "      <td>0.057655</td>\n",
       "      <td>-0.004140</td>\n",
       "      <td>0.066396</td>\n",
       "      <td>...</td>\n",
       "      <td>-0.079172</td>\n",
       "      <td>-0.065418</td>\n",
       "      <td>0.105972</td>\n",
       "      <td>0.084304</td>\n",
       "      <td>-0.043805</td>\n",
       "      <td>-0.040281</td>\n",
       "      <td>-0.022675</td>\n",
       "      <td>1.001805e-02</td>\n",
       "      <td>0.017015</td>\n",
       "      <td>-0.025052</td>\n",
       "    </tr>\n",
       "    <tr>\n",
       "      <th>CreditHistory.Delay</th>\n",
       "      <td>0.136927</td>\n",
       "      <td>0.113552</td>\n",
       "      <td>-0.014597</td>\n",
       "      <td>-0.020351</td>\n",
       "      <td>0.016129</td>\n",
       "      <td>0.141742</td>\n",
       "      <td>0.042526</td>\n",
       "      <td>-0.046384</td>\n",
       "      <td>0.060888</td>\n",
       "      <td>-0.095859</td>\n",
       "      <td>...</td>\n",
       "      <td>-0.002367</td>\n",
       "      <td>0.097805</td>\n",
       "      <td>-0.051092</td>\n",
       "      <td>-0.043756</td>\n",
       "      <td>0.017604</td>\n",
       "      <td>0.028386</td>\n",
       "      <td>-0.046589</td>\n",
       "      <td>-2.294429e-02</td>\n",
       "      <td>-0.003217</td>\n",
       "      <td>0.049464</td>\n",
       "    </tr>\n",
       "    <tr>\n",
       "      <th>CreditHistory.Critical</th>\n",
       "      <td>-0.075575</td>\n",
       "      <td>-0.041807</td>\n",
       "      <td>0.041089</td>\n",
       "      <td>0.088460</td>\n",
       "      <td>0.163681</td>\n",
       "      <td>0.501364</td>\n",
       "      <td>0.021765</td>\n",
       "      <td>-0.043110</td>\n",
       "      <td>-0.036770</td>\n",
       "      <td>-0.065430</td>\n",
       "      <td>...</td>\n",
       "      <td>-0.049075</td>\n",
       "      <td>-0.049530</td>\n",
       "      <td>0.070571</td>\n",
       "      <td>-0.088532</td>\n",
       "      <td>0.083011</td>\n",
       "      <td>-0.011638</td>\n",
       "      <td>0.023277</td>\n",
       "      <td>-3.295701e-03</td>\n",
       "      <td>0.001866</td>\n",
       "      <td>-0.008440</td>\n",
       "    </tr>\n",
       "    <tr>\n",
       "      <th>Purpose.NewCar</th>\n",
       "      <td>-0.109999</td>\n",
       "      <td>-0.040793</td>\n",
       "      <td>-0.045801</td>\n",
       "      <td>0.019848</td>\n",
       "      <td>0.075044</td>\n",
       "      <td>0.035845</td>\n",
       "      <td>0.102663</td>\n",
       "      <td>0.036275</td>\n",
       "      <td>-0.154436</td>\n",
       "      <td>0.073527</td>\n",
       "      <td>...</td>\n",
       "      <td>0.010064</td>\n",
       "      <td>-0.066940</td>\n",
       "      <td>0.027462</td>\n",
       "      <td>-0.011620</td>\n",
       "      <td>-0.009618</td>\n",
       "      <td>0.028370</td>\n",
       "      <td>0.094233</td>\n",
       "      <td>7.204063e-02</td>\n",
       "      <td>-0.085223</td>\n",
       "      <td>-0.004204</td>\n",
       "    </tr>\n",
       "    <tr>\n",
       "      <th>Purpose.UsedCar</th>\n",
       "      <td>0.144939</td>\n",
       "      <td>0.252101</td>\n",
       "      <td>-0.094797</td>\n",
       "      <td>0.107257</td>\n",
       "      <td>0.050858</td>\n",
       "      <td>-0.005248</td>\n",
       "      <td>0.054862</td>\n",
       "      <td>-0.136693</td>\n",
       "      <td>0.031564</td>\n",
       "      <td>-0.016390</td>\n",
       "      <td>...</td>\n",
       "      <td>-0.012525</td>\n",
       "      <td>0.002472</td>\n",
       "      <td>0.009791</td>\n",
       "      <td>0.039160</td>\n",
       "      <td>-0.141375</td>\n",
       "      <td>0.157680</td>\n",
       "      <td>-0.028395</td>\n",
       "      <td>-1.118572e-01</td>\n",
       "      <td>-0.033321</td>\n",
       "      <td>0.183035</td>\n",
       "    </tr>\n",
       "    <tr>\n",
       "      <th>Purpose.Furniture.Equipment</th>\n",
       "      <td>-0.062804</td>\n",
       "      <td>-0.034037</td>\n",
       "      <td>-0.062979</td>\n",
       "      <td>-0.006934</td>\n",
       "      <td>-0.127657</td>\n",
       "      <td>-0.070478</td>\n",
       "      <td>-0.086515</td>\n",
       "      <td>0.053587</td>\n",
       "      <td>0.009590</td>\n",
       "      <td>0.130479</td>\n",
       "      <td>...</td>\n",
       "      <td>-0.023717</td>\n",
       "      <td>0.030595</td>\n",
       "      <td>0.004446</td>\n",
       "      <td>0.105700</td>\n",
       "      <td>-0.040496</td>\n",
       "      <td>-0.071530</td>\n",
       "      <td>-0.052801</td>\n",
       "      <td>-2.077824e-02</td>\n",
       "      <td>0.064393</td>\n",
       "      <td>-0.042335</td>\n",
       "    </tr>\n",
       "    <tr>\n",
       "      <th>Purpose.Radio.Television</th>\n",
       "      <td>-0.044319</td>\n",
       "      <td>-0.173203</td>\n",
       "      <td>0.138552</td>\n",
       "      <td>-0.090043</td>\n",
       "      <td>-0.046401</td>\n",
       "      <td>-0.030706</td>\n",
       "      <td>-0.082464</td>\n",
       "      <td>0.082243</td>\n",
       "      <td>0.063242</td>\n",
       "      <td>-0.113454</td>\n",
       "      <td>...</td>\n",
       "      <td>-0.038113</td>\n",
       "      <td>-0.001684</td>\n",
       "      <td>0.034801</td>\n",
       "      <td>-0.070414</td>\n",
       "      <td>0.134705</td>\n",
       "      <td>-0.109357</td>\n",
       "      <td>-0.063164</td>\n",
       "      <td>5.567943e-03</td>\n",
       "      <td>0.085802</td>\n",
       "      <td>-0.096839</td>\n",
       "    </tr>\n",
       "    <tr>\n",
       "      <th>Purpose.DomesticAppliance</th>\n",
       "      <td>-0.037212</td>\n",
       "      <td>-0.069268</td>\n",
       "      <td>0.019088</td>\n",
       "      <td>-0.017816</td>\n",
       "      <td>-0.012562</td>\n",
       "      <td>-0.061782</td>\n",
       "      <td>-0.047201</td>\n",
       "      <td>0.015871</td>\n",
       "      <td>0.021602</td>\n",
       "      <td>0.035253</td>\n",
       "      <td>...</td>\n",
       "      <td>-0.017734</td>\n",
       "      <td>-0.024475</td>\n",
       "      <td>0.029079</td>\n",
       "      <td>-0.003546</td>\n",
       "      <td>0.029317</td>\n",
       "      <td>-0.038348</td>\n",
       "      <td>0.046082</td>\n",
       "      <td>-3.214393e-02</td>\n",
       "      <td>0.046414</td>\n",
       "      <td>-0.045933</td>\n",
       "    </tr>\n",
       "    <tr>\n",
       "      <th>Purpose.Repairs</th>\n",
       "      <td>-0.022549</td>\n",
       "      <td>-0.028875</td>\n",
       "      <td>0.040204</td>\n",
       "      <td>0.027253</td>\n",
       "      <td>0.039567</td>\n",
       "      <td>0.071390</td>\n",
       "      <td>0.029952</td>\n",
       "      <td>0.054017</td>\n",
       "      <td>-0.006718</td>\n",
       "      <td>-0.015713</td>\n",
       "      <td>...</td>\n",
       "      <td>-0.060263</td>\n",
       "      <td>-0.001095</td>\n",
       "      <td>0.054174</td>\n",
       "      <td>-0.034465</td>\n",
       "      <td>0.019803</td>\n",
       "      <td>0.013706</td>\n",
       "      <td>0.070459</td>\n",
       "      <td>4.431315e-02</td>\n",
       "      <td>-0.012144</td>\n",
       "      <td>-0.062511</td>\n",
       "    </tr>\n",
       "    <tr>\n",
       "      <th>Purpose.Education</th>\n",
       "      <td>0.003750</td>\n",
       "      <td>-0.007388</td>\n",
       "      <td>0.042471</td>\n",
       "      <td>0.040552</td>\n",
       "      <td>0.068483</td>\n",
       "      <td>-0.010728</td>\n",
       "      <td>0.041204</td>\n",
       "      <td>-0.016831</td>\n",
       "      <td>0.044969</td>\n",
       "      <td>-0.007201</td>\n",
       "      <td>...</td>\n",
       "      <td>0.013926</td>\n",
       "      <td>-0.007588</td>\n",
       "      <td>-0.008254</td>\n",
       "      <td>0.000598</td>\n",
       "      <td>-0.097880</td>\n",
       "      <td>0.141916</td>\n",
       "      <td>-0.003128</td>\n",
       "      <td>2.340080e-17</td>\n",
       "      <td>0.004752</td>\n",
       "      <td>-0.005168</td>\n",
       "    </tr>\n",
       "    <tr>\n",
       "      <th>Purpose.Vacation</th>\n",
       "      <td>NaN</td>\n",
       "      <td>NaN</td>\n",
       "      <td>NaN</td>\n",
       "      <td>NaN</td>\n",
       "      <td>NaN</td>\n",
       "      <td>NaN</td>\n",
       "      <td>NaN</td>\n",
       "      <td>NaN</td>\n",
       "      <td>NaN</td>\n",
       "      <td>NaN</td>\n",
       "      <td>...</td>\n",
       "      <td>NaN</td>\n",
       "      <td>NaN</td>\n",
       "      <td>NaN</td>\n",
       "      <td>NaN</td>\n",
       "      <td>NaN</td>\n",
       "      <td>NaN</td>\n",
       "      <td>NaN</td>\n",
       "      <td>NaN</td>\n",
       "      <td>NaN</td>\n",
       "      <td>NaN</td>\n",
       "    </tr>\n",
       "    <tr>\n",
       "      <th>Purpose.Retraining</th>\n",
       "      <td>-0.072151</td>\n",
       "      <td>-0.069764</td>\n",
       "      <td>0.040180</td>\n",
       "      <td>0.013390</td>\n",
       "      <td>-0.007370</td>\n",
       "      <td>-0.012159</td>\n",
       "      <td>0.017701</td>\n",
       "      <td>0.013724</td>\n",
       "      <td>0.018680</td>\n",
       "      <td>-0.011063</td>\n",
       "      <td>...</td>\n",
       "      <td>-0.007683</td>\n",
       "      <td>-0.021163</td>\n",
       "      <td>0.018341</td>\n",
       "      <td>-0.016877</td>\n",
       "      <td>0.037054</td>\n",
       "      <td>-0.033160</td>\n",
       "      <td>-0.014293</td>\n",
       "      <td>8.470946e-02</td>\n",
       "      <td>-0.058557</td>\n",
       "      <td>-0.009900</td>\n",
       "    </tr>\n",
       "    <tr>\n",
       "      <th>Purpose.Business</th>\n",
       "      <td>0.164113</td>\n",
       "      <td>0.103016</td>\n",
       "      <td>-0.025326</td>\n",
       "      <td>-0.048899</td>\n",
       "      <td>-0.001772</td>\n",
       "      <td>0.084980</td>\n",
       "      <td>-0.000327</td>\n",
       "      <td>-0.088221</td>\n",
       "      <td>0.046343</td>\n",
       "      <td>-0.087712</td>\n",
       "      <td>...</td>\n",
       "      <td>0.063652</td>\n",
       "      <td>0.070902</td>\n",
       "      <td>-0.095155</td>\n",
       "      <td>-0.012013</td>\n",
       "      <td>0.051083</td>\n",
       "      <td>-0.059613</td>\n",
       "      <td>-0.003087</td>\n",
       "      <td>5.068291e-03</td>\n",
       "      <td>-0.007768</td>\n",
       "      <td>0.006128</td>\n",
       "    </tr>\n",
       "    <tr>\n",
       "      <th>Purpose.Other</th>\n",
       "      <td>0.104516</td>\n",
       "      <td>0.192893</td>\n",
       "      <td>-0.030193</td>\n",
       "      <td>0.040460</td>\n",
       "      <td>0.042365</td>\n",
       "      <td>0.017752</td>\n",
       "      <td>0.003553</td>\n",
       "      <td>-0.115142</td>\n",
       "      <td>-0.027052</td>\n",
       "      <td>0.014661</td>\n",
       "      <td>...</td>\n",
       "      <td>0.141551</td>\n",
       "      <td>0.018920</td>\n",
       "      <td>-0.136141</td>\n",
       "      <td>-0.051460</td>\n",
       "      <td>-0.011288</td>\n",
       "      <td>0.080010</td>\n",
       "      <td>0.046082</td>\n",
       "      <td>-3.214393e-02</td>\n",
       "      <td>-0.124785</td>\n",
       "      <td>0.186835</td>\n",
       "    </tr>\n",
       "    <tr>\n",
       "      <th>SavingsAccountBonds.lt.100</th>\n",
       "      <td>-0.047228</td>\n",
       "      <td>-0.036443</td>\n",
       "      <td>-0.008626</td>\n",
       "      <td>-0.089921</td>\n",
       "      <td>-0.044084</td>\n",
       "      <td>0.033909</td>\n",
       "      <td>-0.019568</td>\n",
       "      <td>0.060861</td>\n",
       "      <td>0.003367</td>\n",
       "      <td>0.246438</td>\n",
       "      <td>...</td>\n",
       "      <td>-0.004827</td>\n",
       "      <td>0.016021</td>\n",
       "      <td>-0.004423</td>\n",
       "      <td>-0.010327</td>\n",
       "      <td>0.000276</td>\n",
       "      <td>0.012353</td>\n",
       "      <td>-0.003706</td>\n",
       "      <td>3.781097e-02</td>\n",
       "      <td>-0.058800</td>\n",
       "      <td>0.038885</td>\n",
       "    </tr>\n",
       "    <tr>\n",
       "      <th>SavingsAccountBonds.100.to.500</th>\n",
       "      <td>0.051587</td>\n",
       "      <td>0.013546</td>\n",
       "      <td>-0.015356</td>\n",
       "      <td>0.017789</td>\n",
       "      <td>-0.075302</td>\n",
       "      <td>-0.010946</td>\n",
       "      <td>0.000318</td>\n",
       "      <td>0.024217</td>\n",
       "      <td>-0.003294</td>\n",
       "      <td>-0.119659</td>\n",
       "      <td>...</td>\n",
       "      <td>0.006495</td>\n",
       "      <td>-0.013073</td>\n",
       "      <td>0.001336</td>\n",
       "      <td>0.030578</td>\n",
       "      <td>-0.017738</td>\n",
       "      <td>-0.011914</td>\n",
       "      <td>-0.050823</td>\n",
       "      <td>1.973951e-02</td>\n",
       "      <td>0.007564</td>\n",
       "      <td>-0.011525</td>\n",
       "    </tr>\n",
       "    <tr>\n",
       "      <th>SavingsAccountBonds.500.to.1000</th>\n",
       "      <td>-0.040257</td>\n",
       "      <td>-0.064256</td>\n",
       "      <td>-0.023186</td>\n",
       "      <td>0.032702</td>\n",
       "      <td>0.030988</td>\n",
       "      <td>-0.061599</td>\n",
       "      <td>-0.008700</td>\n",
       "      <td>-0.004596</td>\n",
       "      <td>0.029022</td>\n",
       "      <td>-0.085471</td>\n",
       "      <td>...</td>\n",
       "      <td>0.002891</td>\n",
       "      <td>0.000758</td>\n",
       "      <td>-0.002983</td>\n",
       "      <td>0.007762</td>\n",
       "      <td>0.000737</td>\n",
       "      <td>-0.010662</td>\n",
       "      <td>0.045288</td>\n",
       "      <td>-6.173781e-03</td>\n",
       "      <td>0.019692</td>\n",
       "      <td>-0.038527</td>\n",
       "    </tr>\n",
       "    <tr>\n",
       "      <th>SavingsAccountBonds.gt.1000</th>\n",
       "      <td>-0.048261</td>\n",
       "      <td>-0.055542</td>\n",
       "      <td>0.034708</td>\n",
       "      <td>-0.002375</td>\n",
       "      <td>0.032007</td>\n",
       "      <td>0.036169</td>\n",
       "      <td>-0.005687</td>\n",
       "      <td>-0.005796</td>\n",
       "      <td>-0.030334</td>\n",
       "      <td>-0.075014</td>\n",
       "      <td>...</td>\n",
       "      <td>-0.009087</td>\n",
       "      <td>0.016445</td>\n",
       "      <td>-0.000866</td>\n",
       "      <td>0.004979</td>\n",
       "      <td>0.028707</td>\n",
       "      <td>-0.047989</td>\n",
       "      <td>-0.001786</td>\n",
       "      <td>-1.871203e-02</td>\n",
       "      <td>0.055810</td>\n",
       "      <td>-0.054065</td>\n",
       "    </tr>\n",
       "    <tr>\n",
       "      <th>SavingsAccountBonds.Unknown</th>\n",
       "      <td>0.071185</td>\n",
       "      <td>0.106546</td>\n",
       "      <td>0.018367</td>\n",
       "      <td>0.080564</td>\n",
       "      <td>0.077811</td>\n",
       "      <td>-0.015593</td>\n",
       "      <td>0.033122</td>\n",
       "      <td>-0.089956</td>\n",
       "      <td>-0.003138</td>\n",
       "      <td>-0.122593</td>\n",
       "      <td>...</td>\n",
       "      <td>0.004209</td>\n",
       "      <td>-0.019564</td>\n",
       "      <td>0.006899</td>\n",
       "      <td>-0.018600</td>\n",
       "      <td>-0.002739</td>\n",
       "      <td>0.026964</td>\n",
       "      <td>0.017173</td>\n",
       "      <td>-4.913795e-02</td>\n",
       "      <td>0.025230</td>\n",
       "      <td>0.013954</td>\n",
       "    </tr>\n",
       "    <tr>\n",
       "      <th>EmploymentDuration.lt.1</th>\n",
       "      <td>-0.056792</td>\n",
       "      <td>-0.051502</td>\n",
       "      <td>-0.034021</td>\n",
       "      <td>-0.164155</td>\n",
       "      <td>-0.209967</td>\n",
       "      <td>-0.096399</td>\n",
       "      <td>-0.048764</td>\n",
       "      <td>0.072837</td>\n",
       "      <td>-0.037004</td>\n",
       "      <td>0.011122</td>\n",
       "      <td>...</td>\n",
       "      <td>0.000705</td>\n",
       "      <td>0.011469</td>\n",
       "      <td>-0.006865</td>\n",
       "      <td>0.112062</td>\n",
       "      <td>-0.021299</td>\n",
       "      <td>-0.107367</td>\n",
       "      <td>0.021967</td>\n",
       "      <td>6.359630e-02</td>\n",
       "      <td>-0.007464</td>\n",
       "      <td>-0.070563</td>\n",
       "    </tr>\n",
       "    <tr>\n",
       "      <th>EmploymentDuration.1.to.4</th>\n",
       "      <td>-0.031920</td>\n",
       "      <td>-0.037052</td>\n",
       "      <td>-0.069614</td>\n",
       "      <td>-0.140663</td>\n",
       "      <td>-0.154975</td>\n",
       "      <td>-0.073079</td>\n",
       "      <td>-0.032367</td>\n",
       "      <td>0.090218</td>\n",
       "      <td>-0.038689</td>\n",
       "      <td>-0.004197</td>\n",
       "      <td>...</td>\n",
       "      <td>-0.055697</td>\n",
       "      <td>0.030614</td>\n",
       "      <td>0.032868</td>\n",
       "      <td>0.001758</td>\n",
       "      <td>0.048068</td>\n",
       "      <td>-0.072227</td>\n",
       "      <td>-0.093007</td>\n",
       "      <td>6.443165e-02</td>\n",
       "      <td>0.071890</td>\n",
       "      <td>-0.131903</td>\n",
       "    </tr>\n",
       "    <tr>\n",
       "      <th>EmploymentDuration.4.to.7</th>\n",
       "      <td>0.079635</td>\n",
       "      <td>0.053755</td>\n",
       "      <td>-0.000712</td>\n",
       "      <td>-0.031156</td>\n",
       "      <td>-0.083520</td>\n",
       "      <td>0.037380</td>\n",
       "      <td>0.022084</td>\n",
       "      <td>-0.036038</td>\n",
       "      <td>-0.007853</td>\n",
       "      <td>-0.009912</td>\n",
       "      <td>...</td>\n",
       "      <td>-0.001418</td>\n",
       "      <td>-0.027146</td>\n",
       "      <td>0.016026</td>\n",
       "      <td>0.005876</td>\n",
       "      <td>0.040456</td>\n",
       "      <td>-0.066220</td>\n",
       "      <td>-0.068838</td>\n",
       "      <td>-5.275521e-03</td>\n",
       "      <td>0.051247</td>\n",
       "      <td>-0.035299</td>\n",
       "    </tr>\n",
       "    <tr>\n",
       "      <th>EmploymentDuration.gt.7</th>\n",
       "      <td>0.017471</td>\n",
       "      <td>-0.009619</td>\n",
       "      <td>0.133371</td>\n",
       "      <td>0.302796</td>\n",
       "      <td>0.362520</td>\n",
       "      <td>0.123622</td>\n",
       "      <td>0.081262</td>\n",
       "      <td>-0.083386</td>\n",
       "      <td>0.053144</td>\n",
       "      <td>-0.017133</td>\n",
       "      <td>...</td>\n",
       "      <td>0.072031</td>\n",
       "      <td>-0.042291</td>\n",
       "      <td>-0.041039</td>\n",
       "      <td>-0.085728</td>\n",
       "      <td>-0.042658</td>\n",
       "      <td>0.168055</td>\n",
       "      <td>-0.087285</td>\n",
       "      <td>-5.520656e-02</td>\n",
       "      <td>0.012435</td>\n",
       "      <td>0.081335</td>\n",
       "    </tr>\n",
       "    <tr>\n",
       "      <th>EmploymentDuration.Unemployed</th>\n",
       "      <td>-0.005156</td>\n",
       "      <td>0.086159</td>\n",
       "      <td>-0.049420</td>\n",
       "      <td>0.036123</td>\n",
       "      <td>0.110562</td>\n",
       "      <td>0.012684</td>\n",
       "      <td>-0.041363</td>\n",
       "      <td>-0.084101</td>\n",
       "      <td>0.050394</td>\n",
       "      <td>0.037301</td>\n",
       "      <td>...</td>\n",
       "      <td>-0.019394</td>\n",
       "      <td>0.040872</td>\n",
       "      <td>-0.004987</td>\n",
       "      <td>-0.033511</td>\n",
       "      <td>-0.047722</td>\n",
       "      <td>0.110942</td>\n",
       "      <td>0.413756</td>\n",
       "      <td>-1.181810e-01</td>\n",
       "      <td>-0.232412</td>\n",
       "      <td>0.278206</td>\n",
       "    </tr>\n",
       "    <tr>\n",
       "      <th>Personal.Male.Divorced.Seperated</th>\n",
       "      <td>0.006415</td>\n",
       "      <td>0.033619</td>\n",
       "      <td>-0.097047</td>\n",
       "      <td>-0.038473</td>\n",
       "      <td>0.062430</td>\n",
       "      <td>-0.026622</td>\n",
       "      <td>-0.060222</td>\n",
       "      <td>-0.016831</td>\n",
       "      <td>0.020661</td>\n",
       "      <td>0.033949</td>\n",
       "      <td>...</td>\n",
       "      <td>-0.025863</td>\n",
       "      <td>-0.029268</td>\n",
       "      <td>0.038913</td>\n",
       "      <td>-0.035308</td>\n",
       "      <td>0.054265</td>\n",
       "      <td>-0.035479</td>\n",
       "      <td>-0.034408</td>\n",
       "      <td>-2.294157e-02</td>\n",
       "      <td>-0.004752</td>\n",
       "      <td>0.046516</td>\n",
       "    </tr>\n",
       "    <tr>\n",
       "      <th>Personal.Female.NotSingle</th>\n",
       "      <td>-0.081432</td>\n",
       "      <td>-0.093482</td>\n",
       "      <td>-0.086302</td>\n",
       "      <td>0.013818</td>\n",
       "      <td>-0.161694</td>\n",
       "      <td>-0.094260</td>\n",
       "      <td>-0.203431</td>\n",
       "      <td>0.075966</td>\n",
       "      <td>0.051202</td>\n",
       "      <td>0.014834</td>\n",
       "      <td>...</td>\n",
       "      <td>-0.019313</td>\n",
       "      <td>-0.046689</td>\n",
       "      <td>0.042565</td>\n",
       "      <td>0.222845</td>\n",
       "      <td>-0.119638</td>\n",
       "      <td>-0.100872</td>\n",
       "      <td>0.076356</td>\n",
       "      <td>1.081097e-02</td>\n",
       "      <td>0.007613</td>\n",
       "      <td>-0.054070</td>\n",
       "    </tr>\n",
       "    <tr>\n",
       "      <th>Personal.Male.Single</th>\n",
       "      <td>0.121889</td>\n",
       "      <td>0.152458</td>\n",
       "      <td>0.118233</td>\n",
       "      <td>0.063639</td>\n",
       "      <td>0.207434</td>\n",
       "      <td>0.118198</td>\n",
       "      <td>0.283483</td>\n",
       "      <td>-0.080290</td>\n",
       "      <td>-0.028996</td>\n",
       "      <td>-0.009695</td>\n",
       "      <td>...</td>\n",
       "      <td>0.033849</td>\n",
       "      <td>0.068774</td>\n",
       "      <td>-0.067502</td>\n",
       "      <td>-0.225860</td>\n",
       "      <td>0.076736</td>\n",
       "      <td>0.167123</td>\n",
       "      <td>-0.055559</td>\n",
       "      <td>-1.808352e-02</td>\n",
       "      <td>-0.021807</td>\n",
       "      <td>0.072970</td>\n",
       "    </tr>\n",
       "    <tr>\n",
       "      <th>Personal.Male.Married.Widowed</th>\n",
       "      <td>-0.084418</td>\n",
       "      <td>-0.138289</td>\n",
       "      <td>0.007686</td>\n",
       "      <td>-0.102684</td>\n",
       "      <td>-0.145529</td>\n",
       "      <td>-0.032623</td>\n",
       "      <td>-0.117209</td>\n",
       "      <td>0.029388</td>\n",
       "      <td>-0.047583</td>\n",
       "      <td>-0.032643</td>\n",
       "      <td>...</td>\n",
       "      <td>-0.007881</td>\n",
       "      <td>-0.021645</td>\n",
       "      <td>0.018780</td>\n",
       "      <td>0.058954</td>\n",
       "      <td>0.018387</td>\n",
       "      <td>-0.099612</td>\n",
       "      <td>-0.000566</td>\n",
       "      <td>3.113907e-02</td>\n",
       "      <td>0.028952</td>\n",
       "      <td>-0.074206</td>\n",
       "    </tr>\n",
       "    <tr>\n",
       "      <th>Personal.Female.Single</th>\n",
       "      <td>NaN</td>\n",
       "      <td>NaN</td>\n",
       "      <td>NaN</td>\n",
       "      <td>NaN</td>\n",
       "      <td>NaN</td>\n",
       "      <td>NaN</td>\n",
       "      <td>NaN</td>\n",
       "      <td>NaN</td>\n",
       "      <td>NaN</td>\n",
       "      <td>NaN</td>\n",
       "      <td>...</td>\n",
       "      <td>NaN</td>\n",
       "      <td>NaN</td>\n",
       "      <td>NaN</td>\n",
       "      <td>NaN</td>\n",
       "      <td>NaN</td>\n",
       "      <td>NaN</td>\n",
       "      <td>NaN</td>\n",
       "      <td>NaN</td>\n",
       "      <td>NaN</td>\n",
       "      <td>NaN</td>\n",
       "    </tr>\n",
       "    <tr>\n",
       "      <th>OtherDebtorsGuarantors.None</th>\n",
       "      <td>0.009993</td>\n",
       "      <td>-0.004116</td>\n",
       "      <td>0.013823</td>\n",
       "      <td>0.020553</td>\n",
       "      <td>0.030822</td>\n",
       "      <td>0.022966</td>\n",
       "      <td>-0.005566</td>\n",
       "      <td>-0.067165</td>\n",
       "      <td>0.119641</td>\n",
       "      <td>-0.081198</td>\n",
       "      <td>...</td>\n",
       "      <td>-0.060443</td>\n",
       "      <td>0.038574</td>\n",
       "      <td>0.032758</td>\n",
       "      <td>-0.048079</td>\n",
       "      <td>0.002352</td>\n",
       "      <td>0.055955</td>\n",
       "      <td>0.001080</td>\n",
       "      <td>-2.926670e-02</td>\n",
       "      <td>-0.010055</td>\n",
       "      <td>0.046193</td>\n",
       "    </tr>\n",
       "    <tr>\n",
       "      <th>OtherDebtorsGuarantors.CoApplicant</th>\n",
       "      <td>0.029698</td>\n",
       "      <td>0.079076</td>\n",
       "      <td>-0.013048</td>\n",
       "      <td>0.001623</td>\n",
       "      <td>-0.018357</td>\n",
       "      <td>-0.006001</td>\n",
       "      <td>-0.032817</td>\n",
       "      <td>0.016074</td>\n",
       "      <td>-0.066338</td>\n",
       "      <td>0.065197</td>\n",
       "      <td>...</td>\n",
       "      <td>0.004388</td>\n",
       "      <td>-0.022089</td>\n",
       "      <td>0.008113</td>\n",
       "      <td>0.048162</td>\n",
       "      <td>-0.036043</td>\n",
       "      <td>-0.006954</td>\n",
       "      <td>0.037750</td>\n",
       "      <td>-2.773713e-02</td>\n",
       "      <td>-0.008670</td>\n",
       "      <td>0.027438</td>\n",
       "    </tr>\n",
       "    <tr>\n",
       "      <th>OtherDebtorsGuarantors.Guarantor</th>\n",
       "      <td>-0.039594</td>\n",
       "      <td>-0.065237</td>\n",
       "      <td>-0.006429</td>\n",
       "      <td>-0.028334</td>\n",
       "      <td>-0.023923</td>\n",
       "      <td>-0.024682</td>\n",
       "      <td>0.036589</td>\n",
       "      <td>0.073503</td>\n",
       "      <td>-0.097256</td>\n",
       "      <td>0.047987</td>\n",
       "      <td>...</td>\n",
       "      <td>0.075147</td>\n",
       "      <td>-0.030730</td>\n",
       "      <td>-0.050097</td>\n",
       "      <td>0.019879</td>\n",
       "      <td>0.029113</td>\n",
       "      <td>-0.066983</td>\n",
       "      <td>-0.035127</td>\n",
       "      <td>6.305539e-02</td>\n",
       "      <td>0.020896</td>\n",
       "      <td>-0.084930</td>\n",
       "    </tr>\n",
       "    <tr>\n",
       "      <th>Property.RealEstate</th>\n",
       "      <td>-0.242586</td>\n",
       "      <td>-0.248338</td>\n",
       "      <td>-0.034555</td>\n",
       "      <td>-0.085194</td>\n",
       "      <td>0.011538</td>\n",
       "      <td>0.008568</td>\n",
       "      <td>0.020203</td>\n",
       "      <td>0.162717</td>\n",
       "      <td>-0.112624</td>\n",
       "      <td>-0.036215</td>\n",
       "      <td>...</td>\n",
       "      <td>-0.065512</td>\n",
       "      <td>-0.002667</td>\n",
       "      <td>0.059696</td>\n",
       "      <td>0.026215</td>\n",
       "      <td>0.122495</td>\n",
       "      <td>-0.210908</td>\n",
       "      <td>0.027211</td>\n",
       "      <td>2.366807e-01</td>\n",
       "      <td>-0.076686</td>\n",
       "      <td>-0.173583</td>\n",
       "    </tr>\n",
       "    <tr>\n",
       "      <th>Property.Insurance</th>\n",
       "      <td>-0.056706</td>\n",
       "      <td>-0.032556</td>\n",
       "      <td>-0.020628</td>\n",
       "      <td>-0.023708</td>\n",
       "      <td>-0.028686</td>\n",
       "      <td>-0.009946</td>\n",
       "      <td>-0.006284</td>\n",
       "      <td>0.022826</td>\n",
       "      <td>-0.042873</td>\n",
       "      <td>0.087282</td>\n",
       "      <td>...</td>\n",
       "      <td>-0.015394</td>\n",
       "      <td>0.012268</td>\n",
       "      <td>0.007014</td>\n",
       "      <td>0.027636</td>\n",
       "      <td>0.097326</td>\n",
       "      <td>-0.175981</td>\n",
       "      <td>-0.033981</td>\n",
       "      <td>2.132151e-02</td>\n",
       "      <td>0.018842</td>\n",
       "      <td>-0.035599</td>\n",
       "    </tr>\n",
       "    <tr>\n",
       "      <th>Property.CarOther</th>\n",
       "      <td>0.119486</td>\n",
       "      <td>0.075679</td>\n",
       "      <td>0.017023</td>\n",
       "      <td>-0.041462</td>\n",
       "      <td>-0.143485</td>\n",
       "      <td>0.010577</td>\n",
       "      <td>-0.073108</td>\n",
       "      <td>-0.068685</td>\n",
       "      <td>0.104439</td>\n",
       "      <td>-0.080785</td>\n",
       "      <td>...</td>\n",
       "      <td>-0.000908</td>\n",
       "      <td>0.024040</td>\n",
       "      <td>-0.012268</td>\n",
       "      <td>0.003168</td>\n",
       "      <td>0.160934</td>\n",
       "      <td>-0.238466</td>\n",
       "      <td>-0.033354</td>\n",
       "      <td>-1.560738e-01</td>\n",
       "      <td>0.104852</td>\n",
       "      <td>0.047026</td>\n",
       "    </tr>\n",
       "  </tbody>\n",
       "</table>\n",
       "<p>50 rows × 61 columns</p>\n",
       "</div>"
      ],
      "text/plain": [
       "                                    Duration    Amount  \\\n",
       "Duration                            1.000000  0.624984   \n",
       "Amount                              0.624984  1.000000   \n",
       "InstallmentRatePercentage           0.074749 -0.271316   \n",
       "ResidenceDuration                   0.034067  0.028926   \n",
       "Age                                -0.036136  0.032716   \n",
       "NumberExistingCredits              -0.011284  0.020795   \n",
       "NumberPeopleMaintenance            -0.023834  0.017142   \n",
       "Telephone                          -0.164718 -0.276995   \n",
       "ForeignWorker                       0.138196  0.050050   \n",
       "CheckingAccountStatus.lt.0          0.022244 -0.020912   \n",
       "CheckingAccountStatus.0.to.200      0.089452  0.119612   \n",
       "CheckingAccountStatus.gt.200       -0.076455 -0.100510   \n",
       "CheckingAccountStatus.none         -0.063467 -0.039485   \n",
       "CreditHistory.NoCredit.AllPaid      0.118077  0.147191   \n",
       "CreditHistory.ThisBank.AllPaid      0.033728  0.005923   \n",
       "CreditHistory.PaidDuly             -0.069751 -0.086682   \n",
       "CreditHistory.Delay                 0.136927  0.113552   \n",
       "CreditHistory.Critical             -0.075575 -0.041807   \n",
       "Purpose.NewCar                     -0.109999 -0.040793   \n",
       "Purpose.UsedCar                     0.144939  0.252101   \n",
       "Purpose.Furniture.Equipment        -0.062804 -0.034037   \n",
       "Purpose.Radio.Television           -0.044319 -0.173203   \n",
       "Purpose.DomesticAppliance          -0.037212 -0.069268   \n",
       "Purpose.Repairs                    -0.022549 -0.028875   \n",
       "Purpose.Education                   0.003750 -0.007388   \n",
       "Purpose.Vacation                         NaN       NaN   \n",
       "Purpose.Retraining                 -0.072151 -0.069764   \n",
       "Purpose.Business                    0.164113  0.103016   \n",
       "Purpose.Other                       0.104516  0.192893   \n",
       "SavingsAccountBonds.lt.100         -0.047228 -0.036443   \n",
       "SavingsAccountBonds.100.to.500      0.051587  0.013546   \n",
       "SavingsAccountBonds.500.to.1000    -0.040257 -0.064256   \n",
       "SavingsAccountBonds.gt.1000        -0.048261 -0.055542   \n",
       "SavingsAccountBonds.Unknown         0.071185  0.106546   \n",
       "EmploymentDuration.lt.1            -0.056792 -0.051502   \n",
       "EmploymentDuration.1.to.4          -0.031920 -0.037052   \n",
       "EmploymentDuration.4.to.7           0.079635  0.053755   \n",
       "EmploymentDuration.gt.7             0.017471 -0.009619   \n",
       "EmploymentDuration.Unemployed      -0.005156  0.086159   \n",
       "Personal.Male.Divorced.Seperated    0.006415  0.033619   \n",
       "Personal.Female.NotSingle          -0.081432 -0.093482   \n",
       "Personal.Male.Single                0.121889  0.152458   \n",
       "Personal.Male.Married.Widowed      -0.084418 -0.138289   \n",
       "Personal.Female.Single                   NaN       NaN   \n",
       "OtherDebtorsGuarantors.None         0.009993 -0.004116   \n",
       "OtherDebtorsGuarantors.CoApplicant  0.029698  0.079076   \n",
       "OtherDebtorsGuarantors.Guarantor   -0.039594 -0.065237   \n",
       "Property.RealEstate                -0.242586 -0.248338   \n",
       "Property.Insurance                 -0.056706 -0.032556   \n",
       "Property.CarOther                   0.119486  0.075679   \n",
       "\n",
       "                                    InstallmentRatePercentage  \\\n",
       "Duration                                             0.074749   \n",
       "Amount                                              -0.271316   \n",
       "InstallmentRatePercentage                            1.000000   \n",
       "ResidenceDuration                                    0.049302   \n",
       "Age                                                  0.058266   \n",
       "NumberExistingCredits                                0.021669   \n",
       "NumberPeopleMaintenance                             -0.071207   \n",
       "Telephone                                           -0.014413   \n",
       "ForeignWorker                                        0.090024   \n",
       "CheckingAccountStatus.lt.0                           0.046917   \n",
       "CheckingAccountStatus.0.to.200                      -0.051906   \n",
       "CheckingAccountStatus.gt.200                        -0.041591   \n",
       "CheckingAccountStatus.none                           0.024961   \n",
       "CreditHistory.NoCredit.AllPaid                      -0.054401   \n",
       "CreditHistory.ThisBank.AllPaid                       0.030339   \n",
       "CreditHistory.PaidDuly                              -0.020947   \n",
       "CreditHistory.Delay                                 -0.014597   \n",
       "CreditHistory.Critical                               0.041089   \n",
       "Purpose.NewCar                                      -0.045801   \n",
       "Purpose.UsedCar                                     -0.094797   \n",
       "Purpose.Furniture.Equipment                         -0.062979   \n",
       "Purpose.Radio.Television                             0.138552   \n",
       "Purpose.DomesticAppliance                            0.019088   \n",
       "Purpose.Repairs                                      0.040204   \n",
       "Purpose.Education                                    0.042471   \n",
       "Purpose.Vacation                                          NaN   \n",
       "Purpose.Retraining                                   0.040180   \n",
       "Purpose.Business                                    -0.025326   \n",
       "Purpose.Other                                       -0.030193   \n",
       "SavingsAccountBonds.lt.100                          -0.008626   \n",
       "SavingsAccountBonds.100.to.500                      -0.015356   \n",
       "SavingsAccountBonds.500.to.1000                     -0.023186   \n",
       "SavingsAccountBonds.gt.1000                          0.034708   \n",
       "SavingsAccountBonds.Unknown                          0.018367   \n",
       "EmploymentDuration.lt.1                             -0.034021   \n",
       "EmploymentDuration.1.to.4                           -0.069614   \n",
       "EmploymentDuration.4.to.7                           -0.000712   \n",
       "EmploymentDuration.gt.7                              0.133371   \n",
       "EmploymentDuration.Unemployed                       -0.049420   \n",
       "Personal.Male.Divorced.Seperated                    -0.097047   \n",
       "Personal.Female.NotSingle                           -0.086302   \n",
       "Personal.Male.Single                                 0.118233   \n",
       "Personal.Male.Married.Widowed                        0.007686   \n",
       "Personal.Female.Single                                    NaN   \n",
       "OtherDebtorsGuarantors.None                          0.013823   \n",
       "OtherDebtorsGuarantors.CoApplicant                  -0.013048   \n",
       "OtherDebtorsGuarantors.Guarantor                    -0.006429   \n",
       "Property.RealEstate                                 -0.034555   \n",
       "Property.Insurance                                  -0.020628   \n",
       "Property.CarOther                                    0.017023   \n",
       "\n",
       "                                    ResidenceDuration       Age  \\\n",
       "Duration                                     0.034067 -0.036136   \n",
       "Amount                                       0.028926  0.032716   \n",
       "InstallmentRatePercentage                    0.049302  0.058266   \n",
       "ResidenceDuration                            1.000000  0.266419   \n",
       "Age                                          0.266419  1.000000   \n",
       "NumberExistingCredits                        0.089625  0.149254   \n",
       "NumberPeopleMaintenance                      0.042643  0.118201   \n",
       "Telephone                                   -0.095359 -0.145259   \n",
       "ForeignWorker                                0.054097  0.006151   \n",
       "CheckingAccountStatus.lt.0                   0.088350 -0.011162   \n",
       "CheckingAccountStatus.0.to.200              -0.055817 -0.078121   \n",
       "CheckingAccountStatus.gt.200                -0.064303  0.037504   \n",
       "CheckingAccountStatus.none                   0.001985  0.062436   \n",
       "CreditHistory.NoCredit.AllPaid               0.000925 -0.022370   \n",
       "CreditHistory.ThisBank.AllPaid               0.027694  0.014360   \n",
       "CreditHistory.PaidDuly                      -0.081458 -0.155848   \n",
       "CreditHistory.Delay                         -0.020351  0.016129   \n",
       "CreditHistory.Critical                       0.088460  0.163681   \n",
       "Purpose.NewCar                               0.019848  0.075044   \n",
       "Purpose.UsedCar                              0.107257  0.050858   \n",
       "Purpose.Furniture.Equipment                 -0.006934 -0.127657   \n",
       "Purpose.Radio.Television                    -0.090043 -0.046401   \n",
       "Purpose.DomesticAppliance                   -0.017816 -0.012562   \n",
       "Purpose.Repairs                              0.027253  0.039567   \n",
       "Purpose.Education                            0.040552  0.068483   \n",
       "Purpose.Vacation                                  NaN       NaN   \n",
       "Purpose.Retraining                           0.013390 -0.007370   \n",
       "Purpose.Business                            -0.048899 -0.001772   \n",
       "Purpose.Other                                0.040460  0.042365   \n",
       "SavingsAccountBonds.lt.100                  -0.089921 -0.044084   \n",
       "SavingsAccountBonds.100.to.500               0.017789 -0.075302   \n",
       "SavingsAccountBonds.500.to.1000              0.032702  0.030988   \n",
       "SavingsAccountBonds.gt.1000                 -0.002375  0.032007   \n",
       "SavingsAccountBonds.Unknown                  0.080564  0.077811   \n",
       "EmploymentDuration.lt.1                     -0.164155 -0.209967   \n",
       "EmploymentDuration.1.to.4                   -0.140663 -0.154975   \n",
       "EmploymentDuration.4.to.7                   -0.031156 -0.083520   \n",
       "EmploymentDuration.gt.7                      0.302796  0.362520   \n",
       "EmploymentDuration.Unemployed                0.036123  0.110562   \n",
       "Personal.Male.Divorced.Seperated            -0.038473  0.062430   \n",
       "Personal.Female.NotSingle                    0.013818 -0.161694   \n",
       "Personal.Male.Single                         0.063639  0.207434   \n",
       "Personal.Male.Married.Widowed               -0.102684 -0.145529   \n",
       "Personal.Female.Single                            NaN       NaN   \n",
       "OtherDebtorsGuarantors.None                  0.020553  0.030822   \n",
       "OtherDebtorsGuarantors.CoApplicant           0.001623 -0.018357   \n",
       "OtherDebtorsGuarantors.Guarantor            -0.028334 -0.023923   \n",
       "Property.RealEstate                         -0.085194  0.011538   \n",
       "Property.Insurance                          -0.023708 -0.028686   \n",
       "Property.CarOther                           -0.041462 -0.143485   \n",
       "\n",
       "                                    NumberExistingCredits  \\\n",
       "Duration                                        -0.011284   \n",
       "Amount                                           0.020795   \n",
       "InstallmentRatePercentage                        0.021669   \n",
       "ResidenceDuration                                0.089625   \n",
       "Age                                              0.149254   \n",
       "NumberExistingCredits                            1.000000   \n",
       "NumberPeopleMaintenance                          0.109667   \n",
       "Telephone                                       -0.065553   \n",
       "ForeignWorker                                    0.009717   \n",
       "CheckingAccountStatus.lt.0                      -0.029195   \n",
       "CheckingAccountStatus.0.to.200                  -0.052662   \n",
       "CheckingAccountStatus.gt.200                    -0.040213   \n",
       "CheckingAccountStatus.none                       0.094435   \n",
       "CreditHistory.NoCredit.AllPaid                   0.112427   \n",
       "CreditHistory.ThisBank.AllPaid                  -0.095824   \n",
       "CreditHistory.PaidDuly                          -0.540354   \n",
       "CreditHistory.Delay                              0.141742   \n",
       "CreditHistory.Critical                           0.501364   \n",
       "Purpose.NewCar                                   0.035845   \n",
       "Purpose.UsedCar                                 -0.005248   \n",
       "Purpose.Furniture.Equipment                     -0.070478   \n",
       "Purpose.Radio.Television                        -0.030706   \n",
       "Purpose.DomesticAppliance                       -0.061782   \n",
       "Purpose.Repairs                                  0.071390   \n",
       "Purpose.Education                               -0.010728   \n",
       "Purpose.Vacation                                      NaN   \n",
       "Purpose.Retraining                              -0.012159   \n",
       "Purpose.Business                                 0.084980   \n",
       "Purpose.Other                                    0.017752   \n",
       "SavingsAccountBonds.lt.100                       0.033909   \n",
       "SavingsAccountBonds.100.to.500                  -0.010946   \n",
       "SavingsAccountBonds.500.to.1000                 -0.061599   \n",
       "SavingsAccountBonds.gt.1000                      0.036169   \n",
       "SavingsAccountBonds.Unknown                     -0.015593   \n",
       "EmploymentDuration.lt.1                         -0.096399   \n",
       "EmploymentDuration.1.to.4                       -0.073079   \n",
       "EmploymentDuration.4.to.7                        0.037380   \n",
       "EmploymentDuration.gt.7                          0.123622   \n",
       "EmploymentDuration.Unemployed                    0.012684   \n",
       "Personal.Male.Divorced.Seperated                -0.026622   \n",
       "Personal.Female.NotSingle                       -0.094260   \n",
       "Personal.Male.Single                             0.118198   \n",
       "Personal.Male.Married.Widowed                   -0.032623   \n",
       "Personal.Female.Single                                NaN   \n",
       "OtherDebtorsGuarantors.None                      0.022966   \n",
       "OtherDebtorsGuarantors.CoApplicant              -0.006001   \n",
       "OtherDebtorsGuarantors.Guarantor                -0.024682   \n",
       "Property.RealEstate                              0.008568   \n",
       "Property.Insurance                              -0.009946   \n",
       "Property.CarOther                                0.010577   \n",
       "\n",
       "                                    NumberPeopleMaintenance  Telephone  \\\n",
       "Duration                                          -0.023834  -0.164718   \n",
       "Amount                                             0.017142  -0.276995   \n",
       "InstallmentRatePercentage                         -0.071207  -0.014413   \n",
       "ResidenceDuration                                  0.042643  -0.095359   \n",
       "Age                                                0.118201  -0.145259   \n",
       "NumberExistingCredits                              0.109667  -0.065553   \n",
       "NumberPeopleMaintenance                            1.000000   0.014753   \n",
       "Telephone                                          0.014753   1.000000   \n",
       "ForeignWorker                                     -0.077071  -0.107401   \n",
       "CheckingAccountStatus.lt.0                         0.059041   0.067149   \n",
       "CheckingAccountStatus.0.to.200                    -0.066643  -0.015276   \n",
       "CheckingAccountStatus.gt.200                      -0.008700   0.028955   \n",
       "CheckingAccountStatus.none                         0.010914  -0.061825   \n",
       "CreditHistory.NoCredit.AllPaid                     0.011281   0.001664   \n",
       "CreditHistory.ThisBank.AllPaid                     0.069185   0.016955   \n",
       "CreditHistory.PaidDuly                            -0.078339   0.057655   \n",
       "CreditHistory.Delay                                0.042526  -0.046384   \n",
       "CreditHistory.Critical                             0.021765  -0.043110   \n",
       "Purpose.NewCar                                     0.102663   0.036275   \n",
       "Purpose.UsedCar                                    0.054862  -0.136693   \n",
       "Purpose.Furniture.Equipment                       -0.086515   0.053587   \n",
       "Purpose.Radio.Television                          -0.082464   0.082243   \n",
       "Purpose.DomesticAppliance                         -0.047201   0.015871   \n",
       "Purpose.Repairs                                    0.029952   0.054017   \n",
       "Purpose.Education                                  0.041204  -0.016831   \n",
       "Purpose.Vacation                                        NaN        NaN   \n",
       "Purpose.Retraining                                 0.017701   0.013724   \n",
       "Purpose.Business                                  -0.000327  -0.088221   \n",
       "Purpose.Other                                      0.003553  -0.115142   \n",
       "SavingsAccountBonds.lt.100                        -0.019568   0.060861   \n",
       "SavingsAccountBonds.100.to.500                     0.000318   0.024217   \n",
       "SavingsAccountBonds.500.to.1000                   -0.008700  -0.004596   \n",
       "SavingsAccountBonds.gt.1000                       -0.005687  -0.005796   \n",
       "SavingsAccountBonds.Unknown                        0.033122  -0.089956   \n",
       "EmploymentDuration.lt.1                           -0.048764   0.072837   \n",
       "EmploymentDuration.1.to.4                         -0.032367   0.090218   \n",
       "EmploymentDuration.4.to.7                          0.022084  -0.036038   \n",
       "EmploymentDuration.gt.7                            0.081262  -0.083386   \n",
       "EmploymentDuration.Unemployed                     -0.041363  -0.084101   \n",
       "Personal.Male.Divorced.Seperated                  -0.060222  -0.016831   \n",
       "Personal.Female.NotSingle                         -0.203431   0.075966   \n",
       "Personal.Male.Single                               0.283483  -0.080290   \n",
       "Personal.Male.Married.Widowed                     -0.117209   0.029388   \n",
       "Personal.Female.Single                                  NaN        NaN   \n",
       "OtherDebtorsGuarantors.None                       -0.005566  -0.067165   \n",
       "OtherDebtorsGuarantors.CoApplicant                -0.032817   0.016074   \n",
       "OtherDebtorsGuarantors.Guarantor                   0.036589   0.073503   \n",
       "Property.RealEstate                                0.020203   0.162717   \n",
       "Property.Insurance                                -0.006284   0.022826   \n",
       "Property.CarOther                                 -0.073108  -0.068685   \n",
       "\n",
       "                                    ForeignWorker  CheckingAccountStatus.lt.0  \\\n",
       "Duration                                 0.138196                    0.022244   \n",
       "Amount                                   0.050050                   -0.020912   \n",
       "InstallmentRatePercentage                0.090024                    0.046917   \n",
       "ResidenceDuration                        0.054097                    0.088350   \n",
       "Age                                      0.006151                   -0.011162   \n",
       "NumberExistingCredits                    0.009717                   -0.029195   \n",
       "NumberPeopleMaintenance                 -0.077071                    0.059041   \n",
       "Telephone                               -0.107401                    0.067149   \n",
       "ForeignWorker                            1.000000                   -0.057751   \n",
       "CheckingAccountStatus.lt.0              -0.057751                    1.000000   \n",
       "CheckingAccountStatus.0.to.200           0.059172                   -0.372670   \n",
       "CheckingAccountStatus.gt.200            -0.036392                   -0.159297   \n",
       "CheckingAccountStatus.none               0.017108                   -0.495358   \n",
       "CreditHistory.NoCredit.AllPaid          -0.014058                    0.023341   \n",
       "CreditHistory.ThisBank.AllPaid           0.019952                    0.089054   \n",
       "CreditHistory.PaidDuly                  -0.004140                    0.066396   \n",
       "CreditHistory.Delay                      0.060888                   -0.095859   \n",
       "CreditHistory.Critical                  -0.036770                   -0.065430   \n",
       "Purpose.NewCar                          -0.154436                    0.073527   \n",
       "Purpose.UsedCar                          0.031564                   -0.016390   \n",
       "Purpose.Furniture.Equipment              0.009590                    0.130479   \n",
       "Purpose.Radio.Television                 0.063242                   -0.113454   \n",
       "Purpose.DomesticAppliance                0.021602                    0.035253   \n",
       "Purpose.Repairs                         -0.006718                   -0.015713   \n",
       "Purpose.Education                        0.044969                   -0.007201   \n",
       "Purpose.Vacation                              NaN                         NaN   \n",
       "Purpose.Retraining                       0.018680                   -0.011063   \n",
       "Purpose.Business                         0.046343                   -0.087712   \n",
       "Purpose.Other                           -0.027052                    0.014661   \n",
       "SavingsAccountBonds.lt.100               0.003367                    0.246438   \n",
       "SavingsAccountBonds.100.to.500          -0.003294                   -0.119659   \n",
       "SavingsAccountBonds.500.to.1000          0.029022                   -0.085471   \n",
       "SavingsAccountBonds.gt.1000             -0.030334                   -0.075014   \n",
       "SavingsAccountBonds.Unknown             -0.003138                   -0.122593   \n",
       "EmploymentDuration.lt.1                 -0.037004                    0.011122   \n",
       "EmploymentDuration.1.to.4               -0.038689                   -0.004197   \n",
       "EmploymentDuration.4.to.7               -0.007853                   -0.009912   \n",
       "EmploymentDuration.gt.7                  0.053144                   -0.017133   \n",
       "EmploymentDuration.Unemployed            0.050394                    0.037301   \n",
       "Personal.Male.Divorced.Seperated         0.020661                    0.033949   \n",
       "Personal.Female.NotSingle                0.051202                    0.014834   \n",
       "Personal.Male.Single                    -0.028996                   -0.009695   \n",
       "Personal.Male.Married.Widowed           -0.047583                   -0.032643   \n",
       "Personal.Female.Single                        NaN                         NaN   \n",
       "OtherDebtorsGuarantors.None              0.119641                   -0.081198   \n",
       "OtherDebtorsGuarantors.CoApplicant      -0.066338                    0.065197   \n",
       "OtherDebtorsGuarantors.Guarantor        -0.097256                    0.047987   \n",
       "Property.RealEstate                     -0.112624                   -0.036215   \n",
       "Property.Insurance                      -0.042873                    0.087282   \n",
       "Property.CarOther                        0.104439                   -0.080785   \n",
       "\n",
       "                                    ...  OtherInstallmentPlans.Bank  \\\n",
       "Duration                            ...                    0.035851   \n",
       "Amount                              ...                    0.039474   \n",
       "InstallmentRatePercentage           ...                   -0.016150   \n",
       "ResidenceDuration                   ...                    0.014530   \n",
       "Age                                 ...                    0.046552   \n",
       "NumberExistingCredits               ...                    0.042190   \n",
       "NumberPeopleMaintenance             ...                    0.075519   \n",
       "Telephone                           ...                   -0.010863   \n",
       "ForeignWorker                       ...                    0.002190   \n",
       "CheckingAccountStatus.lt.0          ...                    0.012405   \n",
       "CheckingAccountStatus.0.to.200      ...                    0.049600   \n",
       "CheckingAccountStatus.gt.200        ...                   -0.009006   \n",
       "CheckingAccountStatus.none          ...                   -0.051857   \n",
       "CreditHistory.NoCredit.AllPaid      ...                    0.065495   \n",
       "CreditHistory.ThisBank.AllPaid      ...                    0.230172   \n",
       "CreditHistory.PaidDuly              ...                   -0.079172   \n",
       "CreditHistory.Delay                 ...                   -0.002367   \n",
       "CreditHistory.Critical              ...                   -0.049075   \n",
       "Purpose.NewCar                      ...                    0.010064   \n",
       "Purpose.UsedCar                     ...                   -0.012525   \n",
       "Purpose.Furniture.Equipment         ...                   -0.023717   \n",
       "Purpose.Radio.Television            ...                   -0.038113   \n",
       "Purpose.DomesticAppliance           ...                   -0.017734   \n",
       "Purpose.Repairs                     ...                   -0.060263   \n",
       "Purpose.Education                   ...                    0.013926   \n",
       "Purpose.Vacation                    ...                         NaN   \n",
       "Purpose.Retraining                  ...                   -0.007683   \n",
       "Purpose.Business                    ...                    0.063652   \n",
       "Purpose.Other                       ...                    0.141551   \n",
       "SavingsAccountBonds.lt.100          ...                   -0.004827   \n",
       "SavingsAccountBonds.100.to.500      ...                    0.006495   \n",
       "SavingsAccountBonds.500.to.1000     ...                    0.002891   \n",
       "SavingsAccountBonds.gt.1000         ...                   -0.009087   \n",
       "SavingsAccountBonds.Unknown         ...                    0.004209   \n",
       "EmploymentDuration.lt.1             ...                    0.000705   \n",
       "EmploymentDuration.1.to.4           ...                   -0.055697   \n",
       "EmploymentDuration.4.to.7           ...                   -0.001418   \n",
       "EmploymentDuration.gt.7             ...                    0.072031   \n",
       "EmploymentDuration.Unemployed       ...                   -0.019394   \n",
       "Personal.Male.Divorced.Seperated    ...                   -0.025863   \n",
       "Personal.Female.NotSingle           ...                   -0.019313   \n",
       "Personal.Male.Single                ...                    0.033849   \n",
       "Personal.Male.Married.Widowed       ...                   -0.007881   \n",
       "Personal.Female.Single              ...                         NaN   \n",
       "OtherDebtorsGuarantors.None         ...                   -0.060443   \n",
       "OtherDebtorsGuarantors.CoApplicant  ...                    0.004388   \n",
       "OtherDebtorsGuarantors.Guarantor    ...                    0.075147   \n",
       "Property.RealEstate                 ...                   -0.065512   \n",
       "Property.Insurance                  ...                   -0.015394   \n",
       "Property.CarOther                   ...                   -0.000908   \n",
       "\n",
       "                                    OtherInstallmentPlans.Stores  \\\n",
       "Duration                                                0.065688   \n",
       "Amount                                                  0.024262   \n",
       "InstallmentRatePercentage                               0.056071   \n",
       "ResidenceDuration                                      -0.054460   \n",
       "Age                                                    -0.011080   \n",
       "NumberExistingCredits                                   0.023496   \n",
       "NumberPeopleMaintenance                                 0.009335   \n",
       "Telephone                                              -0.029003   \n",
       "ForeignWorker                                           0.043530   \n",
       "CheckingAccountStatus.lt.0                              0.011886   \n",
       "CheckingAccountStatus.0.to.200                         -0.017507   \n",
       "CheckingAccountStatus.gt.200                            0.020206   \n",
       "CheckingAccountStatus.none                             -0.005009   \n",
       "CreditHistory.NoCredit.AllPaid                          0.002893   \n",
       "CreditHistory.ThisBank.AllPaid                          0.124699   \n",
       "CreditHistory.PaidDuly                                 -0.065418   \n",
       "CreditHistory.Delay                                     0.097805   \n",
       "CreditHistory.Critical                                 -0.049530   \n",
       "Purpose.NewCar                                         -0.066940   \n",
       "Purpose.UsedCar                                         0.002472   \n",
       "Purpose.Furniture.Equipment                             0.030595   \n",
       "Purpose.Radio.Television                               -0.001684   \n",
       "Purpose.DomesticAppliance                              -0.024475   \n",
       "Purpose.Repairs                                        -0.001095   \n",
       "Purpose.Education                                      -0.007588   \n",
       "Purpose.Vacation                                             NaN   \n",
       "Purpose.Retraining                                     -0.021163   \n",
       "Purpose.Business                                        0.070902   \n",
       "Purpose.Other                                           0.018920   \n",
       "SavingsAccountBonds.lt.100                              0.016021   \n",
       "SavingsAccountBonds.100.to.500                         -0.013073   \n",
       "SavingsAccountBonds.500.to.1000                         0.000758   \n",
       "SavingsAccountBonds.gt.1000                             0.016445   \n",
       "SavingsAccountBonds.Unknown                            -0.019564   \n",
       "EmploymentDuration.lt.1                                 0.011469   \n",
       "EmploymentDuration.1.to.4                               0.030614   \n",
       "EmploymentDuration.4.to.7                              -0.027146   \n",
       "EmploymentDuration.gt.7                                -0.042291   \n",
       "EmploymentDuration.Unemployed                           0.040872   \n",
       "Personal.Male.Divorced.Seperated                       -0.029268   \n",
       "Personal.Female.NotSingle                              -0.046689   \n",
       "Personal.Male.Single                                    0.068774   \n",
       "Personal.Male.Married.Widowed                          -0.021645   \n",
       "Personal.Female.Single                                       NaN   \n",
       "OtherDebtorsGuarantors.None                             0.038574   \n",
       "OtherDebtorsGuarantors.CoApplicant                     -0.022089   \n",
       "OtherDebtorsGuarantors.Guarantor                       -0.030730   \n",
       "Property.RealEstate                                    -0.002667   \n",
       "Property.Insurance                                      0.012268   \n",
       "Property.CarOther                                       0.024040   \n",
       "\n",
       "                                    OtherInstallmentPlans.None  Housing.Rent  \\\n",
       "Duration                                             -0.067602     -0.064417   \n",
       "Amount                                               -0.048292     -0.024611   \n",
       "InstallmentRatePercentage                            -0.016139     -0.091373   \n",
       "ResidenceDuration                                     0.016704      0.167285   \n",
       "Age                                                  -0.035362     -0.212620   \n",
       "NumberExistingCredits                                -0.050290     -0.058070   \n",
       "NumberPeopleMaintenance                              -0.072220     -0.063033   \n",
       "Telephone                                             0.025433      0.049524   \n",
       "ForeignWorker                                        -0.025623     -0.032849   \n",
       "CheckingAccountStatus.lt.0                           -0.017494      0.093310   \n",
       "CheckingAccountStatus.0.to.200                       -0.034576     -0.000888   \n",
       "CheckingAccountStatus.gt.200                         -0.002983     -0.035183   \n",
       "CheckingAccountStatus.none                            0.048829     -0.066870   \n",
       "CreditHistory.NoCredit.AllPaid                       -0.059804      0.037805   \n",
       "CreditHistory.ThisBank.AllPaid                       -0.272466      0.014851   \n",
       "CreditHistory.PaidDuly                                0.105972      0.084304   \n",
       "CreditHistory.Delay                                  -0.051092     -0.043756   \n",
       "CreditHistory.Critical                                0.070571     -0.088532   \n",
       "Purpose.NewCar                                        0.027462     -0.011620   \n",
       "Purpose.UsedCar                                       0.009791      0.039160   \n",
       "Purpose.Furniture.Equipment                           0.004446      0.105700   \n",
       "Purpose.Radio.Television                              0.034801     -0.070414   \n",
       "Purpose.DomesticAppliance                             0.029079     -0.003546   \n",
       "Purpose.Repairs                                       0.054174     -0.034465   \n",
       "Purpose.Education                                    -0.008254      0.000598   \n",
       "Purpose.Vacation                                           NaN           NaN   \n",
       "Purpose.Retraining                                    0.018341     -0.016877   \n",
       "Purpose.Business                                     -0.095155     -0.012013   \n",
       "Purpose.Other                                        -0.136141     -0.051460   \n",
       "SavingsAccountBonds.lt.100                           -0.004423     -0.010327   \n",
       "SavingsAccountBonds.100.to.500                        0.001336      0.030578   \n",
       "SavingsAccountBonds.500.to.1000                      -0.002983      0.007762   \n",
       "SavingsAccountBonds.gt.1000                          -0.000866      0.004979   \n",
       "SavingsAccountBonds.Unknown                           0.006899     -0.018600   \n",
       "EmploymentDuration.lt.1                              -0.006865      0.112062   \n",
       "EmploymentDuration.1.to.4                             0.032868      0.001758   \n",
       "EmploymentDuration.4.to.7                             0.016026      0.005876   \n",
       "EmploymentDuration.gt.7                              -0.041039     -0.085728   \n",
       "EmploymentDuration.Unemployed                        -0.004987     -0.033511   \n",
       "Personal.Male.Divorced.Seperated                      0.038913     -0.035308   \n",
       "Personal.Female.NotSingle                             0.042565      0.222845   \n",
       "Personal.Male.Single                                 -0.067502     -0.225860   \n",
       "Personal.Male.Married.Widowed                         0.018780      0.058954   \n",
       "Personal.Female.Single                                     NaN           NaN   \n",
       "OtherDebtorsGuarantors.None                           0.032758     -0.048079   \n",
       "OtherDebtorsGuarantors.CoApplicant                    0.008113      0.048162   \n",
       "OtherDebtorsGuarantors.Guarantor                     -0.050097      0.019879   \n",
       "Property.RealEstate                                   0.059696      0.026215   \n",
       "Property.Insurance                                    0.007014      0.027636   \n",
       "Property.CarOther                                    -0.012268      0.003168   \n",
       "\n",
       "                                    Housing.Own  Housing.ForFree  \\\n",
       "Duration                              -0.075169         0.189117   \n",
       "Amount                                -0.117497         0.201643   \n",
       "InstallmentRatePercentage              0.049922         0.040098   \n",
       "ResidenceDuration                     -0.297547         0.227044   \n",
       "Age                                    0.006553         0.253058   \n",
       "NumberExistingCredits                  0.041386         0.011406   \n",
       "NumberPeopleMaintenance               -0.027579         0.118047   \n",
       "Telephone                              0.036275        -0.114036   \n",
       "ForeignWorker                         -0.018960         0.068205   \n",
       "CheckingAccountStatus.lt.0            -0.125705         0.067961   \n",
       "CheckingAccountStatus.0.to.200         0.001012        -0.000378   \n",
       "CheckingAccountStatus.gt.200           0.018934         0.015860   \n",
       "CheckingAccountStatus.none             0.104407        -0.069575   \n",
       "CreditHistory.NoCredit.AllPaid        -0.039709         0.011180   \n",
       "CreditHistory.ThisBank.AllPaid        -0.060799         0.070267   \n",
       "CreditHistory.PaidDuly                -0.043805        -0.040281   \n",
       "CreditHistory.Delay                    0.017604         0.028386   \n",
       "CreditHistory.Critical                 0.083011        -0.011638   \n",
       "Purpose.NewCar                        -0.009618         0.028370   \n",
       "Purpose.UsedCar                       -0.141375         0.157680   \n",
       "Purpose.Furniture.Equipment           -0.040496        -0.071530   \n",
       "Purpose.Radio.Television               0.134705        -0.109357   \n",
       "Purpose.DomesticAppliance              0.029317        -0.038348   \n",
       "Purpose.Repairs                        0.019803         0.013706   \n",
       "Purpose.Education                     -0.097880         0.141916   \n",
       "Purpose.Vacation                            NaN              NaN   \n",
       "Purpose.Retraining                     0.037054        -0.033160   \n",
       "Purpose.Business                       0.051083        -0.059613   \n",
       "Purpose.Other                         -0.011288         0.080010   \n",
       "SavingsAccountBonds.lt.100             0.000276         0.012353   \n",
       "SavingsAccountBonds.100.to.500        -0.017738        -0.011914   \n",
       "SavingsAccountBonds.500.to.1000        0.000737        -0.010662   \n",
       "SavingsAccountBonds.gt.1000            0.028707        -0.047989   \n",
       "SavingsAccountBonds.Unknown           -0.002739         0.026964   \n",
       "EmploymentDuration.lt.1               -0.021299        -0.107367   \n",
       "EmploymentDuration.1.to.4              0.048068        -0.072227   \n",
       "EmploymentDuration.4.to.7              0.040456        -0.066220   \n",
       "EmploymentDuration.gt.7               -0.042658         0.168055   \n",
       "EmploymentDuration.Unemployed         -0.047722         0.110942   \n",
       "Personal.Male.Divorced.Seperated       0.054265        -0.035479   \n",
       "Personal.Female.NotSingle             -0.119638        -0.100872   \n",
       "Personal.Male.Single                   0.076736         0.167123   \n",
       "Personal.Male.Married.Widowed          0.018387        -0.099612   \n",
       "Personal.Female.Single                      NaN              NaN   \n",
       "OtherDebtorsGuarantors.None            0.002352         0.055955   \n",
       "OtherDebtorsGuarantors.CoApplicant    -0.036043        -0.006954   \n",
       "OtherDebtorsGuarantors.Guarantor       0.029113        -0.066983   \n",
       "Property.RealEstate                    0.122495        -0.210908   \n",
       "Property.Insurance                     0.097326        -0.175981   \n",
       "Property.CarOther                      0.160934        -0.238466   \n",
       "\n",
       "                                    Job.UnemployedUnskilled  \\\n",
       "Duration                                          -0.044043   \n",
       "Amount                                            -0.027969   \n",
       "InstallmentRatePercentage                         -0.087834   \n",
       "ResidenceDuration                                 -0.034545   \n",
       "Age                                                0.059954   \n",
       "NumberExistingCredits                              0.059582   \n",
       "NumberPeopleMaintenance                           -0.007723   \n",
       "Telephone                                          0.040124   \n",
       "ForeignWorker                                     -0.042834   \n",
       "CheckingAccountStatus.lt.0                        -0.000428   \n",
       "CheckingAccountStatus.0.to.200                     0.047382   \n",
       "CheckingAccountStatus.gt.200                       0.073347   \n",
       "CheckingAccountStatus.none                        -0.079080   \n",
       "CreditHistory.NoCredit.AllPaid                     0.004175   \n",
       "CreditHistory.ThisBank.AllPaid                     0.060699   \n",
       "CreditHistory.PaidDuly                            -0.022675   \n",
       "CreditHistory.Delay                               -0.046589   \n",
       "CreditHistory.Critical                             0.023277   \n",
       "Purpose.NewCar                                     0.094233   \n",
       "Purpose.UsedCar                                   -0.028395   \n",
       "Purpose.Furniture.Equipment                       -0.052801   \n",
       "Purpose.Radio.Television                          -0.063164   \n",
       "Purpose.DomesticAppliance                          0.046082   \n",
       "Purpose.Repairs                                    0.070459   \n",
       "Purpose.Education                                 -0.003128   \n",
       "Purpose.Vacation                                        NaN   \n",
       "Purpose.Retraining                                -0.014293   \n",
       "Purpose.Business                                  -0.003087   \n",
       "Purpose.Other                                      0.046082   \n",
       "SavingsAccountBonds.lt.100                        -0.003706   \n",
       "SavingsAccountBonds.100.to.500                    -0.050823   \n",
       "SavingsAccountBonds.500.to.1000                    0.045288   \n",
       "SavingsAccountBonds.gt.1000                       -0.001786   \n",
       "SavingsAccountBonds.Unknown                        0.017173   \n",
       "EmploymentDuration.lt.1                            0.021967   \n",
       "EmploymentDuration.1.to.4                         -0.093007   \n",
       "EmploymentDuration.4.to.7                         -0.068838   \n",
       "EmploymentDuration.gt.7                           -0.087285   \n",
       "EmploymentDuration.Unemployed                      0.413756   \n",
       "Personal.Male.Divorced.Seperated                  -0.034408   \n",
       "Personal.Female.NotSingle                          0.076356   \n",
       "Personal.Male.Single                              -0.055559   \n",
       "Personal.Male.Married.Widowed                     -0.000566   \n",
       "Personal.Female.Single                                  NaN   \n",
       "OtherDebtorsGuarantors.None                        0.001080   \n",
       "OtherDebtorsGuarantors.CoApplicant                 0.037750   \n",
       "OtherDebtorsGuarantors.Guarantor                  -0.035127   \n",
       "Property.RealEstate                                0.027211   \n",
       "Property.Insurance                                -0.033981   \n",
       "Property.CarOther                                 -0.033354   \n",
       "\n",
       "                                    Job.UnskilledResident  \\\n",
       "Duration                                    -1.812030e-01   \n",
       "Amount                                      -1.617570e-01   \n",
       "InstallmentRatePercentage                   -5.723714e-02   \n",
       "ResidenceDuration                            9.064820e-03   \n",
       "Age                                          4.371237e-02   \n",
       "NumberExistingCredits                       -1.039203e-02   \n",
       "NumberPeopleMaintenance                      1.450658e-01   \n",
       "Telephone                                    2.537205e-01   \n",
       "ForeignWorker                               -8.741177e-02   \n",
       "CheckingAccountStatus.lt.0                   2.354213e-02   \n",
       "CheckingAccountStatus.0.to.200               1.804077e-02   \n",
       "CheckingAccountStatus.gt.200                 1.440549e-02   \n",
       "CheckingAccountStatus.none                  -4.502340e-02   \n",
       "CreditHistory.NoCredit.AllPaid              -2.551552e-02   \n",
       "CreditHistory.ThisBank.AllPaid               3.705968e-02   \n",
       "CreditHistory.PaidDuly                       1.001805e-02   \n",
       "CreditHistory.Delay                         -2.294429e-02   \n",
       "CreditHistory.Critical                      -3.295701e-03   \n",
       "Purpose.NewCar                               7.204063e-02   \n",
       "Purpose.UsedCar                             -1.118572e-01   \n",
       "Purpose.Furniture.Equipment                 -2.077824e-02   \n",
       "Purpose.Radio.Television                     5.567943e-03   \n",
       "Purpose.DomesticAppliance                   -3.214393e-02   \n",
       "Purpose.Repairs                              4.431315e-02   \n",
       "Purpose.Education                            2.340080e-17   \n",
       "Purpose.Vacation                                      NaN   \n",
       "Purpose.Retraining                           8.470946e-02   \n",
       "Purpose.Business                             5.068291e-03   \n",
       "Purpose.Other                               -3.214393e-02   \n",
       "SavingsAccountBonds.lt.100                   3.781097e-02   \n",
       "SavingsAccountBonds.100.to.500               1.973951e-02   \n",
       "SavingsAccountBonds.500.to.1000             -6.173781e-03   \n",
       "SavingsAccountBonds.gt.1000                 -1.871203e-02   \n",
       "SavingsAccountBonds.Unknown                 -4.913795e-02   \n",
       "EmploymentDuration.lt.1                      6.359630e-02   \n",
       "EmploymentDuration.1.to.4                    6.443165e-02   \n",
       "EmploymentDuration.4.to.7                   -5.275521e-03   \n",
       "EmploymentDuration.gt.7                     -5.520656e-02   \n",
       "EmploymentDuration.Unemployed               -1.181810e-01   \n",
       "Personal.Male.Divorced.Seperated            -2.294157e-02   \n",
       "Personal.Female.NotSingle                    1.081097e-02   \n",
       "Personal.Male.Single                        -1.808352e-02   \n",
       "Personal.Male.Married.Widowed                3.113907e-02   \n",
       "Personal.Female.Single                                NaN   \n",
       "OtherDebtorsGuarantors.None                 -2.926670e-02   \n",
       "OtherDebtorsGuarantors.CoApplicant          -2.773713e-02   \n",
       "OtherDebtorsGuarantors.Guarantor             6.305539e-02   \n",
       "Property.RealEstate                          2.366807e-01   \n",
       "Property.Insurance                           2.132151e-02   \n",
       "Property.CarOther                           -1.560738e-01   \n",
       "\n",
       "                                    Job.SkilledEmployee  \\\n",
       "Duration                                       0.055010   \n",
       "Amount                                        -0.092636   \n",
       "InstallmentRatePercentage                      0.042623   \n",
       "ResidenceDuration                             -0.000657   \n",
       "Age                                           -0.148283   \n",
       "NumberExistingCredits                         -0.001471   \n",
       "NumberPeopleMaintenance                       -0.106737   \n",
       "Telephone                                      0.061289   \n",
       "ForeignWorker                                  0.047292   \n",
       "CheckingAccountStatus.lt.0                    -0.002879   \n",
       "CheckingAccountStatus.0.to.200                -0.067587   \n",
       "CheckingAccountStatus.gt.200                  -0.022932   \n",
       "CheckingAccountStatus.none                     0.075366   \n",
       "CreditHistory.NoCredit.AllPaid                 0.029595   \n",
       "CreditHistory.ThisBank.AllPaid                -0.065917   \n",
       "CreditHistory.PaidDuly                         0.017015   \n",
       "CreditHistory.Delay                           -0.003217   \n",
       "CreditHistory.Critical                         0.001866   \n",
       "Purpose.NewCar                                -0.085223   \n",
       "Purpose.UsedCar                               -0.033321   \n",
       "Purpose.Furniture.Equipment                    0.064393   \n",
       "Purpose.Radio.Television                       0.085802   \n",
       "Purpose.DomesticAppliance                      0.046414   \n",
       "Purpose.Repairs                               -0.012144   \n",
       "Purpose.Education                              0.004752   \n",
       "Purpose.Vacation                                    NaN   \n",
       "Purpose.Retraining                            -0.058557   \n",
       "Purpose.Business                              -0.007768   \n",
       "Purpose.Other                                 -0.124785   \n",
       "SavingsAccountBonds.lt.100                    -0.058800   \n",
       "SavingsAccountBonds.100.to.500                 0.007564   \n",
       "SavingsAccountBonds.500.to.1000                0.019692   \n",
       "SavingsAccountBonds.gt.1000                    0.055810   \n",
       "SavingsAccountBonds.Unknown                    0.025230   \n",
       "EmploymentDuration.lt.1                       -0.007464   \n",
       "EmploymentDuration.1.to.4                      0.071890   \n",
       "EmploymentDuration.4.to.7                      0.051247   \n",
       "EmploymentDuration.gt.7                        0.012435   \n",
       "EmploymentDuration.Unemployed                 -0.232412   \n",
       "Personal.Male.Divorced.Seperated              -0.004752   \n",
       "Personal.Female.NotSingle                      0.007613   \n",
       "Personal.Male.Single                          -0.021807   \n",
       "Personal.Male.Married.Widowed                  0.028952   \n",
       "Personal.Female.Single                              NaN   \n",
       "OtherDebtorsGuarantors.None                   -0.010055   \n",
       "OtherDebtorsGuarantors.CoApplicant            -0.008670   \n",
       "OtherDebtorsGuarantors.Guarantor               0.020896   \n",
       "Property.RealEstate                           -0.076686   \n",
       "Property.Insurance                             0.018842   \n",
       "Property.CarOther                              0.104852   \n",
       "\n",
       "                                    Job.Management.SelfEmp.HighlyQualified  \n",
       "Duration                                                          0.147515  \n",
       "Amount                                                            0.319715  \n",
       "InstallmentRatePercentage                                         0.042805  \n",
       "ResidenceDuration                                                 0.004952  \n",
       "Age                                                               0.127605  \n",
       "NumberExistingCredits                                            -0.010906  \n",
       "NumberPeopleMaintenance                                          -0.015096  \n",
       "Telephone                                                        -0.385706  \n",
       "ForeignWorker                                                     0.051858  \n",
       "CheckingAccountStatus.lt.0                                       -0.022427  \n",
       "CheckingAccountStatus.0.to.200                                    0.051999  \n",
       "CheckingAccountStatus.gt.200                                     -0.015346  \n",
       "CheckingAccountStatus.none                                       -0.019088  \n",
       "CreditHistory.NoCredit.AllPaid                                   -0.013221  \n",
       "CreditHistory.ThisBank.AllPaid                                    0.022804  \n",
       "CreditHistory.PaidDuly                                           -0.025052  \n",
       "CreditHistory.Delay                                               0.049464  \n",
       "CreditHistory.Critical                                           -0.008440  \n",
       "Purpose.NewCar                                                   -0.004204  \n",
       "Purpose.UsedCar                                                   0.183035  \n",
       "Purpose.Furniture.Equipment                                      -0.042335  \n",
       "Purpose.Radio.Television                                         -0.096839  \n",
       "Purpose.DomesticAppliance                                        -0.045933  \n",
       "Purpose.Repairs                                                  -0.062511  \n",
       "Purpose.Education                                                -0.005168  \n",
       "Purpose.Vacation                                                       NaN  \n",
       "Purpose.Retraining                                               -0.009900  \n",
       "Purpose.Business                                                  0.006128  \n",
       "Purpose.Other                                                     0.186835  \n",
       "SavingsAccountBonds.lt.100                                        0.038885  \n",
       "SavingsAccountBonds.100.to.500                                   -0.011525  \n",
       "SavingsAccountBonds.500.to.1000                                  -0.038527  \n",
       "SavingsAccountBonds.gt.1000                                      -0.054065  \n",
       "SavingsAccountBonds.Unknown                                       0.013954  \n",
       "EmploymentDuration.lt.1                                          -0.070563  \n",
       "EmploymentDuration.1.to.4                                        -0.131903  \n",
       "EmploymentDuration.4.to.7                                        -0.035299  \n",
       "EmploymentDuration.gt.7                                           0.081335  \n",
       "EmploymentDuration.Unemployed                                     0.278206  \n",
       "Personal.Male.Divorced.Seperated                                  0.046516  \n",
       "Personal.Female.NotSingle                                        -0.054070  \n",
       "Personal.Male.Single                                              0.072970  \n",
       "Personal.Male.Married.Widowed                                    -0.074206  \n",
       "Personal.Female.Single                                                 NaN  \n",
       "OtherDebtorsGuarantors.None                                       0.046193  \n",
       "OtherDebtorsGuarantors.CoApplicant                                0.027438  \n",
       "OtherDebtorsGuarantors.Guarantor                                 -0.084930  \n",
       "Property.RealEstate                                              -0.173583  \n",
       "Property.Insurance                                               -0.035599  \n",
       "Property.CarOther                                                 0.047026  \n",
       "\n",
       "[50 rows x 61 columns]"
      ]
     },
     "execution_count": 15,
     "metadata": {},
     "output_type": "execute_result"
    }
   ],
   "source": [
    "corr[0:50]"
   ]
  },
  {
   "cell_type": "code",
   "execution_count": 16,
   "metadata": {},
   "outputs": [
    {
     "data": {
      "image/png": "[encoded data removed]",
      "text/plain": [
       "<Figure size 1152x1152 with 9 Axes>"
      ]
     },
     "metadata": {
      "needs_background": "light"
     },
     "output_type": "display_data"
    }
   ],
   "source": [
    "import warnings\n",
    "warnings.filterwarnings(\"ignore\")\n",
    "import time\n",
    "\n",
    "import matplotlib.pyplot as plt\n",
    "import matplotlib\n",
    "import matplotlib.mlab as mlab\n",
    "import matplotlib.pyplot as plt\n",
    "import matplotlib.patches as patches\n",
    "# from pandas.tools.plotting import scatter_matrix\n",
    "numerical_vars = df.describe().columns\n",
    "\n",
    "fig, axes = plt.subplots(3, 3, figsize=(16, 16))\n",
    "plt.subplots_adjust(left=None, bottom=None, right=None, top=None, wspace=0.7, hspace=0.3)\n",
    "for i, ax in enumerate(axes.ravel()):\n",
    "    if i > 15:\n",
    "        ax.set_visible(False)\n",
    "        continue\n",
    "    sb.boxplot(y = numerical_vars[i], x = 'Class', data=df, ax=ax)"
   ]
  },
  {
   "cell_type": "code",
   "execution_count": 7,
   "metadata": {},
   "outputs": [
    {
     "name": "stdout",
     "output_type": "stream",
     "text": [
      "X shape: (1000, 60)\n",
      "y shape: (1000,)\n"
     ]
    }
   ],
   "source": [
    "# X = df.drop(columns = 'Class')\n",
    "X = df.drop(['Class', 'Purpose.Vacation'], axis = 1)\n",
    "y = df.Class\n",
    "print('X shape:', X.shape)\n",
    "print('y shape:', y.shape)\n",
    "\n",
    "encode_class = lambda x: 1 if x=='Good' else 0\n",
    "y = pd.Series(list(map(encode_class, df['Class'])), index=df.index)\n",
    "y.head()"
   ]
  },
  {
   "cell_type": "code",
   "execution_count": 8,
   "metadata": {},
   "outputs": [],
   "source": [
    "X_train, X_test, y_train, y_test = train_test_split(X, y, test_size=0.3, random_state = 30)"
   ]
  },
  {
   "cell_type": "code",
   "execution_count": 9,
   "metadata": {},
   "outputs": [
    {
     "name": "stdout",
     "output_type": "stream",
     "text": [
      "Accuracy on training set: 1.000\n",
      "Accuracy on test set: 0.657\n"
     ]
    }
   ],
   "source": [
    "clf =  DecisionTreeClassifier(random_state=0)\n",
    "clf = clf.fit(X_train, y_train)\n",
    "print(\"Accuracy on training set: {:.3f}\".format(clf.score(X_train, y_train)))\n",
    "print(\"Accuracy on test set: {:.3f}\".format(clf.score(X_test, y_test)))\n",
    "\n",
    "y_pred = clf.predict(X_test)"
   ]
  },
  {
   "cell_type": "code",
   "execution_count": 15,
   "metadata": {},
   "outputs": [],
   "source": [
    "# df5 = y_pred.append(y_test)\n",
    "df_y_pred = pd.DataFrame({'y_pred': y_pred})"
   ]
  },
  {
   "cell_type": "code",
   "execution_count": 16,
   "metadata": {},
   "outputs": [
    {
     "data": {
      "text/plain": [
       "300"
      ]
     },
     "execution_count": 16,
     "metadata": {},
     "output_type": "execute_result"
    }
   ],
   "source": [
    "len(y_test)"
   ]
  },
  {
   "cell_type": "code",
   "execution_count": 17,
   "metadata": {},
   "outputs": [
    {
     "data": {
      "text/plain": [
       "300"
      ]
     },
     "execution_count": 17,
     "metadata": {},
     "output_type": "execute_result"
    }
   ],
   "source": [
    "len(y_pred)"
   ]
  },
  {
   "cell_type": "code",
   "execution_count": 18,
   "metadata": {},
   "outputs": [],
   "source": [
    "# make duplicate indices!\n",
    "y_test.index = df_y_pred.index"
   ]
  },
  {
   "cell_type": "code",
   "execution_count": 19,
   "metadata": {},
   "outputs": [
    {
     "data": {
      "text/html": [
       "<div>\n",
       "<style scoped>\n",
       "    .dataframe tbody tr th:only-of-type {\n",
       "        vertical-align: middle;\n",
       "    }\n",
       "\n",
       "    .dataframe tbody tr th {\n",
       "        vertical-align: top;\n",
       "    }\n",
       "\n",
       "    .dataframe thead th {\n",
       "        text-align: right;\n",
       "    }\n",
       "</style>\n",
       "<table border=\"1\" class=\"dataframe\">\n",
       "  <thead>\n",
       "    <tr style=\"text-align: right;\">\n",
       "      <th></th>\n",
       "      <th>Class</th>\n",
       "      <th>y_pred</th>\n",
       "    </tr>\n",
       "  </thead>\n",
       "  <tbody>\n",
       "    <tr>\n",
       "      <th>0</th>\n",
       "      <td>Good</td>\n",
       "      <td>Good</td>\n",
       "    </tr>\n",
       "    <tr>\n",
       "      <th>1</th>\n",
       "      <td>Good</td>\n",
       "      <td>Bad</td>\n",
       "    </tr>\n",
       "    <tr>\n",
       "      <th>2</th>\n",
       "      <td>Good</td>\n",
       "      <td>Good</td>\n",
       "    </tr>\n",
       "    <tr>\n",
       "      <th>3</th>\n",
       "      <td>Bad</td>\n",
       "      <td>Bad</td>\n",
       "    </tr>\n",
       "    <tr>\n",
       "      <th>4</th>\n",
       "      <td>Good</td>\n",
       "      <td>Good</td>\n",
       "    </tr>\n",
       "    <tr>\n",
       "      <th>...</th>\n",
       "      <td>...</td>\n",
       "      <td>...</td>\n",
       "    </tr>\n",
       "    <tr>\n",
       "      <th>295</th>\n",
       "      <td>Good</td>\n",
       "      <td>Good</td>\n",
       "    </tr>\n",
       "    <tr>\n",
       "      <th>296</th>\n",
       "      <td>Good</td>\n",
       "      <td>Bad</td>\n",
       "    </tr>\n",
       "    <tr>\n",
       "      <th>297</th>\n",
       "      <td>Bad</td>\n",
       "      <td>Bad</td>\n",
       "    </tr>\n",
       "    <tr>\n",
       "      <th>298</th>\n",
       "      <td>Good</td>\n",
       "      <td>Bad</td>\n",
       "    </tr>\n",
       "    <tr>\n",
       "      <th>299</th>\n",
       "      <td>Good</td>\n",
       "      <td>Bad</td>\n",
       "    </tr>\n",
       "  </tbody>\n",
       "</table>\n",
       "<p>300 rows × 2 columns</p>\n",
       "</div>"
      ],
      "text/plain": [
       "    Class y_pred\n",
       "0    Good   Good\n",
       "1    Good    Bad\n",
       "2    Good   Good\n",
       "3     Bad    Bad\n",
       "4    Good   Good\n",
       "..    ...    ...\n",
       "295  Good   Good\n",
       "296  Good    Bad\n",
       "297   Bad    Bad\n",
       "298  Good    Bad\n",
       "299  Good    Bad\n",
       "\n",
       "[300 rows x 2 columns]"
      ]
     },
     "execution_count": 19,
     "metadata": {},
     "output_type": "execute_result"
    }
   ],
   "source": [
    "pd.concat([y_test, df_y_pred], axis=1)"
   ]
  },
  {
   "cell_type": "code",
   "execution_count": 10,
   "metadata": {},
   "outputs": [
    {
     "data": {
      "text/plain": [
       "DecisionTreeClassifier(ccp_alpha=0.0, class_weight=None, criterion='gini',\n",
       "                       max_depth=None, max_features=None, max_leaf_nodes=None,\n",
       "                       min_impurity_decrease=0.0, min_impurity_split=None,\n",
       "                       min_samples_leaf=1, min_samples_split=2,\n",
       "                       min_weight_fraction_leaf=0.0, presort='deprecated',\n",
       "                       random_state=0, splitter='best')"
      ]
     },
     "execution_count": 10,
     "metadata": {},
     "output_type": "execute_result"
    }
   ],
   "source": [
    "clf"
   ]
  },
  {
   "cell_type": "code",
   "execution_count": 21,
   "metadata": {},
   "outputs": [
    {
     "name": "stdout",
     "output_type": "stream",
     "text": [
      "Accuracy on training set: 0.763\n",
      "Accuracy on test set: 0.687\n"
     ]
    }
   ],
   "source": [
    "clf2 = DecisionTreeClassifier(max_depth=3, random_state= 10)\n",
    "clf2.fit(X_train, y_train)\n",
    "\n",
    "print(\"Accuracy on training set: {:.3f}\".format(clf2.score(X_train, y_train)))\n",
    "print(\"Accuracy on test set: {:.3f}\".format(clf2.score(X_test, y_test)))"
   ]
  },
  {
   "cell_type": "code",
   "execution_count": 22,
   "metadata": {},
   "outputs": [
    {
     "data": {
      "text/plain": [
       "DecisionTreeClassifier(ccp_alpha=0.0, class_weight=None, criterion='gini',\n",
       "                       max_depth=3, max_features=None, max_leaf_nodes=None,\n",
       "                       min_impurity_decrease=0.0, min_impurity_split=None,\n",
       "                       min_samples_leaf=1, min_samples_split=2,\n",
       "                       min_weight_fraction_leaf=0.0, presort='deprecated',\n",
       "                       random_state=10, splitter='best')"
      ]
     },
     "execution_count": 22,
     "metadata": {},
     "output_type": "execute_result"
    }
   ],
   "source": [
    "clf2"
   ]
  },
  {
   "cell_type": "code",
   "execution_count": 23,
   "metadata": {},
   "outputs": [
    {
     "name": "stdout",
     "output_type": "stream",
     "text": [
      "Accuracy on training set: 0.777\n",
      "Accuracy on test set: 0.647\n"
     ]
    }
   ],
   "source": [
    "clf3 = DecisionTreeClassifier(max_depth=4, random_state=11)\n",
    "clf3.fit(X_train, y_train)\n",
    "\n",
    "print(\"Accuracy on training set: {:.3f}\".format(clf3.score(X_train, y_train)))\n",
    "print(\"Accuracy on test set: {:.3f}\".format(clf3.score(X_test, y_test)))"
   ]
  },
  {
   "cell_type": "code",
   "execution_count": 24,
   "metadata": {},
   "outputs": [
    {
     "name": "stdout",
     "output_type": "stream",
     "text": [
      "Accuracy on training set: 0.817\n",
      "Accuracy on test set: 0.680\n"
     ]
    }
   ],
   "source": [
    "clf4 = DecisionTreeClassifier(max_depth=5, random_state=12)\n",
    "clf4.fit(X_train, y_train)\n",
    "\n",
    "print(\"Accuracy on training set: {:.3f}\".format(clf4.score(X_train, y_train)))\n",
    "print(\"Accuracy on test set: {:.3f}\".format(clf4.score(X_test, y_test)))"
   ]
  },
  {
   "cell_type": "code",
   "execution_count": 25,
   "metadata": {},
   "outputs": [
    {
     "name": "stdout",
     "output_type": "stream",
     "text": [
      "Accuracy on training set: 0.847\n",
      "Accuracy on test set: 0.680\n"
     ]
    }
   ],
   "source": [
    "clf5 = DecisionTreeClassifier(max_depth=6, random_state=13)\n",
    "clf5.fit(X_train, y_train)\n",
    "\n",
    "print(\"Accuracy on training set: {:.3f}\".format(clf5.score(X_train, y_train)))\n",
    "print(\"Accuracy on test set: {:.3f}\".format(clf5.score(X_test, y_test)))"
   ]
  },
  {
   "cell_type": "code",
   "execution_count": 26,
   "metadata": {},
   "outputs": [
    {
     "data": {
      "text/plain": [
       "['Duration', 'Amount', 'InstallmentRatePercentage', 'ResidenceDuration', 'Age']"
      ]
     },
     "execution_count": 26,
     "metadata": {},
     "output_type": "execute_result"
    }
   ],
   "source": [
    "features = [v for i,v in enumerate(X.columns)]\n",
    "features[:5]"
   ]
  },
  {
   "cell_type": "code",
   "execution_count": 27,
   "metadata": {},
   "outputs": [
    {
     "data": {
      "image/png": "[encoded data removed]",
      "text/plain": [
       "<Figure size 576x720 with 1 Axes>"
      ]
     },
     "metadata": {
      "needs_background": "light"
     },
     "output_type": "display_data"
    }
   ],
   "source": [
    "def plot_feature_importances(model):\n",
    "    plt.figure(figsize=(8,10))\n",
    "    n_features = len(features)\n",
    "    plt.barh(range(n_features), model.feature_importances_, align='center')\n",
    "    plt.yticks(np.arange(n_features), features)\n",
    "    plt.xlabel(\"Feature importance\")\n",
    "    plt.ylabel(\"Feature\")\n",
    "    plt.ylim(-1, n_features)\n",
    "\n",
    "plot_feature_importances(clf)\n",
    "# plt.savefig('Decision Tree feature_importance')"
   ]
  },
  {
   "cell_type": "code",
   "execution_count": 28,
   "metadata": {},
   "outputs": [
    {
     "data": {
      "text/plain": [
       "Class  CheckingAccountStatus.none\n",
       "Bad    0                             254\n",
       "       1                              46\n",
       "Good   0                             352\n",
       "       1                             348\n",
       "dtype: int64"
      ]
     },
     "execution_count": 28,
     "metadata": {},
     "output_type": "execute_result"
    }
   ],
   "source": [
    "df.groupby(['Class', 'CheckingAccountStatus.none']).size()"
   ]
  },
  {
   "cell_type": "code",
   "execution_count": 29,
   "metadata": {},
   "outputs": [
    {
     "data": {
      "text/plain": [
       "array([[ 49,  49],\n",
       "       [ 54, 148]])"
      ]
     },
     "execution_count": 29,
     "metadata": {},
     "output_type": "execute_result"
    }
   ],
   "source": [
    "from sklearn.metrics import confusion_matrix\n",
    "confusion_matrix(y_test, y_pred)"
   ]
  },
  {
   "cell_type": "code",
   "execution_count": 30,
   "metadata": {},
   "outputs": [
    {
     "data": {
      "text/html": [
       "<div>\n",
       "<style scoped>\n",
       "    .dataframe tbody tr th:only-of-type {\n",
       "        vertical-align: middle;\n",
       "    }\n",
       "\n",
       "    .dataframe tbody tr th {\n",
       "        vertical-align: top;\n",
       "    }\n",
       "\n",
       "    .dataframe thead th {\n",
       "        text-align: right;\n",
       "    }\n",
       "</style>\n",
       "<table border=\"1\" class=\"dataframe\">\n",
       "  <thead>\n",
       "    <tr style=\"text-align: right;\">\n",
       "      <th></th>\n",
       "      <th>Duration</th>\n",
       "      <th>Amount</th>\n",
       "      <th>InstallmentRatePercentage</th>\n",
       "      <th>ResidenceDuration</th>\n",
       "      <th>Age</th>\n",
       "      <th>NumberExistingCredits</th>\n",
       "      <th>NumberPeopleMaintenance</th>\n",
       "      <th>Telephone</th>\n",
       "      <th>ForeignWorker</th>\n",
       "      <th>CheckingAccountStatus.lt.0</th>\n",
       "      <th>...</th>\n",
       "      <th>OtherInstallmentPlans.Bank</th>\n",
       "      <th>OtherInstallmentPlans.Stores</th>\n",
       "      <th>OtherInstallmentPlans.None</th>\n",
       "      <th>Housing.Rent</th>\n",
       "      <th>Housing.Own</th>\n",
       "      <th>Housing.ForFree</th>\n",
       "      <th>Job.UnemployedUnskilled</th>\n",
       "      <th>Job.UnskilledResident</th>\n",
       "      <th>Job.SkilledEmployee</th>\n",
       "      <th>Job.Management.SelfEmp.HighlyQualified</th>\n",
       "    </tr>\n",
       "  </thead>\n",
       "  <tbody>\n",
       "    <tr>\n",
       "      <th>0</th>\n",
       "      <td>6</td>\n",
       "      <td>1169</td>\n",
       "      <td>4</td>\n",
       "      <td>4</td>\n",
       "      <td>67</td>\n",
       "      <td>2</td>\n",
       "      <td>1</td>\n",
       "      <td>0</td>\n",
       "      <td>1</td>\n",
       "      <td>1</td>\n",
       "      <td>...</td>\n",
       "      <td>0</td>\n",
       "      <td>0</td>\n",
       "      <td>1</td>\n",
       "      <td>0</td>\n",
       "      <td>1</td>\n",
       "      <td>0</td>\n",
       "      <td>0</td>\n",
       "      <td>0</td>\n",
       "      <td>1</td>\n",
       "      <td>0</td>\n",
       "    </tr>\n",
       "    <tr>\n",
       "      <th>1</th>\n",
       "      <td>48</td>\n",
       "      <td>5951</td>\n",
       "      <td>2</td>\n",
       "      <td>2</td>\n",
       "      <td>22</td>\n",
       "      <td>1</td>\n",
       "      <td>1</td>\n",
       "      <td>1</td>\n",
       "      <td>1</td>\n",
       "      <td>0</td>\n",
       "      <td>...</td>\n",
       "      <td>0</td>\n",
       "      <td>0</td>\n",
       "      <td>1</td>\n",
       "      <td>0</td>\n",
       "      <td>1</td>\n",
       "      <td>0</td>\n",
       "      <td>0</td>\n",
       "      <td>0</td>\n",
       "      <td>1</td>\n",
       "      <td>0</td>\n",
       "    </tr>\n",
       "    <tr>\n",
       "      <th>2</th>\n",
       "      <td>12</td>\n",
       "      <td>2096</td>\n",
       "      <td>2</td>\n",
       "      <td>3</td>\n",
       "      <td>49</td>\n",
       "      <td>1</td>\n",
       "      <td>2</td>\n",
       "      <td>1</td>\n",
       "      <td>1</td>\n",
       "      <td>0</td>\n",
       "      <td>...</td>\n",
       "      <td>0</td>\n",
       "      <td>0</td>\n",
       "      <td>1</td>\n",
       "      <td>0</td>\n",
       "      <td>1</td>\n",
       "      <td>0</td>\n",
       "      <td>0</td>\n",
       "      <td>1</td>\n",
       "      <td>0</td>\n",
       "      <td>0</td>\n",
       "    </tr>\n",
       "    <tr>\n",
       "      <th>3</th>\n",
       "      <td>42</td>\n",
       "      <td>7882</td>\n",
       "      <td>2</td>\n",
       "      <td>4</td>\n",
       "      <td>45</td>\n",
       "      <td>1</td>\n",
       "      <td>2</td>\n",
       "      <td>1</td>\n",
       "      <td>1</td>\n",
       "      <td>1</td>\n",
       "      <td>...</td>\n",
       "      <td>0</td>\n",
       "      <td>0</td>\n",
       "      <td>1</td>\n",
       "      <td>0</td>\n",
       "      <td>0</td>\n",
       "      <td>1</td>\n",
       "      <td>0</td>\n",
       "      <td>0</td>\n",
       "      <td>1</td>\n",
       "      <td>0</td>\n",
       "    </tr>\n",
       "    <tr>\n",
       "      <th>4</th>\n",
       "      <td>24</td>\n",
       "      <td>4870</td>\n",
       "      <td>3</td>\n",
       "      <td>4</td>\n",
       "      <td>53</td>\n",
       "      <td>2</td>\n",
       "      <td>2</td>\n",
       "      <td>1</td>\n",
       "      <td>1</td>\n",
       "      <td>1</td>\n",
       "      <td>...</td>\n",
       "      <td>0</td>\n",
       "      <td>0</td>\n",
       "      <td>1</td>\n",
       "      <td>0</td>\n",
       "      <td>0</td>\n",
       "      <td>1</td>\n",
       "      <td>0</td>\n",
       "      <td>0</td>\n",
       "      <td>1</td>\n",
       "      <td>0</td>\n",
       "    </tr>\n",
       "  </tbody>\n",
       "</table>\n",
       "<p>5 rows × 60 columns</p>\n",
       "</div>"
      ],
      "text/plain": [
       "   Duration  Amount  InstallmentRatePercentage  ResidenceDuration  Age  \\\n",
       "0         6    1169                          4                  4   67   \n",
       "1        48    5951                          2                  2   22   \n",
       "2        12    2096                          2                  3   49   \n",
       "3        42    7882                          2                  4   45   \n",
       "4        24    4870                          3                  4   53   \n",
       "\n",
       "   NumberExistingCredits  NumberPeopleMaintenance  Telephone  ForeignWorker  \\\n",
       "0                      2                        1          0              1   \n",
       "1                      1                        1          1              1   \n",
       "2                      1                        2          1              1   \n",
       "3                      1                        2          1              1   \n",
       "4                      2                        2          1              1   \n",
       "\n",
       "   CheckingAccountStatus.lt.0  ...  OtherInstallmentPlans.Bank  \\\n",
       "0                           1  ...                           0   \n",
       "1                           0  ...                           0   \n",
       "2                           0  ...                           0   \n",
       "3                           1  ...                           0   \n",
       "4                           1  ...                           0   \n",
       "\n",
       "   OtherInstallmentPlans.Stores  OtherInstallmentPlans.None  Housing.Rent  \\\n",
       "0                             0                           1             0   \n",
       "1                             0                           1             0   \n",
       "2                             0                           1             0   \n",
       "3                             0                           1             0   \n",
       "4                             0                           1             0   \n",
       "\n",
       "   Housing.Own  Housing.ForFree  Job.UnemployedUnskilled  \\\n",
       "0            1                0                        0   \n",
       "1            1                0                        0   \n",
       "2            1                0                        0   \n",
       "3            0                1                        0   \n",
       "4            0                1                        0   \n",
       "\n",
       "   Job.UnskilledResident  Job.SkilledEmployee  \\\n",
       "0                      0                    1   \n",
       "1                      0                    1   \n",
       "2                      1                    0   \n",
       "3                      0                    1   \n",
       "4                      0                    1   \n",
       "\n",
       "   Job.Management.SelfEmp.HighlyQualified  \n",
       "0                                       0  \n",
       "1                                       0  \n",
       "2                                       0  \n",
       "3                                       0  \n",
       "4                                       0  \n",
       "\n",
       "[5 rows x 60 columns]"
      ]
     },
     "execution_count": 30,
     "metadata": {},
     "output_type": "execute_result"
    }
   ],
   "source": [
    "X.head()"
   ]
  },
  {
   "cell_type": "code",
   "execution_count": 31,
   "metadata": {},
   "outputs": [
    {
     "name": "stdout",
     "output_type": "stream",
     "text": [
      "              precision    recall  f1-score   support\n",
      "\n",
      "         Bad       0.48      0.50      0.49        98\n",
      "        Good       0.75      0.73      0.74       202\n",
      "\n",
      "    accuracy                           0.66       300\n",
      "   macro avg       0.61      0.62      0.61       300\n",
      "weighted avg       0.66      0.66      0.66       300\n",
      "\n"
     ]
    }
   ],
   "source": [
    "print(classification_report(y_test, y_pred))"
   ]
  },
  {
   "cell_type": "code",
   "execution_count": 32,
   "metadata": {},
   "outputs": [
    {
     "data": {
      "text/plain": [
       "0.7486910994764397"
      ]
     },
     "execution_count": 32,
     "metadata": {},
     "output_type": "execute_result"
    }
   ],
   "source": [
    "# Precision TP/(TP+FP)\n",
    "# False Positive: Type I error\n",
    "143/(143+48)"
   ]
  },
  {
   "cell_type": "code",
   "execution_count": 33,
   "metadata": {},
   "outputs": [
    {
     "data": {
      "text/plain": [
       "0.7121951219512195"
      ]
     },
     "execution_count": 33,
     "metadata": {},
     "output_type": "execute_result"
    }
   ],
   "source": [
    "# Recall or sensitivity TP/(TP+FN)\n",
    "# False Negative: Type II error\n",
    "146/(146+59)"
   ]
  },
  {
   "cell_type": "code",
   "execution_count": 34,
   "metadata": {},
   "outputs": [
    {
     "name": "stdout",
     "output_type": "stream",
     "text": [
      "Fitting 3 folds for each of 504 candidates, totalling 1512 fits\n"
     ]
    },
    {
     "name": "stderr",
     "output_type": "stream",
     "text": [
      "[Parallel(n_jobs=1)]: Using backend SequentialBackend with 1 concurrent workers.\n",
      "[Parallel(n_jobs=1)]: Done 1512 out of 1512 | elapsed:    5.6s finished\n"
     ]
    },
    {
     "data": {
      "text/plain": [
       "GridSearchCV(cv=3, error_score=nan,\n",
       "             estimator=DecisionTreeClassifier(ccp_alpha=0.0, class_weight=None,\n",
       "                                              criterion='gini', max_depth=None,\n",
       "                                              max_features=None,\n",
       "                                              max_leaf_nodes=None,\n",
       "                                              min_impurity_decrease=0.0,\n",
       "                                              min_impurity_split=None,\n",
       "                                              min_samples_leaf=1,\n",
       "                                              min_samples_split=2,\n",
       "                                              min_weight_fraction_leaf=0.0,\n",
       "                                              presort='deprecated',\n",
       "                                              random_state=35,\n",
       "                                              splitter='best'),\n",
       "             iid='deprecated', n_jobs=None,\n",
       "             param_grid={'criterion': ['gini', 'entropy'],\n",
       "                         'max_features': ['auto', 'sqrt', 'log2'],\n",
       "                         'max_leaf_nodes': [2, 3, 4, 5, 6, 7, 8, 9, 10, 11, 12,\n",
       "                                            13, 14, 15, 16, 17, 18, 19, 20, 21,\n",
       "                                            22, 23, 24, 25, 26, 27, 28, 29],\n",
       "                         'min_samples_split': [2, 3, 4]},\n",
       "             pre_dispatch='2*n_jobs', refit=True, return_train_score=False,\n",
       "             scoring=None, verbose=1)"
      ]
     },
     "execution_count": 34,
     "metadata": {},
     "output_type": "execute_result"
    }
   ],
   "source": [
    "params = {\n",
    "    'criterion': ['gini', 'entropy'],\n",
    "    'max_leaf_nodes': list(range(2, 30)), \n",
    "    'min_samples_split': [2, 3, 4],\n",
    "    'max_features' : ['auto', 'sqrt', 'log2'],\n",
    "     }\n",
    "grid_search_cv = GridSearchCV(DecisionTreeClassifier(random_state=35), params, verbose=1, cv=3)\n",
    "grid_search_cv.fit(X_train, y_train)"
   ]
  },
  {
   "cell_type": "code",
   "execution_count": 35,
   "metadata": {},
   "outputs": [
    {
     "name": "stdout",
     "output_type": "stream",
     "text": [
      "              precision    recall  f1-score   support\n",
      "\n",
      "         Bad       0.55      0.16      0.25        98\n",
      "        Good       0.70      0.94      0.80       202\n",
      "\n",
      "    accuracy                           0.68       300\n",
      "   macro avg       0.62      0.55      0.53       300\n",
      "weighted avg       0.65      0.68      0.62       300\n",
      "\n"
     ]
    }
   ],
   "source": [
    "print(classification_report(y_test, grid_search_cv.predict(X_test)))"
   ]
  },
  {
   "cell_type": "code",
   "execution_count": 36,
   "metadata": {},
   "outputs": [
    {
     "data": {
      "text/plain": [
       "DecisionTreeClassifier(ccp_alpha=0.0, class_weight=None, criterion='entropy',\n",
       "                       max_depth=None, max_features='auto', max_leaf_nodes=10,\n",
       "                       min_impurity_decrease=0.0, min_impurity_split=None,\n",
       "                       min_samples_leaf=1, min_samples_split=2,\n",
       "                       min_weight_fraction_leaf=0.0, presort='deprecated',\n",
       "                       random_state=35, splitter='best')"
      ]
     },
     "execution_count": 36,
     "metadata": {},
     "output_type": "execute_result"
    }
   ],
   "source": [
    "grid_search_cv.best_estimator_"
   ]
  },
  {
   "cell_type": "code",
   "execution_count": 37,
   "metadata": {},
   "outputs": [
    {
     "data": {
      "text/plain": [
       "array([[0.22727273, 0.77272727],\n",
       "       [0.25949367, 0.74050633],\n",
       "       [0.12972973, 0.87027027],\n",
       "       [0.25949367, 0.74050633],\n",
       "       [0.12972973, 0.87027027],\n",
       "       [0.25949367, 0.74050633],\n",
       "       [0.22727273, 0.77272727],\n",
       "       [0.25949367, 0.74050633],\n",
       "       [0.25949367, 0.74050633],\n",
       "       [0.375     , 0.625     ]])"
      ]
     },
     "execution_count": 37,
     "metadata": {},
     "output_type": "execute_result"
    }
   ],
   "source": [
    "# How do I know the first prob is for Good or Bad??? over 0.5--> Good else Bad\n",
    "grid_search_cv.predict_proba(X_test)[:10]"
   ]
  },
  {
   "cell_type": "code",
   "execution_count": 38,
   "metadata": {},
   "outputs": [
    {
     "data": {
      "text/plain": [
       "array(['Good', 'Good', 'Good', 'Good', 'Good', 'Good', 'Good', 'Good',\n",
       "       'Good', 'Good'], dtype=object)"
      ]
     },
     "execution_count": 38,
     "metadata": {},
     "output_type": "execute_result"
    }
   ],
   "source": [
    "grid_search_cv.predict(X_test)[:10]"
   ]
  },
  {
   "cell_type": "code",
   "execution_count": 39,
   "metadata": {},
   "outputs": [
    {
     "data": {
      "text/plain": [
       "0.6833333333333333"
      ]
     },
     "execution_count": 39,
     "metadata": {},
     "output_type": "execute_result"
    }
   ],
   "source": [
    "grid_search_cv.score(X_test, y_test)"
   ]
  },
  {
   "cell_type": "markdown",
   "metadata": {},
   "source": [
    "### After you've built the best model you can, now it's time to visualize it!"
   ]
  },
  {
   "cell_type": "markdown",
   "metadata": {},
   "source": [
    "Rememeber that amazing blog post from a few paragraphs ago, that demonstrated how to visualize and interpret the results of your Decision Tree model. We've seen that this can perform very well, but let's see how it does on the \"German Credit\" dataset that we're working on, due to it being a bit larger than the one used by the blog authors."
   ]
  },
  {
   "cell_type": "markdown",
   "metadata": {},
   "source": [
    "First, we're going to need to install their package. If you're using Anaconda, this can be done easily by running:"
   ]
  },
  {
   "cell_type": "markdown",
   "metadata": {},
   "source": [
    "If for any reason this way of installing doesn't work for you straight out of the box, please refer to the more detailed documentation here: https://github.com/parrt/dtreeviz"
   ]
  },
  {
   "cell_type": "markdown",
   "metadata": {},
   "source": [
    "Now you're ready to visualize your Decision Tree model! Please feel free to use the blog post for guidance and inspiration!"
   ]
  },
  {
   "cell_type": "code",
   "execution_count": 24,
   "metadata": {},
   "outputs": [
    {
     "ename": "ExecutableNotFound",
     "evalue": "failed to execute ['dot', '-Tsvg', '-o', '/tmp/DTreeViz_38.svg', '/tmp/DTreeViz_38'], make sure the Graphviz executables are on your systems' PATH",
     "output_type": "error",
     "traceback": [
      "\u001b[0;31m---------------------------------------------------------------------------\u001b[0m",
      "\u001b[0;31mFileNotFoundError\u001b[0m                         Traceback (most recent call last)",
      "\u001b[0;32m/opt/conda/envs/springboard/lib/python3.7/site-packages/graphviz/backend.py\u001b[0m in \u001b[0;36mrun\u001b[0;34m(cmd, input, capture_output, check, encoding, quiet, **kwargs)\u001b[0m\n\u001b[1;32m    163\u001b[0m     \u001b[0;32mtry\u001b[0m\u001b[0;34m:\u001b[0m\u001b[0;34m\u001b[0m\u001b[0;34m\u001b[0m\u001b[0m\n\u001b[0;32m--> 164\u001b[0;31m         \u001b[0mproc\u001b[0m \u001b[0;34m=\u001b[0m \u001b[0msubprocess\u001b[0m\u001b[0;34m.\u001b[0m\u001b[0mPopen\u001b[0m\u001b[0;34m(\u001b[0m\u001b[0mcmd\u001b[0m\u001b[0;34m,\u001b[0m \u001b[0mstartupinfo\u001b[0m\u001b[0;34m=\u001b[0m\u001b[0mget_startupinfo\u001b[0m\u001b[0;34m(\u001b[0m\u001b[0;34m)\u001b[0m\u001b[0;34m,\u001b[0m \u001b[0;34m**\u001b[0m\u001b[0mkwargs\u001b[0m\u001b[0;34m)\u001b[0m\u001b[0;34m\u001b[0m\u001b[0;34m\u001b[0m\u001b[0m\n\u001b[0m\u001b[1;32m    165\u001b[0m     \u001b[0;32mexcept\u001b[0m \u001b[0mOSError\u001b[0m \u001b[0;32mas\u001b[0m \u001b[0me\u001b[0m\u001b[0;34m:\u001b[0m\u001b[0;34m\u001b[0m\u001b[0;34m\u001b[0m\u001b[0m\n",
      "\u001b[0;32m/opt/conda/envs/springboard/lib/python3.7/subprocess.py\u001b[0m in \u001b[0;36m__init__\u001b[0;34m(self, args, bufsize, executable, stdin, stdout, stderr, preexec_fn, close_fds, shell, cwd, env, universal_newlines, startupinfo, creationflags, restore_signals, start_new_session, pass_fds, encoding, errors, text)\u001b[0m\n\u001b[1;32m    799\u001b[0m                                 \u001b[0merrread\u001b[0m\u001b[0;34m,\u001b[0m \u001b[0merrwrite\u001b[0m\u001b[0;34m,\u001b[0m\u001b[0;34m\u001b[0m\u001b[0;34m\u001b[0m\u001b[0m\n\u001b[0;32m--> 800\u001b[0;31m                                 restore_signals, start_new_session)\n\u001b[0m\u001b[1;32m    801\u001b[0m         \u001b[0;32mexcept\u001b[0m\u001b[0;34m:\u001b[0m\u001b[0;34m\u001b[0m\u001b[0;34m\u001b[0m\u001b[0m\n",
      "\u001b[0;32m/opt/conda/envs/springboard/lib/python3.7/subprocess.py\u001b[0m in \u001b[0;36m_execute_child\u001b[0;34m(self, args, executable, preexec_fn, close_fds, pass_fds, cwd, env, startupinfo, creationflags, shell, p2cread, p2cwrite, c2pread, c2pwrite, errread, errwrite, restore_signals, start_new_session)\u001b[0m\n\u001b[1;32m   1550\u001b[0m                             \u001b[0merr_msg\u001b[0m \u001b[0;34m+=\u001b[0m \u001b[0;34m': '\u001b[0m \u001b[0;34m+\u001b[0m \u001b[0mrepr\u001b[0m\u001b[0;34m(\u001b[0m\u001b[0merr_filename\u001b[0m\u001b[0;34m)\u001b[0m\u001b[0;34m\u001b[0m\u001b[0;34m\u001b[0m\u001b[0m\n\u001b[0;32m-> 1551\u001b[0;31m                     \u001b[0;32mraise\u001b[0m \u001b[0mchild_exception_type\u001b[0m\u001b[0;34m(\u001b[0m\u001b[0merrno_num\u001b[0m\u001b[0;34m,\u001b[0m \u001b[0merr_msg\u001b[0m\u001b[0;34m,\u001b[0m \u001b[0merr_filename\u001b[0m\u001b[0;34m)\u001b[0m\u001b[0;34m\u001b[0m\u001b[0;34m\u001b[0m\u001b[0m\n\u001b[0m\u001b[1;32m   1552\u001b[0m                 \u001b[0;32mraise\u001b[0m \u001b[0mchild_exception_type\u001b[0m\u001b[0;34m(\u001b[0m\u001b[0merr_msg\u001b[0m\u001b[0;34m)\u001b[0m\u001b[0;34m\u001b[0m\u001b[0;34m\u001b[0m\u001b[0m\n",
      "\u001b[0;31mFileNotFoundError\u001b[0m: [Errno 2] No such file or directory: 'dot': 'dot'",
      "\nDuring handling of the above exception, another exception occurred:\n",
      "\u001b[0;31mExecutableNotFound\u001b[0m                        Traceback (most recent call last)",
      "\u001b[0;32m/opt/conda/envs/springboard/lib/python3.7/site-packages/IPython/core/formatters.py\u001b[0m in \u001b[0;36m__call__\u001b[0;34m(self, obj)\u001b[0m\n\u001b[1;32m    343\u001b[0m             \u001b[0mmethod\u001b[0m \u001b[0;34m=\u001b[0m \u001b[0mget_real_method\u001b[0m\u001b[0;34m(\u001b[0m\u001b[0mobj\u001b[0m\u001b[0;34m,\u001b[0m \u001b[0mself\u001b[0m\u001b[0;34m.\u001b[0m\u001b[0mprint_method\u001b[0m\u001b[0;34m)\u001b[0m\u001b[0;34m\u001b[0m\u001b[0;34m\u001b[0m\u001b[0m\n\u001b[1;32m    344\u001b[0m             \u001b[0;32mif\u001b[0m \u001b[0mmethod\u001b[0m \u001b[0;32mis\u001b[0m \u001b[0;32mnot\u001b[0m \u001b[0;32mNone\u001b[0m\u001b[0;34m:\u001b[0m\u001b[0;34m\u001b[0m\u001b[0;34m\u001b[0m\u001b[0m\n\u001b[0;32m--> 345\u001b[0;31m                 \u001b[0;32mreturn\u001b[0m \u001b[0mmethod\u001b[0m\u001b[0;34m(\u001b[0m\u001b[0;34m)\u001b[0m\u001b[0;34m\u001b[0m\u001b[0;34m\u001b[0m\u001b[0m\n\u001b[0m\u001b[1;32m    346\u001b[0m             \u001b[0;32mreturn\u001b[0m \u001b[0;32mNone\u001b[0m\u001b[0;34m\u001b[0m\u001b[0;34m\u001b[0m\u001b[0m\n\u001b[1;32m    347\u001b[0m         \u001b[0;32melse\u001b[0m\u001b[0;34m:\u001b[0m\u001b[0;34m\u001b[0m\u001b[0;34m\u001b[0m\u001b[0m\n",
      "\u001b[0;32m/opt/conda/envs/springboard/lib/python3.7/site-packages/dtreeviz/trees.py\u001b[0m in \u001b[0;36m_repr_svg_\u001b[0;34m(self)\u001b[0m\n\u001b[1;32m     35\u001b[0m \u001b[0;34m\u001b[0m\u001b[0m\n\u001b[1;32m     36\u001b[0m     \u001b[0;32mdef\u001b[0m \u001b[0m_repr_svg_\u001b[0m\u001b[0;34m(\u001b[0m\u001b[0mself\u001b[0m\u001b[0;34m)\u001b[0m\u001b[0;34m:\u001b[0m\u001b[0;34m\u001b[0m\u001b[0;34m\u001b[0m\u001b[0m\n\u001b[0;32m---> 37\u001b[0;31m         \u001b[0;32mreturn\u001b[0m \u001b[0mself\u001b[0m\u001b[0;34m.\u001b[0m\u001b[0msvg\u001b[0m\u001b[0;34m(\u001b[0m\u001b[0;34m)\u001b[0m\u001b[0;34m\u001b[0m\u001b[0;34m\u001b[0m\u001b[0m\n\u001b[0m\u001b[1;32m     38\u001b[0m \u001b[0;34m\u001b[0m\u001b[0m\n\u001b[1;32m     39\u001b[0m     \u001b[0;32mdef\u001b[0m \u001b[0msvg\u001b[0m\u001b[0;34m(\u001b[0m\u001b[0mself\u001b[0m\u001b[0;34m)\u001b[0m\u001b[0;34m:\u001b[0m\u001b[0;34m\u001b[0m\u001b[0;34m\u001b[0m\u001b[0m\n",
      "\u001b[0;32m/opt/conda/envs/springboard/lib/python3.7/site-packages/dtreeviz/trees.py\u001b[0m in \u001b[0;36msvg\u001b[0;34m(self)\u001b[0m\n\u001b[1;32m     39\u001b[0m     \u001b[0;32mdef\u001b[0m \u001b[0msvg\u001b[0m\u001b[0;34m(\u001b[0m\u001b[0mself\u001b[0m\u001b[0;34m)\u001b[0m\u001b[0;34m:\u001b[0m\u001b[0;34m\u001b[0m\u001b[0;34m\u001b[0m\u001b[0m\n\u001b[1;32m     40\u001b[0m         \u001b[0;34m\"\"\"Render tree as svg and return svg text.\"\"\"\u001b[0m\u001b[0;34m\u001b[0m\u001b[0;34m\u001b[0m\u001b[0m\n\u001b[0;32m---> 41\u001b[0;31m         \u001b[0msvgfilename\u001b[0m \u001b[0;34m=\u001b[0m \u001b[0mself\u001b[0m\u001b[0;34m.\u001b[0m\u001b[0msave_svg\u001b[0m\u001b[0;34m(\u001b[0m\u001b[0;34m)\u001b[0m\u001b[0;34m\u001b[0m\u001b[0;34m\u001b[0m\u001b[0m\n\u001b[0m\u001b[1;32m     42\u001b[0m         \u001b[0;32mwith\u001b[0m \u001b[0mopen\u001b[0m\u001b[0;34m(\u001b[0m\u001b[0msvgfilename\u001b[0m\u001b[0;34m,\u001b[0m \u001b[0mencoding\u001b[0m\u001b[0;34m=\u001b[0m\u001b[0;34m'UTF-8'\u001b[0m\u001b[0;34m)\u001b[0m \u001b[0;32mas\u001b[0m \u001b[0mf\u001b[0m\u001b[0;34m:\u001b[0m\u001b[0;34m\u001b[0m\u001b[0;34m\u001b[0m\u001b[0m\n\u001b[1;32m     43\u001b[0m             \u001b[0msvg\u001b[0m \u001b[0;34m=\u001b[0m \u001b[0mf\u001b[0m\u001b[0;34m.\u001b[0m\u001b[0mread\u001b[0m\u001b[0;34m(\u001b[0m\u001b[0;34m)\u001b[0m\u001b[0;34m\u001b[0m\u001b[0;34m\u001b[0m\u001b[0m\n",
      "\u001b[0;32m/opt/conda/envs/springboard/lib/python3.7/site-packages/dtreeviz/trees.py\u001b[0m in \u001b[0;36msave_svg\u001b[0;34m(self)\u001b[0m\n\u001b[1;32m     52\u001b[0m         \u001b[0mtmp\u001b[0m \u001b[0;34m=\u001b[0m \u001b[0mtempfile\u001b[0m\u001b[0;34m.\u001b[0m\u001b[0mgettempdir\u001b[0m\u001b[0;34m(\u001b[0m\u001b[0;34m)\u001b[0m\u001b[0;34m\u001b[0m\u001b[0;34m\u001b[0m\u001b[0m\n\u001b[1;32m     53\u001b[0m         \u001b[0msvgfilename\u001b[0m \u001b[0;34m=\u001b[0m \u001b[0mos\u001b[0m\u001b[0;34m.\u001b[0m\u001b[0mpath\u001b[0m\u001b[0;34m.\u001b[0m\u001b[0mjoin\u001b[0m\u001b[0;34m(\u001b[0m\u001b[0mtmp\u001b[0m\u001b[0;34m,\u001b[0m \u001b[0;34mf\"DTreeViz_{os.getpid()}.svg\"\u001b[0m\u001b[0;34m)\u001b[0m\u001b[0;34m\u001b[0m\u001b[0;34m\u001b[0m\u001b[0m\n\u001b[0;32m---> 54\u001b[0;31m         \u001b[0mself\u001b[0m\u001b[0;34m.\u001b[0m\u001b[0msave\u001b[0m\u001b[0;34m(\u001b[0m\u001b[0msvgfilename\u001b[0m\u001b[0;34m)\u001b[0m\u001b[0;34m\u001b[0m\u001b[0;34m\u001b[0m\u001b[0m\n\u001b[0m\u001b[1;32m     55\u001b[0m         \u001b[0;32mreturn\u001b[0m \u001b[0msvgfilename\u001b[0m\u001b[0;34m\u001b[0m\u001b[0;34m\u001b[0m\u001b[0m\n\u001b[1;32m     56\u001b[0m \u001b[0;34m\u001b[0m\u001b[0m\n",
      "\u001b[0;32m/opt/conda/envs/springboard/lib/python3.7/site-packages/dtreeviz/trees.py\u001b[0m in \u001b[0;36msave\u001b[0;34m(self, filename)\u001b[0m\n\u001b[1;32m     77\u001b[0m         \u001b[0mcmd\u001b[0m \u001b[0;34m=\u001b[0m \u001b[0;34m[\u001b[0m\u001b[0;34m\"dot\"\u001b[0m\u001b[0;34m,\u001b[0m \u001b[0;34mf\"-T{format}\"\u001b[0m\u001b[0;34m,\u001b[0m \u001b[0;34m\"-o\"\u001b[0m\u001b[0;34m,\u001b[0m \u001b[0mfilename\u001b[0m\u001b[0;34m,\u001b[0m \u001b[0mdotfilename\u001b[0m\u001b[0;34m]\u001b[0m\u001b[0;34m\u001b[0m\u001b[0;34m\u001b[0m\u001b[0m\n\u001b[1;32m     78\u001b[0m         \u001b[0;31m# print(' '.join(cmd))\u001b[0m\u001b[0;34m\u001b[0m\u001b[0;34m\u001b[0m\u001b[0;34m\u001b[0m\u001b[0m\n\u001b[0;32m---> 79\u001b[0;31m         \u001b[0mrun\u001b[0m\u001b[0;34m(\u001b[0m\u001b[0mcmd\u001b[0m\u001b[0;34m,\u001b[0m \u001b[0mcapture_output\u001b[0m\u001b[0;34m=\u001b[0m\u001b[0;32mTrue\u001b[0m\u001b[0;34m,\u001b[0m \u001b[0mcheck\u001b[0m\u001b[0;34m=\u001b[0m\u001b[0;32mTrue\u001b[0m\u001b[0;34m,\u001b[0m \u001b[0mquiet\u001b[0m\u001b[0;34m=\u001b[0m\u001b[0;32mFalse\u001b[0m\u001b[0;34m)\u001b[0m\u001b[0;34m\u001b[0m\u001b[0;34m\u001b[0m\u001b[0m\n\u001b[0m\u001b[1;32m     80\u001b[0m \u001b[0;34m\u001b[0m\u001b[0m\n\u001b[1;32m     81\u001b[0m         \u001b[0;32mif\u001b[0m \u001b[0mfilename\u001b[0m\u001b[0;34m.\u001b[0m\u001b[0mendswith\u001b[0m\u001b[0;34m(\u001b[0m\u001b[0;34m\".svg\"\u001b[0m\u001b[0;34m)\u001b[0m\u001b[0;34m:\u001b[0m\u001b[0;34m\u001b[0m\u001b[0;34m\u001b[0m\u001b[0m\n",
      "\u001b[0;32m/opt/conda/envs/springboard/lib/python3.7/site-packages/graphviz/backend.py\u001b[0m in \u001b[0;36mrun\u001b[0;34m(cmd, input, capture_output, check, encoding, quiet, **kwargs)\u001b[0m\n\u001b[1;32m    165\u001b[0m     \u001b[0;32mexcept\u001b[0m \u001b[0mOSError\u001b[0m \u001b[0;32mas\u001b[0m \u001b[0me\u001b[0m\u001b[0;34m:\u001b[0m\u001b[0;34m\u001b[0m\u001b[0;34m\u001b[0m\u001b[0m\n\u001b[1;32m    166\u001b[0m         \u001b[0;32mif\u001b[0m \u001b[0me\u001b[0m\u001b[0;34m.\u001b[0m\u001b[0merrno\u001b[0m \u001b[0;34m==\u001b[0m \u001b[0merrno\u001b[0m\u001b[0;34m.\u001b[0m\u001b[0mENOENT\u001b[0m\u001b[0;34m:\u001b[0m\u001b[0;34m\u001b[0m\u001b[0;34m\u001b[0m\u001b[0m\n\u001b[0;32m--> 167\u001b[0;31m             \u001b[0;32mraise\u001b[0m \u001b[0mExecutableNotFound\u001b[0m\u001b[0;34m(\u001b[0m\u001b[0mcmd\u001b[0m\u001b[0;34m)\u001b[0m\u001b[0;34m\u001b[0m\u001b[0;34m\u001b[0m\u001b[0m\n\u001b[0m\u001b[1;32m    168\u001b[0m         \u001b[0;32melse\u001b[0m\u001b[0;34m:\u001b[0m\u001b[0;34m\u001b[0m\u001b[0;34m\u001b[0m\u001b[0m\n\u001b[1;32m    169\u001b[0m             \u001b[0;32mraise\u001b[0m\u001b[0;34m\u001b[0m\u001b[0;34m\u001b[0m\u001b[0m\n",
      "\u001b[0;31mExecutableNotFound\u001b[0m: failed to execute ['dot', '-Tsvg', '-o', '/tmp/DTreeViz_38.svg', '/tmp/DTreeViz_38'], make sure the Graphviz executables are on your systems' PATH"
     ]
    },
    {
     "data": {
      "text/plain": [
       "<dtreeviz.trees.DTreeViz at 0x7fb99eb0a9d0>"
      ]
     },
     "execution_count": 24,
     "metadata": {},
     "output_type": "execute_result"
    }
   ],
   "source": [
    "#### Your code here! :)\n",
    "from dtreeviz.trees import dtreeviz\n",
    "\n",
    "classifier = DecisionTreeClassifier(ccp_alpha=0.0, class_weight=None, criterion='entropy',\n",
    "                       max_depth=None, max_features='auto', max_leaf_nodes=10,\n",
    "                       min_impurity_decrease=0.0, min_impurity_split=None,\n",
    "                       min_samples_leaf=1, min_samples_split=2,\n",
    "                       min_weight_fraction_leaf=0.0, presort='deprecated',\n",
    "                       random_state=35, splitter='best')\n",
    "\n",
    "classifier.fit(X_train, y_train)\n",
    "\n",
    "viz = dtreeviz(classifier, X_train, y_train, target_name='Class',\n",
    "               feature_names=X_train.columns,\n",
    "               orientation='TD', \n",
    "               class_names=['Bad','Good']\n",
    "              )\n",
    "\n",
    "viz"
   ]
  },
  {
   "cell_type": "markdown",
   "metadata": {},
   "source": [
    "## Random Forests"
   ]
  },
  {
   "cell_type": "markdown",
   "metadata": {},
   "source": [
    "As discussed in the lecture videos, Decision Tree algorithms also have certain undesireable properties. Mainly the have low bias, which is good, but tend to have high variance - which is *not* so good (more about this problem here: https://en.wikipedia.org/wiki/Bias%E2%80%93variance_tradeoff)."
   ]
  },
  {
   "cell_type": "markdown",
   "metadata": {},
   "source": [
    "Noticing these problems, the late Professor Leo Breiman, in 2001, developed the Random Forests algorithm, which mitigates these problems, while at the same time providing even higher predictive accuracy than the majority of Decision Tree algorithm implementations. While the curriculum contains two excellent lectures on Random Forests, if you're interested, you can dive into the original paper here: https://link.springer.com/content/pdf/10.1023%2FA%3A1010933404324.pdf."
   ]
  },
  {
   "cell_type": "markdown",
   "metadata": {},
   "source": [
    "In the next part of this assignment, your are going to use the same \"German Credit\" dataset to train, tune, and measure the performance of a Random Forests model. You will also see certain functionalities that this model, even though it's a bit of a \"black box\", provides for some degree of interpretability."
   ]
  },
  {
   "cell_type": "markdown",
   "metadata": {},
   "source": [
    "First, let's build a Random Forests model, using the same best practices that you've used for your Decision Trees model. You can reuse the things you've already imported there, so no need to do any re-imports, new train/test splits, or loading up the data again."
   ]
  },
  {
   "cell_type": "code",
   "execution_count": 40,
   "metadata": {},
   "outputs": [
    {
     "data": {
      "text/plain": [
       "RandomForestClassifier(bootstrap=True, ccp_alpha=0.0, class_weight=None,\n",
       "                       criterion='gini', max_depth=3, max_features='auto',\n",
       "                       max_leaf_nodes=None, max_samples=None,\n",
       "                       min_impurity_decrease=0.0, min_impurity_split=None,\n",
       "                       min_samples_leaf=1, min_samples_split=2,\n",
       "                       min_weight_fraction_leaf=0.0, n_estimators=100,\n",
       "                       n_jobs=None, oob_score=False, random_state=30, verbose=0,\n",
       "                       warm_start=False)"
      ]
     },
     "execution_count": 40,
     "metadata": {},
     "output_type": "execute_result"
    }
   ],
   "source": [
    "from sklearn.ensemble import RandomForestClassifier\n",
    "clf_rf = RandomForestClassifier(max_depth=3, random_state=30) #n_estimatorsint: default=100\n",
    "clf_rf.fit(X_train, y_train)"
   ]
  },
  {
   "cell_type": "code",
   "execution_count": 41,
   "metadata": {},
   "outputs": [
    {
     "name": "stdout",
     "output_type": "stream",
     "text": [
      "['Good' 'Good' 'Good' 'Good' 'Good' 'Good' 'Good' 'Good' 'Good' 'Good']\n"
     ]
    }
   ],
   "source": [
    "print(clf_rf.predict(X_test)[:10])"
   ]
  },
  {
   "cell_type": "code",
   "execution_count": 42,
   "metadata": {},
   "outputs": [
    {
     "name": "stdout",
     "output_type": "stream",
     "text": [
      "Accuracy on training set: 0.723\n",
      "Accuracy on test set: 0.680\n"
     ]
    }
   ],
   "source": [
    "clf_rf.score(X_test,y_test)\n",
    "print(\"Accuracy on training set: {:.3f}\".format(clf_rf.score(X_train, y_train)))\n",
    "print(\"Accuracy on test set: {:.3f}\".format(clf_rf.score(X_test, y_test)))"
   ]
  },
  {
   "cell_type": "code",
   "execution_count": 43,
   "metadata": {},
   "outputs": [
    {
     "name": "stdout",
     "output_type": "stream",
     "text": [
      "For max depth = 2, accuracy on training set: 0.711 and accuracy on test set: 0.673\n",
      "For max depth = 3, accuracy on training set: 0.731 and accuracy on test set: 0.683\n",
      "For max depth = 4, accuracy on training set: 0.760 and accuracy on test set: 0.707\n",
      "For max depth = 5, accuracy on training set: 0.791 and accuracy on test set: 0.717\n",
      "For max depth = 6, accuracy on training set: 0.849 and accuracy on test set: 0.707\n",
      "For max depth = 7, accuracy on training set: 0.883 and accuracy on test set: 0.717\n",
      "For max depth = 8, accuracy on training set: 0.934 and accuracy on test set: 0.710\n",
      "For max depth = 9, accuracy on training set: 0.953 and accuracy on test set: 0.720\n",
      "For max depth = 10, accuracy on training set: 0.973 and accuracy on test set: 0.723\n",
      "For max depth = 15, accuracy on training set: 1.000 and accuracy on test set: 0.743\n",
      "For max depth = 30, accuracy on training set: 1.000 and accuracy on test set: 0.727\n",
      "For max depth = 35, accuracy on training set: 1.000 and accuracy on test set: 0.727\n"
     ]
    }
   ],
   "source": [
    "depth = [2,3,4,5,6,7,8,9,10,15,30,35]\n",
    "\n",
    "for d in depth:\n",
    "    clf_rf2 = RandomForestClassifier(max_depth=d, random_state=40)\n",
    "    clf_rf2.fit(X_train, y_train)\n",
    "    score = clf_rf2.score(X_test,y_test)\n",
    "    \n",
    "    print('For max depth =', d, end=\"\")\n",
    "    print(\", accuracy on training set: {:.3f}\".format(clf_rf2.score(X_train, y_train)), end=\"\")\n",
    "    print(\" and accuracy on test set: {:.3f}\".format(clf_rf2.score(X_test, y_test)))"
   ]
  },
  {
   "cell_type": "markdown",
   "metadata": {},
   "source": [
    "As mentioned, there are certain ways to \"peek\" into a model created by the Random Forests algorithm. The first, and most popular one, is the Feature Importance calculation functionality. This allows the ML practitioner to see an ordering of the importance of the features that have contributed the most to the predictive accuracy of the model. \n",
    "\n",
    "You can see how to use this in the scikit-learn documentation (http://scikit-learn.org/stable/modules/generated/sklearn.ensemble.RandomForestClassifier.html#sklearn.ensemble.RandomForestClassifier.feature_importances_). Now, if you tried this, you would just get an ordered table of not directly interpretable numeric values. Thus, it's much more useful to show the feature importance in a visual way. You can see an example of how that's done here: http://scikit-learn.org/stable/auto_examples/ensemble/plot_forest_importances.html#sphx-glr-auto-examples-ensemble-plot-forest-importances-py\n",
    "\n",
    "Now you try! Let's visualize the importance of features from your Random Forests model!"
   ]
  },
  {
   "cell_type": "code",
   "execution_count": 66,
   "metadata": {},
   "outputs": [
    {
     "data": {
      "text/plain": [
       "ExtraTreesClassifier(bootstrap=False, ccp_alpha=0.0, class_weight=None,\n",
       "                     criterion='gini', max_depth=None, max_features='auto',\n",
       "                     max_leaf_nodes=None, max_samples=None,\n",
       "                     min_impurity_decrease=0.0, min_impurity_split=None,\n",
       "                     min_samples_leaf=1, min_samples_split=2,\n",
       "                     min_weight_fraction_leaf=0.0, n_estimators=250,\n",
       "                     n_jobs=None, oob_score=False, random_state=0, verbose=0,\n",
       "                     warm_start=False)"
      ]
     },
     "execution_count": 66,
     "metadata": {},
     "output_type": "execute_result"
    }
   ],
   "source": [
    "# X = df.drop(columns = 'Class')\n",
    "X = df.drop(['Class', 'Purpose.Vacation'], axis = 1)\n",
    "y = df.Class\n",
    "X_train, X_test, y_train, y_test = train_test_split(X, y, test_size=0.3, random_state = 30)\n",
    "\n",
    "# from sklearn.datasets import make_classification\n",
    "from sklearn.ensemble import ExtraTreesClassifier\n",
    "\n",
    "forest = ExtraTreesClassifier(n_estimators=250,\n",
    "                              random_state=0)\n",
    "\n",
    "forest.fit(X, y)"
   ]
  },
  {
   "cell_type": "code",
   "execution_count": 45,
   "metadata": {},
   "outputs": [
    {
     "data": {
      "text/plain": [
       "ExtraTreeClassifier(ccp_alpha=0.0, class_weight=None, criterion='gini',\n",
       "                    max_depth=None, max_features='auto', max_leaf_nodes=None,\n",
       "                    min_impurity_decrease=0.0, min_impurity_split=None,\n",
       "                    min_samples_leaf=1, min_samples_split=2,\n",
       "                    min_weight_fraction_leaf=0.0, random_state=None,\n",
       "                    splitter='random')"
      ]
     },
     "execution_count": 45,
     "metadata": {},
     "output_type": "execute_result"
    }
   ],
   "source": [
    "forest.base_estimator_"
   ]
  },
  {
   "cell_type": "code",
   "execution_count": 46,
   "metadata": {},
   "outputs": [],
   "source": [
    "# for tree in forest.estimators_:\n",
    "#     print(tree.feature_importances_)"
   ]
  },
  {
   "cell_type": "code",
   "execution_count": 47,
   "metadata": {},
   "outputs": [
    {
     "data": {
      "text/plain": [
       "array([0.05258508, 0.04805771, 0.03286636, 0.03269003, 0.04047057,\n",
       "       0.02123834, 0.01382319, 0.02233967, 0.00518821, 0.04342734,\n",
       "       0.02257285, 0.00884006, 0.0499485 , 0.01180817, 0.01070623,\n",
       "       0.01606068, 0.01084353, 0.02403517, 0.02184354, 0.01046777,\n",
       "       0.01694352, 0.01612353, 0.00244823, 0.0055043 , 0.0094198 ,\n",
       "       0.0013756 , 0.0118761 , 0.0022956 , 0.02298441, 0.01106166,\n",
       "       0.00738102, 0.00685579, 0.01532614, 0.01738166, 0.01947169,\n",
       "       0.01515939, 0.01612533, 0.01159028, 0.00856592, 0.01944882,\n",
       "       0.02035586, 0.01055471, 0.        , 0.01193974, 0.00727113,\n",
       "       0.00952615, 0.01962081, 0.01710307, 0.01908278, 0.0130805 ,\n",
       "       0.01522083, 0.0079904 , 0.01945692, 0.01360089, 0.01637416,\n",
       "       0.00764373, 0.00312983, 0.01453946, 0.01973916, 0.01661809])"
      ]
     },
     "execution_count": 47,
     "metadata": {},
     "output_type": "execute_result"
    }
   ],
   "source": [
    "importances = forest.feature_importances_\n",
    "std = np.std([tree.feature_importances_ for tree in forest.estimators_],\n",
    "             axis=0)\n",
    "std\n",
    "importances"
   ]
  },
  {
   "cell_type": "code",
   "execution_count": 48,
   "metadata": {},
   "outputs": [
    {
     "data": {
      "text/plain": [
       "array([0.05258508, 0.04805771, 0.03286636, 0.03269003, 0.04047057,\n",
       "       0.02123834, 0.01382319, 0.02233967, 0.00518821, 0.04342734,\n",
       "       0.02257285, 0.00884006, 0.0499485 , 0.01180817, 0.01070623,\n",
       "       0.01606068, 0.01084353, 0.02403517, 0.02184354, 0.01046777,\n",
       "       0.01694352, 0.01612353, 0.00244823, 0.0055043 , 0.0094198 ,\n",
       "       0.0013756 , 0.0118761 , 0.0022956 , 0.02298441, 0.01106166,\n",
       "       0.00738102, 0.00685579, 0.01532614, 0.01738166, 0.01947169,\n",
       "       0.01515939, 0.01612533, 0.01159028, 0.00856592, 0.01944882,\n",
       "       0.02035586, 0.01055471, 0.        , 0.01193974, 0.00727113,\n",
       "       0.00952615, 0.01962081, 0.01710307, 0.01908278, 0.0130805 ,\n",
       "       0.01522083, 0.0079904 , 0.01945692, 0.01360089, 0.01637416,\n",
       "       0.00764373, 0.00312983, 0.01453946, 0.01973916, 0.01661809])"
      ]
     },
     "execution_count": 48,
     "metadata": {},
     "output_type": "execute_result"
    }
   ],
   "source": [
    "importances"
   ]
  },
  {
   "cell_type": "code",
   "execution_count": 49,
   "metadata": {},
   "outputs": [
    {
     "data": {
      "text/plain": [
       "60"
      ]
     },
     "execution_count": 49,
     "metadata": {},
     "output_type": "execute_result"
    }
   ],
   "source": [
    "len(importances)"
   ]
  },
  {
   "cell_type": "code",
   "execution_count": 50,
   "metadata": {},
   "outputs": [
    {
     "data": {
      "text/plain": [
       "0.0"
      ]
     },
     "execution_count": 50,
     "metadata": {},
     "output_type": "execute_result"
    }
   ],
   "source": [
    "np.min(importances)"
   ]
  },
  {
   "cell_type": "code",
   "execution_count": 51,
   "metadata": {},
   "outputs": [
    {
     "data": {
      "text/plain": [
       "0.052585081727043965"
      ]
     },
     "execution_count": 51,
     "metadata": {},
     "output_type": "execute_result"
    }
   ],
   "source": [
    "np.max(importances)"
   ]
  },
  {
   "cell_type": "code",
   "execution_count": 52,
   "metadata": {},
   "outputs": [
    {
     "data": {
      "text/plain": [
       "array([42, 25, 27, 22, 56,  8, 23, 31, 44, 30, 55, 51, 38, 11, 24, 45, 19,\n",
       "       41, 14, 16, 29, 37, 13, 26, 43, 49, 53,  6, 57, 35, 50, 32, 15, 21,\n",
       "       36, 54, 59, 20, 47, 33, 48, 39, 52, 34, 46, 58, 40,  5, 18,  7, 10,\n",
       "       28, 17,  3,  2,  4,  9,  1, 12,  0])"
      ]
     },
     "execution_count": 52,
     "metadata": {},
     "output_type": "execute_result"
    }
   ],
   "source": [
    "np.argsort(importances)"
   ]
  },
  {
   "cell_type": "code",
   "execution_count": 53,
   "metadata": {},
   "outputs": [
    {
     "data": {
      "text/plain": [
       "array([ 0, 12,  1,  9,  4,  2,  3, 17, 28, 10,  7, 18,  5, 40, 58, 46, 34,\n",
       "       52, 39, 48, 33, 47, 20, 59, 54, 36, 21, 15, 32, 50, 35, 57,  6, 53,\n",
       "       49, 43, 26, 13, 37, 29, 16, 14, 41, 19, 45, 24, 11, 38, 51, 55, 30,\n",
       "       44, 31, 23,  8, 56, 22, 27, 25, 42])"
      ]
     },
     "execution_count": 53,
     "metadata": {},
     "output_type": "execute_result"
    }
   ],
   "source": [
    "indices = np.argsort(importances)[::-1] # to make a copy of the same list in reverse order - desc\n",
    "indices"
   ]
  },
  {
   "cell_type": "code",
   "execution_count": 54,
   "metadata": {},
   "outputs": [
    {
     "data": {
      "text/plain": [
       "Index(['Duration', 'Amount', 'InstallmentRatePercentage', 'ResidenceDuration',\n",
       "       'Age', 'NumberExistingCredits', 'NumberPeopleMaintenance', 'Telephone',\n",
       "       'ForeignWorker', 'CheckingAccountStatus.lt.0',\n",
       "       'CheckingAccountStatus.0.to.200', 'CheckingAccountStatus.gt.200',\n",
       "       'CheckingAccountStatus.none', 'CreditHistory.NoCredit.AllPaid',\n",
       "       'CreditHistory.ThisBank.AllPaid', 'CreditHistory.PaidDuly',\n",
       "       'CreditHistory.Delay', 'CreditHistory.Critical', 'Purpose.NewCar',\n",
       "       'Purpose.UsedCar', 'Purpose.Furniture.Equipment',\n",
       "       'Purpose.Radio.Television', 'Purpose.DomesticAppliance',\n",
       "       'Purpose.Repairs', 'Purpose.Education', 'Purpose.Retraining',\n",
       "       'Purpose.Business', 'Purpose.Other', 'SavingsAccountBonds.lt.100',\n",
       "       'SavingsAccountBonds.100.to.500', 'SavingsAccountBonds.500.to.1000',\n",
       "       'SavingsAccountBonds.gt.1000', 'SavingsAccountBonds.Unknown',\n",
       "       'EmploymentDuration.lt.1', 'EmploymentDuration.1.to.4',\n",
       "       'EmploymentDuration.4.to.7', 'EmploymentDuration.gt.7',\n",
       "       'EmploymentDuration.Unemployed', 'Personal.Male.Divorced.Seperated',\n",
       "       'Personal.Female.NotSingle', 'Personal.Male.Single',\n",
       "       'Personal.Male.Married.Widowed', 'Personal.Female.Single',\n",
       "       'OtherDebtorsGuarantors.None', 'OtherDebtorsGuarantors.CoApplicant',\n",
       "       'OtherDebtorsGuarantors.Guarantor', 'Property.RealEstate',\n",
       "       'Property.Insurance', 'Property.CarOther', 'Property.Unknown',\n",
       "       'OtherInstallmentPlans.Bank', 'OtherInstallmentPlans.Stores',\n",
       "       'OtherInstallmentPlans.None', 'Housing.Rent', 'Housing.Own',\n",
       "       'Housing.ForFree', 'Job.UnemployedUnskilled', 'Job.UnskilledResident',\n",
       "       'Job.SkilledEmployee', 'Job.Management.SelfEmp.HighlyQualified'],\n",
       "      dtype='object')"
      ]
     },
     "execution_count": 54,
     "metadata": {},
     "output_type": "execute_result"
    }
   ],
   "source": [
    "X.columns"
   ]
  },
  {
   "cell_type": "code",
   "execution_count": 55,
   "metadata": {},
   "outputs": [
    {
     "data": {
      "text/plain": [
       "['Duration',\n",
       " 'CheckingAccountStatus.none',\n",
       " 'Amount',\n",
       " 'CheckingAccountStatus.lt.0',\n",
       " 'Age',\n",
       " 'InstallmentRatePercentage',\n",
       " 'ResidenceDuration',\n",
       " 'CreditHistory.Critical',\n",
       " 'SavingsAccountBonds.lt.100',\n",
       " 'CheckingAccountStatus.0.to.200',\n",
       " 'Telephone',\n",
       " 'Purpose.NewCar',\n",
       " 'NumberExistingCredits',\n",
       " 'Personal.Male.Single',\n",
       " 'Job.SkilledEmployee',\n",
       " 'Property.RealEstate',\n",
       " 'EmploymentDuration.1.to.4',\n",
       " 'OtherInstallmentPlans.None',\n",
       " 'Personal.Female.NotSingle',\n",
       " 'Property.CarOther',\n",
       " 'EmploymentDuration.lt.1',\n",
       " 'Property.Insurance',\n",
       " 'Purpose.Furniture.Equipment',\n",
       " 'Job.Management.SelfEmp.HighlyQualified',\n",
       " 'Housing.Own',\n",
       " 'EmploymentDuration.gt.7',\n",
       " 'Purpose.Radio.Television',\n",
       " 'CreditHistory.PaidDuly',\n",
       " 'SavingsAccountBonds.Unknown',\n",
       " 'OtherInstallmentPlans.Bank',\n",
       " 'EmploymentDuration.4.to.7',\n",
       " 'Job.UnskilledResident',\n",
       " 'NumberPeopleMaintenance',\n",
       " 'Housing.Rent',\n",
       " 'Property.Unknown',\n",
       " 'OtherDebtorsGuarantors.None',\n",
       " 'Purpose.Business',\n",
       " 'CreditHistory.NoCredit.AllPaid',\n",
       " 'EmploymentDuration.Unemployed',\n",
       " 'SavingsAccountBonds.100.to.500',\n",
       " 'CreditHistory.Delay',\n",
       " 'CreditHistory.ThisBank.AllPaid',\n",
       " 'Personal.Male.Married.Widowed',\n",
       " 'Purpose.UsedCar',\n",
       " 'OtherDebtorsGuarantors.Guarantor',\n",
       " 'Purpose.Education',\n",
       " 'CheckingAccountStatus.gt.200',\n",
       " 'Personal.Male.Divorced.Seperated',\n",
       " 'OtherInstallmentPlans.Stores',\n",
       " 'Housing.ForFree',\n",
       " 'SavingsAccountBonds.500.to.1000',\n",
       " 'OtherDebtorsGuarantors.CoApplicant',\n",
       " 'SavingsAccountBonds.gt.1000',\n",
       " 'Purpose.Repairs',\n",
       " 'ForeignWorker',\n",
       " 'Job.UnemployedUnskilled',\n",
       " 'Purpose.DomesticAppliance',\n",
       " 'Purpose.Other',\n",
       " 'Purpose.Retraining',\n",
       " 'Personal.Female.Single']"
      ]
     },
     "execution_count": 55,
     "metadata": {},
     "output_type": "execute_result"
    }
   ],
   "source": [
    "names = [X.columns[i] for i in indices]\n",
    "names"
   ]
  },
  {
   "cell_type": "code",
   "execution_count": 56,
   "metadata": {},
   "outputs": [
    {
     "data": {
      "text/plain": [
       "(1000, 60)"
      ]
     },
     "execution_count": 56,
     "metadata": {},
     "output_type": "execute_result"
    }
   ],
   "source": [
    "X.shape"
   ]
  },
  {
   "cell_type": "code",
   "execution_count": 57,
   "metadata": {},
   "outputs": [
    {
     "data": {
      "text/plain": [
       "array([0.05258508, 0.04805771, 0.03286636, 0.03269003, 0.04047057,\n",
       "       0.02123834, 0.01382319, 0.02233967, 0.00518821, 0.04342734,\n",
       "       0.02257285, 0.00884006, 0.0499485 , 0.01180817, 0.01070623,\n",
       "       0.01606068, 0.01084353, 0.02403517, 0.02184354, 0.01046777,\n",
       "       0.01694352, 0.01612353, 0.00244823, 0.0055043 , 0.0094198 ,\n",
       "       0.0013756 , 0.0118761 , 0.0022956 , 0.02298441, 0.01106166,\n",
       "       0.00738102, 0.00685579, 0.01532614, 0.01738166, 0.01947169,\n",
       "       0.01515939, 0.01612533, 0.01159028, 0.00856592, 0.01944882,\n",
       "       0.02035586, 0.01055471, 0.        , 0.01193974, 0.00727113,\n",
       "       0.00952615, 0.01962081, 0.01710307, 0.01908278, 0.0130805 ,\n",
       "       0.01522083, 0.0079904 , 0.01945692, 0.01360089, 0.01637416,\n",
       "       0.00764373, 0.00312983, 0.01453946, 0.01973916, 0.01661809])"
      ]
     },
     "execution_count": 57,
     "metadata": {},
     "output_type": "execute_result"
    }
   ],
   "source": [
    "importances"
   ]
  },
  {
   "cell_type": "code",
   "execution_count": 58,
   "metadata": {},
   "outputs": [
    {
     "name": "stdout",
     "output_type": "stream",
     "text": [
      "Feature ranking:\n",
      "1. feature Duration (0.052585)\n",
      "2. feature CheckingAccountStatus.none (0.049949)\n",
      "3. feature Amount (0.048058)\n",
      "4. feature CheckingAccountStatus.lt.0 (0.043427)\n",
      "5. feature Age (0.040471)\n",
      "6. feature InstallmentRatePercentage (0.032866)\n",
      "7. feature ResidenceDuration (0.032690)\n",
      "8. feature CreditHistory.Critical (0.024035)\n",
      "9. feature SavingsAccountBonds.lt.100 (0.022984)\n",
      "10. feature CheckingAccountStatus.0.to.200 (0.022573)\n",
      "11. feature Telephone (0.022340)\n",
      "12. feature Purpose.NewCar (0.021844)\n",
      "13. feature NumberExistingCredits (0.021238)\n",
      "14. feature Personal.Male.Single (0.020356)\n",
      "15. feature Job.SkilledEmployee (0.019739)\n",
      "16. feature Property.RealEstate (0.019621)\n",
      "17. feature EmploymentDuration.1.to.4 (0.019472)\n",
      "18. feature OtherInstallmentPlans.None (0.019457)\n",
      "19. feature Personal.Female.NotSingle (0.019449)\n",
      "20. feature Property.CarOther (0.019083)\n",
      "21. feature EmploymentDuration.lt.1 (0.017382)\n",
      "22. feature Property.Insurance (0.017103)\n",
      "23. feature Purpose.Furniture.Equipment (0.016944)\n",
      "24. feature Job.Management.SelfEmp.HighlyQualified (0.016618)\n",
      "25. feature Housing.Own (0.016374)\n",
      "26. feature EmploymentDuration.gt.7 (0.016125)\n",
      "27. feature Purpose.Radio.Television (0.016124)\n",
      "28. feature CreditHistory.PaidDuly (0.016061)\n",
      "29. feature SavingsAccountBonds.Unknown (0.015326)\n",
      "30. feature OtherInstallmentPlans.Bank (0.015221)\n",
      "31. feature EmploymentDuration.4.to.7 (0.015159)\n",
      "32. feature Job.UnskilledResident (0.014539)\n",
      "33. feature NumberPeopleMaintenance (0.013823)\n",
      "34. feature Housing.Rent (0.013601)\n",
      "35. feature Property.Unknown (0.013080)\n",
      "36. feature OtherDebtorsGuarantors.None (0.011940)\n",
      "37. feature Purpose.Business (0.011876)\n",
      "38. feature CreditHistory.NoCredit.AllPaid (0.011808)\n",
      "39. feature EmploymentDuration.Unemployed (0.011590)\n",
      "40. feature SavingsAccountBonds.100.to.500 (0.011062)\n",
      "41. feature CreditHistory.Delay (0.010844)\n",
      "42. feature CreditHistory.ThisBank.AllPaid (0.010706)\n",
      "43. feature Personal.Male.Married.Widowed (0.010555)\n",
      "44. feature Purpose.UsedCar (0.010468)\n",
      "45. feature OtherDebtorsGuarantors.Guarantor (0.009526)\n",
      "46. feature Purpose.Education (0.009420)\n",
      "47. feature CheckingAccountStatus.gt.200 (0.008840)\n",
      "48. feature Personal.Male.Divorced.Seperated (0.008566)\n",
      "49. feature OtherInstallmentPlans.Stores (0.007990)\n",
      "50. feature Housing.ForFree (0.007644)\n",
      "51. feature SavingsAccountBonds.500.to.1000 (0.007381)\n",
      "52. feature OtherDebtorsGuarantors.CoApplicant (0.007271)\n",
      "53. feature SavingsAccountBonds.gt.1000 (0.006856)\n",
      "54. feature Purpose.Repairs (0.005504)\n",
      "55. feature ForeignWorker (0.005188)\n",
      "56. feature Job.UnemployedUnskilled (0.003130)\n",
      "57. feature Purpose.DomesticAppliance (0.002448)\n",
      "58. feature Purpose.Other (0.002296)\n",
      "59. feature Purpose.Retraining (0.001376)\n",
      "60. feature Personal.Female.Single (0.000000)\n"
     ]
    }
   ],
   "source": [
    "# Print the feature ranking\n",
    "print(\"Feature ranking:\")\n",
    "for f in range(X.shape[1]):\n",
    "    print(\"%d. feature %s (%f)\" % (f + 1, names[f], importances[indices[f]]))"
   ]
  },
  {
   "cell_type": "code",
   "execution_count": 59,
   "metadata": {},
   "outputs": [
    {
     "data": {
      "image/png": "[encoded data removed]",
      "text/plain": [
       "<Figure size 2160x720 with 1 Axes>"
      ]
     },
     "metadata": {
      "needs_background": "light"
     },
     "output_type": "display_data"
    }
   ],
   "source": [
    "# Plot the impurity-based feature importances of the forest\n",
    "# plt.figsize\n",
    "plt.figure(figsize=(30,10))\n",
    "plt.title(\"Feature importances\")\n",
    "plt.bar(names, importances[indices],\n",
    "        color=\"green\", yerr=std[indices], align=\"center\")\n",
    "# plt.xticks(X.columns)\n",
    "plt.xlim([-1, X.shape[1]])\n",
    "plt.xticks(rotation = 90)\n",
    "plt.show()"
   ]
  },
  {
   "cell_type": "code",
   "execution_count": 60,
   "metadata": {},
   "outputs": [
    {
     "data": {
      "image/png": "[encoded data removed]",
      "text/plain": [
       "<Figure size 2160x1440 with 1 Axes>"
      ]
     },
     "metadata": {
      "needs_background": "light"
     },
     "output_type": "display_data"
    }
   ],
   "source": [
    "y_pos = np.arange(len(names))[::-1]\n",
    "\n",
    "plt.figure(figsize=(30,20))\n",
    "plt.title(\"Feature importances\")\n",
    "plt.barh(y_pos, importances[indices],\n",
    "        color=\"g\", align=\"center\")\n",
    "plt.yticks(y_pos, names)\n",
    "plt.show()"
   ]
  },
  {
   "cell_type": "markdown",
   "metadata": {},
   "source": [
    "A final method for gaining some insight into the inner working of your Random Forests models is a so-called Partial Dependence Plot. The Partial Dependence Plot (PDP or PD plot) shows the marginal effect of a feature on the predicted outcome of a previously fit model. The prediction function is fixed at a few values of the chosen features and averaged over the other features. A partial dependence plot can show if the relationship between the target and a feature is linear, monotonic or more complex. \n",
    "\n",
    "In scikit-learn, PDPs are implemented and available for certain algorithms, but at this point (version 0.20.0) they are not yet implemented for Random Forests. Thankfully, there is an add-on package called **PDPbox** (https://pdpbox.readthedocs.io/en/latest/) which adds this functionality to Random Forests. The package is easy to install through pip."
   ]
  },
  {
   "cell_type": "code",
   "execution_count": null,
   "metadata": {},
   "outputs": [],
   "source": [
    "# ! pip install pdpbox"
   ]
  },
  {
   "cell_type": "markdown",
   "metadata": {},
   "source": [
    "While we encourage you to read the documentation for the package (and reading package documentation in general is a good habit to develop), the authors of the package have also written an excellent blog post on how to use it, showing examples on different algorithms from scikit-learn (the Random Forests example is towards the end of the blog post): https://briangriner.github.io/Partial_Dependence_Plots_presentation-BrianGriner-PrincetonPublicLibrary-4.14.18-updated-4.22.18.html"
   ]
  },
  {
   "cell_type": "markdown",
   "metadata": {},
   "source": [
    "So, armed with this new knowledge, feel free to pick a few features, and make a couple of Partial Dependence Plots of your own!"
   ]
  },
  {
   "cell_type": "code",
   "execution_count": 73,
   "metadata": {},
   "outputs": [
    {
     "ename": "TypeError",
     "evalue": "pdp_interact() missing 1 required positional argument: 'features'",
     "output_type": "error",
     "traceback": [
      "\u001b[0;31m---------------------------------------------------------------------------\u001b[0m",
      "\u001b[0;31mTypeError\u001b[0m                                 Traceback (most recent call last)",
      "\u001b[0;32m<ipython-input-73-1dc9969513be>\u001b[0m in \u001b[0;36m<module>\u001b[0;34m\u001b[0m\n\u001b[1;32m      3\u001b[0m \u001b[0;32mfrom\u001b[0m \u001b[0mpdpbox\u001b[0m \u001b[0;32mimport\u001b[0m \u001b[0mpdp\u001b[0m\u001b[0;34m\u001b[0m\u001b[0;34m\u001b[0m\u001b[0m\n\u001b[1;32m      4\u001b[0m \u001b[0;34m\u001b[0m\u001b[0m\n\u001b[0;32m----> 5\u001b[0;31m \u001b[0mpdp_credit\u001b[0m \u001b[0;34m=\u001b[0m \u001b[0mpdp\u001b[0m\u001b[0;34m.\u001b[0m\u001b[0mpdp_interact\u001b[0m\u001b[0;34m(\u001b[0m\u001b[0mforest\u001b[0m\u001b[0;34m,\u001b[0m\u001b[0mdf\u001b[0m\u001b[0;34m[\u001b[0m\u001b[0;34m'Class'\u001b[0m\u001b[0;34m]\u001b[0m\u001b[0;34m,\u001b[0m \u001b[0mX\u001b[0m\u001b[0;34m)\u001b[0m\u001b[0;34m\u001b[0m\u001b[0;34m\u001b[0m\u001b[0m\n\u001b[0m\u001b[1;32m      6\u001b[0m \u001b[0mpdp\u001b[0m\u001b[0;34m.\u001b[0m\u001b[0mpdp_interact_plot\u001b[0m\u001b[0;34m(\u001b[0m\u001b[0mpdp_credit\u001b[0m\u001b[0;34m,\u001b[0m \u001b[0;34m[\u001b[0m\u001b[0;34m'CheckingAccountStatus.none'\u001b[0m\u001b[0;34m,\u001b[0m\u001b[0;34m'Duration'\u001b[0m\u001b[0;34m,\u001b[0m \u001b[0;34m'Amount'\u001b[0m\u001b[0;34m]\u001b[0m\u001b[0;34m,\u001b[0m \u001b[0mcenter\u001b[0m\u001b[0;34m=\u001b[0m\u001b[0;32mTrue\u001b[0m\u001b[0;34m,\u001b[0m \u001b[0mplot_org_pts\u001b[0m\u001b[0;34m=\u001b[0m\u001b[0;32mTrue\u001b[0m\u001b[0;34m,\u001b[0m \u001b[0mplot_lines\u001b[0m\u001b[0;34m=\u001b[0m\u001b[0;32mTrue\u001b[0m\u001b[0;34m,\u001b[0m \u001b[0mfrac_to_plot\u001b[0m\u001b[0;34m=\u001b[0m\u001b[0;36m0.5\u001b[0m\u001b[0;34m)\u001b[0m\u001b[0;34m\u001b[0m\u001b[0;34m\u001b[0m\u001b[0m\n",
      "\u001b[0;31mTypeError\u001b[0m: pdp_interact() missing 1 required positional argument: 'features'"
     ]
    }
   ],
   "source": [
    "# Your code here!\n",
    "import pdpbox\n",
    "from pdpbox import pdp\n",
    "\n",
    "pdp_credit = pdp.pdp_interact(forest,df['Class'], X)\n",
    "pdp.pdp_interact_plot(pdp_credit, ['CheckingAccountStatus.none','Duration', 'Amount'], center=True, plot_org_pts=True, plot_lines=True, frac_to_plot=0.5)"
   ]
  },
  {
   "cell_type": "code",
   "execution_count": 72,
   "metadata": {},
   "outputs": [
    {
     "data": {
      "text/html": [
       "<div>\n",
       "<style scoped>\n",
       "    .dataframe tbody tr th:only-of-type {\n",
       "        vertical-align: middle;\n",
       "    }\n",
       "\n",
       "    .dataframe tbody tr th {\n",
       "        vertical-align: top;\n",
       "    }\n",
       "\n",
       "    .dataframe thead th {\n",
       "        text-align: right;\n",
       "    }\n",
       "</style>\n",
       "<table border=\"1\" class=\"dataframe\">\n",
       "  <thead>\n",
       "    <tr style=\"text-align: right;\">\n",
       "      <th></th>\n",
       "      <th>Duration</th>\n",
       "      <th>Amount</th>\n",
       "      <th>InstallmentRatePercentage</th>\n",
       "      <th>ResidenceDuration</th>\n",
       "      <th>Age</th>\n",
       "      <th>NumberExistingCredits</th>\n",
       "      <th>NumberPeopleMaintenance</th>\n",
       "      <th>Telephone</th>\n",
       "      <th>ForeignWorker</th>\n",
       "      <th>CheckingAccountStatus.lt.0</th>\n",
       "      <th>...</th>\n",
       "      <th>OtherInstallmentPlans.Bank</th>\n",
       "      <th>OtherInstallmentPlans.Stores</th>\n",
       "      <th>OtherInstallmentPlans.None</th>\n",
       "      <th>Housing.Rent</th>\n",
       "      <th>Housing.Own</th>\n",
       "      <th>Housing.ForFree</th>\n",
       "      <th>Job.UnemployedUnskilled</th>\n",
       "      <th>Job.UnskilledResident</th>\n",
       "      <th>Job.SkilledEmployee</th>\n",
       "      <th>Job.Management.SelfEmp.HighlyQualified</th>\n",
       "    </tr>\n",
       "  </thead>\n",
       "  <tbody>\n",
       "    <tr>\n",
       "      <th>0</th>\n",
       "      <td>6</td>\n",
       "      <td>1169</td>\n",
       "      <td>4</td>\n",
       "      <td>4</td>\n",
       "      <td>67</td>\n",
       "      <td>2</td>\n",
       "      <td>1</td>\n",
       "      <td>0</td>\n",
       "      <td>1</td>\n",
       "      <td>1</td>\n",
       "      <td>...</td>\n",
       "      <td>0</td>\n",
       "      <td>0</td>\n",
       "      <td>1</td>\n",
       "      <td>0</td>\n",
       "      <td>1</td>\n",
       "      <td>0</td>\n",
       "      <td>0</td>\n",
       "      <td>0</td>\n",
       "      <td>1</td>\n",
       "      <td>0</td>\n",
       "    </tr>\n",
       "    <tr>\n",
       "      <th>1</th>\n",
       "      <td>48</td>\n",
       "      <td>5951</td>\n",
       "      <td>2</td>\n",
       "      <td>2</td>\n",
       "      <td>22</td>\n",
       "      <td>1</td>\n",
       "      <td>1</td>\n",
       "      <td>1</td>\n",
       "      <td>1</td>\n",
       "      <td>0</td>\n",
       "      <td>...</td>\n",
       "      <td>0</td>\n",
       "      <td>0</td>\n",
       "      <td>1</td>\n",
       "      <td>0</td>\n",
       "      <td>1</td>\n",
       "      <td>0</td>\n",
       "      <td>0</td>\n",
       "      <td>0</td>\n",
       "      <td>1</td>\n",
       "      <td>0</td>\n",
       "    </tr>\n",
       "    <tr>\n",
       "      <th>2</th>\n",
       "      <td>12</td>\n",
       "      <td>2096</td>\n",
       "      <td>2</td>\n",
       "      <td>3</td>\n",
       "      <td>49</td>\n",
       "      <td>1</td>\n",
       "      <td>2</td>\n",
       "      <td>1</td>\n",
       "      <td>1</td>\n",
       "      <td>0</td>\n",
       "      <td>...</td>\n",
       "      <td>0</td>\n",
       "      <td>0</td>\n",
       "      <td>1</td>\n",
       "      <td>0</td>\n",
       "      <td>1</td>\n",
       "      <td>0</td>\n",
       "      <td>0</td>\n",
       "      <td>1</td>\n",
       "      <td>0</td>\n",
       "      <td>0</td>\n",
       "    </tr>\n",
       "    <tr>\n",
       "      <th>3</th>\n",
       "      <td>42</td>\n",
       "      <td>7882</td>\n",
       "      <td>2</td>\n",
       "      <td>4</td>\n",
       "      <td>45</td>\n",
       "      <td>1</td>\n",
       "      <td>2</td>\n",
       "      <td>1</td>\n",
       "      <td>1</td>\n",
       "      <td>1</td>\n",
       "      <td>...</td>\n",
       "      <td>0</td>\n",
       "      <td>0</td>\n",
       "      <td>1</td>\n",
       "      <td>0</td>\n",
       "      <td>0</td>\n",
       "      <td>1</td>\n",
       "      <td>0</td>\n",
       "      <td>0</td>\n",
       "      <td>1</td>\n",
       "      <td>0</td>\n",
       "    </tr>\n",
       "    <tr>\n",
       "      <th>4</th>\n",
       "      <td>24</td>\n",
       "      <td>4870</td>\n",
       "      <td>3</td>\n",
       "      <td>4</td>\n",
       "      <td>53</td>\n",
       "      <td>2</td>\n",
       "      <td>2</td>\n",
       "      <td>1</td>\n",
       "      <td>1</td>\n",
       "      <td>1</td>\n",
       "      <td>...</td>\n",
       "      <td>0</td>\n",
       "      <td>0</td>\n",
       "      <td>1</td>\n",
       "      <td>0</td>\n",
       "      <td>0</td>\n",
       "      <td>1</td>\n",
       "      <td>0</td>\n",
       "      <td>0</td>\n",
       "      <td>1</td>\n",
       "      <td>0</td>\n",
       "    </tr>\n",
       "  </tbody>\n",
       "</table>\n",
       "<p>5 rows × 60 columns</p>\n",
       "</div>"
      ],
      "text/plain": [
       "   Duration  Amount  InstallmentRatePercentage  ResidenceDuration  Age  \\\n",
       "0         6    1169                          4                  4   67   \n",
       "1        48    5951                          2                  2   22   \n",
       "2        12    2096                          2                  3   49   \n",
       "3        42    7882                          2                  4   45   \n",
       "4        24    4870                          3                  4   53   \n",
       "\n",
       "   NumberExistingCredits  NumberPeopleMaintenance  Telephone  ForeignWorker  \\\n",
       "0                      2                        1          0              1   \n",
       "1                      1                        1          1              1   \n",
       "2                      1                        2          1              1   \n",
       "3                      1                        2          1              1   \n",
       "4                      2                        2          1              1   \n",
       "\n",
       "   CheckingAccountStatus.lt.0  ...  OtherInstallmentPlans.Bank  \\\n",
       "0                           1  ...                           0   \n",
       "1                           0  ...                           0   \n",
       "2                           0  ...                           0   \n",
       "3                           1  ...                           0   \n",
       "4                           1  ...                           0   \n",
       "\n",
       "   OtherInstallmentPlans.Stores  OtherInstallmentPlans.None  Housing.Rent  \\\n",
       "0                             0                           1             0   \n",
       "1                             0                           1             0   \n",
       "2                             0                           1             0   \n",
       "3                             0                           1             0   \n",
       "4                             0                           1             0   \n",
       "\n",
       "   Housing.Own  Housing.ForFree  Job.UnemployedUnskilled  \\\n",
       "0            1                0                        0   \n",
       "1            1                0                        0   \n",
       "2            1                0                        0   \n",
       "3            0                1                        0   \n",
       "4            0                1                        0   \n",
       "\n",
       "   Job.UnskilledResident  Job.SkilledEmployee  \\\n",
       "0                      0                    1   \n",
       "1                      0                    1   \n",
       "2                      1                    0   \n",
       "3                      0                    1   \n",
       "4                      0                    1   \n",
       "\n",
       "   Job.Management.SelfEmp.HighlyQualified  \n",
       "0                                       0  \n",
       "1                                       0  \n",
       "2                                       0  \n",
       "3                                       0  \n",
       "4                                       0  \n",
       "\n",
       "[5 rows x 60 columns]"
      ]
     },
     "execution_count": 72,
     "metadata": {},
     "output_type": "execute_result"
    }
   ],
   "source": [
    "X.head()"
   ]
  },
  {
   "cell_type": "markdown",
   "metadata": {},
   "source": [
    "## (Optional) Advanced Boosting-Based Algorithms"
   ]
  },
  {
   "cell_type": "markdown",
   "metadata": {},
   "source": [
    "As explained in the video lectures, the next generation of algorithms after Random Forests (that use Bagging, a.k.a. Bootstrap Aggregation) were developed using Boosting, and the first one of these were Gradient Boosted Machines, which are implemented in scikit-learn (http://scikit-learn.org/stable/modules/ensemble.html#gradient-tree-boosting)."
   ]
  },
  {
   "cell_type": "markdown",
   "metadata": {},
   "source": [
    "Still, in recent years, a number of variations on GBMs have been developed by different research amd industry groups, all of them bringing improvements, both in speed, accuracy and functionality to the original Gradient Boosting algorithms.\n",
    "\n",
    "In no order of preference, these are:\n",
    "1. **XGBoost**: https://xgboost.readthedocs.io/en/latest/\n",
    "2. **CatBoost**: https://tech.yandex.com/catboost/\n",
    "3. **LightGBM**: https://lightgbm.readthedocs.io/en/latest/"
   ]
  },
  {
   "cell_type": "markdown",
   "metadata": {},
   "source": [
    "If you're using the Anaconda distribution, these are all very easy to install:"
   ]
  },
  {
   "cell_type": "code",
   "execution_count": null,
   "metadata": {},
   "outputs": [],
   "source": [
    "# ! conda install -c anaconda py-xgboost"
   ]
  },
  {
   "cell_type": "code",
   "execution_count": 30,
   "metadata": {},
   "outputs": [],
   "source": [
    "# ! conda install -c conda-forge catboost"
   ]
  },
  {
   "cell_type": "code",
   "execution_count": 31,
   "metadata": {},
   "outputs": [],
   "source": [
    "# ! conda install -c conda-forge lightgbm"
   ]
  },
  {
   "cell_type": "markdown",
   "metadata": {},
   "source": [
    "## Prepare dataset"
   ]
  },
  {
   "cell_type": "code",
   "execution_count": 3,
   "metadata": {},
   "outputs": [],
   "source": [
    "X = df.drop(['Class', 'Purpose.Vacation'], axis = 1)\n",
    "y = df.Class\n",
    "X_train, X_test, y_train, y_test = train_test_split(X, y, test_size=0.3, random_state = 30)"
   ]
  },
  {
   "cell_type": "code",
   "execution_count": 40,
   "metadata": {},
   "outputs": [
    {
     "data": {
      "text/plain": [
       "Duration                                  int64\n",
       "Amount                                    int64\n",
       "InstallmentRatePercentage                 int64\n",
       "ResidenceDuration                         int64\n",
       "Age                                       int64\n",
       "NumberExistingCredits                     int64\n",
       "NumberPeopleMaintenance                   int64\n",
       "Telephone                                 int64\n",
       "ForeignWorker                             int64\n",
       "CheckingAccountStatus.lt.0                int64\n",
       "CheckingAccountStatus.0.to.200            int64\n",
       "CheckingAccountStatus.gt.200              int64\n",
       "CheckingAccountStatus.none                int64\n",
       "CreditHistory.NoCredit.AllPaid            int64\n",
       "CreditHistory.ThisBank.AllPaid            int64\n",
       "CreditHistory.PaidDuly                    int64\n",
       "CreditHistory.Delay                       int64\n",
       "CreditHistory.Critical                    int64\n",
       "Purpose.NewCar                            int64\n",
       "Purpose.UsedCar                           int64\n",
       "Purpose.Furniture.Equipment               int64\n",
       "Purpose.Radio.Television                  int64\n",
       "Purpose.DomesticAppliance                 int64\n",
       "Purpose.Repairs                           int64\n",
       "Purpose.Education                         int64\n",
       "Purpose.Retraining                        int64\n",
       "Purpose.Business                          int64\n",
       "Purpose.Other                             int64\n",
       "SavingsAccountBonds.lt.100                int64\n",
       "SavingsAccountBonds.100.to.500            int64\n",
       "SavingsAccountBonds.500.to.1000           int64\n",
       "SavingsAccountBonds.gt.1000               int64\n",
       "SavingsAccountBonds.Unknown               int64\n",
       "EmploymentDuration.lt.1                   int64\n",
       "EmploymentDuration.1.to.4                 int64\n",
       "EmploymentDuration.4.to.7                 int64\n",
       "EmploymentDuration.gt.7                   int64\n",
       "EmploymentDuration.Unemployed             int64\n",
       "Personal.Male.Divorced.Seperated          int64\n",
       "Personal.Female.NotSingle                 int64\n",
       "Personal.Male.Single                      int64\n",
       "Personal.Male.Married.Widowed             int64\n",
       "Personal.Female.Single                    int64\n",
       "OtherDebtorsGuarantors.None               int64\n",
       "OtherDebtorsGuarantors.CoApplicant        int64\n",
       "OtherDebtorsGuarantors.Guarantor          int64\n",
       "Property.RealEstate                       int64\n",
       "Property.Insurance                        int64\n",
       "Property.CarOther                         int64\n",
       "Property.Unknown                          int64\n",
       "OtherInstallmentPlans.Bank                int64\n",
       "OtherInstallmentPlans.Stores              int64\n",
       "OtherInstallmentPlans.None                int64\n",
       "Housing.Rent                              int64\n",
       "Housing.Own                               int64\n",
       "Housing.ForFree                           int64\n",
       "Job.UnemployedUnskilled                   int64\n",
       "Job.UnskilledResident                     int64\n",
       "Job.SkilledEmployee                       int64\n",
       "Job.Management.SelfEmp.HighlyQualified    int64\n",
       "dtype: object"
      ]
     },
     "execution_count": 40,
     "metadata": {},
     "output_type": "execute_result"
    }
   ],
   "source": [
    "X.dtypes"
   ]
  },
  {
   "cell_type": "code",
   "execution_count": 46,
   "metadata": {},
   "outputs": [
    {
     "data": {
      "text/plain": [
       "array([ 0,  1,  2,  3,  4,  5,  6,  7,  8,  9, 10, 11, 12, 13, 14, 15, 16,\n",
       "       17, 18, 19, 20, 21, 22, 23, 24, 25, 26, 27, 28, 29, 30, 31, 32, 33,\n",
       "       34, 35, 36, 37, 38, 39, 40, 41, 42, 43, 44, 45, 46, 47, 48, 49, 50,\n",
       "       51, 52, 53, 54, 55, 56, 57, 58, 59])"
      ]
     },
     "execution_count": 46,
     "metadata": {},
     "output_type": "execute_result"
    }
   ],
   "source": [
    "categorical_features_indices = np.where(X.dtypes != np.float)[0]\n",
    "categorical_features_indices"
   ]
  },
  {
   "cell_type": "markdown",
   "metadata": {},
   "source": [
    "Your task in this optional section of the mini project is to read the documentation of these three libraries, and apply all of them to the \"German Credit\" dataset, just like you did in the case of Decision Trees and Random Forests."
   ]
  },
  {
   "cell_type": "markdown",
   "metadata": {},
   "source": [
    "The final deliverable of this section should be a table (can be a pandas DataFrame) which shows the accuracy of all the five algorthms taught in this mini project in one place."
   ]
  },
  {
   "cell_type": "markdown",
   "metadata": {},
   "source": [
    "Happy modeling! :)"
   ]
  },
  {
   "cell_type": "code",
   "execution_count": 143,
   "metadata": {},
   "outputs": [
    {
     "data": {
      "text/html": [
       "<div>\n",
       "<style scoped>\n",
       "    .dataframe tbody tr th:only-of-type {\n",
       "        vertical-align: middle;\n",
       "    }\n",
       "\n",
       "    .dataframe tbody tr th {\n",
       "        vertical-align: top;\n",
       "    }\n",
       "\n",
       "    .dataframe thead th {\n",
       "        text-align: right;\n",
       "    }\n",
       "</style>\n",
       "<table border=\"1\" class=\"dataframe\">\n",
       "  <thead>\n",
       "    <tr style=\"text-align: right;\">\n",
       "      <th></th>\n",
       "      <th>Algorithm</th>\n",
       "      <th>Precision</th>\n",
       "      <th>Recall</th>\n",
       "      <th>Accuracy</th>\n",
       "    </tr>\n",
       "  </thead>\n",
       "  <tbody>\n",
       "  </tbody>\n",
       "</table>\n",
       "</div>"
      ],
      "text/plain": [
       "Empty DataFrame\n",
       "Columns: [Algorithm, Precision, Recall, Accuracy]\n",
       "Index: []"
      ]
     },
     "execution_count": 143,
     "metadata": {},
     "output_type": "execute_result"
    }
   ],
   "source": [
    "df_result = pd.DataFrame(columns =['Algorithm', 'Precision', 'Recall', 'Accuracy'])\n",
    "df_result.head()"
   ]
  },
  {
   "cell_type": "markdown",
   "metadata": {},
   "source": [
    "## Gradient Boosting Machine for Classification"
   ]
  },
  {
   "cell_type": "code",
   "execution_count": 5,
   "metadata": {},
   "outputs": [
    {
     "data": {
      "text/plain": [
       "GradientBoostingClassifier(ccp_alpha=0.0, criterion='friedman_mse', init=None,\n",
       "                           learning_rate=0.1, loss='deviance', max_depth=3,\n",
       "                           max_features=None, max_leaf_nodes=None,\n",
       "                           min_impurity_decrease=0.0, min_impurity_split=None,\n",
       "                           min_samples_leaf=1, min_samples_split=2,\n",
       "                           min_weight_fraction_leaf=0.0, n_estimators=100,\n",
       "                           n_iter_no_change=None, presort='deprecated',\n",
       "                           random_state=None, subsample=1.0, tol=0.0001,\n",
       "                           validation_fraction=0.1, verbose=0,\n",
       "                           warm_start=False)"
      ]
     },
     "execution_count": 5,
     "metadata": {},
     "output_type": "execute_result"
    }
   ],
   "source": [
    "from sklearn.ensemble import GradientBoostingClassifier\n",
    "\n",
    "# fit the model on the whole dataset\n",
    "gbc = GradientBoostingClassifier()\n",
    "gbc.fit(X_train, y_train)\n",
    "\n",
    "# By default\n",
    "# n_estimators=100\n",
    "# max_depth=3\n",
    "# learning_rate=0.1"
   ]
  },
  {
   "cell_type": "code",
   "execution_count": 6,
   "metadata": {},
   "outputs": [
    {
     "name": "stdout",
     "output_type": "stream",
     "text": [
      "Accuracy on training set: 0.921 and accuracy on test set: 0.717\n"
     ]
    }
   ],
   "source": [
    "print(\"Accuracy on training set: {:.3f}\".format(gbc.score(X_train, y_train)), end=\"\")\n",
    "print(\" and accuracy on test set: {:.3f}\".format(gbc.score(X_test, y_test)))"
   ]
  },
  {
   "cell_type": "code",
   "execution_count": 21,
   "metadata": {},
   "outputs": [],
   "source": [
    "from sklearn.metrics import precision_recall_fscore_support as score\n",
    "\n",
    "def train_GB(est, max_depth, lr):\n",
    "    gb = GradientBoostingClassifier(n_estimators= est, max_depth=max_depth, learning_rate=lr)\n",
    "    gb_model = gb.fit(X_train, y_train)\n",
    "    y_pred = gb_model.predict(X_test)\n",
    "    precision, recall, fscore, support = score(y_test, y_pred, pos_label='Good', average='binary')\n",
    "    print('Est: {} / Depth: {} / LR: {} ---- Precision: {} / Recall: {} / Accuracy: {}'.format(\n",
    "        est, max_depth, lr, round(precision,3), round(recall,3), \n",
    "        round((y_pred == y_test).sum() / len(y_pred), 3)))"
   ]
  },
  {
   "cell_type": "code",
   "execution_count": 8,
   "metadata": {},
   "outputs": [
    {
     "name": "stdout",
     "output_type": "stream",
     "text": [
      "Est: 50 / Depth: 3 / LR: 0.001 ---- Precision: 0.673 / Recall: 1.0 / Accuracy: 0.673\n",
      "Est: 50 / Depth: 3 / LR: 0.005 ---- Precision: 0.673 / Recall: 1.0 / Accuracy: 0.673\n",
      "Est: 50 / Depth: 3 / LR: 0.01 ---- Precision: 0.672 / Recall: 0.995 / Accuracy: 0.67\n",
      "Est: 50 / Depth: 3 / LR: 0.05 ---- Precision: 0.732 / Recall: 0.946 / Accuracy: 0.73\n",
      "Est: 50 / Depth: 3 / LR: 0.1 ---- Precision: 0.739 / Recall: 0.896 / Accuracy: 0.717\n",
      "Est: 100 / Depth: 3 / LR: 0.001 ---- Precision: 0.673 / Recall: 1.0 / Accuracy: 0.673\n",
      "Est: 100 / Depth: 3 / LR: 0.005 ---- Precision: 0.672 / Recall: 0.995 / Accuracy: 0.67\n",
      "Est: 100 / Depth: 3 / LR: 0.01 ---- Precision: 0.69 / Recall: 0.98 / Accuracy: 0.69\n",
      "Est: 100 / Depth: 3 / LR: 0.05 ---- Precision: 0.756 / Recall: 0.906 / Accuracy: 0.74\n",
      "Est: 100 / Depth: 3 / LR: 0.1 ---- Precision: 0.744 / Recall: 0.876 / Accuracy: 0.713\n",
      "Est: 150 / Depth: 3 / LR: 0.001 ---- Precision: 0.673 / Recall: 1.0 / Accuracy: 0.673\n",
      "Est: 150 / Depth: 3 / LR: 0.005 ---- Precision: 0.685 / Recall: 0.99 / Accuracy: 0.687\n",
      "Est: 150 / Depth: 3 / LR: 0.01 ---- Precision: 0.707 / Recall: 0.955 / Accuracy: 0.703\n",
      "Est: 150 / Depth: 3 / LR: 0.05 ---- Precision: 0.751 / Recall: 0.896 / Accuracy: 0.73\n",
      "Est: 150 / Depth: 3 / LR: 0.1 ---- Precision: 0.752 / Recall: 0.856 / Accuracy: 0.713\n"
     ]
    }
   ],
   "source": [
    "for n_est in [50, 100, 150]:\n",
    "    for max_depth in [3]:\n",
    "        for lr in [0.001, 0.005, 0.01, .05, .1 ]:\n",
    "            train_GB(n_est, max_depth, lr)"
   ]
  },
  {
   "cell_type": "code",
   "execution_count": 144,
   "metadata": {},
   "outputs": [
    {
     "data": {
      "text/html": [
       "<div>\n",
       "<style scoped>\n",
       "    .dataframe tbody tr th:only-of-type {\n",
       "        vertical-align: middle;\n",
       "    }\n",
       "\n",
       "    .dataframe tbody tr th {\n",
       "        vertical-align: top;\n",
       "    }\n",
       "\n",
       "    .dataframe thead th {\n",
       "        text-align: right;\n",
       "    }\n",
       "</style>\n",
       "<table border=\"1\" class=\"dataframe\">\n",
       "  <thead>\n",
       "    <tr style=\"text-align: right;\">\n",
       "      <th></th>\n",
       "      <th>Algorithm</th>\n",
       "      <th>Precision</th>\n",
       "      <th>Recall</th>\n",
       "      <th>Accuracy</th>\n",
       "    </tr>\n",
       "  </thead>\n",
       "  <tbody>\n",
       "    <tr>\n",
       "      <th>0</th>\n",
       "      <td>GB</td>\n",
       "      <td>0.739</td>\n",
       "      <td>0.896</td>\n",
       "      <td>0.717</td>\n",
       "    </tr>\n",
       "  </tbody>\n",
       "</table>\n",
       "</div>"
      ],
      "text/plain": [
       "  Algorithm  Precision  Recall  Accuracy\n",
       "0        GB      0.739   0.896     0.717"
      ]
     },
     "execution_count": 144,
     "metadata": {},
     "output_type": "execute_result"
    }
   ],
   "source": [
    "df_result.loc[0]= ['GB', 0.739 , 0.896, 0.717]\n",
    "df_result\n",
    "# Question:  Which one to select? The highest accuracy or lowest recall?"
   ]
  },
  {
   "cell_type": "markdown",
   "metadata": {},
   "source": [
    "## XGBoost"
   ]
  },
  {
   "cell_type": "code",
   "execution_count": 9,
   "metadata": {},
   "outputs": [
    {
     "data": {
      "text/plain": [
       "XGBClassifier(base_score=0.5, booster='gbtree', colsample_bylevel=1,\n",
       "              colsample_bynode=1, colsample_bytree=1, gamma=0, gpu_id=-1,\n",
       "              importance_type='gain', interaction_constraints='',\n",
       "              learning_rate=0.300000012, max_delta_step=0, max_depth=6,\n",
       "              min_child_weight=1, missing=nan, monotone_constraints='()',\n",
       "              n_estimators=100, n_jobs=0, num_parallel_tree=1,\n",
       "              objective='binary:logistic', random_state=0, reg_alpha=0,\n",
       "              reg_lambda=1, scale_pos_weight=1, subsample=1,\n",
       "              tree_method='exact', validate_parameters=1, verbosity=None)"
      ]
     },
     "execution_count": 9,
     "metadata": {},
     "output_type": "execute_result"
    }
   ],
   "source": [
    "from xgboost import XGBClassifier\n",
    "\n",
    "# fit the model on the whole dataset\n",
    "xgb = XGBClassifier()\n",
    "xgb.fit(X_train, y_train)"
   ]
  },
  {
   "cell_type": "code",
   "execution_count": 10,
   "metadata": {},
   "outputs": [
    {
     "name": "stdout",
     "output_type": "stream",
     "text": [
      "Accuracy: 74.00%\n"
     ]
    }
   ],
   "source": [
    "y_pred = xgb.predict(X_test)\n",
    "accuracy = accuracy_score(y_test, y_pred)\n",
    "print(\"Accuracy: %.2f%%\" % (accuracy*100))"
   ]
  },
  {
   "cell_type": "code",
   "execution_count": 11,
   "metadata": {},
   "outputs": [],
   "source": [
    "def train_XG(est, max_depth, lr):\n",
    "    xg = XGBClassifier(n_estimators= est, max_depth=max_depth, learning_rate=lr)\n",
    "    xg_model = xg.fit(X_train, y_train)\n",
    "    y_pred = xg_model.predict(X_test)\n",
    "    precision, recall, fscore, support = score(y_test, y_pred, pos_label='Good', average='binary')\n",
    "    print('Est: {} / Depth: {} / LR: {} ---- Precision: {} / Recall: {} / Accuracy: {}'.format(\n",
    "        est, max_depth, lr, round(precision,3), round(recall,3), \n",
    "        round((y_pred == y_test).sum() / len(y_pred), 3)))"
   ]
  },
  {
   "cell_type": "code",
   "execution_count": 12,
   "metadata": {},
   "outputs": [
    {
     "name": "stdout",
     "output_type": "stream",
     "text": [
      "Est: 50 / Depth: 3 / LR: 0.001 ---- Precision: 0.721 / Recall: 0.871 / Accuracy: 0.687\n",
      "Est: 50 / Depth: 3 / LR: 0.005 ---- Precision: 0.721 / Recall: 0.871 / Accuracy: 0.687\n",
      "Est: 50 / Depth: 3 / LR: 0.01 ---- Precision: 0.729 / Recall: 0.866 / Accuracy: 0.693\n",
      "Est: 50 / Depth: 3 / LR: 0.05 ---- Precision: 0.723 / Recall: 0.906 / Accuracy: 0.703\n",
      "Est: 50 / Depth: 3 / LR: 0.1 ---- Precision: 0.748 / Recall: 0.896 / Accuracy: 0.727\n",
      "Est: 100 / Depth: 3 / LR: 0.001 ---- Precision: 0.721 / Recall: 0.871 / Accuracy: 0.687\n",
      "Est: 100 / Depth: 3 / LR: 0.005 ---- Precision: 0.729 / Recall: 0.866 / Accuracy: 0.693\n",
      "Est: 100 / Depth: 3 / LR: 0.01 ---- Precision: 0.725 / Recall: 0.901 / Accuracy: 0.703\n",
      "Est: 100 / Depth: 3 / LR: 0.05 ---- Precision: 0.744 / Recall: 0.906 / Accuracy: 0.727\n",
      "Est: 100 / Depth: 3 / LR: 0.1 ---- Precision: 0.755 / Recall: 0.886 / Accuracy: 0.73\n",
      "Est: 150 / Depth: 3 / LR: 0.001 ---- Precision: 0.721 / Recall: 0.871 / Accuracy: 0.687\n",
      "Est: 150 / Depth: 3 / LR: 0.005 ---- Precision: 0.727 / Recall: 0.896 / Accuracy: 0.703\n",
      "Est: 150 / Depth: 3 / LR: 0.01 ---- Precision: 0.721 / Recall: 0.921 / Accuracy: 0.707\n",
      "Est: 150 / Depth: 3 / LR: 0.05 ---- Precision: 0.747 / Recall: 0.891 / Accuracy: 0.723\n",
      "Est: 150 / Depth: 3 / LR: 0.1 ---- Precision: 0.767 / Recall: 0.861 / Accuracy: 0.73\n"
     ]
    }
   ],
   "source": [
    "for n_est in [50, 100, 150]:\n",
    "    for max_depth in [3]:\n",
    "        for lr in [0.001, 0.005, 0.01, .05, .1 ]:\n",
    "            train_XG(n_est, max_depth, lr)"
   ]
  },
  {
   "cell_type": "code",
   "execution_count": 145,
   "metadata": {},
   "outputs": [
    {
     "data": {
      "text/html": [
       "<div>\n",
       "<style scoped>\n",
       "    .dataframe tbody tr th:only-of-type {\n",
       "        vertical-align: middle;\n",
       "    }\n",
       "\n",
       "    .dataframe tbody tr th {\n",
       "        vertical-align: top;\n",
       "    }\n",
       "\n",
       "    .dataframe thead th {\n",
       "        text-align: right;\n",
       "    }\n",
       "</style>\n",
       "<table border=\"1\" class=\"dataframe\">\n",
       "  <thead>\n",
       "    <tr style=\"text-align: right;\">\n",
       "      <th></th>\n",
       "      <th>Algorithm</th>\n",
       "      <th>Precision</th>\n",
       "      <th>Recall</th>\n",
       "      <th>Accuracy</th>\n",
       "    </tr>\n",
       "  </thead>\n",
       "  <tbody>\n",
       "    <tr>\n",
       "      <th>0</th>\n",
       "      <td>GB</td>\n",
       "      <td>0.739</td>\n",
       "      <td>0.896</td>\n",
       "      <td>0.717</td>\n",
       "    </tr>\n",
       "    <tr>\n",
       "      <th>1</th>\n",
       "      <td>XGB</td>\n",
       "      <td>0.767</td>\n",
       "      <td>0.861</td>\n",
       "      <td>0.730</td>\n",
       "    </tr>\n",
       "  </tbody>\n",
       "</table>\n",
       "</div>"
      ],
      "text/plain": [
       "  Algorithm  Precision  Recall  Accuracy\n",
       "0        GB      0.739   0.896     0.717\n",
       "1       XGB      0.767   0.861     0.730"
      ]
     },
     "execution_count": 145,
     "metadata": {},
     "output_type": "execute_result"
    }
   ],
   "source": [
    "df_result.loc[1]= ['XGB', 0.767, 0.861, 0.73]\n",
    "df_result"
   ]
  },
  {
   "cell_type": "markdown",
   "metadata": {},
   "source": [
    "## CatBoost for Classification"
   ]
  },
  {
   "cell_type": "code",
   "execution_count": 93,
   "metadata": {},
   "outputs": [
    {
     "name": "stdout",
     "output_type": "stream",
     "text": [
      "0:\tlearn: 0.6575932\ttest: 0.6649450\tbest: 0.6649450 (0)\ttotal: 3.04ms\tremaining: 301ms\n",
      "1:\tlearn: 0.6188325\ttest: 0.6360066\tbest: 0.6360066 (1)\ttotal: 7.41ms\tremaining: 363ms\n",
      "2:\tlearn: 0.6085262\ttest: 0.6278399\tbest: 0.6278399 (2)\ttotal: 8.83ms\tremaining: 285ms\n",
      "3:\tlearn: 0.5950717\ttest: 0.6191134\tbest: 0.6191134 (3)\ttotal: 12.7ms\tremaining: 305ms\n",
      "4:\tlearn: 0.5806426\ttest: 0.6074171\tbest: 0.6074171 (4)\ttotal: 14.1ms\tremaining: 268ms\n",
      "5:\tlearn: 0.5633436\ttest: 0.6015187\tbest: 0.6015187 (5)\ttotal: 18.1ms\tremaining: 284ms\n",
      "6:\tlearn: 0.5480543\ttest: 0.5933308\tbest: 0.5933308 (6)\ttotal: 21.9ms\tremaining: 291ms\n",
      "7:\tlearn: 0.5359107\ttest: 0.5858129\tbest: 0.5858129 (7)\ttotal: 25.7ms\tremaining: 295ms\n",
      "8:\tlearn: 0.5253008\ttest: 0.5830171\tbest: 0.5830171 (8)\ttotal: 29.8ms\tremaining: 301ms\n",
      "9:\tlearn: 0.5104800\ttest: 0.5768003\tbest: 0.5768003 (9)\ttotal: 33.7ms\tremaining: 303ms\n",
      "10:\tlearn: 0.5033776\ttest: 0.5748102\tbest: 0.5748102 (10)\ttotal: 37.6ms\tremaining: 304ms\n",
      "11:\tlearn: 0.4904516\ttest: 0.5694107\tbest: 0.5694107 (11)\ttotal: 41.3ms\tremaining: 303ms\n",
      "12:\tlearn: 0.4823790\ttest: 0.5685633\tbest: 0.5685633 (12)\ttotal: 45.1ms\tremaining: 302ms\n",
      "13:\tlearn: 0.4774175\ttest: 0.5666223\tbest: 0.5666223 (13)\ttotal: 48.9ms\tremaining: 300ms\n",
      "14:\tlearn: 0.4704733\ttest: 0.5652859\tbest: 0.5652859 (14)\ttotal: 52.6ms\tremaining: 298ms\n",
      "15:\tlearn: 0.4645681\ttest: 0.5648725\tbest: 0.5648725 (15)\ttotal: 56.5ms\tremaining: 297ms\n",
      "16:\tlearn: 0.4604163\ttest: 0.5626959\tbest: 0.5626959 (16)\ttotal: 60.3ms\tremaining: 295ms\n",
      "17:\tlearn: 0.4527423\ttest: 0.5604490\tbest: 0.5604490 (17)\ttotal: 64.2ms\tremaining: 293ms\n",
      "18:\tlearn: 0.4446933\ttest: 0.5611763\tbest: 0.5604490 (17)\ttotal: 67.9ms\tremaining: 290ms\n",
      "19:\tlearn: 0.4406151\ttest: 0.5630364\tbest: 0.5604490 (17)\ttotal: 71.8ms\tremaining: 287ms\n",
      "20:\tlearn: 0.4382822\ttest: 0.5609273\tbest: 0.5604490 (17)\ttotal: 73.5ms\tremaining: 277ms\n",
      "21:\tlearn: 0.4319678\ttest: 0.5571119\tbest: 0.5571119 (21)\ttotal: 77.4ms\tremaining: 275ms\n",
      "22:\tlearn: 0.4284598\ttest: 0.5574883\tbest: 0.5571119 (21)\ttotal: 81.2ms\tremaining: 272ms\n",
      "23:\tlearn: 0.4243782\ttest: 0.5560768\tbest: 0.5560768 (23)\ttotal: 85.1ms\tremaining: 270ms\n",
      "24:\tlearn: 0.4196481\ttest: 0.5559468\tbest: 0.5559468 (24)\ttotal: 89ms\tremaining: 267ms\n",
      "25:\tlearn: 0.4167760\ttest: 0.5562671\tbest: 0.5559468 (24)\ttotal: 92.9ms\tremaining: 264ms\n",
      "26:\tlearn: 0.4130565\ttest: 0.5532285\tbest: 0.5532285 (26)\ttotal: 96.7ms\tremaining: 261ms\n",
      "27:\tlearn: 0.4098006\ttest: 0.5517231\tbest: 0.5517231 (27)\ttotal: 100ms\tremaining: 258ms\n",
      "28:\tlearn: 0.4063665\ttest: 0.5523768\tbest: 0.5517231 (27)\ttotal: 104ms\tremaining: 256ms\n",
      "29:\tlearn: 0.4028418\ttest: 0.5512560\tbest: 0.5512560 (29)\ttotal: 108ms\tremaining: 253ms\n",
      "30:\tlearn: 0.4004478\ttest: 0.5524549\tbest: 0.5512560 (29)\ttotal: 112ms\tremaining: 249ms\n",
      "31:\tlearn: 0.3987347\ttest: 0.5526379\tbest: 0.5512560 (29)\ttotal: 116ms\tremaining: 246ms\n",
      "32:\tlearn: 0.3945403\ttest: 0.5516349\tbest: 0.5512560 (29)\ttotal: 125ms\tremaining: 254ms\n",
      "33:\tlearn: 0.3915284\ttest: 0.5505460\tbest: 0.5505460 (33)\ttotal: 129ms\tremaining: 251ms\n",
      "34:\tlearn: 0.3851064\ttest: 0.5505698\tbest: 0.5505460 (33)\ttotal: 133ms\tremaining: 246ms\n",
      "35:\tlearn: 0.3825364\ttest: 0.5509660\tbest: 0.5505460 (33)\ttotal: 136ms\tremaining: 243ms\n",
      "36:\tlearn: 0.3789170\ttest: 0.5506379\tbest: 0.5505460 (33)\ttotal: 140ms\tremaining: 239ms\n",
      "37:\tlearn: 0.3773849\ttest: 0.5499363\tbest: 0.5499363 (37)\ttotal: 144ms\tremaining: 234ms\n",
      "38:\tlearn: 0.3754776\ttest: 0.5481205\tbest: 0.5481205 (38)\ttotal: 147ms\tremaining: 231ms\n",
      "39:\tlearn: 0.3733535\ttest: 0.5466107\tbest: 0.5466107 (39)\ttotal: 151ms\tremaining: 227ms\n",
      "40:\tlearn: 0.3697105\ttest: 0.5482573\tbest: 0.5466107 (39)\ttotal: 155ms\tremaining: 223ms\n",
      "41:\tlearn: 0.3671049\ttest: 0.5469377\tbest: 0.5466107 (39)\ttotal: 158ms\tremaining: 219ms\n",
      "42:\tlearn: 0.3640944\ttest: 0.5458269\tbest: 0.5458269 (42)\ttotal: 174ms\tremaining: 231ms\n",
      "43:\tlearn: 0.3617417\ttest: 0.5449307\tbest: 0.5449307 (43)\ttotal: 179ms\tremaining: 227ms\n",
      "44:\tlearn: 0.3585805\ttest: 0.5458365\tbest: 0.5449307 (43)\ttotal: 185ms\tremaining: 226ms\n",
      "45:\tlearn: 0.3575534\ttest: 0.5477850\tbest: 0.5449307 (43)\ttotal: 191ms\tremaining: 224ms\n",
      "46:\tlearn: 0.3572322\ttest: 0.5480326\tbest: 0.5449307 (43)\ttotal: 193ms\tremaining: 217ms\n",
      "47:\tlearn: 0.3566679\ttest: 0.5479156\tbest: 0.5449307 (43)\ttotal: 196ms\tremaining: 212ms\n",
      "48:\tlearn: 0.3528464\ttest: 0.5456935\tbest: 0.5449307 (43)\ttotal: 199ms\tremaining: 207ms\n",
      "49:\tlearn: 0.3510073\ttest: 0.5443872\tbest: 0.5443872 (49)\ttotal: 201ms\tremaining: 201ms\n",
      "50:\tlearn: 0.3472350\ttest: 0.5422796\tbest: 0.5422796 (50)\ttotal: 206ms\tremaining: 198ms\n",
      "51:\tlearn: 0.3470071\ttest: 0.5421512\tbest: 0.5421512 (51)\ttotal: 207ms\tremaining: 191ms\n",
      "52:\tlearn: 0.3455067\ttest: 0.5418652\tbest: 0.5418652 (52)\ttotal: 210ms\tremaining: 187ms\n",
      "53:\tlearn: 0.3407826\ttest: 0.5429803\tbest: 0.5418652 (52)\ttotal: 216ms\tremaining: 184ms\n",
      "54:\tlearn: 0.3371978\ttest: 0.5418723\tbest: 0.5418652 (52)\ttotal: 220ms\tremaining: 180ms\n",
      "55:\tlearn: 0.3340678\ttest: 0.5429100\tbest: 0.5418652 (52)\ttotal: 224ms\tremaining: 176ms\n",
      "56:\tlearn: 0.3298845\ttest: 0.5384473\tbest: 0.5384473 (56)\ttotal: 229ms\tremaining: 173ms\n",
      "57:\tlearn: 0.3275399\ttest: 0.5390305\tbest: 0.5384473 (56)\ttotal: 233ms\tremaining: 169ms\n",
      "58:\tlearn: 0.3222768\ttest: 0.5373426\tbest: 0.5373426 (58)\ttotal: 237ms\tremaining: 165ms\n",
      "59:\tlearn: 0.3202438\ttest: 0.5365677\tbest: 0.5365677 (59)\ttotal: 244ms\tremaining: 163ms\n",
      "60:\tlearn: 0.3169808\ttest: 0.5350944\tbest: 0.5350944 (60)\ttotal: 248ms\tremaining: 158ms\n",
      "61:\tlearn: 0.3139088\ttest: 0.5357290\tbest: 0.5350944 (60)\ttotal: 252ms\tremaining: 155ms\n",
      "62:\tlearn: 0.3124683\ttest: 0.5357581\tbest: 0.5350944 (60)\ttotal: 256ms\tremaining: 150ms\n",
      "63:\tlearn: 0.3094367\ttest: 0.5371463\tbest: 0.5350944 (60)\ttotal: 258ms\tremaining: 145ms\n",
      "64:\tlearn: 0.3083460\ttest: 0.5361352\tbest: 0.5350944 (60)\ttotal: 260ms\tremaining: 140ms\n",
      "65:\tlearn: 0.3068771\ttest: 0.5360778\tbest: 0.5350944 (60)\ttotal: 263ms\tremaining: 135ms\n",
      "66:\tlearn: 0.3045978\ttest: 0.5351923\tbest: 0.5350944 (60)\ttotal: 265ms\tremaining: 131ms\n",
      "67:\tlearn: 0.3038600\ttest: 0.5345953\tbest: 0.5345953 (67)\ttotal: 267ms\tremaining: 126ms\n",
      "68:\tlearn: 0.3022187\ttest: 0.5346502\tbest: 0.5345953 (67)\ttotal: 270ms\tremaining: 121ms\n",
      "69:\tlearn: 0.2991984\ttest: 0.5355589\tbest: 0.5345953 (67)\ttotal: 272ms\tremaining: 117ms\n",
      "70:\tlearn: 0.2976288\ttest: 0.5361368\tbest: 0.5345953 (67)\ttotal: 274ms\tremaining: 112ms\n",
      "71:\tlearn: 0.2964548\ttest: 0.5359905\tbest: 0.5345953 (67)\ttotal: 277ms\tremaining: 108ms\n",
      "72:\tlearn: 0.2964101\ttest: 0.5359861\tbest: 0.5345953 (67)\ttotal: 278ms\tremaining: 103ms\n",
      "73:\tlearn: 0.2957820\ttest: 0.5366259\tbest: 0.5345953 (67)\ttotal: 281ms\tremaining: 98.6ms\n",
      "74:\tlearn: 0.2930970\ttest: 0.5363849\tbest: 0.5345953 (67)\ttotal: 283ms\tremaining: 94.4ms\n",
      "75:\tlearn: 0.2922862\ttest: 0.5370594\tbest: 0.5345953 (67)\ttotal: 286ms\tremaining: 90.2ms\n",
      "76:\tlearn: 0.2904988\ttest: 0.5365147\tbest: 0.5345953 (67)\ttotal: 288ms\tremaining: 86ms\n",
      "77:\tlearn: 0.2884630\ttest: 0.5354987\tbest: 0.5345953 (67)\ttotal: 290ms\tremaining: 81.9ms\n",
      "78:\tlearn: 0.2866857\ttest: 0.5380771\tbest: 0.5345953 (67)\ttotal: 293ms\tremaining: 77.8ms\n",
      "79:\tlearn: 0.2843371\ttest: 0.5378811\tbest: 0.5345953 (67)\ttotal: 295ms\tremaining: 73.8ms\n",
      "80:\tlearn: 0.2803965\ttest: 0.5383358\tbest: 0.5345953 (67)\ttotal: 298ms\tremaining: 69.8ms\n",
      "81:\tlearn: 0.2792425\ttest: 0.5398108\tbest: 0.5345953 (67)\ttotal: 300ms\tremaining: 65.9ms\n",
      "82:\tlearn: 0.2775041\ttest: 0.5405851\tbest: 0.5345953 (67)\ttotal: 303ms\tremaining: 62ms\n",
      "83:\tlearn: 0.2738242\ttest: 0.5412720\tbest: 0.5345953 (67)\ttotal: 305ms\tremaining: 58.1ms\n",
      "84:\tlearn: 0.2711866\ttest: 0.5402804\tbest: 0.5345953 (67)\ttotal: 307ms\tremaining: 54.3ms\n",
      "85:\tlearn: 0.2683908\ttest: 0.5406334\tbest: 0.5345953 (67)\ttotal: 310ms\tremaining: 50.4ms\n",
      "86:\tlearn: 0.2674330\ttest: 0.5420372\tbest: 0.5345953 (67)\ttotal: 312ms\tremaining: 46.7ms\n",
      "87:\tlearn: 0.2660447\ttest: 0.5424769\tbest: 0.5345953 (67)\ttotal: 315ms\tremaining: 42.9ms\n",
      "88:\tlearn: 0.2627849\ttest: 0.5431306\tbest: 0.5345953 (67)\ttotal: 317ms\tremaining: 39.2ms\n",
      "89:\tlearn: 0.2602916\ttest: 0.5444890\tbest: 0.5345953 (67)\ttotal: 320ms\tremaining: 35.5ms\n",
      "90:\tlearn: 0.2585027\ttest: 0.5435256\tbest: 0.5345953 (67)\ttotal: 322ms\tremaining: 31.8ms\n",
      "91:\tlearn: 0.2555111\ttest: 0.5427622\tbest: 0.5345953 (67)\ttotal: 324ms\tremaining: 28.2ms\n",
      "92:\tlearn: 0.2539660\ttest: 0.5437336\tbest: 0.5345953 (67)\ttotal: 327ms\tremaining: 24.6ms\n",
      "93:\tlearn: 0.2532544\ttest: 0.5438470\tbest: 0.5345953 (67)\ttotal: 329ms\tremaining: 21ms\n",
      "94:\tlearn: 0.2518978\ttest: 0.5448611\tbest: 0.5345953 (67)\ttotal: 332ms\tremaining: 17.5ms\n",
      "95:\tlearn: 0.2516554\ttest: 0.5452082\tbest: 0.5345953 (67)\ttotal: 334ms\tremaining: 13.9ms\n",
      "96:\tlearn: 0.2501304\ttest: 0.5448198\tbest: 0.5345953 (67)\ttotal: 337ms\tremaining: 10.4ms\n",
      "97:\tlearn: 0.2496511\ttest: 0.5448567\tbest: 0.5345953 (67)\ttotal: 340ms\tremaining: 6.93ms\n",
      "98:\tlearn: 0.2476798\ttest: 0.5447778\tbest: 0.5345953 (67)\ttotal: 342ms\tremaining: 3.45ms\n",
      "99:\tlearn: 0.2455946\ttest: 0.5468243\tbest: 0.5345953 (67)\ttotal: 344ms\tremaining: 0us\n",
      "\n",
      "bestTest = 0.5345953227\n",
      "bestIteration = 67\n",
      "\n",
      "Shrink model to first 68 iterations.\n",
      "CPU times: user 363 ms, sys: 92.3 ms, total: 455 ms\n",
      "Wall time: 405 ms\n"
     ]
    },
    {
     "data": {
      "text/plain": [
       "<catboost.core.CatBoostClassifier at 0x7f13e5d4f590>"
      ]
     },
     "execution_count": 93,
     "metadata": {},
     "output_type": "execute_result"
    }
   ],
   "source": [
    "%%time\n",
    "from catboost import CatBoostClassifier\n",
    "\n",
    "cb = CatBoostClassifier(iterations=100,\n",
    "                       custom_loss=['Accuracy'],\n",
    "                       random_seed=40,\n",
    "#                        verbose = 50,\n",
    "                       logging_level = 'Silent',\n",
    "                       learning_rate = 0.1\n",
    "                       )\n",
    "cb.fit(\n",
    "    X_train, y_train, \n",
    "    cat_features = categorical_features_indices, \n",
    "    eval_set = (X_test, y_test), \n",
    "    logging_level = 'Verbose', # for text output\n",
    "#     plot=True\n",
    ")"
   ]
  },
  {
   "cell_type": "markdown",
   "metadata": {},
   "source": [
    "The best accuracy value of 0.0.5396125249 was acheived on 97 boosting step"
   ]
  },
  {
   "cell_type": "code",
   "execution_count": 86,
   "metadata": {},
   "outputs": [
    {
     "data": {
      "text/plain": [
       "67"
      ]
     },
     "execution_count": 86,
     "metadata": {},
     "output_type": "execute_result"
    }
   ],
   "source": [
    "cb.best_iteration_"
   ]
  },
  {
   "cell_type": "code",
   "execution_count": 89,
   "metadata": {},
   "outputs": [
    {
     "data": {
      "text/plain": [
       "{'learn': {'Accuracy': 0.9442857142857143, 'Logloss': 0.24559458125851458},\n",
       " 'validation': {'Accuracy': 0.72, 'Logloss': 0.5345953227315006}}"
      ]
     },
     "execution_count": 89,
     "metadata": {},
     "output_type": "execute_result"
    }
   ],
   "source": [
    "cb.best_score_"
   ]
  },
  {
   "cell_type": "code",
   "execution_count": 90,
   "metadata": {},
   "outputs": [
    {
     "data": {
      "text/plain": [
       "<bound method CatBoost.load_model of <catboost.core.CatBoostClassifier object at 0x7f13e6433d90>>"
      ]
     },
     "execution_count": 90,
     "metadata": {},
     "output_type": "execute_result"
    }
   ],
   "source": [
    "cb.load_model"
   ]
  },
  {
   "cell_type": "code",
   "execution_count": 91,
   "metadata": {},
   "outputs": [
    {
     "name": "stdout",
     "output_type": "stream",
     "text": [
      "Accuracy on training set: 0.876 and accuracy on test set: 0.707\n"
     ]
    }
   ],
   "source": [
    "print(\"Accuracy on training set: {:.3f}\".format(cb.score(X_train, y_train)), end=\"\")\n",
    "print(\" and accuracy on test set: {:.3f}\".format(cb.score(X_test, y_test)))"
   ]
  },
  {
   "cell_type": "code",
   "execution_count": 114,
   "metadata": {},
   "outputs": [
    {
     "name": "stdout",
     "output_type": "stream",
     "text": [
      "LR: 0.001 ---- Precision: 0.681 / Recall: 0.995 / Accuracy: 0.683\n",
      "LR: 0.005 ---- Precision: 0.684 / Recall: 0.995 / Accuracy: 0.687\n",
      "LR: 0.01 ---- Precision: 0.694 / Recall: 0.99 / Accuracy: 0.7\n",
      "LR: 0.05 ---- Precision: 0.717 / Recall: 0.941 / Accuracy: 0.71\n",
      "LR: 0.1 ---- Precision: 0.753 / Recall: 0.906 / Accuracy: 0.737\n",
      "CPU times: user 1.93 s, sys: 201 ms, total: 2.13 s\n",
      "Wall time: 1.34 s\n"
     ]
    }
   ],
   "source": [
    "%%time\n",
    "\n",
    "params = {'iterations': 100,\n",
    "           'custom_loss': ['Accuracy'],\n",
    "           'random_seed': np.random.randint(100),\n",
    "           'logging_level':'Silent',\n",
    "}\n",
    "\n",
    "def train_CB(lr):\n",
    "    cb1 = CatBoostClassifier(**params, learning_rate = lr)\n",
    "    cb1_model = cb1.fit(X_train, y_train, \n",
    "                        cat_features = categorical_features_indices, \n",
    "                        eval_set = (X_test, y_test)\n",
    "                       )\n",
    "    y_pred = cb1_model.predict(X_test)\n",
    "    precision, recall, fscore, support = score(y_test, y_pred, pos_label='Good', average='binary')\n",
    "    print('LR: {} ---- Precision: {} / Recall: {} / Accuracy: {}'.format(\n",
    "        lr, round(precision,3), round(recall,3), \n",
    "        round((y_pred == y_test).sum() / len(y_pred), 3)))\n",
    "    \n",
    "for lr in [0.001, 0.005, 0.01, .05, .1 ]:\n",
    "            train_CB(lr)"
   ]
  },
  {
   "cell_type": "code",
   "execution_count": 146,
   "metadata": {},
   "outputs": [
    {
     "data": {
      "text/html": [
       "<div>\n",
       "<style scoped>\n",
       "    .dataframe tbody tr th:only-of-type {\n",
       "        vertical-align: middle;\n",
       "    }\n",
       "\n",
       "    .dataframe tbody tr th {\n",
       "        vertical-align: top;\n",
       "    }\n",
       "\n",
       "    .dataframe thead th {\n",
       "        text-align: right;\n",
       "    }\n",
       "</style>\n",
       "<table border=\"1\" class=\"dataframe\">\n",
       "  <thead>\n",
       "    <tr style=\"text-align: right;\">\n",
       "      <th></th>\n",
       "      <th>Algorithm</th>\n",
       "      <th>Precision</th>\n",
       "      <th>Recall</th>\n",
       "      <th>Accuracy</th>\n",
       "    </tr>\n",
       "  </thead>\n",
       "  <tbody>\n",
       "    <tr>\n",
       "      <th>0</th>\n",
       "      <td>GB</td>\n",
       "      <td>0.739</td>\n",
       "      <td>0.896</td>\n",
       "      <td>0.717</td>\n",
       "    </tr>\n",
       "    <tr>\n",
       "      <th>1</th>\n",
       "      <td>XGB</td>\n",
       "      <td>0.767</td>\n",
       "      <td>0.861</td>\n",
       "      <td>0.730</td>\n",
       "    </tr>\n",
       "    <tr>\n",
       "      <th>2</th>\n",
       "      <td>CatBoost</td>\n",
       "      <td>0.753</td>\n",
       "      <td>0.906</td>\n",
       "      <td>0.737</td>\n",
       "    </tr>\n",
       "  </tbody>\n",
       "</table>\n",
       "</div>"
      ],
      "text/plain": [
       "  Algorithm  Precision  Recall  Accuracy\n",
       "0        GB      0.739   0.896     0.717\n",
       "1       XGB      0.767   0.861     0.730\n",
       "2  CatBoost      0.753   0.906     0.737"
      ]
     },
     "execution_count": 146,
     "metadata": {},
     "output_type": "execute_result"
    }
   ],
   "source": [
    "df_result.loc[2]= ['CatBoost', 0.753, 0.906, 0.737]\n",
    "df_result"
   ]
  },
  {
   "cell_type": "markdown",
   "metadata": {},
   "source": [
    "## LightGBM for Classification"
   ]
  },
  {
   "cell_type": "code",
   "execution_count": 35,
   "metadata": {},
   "outputs": [
    {
     "data": {
      "text/plain": [
       "LGBMClassifier(boosting_type='gbdt', class_weight=None, colsample_bytree=1.0,\n",
       "               importance_type='split', learning_rate=0.1, max_depth=3,\n",
       "               min_child_samples=20, min_child_weight=0.001, min_split_gain=0.0,\n",
       "               n_estimators=100, n_jobs=-1, num_leaves=31, objective=None,\n",
       "               random_state=None, reg_alpha=0.0, reg_lambda=0.0, silent=True,\n",
       "               subsample=1.0, subsample_for_bin=200000, subsample_freq=0)"
      ]
     },
     "execution_count": 35,
     "metadata": {},
     "output_type": "execute_result"
    }
   ],
   "source": [
    "from lightgbm import LGBMClassifier\n",
    "\n",
    "# fit the model on the whole dataset\n",
    "lgb = LGBMClassifier(max_depth=3)\n",
    "lgb.fit(X, y)"
   ]
  },
  {
   "cell_type": "code",
   "execution_count": 36,
   "metadata": {},
   "outputs": [
    {
     "name": "stdout",
     "output_type": "stream",
     "text": [
      "Accuracy on training set: 0.866 and accuracy on test set: 0.850\n"
     ]
    }
   ],
   "source": [
    "print(\"Accuracy on training set: {:.3f}\".format(lgb.score(X_train, y_train)), end=\"\")\n",
    "print(\" and accuracy on test set: {:.3f}\".format(lgb.score(X_test, y_test)))"
   ]
  },
  {
   "cell_type": "code",
   "execution_count": 29,
   "metadata": {},
   "outputs": [],
   "source": [
    "def train_LGB(est, max_depth, lr):\n",
    "    lgb = LGBMClassifier(n_estimators= est, max_depth=max_depth, learning_rate=lr)\n",
    "    lgb_model = lgb.fit(X_train, y_train)\n",
    "    y_pred = lgb_model.predict(X_test)\n",
    "    precision, recall, fscore, support = score(y_test, y_pred, pos_label='Good', average='binary')\n",
    "    print('Est: {} / Depth: {} / LR: {} ---- Precision: {} / Recall: {} / Accuracy: {}'.format(\n",
    "        est, max_depth, lr, round(precision,3), round(recall,3), \n",
    "        round((y_pred == y_test).sum() / len(y_pred), 3)))"
   ]
  },
  {
   "cell_type": "code",
   "execution_count": 26,
   "metadata": {},
   "outputs": [
    {
     "name": "stdout",
     "output_type": "stream",
     "text": [
      "Est: 50 / Depth: 3 / LR: 0.001 ---- Precision: 0.673 / Recall: 1.0 / Accuracy: 0.673\n",
      "Est: 50 / Depth: 3 / LR: 0.005 ---- Precision: 0.673 / Recall: 1.0 / Accuracy: 0.673\n",
      "Est: 50 / Depth: 3 / LR: 0.01 ---- Precision: 0.673 / Recall: 1.0 / Accuracy: 0.673\n",
      "Est: 50 / Depth: 3 / LR: 0.05 ---- Precision: 0.716 / Recall: 0.926 / Accuracy: 0.703\n",
      "Est: 50 / Depth: 3 / LR: 0.1 ---- Precision: 0.745 / Recall: 0.896 / Accuracy: 0.723\n",
      "Est: 100 / Depth: 3 / LR: 0.001 ---- Precision: 0.673 / Recall: 1.0 / Accuracy: 0.673\n",
      "Est: 100 / Depth: 3 / LR: 0.005 ---- Precision: 0.673 / Recall: 1.0 / Accuracy: 0.673\n",
      "Est: 100 / Depth: 3 / LR: 0.01 ---- Precision: 0.686 / Recall: 0.995 / Accuracy: 0.69\n",
      "Est: 100 / Depth: 3 / LR: 0.05 ---- Precision: 0.742 / Recall: 0.896 / Accuracy: 0.72\n",
      "Est: 100 / Depth: 3 / LR: 0.1 ---- Precision: 0.764 / Recall: 0.881 / Accuracy: 0.737\n",
      "Est: 150 / Depth: 3 / LR: 0.001 ---- Precision: 0.673 / Recall: 1.0 / Accuracy: 0.673\n",
      "Est: 150 / Depth: 3 / LR: 0.005 ---- Precision: 0.676 / Recall: 1.0 / Accuracy: 0.677\n",
      "Est: 150 / Depth: 3 / LR: 0.01 ---- Precision: 0.691 / Recall: 0.965 / Accuracy: 0.687\n",
      "Est: 150 / Depth: 3 / LR: 0.05 ---- Precision: 0.763 / Recall: 0.891 / Accuracy: 0.74\n",
      "Est: 150 / Depth: 3 / LR: 0.1 ---- Precision: 0.773 / Recall: 0.861 / Accuracy: 0.737\n"
     ]
    }
   ],
   "source": [
    "for n_est in [50, 100, 150]:\n",
    "    for max_depth in [3]:\n",
    "        for lr in [0.001, 0.005, 0.01, .05, .1 ]:\n",
    "            train_LGB(n_est, max_depth, lr)"
   ]
  },
  {
   "cell_type": "code",
   "execution_count": 147,
   "metadata": {},
   "outputs": [
    {
     "data": {
      "text/html": [
       "<div>\n",
       "<style scoped>\n",
       "    .dataframe tbody tr th:only-of-type {\n",
       "        vertical-align: middle;\n",
       "    }\n",
       "\n",
       "    .dataframe tbody tr th {\n",
       "        vertical-align: top;\n",
       "    }\n",
       "\n",
       "    .dataframe thead th {\n",
       "        text-align: right;\n",
       "    }\n",
       "</style>\n",
       "<table border=\"1\" class=\"dataframe\">\n",
       "  <thead>\n",
       "    <tr style=\"text-align: right;\">\n",
       "      <th></th>\n",
       "      <th>Algorithm</th>\n",
       "      <th>Precision</th>\n",
       "      <th>Recall</th>\n",
       "      <th>Accuracy</th>\n",
       "    </tr>\n",
       "  </thead>\n",
       "  <tbody>\n",
       "    <tr>\n",
       "      <th>0</th>\n",
       "      <td>GB</td>\n",
       "      <td>0.739</td>\n",
       "      <td>0.896</td>\n",
       "      <td>0.717</td>\n",
       "    </tr>\n",
       "    <tr>\n",
       "      <th>1</th>\n",
       "      <td>XGB</td>\n",
       "      <td>0.767</td>\n",
       "      <td>0.861</td>\n",
       "      <td>0.730</td>\n",
       "    </tr>\n",
       "    <tr>\n",
       "      <th>2</th>\n",
       "      <td>CatBoost</td>\n",
       "      <td>0.753</td>\n",
       "      <td>0.906</td>\n",
       "      <td>0.737</td>\n",
       "    </tr>\n",
       "    <tr>\n",
       "      <th>3</th>\n",
       "      <td>LGBM</td>\n",
       "      <td>0.773</td>\n",
       "      <td>0.861</td>\n",
       "      <td>0.737</td>\n",
       "    </tr>\n",
       "  </tbody>\n",
       "</table>\n",
       "</div>"
      ],
      "text/plain": [
       "  Algorithm  Precision  Recall  Accuracy\n",
       "0        GB      0.739   0.896     0.717\n",
       "1       XGB      0.767   0.861     0.730\n",
       "2  CatBoost      0.753   0.906     0.737\n",
       "3      LGBM      0.773   0.861     0.737"
      ]
     },
     "execution_count": 147,
     "metadata": {},
     "output_type": "execute_result"
    }
   ],
   "source": [
    "df_result.loc[3]= ['LGBM', 0.773,  0.861, 0.737]\n",
    "df_result"
   ]
  },
  {
   "cell_type": "code",
   "execution_count": null,
   "metadata": {},
   "outputs": [],
   "source": []
  },
  {
   "cell_type": "code",
   "execution_count": null,
   "metadata": {},
   "outputs": [],
   "source": []
  }
 ],
 "metadata": {
  "kernelspec": {
   "display_name": "Python 3",
   "language": "python",
   "name": "python3"
  },
  "language_info": {
   "codemirror_mode": {
    "name": "ipython",
    "version": 3
   },
   "file_extension": ".py",
   "mimetype": "text/x-python",
   "name": "python",
   "nbconvert_exporter": "python",
   "pygments_lexer": "ipython3",
   "version": "3.7.6"
  }
 },
 "nbformat": 4,
 "nbformat_minor": 4
}
